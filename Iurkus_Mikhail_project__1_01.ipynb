{
  "nbformat": 4,
  "nbformat_minor": 0,
  "metadata": {
    "colab": {
      "name": "Iurkus_Mikhail_project__1.01",
      "provenance": [],
      "collapsed_sections": [
        "ZA8tBb5AtB2r",
        "hl6YksAXpdp6",
        "V-fedJk0yyIp",
        "QvFKNBA5Xgda",
        "eZZiB4qXXlRL",
        "Y0pC7tw3kJO7",
        "6be3PrhWMvfE",
        "YQ6NYkbYkskb",
        "kDaK0zODlPct",
        "IVDavQ9LlZe3",
        "OQ_8gEfrlkHv",
        "M6cuTupJlvBV",
        "ZgFFSz-l2RfI",
        "K-T_T-a_uK9V",
        "051cRkZ1R72s",
        "3qD98GRlS4o1",
        "vlat0bKGUs4_",
        "iS6X-7kJ8FYz",
        "vOnq24AGw0F7",
        "xim14c6fw-_o",
        "vLfE2-qHMF1M",
        "bK0-78obroP3",
        "L9GVwrPZv9y9",
        "WlTM6knkebnH",
        "LZkxRICskI30",
        "544m_TkprnJc",
        "zrh3dD3uSCO-",
        "wZeXTi0PlS0F"
      ],
      "mount_file_id": "1fnME-5FI1HD_ngZXv2ziaJHpiguZgYAa",
      "authorship_tag": "ABX9TyNwNiYDnjbEYSuNlWgJhOFy",
      "include_colab_link": true
    },
    "kernelspec": {
      "name": "python3",
      "display_name": "Python 3"
    },
    "language_info": {
      "name": "python"
    }
  },
  "cells": [
    {
      "cell_type": "markdown",
      "metadata": {
        "id": "view-in-github",
        "colab_type": "text"
      },
      "source": [
        "<a href=\"https://colab.research.google.com/github/MikhailIurkus/yandex_practicum_project/blob/main/Iurkus_Mikhail_project__1_01.ipynb\" target=\"_parent\"><img src=\"https://colab.research.google.com/assets/colab-badge.svg\" alt=\"Open In Colab\"/></a>"
      ]
    },
    {
      "cell_type": "markdown",
      "source": [
        "## Описание проекта\n",
        "\n",
        "В вашем распоряжении данные сервиса Яндекс Недвижимость — архив объявлений о продаже квартир в Санкт-Петербурге и соседних населённых пунктах за несколько лет. Нужно научиться определять рыночную стоимость объектов недвижимости. Ваша задача — установить параметры. Это позволит построить автоматизированную систему: она отследит аномалии и мошенническую деятельность.\n",
        "\n",
        "По каждой квартире на продажу доступны два вида данных. Первые вписаны пользователем, вторые — получены автоматически на основе картографических данных. Например, расстояние до центра, аэропорта, ближайшего парка и водоёма."
      ],
      "metadata": {
        "id": "0XSTtl2SutmM"
      }
    },
    {
      "cell_type": "markdown",
      "source": [
        "## Описание данных\n",
        "\n",
        " - airports_nearest — расстояние до ближайшего аэропорта в метрах (м)\n",
        " - balcony — число балконов\n",
        " - ceiling_height — высота потолков (м)\n",
        " - cityCenters_nearest — расстояние до центра города (м)\n",
        " - days_exposition — сколько дней было размещено объявление (от публикации до снятия)\n",
        " - first_day_exposition — дата публикации\n",
        " - floor — этаж\n",
        " - floors_total — всего этажей в доме\n",
        " - is_apartment — апартаменты (булев тип)\n",
        " - kitchen_area — площадь кухни в квадратных метрах (м²)\n",
        " - last_price — цена на момент снятия с публикации\n",
        " - living_area — жилая площадь в квадратных метрах (м²)\n",
        " - locality_name — название населённого пункта\n",
        " - open_plan — свободная планировка (булев тип)\n",
        " - parks_around3000 — число парков в радиусе 3 км\n",
        " - parks_nearest — расстояние до ближайшего парка (м)\n",
        " - ponds_around3000 — число водоёмов в радиусе 3 км\n",
        " - ponds_nearest — расстояние до ближайшего водоёма (м)\n",
        " - rooms — число комнат\n",
        " - studio — квартира-студия (булев тип)\n",
        " - total_area — площадь квартиры в квадратных метрах (м²)\n",
        " - total_images — число фотографий квартиры в объявлении"
      ],
      "metadata": {
        "id": "fThgTTwpvPcv"
      }
    },
    {
      "cell_type": "markdown",
      "source": [
        "# Шаг 1. Откройте таблицу и изучите общую информацию о данных"
      ],
      "metadata": {
        "id": "ZA8tBb5AtB2r"
      }
    },
    {
      "cell_type": "markdown",
      "source": [
        ""
      ],
      "metadata": {
        "id": "xYd_w6XtuxvZ"
      }
    },
    {
      "cell_type": "code",
      "execution_count": null,
      "metadata": {
        "id": "zXWJN61MsyfD"
      },
      "outputs": [],
      "source": [
        "import pandas as pd\n",
        "import seaborn as sns\n",
        "import matplotlib.pyplot as plt\n",
        "import numpy as np"
      ]
    },
    {
      "cell_type": "code",
      "source": [
        "data = pd.read_csv('/content/drive/MyDrive/Colab Notebooks/data_sets/real_estate_data.csv')"
      ],
      "metadata": {
        "id": "lvQ5IOcNtH3T"
      },
      "execution_count": null,
      "outputs": []
    },
    {
      "cell_type": "markdown",
      "source": [
        "[Ссылка на таблицу](https://drive.google.com/file/d/11GQzBnZhH1USL5wWWhtH5I2-cEjjTpxW/view?usp=sharing)\n"
      ],
      "metadata": {
        "id": "o-tn0pbFhX26"
      }
    },
    {
      "cell_type": "code",
      "source": [
        "display(data.head(1))"
      ],
      "metadata": {
        "id": "PbofTfqIwkC3",
        "colab": {
          "base_uri": "https://localhost:8080/",
          "height": 144
        },
        "outputId": "2370188f-e209-40f1-bd4a-c1bea0d700cc"
      },
      "execution_count": null,
      "outputs": [
        {
          "output_type": "display_data",
          "data": {
            "text/plain": [
              "  total_images\\tlast_price\\ttotal_area\\tfirst_day_exposition\\trooms\\tceiling_height\\tfloors_total\\tliving_area\\tfloor\\tis_apartment\\tstudio\\topen_plan\\tkitchen_area\\tbalcony\\tlocality_name\\tairports_nearest\\tcityCenters_nearest\\tparks_around3000\\tparks_nearest\\tponds_around3000\\tponds_nearest\\tdays_exposition\n",
              "0  20\\t13000000.0\\t108.0\\t2019-03-07T00:00:00\\t3\\...                                                                                                                                                                                                                                                                  "
            ],
            "text/html": [
              "\n",
              "  <div id=\"df-84afdc09-68ad-4024-9e4c-54581d19ef1c\">\n",
              "    <div class=\"colab-df-container\">\n",
              "      <div>\n",
              "<style scoped>\n",
              "    .dataframe tbody tr th:only-of-type {\n",
              "        vertical-align: middle;\n",
              "    }\n",
              "\n",
              "    .dataframe tbody tr th {\n",
              "        vertical-align: top;\n",
              "    }\n",
              "\n",
              "    .dataframe thead th {\n",
              "        text-align: right;\n",
              "    }\n",
              "</style>\n",
              "<table border=\"1\" class=\"dataframe\">\n",
              "  <thead>\n",
              "    <tr style=\"text-align: right;\">\n",
              "      <th></th>\n",
              "      <th>total_images\\tlast_price\\ttotal_area\\tfirst_day_exposition\\trooms\\tceiling_height\\tfloors_total\\tliving_area\\tfloor\\tis_apartment\\tstudio\\topen_plan\\tkitchen_area\\tbalcony\\tlocality_name\\tairports_nearest\\tcityCenters_nearest\\tparks_around3000\\tparks_nearest\\tponds_around3000\\tponds_nearest\\tdays_exposition</th>\n",
              "    </tr>\n",
              "  </thead>\n",
              "  <tbody>\n",
              "    <tr>\n",
              "      <th>0</th>\n",
              "      <td>20\\t13000000.0\\t108.0\\t2019-03-07T00:00:00\\t3\\...</td>\n",
              "    </tr>\n",
              "  </tbody>\n",
              "</table>\n",
              "</div>\n",
              "      <button class=\"colab-df-convert\" onclick=\"convertToInteractive('df-84afdc09-68ad-4024-9e4c-54581d19ef1c')\"\n",
              "              title=\"Convert this dataframe to an interactive table.\"\n",
              "              style=\"display:none;\">\n",
              "        \n",
              "  <svg xmlns=\"http://www.w3.org/2000/svg\" height=\"24px\"viewBox=\"0 0 24 24\"\n",
              "       width=\"24px\">\n",
              "    <path d=\"M0 0h24v24H0V0z\" fill=\"none\"/>\n",
              "    <path d=\"M18.56 5.44l.94 2.06.94-2.06 2.06-.94-2.06-.94-.94-2.06-.94 2.06-2.06.94zm-11 1L8.5 8.5l.94-2.06 2.06-.94-2.06-.94L8.5 2.5l-.94 2.06-2.06.94zm10 10l.94 2.06.94-2.06 2.06-.94-2.06-.94-.94-2.06-.94 2.06-2.06.94z\"/><path d=\"M17.41 7.96l-1.37-1.37c-.4-.4-.92-.59-1.43-.59-.52 0-1.04.2-1.43.59L10.3 9.45l-7.72 7.72c-.78.78-.78 2.05 0 2.83L4 21.41c.39.39.9.59 1.41.59.51 0 1.02-.2 1.41-.59l7.78-7.78 2.81-2.81c.8-.78.8-2.07 0-2.86zM5.41 20L4 18.59l7.72-7.72 1.47 1.35L5.41 20z\"/>\n",
              "  </svg>\n",
              "      </button>\n",
              "      \n",
              "  <style>\n",
              "    .colab-df-container {\n",
              "      display:flex;\n",
              "      flex-wrap:wrap;\n",
              "      gap: 12px;\n",
              "    }\n",
              "\n",
              "    .colab-df-convert {\n",
              "      background-color: #E8F0FE;\n",
              "      border: none;\n",
              "      border-radius: 50%;\n",
              "      cursor: pointer;\n",
              "      display: none;\n",
              "      fill: #1967D2;\n",
              "      height: 32px;\n",
              "      padding: 0 0 0 0;\n",
              "      width: 32px;\n",
              "    }\n",
              "\n",
              "    .colab-df-convert:hover {\n",
              "      background-color: #E2EBFA;\n",
              "      box-shadow: 0px 1px 2px rgba(60, 64, 67, 0.3), 0px 1px 3px 1px rgba(60, 64, 67, 0.15);\n",
              "      fill: #174EA6;\n",
              "    }\n",
              "\n",
              "    [theme=dark] .colab-df-convert {\n",
              "      background-color: #3B4455;\n",
              "      fill: #D2E3FC;\n",
              "    }\n",
              "\n",
              "    [theme=dark] .colab-df-convert:hover {\n",
              "      background-color: #434B5C;\n",
              "      box-shadow: 0px 1px 3px 1px rgba(0, 0, 0, 0.15);\n",
              "      filter: drop-shadow(0px 1px 2px rgba(0, 0, 0, 0.3));\n",
              "      fill: #FFFFFF;\n",
              "    }\n",
              "  </style>\n",
              "\n",
              "      <script>\n",
              "        const buttonEl =\n",
              "          document.querySelector('#df-84afdc09-68ad-4024-9e4c-54581d19ef1c button.colab-df-convert');\n",
              "        buttonEl.style.display =\n",
              "          google.colab.kernel.accessAllowed ? 'block' : 'none';\n",
              "\n",
              "        async function convertToInteractive(key) {\n",
              "          const element = document.querySelector('#df-84afdc09-68ad-4024-9e4c-54581d19ef1c');\n",
              "          const dataTable =\n",
              "            await google.colab.kernel.invokeFunction('convertToInteractive',\n",
              "                                                     [key], {});\n",
              "          if (!dataTable) return;\n",
              "\n",
              "          const docLinkHtml = 'Like what you see? Visit the ' +\n",
              "            '<a target=\"_blank\" href=https://colab.research.google.com/notebooks/data_table.ipynb>data table notebook</a>'\n",
              "            + ' to learn more about interactive tables.';\n",
              "          element.innerHTML = '';\n",
              "          dataTable['output_type'] = 'display_data';\n",
              "          await google.colab.output.renderOutput(dataTable, element);\n",
              "          const docLink = document.createElement('div');\n",
              "          docLink.innerHTML = docLinkHtml;\n",
              "          element.appendChild(docLink);\n",
              "        }\n",
              "      </script>\n",
              "    </div>\n",
              "  </div>\n",
              "  "
            ]
          },
          "metadata": {}
        }
      ]
    },
    {
      "cell_type": "markdown",
      "source": [
        "все плохо. нужно читать файл с использованием разделитей"
      ],
      "metadata": {
        "id": "cFUN72xpxEui"
      }
    },
    {
      "cell_type": "code",
      "source": [
        "data = pd.read_csv('/content/drive/MyDrive/Colab Notebooks/data_sets/real_estate_data.csv', sep='\\t')\n",
        "display(data.head(1))"
      ],
      "metadata": {
        "id": "QxKIxL0nxRTQ",
        "colab": {
          "base_uri": "https://localhost:8080/",
          "height": 190
        },
        "outputId": "5b2d9432-162c-4d7c-cf40-c997e93ef9c3"
      },
      "execution_count": null,
      "outputs": [
        {
          "output_type": "display_data",
          "data": {
            "text/plain": [
              "   total_images  last_price  total_area first_day_exposition  rooms  \\\n",
              "0            20  13000000.0       108.0  2019-03-07T00:00:00      3   \n",
              "\n",
              "   ceiling_height  floors_total  living_area  floor is_apartment  ...  \\\n",
              "0             2.7          16.0         51.0      8          NaN  ...   \n",
              "\n",
              "   kitchen_area  balcony    locality_name  airports_nearest  \\\n",
              "0          25.0      NaN  Санкт-Петербург           18863.0   \n",
              "\n",
              "  cityCenters_nearest  parks_around3000  parks_nearest  ponds_around3000  \\\n",
              "0             16028.0               1.0          482.0               2.0   \n",
              "\n",
              "   ponds_nearest  days_exposition  \n",
              "0          755.0              NaN  \n",
              "\n",
              "[1 rows x 22 columns]"
            ],
            "text/html": [
              "\n",
              "  <div id=\"df-765e8051-7a18-43f5-945a-a0012c1fd6d6\">\n",
              "    <div class=\"colab-df-container\">\n",
              "      <div>\n",
              "<style scoped>\n",
              "    .dataframe tbody tr th:only-of-type {\n",
              "        vertical-align: middle;\n",
              "    }\n",
              "\n",
              "    .dataframe tbody tr th {\n",
              "        vertical-align: top;\n",
              "    }\n",
              "\n",
              "    .dataframe thead th {\n",
              "        text-align: right;\n",
              "    }\n",
              "</style>\n",
              "<table border=\"1\" class=\"dataframe\">\n",
              "  <thead>\n",
              "    <tr style=\"text-align: right;\">\n",
              "      <th></th>\n",
              "      <th>total_images</th>\n",
              "      <th>last_price</th>\n",
              "      <th>total_area</th>\n",
              "      <th>first_day_exposition</th>\n",
              "      <th>rooms</th>\n",
              "      <th>ceiling_height</th>\n",
              "      <th>floors_total</th>\n",
              "      <th>living_area</th>\n",
              "      <th>floor</th>\n",
              "      <th>is_apartment</th>\n",
              "      <th>...</th>\n",
              "      <th>kitchen_area</th>\n",
              "      <th>balcony</th>\n",
              "      <th>locality_name</th>\n",
              "      <th>airports_nearest</th>\n",
              "      <th>cityCenters_nearest</th>\n",
              "      <th>parks_around3000</th>\n",
              "      <th>parks_nearest</th>\n",
              "      <th>ponds_around3000</th>\n",
              "      <th>ponds_nearest</th>\n",
              "      <th>days_exposition</th>\n",
              "    </tr>\n",
              "  </thead>\n",
              "  <tbody>\n",
              "    <tr>\n",
              "      <th>0</th>\n",
              "      <td>20</td>\n",
              "      <td>13000000.0</td>\n",
              "      <td>108.0</td>\n",
              "      <td>2019-03-07T00:00:00</td>\n",
              "      <td>3</td>\n",
              "      <td>2.7</td>\n",
              "      <td>16.0</td>\n",
              "      <td>51.0</td>\n",
              "      <td>8</td>\n",
              "      <td>NaN</td>\n",
              "      <td>...</td>\n",
              "      <td>25.0</td>\n",
              "      <td>NaN</td>\n",
              "      <td>Санкт-Петербург</td>\n",
              "      <td>18863.0</td>\n",
              "      <td>16028.0</td>\n",
              "      <td>1.0</td>\n",
              "      <td>482.0</td>\n",
              "      <td>2.0</td>\n",
              "      <td>755.0</td>\n",
              "      <td>NaN</td>\n",
              "    </tr>\n",
              "  </tbody>\n",
              "</table>\n",
              "<p>1 rows × 22 columns</p>\n",
              "</div>\n",
              "      <button class=\"colab-df-convert\" onclick=\"convertToInteractive('df-765e8051-7a18-43f5-945a-a0012c1fd6d6')\"\n",
              "              title=\"Convert this dataframe to an interactive table.\"\n",
              "              style=\"display:none;\">\n",
              "        \n",
              "  <svg xmlns=\"http://www.w3.org/2000/svg\" height=\"24px\"viewBox=\"0 0 24 24\"\n",
              "       width=\"24px\">\n",
              "    <path d=\"M0 0h24v24H0V0z\" fill=\"none\"/>\n",
              "    <path d=\"M18.56 5.44l.94 2.06.94-2.06 2.06-.94-2.06-.94-.94-2.06-.94 2.06-2.06.94zm-11 1L8.5 8.5l.94-2.06 2.06-.94-2.06-.94L8.5 2.5l-.94 2.06-2.06.94zm10 10l.94 2.06.94-2.06 2.06-.94-2.06-.94-.94-2.06-.94 2.06-2.06.94z\"/><path d=\"M17.41 7.96l-1.37-1.37c-.4-.4-.92-.59-1.43-.59-.52 0-1.04.2-1.43.59L10.3 9.45l-7.72 7.72c-.78.78-.78 2.05 0 2.83L4 21.41c.39.39.9.59 1.41.59.51 0 1.02-.2 1.41-.59l7.78-7.78 2.81-2.81c.8-.78.8-2.07 0-2.86zM5.41 20L4 18.59l7.72-7.72 1.47 1.35L5.41 20z\"/>\n",
              "  </svg>\n",
              "      </button>\n",
              "      \n",
              "  <style>\n",
              "    .colab-df-container {\n",
              "      display:flex;\n",
              "      flex-wrap:wrap;\n",
              "      gap: 12px;\n",
              "    }\n",
              "\n",
              "    .colab-df-convert {\n",
              "      background-color: #E8F0FE;\n",
              "      border: none;\n",
              "      border-radius: 50%;\n",
              "      cursor: pointer;\n",
              "      display: none;\n",
              "      fill: #1967D2;\n",
              "      height: 32px;\n",
              "      padding: 0 0 0 0;\n",
              "      width: 32px;\n",
              "    }\n",
              "\n",
              "    .colab-df-convert:hover {\n",
              "      background-color: #E2EBFA;\n",
              "      box-shadow: 0px 1px 2px rgba(60, 64, 67, 0.3), 0px 1px 3px 1px rgba(60, 64, 67, 0.15);\n",
              "      fill: #174EA6;\n",
              "    }\n",
              "\n",
              "    [theme=dark] .colab-df-convert {\n",
              "      background-color: #3B4455;\n",
              "      fill: #D2E3FC;\n",
              "    }\n",
              "\n",
              "    [theme=dark] .colab-df-convert:hover {\n",
              "      background-color: #434B5C;\n",
              "      box-shadow: 0px 1px 3px 1px rgba(0, 0, 0, 0.15);\n",
              "      filter: drop-shadow(0px 1px 2px rgba(0, 0, 0, 0.3));\n",
              "      fill: #FFFFFF;\n",
              "    }\n",
              "  </style>\n",
              "\n",
              "      <script>\n",
              "        const buttonEl =\n",
              "          document.querySelector('#df-765e8051-7a18-43f5-945a-a0012c1fd6d6 button.colab-df-convert');\n",
              "        buttonEl.style.display =\n",
              "          google.colab.kernel.accessAllowed ? 'block' : 'none';\n",
              "\n",
              "        async function convertToInteractive(key) {\n",
              "          const element = document.querySelector('#df-765e8051-7a18-43f5-945a-a0012c1fd6d6');\n",
              "          const dataTable =\n",
              "            await google.colab.kernel.invokeFunction('convertToInteractive',\n",
              "                                                     [key], {});\n",
              "          if (!dataTable) return;\n",
              "\n",
              "          const docLinkHtml = 'Like what you see? Visit the ' +\n",
              "            '<a target=\"_blank\" href=https://colab.research.google.com/notebooks/data_table.ipynb>data table notebook</a>'\n",
              "            + ' to learn more about interactive tables.';\n",
              "          element.innerHTML = '';\n",
              "          dataTable['output_type'] = 'display_data';\n",
              "          await google.colab.output.renderOutput(dataTable, element);\n",
              "          const docLink = document.createElement('div');\n",
              "          docLink.innerHTML = docLinkHtml;\n",
              "          element.appendChild(docLink);\n",
              "        }\n",
              "      </script>\n",
              "    </div>\n",
              "  </div>\n",
              "  "
            ]
          },
          "metadata": {}
        }
      ]
    },
    {
      "cell_type": "markdown",
      "source": [
        "<div class=\"alert alert-info\">\n",
        "<b>Комментарий:</b>\n",
        "<br>так лучше. \n",
        "\n",
        "Исходный датасет я не буду трогать\n",
        "\n",
        "Создам датасет для работы\n",
        "\n",
        "</div>\n"
      ],
      "metadata": {
        "id": "ZIaKKb0myCBL"
      }
    },
    {
      "cell_type": "code",
      "source": [
        "df = data"
      ],
      "metadata": {
        "id": "BjO31IAPyRk7"
      },
      "execution_count": null,
      "outputs": []
    },
    {
      "cell_type": "markdown",
      "source": [
        "# Шаг 2.  Предобработка данных"
      ],
      "metadata": {
        "id": "rAyKQtLPyqjS"
      }
    },
    {
      "cell_type": "markdown",
      "source": [
        "## 0. Переименование столбцов"
      ],
      "metadata": {
        "id": "hl6YksAXpdp6"
      }
    },
    {
      "cell_type": "code",
      "source": [
        "print('Имена столбцов:')\n",
        "print()\n",
        "print(df.columns)\n",
        "\n",
        "df = df.rename(\n",
        "    columns={\n",
        "        'cityCenters_nearest': 'city_centers_nearest',\n",
        "        'parks_around3000': 'parks_around_3000',\n",
        "        'ponds_around3000': 'ponds_around_3000'\n",
        "    }\n",
        ")\n",
        "print()\n",
        "print('Переименованный вариант:')\n",
        "print()\n",
        "df.columns"
      ],
      "metadata": {
        "id": "lfak4flL5M1Z",
        "colab": {
          "base_uri": "https://localhost:8080/"
        },
        "outputId": "735cfd35-24f2-4102-b903-4e470ba3dca2"
      },
      "execution_count": null,
      "outputs": [
        {
          "output_type": "stream",
          "name": "stdout",
          "text": [
            "Имена столбцов:\n",
            "\n",
            "Index(['total_images', 'last_price', 'total_area', 'first_day_exposition',\n",
            "       'rooms', 'ceiling_height', 'floors_total', 'living_area', 'floor',\n",
            "       'is_apartment', 'studio', 'open_plan', 'kitchen_area', 'balcony',\n",
            "       'locality_name', 'airports_nearest', 'cityCenters_nearest',\n",
            "       'parks_around3000', 'parks_nearest', 'ponds_around3000',\n",
            "       'ponds_nearest', 'days_exposition'],\n",
            "      dtype='object')\n",
            "\n",
            "Переименованный вариант:\n",
            "\n"
          ]
        },
        {
          "output_type": "execute_result",
          "data": {
            "text/plain": [
              "Index(['total_images', 'last_price', 'total_area', 'first_day_exposition',\n",
              "       'rooms', 'ceiling_height', 'floors_total', 'living_area', 'floor',\n",
              "       'is_apartment', 'studio', 'open_plan', 'kitchen_area', 'balcony',\n",
              "       'locality_name', 'airports_nearest', 'city_centers_nearest',\n",
              "       'parks_around_3000', 'parks_nearest', 'ponds_around_3000',\n",
              "       'ponds_nearest', 'days_exposition'],\n",
              "      dtype='object')"
            ]
          },
          "metadata": {},
          "execution_count": 10
        }
      ]
    },
    {
      "cell_type": "markdown",
      "source": [
        "Добавлю в df столбец с унифицированными названиями"
      ],
      "metadata": {
        "id": "X8KvUaQko5Gp"
      }
    },
    {
      "cell_type": "code",
      "source": [
        "df['locality_name_unify'] = df['locality_name'].str.lower()\n",
        "df['locality_name_unify'] = df['locality_name_unify'].replace(['поселок ',\n",
        "                                                               'посёлок ',\n",
        "                                                               'деревня ',\n",
        "                                                               'городской ',\n",
        "                                                               'городского типа ',\n",
        "                                                               'коттеджный ',\n",
        "                                                               'садовое товарищество '], '', regex=True)\n",
        "#df['locality_name_unify'].unique()"
      ],
      "metadata": {
        "id": "DP-8PAZ2n3gv"
      },
      "execution_count": null,
      "outputs": []
    },
    {
      "cell_type": "markdown",
      "source": [
        "## 1. Определите и изучите пропущенные значения:\n",
        "- Для некоторых пропущенных значений можно предположить логичную замену. Например, если человек не указал число балконов — скорее всего, их нет. Такие пропуски правильно заменить на 0. Для других типов данных нет подходящего значения на замену. В этом случае правильно оставить эти значения пустыми. Отсутствие значения — тоже важный сигнал, который не нужно прятать.\n",
        "\n",
        " - Заполните пропуски, где это уместно. Опишите, почему вы решили заполнить пропуски именно в этих столбцах и как выбрали значения.\n",
        "\n",
        " - Укажите причины, которые могли привести к пропускам в данных."
      ],
      "metadata": {
        "id": "V-fedJk0yyIp"
      }
    },
    {
      "cell_type": "code",
      "source": [
        "print('Число пропусков в столбце с балконами до замены NaN:',df['balcony'].isna().sum())\n",
        "df['balcony'] = df['balcony'].fillna(0)\n",
        "print('Число пропусков в столбце с балконами после замены NaN:',df['balcony'].isna().sum())"
      ],
      "metadata": {
        "id": "fvF6An9fqhMM",
        "colab": {
          "base_uri": "https://localhost:8080/"
        },
        "outputId": "f6f3acbf-fe52-4d98-e946-05793aa53e45"
      },
      "execution_count": null,
      "outputs": [
        {
          "output_type": "stream",
          "name": "stdout",
          "text": [
            "Число пропусков в столбце с балконами до замены NaN: 11519\n",
            "Число пропусков в столбце с балконами после замены NaN: 0\n"
          ]
        }
      ]
    },
    {
      "cell_type": "markdown",
      "source": [
        "\n",
        "\n",
        "---\n",
        "\n",
        "\n",
        "- ceiling_height (высота потолков)\n",
        "- living_area (жилая площадь в квадратных метрах)\n",
        "\n",
        "есть пропущенные значения и значения, которые вызывают сомнения. \n",
        "\n",
        "Менять пока ничего буду, так пока не вижу какой-то закономерности\n",
        "\n",
        "\n",
        "---\n",
        "\n",
        "\n",
        "- kitchen_area (площадь кухни в квадратных метрах)\n",
        "\n",
        "есть пропуски и значения, которые вызывают сомнения\n",
        "все квартиры с указанными площадьми кухонь не имеют свободной планировки\n",
        "sns.scatterplot(data=df, x='open_plan', y='kitchen_area')\n",
        "\n",
        "\n",
        "---\n",
        "\n",
        "\n",
        "- locality_name (название населённого пункта)\n",
        "\n",
        "тут с пропусками ничего не сделать.\n",
        "\n",
        "\n",
        "---\n",
        "\n",
        "\n",
        "- days_exposition (сколько дней было размещено объявление)\n",
        "\n",
        "В этом столбце пропуски буду интерпритировать как обозначение того, объявление еще актуально. \n",
        "\n",
        "\n",
        "---\n",
        "\n",
        "\n",
        "Пропуски в столбцах хранящие сведения с расстоянием до разных объектов предлагаю не трогать. "
      ],
      "metadata": {
        "id": "akMHE2gNVvw9"
      }
    },
    {
      "cell_type": "markdown",
      "source": [
        "### Дубликаты"
      ],
      "metadata": {
        "id": "xjd38_TM6QFG"
      }
    },
    {
      "cell_type": "code",
      "source": [
        "print('Количество дубликатов:', df.duplicated().sum())"
      ],
      "metadata": {
        "id": "jgDRcVAe6To3",
        "colab": {
          "base_uri": "https://localhost:8080/"
        },
        "outputId": "37b5c655-dcc0-4917-c33e-b2b517962979"
      },
      "execution_count": null,
      "outputs": [
        {
          "output_type": "stream",
          "name": "stdout",
          "text": [
            "Количество дубликатов: 0\n"
          ]
        }
      ]
    },
    {
      "cell_type": "markdown",
      "source": [
        "## 2. Приведите данные к нужным типам:\n",
        "\n",
        " - Поясните, в каких столбцах нужно изменить тип данных и почему."
      ],
      "metadata": {
        "id": "oL9leMD04Kmr"
      }
    },
    {
      "cell_type": "code",
      "source": [
        "# установим понятный вывод в отображении данных '%.2f' - две точки после запятой\n",
        "pd.set_option('display.float_format', lambda x: '%.2f' % x) "
      ],
      "metadata": {
        "id": "eCVl0vnurR6C"
      },
      "execution_count": null,
      "outputs": []
    },
    {
      "cell_type": "code",
      "source": [
        "df.info()"
      ],
      "metadata": {
        "id": "rg9vRRWqpx2u",
        "colab": {
          "base_uri": "https://localhost:8080/"
        },
        "outputId": "1f8bf6cd-bf9f-4fc9-ffab-c2409f1e2097"
      },
      "execution_count": null,
      "outputs": [
        {
          "output_type": "stream",
          "name": "stdout",
          "text": [
            "<class 'pandas.core.frame.DataFrame'>\n",
            "RangeIndex: 23699 entries, 0 to 23698\n",
            "Data columns (total 23 columns):\n",
            " #   Column                Non-Null Count  Dtype  \n",
            "---  ------                --------------  -----  \n",
            " 0   total_images          23699 non-null  int64  \n",
            " 1   last_price            23699 non-null  float64\n",
            " 2   total_area            23699 non-null  float64\n",
            " 3   first_day_exposition  23699 non-null  object \n",
            " 4   rooms                 23699 non-null  int64  \n",
            " 5   ceiling_height        14504 non-null  float64\n",
            " 6   floors_total          23613 non-null  float64\n",
            " 7   living_area           21796 non-null  float64\n",
            " 8   floor                 23699 non-null  int64  \n",
            " 9   is_apartment          2775 non-null   object \n",
            " 10  studio                23699 non-null  bool   \n",
            " 11  open_plan             23699 non-null  bool   \n",
            " 12  kitchen_area          21421 non-null  float64\n",
            " 13  balcony               23699 non-null  float64\n",
            " 14  locality_name         23650 non-null  object \n",
            " 15  airports_nearest      18157 non-null  float64\n",
            " 16  city_centers_nearest  18180 non-null  float64\n",
            " 17  parks_around_3000     18181 non-null  float64\n",
            " 18  parks_nearest         8079 non-null   float64\n",
            " 19  ponds_around_3000     18181 non-null  float64\n",
            " 20  ponds_nearest         9110 non-null   float64\n",
            " 21  days_exposition       20518 non-null  float64\n",
            " 22  locality_name_unify   23650 non-null  object \n",
            "dtypes: bool(2), float64(14), int64(3), object(4)\n",
            "memory usage: 3.8+ MB\n"
          ]
        }
      ]
    },
    {
      "cell_type": "markdown",
      "source": [
        " - is_apartment булев тип\n",
        " - floors_total в int\n",
        " - first_day_exposition в формат времени\n",
        " - balcony в int\n"
      ],
      "metadata": {
        "id": "2Uqiyzq8rk0O"
      }
    },
    {
      "cell_type": "code",
      "source": [
        "# меняю тип данных в is_apartment (апартаменты) на bool\n",
        "\n",
        "df['is_apartment'] = df['is_apartment'].astype('bool')"
      ],
      "metadata": {
        "id": "4TNj6QjO5N0B"
      },
      "execution_count": null,
      "outputs": []
    },
    {
      "cell_type": "markdown",
      "source": [
        "## 3. Замена пропущенных значений"
      ],
      "metadata": {
        "id": "jd0OLlpHXHMA"
      }
    },
    {
      "cell_type": "markdown",
      "source": [
        "### floors_total (всего этажей в доме)"
      ],
      "metadata": {
        "id": "QvFKNBA5Xgda"
      }
    },
    {
      "cell_type": "markdown",
      "source": [
        "Есть гипотеза: \n",
        "\n",
        "В столбце floors_total (этажность дома) строки с пропущенными значениями - это сигнал, того, что дом одноэтажный."
      ],
      "metadata": {
        "id": "73E6Fdds7cPn"
      }
    },
    {
      "cell_type": "code",
      "source": [
        "# # floors_total (всего этажей в доме)\n",
        "\n",
        "# print('Уникальные значения в столбце floors_total:', df['floors_total'].unique())\n",
        "# print()\n",
        "# print('Количество пропущенных значений:', df['floors_total'].isna().sum())\n",
        "# print()\n",
        "\n",
        "# # Можно менять тип данных в этом столбце, но есть 86 NaN\n",
        "# # не получается посмотреть строки с nan поэтому заменю их на 0 (такого значения этажности ранее не было)\n",
        "\n",
        "# df['floors_total'] = df['floors_total'].fillna('0').astype('int')\n",
        "\n",
        "# # замена пропущенных значений в этажности дома на этаж квартиры (просто попробовал реализовать)\n",
        "\n",
        "# #df['floors_total'] = df['floors_total'].fillna(df['floor']).astype('int')\n",
        "\n",
        "# print('Количество пропущенных значений после замены NaN:', df['floors_total'].isna().sum())\n",
        "# print()\n",
        "# df.query('floors_total == 0').head()"
      ],
      "metadata": {
        "id": "rfflIqlJsX41"
      },
      "execution_count": null,
      "outputs": []
    },
    {
      "cell_type": "markdown",
      "source": [
        "Гипотеза не подтвердилась.\n",
        "\n",
        "В столбце floor (этаж квартиры) разные значения ⇒ дома не одноэтажные"
      ],
      "metadata": {
        "id": "yUXMBdjM9K1_"
      }
    },
    {
      "cell_type": "markdown",
      "source": [
        "### first_day_exposition (дата публикации)"
      ],
      "metadata": {
        "id": "eZZiB4qXXlRL"
      }
    },
    {
      "cell_type": "code",
      "source": [
        "# first_day_exposition (дата публикации)\n",
        "\n",
        "df['first_day_exposition'] = pd.to_datetime(\n",
        "    df['first_day_exposition'],\n",
        "    format='%Y-%m-%dT%H:%M:%S'\n",
        "    )"
      ],
      "metadata": {
        "id": "0YDR-2N-9rY1"
      },
      "execution_count": null,
      "outputs": []
    },
    {
      "cell_type": "markdown",
      "source": [
        "### balcony (количество балконов)"
      ],
      "metadata": {
        "id": "Y0pC7tw3kJO7"
      }
    },
    {
      "cell_type": "code",
      "source": [
        "# balcony (количество балконов)\n",
        "\n",
        "df['balcony'] = df['balcony'].astype('int')"
      ],
      "metadata": {
        "id": "QnFDXu9VDTKm"
      },
      "execution_count": null,
      "outputs": []
    },
    {
      "cell_type": "markdown",
      "source": [
        "<div class=\"alert alert-info\">\n",
        "<b>Комментарий:</b>\n",
        "<br>Теперь меня устраивают типы данных в датафрейме.\n",
        "\n",
        "Хотел получить дату снятия объявления\n",
        "\n",
        "last_day_exposition (дата снятия объявления) = days_exposition (сколько дней было размещено объявление) + first_day_exposition (дата публикации)\n",
        "\n",
        "но не смог\n",
        "</div>"
      ],
      "metadata": {
        "id": "nHXN3lwyMRRQ"
      }
    },
    {
      "cell_type": "markdown",
      "source": [
        "### ceiling_height (высота потолков)\n",
        "\n",
        "попробую заменить высоту потолков опираясь я на количество этажей. \n",
        "\n",
        "Идея в том, что многие дома типовые и если совпадает сгруппировать дома по общей этажности, то и высота потолков в этой квартире одинаковая. \n",
        "\n",
        "Конечно, нужно помнить про то, что высота потолков зависит от ремонта и заполнение пропущенных значений медианой - это весьма сомнительный способ избавиться от пропусков."
      ],
      "metadata": {
        "id": "6be3PrhWMvfE"
      }
    },
    {
      "cell_type": "code",
      "source": [
        "print('Количество пропусков до:', df['ceiling_height'].isna().sum())\n",
        "\n",
        "df['ceiling_height'] = df['ceiling_height'].fillna(\n",
        "    df.groupby('floors_total')\n",
        "    ['ceiling_height']\n",
        "    .transform('median')\n",
        "    )\n",
        "\n",
        "print()\n",
        "print('Количество пропусков после:', df['ceiling_height'].isna().sum())\n",
        "#sns.scatterplot(data=df, x='ceiling_height', y='floors_total')"
      ],
      "metadata": {
        "id": "z2Fs_uS6KAhe",
        "colab": {
          "base_uri": "https://localhost:8080/"
        },
        "outputId": "a0ed5905-34e7-4f88-e619-6be4e47f7d89"
      },
      "execution_count": null,
      "outputs": [
        {
          "output_type": "stream",
          "name": "stdout",
          "text": [
            "Количество пропусков до: 9195\n",
            "\n",
            "Количество пропусков после: 78\n"
          ]
        }
      ]
    },
    {
      "cell_type": "markdown",
      "source": [
        "# Шаг 3. Посчитайте и добавьте в таблицу\n"
      ],
      "metadata": {
        "id": "YQ6NYkbYkskb"
      }
    },
    {
      "cell_type": "markdown",
      "source": [
        "### цена квадратного метра"
      ],
      "metadata": {
        "id": "kDaK0zODlPct"
      }
    },
    {
      "cell_type": "code",
      "source": [
        "df['price_square_meter'] = (df['last_price'] / df['total_area']).round(1)"
      ],
      "metadata": {
        "id": "n6FvWtYvlV1S"
      },
      "execution_count": null,
      "outputs": []
    },
    {
      "cell_type": "markdown",
      "source": [
        "### день недели, месяц и год публикации объявления"
      ],
      "metadata": {
        "id": "IVDavQ9LlZe3"
      }
    },
    {
      "cell_type": "code",
      "source": [
        "df['day_week'] = df['first_day_exposition'].dt.day_name()"
      ],
      "metadata": {
        "id": "UeRa3VcdliOj"
      },
      "execution_count": null,
      "outputs": []
    },
    {
      "cell_type": "code",
      "source": [
        "df['month'] = df['first_day_exposition'].dt.month_name()"
      ],
      "metadata": {
        "id": "oBkCcTjr4Hp4"
      },
      "execution_count": null,
      "outputs": []
    },
    {
      "cell_type": "code",
      "source": [
        "df['year'] = pd.DatetimeIndex(df['first_day_exposition']).year"
      ],
      "metadata": {
        "id": "DTd_apTl_5cc"
      },
      "execution_count": null,
      "outputs": []
    },
    {
      "cell_type": "markdown",
      "source": [
        "### этаж квартиры; варианты — первый, последний, другой"
      ],
      "metadata": {
        "id": "OQ_8gEfrlkHv"
      }
    },
    {
      "cell_type": "code",
      "source": [
        "def apartment_floor(row):\n",
        "  floors = row['floor']\n",
        "  maximum = row['floors_total']\n",
        "\n",
        "  if 1 == floors:\n",
        "    return 'первый'\n",
        "  \n",
        "  if floors == maximum:\n",
        "    return 'последний'\n",
        "\n",
        "  return 'другой'\n",
        "\n",
        "df['apartment_floor'] = df.apply(apartment_floor, axis=1)"
      ],
      "metadata": {
        "id": "r4TT9G_JESnA"
      },
      "execution_count": null,
      "outputs": []
    },
    {
      "cell_type": "markdown",
      "source": [
        "### соотношение жилой и общей площади, а также отношение площади кухни к общей."
      ],
      "metadata": {
        "id": "M6cuTupJlvBV"
      }
    },
    {
      "cell_type": "code",
      "source": [
        "# доля жилой площади\n",
        "\n",
        "df['share_living_space'] = (df['living_area'] / df['total_area']).round(1)\n",
        "\n",
        "# доля площади кухни\n",
        "\n",
        "df['share_kitchen_area'] = ( df['kitchen_area'] / df['total_area']).round(1)"
      ],
      "metadata": {
        "id": "PdoBAz7klz4h"
      },
      "execution_count": null,
      "outputs": []
    },
    {
      "cell_type": "markdown",
      "source": [
        "### Изменю порядок столбцов для удобства"
      ],
      "metadata": {
        "id": "ZgFFSz-l2RfI"
      }
    },
    {
      "cell_type": "code",
      "source": [
        "# columns_df = list(df.columns.values)\n",
        "# print(columns_df)\n",
        "\n",
        "df = df[\n",
        "        ['total_images',\n",
        " 'last_price',\n",
        " 'price_square_meter',\n",
        " 'total_area',\n",
        " 'living_area',\n",
        " 'kitchen_area',\n",
        " 'share_living_space',\n",
        " 'share_kitchen_area',\n",
        " 'first_day_exposition',\n",
        " 'day_week',\n",
        " 'month',\n",
        " 'year',\n",
        " 'days_exposition',\n",
        " 'rooms',\n",
        " 'ceiling_height',\n",
        " 'floors_total',\n",
        " 'floor',\n",
        " 'apartment_floor',\n",
        " 'is_apartment',\n",
        " 'studio',\n",
        " 'open_plan',\n",
        " 'balcony',\n",
        " 'locality_name',\n",
        " 'locality_name_unify',\n",
        " 'airports_nearest',\n",
        " 'city_centers_nearest',\n",
        " 'parks_around_3000',\n",
        " 'parks_nearest',\n",
        " 'ponds_around_3000',\n",
        " 'ponds_nearest']\n",
        " ]\n",
        "\n",
        "display(df.head(5))"
      ],
      "metadata": {
        "id": "2dr9ZkVV3_pv",
        "colab": {
          "base_uri": "https://localhost:8080/",
          "height": 382
        },
        "outputId": "a6ec457a-32fe-4a78-b211-741d8f552c56"
      },
      "execution_count": null,
      "outputs": [
        {
          "output_type": "display_data",
          "data": {
            "text/plain": [
              "   total_images  last_price  price_square_meter  total_area  living_area  \\\n",
              "0            20 13000000.00           120370.40      108.00        51.00   \n",
              "1             7  3350000.00            82920.80       40.40        18.60   \n",
              "2            10  5196000.00            92785.70       56.00        34.30   \n",
              "3             0 64900000.00           408176.10      159.00          NaN   \n",
              "4             2 10000000.00           100000.00      100.00        32.00   \n",
              "\n",
              "   kitchen_area  share_living_space  share_kitchen_area first_day_exposition  \\\n",
              "0         25.00                0.50                0.20           2019-03-07   \n",
              "1         11.00                0.50                0.30           2018-12-04   \n",
              "2          8.30                0.60                0.10           2015-08-20   \n",
              "3           NaN                 NaN                 NaN           2015-07-24   \n",
              "4         41.00                0.30                0.40           2018-06-19   \n",
              "\n",
              "   day_week  ... open_plan  balcony    locality_name  locality_name_unify  \\\n",
              "0  Thursday  ...     False        0  Санкт-Петербург      санкт-петербург   \n",
              "1   Tuesday  ...     False        2   посёлок Шушары               шушары   \n",
              "2  Thursday  ...     False        0  Санкт-Петербург      санкт-петербург   \n",
              "3    Friday  ...     False        0  Санкт-Петербург      санкт-петербург   \n",
              "4   Tuesday  ...     False        0  Санкт-Петербург      санкт-петербург   \n",
              "\n",
              "   airports_nearest  city_centers_nearest  parks_around_3000 parks_nearest  \\\n",
              "0          18863.00              16028.00               1.00        482.00   \n",
              "1          12817.00              18603.00               0.00           NaN   \n",
              "2          21741.00              13933.00               1.00         90.00   \n",
              "3          28098.00               6800.00               2.00         84.00   \n",
              "4          31856.00               8098.00               2.00        112.00   \n",
              "\n",
              "   ponds_around_3000  ponds_nearest  \n",
              "0               2.00         755.00  \n",
              "1               0.00            NaN  \n",
              "2               2.00         574.00  \n",
              "3               3.00         234.00  \n",
              "4               1.00          48.00  \n",
              "\n",
              "[5 rows x 30 columns]"
            ],
            "text/html": [
              "\n",
              "  <div id=\"df-50878557-de9c-4db3-837d-0642b92ed473\">\n",
              "    <div class=\"colab-df-container\">\n",
              "      <div>\n",
              "<style scoped>\n",
              "    .dataframe tbody tr th:only-of-type {\n",
              "        vertical-align: middle;\n",
              "    }\n",
              "\n",
              "    .dataframe tbody tr th {\n",
              "        vertical-align: top;\n",
              "    }\n",
              "\n",
              "    .dataframe thead th {\n",
              "        text-align: right;\n",
              "    }\n",
              "</style>\n",
              "<table border=\"1\" class=\"dataframe\">\n",
              "  <thead>\n",
              "    <tr style=\"text-align: right;\">\n",
              "      <th></th>\n",
              "      <th>total_images</th>\n",
              "      <th>last_price</th>\n",
              "      <th>price_square_meter</th>\n",
              "      <th>total_area</th>\n",
              "      <th>living_area</th>\n",
              "      <th>kitchen_area</th>\n",
              "      <th>share_living_space</th>\n",
              "      <th>share_kitchen_area</th>\n",
              "      <th>first_day_exposition</th>\n",
              "      <th>day_week</th>\n",
              "      <th>...</th>\n",
              "      <th>open_plan</th>\n",
              "      <th>balcony</th>\n",
              "      <th>locality_name</th>\n",
              "      <th>locality_name_unify</th>\n",
              "      <th>airports_nearest</th>\n",
              "      <th>city_centers_nearest</th>\n",
              "      <th>parks_around_3000</th>\n",
              "      <th>parks_nearest</th>\n",
              "      <th>ponds_around_3000</th>\n",
              "      <th>ponds_nearest</th>\n",
              "    </tr>\n",
              "  </thead>\n",
              "  <tbody>\n",
              "    <tr>\n",
              "      <th>0</th>\n",
              "      <td>20</td>\n",
              "      <td>13000000.00</td>\n",
              "      <td>120370.40</td>\n",
              "      <td>108.00</td>\n",
              "      <td>51.00</td>\n",
              "      <td>25.00</td>\n",
              "      <td>0.50</td>\n",
              "      <td>0.20</td>\n",
              "      <td>2019-03-07</td>\n",
              "      <td>Thursday</td>\n",
              "      <td>...</td>\n",
              "      <td>False</td>\n",
              "      <td>0</td>\n",
              "      <td>Санкт-Петербург</td>\n",
              "      <td>санкт-петербург</td>\n",
              "      <td>18863.00</td>\n",
              "      <td>16028.00</td>\n",
              "      <td>1.00</td>\n",
              "      <td>482.00</td>\n",
              "      <td>2.00</td>\n",
              "      <td>755.00</td>\n",
              "    </tr>\n",
              "    <tr>\n",
              "      <th>1</th>\n",
              "      <td>7</td>\n",
              "      <td>3350000.00</td>\n",
              "      <td>82920.80</td>\n",
              "      <td>40.40</td>\n",
              "      <td>18.60</td>\n",
              "      <td>11.00</td>\n",
              "      <td>0.50</td>\n",
              "      <td>0.30</td>\n",
              "      <td>2018-12-04</td>\n",
              "      <td>Tuesday</td>\n",
              "      <td>...</td>\n",
              "      <td>False</td>\n",
              "      <td>2</td>\n",
              "      <td>посёлок Шушары</td>\n",
              "      <td>шушары</td>\n",
              "      <td>12817.00</td>\n",
              "      <td>18603.00</td>\n",
              "      <td>0.00</td>\n",
              "      <td>NaN</td>\n",
              "      <td>0.00</td>\n",
              "      <td>NaN</td>\n",
              "    </tr>\n",
              "    <tr>\n",
              "      <th>2</th>\n",
              "      <td>10</td>\n",
              "      <td>5196000.00</td>\n",
              "      <td>92785.70</td>\n",
              "      <td>56.00</td>\n",
              "      <td>34.30</td>\n",
              "      <td>8.30</td>\n",
              "      <td>0.60</td>\n",
              "      <td>0.10</td>\n",
              "      <td>2015-08-20</td>\n",
              "      <td>Thursday</td>\n",
              "      <td>...</td>\n",
              "      <td>False</td>\n",
              "      <td>0</td>\n",
              "      <td>Санкт-Петербург</td>\n",
              "      <td>санкт-петербург</td>\n",
              "      <td>21741.00</td>\n",
              "      <td>13933.00</td>\n",
              "      <td>1.00</td>\n",
              "      <td>90.00</td>\n",
              "      <td>2.00</td>\n",
              "      <td>574.00</td>\n",
              "    </tr>\n",
              "    <tr>\n",
              "      <th>3</th>\n",
              "      <td>0</td>\n",
              "      <td>64900000.00</td>\n",
              "      <td>408176.10</td>\n",
              "      <td>159.00</td>\n",
              "      <td>NaN</td>\n",
              "      <td>NaN</td>\n",
              "      <td>NaN</td>\n",
              "      <td>NaN</td>\n",
              "      <td>2015-07-24</td>\n",
              "      <td>Friday</td>\n",
              "      <td>...</td>\n",
              "      <td>False</td>\n",
              "      <td>0</td>\n",
              "      <td>Санкт-Петербург</td>\n",
              "      <td>санкт-петербург</td>\n",
              "      <td>28098.00</td>\n",
              "      <td>6800.00</td>\n",
              "      <td>2.00</td>\n",
              "      <td>84.00</td>\n",
              "      <td>3.00</td>\n",
              "      <td>234.00</td>\n",
              "    </tr>\n",
              "    <tr>\n",
              "      <th>4</th>\n",
              "      <td>2</td>\n",
              "      <td>10000000.00</td>\n",
              "      <td>100000.00</td>\n",
              "      <td>100.00</td>\n",
              "      <td>32.00</td>\n",
              "      <td>41.00</td>\n",
              "      <td>0.30</td>\n",
              "      <td>0.40</td>\n",
              "      <td>2018-06-19</td>\n",
              "      <td>Tuesday</td>\n",
              "      <td>...</td>\n",
              "      <td>False</td>\n",
              "      <td>0</td>\n",
              "      <td>Санкт-Петербург</td>\n",
              "      <td>санкт-петербург</td>\n",
              "      <td>31856.00</td>\n",
              "      <td>8098.00</td>\n",
              "      <td>2.00</td>\n",
              "      <td>112.00</td>\n",
              "      <td>1.00</td>\n",
              "      <td>48.00</td>\n",
              "    </tr>\n",
              "  </tbody>\n",
              "</table>\n",
              "<p>5 rows × 30 columns</p>\n",
              "</div>\n",
              "      <button class=\"colab-df-convert\" onclick=\"convertToInteractive('df-50878557-de9c-4db3-837d-0642b92ed473')\"\n",
              "              title=\"Convert this dataframe to an interactive table.\"\n",
              "              style=\"display:none;\">\n",
              "        \n",
              "  <svg xmlns=\"http://www.w3.org/2000/svg\" height=\"24px\"viewBox=\"0 0 24 24\"\n",
              "       width=\"24px\">\n",
              "    <path d=\"M0 0h24v24H0V0z\" fill=\"none\"/>\n",
              "    <path d=\"M18.56 5.44l.94 2.06.94-2.06 2.06-.94-2.06-.94-.94-2.06-.94 2.06-2.06.94zm-11 1L8.5 8.5l.94-2.06 2.06-.94-2.06-.94L8.5 2.5l-.94 2.06-2.06.94zm10 10l.94 2.06.94-2.06 2.06-.94-2.06-.94-.94-2.06-.94 2.06-2.06.94z\"/><path d=\"M17.41 7.96l-1.37-1.37c-.4-.4-.92-.59-1.43-.59-.52 0-1.04.2-1.43.59L10.3 9.45l-7.72 7.72c-.78.78-.78 2.05 0 2.83L4 21.41c.39.39.9.59 1.41.59.51 0 1.02-.2 1.41-.59l7.78-7.78 2.81-2.81c.8-.78.8-2.07 0-2.86zM5.41 20L4 18.59l7.72-7.72 1.47 1.35L5.41 20z\"/>\n",
              "  </svg>\n",
              "      </button>\n",
              "      \n",
              "  <style>\n",
              "    .colab-df-container {\n",
              "      display:flex;\n",
              "      flex-wrap:wrap;\n",
              "      gap: 12px;\n",
              "    }\n",
              "\n",
              "    .colab-df-convert {\n",
              "      background-color: #E8F0FE;\n",
              "      border: none;\n",
              "      border-radius: 50%;\n",
              "      cursor: pointer;\n",
              "      display: none;\n",
              "      fill: #1967D2;\n",
              "      height: 32px;\n",
              "      padding: 0 0 0 0;\n",
              "      width: 32px;\n",
              "    }\n",
              "\n",
              "    .colab-df-convert:hover {\n",
              "      background-color: #E2EBFA;\n",
              "      box-shadow: 0px 1px 2px rgba(60, 64, 67, 0.3), 0px 1px 3px 1px rgba(60, 64, 67, 0.15);\n",
              "      fill: #174EA6;\n",
              "    }\n",
              "\n",
              "    [theme=dark] .colab-df-convert {\n",
              "      background-color: #3B4455;\n",
              "      fill: #D2E3FC;\n",
              "    }\n",
              "\n",
              "    [theme=dark] .colab-df-convert:hover {\n",
              "      background-color: #434B5C;\n",
              "      box-shadow: 0px 1px 3px 1px rgba(0, 0, 0, 0.15);\n",
              "      filter: drop-shadow(0px 1px 2px rgba(0, 0, 0, 0.3));\n",
              "      fill: #FFFFFF;\n",
              "    }\n",
              "  </style>\n",
              "\n",
              "      <script>\n",
              "        const buttonEl =\n",
              "          document.querySelector('#df-50878557-de9c-4db3-837d-0642b92ed473 button.colab-df-convert');\n",
              "        buttonEl.style.display =\n",
              "          google.colab.kernel.accessAllowed ? 'block' : 'none';\n",
              "\n",
              "        async function convertToInteractive(key) {\n",
              "          const element = document.querySelector('#df-50878557-de9c-4db3-837d-0642b92ed473');\n",
              "          const dataTable =\n",
              "            await google.colab.kernel.invokeFunction('convertToInteractive',\n",
              "                                                     [key], {});\n",
              "          if (!dataTable) return;\n",
              "\n",
              "          const docLinkHtml = 'Like what you see? Visit the ' +\n",
              "            '<a target=\"_blank\" href=https://colab.research.google.com/notebooks/data_table.ipynb>data table notebook</a>'\n",
              "            + ' to learn more about interactive tables.';\n",
              "          element.innerHTML = '';\n",
              "          dataTable['output_type'] = 'display_data';\n",
              "          await google.colab.output.renderOutput(dataTable, element);\n",
              "          const docLink = document.createElement('div');\n",
              "          docLink.innerHTML = docLinkHtml;\n",
              "          element.appendChild(docLink);\n",
              "        }\n",
              "      </script>\n",
              "    </div>\n",
              "  </div>\n",
              "  "
            ]
          },
          "metadata": {}
        }
      ]
    },
    {
      "cell_type": "markdown",
      "source": [
        "# Шаг 4. Проведите исследовательский анализ данных и выполните инструкции"
      ],
      "metadata": {
        "id": "o-axlboGWvRv"
      }
    },
    {
      "cell_type": "markdown",
      "source": [
        "## Изучение параметров: площадь, цена, число комнат, высота потолков"
      ],
      "metadata": {
        "id": "Ps_0taPothW6"
      }
    },
    {
      "cell_type": "markdown",
      "source": [
        "### Площадь total_area"
      ],
      "metadata": {
        "id": "K-T_T-a_uK9V"
      }
    },
    {
      "cell_type": "code",
      "source": [
        "df['total_area'].hist(\n",
        "    range=(df['total_area'].min(), df['total_area'].max()),\n",
        "    bins=100,\n",
        "    figsize = (5,5)\n",
        "    )\n",
        "plt.title('Площадь квартир')"
      ],
      "metadata": {
        "id": "33hZHra3ticr",
        "colab": {
          "base_uri": "https://localhost:8080/",
          "height": 71
        },
        "outputId": "28b77ff6-6dbd-4b53-8f8d-e6d1821a7097"
      },
      "execution_count": null,
      "outputs": [
        {
          "output_type": "execute_result",
          "data": {
            "text/plain": [
              "Text(0.5, 1.0, 'Площадь квартир')"
            ]
          },
          "metadata": {},
          "execution_count": 28
        },
        {
          "output_type": "display_data",
          "data": {
            "text/plain": [
              "<Figure size 360x360 with 1 Axes>"
            ],
            "image/png": "[encoded data removed]"
          },
          "metadata": {
            "needs_background": "light"
          }
        }
      ]
    },
    {
      "cell_type": "markdown",
      "source": [
        "<div class=\"alert alert-info\">\n",
        "<b>Комментарий:</b>\n",
        "<br>посмотрю детальнее квартиры с диапазоном площади до 200 метров\n",
        "</div>"
      ],
      "metadata": {
        "id": "-RCmJYHdAdEa"
      }
    },
    {
      "cell_type": "code",
      "source": [
        "df['total_area'].hist(range=(df['total_area'].min(), 200), bins=3, figsize = (5,5))"
      ],
      "metadata": {
        "id": "yvlRJJeI4Tu1",
        "colab": {
          "base_uri": "https://localhost:8080/",
          "height": 71
        },
        "outputId": "fe565c00-b1d5-4589-929b-3675590c81b6"
      },
      "execution_count": null,
      "outputs": [
        {
          "output_type": "execute_result",
          "data": {
            "text/plain": [
              "<matplotlib.axes._subplots.AxesSubplot at 0x7ff58f8c7a50>"
            ]
          },
          "metadata": {},
          "execution_count": 29
        },
        {
          "output_type": "display_data",
          "data": {
            "text/plain": [
              "<Figure size 360x360 with 1 Axes>"
            ],
            "image/png": "[encoded data removed]"
          },
          "metadata": {
            "needs_background": "light"
          }
        }
      ]
    },
    {
      "cell_type": "markdown",
      "source": [
        "Вывод: \n",
        "- основная масса квартир имеет площадь до 140 квадратных метров. \n",
        "- больше всего квартир выставленных на продажу имеют площадь от 10 до 75 кв. метров"
      ],
      "metadata": {
        "id": "F1sl4CIPEMYJ"
      }
    },
    {
      "cell_type": "markdown",
      "source": [
        "### Цена last_price"
      ],
      "metadata": {
        "id": "lNYba9SYE-Jg"
      }
    },
    {
      "cell_type": "code",
      "source": [
        "df['last_price'].hist(\n",
        "    range=(df['last_price'].min(), df['last_price'].max()),\n",
        "    figsize = (5,5)\n",
        "    )\n",
        "plt.show()"
      ],
      "metadata": {
        "id": "JzcypTiJFQVq",
        "colab": {
          "base_uri": "https://localhost:8080/",
          "height": 333
        },
        "outputId": "20ca0c5c-d447-4e6e-d00c-0550110ba24d"
      },
      "execution_count": null,
      "outputs": [
        {
          "output_type": "display_data",
          "data": {
            "text/plain": [
              "<Figure size 360x360 with 1 Axes>"
            ],
            "image/png": "[encoded data removed]"
          },
          "metadata": {
            "needs_background": "light"
          }
        }
      ]
    },
    {
      "cell_type": "markdown",
      "source": [
        "Очень много околонулевых значений - это странно"
      ],
      "metadata": {
        "id": "YbPC7Z_EE7We"
      }
    },
    {
      "cell_type": "code",
      "source": [
        "df['last_price'].hist(\n",
        "    range=(df['last_price'].min(), 1000000),\n",
        "    figsize = (5,5)\n",
        "    )"
      ],
      "metadata": {
        "id": "QNJMblCMFpIK",
        "colab": {
          "base_uri": "https://localhost:8080/",
          "height": 350
        },
        "outputId": "31697aa0-3cb9-4857-a16b-9fdbf31b3488"
      },
      "execution_count": null,
      "outputs": [
        {
          "output_type": "execute_result",
          "data": {
            "text/plain": [
              "<matplotlib.axes._subplots.AxesSubplot at 0x7ff58f6fc950>"
            ]
          },
          "metadata": {},
          "execution_count": 31
        },
        {
          "output_type": "display_data",
          "data": {
            "text/plain": [
              "<Figure size 360x360 with 1 Axes>"
            ],
            "image/png": "[encoded data removed]"
          },
          "metadata": {
            "needs_background": "light"
          }
        }
      ]
    },
    {
      "cell_type": "code",
      "source": [
        "df['last_price'].hist(\n",
        "    range=(df['last_price'].min(), 200000),\n",
        "    figsize = (5,5)\n",
        "    )"
      ],
      "metadata": {
        "id": "gdAMNMOEFZOB",
        "colab": {
          "base_uri": "https://localhost:8080/",
          "height": 337
        },
        "outputId": "199d4619-fc1c-4764-8d50-0396e6677120"
      },
      "execution_count": null,
      "outputs": [
        {
          "output_type": "execute_result",
          "data": {
            "text/plain": [
              "<matplotlib.axes._subplots.AxesSubplot at 0x7ff58f6011d0>"
            ]
          },
          "metadata": {},
          "execution_count": 32
        },
        {
          "output_type": "display_data",
          "data": {
            "text/plain": [
              "<Figure size 360x360 with 1 Axes>"
            ],
            "image/png": "[encoded data removed]"
          },
          "metadata": {
            "needs_background": "light"
          }
        }
      ]
    },
    {
      "cell_type": "markdown",
      "source": [
        "одна квартиира имеет очень странную цену"
      ],
      "metadata": {
        "id": "sO1dz26MFkFY"
      }
    },
    {
      "cell_type": "code",
      "source": [
        "df.query('0 < last_price < 50000')"
      ],
      "metadata": {
        "id": "sirFzAGnFqYy",
        "colab": {
          "base_uri": "https://localhost:8080/",
          "height": 190
        },
        "outputId": "e026bf22-b5b5-4784-b360-0e2403749fa5"
      },
      "execution_count": null,
      "outputs": [
        {
          "output_type": "execute_result",
          "data": {
            "text/plain": [
              "      total_images  last_price  price_square_meter  total_area  living_area  \\\n",
              "8793             7    12190.00              111.80      109.00        32.00   \n",
              "\n",
              "      kitchen_area  share_living_space  share_kitchen_area  \\\n",
              "8793         40.50                0.30                0.40   \n",
              "\n",
              "     first_day_exposition   day_week  ... open_plan  balcony    locality_name  \\\n",
              "8793           2019-03-20  Wednesday  ...     False        0  Санкт-Петербург   \n",
              "\n",
              "      locality_name_unify  airports_nearest  city_centers_nearest  \\\n",
              "8793      санкт-петербург          36421.00               9176.00   \n",
              "\n",
              "      parks_around_3000 parks_nearest  ponds_around_3000  ponds_nearest  \n",
              "8793               1.00        805.00               0.00            NaN  \n",
              "\n",
              "[1 rows x 30 columns]"
            ],
            "text/html": [
              "\n",
              "  <div id=\"df-ad44fd04-7ab0-45b6-a6cc-d23a4ca9aa42\">\n",
              "    <div class=\"colab-df-container\">\n",
              "      <div>\n",
              "<style scoped>\n",
              "    .dataframe tbody tr th:only-of-type {\n",
              "        vertical-align: middle;\n",
              "    }\n",
              "\n",
              "    .dataframe tbody tr th {\n",
              "        vertical-align: top;\n",
              "    }\n",
              "\n",
              "    .dataframe thead th {\n",
              "        text-align: right;\n",
              "    }\n",
              "</style>\n",
              "<table border=\"1\" class=\"dataframe\">\n",
              "  <thead>\n",
              "    <tr style=\"text-align: right;\">\n",
              "      <th></th>\n",
              "      <th>total_images</th>\n",
              "      <th>last_price</th>\n",
              "      <th>price_square_meter</th>\n",
              "      <th>total_area</th>\n",
              "      <th>living_area</th>\n",
              "      <th>kitchen_area</th>\n",
              "      <th>share_living_space</th>\n",
              "      <th>share_kitchen_area</th>\n",
              "      <th>first_day_exposition</th>\n",
              "      <th>day_week</th>\n",
              "      <th>...</th>\n",
              "      <th>open_plan</th>\n",
              "      <th>balcony</th>\n",
              "      <th>locality_name</th>\n",
              "      <th>locality_name_unify</th>\n",
              "      <th>airports_nearest</th>\n",
              "      <th>city_centers_nearest</th>\n",
              "      <th>parks_around_3000</th>\n",
              "      <th>parks_nearest</th>\n",
              "      <th>ponds_around_3000</th>\n",
              "      <th>ponds_nearest</th>\n",
              "    </tr>\n",
              "  </thead>\n",
              "  <tbody>\n",
              "    <tr>\n",
              "      <th>8793</th>\n",
              "      <td>7</td>\n",
              "      <td>12190.00</td>\n",
              "      <td>111.80</td>\n",
              "      <td>109.00</td>\n",
              "      <td>32.00</td>\n",
              "      <td>40.50</td>\n",
              "      <td>0.30</td>\n",
              "      <td>0.40</td>\n",
              "      <td>2019-03-20</td>\n",
              "      <td>Wednesday</td>\n",
              "      <td>...</td>\n",
              "      <td>False</td>\n",
              "      <td>0</td>\n",
              "      <td>Санкт-Петербург</td>\n",
              "      <td>санкт-петербург</td>\n",
              "      <td>36421.00</td>\n",
              "      <td>9176.00</td>\n",
              "      <td>1.00</td>\n",
              "      <td>805.00</td>\n",
              "      <td>0.00</td>\n",
              "      <td>NaN</td>\n",
              "    </tr>\n",
              "  </tbody>\n",
              "</table>\n",
              "<p>1 rows × 30 columns</p>\n",
              "</div>\n",
              "      <button class=\"colab-df-convert\" onclick=\"convertToInteractive('df-ad44fd04-7ab0-45b6-a6cc-d23a4ca9aa42')\"\n",
              "              title=\"Convert this dataframe to an interactive table.\"\n",
              "              style=\"display:none;\">\n",
              "        \n",
              "  <svg xmlns=\"http://www.w3.org/2000/svg\" height=\"24px\"viewBox=\"0 0 24 24\"\n",
              "       width=\"24px\">\n",
              "    <path d=\"M0 0h24v24H0V0z\" fill=\"none\"/>\n",
              "    <path d=\"M18.56 5.44l.94 2.06.94-2.06 2.06-.94-2.06-.94-.94-2.06-.94 2.06-2.06.94zm-11 1L8.5 8.5l.94-2.06 2.06-.94-2.06-.94L8.5 2.5l-.94 2.06-2.06.94zm10 10l.94 2.06.94-2.06 2.06-.94-2.06-.94-.94-2.06-.94 2.06-2.06.94z\"/><path d=\"M17.41 7.96l-1.37-1.37c-.4-.4-.92-.59-1.43-.59-.52 0-1.04.2-1.43.59L10.3 9.45l-7.72 7.72c-.78.78-.78 2.05 0 2.83L4 21.41c.39.39.9.59 1.41.59.51 0 1.02-.2 1.41-.59l7.78-7.78 2.81-2.81c.8-.78.8-2.07 0-2.86zM5.41 20L4 18.59l7.72-7.72 1.47 1.35L5.41 20z\"/>\n",
              "  </svg>\n",
              "      </button>\n",
              "      \n",
              "  <style>\n",
              "    .colab-df-container {\n",
              "      display:flex;\n",
              "      flex-wrap:wrap;\n",
              "      gap: 12px;\n",
              "    }\n",
              "\n",
              "    .colab-df-convert {\n",
              "      background-color: #E8F0FE;\n",
              "      border: none;\n",
              "      border-radius: 50%;\n",
              "      cursor: pointer;\n",
              "      display: none;\n",
              "      fill: #1967D2;\n",
              "      height: 32px;\n",
              "      padding: 0 0 0 0;\n",
              "      width: 32px;\n",
              "    }\n",
              "\n",
              "    .colab-df-convert:hover {\n",
              "      background-color: #E2EBFA;\n",
              "      box-shadow: 0px 1px 2px rgba(60, 64, 67, 0.3), 0px 1px 3px 1px rgba(60, 64, 67, 0.15);\n",
              "      fill: #174EA6;\n",
              "    }\n",
              "\n",
              "    [theme=dark] .colab-df-convert {\n",
              "      background-color: #3B4455;\n",
              "      fill: #D2E3FC;\n",
              "    }\n",
              "\n",
              "    [theme=dark] .colab-df-convert:hover {\n",
              "      background-color: #434B5C;\n",
              "      box-shadow: 0px 1px 3px 1px rgba(0, 0, 0, 0.15);\n",
              "      filter: drop-shadow(0px 1px 2px rgba(0, 0, 0, 0.3));\n",
              "      fill: #FFFFFF;\n",
              "    }\n",
              "  </style>\n",
              "\n",
              "      <script>\n",
              "        const buttonEl =\n",
              "          document.querySelector('#df-ad44fd04-7ab0-45b6-a6cc-d23a4ca9aa42 button.colab-df-convert');\n",
              "        buttonEl.style.display =\n",
              "          google.colab.kernel.accessAllowed ? 'block' : 'none';\n",
              "\n",
              "        async function convertToInteractive(key) {\n",
              "          const element = document.querySelector('#df-ad44fd04-7ab0-45b6-a6cc-d23a4ca9aa42');\n",
              "          const dataTable =\n",
              "            await google.colab.kernel.invokeFunction('convertToInteractive',\n",
              "                                                     [key], {});\n",
              "          if (!dataTable) return;\n",
              "\n",
              "          const docLinkHtml = 'Like what you see? Visit the ' +\n",
              "            '<a target=\"_blank\" href=https://colab.research.google.com/notebooks/data_table.ipynb>data table notebook</a>'\n",
              "            + ' to learn more about interactive tables.';\n",
              "          element.innerHTML = '';\n",
              "          dataTable['output_type'] = 'display_data';\n",
              "          await google.colab.output.renderOutput(dataTable, element);\n",
              "          const docLink = document.createElement('div');\n",
              "          docLink.innerHTML = docLinkHtml;\n",
              "          element.appendChild(docLink);\n",
              "        }\n",
              "      </script>\n",
              "    </div>\n",
              "  </div>\n",
              "  "
            ]
          },
          "metadata": {},
          "execution_count": 33
        }
      ]
    },
    {
      "cell_type": "markdown",
      "source": [
        "<div class=\"alert alert-info\">\n",
        "<b>Комментарий:</b>\n",
        "<br>Это аппартаменты, которые продали всего за 8 дней. За 12190 - не удивительно. \n",
        "Ценник в этом объявлении - ошибка, которая не похожа на что-то системное.\n",
        "\n",
        "В дальнейшем анализе я не буду брать во внимание эти аппартаменты.\n",
        "</div>"
      ],
      "metadata": {
        "id": "EBuUoWMHGdVh"
      }
    },
    {
      "cell_type": "code",
      "source": [
        "df['last_price'].hist(\n",
        "    range=(12200, 10000000),\n",
        "    figsize = (5,5),\n",
        "    bins=3\n",
        "    )"
      ],
      "metadata": {
        "id": "FOxB7YsKHspB",
        "colab": {
          "base_uri": "https://localhost:8080/",
          "height": 350
        },
        "outputId": "d1a76c10-bc25-4b1d-fc53-fc45a869fc29"
      },
      "execution_count": null,
      "outputs": [
        {
          "output_type": "execute_result",
          "data": {
            "text/plain": [
              "<matplotlib.axes._subplots.AxesSubplot at 0x7ff58f0d8450>"
            ]
          },
          "metadata": {},
          "execution_count": 34
        },
        {
          "output_type": "display_data",
          "data": {
            "text/plain": [
              "<Figure size 360x360 with 1 Axes>"
            ],
            "image/png": "[encoded data removed]"
          },
          "metadata": {
            "needs_background": "light"
          }
        }
      ]
    },
    {
      "cell_type": "markdown",
      "source": [
        "Продолжу работу с 3мя корзинами\n",
        "- больше всего недвижимости со стоимостью от 2,5 до 6 млн. рублей\n",
        "\n",
        "\n",
        "---\n",
        "\n",
        "\n",
        "- второе место по объему рынка занимает недвижимость с диапазоном цент от 350 тысяч до 6,5 млн. рублей\n",
        "\n",
        "  Этот сегмент скорее всего надо смотреть подробнее, так как слишком большой разбег по ценам. \n",
        "\n",
        "\n",
        "---\n",
        "\n",
        "\n",
        "- меньше всего недвижимости с ценой от 7 до 10 млн. рублей"
      ],
      "metadata": {
        "id": "KPALx97JJWAS"
      }
    },
    {
      "cell_type": "markdown",
      "source": [
        "### Число комнат rooms"
      ],
      "metadata": {
        "id": "051cRkZ1R72s"
      }
    },
    {
      "cell_type": "code",
      "source": [
        "plt.hist(\n",
        "    df['rooms'],\n",
        "    range=(df['rooms'].min(), df['rooms'].max()),\n",
        "    bins=10\n",
        "    )\n",
        "\n",
        "plt.title('Все комнаты')\n",
        "plt.xlabel('Число комнат')\n",
        "plt.ylabel('Количество квартир')\n",
        "plt.show()\n",
        "\n",
        "print('На гистограмме мы видим, что наибольшая количество квартир выставленных на продажу имеет от 1ой до 6 комнат')\n",
        "\n",
        "plt.hist(\n",
        "    df['rooms'],\n",
        "    range=(df['rooms'].min(),6),\n",
        "    bins=10\n",
        "    )\n",
        "\n",
        "plt.title('Квартиры с количеством комнат до 6ти')\n",
        "plt.xlabel('Число комнат')\n",
        "plt.ylabel('Количество квартир')\n",
        "plt.show()\n",
        "\n",
        "print('При болле детальном рассмотрении аналитик Миша увидел квартиры, которые не имеют комнат.\\nИми я займусь ниже.\\nА пока вернемся к строчкам с нормальными данными и посмотрим на однушки, двушки, трешки и царские четырехкомнатные квартиры')\n",
        "\n",
        "plt.hist(\n",
        "    df['rooms'],\n",
        "    range=(1,4),\n",
        "    )\n",
        "\n",
        "plt.title('Квартиры с количеством комнат от 1ой до 4х')\n",
        "plt.xlabel('Число комнат')\n",
        "plt.ylabel('Количество квартир')\n",
        "plt.show()\n",
        "\n",
        "print('больше всего однокомнатных квартир\\nпрактически столько же двухкомнатных\\nчуть меньше 6000 трехкомнтаных квартир\\nоколо 1000 объявлений о продаже 4х комнатных квартир')"
      ],
      "metadata": {
        "id": "bWUNiiqHUaK4",
        "colab": {
          "base_uri": "https://localhost:8080/",
          "height": 224
        },
        "outputId": "fb0b4372-cc0c-42bb-c342-8ccf6c55292a"
      },
      "execution_count": null,
      "outputs": [
        {
          "output_type": "display_data",
          "data": {
            "text/plain": [
              "<Figure size 432x288 with 1 Axes>"
            ],
            "image/png": "[encoded data removed]"
          },
          "metadata": {
            "needs_background": "light"
          }
        },
        {
          "output_type": "stream",
          "name": "stdout",
          "text": [
            "На гистограмме мы видим, что наибольшая количество квартир выставленных на продажу имеет от 1ой до 6 комнат\n"
          ]
        },
        {
          "output_type": "display_data",
          "data": {
            "text/plain": [
              "<Figure size 432x288 with 1 Axes>"
            ],
            "image/png": "[encoded data removed]"
          },
          "metadata": {
            "needs_background": "light"
          }
        },
        {
          "output_type": "stream",
          "name": "stdout",
          "text": [
            "При болле детальном рассмотрении аналитик Миша увидел квартиры, которые не имеют комнат.\n",
            "Ими я займусь ниже.\n",
            "А пока вернемся к строчкам с нормальными данными и посмотрим на однушки, двушки, трешки и царские четырехкомнатные квартиры\n"
          ]
        },
        {
          "output_type": "display_data",
          "data": {
            "text/plain": [
              "<Figure size 432x288 with 1 Axes>"
            ],
            "image/png": "[encoded data removed]"
          },
          "metadata": {
            "needs_background": "light"
          }
        },
        {
          "output_type": "stream",
          "name": "stdout",
          "text": [
            "больше всего однокомнатных квартир\n",
            "практически столько же двухкомнатных\n",
            "чуть меньше 6000 трехкомнтаных квартир\n",
            "около 1000 объявлений о продаже 4х комнатных квартир\n"
          ]
        }
      ]
    },
    {
      "cell_type": "markdown",
      "source": [
        "### Высота потолков ceiling_height"
      ],
      "metadata": {
        "id": "3qD98GRlS4o1"
      }
    },
    {
      "cell_type": "code",
      "source": [
        "plt.hist(\n",
        "    df['ceiling_height'],\n",
        "    range=(df['ceiling_height'].min(), df['ceiling_height'].max()),\n",
        "    bins=10\n",
        "    )\n",
        "\n",
        "plt.title('Высота потолков')\n",
        "plt.xlabel('Высота')\n",
        "plt.ylabel('Количество квартир')\n",
        "plt.show()\n",
        "print('На графике видно, что в мы очень хорошо поработали с пропусками в этом столбце.\\nПрактически все квартиры имеют высоту потолков до 10 метров')\n",
        "\n",
        "print()\n",
        "plt.hist(\n",
        "    df['ceiling_height'],\n",
        "    range=(df['ceiling_height'].min(), 5),\n",
        "    bins=10\n",
        "    )\n",
        "\n",
        "plt.title('Высота потолков')\n",
        "plt.xlabel('Высота')\n",
        "plt.ylabel('Количество квартир')\n",
        "plt.show()\n",
        "print('Большая часть квартир имеет высоту от 2,5 до 3 метров')"
      ],
      "metadata": {
        "id": "gq4za9ktTACr",
        "colab": {
          "base_uri": "https://localhost:8080/",
          "height": 139
        },
        "outputId": "c9635b8b-174c-45ad-cf0d-3dd60bc1bde4"
      },
      "execution_count": null,
      "outputs": [
        {
          "output_type": "display_data",
          "data": {
            "text/plain": [
              "<Figure size 432x288 with 1 Axes>"
            ],
            "image/png": "[encoded data removed]"
          },
          "metadata": {
            "needs_background": "light"
          }
        },
        {
          "output_type": "stream",
          "name": "stdout",
          "text": [
            "На графике видно, что в мы очень хорошо поработали с пропусками в этом столбце.\n",
            "Практически все квартиры имеют высоту потолков до 10 метров\n",
            "\n"
          ]
        },
        {
          "output_type": "display_data",
          "data": {
            "text/plain": [
              "<Figure size 432x288 with 1 Axes>"
            ],
            "image/png": "[encoded data removed]"
          },
          "metadata": {
            "needs_background": "light"
          }
        },
        {
          "output_type": "stream",
          "name": "stdout",
          "text": [
            "Большая часть квартир имеет высоту от 2,5 до 3 метров\n"
          ]
        }
      ]
    },
    {
      "cell_type": "markdown",
      "source": [
        "### Изучите время продажи квартиры days_exposition\n",
        "\n",
        "Постройте гистограмму.\n",
        "\n",
        "Посчитайте среднее и медиану.\n",
        "\n",
        "Опишите, сколько обычно занимает продажа.\n",
        "\n",
        "Когда можно считать, что продажи прошли очень быстро, а когда необычно долго?"
      ],
      "metadata": {
        "id": "vlat0bKGUs4_"
      }
    },
    {
      "cell_type": "code",
      "source": [
        "plt.hist(\n",
        "    df['days_exposition'],\n",
        "    range=(df['days_exposition'].min(), df['days_exposition'].max()),\n",
        "    bins=10\n",
        "    )\n",
        "\n",
        "plt.title('Время продажи квартир')\n",
        "plt.xlabel('Дни')\n",
        "plt.ylabel('Количество квартир')\n",
        "plt.show()\n",
        "\n",
        "print('Гистограмма выглядит вполне логично \\nБольшинство квартир продается в первый год')\n",
        "\n",
        "plt.hist(\n",
        "    df['days_exposition'],\n",
        "    range=(df['days_exposition'].min(), 365),\n",
        "    bins=10\n",
        "    )\n",
        "\n",
        "plt.title('Время продажи квартир за 1 год')\n",
        "plt.xlabel('Дни')\n",
        "plt.ylabel('Количество квартир')\n",
        "plt.show()\n",
        "print('При более детальном рассмотрении видно, что основная масса квартир \\nпродается за 150 дней \\nВызывают вопросы очень быстрые и медленные сделки')\n",
        "\n",
        "plt.hist(\n",
        "    df['days_exposition'],\n",
        "    range=(df['days_exposition'].min(), 14),\n",
        "    bins=10\n",
        "    )\n",
        "\n",
        "plt.title('Время продажи квартир за 14 дней')\n",
        "plt.xlabel('Дни')\n",
        "plt.ylabel('Количество квартир')\n",
        "plt.show()\n",
        "\n",
        "print('Околонулевые значения я не буду интерпретировать как аномалия,\\nтак как столбец days_exposition - срок размещения объявления \\nМы знаем, что покупка квартиры - это длительный процесс, \\nоднако, есть возможность того, что покупатель как-то договаривается с продавцом (вносит предоплату) \\nи продавец убирает объявление из агрегатора')\n",
        "print()\n",
        "\n",
        "plt.hist(\n",
        "    df['days_exposition'],\n",
        "    range=(730, df['days_exposition'].max()),\n",
        "    bins=10\n",
        "    )\n",
        "\n",
        "plt.title('Время продажи квартир за 14 дней')\n",
        "plt.xlabel('Дни')\n",
        "plt.ylabel('Количество квартир')\n",
        "plt.show()\n",
        "\n",
        "print('В среднем объявление исчезают через 180 дней с момента публикации \\nПримеро 50% объявлений снимают с публикации через 95 дней - это медиана для данного столбца')\n",
        "print()\n",
        "df['days_exposition'].describe()\n",
        "\n",
        "print('Причин для долгих продаж может быть много.\\nЗавышенная или слишком низкая стоимость, которая отталкивает покупателей,\\nплохой ремонт и остуствие инфроструктуры,\\nудаленность - любой из этих факторов будет влиять на скорость продажи квартиры')"
      ],
      "metadata": {
        "id": "32KgUv_mU13D",
        "colab": {
          "base_uri": "https://localhost:8080/",
          "height": 411
        },
        "outputId": "d24d50d6-ab91-4f56-ae65-2f86363bec93"
      },
      "execution_count": null,
      "outputs": [
        {
          "output_type": "display_data",
          "data": {
            "text/plain": [
              "<Figure size 432x288 with 1 Axes>"
            ],
            "image/png": "[encoded data removed]"
          },
          "metadata": {
            "needs_background": "light"
          }
        },
        {
          "output_type": "stream",
          "name": "stdout",
          "text": [
            "Гистограмма выглядит вполне логично \n",
            "Большинство квартир продается в первый год\n"
          ]
        },
        {
          "output_type": "display_data",
          "data": {
            "text/plain": [
              "<Figure size 432x288 with 1 Axes>"
            ],
            "image/png": "[encoded data removed]"
          },
          "metadata": {
            "needs_background": "light"
          }
        },
        {
          "output_type": "stream",
          "name": "stdout",
          "text": [
            "При более детальном рассмотрении видно, что основная масса квартир \n",
            "продается за 150 дней \n",
            "Вызывают вопросы очень быстрые и медленные сделки\n"
          ]
        },
        {
          "output_type": "display_data",
          "data": {
            "text/plain": [
              "<Figure size 432x288 with 1 Axes>"
            ],
            "image/png": "[encoded data removed]"
          },
          "metadata": {
            "needs_background": "light"
          }
        },
        {
          "output_type": "stream",
          "name": "stdout",
          "text": [
            "Околонулевые значения я не буду интерпретировать как аномалия,\n",
            "так как столбец days_exposition - срок размещения объявления \n",
            "Мы знаем, что покупка квартиры - это длительный процесс, \n",
            "однако, есть возможность того, что покупатель как-то договаривается с продавцом (вносит предоплату) \n",
            "и продавец убирает объявление из агрегатора\n",
            "\n"
          ]
        },
        {
          "output_type": "display_data",
          "data": {
            "text/plain": [
              "<Figure size 432x288 with 1 Axes>"
            ],
            "image/png": "[encoded data removed]"
          },
          "metadata": {
            "needs_background": "light"
          }
        },
        {
          "output_type": "stream",
          "name": "stdout",
          "text": [
            "В среднем объявление исчезают через 180 дней с момента публикации \n",
            "Примеро 50% объявлений снимают с публикации через 95 дней - это медиана для данного столбца\n",
            "\n",
            "Причин для долгих продаж может быть много.\n",
            "Завышенная или слишком низкая стоимость, которая отталкивает покупателей,\n",
            "плохой ремонт и остуствие инфроструктуры,\n",
            "удаленность - любой из этих факторов будет влиять на скорость продажи квартиры\n"
          ]
        }
      ]
    },
    {
      "cell_type": "markdown",
      "source": [
        "### Уберите редкие и выбивающиеся значения. Опишите, какие особенности обнаружили."
      ],
      "metadata": {
        "id": "iS6X-7kJ8FYz"
      }
    },
    {
      "cell_type": "code",
      "source": [
        "df.boxplot(figsize=(50,10))\n",
        "plt.title('Сводный боксплот. Вбросы до обработки')\n",
        "print('Вижу очень большой разброс значений в столбце цены квартиры')"
      ],
      "metadata": {
        "id": "SqvRaDSM8IHO",
        "colab": {
          "base_uri": "https://localhost:8080/",
          "height": 256
        },
        "outputId": "58391528-9400-4aaa-c152-8e1981aae980"
      },
      "execution_count": null,
      "outputs": [
        {
          "output_type": "stream",
          "name": "stderr",
          "text": [
            "/usr/local/lib/python3.7/dist-packages/matplotlib/cbook/__init__.py:1376: VisibleDeprecationWarning: Creating an ndarray from ragged nested sequences (which is a list-or-tuple of lists-or-tuples-or ndarrays with different lengths or shapes) is deprecated. If you meant to do this, you must specify 'dtype=object' when creating the ndarray.\n",
            "  X = np.atleast_1d(X.T if isinstance(X, np.ndarray) else np.asarray(X))\n"
          ]
        },
        {
          "output_type": "stream",
          "name": "stdout",
          "text": [
            "Вижу очень большой разброс значений в столбце цены квартиры\n"
          ]
        },
        {
          "output_type": "display_data",
          "data": {
            "text/plain": [
              "<Figure size 3600x720 with 1 Axes>"
            ],
            "image/png": "[encoded data removed]"
          },
          "metadata": {
            "needs_background": "light"
          }
        }
      ]
    },
    {
      "cell_type": "code",
      "source": [
        "df.boxplot('last_price', figsize=(5,20))"
      ],
      "metadata": {
        "id": "U6wUCd3XCF68",
        "colab": {
          "base_uri": "https://localhost:8080/",
          "height": 1000
        },
        "outputId": "fa099f5d-e820-47da-88c1-1557cfa53d0d"
      },
      "execution_count": null,
      "outputs": [
        {
          "output_type": "execute_result",
          "data": {
            "text/plain": [
              "<matplotlib.axes._subplots.AxesSubplot at 0x7ff58e111190>"
            ]
          },
          "metadata": {},
          "execution_count": 39
        },
        {
          "output_type": "display_data",
          "data": {
            "text/plain": [
              "<Figure size 360x1440 with 1 Axes>"
            ],
            "image/png": "[encoded data removed]"
          },
          "metadata": {
            "needs_background": "light"
          }
        }
      ]
    },
    {
      "cell_type": "code",
      "source": [
        "df['last_price'].describe()"
      ],
      "metadata": {
        "id": "HY2g85oNQ-re",
        "colab": {
          "base_uri": "https://localhost:8080/"
        },
        "outputId": "33e0ba29-dc9c-4602-8dad-b9e9537fcfc4"
      },
      "execution_count": null,
      "outputs": [
        {
          "output_type": "execute_result",
          "data": {
            "text/plain": [
              "count       23699.00\n",
              "mean      6541548.77\n",
              "std      10887013.27\n",
              "min         12190.00\n",
              "25%       3400000.00\n",
              "50%       4650000.00\n",
              "75%       6800000.00\n",
              "max     763000000.00\n",
              "Name: last_price, dtype: float64"
            ]
          },
          "metadata": {},
          "execution_count": 40
        }
      ]
    },
    {
      "cell_type": "markdown",
      "source": [
        "<div class=\"alert alert-info\">\n",
        "<b>Комментарий:</b>\n",
        "<br>Все, что лежит за q3(75%) буду считать выбросом. И их очень много\n",
        "</div>"
      ],
      "metadata": {
        "id": "r5yq9aKJPeo1"
      }
    },
    {
      "cell_type": "code",
      "source": [
        "# делаю вывод, что и в остальных боксплотах картинка +- будет такой же на общем яшике с ящиками \n",
        "df.boxplot('price_square_meter')\n",
        "plt.show()\n",
        "print()\n",
        "df.boxplot('rooms')\n",
        "plt.show()\n",
        "print()\n",
        "df.boxplot('days_exposition')\n",
        "plt.show()"
      ],
      "metadata": {
        "id": "0vaV21WgKM1K",
        "colab": {
          "base_uri": "https://localhost:8080/",
          "height": 808
        },
        "outputId": "d7463344-9990-4d0d-d2c6-26bac42d7025"
      },
      "execution_count": null,
      "outputs": [
        {
          "output_type": "display_data",
          "data": {
            "text/plain": [
              "<Figure size 432x288 with 1 Axes>"
            ],
            "image/png": "[encoded data removed]"
          },
          "metadata": {
            "needs_background": "light"
          }
        },
        {
          "output_type": "stream",
          "name": "stdout",
          "text": [
            "\n"
          ]
        },
        {
          "output_type": "display_data",
          "data": {
            "text/plain": [
              "<Figure size 432x288 with 1 Axes>"
            ],
            "image/png": "[encoded data removed]"
          },
          "metadata": {
            "needs_background": "light"
          }
        },
        {
          "output_type": "stream",
          "name": "stdout",
          "text": [
            "\n"
          ]
        },
        {
          "output_type": "display_data",
          "data": {
            "text/plain": [
              "<Figure size 432x288 with 1 Axes>"
            ],
            "image/png": "[encoded data removed]"
          },
          "metadata": {
            "needs_background": "light"
          }
        }
      ]
    },
    {
      "cell_type": "markdown",
      "source": [
        "<div class=\"alert alert-info\">\n",
        "<b>Комментарий:</b>\n",
        "<br>Все эти вбросы нужно отфильтровать\n",
        "</div>"
      ],
      "metadata": {
        "id": "AVxPDZTgnVSq"
      }
    },
    {
      "cell_type": "markdown",
      "source": [
        "### Убираем вбросы"
      ],
      "metadata": {
        "id": "Vgm_vWiCZ-sz"
      }
    },
    {
      "cell_type": "code",
      "source": [
        "# q1 = df['total_area'].quantile(.25) # записываю в переменную первый квантиль\n",
        "# q3 = df['total_area'].quantile(.75) # записываю в переменную третий квантиль\n",
        "\n",
        "# df_query = df.query('@q1 <= total_area <= @q3') # площадь\n",
        "\n",
        "# q1 = df['last_price'].quantile(.25)\n",
        "# q3 = df['last_price'].quantile(.75)\n",
        "\n",
        "# df_query = df.query('@q1 <= last_price <= @q3') # цена общая\n",
        "\n",
        "# q1 = df['price_square_meter'].quantile(.25)\n",
        "# q3 = df['price_square_meter'].quantile(.75)\n",
        "\n",
        "# df_query = df.query('@q1 <= price_square_meter <= @q3') # цена кв. метр\n",
        "\n",
        "# q1 = df['rooms'].quantile(.25)\n",
        "# q3 = df['rooms'].quantile(.75)\n",
        "\n",
        "# df_query = df.query('@q1 <= rooms <= @q3') # комнаты\n",
        "\n",
        "# q1 = df['ceiling_height'].quantile(.25)\n",
        "# q3 = df['ceiling_height'].quantile(.75)\n",
        "\n",
        "# df_query = df.query('@q1 <= ceiling_height <= @q3') # высота потолков\n",
        "\n",
        "# q1 = df['days_exposition'].quantile(.25)\n",
        "# q3 = df['days_exposition'].quantile(.75)\n",
        "\n",
        "# df_query = df.query('@q1 <= days_exposition <= @q3') # срок продажи"
      ],
      "metadata": {
        "id": "2_7BhHGDaIwj"
      },
      "execution_count": null,
      "outputs": []
    },
    {
      "cell_type": "code",
      "source": [
        "# print('Отфильтровано {0:.0%}'.format(\n",
        "#     1 - (df_query.count()[0] / df.count()[0])\n",
        "#     ), 'исходных данных')\n",
        "# print()\n",
        "# print('Осталось {0:.0%}'.format(\n",
        "#     1 - (1 - (df_query.count()[0] / df.count()[0])\n",
        "#     )), 'данных от исходного df')"
      ],
      "metadata": {
        "id": "-aPDz5rHm4M9"
      },
      "execution_count": null,
      "outputs": []
    },
    {
      "cell_type": "code",
      "source": [
        "# df_query = df.query(\n",
        "#     'total_area <= 200 & last_price <= 10000000 & rooms < 6 & 2 <= ceiling_height < 5'\n",
        "#     )\n",
        "\n",
        "# print('Отфильтровано {0:.0%}'.format(\n",
        "#     1 - (df_query.count()[0] / df.count()[0])\n",
        "#     ), 'исходных данных')\n",
        "# print()\n",
        "# print('Осталось {0:.0%}'.format(\n",
        "#     1 - (1 - (df_query.count()[0] / df.count()[0])\n",
        "#     )), 'данных от исходного df')"
      ],
      "metadata": {
        "id": "KIdMDD3pvffT"
      },
      "execution_count": null,
      "outputs": []
    },
    {
      "cell_type": "code",
      "source": [
        ""
      ],
      "metadata": {
        "colab": {
          "base_uri": "https://localhost:8080/"
        },
        "id": "ObLSL4ew7cto",
        "outputId": "3140d94c-452d-410a-bf02-0363e59f5259"
      },
      "execution_count": null,
      "outputs": [
        {
          "output_type": "execute_result",
          "data": {
            "text/plain": [
              "2.75"
            ]
          },
          "metadata": {},
          "execution_count": 55
        }
      ]
    },
    {
      "cell_type": "code",
      "source": [
        "q3 = df['total_area'].quantile(.75) # записываю в переменную третий квантиль\n",
        "q4 = df['last_price'].quantile(.75)\n",
        "q5 = df['rooms'].quantile(.75)\n",
        "q6 = df['ceiling_height'].quantile(.25)\n",
        "q7 = df['ceiling_height'].quantile(.75)"
      ],
      "metadata": {
        "id": "lvfUwbu47Njf"
      },
      "execution_count": null,
      "outputs": []
    },
    {
      "cell_type": "code",
      "source": [
        "df_query = df.query(\n",
        "    'total_area <= q3')  # & last_price <= q4 & rooms <= q5 & q6 <= ceiling_height <= q7'"
      ],
      "metadata": {
        "colab": {
          "base_uri": "https://localhost:8080/",
          "height": 548
        },
        "id": "GZZTKVxw4Itp",
        "outputId": "f3198d63-2612-424a-96db-e5ed0003b4b7"
      },
      "execution_count": null,
      "outputs": [
        {
          "output_type": "error",
          "ename": "UndefinedVariableError",
          "evalue": "ignored",
          "traceback": [
            "\u001b[0;31m---------------------------------------------------------------------------\u001b[0m",
            "\u001b[0;31mKeyError\u001b[0m                                  Traceback (most recent call last)",
            "\u001b[0;32m/usr/local/lib/python3.7/dist-packages/pandas/core/computation/scope.py\u001b[0m in \u001b[0;36mresolve\u001b[0;34m(self, key, is_local)\u001b[0m\n\u001b[1;32m    199\u001b[0m             \u001b[0;32mif\u001b[0m \u001b[0mself\u001b[0m\u001b[0;34m.\u001b[0m\u001b[0mhas_resolvers\u001b[0m\u001b[0;34m:\u001b[0m\u001b[0;34m\u001b[0m\u001b[0;34m\u001b[0m\u001b[0m\n\u001b[0;32m--> 200\u001b[0;31m                 \u001b[0;32mreturn\u001b[0m \u001b[0mself\u001b[0m\u001b[0;34m.\u001b[0m\u001b[0mresolvers\u001b[0m\u001b[0;34m[\u001b[0m\u001b[0mkey\u001b[0m\u001b[0;34m]\u001b[0m\u001b[0;34m\u001b[0m\u001b[0;34m\u001b[0m\u001b[0m\n\u001b[0m\u001b[1;32m    201\u001b[0m \u001b[0;34m\u001b[0m\u001b[0m\n",
            "\u001b[0;32m/usr/lib/python3.7/collections/__init__.py\u001b[0m in \u001b[0;36m__getitem__\u001b[0;34m(self, key)\u001b[0m\n\u001b[1;32m    915\u001b[0m                 \u001b[0;32mpass\u001b[0m\u001b[0;34m\u001b[0m\u001b[0;34m\u001b[0m\u001b[0m\n\u001b[0;32m--> 916\u001b[0;31m         \u001b[0;32mreturn\u001b[0m \u001b[0mself\u001b[0m\u001b[0;34m.\u001b[0m\u001b[0m__missing__\u001b[0m\u001b[0;34m(\u001b[0m\u001b[0mkey\u001b[0m\u001b[0;34m)\u001b[0m            \u001b[0;31m# support subclasses that define __missing__\u001b[0m\u001b[0;34m\u001b[0m\u001b[0;34m\u001b[0m\u001b[0m\n\u001b[0m\u001b[1;32m    917\u001b[0m \u001b[0;34m\u001b[0m\u001b[0m\n",
            "\u001b[0;32m/usr/lib/python3.7/collections/__init__.py\u001b[0m in \u001b[0;36m__missing__\u001b[0;34m(self, key)\u001b[0m\n\u001b[1;32m    907\u001b[0m     \u001b[0;32mdef\u001b[0m \u001b[0m__missing__\u001b[0m\u001b[0;34m(\u001b[0m\u001b[0mself\u001b[0m\u001b[0;34m,\u001b[0m \u001b[0mkey\u001b[0m\u001b[0;34m)\u001b[0m\u001b[0;34m:\u001b[0m\u001b[0;34m\u001b[0m\u001b[0;34m\u001b[0m\u001b[0m\n\u001b[0;32m--> 908\u001b[0;31m         \u001b[0;32mraise\u001b[0m \u001b[0mKeyError\u001b[0m\u001b[0;34m(\u001b[0m\u001b[0mkey\u001b[0m\u001b[0;34m)\u001b[0m\u001b[0;34m\u001b[0m\u001b[0;34m\u001b[0m\u001b[0m\n\u001b[0m\u001b[1;32m    909\u001b[0m \u001b[0;34m\u001b[0m\u001b[0m\n",
            "\u001b[0;31mKeyError\u001b[0m: 'q3'",
            "\nDuring handling of the above exception, another exception occurred:\n",
            "\u001b[0;31mKeyError\u001b[0m                                  Traceback (most recent call last)",
            "\u001b[0;32m/usr/local/lib/python3.7/dist-packages/pandas/core/computation/scope.py\u001b[0m in \u001b[0;36mresolve\u001b[0;34m(self, key, is_local)\u001b[0m\n\u001b[1;32m    210\u001b[0m                 \u001b[0;31m# e.g., df[df > 0]\u001b[0m\u001b[0;34m\u001b[0m\u001b[0;34m\u001b[0m\u001b[0;34m\u001b[0m\u001b[0m\n\u001b[0;32m--> 211\u001b[0;31m                 \u001b[0;32mreturn\u001b[0m \u001b[0mself\u001b[0m\u001b[0;34m.\u001b[0m\u001b[0mtemps\u001b[0m\u001b[0;34m[\u001b[0m\u001b[0mkey\u001b[0m\u001b[0;34m]\u001b[0m\u001b[0;34m\u001b[0m\u001b[0;34m\u001b[0m\u001b[0m\n\u001b[0m\u001b[1;32m    212\u001b[0m             \u001b[0;32mexcept\u001b[0m \u001b[0mKeyError\u001b[0m \u001b[0;32mas\u001b[0m \u001b[0merr\u001b[0m\u001b[0;34m:\u001b[0m\u001b[0;34m\u001b[0m\u001b[0;34m\u001b[0m\u001b[0m\n",
            "\u001b[0;31mKeyError\u001b[0m: 'q3'",
            "\nThe above exception was the direct cause of the following exception:\n",
            "\u001b[0;31mUndefinedVariableError\u001b[0m                    Traceback (most recent call last)",
            "\u001b[0;32m<ipython-input-59-dae4697d0e40>\u001b[0m in \u001b[0;36m<module>\u001b[0;34m()\u001b[0m\n\u001b[1;32m      1\u001b[0m df_query = df.query(\n\u001b[0;32m----> 2\u001b[0;31m     'total_area <= q3')  # & last_price <= q4 & rooms <= q5 & q6 <= ceiling_height <= q7'\n\u001b[0m",
            "\u001b[0;32m/usr/local/lib/python3.7/dist-packages/pandas/core/frame.py\u001b[0m in \u001b[0;36mquery\u001b[0;34m(self, expr, inplace, **kwargs)\u001b[0m\n\u001b[1;32m   4058\u001b[0m         \u001b[0mkwargs\u001b[0m\u001b[0;34m[\u001b[0m\u001b[0;34m\"level\"\u001b[0m\u001b[0;34m]\u001b[0m \u001b[0;34m=\u001b[0m \u001b[0mkwargs\u001b[0m\u001b[0;34m.\u001b[0m\u001b[0mpop\u001b[0m\u001b[0;34m(\u001b[0m\u001b[0;34m\"level\"\u001b[0m\u001b[0;34m,\u001b[0m \u001b[0;36m0\u001b[0m\u001b[0;34m)\u001b[0m \u001b[0;34m+\u001b[0m \u001b[0;36m1\u001b[0m\u001b[0;34m\u001b[0m\u001b[0;34m\u001b[0m\u001b[0m\n\u001b[1;32m   4059\u001b[0m         \u001b[0mkwargs\u001b[0m\u001b[0;34m[\u001b[0m\u001b[0;34m\"target\"\u001b[0m\u001b[0;34m]\u001b[0m \u001b[0;34m=\u001b[0m \u001b[0;32mNone\u001b[0m\u001b[0;34m\u001b[0m\u001b[0;34m\u001b[0m\u001b[0m\n\u001b[0;32m-> 4060\u001b[0;31m         \u001b[0mres\u001b[0m \u001b[0;34m=\u001b[0m \u001b[0mself\u001b[0m\u001b[0;34m.\u001b[0m\u001b[0meval\u001b[0m\u001b[0;34m(\u001b[0m\u001b[0mexpr\u001b[0m\u001b[0;34m,\u001b[0m \u001b[0;34m**\u001b[0m\u001b[0mkwargs\u001b[0m\u001b[0;34m)\u001b[0m\u001b[0;34m\u001b[0m\u001b[0;34m\u001b[0m\u001b[0m\n\u001b[0m\u001b[1;32m   4061\u001b[0m \u001b[0;34m\u001b[0m\u001b[0m\n\u001b[1;32m   4062\u001b[0m         \u001b[0;32mtry\u001b[0m\u001b[0;34m:\u001b[0m\u001b[0;34m\u001b[0m\u001b[0;34m\u001b[0m\u001b[0m\n",
            "\u001b[0;32m/usr/local/lib/python3.7/dist-packages/pandas/core/frame.py\u001b[0m in \u001b[0;36meval\u001b[0;34m(self, expr, inplace, **kwargs)\u001b[0m\n\u001b[1;32m   4189\u001b[0m         \u001b[0mkwargs\u001b[0m\u001b[0;34m[\u001b[0m\u001b[0;34m\"resolvers\"\u001b[0m\u001b[0;34m]\u001b[0m \u001b[0;34m=\u001b[0m \u001b[0mkwargs\u001b[0m\u001b[0;34m.\u001b[0m\u001b[0mget\u001b[0m\u001b[0;34m(\u001b[0m\u001b[0;34m\"resolvers\"\u001b[0m\u001b[0;34m,\u001b[0m \u001b[0;34m(\u001b[0m\u001b[0;34m)\u001b[0m\u001b[0;34m)\u001b[0m \u001b[0;34m+\u001b[0m \u001b[0mtuple\u001b[0m\u001b[0;34m(\u001b[0m\u001b[0mresolvers\u001b[0m\u001b[0;34m)\u001b[0m\u001b[0;34m\u001b[0m\u001b[0;34m\u001b[0m\u001b[0m\n\u001b[1;32m   4190\u001b[0m \u001b[0;34m\u001b[0m\u001b[0m\n\u001b[0;32m-> 4191\u001b[0;31m         \u001b[0;32mreturn\u001b[0m \u001b[0m_eval\u001b[0m\u001b[0;34m(\u001b[0m\u001b[0mexpr\u001b[0m\u001b[0;34m,\u001b[0m \u001b[0minplace\u001b[0m\u001b[0;34m=\u001b[0m\u001b[0minplace\u001b[0m\u001b[0;34m,\u001b[0m \u001b[0;34m**\u001b[0m\u001b[0mkwargs\u001b[0m\u001b[0;34m)\u001b[0m\u001b[0;34m\u001b[0m\u001b[0;34m\u001b[0m\u001b[0m\n\u001b[0m\u001b[1;32m   4192\u001b[0m \u001b[0;34m\u001b[0m\u001b[0m\n\u001b[1;32m   4193\u001b[0m     \u001b[0;32mdef\u001b[0m \u001b[0mselect_dtypes\u001b[0m\u001b[0;34m(\u001b[0m\u001b[0mself\u001b[0m\u001b[0;34m,\u001b[0m \u001b[0minclude\u001b[0m\u001b[0;34m=\u001b[0m\u001b[0;32mNone\u001b[0m\u001b[0;34m,\u001b[0m \u001b[0mexclude\u001b[0m\u001b[0;34m=\u001b[0m\u001b[0;32mNone\u001b[0m\u001b[0;34m)\u001b[0m \u001b[0;34m->\u001b[0m \u001b[0mDataFrame\u001b[0m\u001b[0;34m:\u001b[0m\u001b[0;34m\u001b[0m\u001b[0;34m\u001b[0m\u001b[0m\n",
            "\u001b[0;32m/usr/local/lib/python3.7/dist-packages/pandas/core/computation/eval.py\u001b[0m in \u001b[0;36meval\u001b[0;34m(expr, parser, engine, truediv, local_dict, global_dict, resolvers, level, target, inplace)\u001b[0m\n\u001b[1;32m    346\u001b[0m         )\n\u001b[1;32m    347\u001b[0m \u001b[0;34m\u001b[0m\u001b[0m\n\u001b[0;32m--> 348\u001b[0;31m         \u001b[0mparsed_expr\u001b[0m \u001b[0;34m=\u001b[0m \u001b[0mExpr\u001b[0m\u001b[0;34m(\u001b[0m\u001b[0mexpr\u001b[0m\u001b[0;34m,\u001b[0m \u001b[0mengine\u001b[0m\u001b[0;34m=\u001b[0m\u001b[0mengine\u001b[0m\u001b[0;34m,\u001b[0m \u001b[0mparser\u001b[0m\u001b[0;34m=\u001b[0m\u001b[0mparser\u001b[0m\u001b[0;34m,\u001b[0m \u001b[0menv\u001b[0m\u001b[0;34m=\u001b[0m\u001b[0menv\u001b[0m\u001b[0;34m)\u001b[0m\u001b[0;34m\u001b[0m\u001b[0;34m\u001b[0m\u001b[0m\n\u001b[0m\u001b[1;32m    349\u001b[0m \u001b[0;34m\u001b[0m\u001b[0m\n\u001b[1;32m    350\u001b[0m         \u001b[0;31m# construct the engine and evaluate the parsed expression\u001b[0m\u001b[0;34m\u001b[0m\u001b[0;34m\u001b[0m\u001b[0;34m\u001b[0m\u001b[0m\n",
            "\u001b[0;32m/usr/local/lib/python3.7/dist-packages/pandas/core/computation/expr.py\u001b[0m in \u001b[0;36m__init__\u001b[0;34m(self, expr, engine, parser, env, level)\u001b[0m\n\u001b[1;32m    804\u001b[0m         \u001b[0mself\u001b[0m\u001b[0;34m.\u001b[0m\u001b[0mparser\u001b[0m \u001b[0;34m=\u001b[0m \u001b[0mparser\u001b[0m\u001b[0;34m\u001b[0m\u001b[0;34m\u001b[0m\u001b[0m\n\u001b[1;32m    805\u001b[0m         \u001b[0mself\u001b[0m\u001b[0;34m.\u001b[0m\u001b[0m_visitor\u001b[0m \u001b[0;34m=\u001b[0m \u001b[0mPARSERS\u001b[0m\u001b[0;34m[\u001b[0m\u001b[0mparser\u001b[0m\u001b[0;34m]\u001b[0m\u001b[0;34m(\u001b[0m\u001b[0mself\u001b[0m\u001b[0;34m.\u001b[0m\u001b[0menv\u001b[0m\u001b[0;34m,\u001b[0m \u001b[0mself\u001b[0m\u001b[0;34m.\u001b[0m\u001b[0mengine\u001b[0m\u001b[0;34m,\u001b[0m \u001b[0mself\u001b[0m\u001b[0;34m.\u001b[0m\u001b[0mparser\u001b[0m\u001b[0;34m)\u001b[0m\u001b[0;34m\u001b[0m\u001b[0;34m\u001b[0m\u001b[0m\n\u001b[0;32m--> 806\u001b[0;31m         \u001b[0mself\u001b[0m\u001b[0;34m.\u001b[0m\u001b[0mterms\u001b[0m \u001b[0;34m=\u001b[0m \u001b[0mself\u001b[0m\u001b[0;34m.\u001b[0m\u001b[0mparse\u001b[0m\u001b[0;34m(\u001b[0m\u001b[0;34m)\u001b[0m\u001b[0;34m\u001b[0m\u001b[0;34m\u001b[0m\u001b[0m\n\u001b[0m\u001b[1;32m    807\u001b[0m \u001b[0;34m\u001b[0m\u001b[0m\n\u001b[1;32m    808\u001b[0m     \u001b[0;34m@\u001b[0m\u001b[0mproperty\u001b[0m\u001b[0;34m\u001b[0m\u001b[0;34m\u001b[0m\u001b[0m\n",
            "\u001b[0;32m/usr/local/lib/python3.7/dist-packages/pandas/core/computation/expr.py\u001b[0m in \u001b[0;36mparse\u001b[0;34m(self)\u001b[0m\n\u001b[1;32m    823\u001b[0m         \u001b[0mParse\u001b[0m \u001b[0man\u001b[0m \u001b[0mexpression\u001b[0m\u001b[0;34m.\u001b[0m\u001b[0;34m\u001b[0m\u001b[0;34m\u001b[0m\u001b[0m\n\u001b[1;32m    824\u001b[0m         \"\"\"\n\u001b[0;32m--> 825\u001b[0;31m         \u001b[0;32mreturn\u001b[0m \u001b[0mself\u001b[0m\u001b[0;34m.\u001b[0m\u001b[0m_visitor\u001b[0m\u001b[0;34m.\u001b[0m\u001b[0mvisit\u001b[0m\u001b[0;34m(\u001b[0m\u001b[0mself\u001b[0m\u001b[0;34m.\u001b[0m\u001b[0mexpr\u001b[0m\u001b[0;34m)\u001b[0m\u001b[0;34m\u001b[0m\u001b[0;34m\u001b[0m\u001b[0m\n\u001b[0m\u001b[1;32m    826\u001b[0m \u001b[0;34m\u001b[0m\u001b[0m\n\u001b[1;32m    827\u001b[0m     \u001b[0;34m@\u001b[0m\u001b[0mproperty\u001b[0m\u001b[0;34m\u001b[0m\u001b[0;34m\u001b[0m\u001b[0m\n",
            "\u001b[0;32m/usr/local/lib/python3.7/dist-packages/pandas/core/computation/expr.py\u001b[0m in \u001b[0;36mvisit\u001b[0;34m(self, node, **kwargs)\u001b[0m\n\u001b[1;32m    409\u001b[0m         \u001b[0mmethod\u001b[0m \u001b[0;34m=\u001b[0m \u001b[0;34m\"visit_\"\u001b[0m \u001b[0;34m+\u001b[0m \u001b[0mtype\u001b[0m\u001b[0;34m(\u001b[0m\u001b[0mnode\u001b[0m\u001b[0;34m)\u001b[0m\u001b[0;34m.\u001b[0m\u001b[0m__name__\u001b[0m\u001b[0;34m\u001b[0m\u001b[0;34m\u001b[0m\u001b[0m\n\u001b[1;32m    410\u001b[0m         \u001b[0mvisitor\u001b[0m \u001b[0;34m=\u001b[0m \u001b[0mgetattr\u001b[0m\u001b[0;34m(\u001b[0m\u001b[0mself\u001b[0m\u001b[0;34m,\u001b[0m \u001b[0mmethod\u001b[0m\u001b[0;34m)\u001b[0m\u001b[0;34m\u001b[0m\u001b[0;34m\u001b[0m\u001b[0m\n\u001b[0;32m--> 411\u001b[0;31m         \u001b[0;32mreturn\u001b[0m \u001b[0mvisitor\u001b[0m\u001b[0;34m(\u001b[0m\u001b[0mnode\u001b[0m\u001b[0;34m,\u001b[0m \u001b[0;34m**\u001b[0m\u001b[0mkwargs\u001b[0m\u001b[0;34m)\u001b[0m\u001b[0;34m\u001b[0m\u001b[0;34m\u001b[0m\u001b[0m\n\u001b[0m\u001b[1;32m    412\u001b[0m \u001b[0;34m\u001b[0m\u001b[0m\n\u001b[1;32m    413\u001b[0m     \u001b[0;32mdef\u001b[0m \u001b[0mvisit_Module\u001b[0m\u001b[0;34m(\u001b[0m\u001b[0mself\u001b[0m\u001b[0;34m,\u001b[0m \u001b[0mnode\u001b[0m\u001b[0;34m,\u001b[0m \u001b[0;34m**\u001b[0m\u001b[0mkwargs\u001b[0m\u001b[0;34m)\u001b[0m\u001b[0;34m:\u001b[0m\u001b[0;34m\u001b[0m\u001b[0;34m\u001b[0m\u001b[0m\n",
            "\u001b[0;32m/usr/local/lib/python3.7/dist-packages/pandas/core/computation/expr.py\u001b[0m in \u001b[0;36mvisit_Module\u001b[0;34m(self, node, **kwargs)\u001b[0m\n\u001b[1;32m    415\u001b[0m             \u001b[0;32mraise\u001b[0m \u001b[0mSyntaxError\u001b[0m\u001b[0;34m(\u001b[0m\u001b[0;34m\"only a single expression is allowed\"\u001b[0m\u001b[0;34m)\u001b[0m\u001b[0;34m\u001b[0m\u001b[0;34m\u001b[0m\u001b[0m\n\u001b[1;32m    416\u001b[0m         \u001b[0mexpr\u001b[0m \u001b[0;34m=\u001b[0m \u001b[0mnode\u001b[0m\u001b[0;34m.\u001b[0m\u001b[0mbody\u001b[0m\u001b[0;34m[\u001b[0m\u001b[0;36m0\u001b[0m\u001b[0;34m]\u001b[0m\u001b[0;34m\u001b[0m\u001b[0;34m\u001b[0m\u001b[0m\n\u001b[0;32m--> 417\u001b[0;31m         \u001b[0;32mreturn\u001b[0m \u001b[0mself\u001b[0m\u001b[0;34m.\u001b[0m\u001b[0mvisit\u001b[0m\u001b[0;34m(\u001b[0m\u001b[0mexpr\u001b[0m\u001b[0;34m,\u001b[0m \u001b[0;34m**\u001b[0m\u001b[0mkwargs\u001b[0m\u001b[0;34m)\u001b[0m\u001b[0;34m\u001b[0m\u001b[0;34m\u001b[0m\u001b[0m\n\u001b[0m\u001b[1;32m    418\u001b[0m \u001b[0;34m\u001b[0m\u001b[0m\n\u001b[1;32m    419\u001b[0m     \u001b[0;32mdef\u001b[0m \u001b[0mvisit_Expr\u001b[0m\u001b[0;34m(\u001b[0m\u001b[0mself\u001b[0m\u001b[0;34m,\u001b[0m \u001b[0mnode\u001b[0m\u001b[0;34m,\u001b[0m \u001b[0;34m**\u001b[0m\u001b[0mkwargs\u001b[0m\u001b[0;34m)\u001b[0m\u001b[0;34m:\u001b[0m\u001b[0;34m\u001b[0m\u001b[0;34m\u001b[0m\u001b[0m\n",
            "\u001b[0;32m/usr/local/lib/python3.7/dist-packages/pandas/core/computation/expr.py\u001b[0m in \u001b[0;36mvisit\u001b[0;34m(self, node, **kwargs)\u001b[0m\n\u001b[1;32m    409\u001b[0m         \u001b[0mmethod\u001b[0m \u001b[0;34m=\u001b[0m \u001b[0;34m\"visit_\"\u001b[0m \u001b[0;34m+\u001b[0m \u001b[0mtype\u001b[0m\u001b[0;34m(\u001b[0m\u001b[0mnode\u001b[0m\u001b[0;34m)\u001b[0m\u001b[0;34m.\u001b[0m\u001b[0m__name__\u001b[0m\u001b[0;34m\u001b[0m\u001b[0;34m\u001b[0m\u001b[0m\n\u001b[1;32m    410\u001b[0m         \u001b[0mvisitor\u001b[0m \u001b[0;34m=\u001b[0m \u001b[0mgetattr\u001b[0m\u001b[0;34m(\u001b[0m\u001b[0mself\u001b[0m\u001b[0;34m,\u001b[0m \u001b[0mmethod\u001b[0m\u001b[0;34m)\u001b[0m\u001b[0;34m\u001b[0m\u001b[0;34m\u001b[0m\u001b[0m\n\u001b[0;32m--> 411\u001b[0;31m         \u001b[0;32mreturn\u001b[0m \u001b[0mvisitor\u001b[0m\u001b[0;34m(\u001b[0m\u001b[0mnode\u001b[0m\u001b[0;34m,\u001b[0m \u001b[0;34m**\u001b[0m\u001b[0mkwargs\u001b[0m\u001b[0;34m)\u001b[0m\u001b[0;34m\u001b[0m\u001b[0;34m\u001b[0m\u001b[0m\n\u001b[0m\u001b[1;32m    412\u001b[0m \u001b[0;34m\u001b[0m\u001b[0m\n\u001b[1;32m    413\u001b[0m     \u001b[0;32mdef\u001b[0m \u001b[0mvisit_Module\u001b[0m\u001b[0;34m(\u001b[0m\u001b[0mself\u001b[0m\u001b[0;34m,\u001b[0m \u001b[0mnode\u001b[0m\u001b[0;34m,\u001b[0m \u001b[0;34m**\u001b[0m\u001b[0mkwargs\u001b[0m\u001b[0;34m)\u001b[0m\u001b[0;34m:\u001b[0m\u001b[0;34m\u001b[0m\u001b[0;34m\u001b[0m\u001b[0m\n",
            "\u001b[0;32m/usr/local/lib/python3.7/dist-packages/pandas/core/computation/expr.py\u001b[0m in \u001b[0;36mvisit_Expr\u001b[0;34m(self, node, **kwargs)\u001b[0m\n\u001b[1;32m    418\u001b[0m \u001b[0;34m\u001b[0m\u001b[0m\n\u001b[1;32m    419\u001b[0m     \u001b[0;32mdef\u001b[0m \u001b[0mvisit_Expr\u001b[0m\u001b[0;34m(\u001b[0m\u001b[0mself\u001b[0m\u001b[0;34m,\u001b[0m \u001b[0mnode\u001b[0m\u001b[0;34m,\u001b[0m \u001b[0;34m**\u001b[0m\u001b[0mkwargs\u001b[0m\u001b[0;34m)\u001b[0m\u001b[0;34m:\u001b[0m\u001b[0;34m\u001b[0m\u001b[0;34m\u001b[0m\u001b[0m\n\u001b[0;32m--> 420\u001b[0;31m         \u001b[0;32mreturn\u001b[0m \u001b[0mself\u001b[0m\u001b[0;34m.\u001b[0m\u001b[0mvisit\u001b[0m\u001b[0;34m(\u001b[0m\u001b[0mnode\u001b[0m\u001b[0;34m.\u001b[0m\u001b[0mvalue\u001b[0m\u001b[0;34m,\u001b[0m \u001b[0;34m**\u001b[0m\u001b[0mkwargs\u001b[0m\u001b[0;34m)\u001b[0m\u001b[0;34m\u001b[0m\u001b[0;34m\u001b[0m\u001b[0m\n\u001b[0m\u001b[1;32m    421\u001b[0m \u001b[0;34m\u001b[0m\u001b[0m\n\u001b[1;32m    422\u001b[0m     \u001b[0;32mdef\u001b[0m \u001b[0m_rewrite_membership_op\u001b[0m\u001b[0;34m(\u001b[0m\u001b[0mself\u001b[0m\u001b[0;34m,\u001b[0m \u001b[0mnode\u001b[0m\u001b[0;34m,\u001b[0m \u001b[0mleft\u001b[0m\u001b[0;34m,\u001b[0m \u001b[0mright\u001b[0m\u001b[0;34m)\u001b[0m\u001b[0;34m:\u001b[0m\u001b[0;34m\u001b[0m\u001b[0;34m\u001b[0m\u001b[0m\n",
            "\u001b[0;32m/usr/local/lib/python3.7/dist-packages/pandas/core/computation/expr.py\u001b[0m in \u001b[0;36mvisit\u001b[0;34m(self, node, **kwargs)\u001b[0m\n\u001b[1;32m    409\u001b[0m         \u001b[0mmethod\u001b[0m \u001b[0;34m=\u001b[0m \u001b[0;34m\"visit_\"\u001b[0m \u001b[0;34m+\u001b[0m \u001b[0mtype\u001b[0m\u001b[0;34m(\u001b[0m\u001b[0mnode\u001b[0m\u001b[0;34m)\u001b[0m\u001b[0;34m.\u001b[0m\u001b[0m__name__\u001b[0m\u001b[0;34m\u001b[0m\u001b[0;34m\u001b[0m\u001b[0m\n\u001b[1;32m    410\u001b[0m         \u001b[0mvisitor\u001b[0m \u001b[0;34m=\u001b[0m \u001b[0mgetattr\u001b[0m\u001b[0;34m(\u001b[0m\u001b[0mself\u001b[0m\u001b[0;34m,\u001b[0m \u001b[0mmethod\u001b[0m\u001b[0;34m)\u001b[0m\u001b[0;34m\u001b[0m\u001b[0;34m\u001b[0m\u001b[0m\n\u001b[0;32m--> 411\u001b[0;31m         \u001b[0;32mreturn\u001b[0m \u001b[0mvisitor\u001b[0m\u001b[0;34m(\u001b[0m\u001b[0mnode\u001b[0m\u001b[0;34m,\u001b[0m \u001b[0;34m**\u001b[0m\u001b[0mkwargs\u001b[0m\u001b[0;34m)\u001b[0m\u001b[0;34m\u001b[0m\u001b[0;34m\u001b[0m\u001b[0m\n\u001b[0m\u001b[1;32m    412\u001b[0m \u001b[0;34m\u001b[0m\u001b[0m\n\u001b[1;32m    413\u001b[0m     \u001b[0;32mdef\u001b[0m \u001b[0mvisit_Module\u001b[0m\u001b[0;34m(\u001b[0m\u001b[0mself\u001b[0m\u001b[0;34m,\u001b[0m \u001b[0mnode\u001b[0m\u001b[0;34m,\u001b[0m \u001b[0;34m**\u001b[0m\u001b[0mkwargs\u001b[0m\u001b[0;34m)\u001b[0m\u001b[0;34m:\u001b[0m\u001b[0;34m\u001b[0m\u001b[0;34m\u001b[0m\u001b[0m\n",
            "\u001b[0;32m/usr/local/lib/python3.7/dist-packages/pandas/core/computation/expr.py\u001b[0m in \u001b[0;36mvisit_Compare\u001b[0;34m(self, node, **kwargs)\u001b[0m\n\u001b[1;32m    716\u001b[0m             \u001b[0mop\u001b[0m \u001b[0;34m=\u001b[0m \u001b[0mself\u001b[0m\u001b[0;34m.\u001b[0m\u001b[0mtranslate_In\u001b[0m\u001b[0;34m(\u001b[0m\u001b[0mops\u001b[0m\u001b[0;34m[\u001b[0m\u001b[0;36m0\u001b[0m\u001b[0;34m]\u001b[0m\u001b[0;34m)\u001b[0m\u001b[0;34m\u001b[0m\u001b[0;34m\u001b[0m\u001b[0m\n\u001b[1;32m    717\u001b[0m             \u001b[0mbinop\u001b[0m \u001b[0;34m=\u001b[0m \u001b[0mast\u001b[0m\u001b[0;34m.\u001b[0m\u001b[0mBinOp\u001b[0m\u001b[0;34m(\u001b[0m\u001b[0mop\u001b[0m\u001b[0;34m=\u001b[0m\u001b[0mop\u001b[0m\u001b[0;34m,\u001b[0m \u001b[0mleft\u001b[0m\u001b[0;34m=\u001b[0m\u001b[0mnode\u001b[0m\u001b[0;34m.\u001b[0m\u001b[0mleft\u001b[0m\u001b[0;34m,\u001b[0m \u001b[0mright\u001b[0m\u001b[0;34m=\u001b[0m\u001b[0mcomps\u001b[0m\u001b[0;34m[\u001b[0m\u001b[0;36m0\u001b[0m\u001b[0;34m]\u001b[0m\u001b[0;34m)\u001b[0m\u001b[0;34m\u001b[0m\u001b[0;34m\u001b[0m\u001b[0m\n\u001b[0;32m--> 718\u001b[0;31m             \u001b[0;32mreturn\u001b[0m \u001b[0mself\u001b[0m\u001b[0;34m.\u001b[0m\u001b[0mvisit\u001b[0m\u001b[0;34m(\u001b[0m\u001b[0mbinop\u001b[0m\u001b[0;34m)\u001b[0m\u001b[0;34m\u001b[0m\u001b[0;34m\u001b[0m\u001b[0m\n\u001b[0m\u001b[1;32m    719\u001b[0m \u001b[0;34m\u001b[0m\u001b[0m\n\u001b[1;32m    720\u001b[0m         \u001b[0;31m# recursive case: we have a chained comparison, a CMP b CMP c, etc.\u001b[0m\u001b[0;34m\u001b[0m\u001b[0;34m\u001b[0m\u001b[0;34m\u001b[0m\u001b[0m\n",
            "\u001b[0;32m/usr/local/lib/python3.7/dist-packages/pandas/core/computation/expr.py\u001b[0m in \u001b[0;36mvisit\u001b[0;34m(self, node, **kwargs)\u001b[0m\n\u001b[1;32m    409\u001b[0m         \u001b[0mmethod\u001b[0m \u001b[0;34m=\u001b[0m \u001b[0;34m\"visit_\"\u001b[0m \u001b[0;34m+\u001b[0m \u001b[0mtype\u001b[0m\u001b[0;34m(\u001b[0m\u001b[0mnode\u001b[0m\u001b[0;34m)\u001b[0m\u001b[0;34m.\u001b[0m\u001b[0m__name__\u001b[0m\u001b[0;34m\u001b[0m\u001b[0;34m\u001b[0m\u001b[0m\n\u001b[1;32m    410\u001b[0m         \u001b[0mvisitor\u001b[0m \u001b[0;34m=\u001b[0m \u001b[0mgetattr\u001b[0m\u001b[0;34m(\u001b[0m\u001b[0mself\u001b[0m\u001b[0;34m,\u001b[0m \u001b[0mmethod\u001b[0m\u001b[0;34m)\u001b[0m\u001b[0;34m\u001b[0m\u001b[0;34m\u001b[0m\u001b[0m\n\u001b[0;32m--> 411\u001b[0;31m         \u001b[0;32mreturn\u001b[0m \u001b[0mvisitor\u001b[0m\u001b[0;34m(\u001b[0m\u001b[0mnode\u001b[0m\u001b[0;34m,\u001b[0m \u001b[0;34m**\u001b[0m\u001b[0mkwargs\u001b[0m\u001b[0;34m)\u001b[0m\u001b[0;34m\u001b[0m\u001b[0;34m\u001b[0m\u001b[0m\n\u001b[0m\u001b[1;32m    412\u001b[0m \u001b[0;34m\u001b[0m\u001b[0m\n\u001b[1;32m    413\u001b[0m     \u001b[0;32mdef\u001b[0m \u001b[0mvisit_Module\u001b[0m\u001b[0;34m(\u001b[0m\u001b[0mself\u001b[0m\u001b[0;34m,\u001b[0m \u001b[0mnode\u001b[0m\u001b[0;34m,\u001b[0m \u001b[0;34m**\u001b[0m\u001b[0mkwargs\u001b[0m\u001b[0;34m)\u001b[0m\u001b[0;34m:\u001b[0m\u001b[0;34m\u001b[0m\u001b[0;34m\u001b[0m\u001b[0m\n",
            "\u001b[0;32m/usr/local/lib/python3.7/dist-packages/pandas/core/computation/expr.py\u001b[0m in \u001b[0;36mvisit_BinOp\u001b[0;34m(self, node, **kwargs)\u001b[0m\n\u001b[1;32m    530\u001b[0m \u001b[0;34m\u001b[0m\u001b[0m\n\u001b[1;32m    531\u001b[0m     \u001b[0;32mdef\u001b[0m \u001b[0mvisit_BinOp\u001b[0m\u001b[0;34m(\u001b[0m\u001b[0mself\u001b[0m\u001b[0;34m,\u001b[0m \u001b[0mnode\u001b[0m\u001b[0;34m,\u001b[0m \u001b[0;34m**\u001b[0m\u001b[0mkwargs\u001b[0m\u001b[0;34m)\u001b[0m\u001b[0;34m:\u001b[0m\u001b[0;34m\u001b[0m\u001b[0;34m\u001b[0m\u001b[0m\n\u001b[0;32m--> 532\u001b[0;31m         \u001b[0mop\u001b[0m\u001b[0;34m,\u001b[0m \u001b[0mop_class\u001b[0m\u001b[0;34m,\u001b[0m \u001b[0mleft\u001b[0m\u001b[0;34m,\u001b[0m \u001b[0mright\u001b[0m \u001b[0;34m=\u001b[0m \u001b[0mself\u001b[0m\u001b[0;34m.\u001b[0m\u001b[0m_maybe_transform_eq_ne\u001b[0m\u001b[0;34m(\u001b[0m\u001b[0mnode\u001b[0m\u001b[0;34m)\u001b[0m\u001b[0;34m\u001b[0m\u001b[0;34m\u001b[0m\u001b[0m\n\u001b[0m\u001b[1;32m    533\u001b[0m         \u001b[0mleft\u001b[0m\u001b[0;34m,\u001b[0m \u001b[0mright\u001b[0m \u001b[0;34m=\u001b[0m \u001b[0mself\u001b[0m\u001b[0;34m.\u001b[0m\u001b[0m_maybe_downcast_constants\u001b[0m\u001b[0;34m(\u001b[0m\u001b[0mleft\u001b[0m\u001b[0;34m,\u001b[0m \u001b[0mright\u001b[0m\u001b[0;34m)\u001b[0m\u001b[0;34m\u001b[0m\u001b[0;34m\u001b[0m\u001b[0m\n\u001b[1;32m    534\u001b[0m         \u001b[0;32mreturn\u001b[0m \u001b[0mself\u001b[0m\u001b[0;34m.\u001b[0m\u001b[0m_maybe_evaluate_binop\u001b[0m\u001b[0;34m(\u001b[0m\u001b[0mop\u001b[0m\u001b[0;34m,\u001b[0m \u001b[0mop_class\u001b[0m\u001b[0;34m,\u001b[0m \u001b[0mleft\u001b[0m\u001b[0;34m,\u001b[0m \u001b[0mright\u001b[0m\u001b[0;34m)\u001b[0m\u001b[0;34m\u001b[0m\u001b[0;34m\u001b[0m\u001b[0m\n",
            "\u001b[0;32m/usr/local/lib/python3.7/dist-packages/pandas/core/computation/expr.py\u001b[0m in \u001b[0;36m_maybe_transform_eq_ne\u001b[0;34m(self, node, left, right)\u001b[0m\n\u001b[1;32m    452\u001b[0m             \u001b[0mleft\u001b[0m \u001b[0;34m=\u001b[0m \u001b[0mself\u001b[0m\u001b[0;34m.\u001b[0m\u001b[0mvisit\u001b[0m\u001b[0;34m(\u001b[0m\u001b[0mnode\u001b[0m\u001b[0;34m.\u001b[0m\u001b[0mleft\u001b[0m\u001b[0;34m,\u001b[0m \u001b[0mside\u001b[0m\u001b[0;34m=\u001b[0m\u001b[0;34m\"left\"\u001b[0m\u001b[0;34m)\u001b[0m\u001b[0;34m\u001b[0m\u001b[0;34m\u001b[0m\u001b[0m\n\u001b[1;32m    453\u001b[0m         \u001b[0;32mif\u001b[0m \u001b[0mright\u001b[0m \u001b[0;32mis\u001b[0m \u001b[0;32mNone\u001b[0m\u001b[0;34m:\u001b[0m\u001b[0;34m\u001b[0m\u001b[0;34m\u001b[0m\u001b[0m\n\u001b[0;32m--> 454\u001b[0;31m             \u001b[0mright\u001b[0m \u001b[0;34m=\u001b[0m \u001b[0mself\u001b[0m\u001b[0;34m.\u001b[0m\u001b[0mvisit\u001b[0m\u001b[0;34m(\u001b[0m\u001b[0mnode\u001b[0m\u001b[0;34m.\u001b[0m\u001b[0mright\u001b[0m\u001b[0;34m,\u001b[0m \u001b[0mside\u001b[0m\u001b[0;34m=\u001b[0m\u001b[0;34m\"right\"\u001b[0m\u001b[0;34m)\u001b[0m\u001b[0;34m\u001b[0m\u001b[0;34m\u001b[0m\u001b[0m\n\u001b[0m\u001b[1;32m    455\u001b[0m         \u001b[0mop\u001b[0m\u001b[0;34m,\u001b[0m \u001b[0mop_class\u001b[0m\u001b[0;34m,\u001b[0m \u001b[0mleft\u001b[0m\u001b[0;34m,\u001b[0m \u001b[0mright\u001b[0m \u001b[0;34m=\u001b[0m \u001b[0mself\u001b[0m\u001b[0;34m.\u001b[0m\u001b[0m_rewrite_membership_op\u001b[0m\u001b[0;34m(\u001b[0m\u001b[0mnode\u001b[0m\u001b[0;34m,\u001b[0m \u001b[0mleft\u001b[0m\u001b[0;34m,\u001b[0m \u001b[0mright\u001b[0m\u001b[0;34m)\u001b[0m\u001b[0;34m\u001b[0m\u001b[0;34m\u001b[0m\u001b[0m\n\u001b[1;32m    456\u001b[0m         \u001b[0;32mreturn\u001b[0m \u001b[0mop\u001b[0m\u001b[0;34m,\u001b[0m \u001b[0mop_class\u001b[0m\u001b[0;34m,\u001b[0m \u001b[0mleft\u001b[0m\u001b[0;34m,\u001b[0m \u001b[0mright\u001b[0m\u001b[0;34m\u001b[0m\u001b[0;34m\u001b[0m\u001b[0m\n",
            "\u001b[0;32m/usr/local/lib/python3.7/dist-packages/pandas/core/computation/expr.py\u001b[0m in \u001b[0;36mvisit\u001b[0;34m(self, node, **kwargs)\u001b[0m\n\u001b[1;32m    409\u001b[0m         \u001b[0mmethod\u001b[0m \u001b[0;34m=\u001b[0m \u001b[0;34m\"visit_\"\u001b[0m \u001b[0;34m+\u001b[0m \u001b[0mtype\u001b[0m\u001b[0;34m(\u001b[0m\u001b[0mnode\u001b[0m\u001b[0;34m)\u001b[0m\u001b[0;34m.\u001b[0m\u001b[0m__name__\u001b[0m\u001b[0;34m\u001b[0m\u001b[0;34m\u001b[0m\u001b[0m\n\u001b[1;32m    410\u001b[0m         \u001b[0mvisitor\u001b[0m \u001b[0;34m=\u001b[0m \u001b[0mgetattr\u001b[0m\u001b[0;34m(\u001b[0m\u001b[0mself\u001b[0m\u001b[0;34m,\u001b[0m \u001b[0mmethod\u001b[0m\u001b[0;34m)\u001b[0m\u001b[0;34m\u001b[0m\u001b[0;34m\u001b[0m\u001b[0m\n\u001b[0;32m--> 411\u001b[0;31m         \u001b[0;32mreturn\u001b[0m \u001b[0mvisitor\u001b[0m\u001b[0;34m(\u001b[0m\u001b[0mnode\u001b[0m\u001b[0;34m,\u001b[0m \u001b[0;34m**\u001b[0m\u001b[0mkwargs\u001b[0m\u001b[0;34m)\u001b[0m\u001b[0;34m\u001b[0m\u001b[0;34m\u001b[0m\u001b[0m\n\u001b[0m\u001b[1;32m    412\u001b[0m \u001b[0;34m\u001b[0m\u001b[0m\n\u001b[1;32m    413\u001b[0m     \u001b[0;32mdef\u001b[0m \u001b[0mvisit_Module\u001b[0m\u001b[0;34m(\u001b[0m\u001b[0mself\u001b[0m\u001b[0;34m,\u001b[0m \u001b[0mnode\u001b[0m\u001b[0;34m,\u001b[0m \u001b[0;34m**\u001b[0m\u001b[0mkwargs\u001b[0m\u001b[0;34m)\u001b[0m\u001b[0;34m:\u001b[0m\u001b[0;34m\u001b[0m\u001b[0;34m\u001b[0m\u001b[0m\n",
            "\u001b[0;32m/usr/local/lib/python3.7/dist-packages/pandas/core/computation/expr.py\u001b[0m in \u001b[0;36mvisit_Name\u001b[0;34m(self, node, **kwargs)\u001b[0m\n\u001b[1;32m    543\u001b[0m \u001b[0;34m\u001b[0m\u001b[0m\n\u001b[1;32m    544\u001b[0m     \u001b[0;32mdef\u001b[0m \u001b[0mvisit_Name\u001b[0m\u001b[0;34m(\u001b[0m\u001b[0mself\u001b[0m\u001b[0;34m,\u001b[0m \u001b[0mnode\u001b[0m\u001b[0;34m,\u001b[0m \u001b[0;34m**\u001b[0m\u001b[0mkwargs\u001b[0m\u001b[0;34m)\u001b[0m\u001b[0;34m:\u001b[0m\u001b[0;34m\u001b[0m\u001b[0;34m\u001b[0m\u001b[0m\n\u001b[0;32m--> 545\u001b[0;31m         \u001b[0;32mreturn\u001b[0m \u001b[0mself\u001b[0m\u001b[0;34m.\u001b[0m\u001b[0mterm_type\u001b[0m\u001b[0;34m(\u001b[0m\u001b[0mnode\u001b[0m\u001b[0;34m.\u001b[0m\u001b[0mid\u001b[0m\u001b[0;34m,\u001b[0m \u001b[0mself\u001b[0m\u001b[0;34m.\u001b[0m\u001b[0menv\u001b[0m\u001b[0;34m,\u001b[0m \u001b[0;34m**\u001b[0m\u001b[0mkwargs\u001b[0m\u001b[0;34m)\u001b[0m\u001b[0;34m\u001b[0m\u001b[0;34m\u001b[0m\u001b[0m\n\u001b[0m\u001b[1;32m    546\u001b[0m \u001b[0;34m\u001b[0m\u001b[0m\n\u001b[1;32m    547\u001b[0m     \u001b[0;32mdef\u001b[0m \u001b[0mvisit_NameConstant\u001b[0m\u001b[0;34m(\u001b[0m\u001b[0mself\u001b[0m\u001b[0;34m,\u001b[0m \u001b[0mnode\u001b[0m\u001b[0;34m,\u001b[0m \u001b[0;34m**\u001b[0m\u001b[0mkwargs\u001b[0m\u001b[0;34m)\u001b[0m\u001b[0;34m:\u001b[0m\u001b[0;34m\u001b[0m\u001b[0;34m\u001b[0m\u001b[0m\n",
            "\u001b[0;32m/usr/local/lib/python3.7/dist-packages/pandas/core/computation/ops.py\u001b[0m in \u001b[0;36m__init__\u001b[0;34m(self, name, env, side, encoding)\u001b[0m\n\u001b[1;32m     96\u001b[0m         \u001b[0mtname\u001b[0m \u001b[0;34m=\u001b[0m \u001b[0mstr\u001b[0m\u001b[0;34m(\u001b[0m\u001b[0mname\u001b[0m\u001b[0;34m)\u001b[0m\u001b[0;34m\u001b[0m\u001b[0;34m\u001b[0m\u001b[0m\n\u001b[1;32m     97\u001b[0m         \u001b[0mself\u001b[0m\u001b[0;34m.\u001b[0m\u001b[0mis_local\u001b[0m \u001b[0;34m=\u001b[0m \u001b[0mtname\u001b[0m\u001b[0;34m.\u001b[0m\u001b[0mstartswith\u001b[0m\u001b[0;34m(\u001b[0m\u001b[0mLOCAL_TAG\u001b[0m\u001b[0;34m)\u001b[0m \u001b[0;32mor\u001b[0m \u001b[0mtname\u001b[0m \u001b[0;32min\u001b[0m \u001b[0mDEFAULT_GLOBALS\u001b[0m\u001b[0;34m\u001b[0m\u001b[0;34m\u001b[0m\u001b[0m\n\u001b[0;32m---> 98\u001b[0;31m         \u001b[0mself\u001b[0m\u001b[0;34m.\u001b[0m\u001b[0m_value\u001b[0m \u001b[0;34m=\u001b[0m \u001b[0mself\u001b[0m\u001b[0;34m.\u001b[0m\u001b[0m_resolve_name\u001b[0m\u001b[0;34m(\u001b[0m\u001b[0;34m)\u001b[0m\u001b[0;34m\u001b[0m\u001b[0;34m\u001b[0m\u001b[0m\n\u001b[0m\u001b[1;32m     99\u001b[0m         \u001b[0mself\u001b[0m\u001b[0;34m.\u001b[0m\u001b[0mencoding\u001b[0m \u001b[0;34m=\u001b[0m \u001b[0mencoding\u001b[0m\u001b[0;34m\u001b[0m\u001b[0;34m\u001b[0m\u001b[0m\n\u001b[1;32m    100\u001b[0m \u001b[0;34m\u001b[0m\u001b[0m\n",
            "\u001b[0;32m/usr/local/lib/python3.7/dist-packages/pandas/core/computation/ops.py\u001b[0m in \u001b[0;36m_resolve_name\u001b[0;34m(self)\u001b[0m\n\u001b[1;32m    113\u001b[0m \u001b[0;34m\u001b[0m\u001b[0m\n\u001b[1;32m    114\u001b[0m     \u001b[0;32mdef\u001b[0m \u001b[0m_resolve_name\u001b[0m\u001b[0;34m(\u001b[0m\u001b[0mself\u001b[0m\u001b[0;34m)\u001b[0m\u001b[0;34m:\u001b[0m\u001b[0;34m\u001b[0m\u001b[0;34m\u001b[0m\u001b[0m\n\u001b[0;32m--> 115\u001b[0;31m         \u001b[0mres\u001b[0m \u001b[0;34m=\u001b[0m \u001b[0mself\u001b[0m\u001b[0;34m.\u001b[0m\u001b[0menv\u001b[0m\u001b[0;34m.\u001b[0m\u001b[0mresolve\u001b[0m\u001b[0;34m(\u001b[0m\u001b[0mself\u001b[0m\u001b[0;34m.\u001b[0m\u001b[0mlocal_name\u001b[0m\u001b[0;34m,\u001b[0m \u001b[0mis_local\u001b[0m\u001b[0;34m=\u001b[0m\u001b[0mself\u001b[0m\u001b[0;34m.\u001b[0m\u001b[0mis_local\u001b[0m\u001b[0;34m)\u001b[0m\u001b[0;34m\u001b[0m\u001b[0;34m\u001b[0m\u001b[0m\n\u001b[0m\u001b[1;32m    116\u001b[0m         \u001b[0mself\u001b[0m\u001b[0;34m.\u001b[0m\u001b[0mupdate\u001b[0m\u001b[0;34m(\u001b[0m\u001b[0mres\u001b[0m\u001b[0;34m)\u001b[0m\u001b[0;34m\u001b[0m\u001b[0;34m\u001b[0m\u001b[0m\n\u001b[1;32m    117\u001b[0m \u001b[0;34m\u001b[0m\u001b[0m\n",
            "\u001b[0;32m/usr/local/lib/python3.7/dist-packages/pandas/core/computation/scope.py\u001b[0m in \u001b[0;36mresolve\u001b[0;34m(self, key, is_local)\u001b[0m\n\u001b[1;32m    214\u001b[0m                 \u001b[0;32mfrom\u001b[0m \u001b[0mpandas\u001b[0m\u001b[0;34m.\u001b[0m\u001b[0mcore\u001b[0m\u001b[0;34m.\u001b[0m\u001b[0mcomputation\u001b[0m\u001b[0;34m.\u001b[0m\u001b[0mops\u001b[0m \u001b[0;32mimport\u001b[0m \u001b[0mUndefinedVariableError\u001b[0m\u001b[0;34m\u001b[0m\u001b[0;34m\u001b[0m\u001b[0m\n\u001b[1;32m    215\u001b[0m \u001b[0;34m\u001b[0m\u001b[0m\n\u001b[0;32m--> 216\u001b[0;31m                 \u001b[0;32mraise\u001b[0m \u001b[0mUndefinedVariableError\u001b[0m\u001b[0;34m(\u001b[0m\u001b[0mkey\u001b[0m\u001b[0;34m,\u001b[0m \u001b[0mis_local\u001b[0m\u001b[0;34m)\u001b[0m \u001b[0;32mfrom\u001b[0m \u001b[0merr\u001b[0m\u001b[0;34m\u001b[0m\u001b[0;34m\u001b[0m\u001b[0m\n\u001b[0m\u001b[1;32m    217\u001b[0m \u001b[0;34m\u001b[0m\u001b[0m\n\u001b[1;32m    218\u001b[0m     \u001b[0;32mdef\u001b[0m \u001b[0mswapkey\u001b[0m\u001b[0;34m(\u001b[0m\u001b[0mself\u001b[0m\u001b[0;34m,\u001b[0m \u001b[0mold_key\u001b[0m\u001b[0;34m:\u001b[0m \u001b[0mstr\u001b[0m\u001b[0;34m,\u001b[0m \u001b[0mnew_key\u001b[0m\u001b[0;34m:\u001b[0m \u001b[0mstr\u001b[0m\u001b[0;34m,\u001b[0m \u001b[0mnew_value\u001b[0m\u001b[0;34m=\u001b[0m\u001b[0;32mNone\u001b[0m\u001b[0;34m)\u001b[0m \u001b[0;34m->\u001b[0m \u001b[0;32mNone\u001b[0m\u001b[0;34m:\u001b[0m\u001b[0;34m\u001b[0m\u001b[0;34m\u001b[0m\u001b[0m\n",
            "\u001b[0;31mUndefinedVariableError\u001b[0m: name 'q3' is not defined"
          ]
        }
      ]
    },
    {
      "cell_type": "code",
      "source": [
        "print('Отфильтровано {0:.0%}'.format(\n",
        "    1 - (df_query.count()[0] / df.count()[0])\n",
        "    ), 'исходных данных')\n",
        "print()\n",
        "print('Осталось {0:.0%}'.format(\n",
        "    1 - (1 - (df_query.count()[0] / df.count()[0])\n",
        "    )), 'данных от исходного df')"
      ],
      "metadata": {
        "id": "mErOjBTX7TXY"
      },
      "execution_count": null,
      "outputs": []
    },
    {
      "cell_type": "markdown",
      "source": [
        "### Проверю как изменились гистограммы и распределение"
      ],
      "metadata": {
        "id": "ROVE92l8XzIh"
      }
    },
    {
      "cell_type": "code",
      "source": [
        "df['total_area'].hist(\n",
        "    range=(df['total_area'].min(), df['total_area'].max()),\n",
        "    figsize = (5,5),\n",
        "    )\n",
        "plt.title('Площадь квартир до обработки аномалий')\n",
        "plt.xlabel('Площадь')\n",
        "plt.ylabel('Количество квартир')\n",
        "plt.show()\n",
        "print()\n",
        "df_query['total_area'].hist(\n",
        "    range=(df_query['total_area'].min(), df_query['total_area'].max()),\n",
        "    figsize = (5,5)\n",
        "    )\n",
        "plt.title('Площадь квартир после обработки аномалий')\n",
        "plt.xlabel('Площадь')\n",
        "plt.ylabel('Количество квартир')\n",
        "plt.show()\n",
        "print()\n",
        "print()\n",
        "\n",
        "df['last_price'].hist(\n",
        "    range=(df['last_price'].min(), df['last_price'].max()),\n",
        "    figsize = (5,5)\n",
        "    )\n",
        "plt.title('Цена до обработки аномалий')\n",
        "plt.xlabel('Цена')\n",
        "plt.ylabel('Количество квартир')\n",
        "plt.show()\n",
        "print()\n",
        "df_query['last_price'].hist(\n",
        "    range=(df_query['last_price'].min(), df_query['last_price'].max()),\n",
        "    figsize = (5,5)\n",
        "    )\n",
        "plt.title('Цена после обработки аномалий')\n",
        "plt.xlabel('Цена')\n",
        "plt.ylabel('Количество квартир')\n",
        "plt.show()\n",
        "print()\n",
        "print()\n",
        "\n",
        "plt.hist(\n",
        "    df['rooms'],\n",
        "    range=(df['rooms'].min(), df['rooms'].max())\n",
        "    )\n",
        "plt.title('Все комнаты до обработки аномалий')\n",
        "plt.xlabel('Число комнат')\n",
        "plt.ylabel('Количество квартир')\n",
        "plt.show()\n",
        "print()\n",
        "plt.hist(\n",
        "    df_query['rooms'],\n",
        "    range=(df_query['rooms'].min(), df_query['rooms'].max())\n",
        "    )\n",
        "plt.title('Все комнаты после обработки аномалий')\n",
        "plt.xlabel('Число комнат')\n",
        "plt.ylabel('Количество квартир')\n",
        "plt.show()\n",
        "print()\n",
        "print()\n",
        "\n",
        "plt.hist(\n",
        "    df['ceiling_height'],\n",
        "    range=(df['ceiling_height'].min(), df['ceiling_height'].max())\n",
        "    )\n",
        "plt.title('Высота потолков до обработки аномалий')\n",
        "plt.xlabel('Высота')\n",
        "plt.ylabel('Количество квартир')\n",
        "plt.show()\n",
        "print()\n",
        "plt.hist(\n",
        "    df_query['ceiling_height'],\n",
        "    range=(df_query['ceiling_height'].min(), df_query['ceiling_height'].max())\n",
        "    )\n",
        "\n",
        "plt.title('Высота потолков после обработки аномалий')\n",
        "plt.xlabel('Высота')\n",
        "plt.ylabel('Количество квартир')\n",
        "plt.show()"
      ],
      "metadata": {
        "id": "DrL1echXH6Dz"
      },
      "execution_count": null,
      "outputs": []
    },
    {
      "cell_type": "markdown",
      "source": [
        "#### проверю boxplot"
      ],
      "metadata": {
        "id": "frdITiZ6ZU0w"
      }
    },
    {
      "cell_type": "code",
      "source": [
        "df.boxplot('last_price')\n",
        "plt.title('Цена объявления. Вбросы до обработки')\n",
        "plt.show()\n",
        "print()\n",
        "df_query.boxplot('last_price')\n",
        "plt.title('Цена объявления. Вбросы после обработки')\n",
        "plt.show()\n",
        "print()\n",
        "print()\n",
        "\n",
        "\n",
        "df.boxplot('price_square_meter')\n",
        "plt.title('Цена за квадратный метр. Вбросы до обработки')\n",
        "plt.show()\n",
        "print()\n",
        "df_query.boxplot('price_square_meter')\n",
        "plt.title('Цена за квадратный метр. Вбросы до обработки')\n",
        "plt.show()\n",
        "print()\n",
        "print()\n",
        "\n",
        "\n",
        "df.boxplot('rooms')\n",
        "plt.title('Число комнат. Вбросы до обработки')\n",
        "plt.show()\n",
        "print()\n",
        "df_query.boxplot('rooms')\n",
        "plt.title('Число комнат. Вбросы после обработки')\n",
        "plt.show()\n",
        "print()\n",
        "print()\n",
        "\n",
        "\n",
        "df.boxplot('days_exposition')\n",
        "plt.title('Срок размещения объявления. Вбросы до обработки')\n",
        "plt.show()\n",
        "print()\n",
        "df_query.boxplot('days_exposition')\n",
        "plt.title('Срок размещения объявления. Вбросы до обработки')\n",
        "plt.show()\n",
        "print()\n",
        "print()"
      ],
      "metadata": {
        "id": "g0rgm8m8Y5vv"
      },
      "execution_count": null,
      "outputs": []
    },
    {
      "cell_type": "code",
      "source": [
        "df_query.boxplot(figsize=(50,10))\n",
        "plt.title('Сводный боксплот. Вбросы после обработки')"
      ],
      "metadata": {
        "id": "4szD2TLQfq3w"
      },
      "execution_count": null,
      "outputs": []
    },
    {
      "cell_type": "markdown",
      "source": [
        "<div class=\"alert alert-info\">\n",
        "<b>Комментарий:</b>\n",
        "<br>И с усами нет проблем! кайф\n",
        "</div>"
      ],
      "metadata": {
        "id": "sl1f1aTwZOZE"
      }
    },
    {
      "cell_type": "code",
      "source": [
        "df_query.boxplot(['airports_nearest', 'city_centers_nearest'])\n",
        "plt.title('Вбросы в столбцах с расстоянием до аэропорта и центра города')\n",
        "plt.show()"
      ],
      "metadata": {
        "id": "kmgPEz5_jt1K"
      },
      "execution_count": null,
      "outputs": []
    },
    {
      "cell_type": "markdown",
      "source": [
        "<div class=\"alert alert-info\">\n",
        "<b>Комментарий:</b>\n",
        "<br>В столбцах ['airports_nearest', 'city_centers_nearest'] считаю, что пользоваться боксплотом не нужно, так как недвижимость находится не только в пределах города, но и  области. Вбросы в этих столбцах - норма. Аномальных значений я не обнаружил\n",
        "</div>"
      ],
      "metadata": {
        "id": "B5Tmc_5Kn3JX"
      }
    },
    {
      "cell_type": "markdown",
      "source": [
        "## Какие факторы больше всего влияют на стоимость квартиры? "
      ],
      "metadata": {
        "id": "vOnq24AGw0F7"
      }
    },
    {
      "cell_type": "markdown",
      "source": [
        "### Изучите, зависит ли цена от площади, числа комнат, удалённости от центра."
      ],
      "metadata": {
        "id": "xim14c6fw-_o"
      }
    },
    {
      "cell_type": "code",
      "source": [
        "pd.plotting.scatter_matrix(df_query.loc[:, ['last_price', 'total_area', 'rooms', 'city_centers_nearest']], figsize=(10, 10))"
      ],
      "metadata": {
        "id": "2P5tMxFtxFi2"
      },
      "execution_count": null,
      "outputs": []
    },
    {
      "cell_type": "markdown",
      "source": [
        "<div class=\"alert alert-info\">\n",
        "<b>Комментарий:</b>\n",
        "<br>мне не нравится читать такие большие матрицы.\n",
        "\n",
        "Посмотрю подробнее\n",
        "</div>"
      ],
      "metadata": {
        "id": "UsxzoOHPywwO"
      }
    },
    {
      "cell_type": "code",
      "source": [
        "print(df_query.loc[:, ['last_price', 'total_area']].corr())\n",
        "pd.plotting.scatter_matrix(\n",
        "    df_query.loc[:, ['last_price', 'total_area']],\n",
        "    figsize=(10, 10),\n",
        "    alpha=0.7,\n",
        "    grid=False\n",
        "    )\n",
        "\n",
        "plt.suptitle('Зависимость цены на недвижимость от площади квартиры')\n",
        "plt.show()"
      ],
      "metadata": {
        "id": "Wm1TTMdW0PbB"
      },
      "execution_count": null,
      "outputs": []
    },
    {
      "cell_type": "code",
      "source": [
        "df_query.loc[:, ['last_price', 'total_area', 'floor']].corr()"
      ],
      "metadata": {
        "id": "5RnUpTlVzm94"
      },
      "execution_count": null,
      "outputs": []
    },
    {
      "cell_type": "markdown",
      "source": [
        "- Верхняя левая диаграмма - связь цены с ценой.\n",
        "\n",
        "Эта гистограмма распределения по цене. \n",
        "\n",
        "Видно, что больше всего квартир стоимостью выше 6,5 млн. рублей. Меньше - квартир стоимостью до 4,5 млн. \n",
        "\n",
        "- Нижняя левая диаграмма - диаграмма рассеивания. Показывает связь между ценой и площадью.\n",
        "\n",
        "Мы видим наибольшую плотность точек у у квартир с площадью от 30 до 45 кв. метров. Стоимость такой недвжимости редко превышает 4,5 млн. \n",
        "\n",
        "- Правый верхний график показывает практически то же самое, но оси поменялись местами\n",
        "\n",
        "- Правый нижний график рассказывает нам о том, что больше всего квартир выставленных на продажу имеют площадь от 40 до 45 квадратных метров\n",
        "\n",
        "\n",
        "---\n",
        "\n",
        "из матрицы корреляции мы видим,что коэффициент связи площади и цены квартиры достаточно высокий  = 0,87. \n",
        "\n",
        "Чем ближе это значение к единице, тем сильнее зависимость измеряемых параметров друг от друга. "
      ],
      "metadata": {
        "id": "R3nrmEBD-nV8"
      }
    },
    {
      "cell_type": "code",
      "source": [
        "print(df_query.loc[:, ['last_price', 'rooms']].corr())\n",
        "pd.plotting.scatter_matrix(\n",
        "    df_query.loc[:, ['last_price', 'rooms']],\n",
        "    figsize=(10, 10),\n",
        "    alpha=0.7,\n",
        "    grid=False\n",
        "    )\n",
        "\n",
        "plt.suptitle('Зависимость цены на недвижимость от количества комнат')\n",
        "plt.show()"
      ],
      "metadata": {
        "id": "-TwHgghRCoqf"
      },
      "execution_count": null,
      "outputs": []
    },
    {
      "cell_type": "markdown",
      "source": [
        "- Верхняя левая диаграмма\n",
        "\n",
        "Эта гистограмма распределения по цене. \n",
        "\n",
        "Видно, что больше всего квартир стоимостью выше 6,5 млн. рублей. Меньше - квартир стоимостью до 4,5 млн. \n",
        "\n",
        "- Нижняя левая диаграмма - диаграмма рассеивания. Показывает связь между ценой и количеством комнат.\n",
        "\n",
        "Однушки в основной массе имеют цену до 5 млн. рублей, но есть варианты и до 6 млн\n",
        "\n",
        "Двухкомнатные квартиры можно найти как за 3,5 так и практически за 7 млн. рублей. Выбор во всем диапазоне равномерный\n",
        "\n",
        "Сложно, но можно найти трехкомнатную квартиру за 3,5 млн.\n",
        "Основная масса квартир с тремя комнатами стартует от 4,5 млн. рублей\n",
        "\n",
        "- Правый нижний график рассказывает нам о том, что больше всего квартир \n",
        "с двумя комнатами.\n",
        "\n",
        "\n",
        "---\n",
        "\n",
        "из матрицы корреляции мы видим,что коэффициент связи количества комнат и  цены квартиры = 0,66. Связь есть, но не очень сильная."
      ],
      "metadata": {
        "id": "G6IbECHmDDVB"
      }
    },
    {
      "cell_type": "code",
      "source": [
        "print(df_query.loc[:, ['last_price', 'city_centers_nearest']].corr())\n",
        "pd.plotting.scatter_matrix(\n",
        "    df_query.loc[:, ['last_price', 'city_centers_nearest']],\n",
        "    figsize=(10, 10),\n",
        "    alpha=0.1,\n",
        "    grid=False\n",
        "    )\n",
        "\n",
        "plt.suptitle('Зависимость цены на недвижимость от расположения квартир относительно центра города')\n",
        "plt.show()"
      ],
      "metadata": {
        "id": "lMWcUoAwFDad"
      },
      "execution_count": null,
      "outputs": []
    },
    {
      "cell_type": "markdown",
      "source": [
        "- Нижняя левая диаграмма\n",
        "\n",
        "Плотность точек наибольшая у квартир, которые стоят о 5 млн. рублей и находятся на расстояни от 10 до 20 км от центра города. Скорее всего - это спальные районы.\n",
        "\n",
        "- Правый нижний график рассказывает нам о том, что больше всего квартир \n",
        "выставленных на продажу удалены от центра на 10 - 15 км.\n",
        "\n",
        "\n",
        "---\n",
        "\n",
        "из матрицы корреляции мы видим,что коэффициент связи расположения квартир относительно центра города и  цены квартиры = - 0,08. Связь слабая."
      ],
      "metadata": {
        "id": "0xlxNZeNFo87"
      }
    },
    {
      "cell_type": "code",
      "source": [
        "print(df_query.loc[:, ['last_price', 'total_area', 'rooms', 'city_centers_nearest']].corr())"
      ],
      "metadata": {
        "id": "eSIXlaS-HShU"
      },
      "execution_count": null,
      "outputs": []
    },
    {
      "cell_type": "markdown",
      "source": [
        "<div class=\"alert alert-info\">\n",
        "<b>Комментарий:</b>\n",
        "<br>Наибольшая зависимость между ценой и площадью (0,87)\n",
        "\n",
        "Наименьшая зависимость между расстоянием до центра и площадью квартиры (0,009)\n",
        "</div>\n"
      ],
      "metadata": {
        "id": "TGRI783mHWRR"
      }
    },
    {
      "cell_type": "markdown",
      "source": [
        "### Изучите зависимость цены от того, на каком этаже расположена квартира: первом, последнем или другом."
      ],
      "metadata": {
        "id": "vcOqtj1mxGIW"
      }
    },
    {
      "cell_type": "code",
      "source": [
        "(\n",
        "    df_query.pivot_table(index='apartment_floor', values='last_price', aggfunc='count').plot(\n",
        "        grid=True,\n",
        "        style='x',\n",
        "        figsize=(5, 5)\n",
        "        )\n",
        "    )\n",
        "plt.suptitle('Зависимость цены на недвижимость от этажа')\n",
        "plt.show()\n",
        "print()\n",
        "sns.scatterplot(data=df_query, x='apartment_floor', y='last_price', alpha=0.06)\n",
        "plt.show()\n",
        "print()\n",
        "sns.scatterplot(data=df_query, x='floor', y='last_price', alpha=0.05)\n",
        "plt.show()"
      ],
      "metadata": {
        "id": "tP9rmKy0xIYp"
      },
      "execution_count": null,
      "outputs": []
    },
    {
      "cell_type": "markdown",
      "source": [
        "<div class=\"alert alert-info\">\n",
        "<b>Комментарий:</b>\n",
        "<br>на визуализации видно, что больше квартир на другом этаже (от 1го до 5го)\n",
        "</div>\n"
      ],
      "metadata": {
        "id": "ZjgCSNf6Rx0g"
      }
    },
    {
      "cell_type": "code",
      "source": [
        "df_query.pivot_table(index='apartment_floor', values='last_price', aggfunc='corr')"
      ],
      "metadata": {
        "id": "GMG-nqFUPCDn"
      },
      "execution_count": null,
      "outputs": []
    },
    {
      "cell_type": "markdown",
      "source": [
        "\n",
        "### Изучите зависимость цены от даты размещения: дня недели, месяца и года."
      ],
      "metadata": {
        "id": "eAfrETzdxI0k"
      }
    },
    {
      "cell_type": "code",
      "source": [
        "df_query.groupby(['day_week'])['last_price'].median().plot(grid=True, figsize=(10, 5), kind='bar')\n",
        "plt.title('Зависимость цены от дня недели')\n",
        "plt.ylabel('Цена')\n",
        "plt.show()\n",
        "print()\n",
        "\n",
        "df_query.groupby(['month'])['last_price'].median().plot(grid=True, figsize=(10, 5), kind='bar')\n",
        "plt.title('Зависимость цены от месяца')\n",
        "plt.ylabel('Цена')\n",
        "plt.show()\n",
        "print()\n",
        "\n",
        "(\n",
        "    df_query.pivot_table(index='year', values='last_price')\n",
        "    .plot(grid=True, style='o-', figsize=(10, 5))\n",
        ")\n",
        "plt.title('Зависимость цены от года')\n",
        "plt.ylabel('Цена')\n",
        "plt.show()\n",
        "print()\n",
        "\n",
        "df_query.groupby(['year'])['last_price'].median().plot(grid=True, figsize=(10, 5), kind='bar')\n",
        "plt.title('Зависимость цены от года')\n",
        "plt.ylabel('Цена')\n",
        "plt.show()\n",
        "print()\n",
        "print(df_query.loc[:, ['last_price', 'year']].corr())"
      ],
      "metadata": {
        "id": "igPfM66oqL_w"
      },
      "execution_count": null,
      "outputs": []
    },
    {
      "cell_type": "markdown",
      "source": [
        "<div class=\"alert alert-info\">\n",
        "<b>Комментарий:</b>\n",
        "<br>Есть зависимость только от года. С каждым годом растет цена (но не сильно)\n",
        "</div>\n"
      ],
      "metadata": {
        "id": "Kn_tt4I3-h5h"
      }
    },
    {
      "cell_type": "markdown",
      "source": [
        "### В какой день. год и месяц было больше продаж"
      ],
      "metadata": {
        "id": "VQS9gGPdnxYe"
      }
    },
    {
      "cell_type": "code",
      "source": [
        "df_query['day_week'].value_counts().plot.pie(autopct='%1.1f%%', shadow=True, startangle=90)\n",
        "plt.show()\n",
        "print()\n",
        "df_query['month'].value_counts().plot.pie(autopct='%1.1f%%', shadow=True, startangle=90)\n",
        "plt.show()\n",
        "print()\n",
        "df_query['year'].value_counts().plot.pie(autopct='%1.1f%%', shadow=False, startangle=90, figsize=(15,15))\n",
        "plt.legend()\n",
        "plt.show()\n",
        "print()"
      ],
      "metadata": {
        "id": "oXGquZgYjLyC"
      },
      "execution_count": null,
      "outputs": []
    },
    {
      "cell_type": "markdown",
      "source": [
        "### Выберите 10 населённых пунктов с наибольшим числом объявлений. \n",
        "\n",
        "Посчитайте среднюю цену квадратного метра в этих населённых пунктах.\n",
        "\n",
        "Выделите населённые пункты с самой высокой и низкой стоимостью жилья.\n"
      ],
      "metadata": {
        "id": "lf42JuH6WQFc"
      }
    },
    {
      "cell_type": "code",
      "source": [
        "print('Топ 10 городов по количству объявлений:')\n",
        "print()\n",
        "print(df_query['locality_name_unify'].value_counts().sort_values(ascending=False).head(10))"
      ],
      "metadata": {
        "id": "tEhlnKaWwbjV"
      },
      "execution_count": null,
      "outputs": []
    },
    {
      "cell_type": "code",
      "source": [
        "top_locality_query = df_query.pivot_table(\n",
        "        index='locality_name_unify',\n",
        "        values='price_square_meter',\n",
        "        aggfunc='mean'\n",
        "        )\n",
        "\n",
        "top_locality_query['price_square_meter'] = top_locality_query['price_square_meter'].round(1)\n",
        "\n",
        "print(top_locality_query.sort_values(by='price_square_meter', ascending=False))"
      ],
      "metadata": {
        "id": "xjlta1QX0U1F"
      },
      "execution_count": null,
      "outputs": []
    },
    {
      "cell_type": "markdown",
      "source": [
        "<div class=\"alert alert-info\">\n",
        "<b>Комментарий:</b>\n",
        "<br>Самая большая стоимость квадратного метра в Ильичёво, а самая дешевая в п. Тельмана\n",
        "</div>"
      ],
      "metadata": {
        "id": "Py6aS3LE1ZuS"
      }
    },
    {
      "cell_type": "markdown",
      "source": [
        "### Изучите предложения квартир: для каждой квартиры есть информация о расстоянии до центра.\n",
        "\n",
        "Выделите квартиры в Санкт-Петербурге (locality_name).\n",
        "\n",
        "Ваша задача — выяснить, какая область входит в центр.\n",
        "\n",
        "Создайте столбец с расстоянием до центра в километрах: округлите до целых значений.\n",
        "\n",
        "После этого посчитайте среднюю цену для каждого километра.\n",
        "\n",
        "Постройте график: он должен показывать, как цена зависит от удалённости от центра. Определите границу, где график сильно меняется, — это и будет центральная зона."
      ],
      "metadata": {
        "id": "Pj31VVyOjRqb"
      }
    },
    {
      "cell_type": "code",
      "source": [
        "df_query['city_centers_nearest_km'] = (df_query['city_centers_nearest'] / 1000).round(0)\n",
        "\n",
        "(\n",
        "    df_query.query('locality_name_unify == \"санкт-петербург\"')\n",
        "    .pivot_table(index='city_centers_nearest_km', values='last_price', aggfunc='mean')\n",
        "    .plot(grid=True, style='o-', xlim=(0,30), figsize=(20, 5))\n",
        ")\n",
        "plt.show()"
      ],
      "metadata": {
        "id": "JS037xoAjogF"
      },
      "execution_count": null,
      "outputs": []
    },
    {
      "cell_type": "markdown",
      "source": [
        "<div class=\"alert alert-info\">\n",
        "<b>Комментарий:</b>\n",
        "<br>Центральная зона находится в радиусе 6 км\n",
        "</div>"
      ],
      "metadata": {
        "id": "ZuKQ0uUi4TaX"
      }
    },
    {
      "cell_type": "markdown",
      "source": [
        "## Выделите сегмент квартир в центре."
      ],
      "metadata": {
        "id": "vLfE2-qHMF1M"
      }
    },
    {
      "cell_type": "code",
      "source": [
        "piter_centr = df_query.query(('locality_name_unify == \"санкт-петербург\"') and ('city_centers_nearest_km <= 6'))\n",
        "#piter_centr.head(5)"
      ],
      "metadata": {
        "id": "QaFwsqZD995P"
      },
      "execution_count": null,
      "outputs": []
    },
    {
      "cell_type": "markdown",
      "source": [
        "### Проанализируйте эту территорию и изучите следующие параметры: площадь, цена, число комнат, высота потолков."
      ],
      "metadata": {
        "id": "6-9zIHV1RCEC"
      }
    },
    {
      "cell_type": "code",
      "source": [
        "piter_centr['total_area'].hist(\n",
        "    range=(piter_centr['total_area'].min(), piter_centr['total_area'].max()),\n",
        "    figsize = (5,5)\n",
        "    )\n",
        "plt.title('Площадь квартир в центре Санкт-Петербурга')\n",
        "plt.xlabel('Площадь')\n",
        "plt.ylabel('Количество квартир')\n",
        "plt.show()\n",
        "print()\n",
        "\n",
        "piter_centr['last_price'].hist(\n",
        "    range=(piter_centr['last_price'].min(), piter_centr['last_price'].max()),\n",
        "    figsize = (5,5)\n",
        "    )\n",
        "plt.title('Цена квартир в центре Санкт-Петербурга')\n",
        "plt.xlabel('Цена')\n",
        "plt.ylabel('Количество квартир')\n",
        "plt.show()\n",
        "print()\n",
        "\n",
        "plt.hist(\n",
        "    piter_centr['rooms'],\n",
        "    range=(piter_centr['rooms'].min(), piter_centr['rooms'].max())\n",
        "    )\n",
        "plt.title('Число комнат в квартирах в центре Санкт-Петербурга')\n",
        "plt.xlabel('Число комнат')\n",
        "plt.ylabel('Количество квартир')\n",
        "plt.show()\n",
        "print()\n",
        "\n",
        "plt.hist(\n",
        "    piter_centr['ceiling_height'],\n",
        "    range=(piter_centr['ceiling_height'].min(), piter_centr['ceiling_height'].max())\n",
        "    )\n",
        "plt.title('Высота потолков в квартирах в центре Санкт-Петербурга')\n",
        "plt.xlabel('Высота')\n",
        "plt.ylabel('Количество квартир')\n",
        "plt.show()\n",
        "print()"
      ],
      "metadata": {
        "id": "cBOOIARlQYvV"
      },
      "execution_count": null,
      "outputs": []
    },
    {
      "cell_type": "markdown",
      "source": [
        "<div class=\"alert alert-info\">\n",
        "<b>Комментарий:</b>\n",
        "<br>Недвижимость в центральной части Санкт-Петербурга:\n",
        "\n",
        "Площадь квартир варьируется в диапазоне 30 - 80 метров. \n",
        "Больше всего квартир с площадью 50 квадратных метров\n",
        "\n",
        "Цены на недвижимость варьируються от 3,5 до 6,7 млн. рублей\n",
        "\n",
        "На рынке есть студии, двухкомнатные (их большинство) и трехкомнатные квартиры\n",
        "\n",
        "Высота потолков в основной массе 2.5 метра. Редко можно встретить квартиры с потолками высотой 2,7 метра\n",
        "</div>"
      ],
      "metadata": {
        "id": "tEfP_30Ja4ou"
      }
    },
    {
      "cell_type": "markdown",
      "source": [
        "### Выделите факторы, которые влияют на стоимость квартиры (число комнат, этаж, удалённость от центра, дата размещения объявления)."
      ],
      "metadata": {
        "id": "uHLojzFlLgmW"
      }
    },
    {
      "cell_type": "code",
      "source": [
        "plt.figure(figsize=(27, 10)) \n",
        "\n",
        "mask = np.triu(np.ones_like(piter_centr.corr(), dtype=np.bool)) \n",
        "heatmap = sns.heatmap(piter_centr.corr(), mask=mask, vmin=-1, vmax=1, annot=True, cmap='BrBG') \n",
        "heatmap.set_title('Корреляция зависимости параметров недвижимости\\nCегмент квартир в центре Санкт-Петербурга', fontdict={'fontsize':18}, pad=16)"
      ],
      "metadata": {
        "id": "aQXd5xyp_cDI"
      },
      "execution_count": null,
      "outputs": []
    },
    {
      "cell_type": "markdown",
      "source": [
        "Расшифровка: \n",
        "- 1.0 параметры движутся в одну стороны (прямая или положительная взаимосвязь): либо растут, либо падают.\n",
        "- 0.9 - 0.5 Зависимость параметров достаточно сильная, с постепенной тенденцией к ослаблению.\n",
        "- 0.5 - 0.1 Слабая корреляция.\n",
        "- 0 Отсутствует взаимозависимость.\n",
        "- -0.1 — -0.5 Слабая корреляция.\n",
        "- -0.5 - -0.9 Зависимость пар друг от друга нарастает, усиливается движение в разные стороны.\n",
        "- -1.0 Параметры движутся в разные стороны (зеркальная или отрицательная взаимосвязь): одна растет, другая падает."
      ],
      "metadata": {
        "id": "kOUgNFbxdsZu"
      }
    },
    {
      "cell_type": "markdown",
      "source": [
        "<div class=\"alert alert-info\">\n",
        "<b>Комментарий:</b>\n",
        "<br>Самая сильная зависимость у жилой площади и количества комнат (спасибо, кэп)\n",
        "\n",
        "Цена и площадь, высота потолков и этажность дома и многие другие параметры имеют прямую зависимость друг от друга\n",
        "Если растет один параметр, то растет и другой. \n",
        "\n",
        "Интересно наблюдать за отрицательной корреляцией.\n",
        "Так расходятся данные между жилой площадью и площадью кухни. Они зависят друг от друга. Чем больше одно из значений - тем меньше другое. \n",
        "</div>"
      ],
      "metadata": {
        "id": "C7a6adRVdiEu"
      }
    },
    {
      "cell_type": "markdown",
      "source": [
        "### Сделайте выводы. Отличаются ли они от общих выводов по всей базе?"
      ],
      "metadata": {
        "id": "hZlLRlvvLqXf"
      }
    },
    {
      "cell_type": "code",
      "source": [
        "plt.figure(figsize=(27, 10)) \n",
        "\n",
        "mask = np.triu(np.ones_like(df_query.corr(), dtype=np.bool)) \n",
        "heatmap = sns.heatmap(df_query.corr(), mask=mask, vmin=-1, vmax=1, annot=True, cmap='BrBG') \n",
        "heatmap.set_title('Корреляция зависимости параметров недвижимости\\nв Санкт-Петербурге и Ленинградской области', fontdict={'fontsize':18}, pad=16)"
      ],
      "metadata": {
        "id": "Qp4ouk5iJCr0"
      },
      "execution_count": null,
      "outputs": []
    },
    {
      "cell_type": "markdown",
      "source": [
        "Расшифровка: \n",
        "- 1.0 параметры движутся в одну стороны (прямая или положительная взаимосвязь): либо растут, либо падают.\n",
        "- 0.9 - 0.5 Зависимость параметров достаточно сильная, с постепенной тенденцией к ослаблению.\n",
        "- 0.5 - 0.1 Слабая корреляция.\n",
        "- 0 Отсутствует взаимозависимость.\n",
        "- -0.1 — -0.5 Слабая корреляция.\n",
        "- -0.5 - -0.9 Зависимость пар друг от друга нарастает, усиливается движение в разные стороны.\n",
        "- -1.0 Параметры движутся в разные стороны (зеркальная или отрицательная взаимосвязь): одна растет, другая падает."
      ],
      "metadata": {
        "id": "zBHcKP_0EPPw"
      }
    },
    {
      "cell_type": "markdown",
      "source": [
        "<div class=\"alert alert-info\">\n",
        "<b>Комментарий:</b>\n",
        "<br>В целом, таблицы корреляции недвижтмости центра Санкт-Петербурга \n",
        "и общая таблица корреляции недвижимости СПб и области похожи друг друга.\n",
        "Связи меняют свою силу, но не критично.\n",
        "</div>"
      ],
      "metadata": {
        "id": "-Z9BFYfmeEWj"
      }
    },
    {
      "cell_type": "markdown",
      "source": [
        "# Шаг 5 (исправления)"
      ],
      "metadata": {
        "id": "cBFTyvGjSXLB"
      }
    },
    {
      "cell_type": "markdown",
      "source": [
        "## Посмотрю корреляцию"
      ],
      "metadata": {
        "id": "ViM5YHJpje8v"
      }
    },
    {
      "cell_type": "markdown",
      "source": [
        "### Вбросы (фильтрация)"
      ],
      "metadata": {
        "id": "0FpYVR3ESdMR"
      }
    },
    {
      "cell_type": "code",
      "source": [
        "df_query = df.query(\n",
        "    'total_area <= 200 & last_price <= 10000000 & rooms < 6 & 2 <= ceiling_height < 5'\n",
        "    )"
      ],
      "metadata": {
        "id": "ihsie0sBSldu"
      },
      "execution_count": null,
      "outputs": []
    },
    {
      "cell_type": "markdown",
      "source": [
        "### total_area"
      ],
      "metadata": {
        "id": "bK0-78obroP3"
      }
    },
    {
      "cell_type": "markdown",
      "source": [
        "\n",
        "Построю график и посмотрю дискрайб"
      ],
      "metadata": {
        "id": "5BwI8nrLrv13"
      }
    },
    {
      "cell_type": "code",
      "source": [
        "print(df['total_area'].describe())\n",
        "print()\n",
        "df['total_area'].plot(grid=True, style='o-', figsize=(20, 5))\n",
        "plt.title('Площадь квартир до фильтрации')\n",
        "plt.xlabel('квартиры')\n",
        "plt.ylabel('площадь (кв. метры)')\n",
        "plt.show()\n",
        "print()\n",
        "print('Эмпирическим путем принимаю волевое решение почикать все квартиры с площадью более 200 метров')\n",
        "print()\n",
        "df_query['total_area'].plot(grid=True, style='o-', figsize=(20, 5))\n",
        "plt.title('Площадь квартир после фильтрации')\n",
        "plt.xlabel('квартиры')\n",
        "plt.ylabel('площадь (кв. метры)')\n",
        "plt.show()\n",
        "print()\n",
        "df.boxplot('total_area', notch = True)\n",
        "plt.show()\n",
        "print()\n",
        "df_query.boxplot('total_area', notch = True)\n",
        "plt.show()"
      ],
      "metadata": {
        "id": "OIJvAMicr0xu"
      },
      "execution_count": null,
      "outputs": []
    },
    {
      "cell_type": "markdown",
      "source": [
        "### last_price"
      ],
      "metadata": {
        "id": "L9GVwrPZv9y9"
      }
    },
    {
      "cell_type": "code",
      "source": [
        "print(df['last_price'].describe())\n",
        "print()\n",
        "df['last_price'].plot(grid=True, style='o-', figsize=(20, 5))\n",
        "plt.title('Цена квартир до фильтрации')\n",
        "plt.xlabel('квартиры')\n",
        "plt.ylabel('цена')\n",
        "plt.show()\n",
        "print()\n",
        "print('12190 - выброс. и все что больше 10 млн.')\n",
        "print()\n",
        "df_query['last_price'].plot(grid=True, style='o-', figsize=(20, 5))\n",
        "plt.title('Цена квартир после фильтрации')\n",
        "plt.xlabel('квартиры')\n",
        "plt.ylabel('цена')\n",
        "plt.show()"
      ],
      "metadata": {
        "id": "vxqdO6orwRRL"
      },
      "execution_count": null,
      "outputs": []
    },
    {
      "cell_type": "markdown",
      "source": [
        "### price_square_meter"
      ],
      "metadata": {
        "id": "nMJUmNCy--fk"
      }
    },
    {
      "cell_type": "code",
      "source": [
        "print(df['price_square_meter'].describe())\n",
        "print()\n",
        "df['price_square_meter'].plot(grid=True, style='o-', figsize=(20, 5))\n",
        "plt.title('цена за метр кв до фильтрации')\n",
        "plt.xlabel('квартиры')\n",
        "plt.ylabel('цена за метр кв')\n",
        "plt.show()\n",
        "print()\n",
        "print('не буду фильтровать. Слишком много факторов, которые влияют на цену метра')\n",
        "print()\n",
        "df_query['price_square_meter'].plot(grid=True, style='o-', figsize=(20, 5))\n",
        "plt.title('цена за метр кв после фильтрации')\n",
        "plt.xlabel('квартиры')\n",
        "plt.ylabel('цена за метр кв')\n",
        "plt.show()\n",
        "print()\n",
        "df.boxplot('price_square_meter', notch = True)\n",
        "plt.show()\n",
        "print()\n",
        "df_query.boxplot('price_square_meter', notch = True)\n",
        "plt.show()"
      ],
      "metadata": {
        "id": "1NMOVzOY--vJ"
      },
      "execution_count": null,
      "outputs": []
    },
    {
      "cell_type": "markdown",
      "source": [
        "### rooms"
      ],
      "metadata": {
        "id": "0X5ko4EG_wI-"
      }
    },
    {
      "cell_type": "code",
      "source": [
        "print(df['rooms'].describe())\n",
        "print()\n",
        "df['rooms'].plot(grid=True, style='o-', figsize=(20, 5))\n",
        "plt.title('комнаты до фильтрации')\n",
        "plt.xlabel('квартиры')\n",
        "plt.ylabel('комнаты')\n",
        "plt.show()\n",
        "print()\n",
        "print('отфильтрую 6ти комнатные квартиры')\n",
        "print()\n",
        "df_query['rooms'].plot(grid=True, style='o-', figsize=(20, 5))\n",
        "plt.title('комнаты после фильтрации')\n",
        "plt.xlabel('квартиры')\n",
        "plt.ylabel('комнаты')\n",
        "plt.show()\n",
        "print()\n",
        "df.boxplot('rooms', notch = True)\n",
        "plt.show()\n",
        "print()\n",
        "df_query.boxplot('rooms', notch = True)\n",
        "plt.show()"
      ],
      "metadata": {
        "id": "Nh_acpWf_v3S"
      },
      "execution_count": null,
      "outputs": []
    },
    {
      "cell_type": "markdown",
      "source": [
        "### ceiling_height"
      ],
      "metadata": {
        "id": "Bco-0SKUArkr"
      }
    },
    {
      "cell_type": "code",
      "source": [
        "print(df['ceiling_height'].describe())\n",
        "print()\n",
        "df['ceiling_height'].plot(grid=True, style='o-', figsize=(20, 5))\n",
        "plt.title('высота до фильтрации')\n",
        "plt.xlabel('квартиры')\n",
        "plt.ylabel('высота потолков')\n",
        "plt.show()\n",
        "print()\n",
        "print('отфильтрую потолки выше 5 и меньше 2х метров')\n",
        "print()\n",
        "df_query['ceiling_height'].plot(grid=True, style='o-', figsize=(20, 5))\n",
        "plt.title('высота после фильтрации')\n",
        "plt.xlabel('квартиры')\n",
        "plt.ylabel('высота потолков')\n",
        "plt.show()\n",
        "print()\n",
        "df.boxplot('ceiling_height', notch = True)\n",
        "plt.show()\n",
        "print()\n",
        "df_query.boxplot('ceiling_height', notch = True)\n",
        "plt.show()"
      ],
      "metadata": {
        "id": "hNQmb5SmAsMf"
      },
      "execution_count": null,
      "outputs": []
    },
    {
      "cell_type": "markdown",
      "source": [
        "### days_exposition"
      ],
      "metadata": {
        "id": "7KQTJHafBvWt"
      }
    },
    {
      "cell_type": "code",
      "source": [
        "print(df['days_exposition'].describe())\n",
        "print()\n",
        "df['days_exposition'].plot(grid=True, style='o-', figsize=(20, 5))\n",
        "plt.title('срок продажи квартир до фильтрации')\n",
        "plt.xlabel('квартиры')\n",
        "plt.ylabel('срок продажи')\n",
        "plt.show()\n",
        "print()\n",
        "print('не фильтрую. есть быстрые продажи, когда н деньги, есть медленные, когда не хотят продешевить')\n",
        "print()\n",
        "df_query['days_exposition'].plot(grid=True, style='o-', figsize=(20, 5))\n",
        "plt.title('срок продажи квартир после фильтрации')\n",
        "plt.xlabel('квартиры')\n",
        "plt.ylabel('срок продажи')\n",
        "plt.show()\n",
        "print()\n",
        "df.boxplot('days_exposition', notch = True)\n",
        "plt.show()\n",
        "print()\n",
        "df_query.boxplot('days_exposition', notch = True)\n",
        "plt.show()"
      ],
      "metadata": {
        "id": "c0Gmjm2eBvJX"
      },
      "execution_count": null,
      "outputs": []
    },
    {
      "cell_type": "markdown",
      "source": [
        "### Результат"
      ],
      "metadata": {
        "id": "p7fCrQ48EXCX"
      }
    },
    {
      "cell_type": "code",
      "source": [
        "print(\n",
        "    'Почикано {0:.0%}'.format(\n",
        "        1 - (df_query.count()[0] / data.count()[0])\n",
        "        ), 'исходных данных'\n",
        "    )\n",
        "print()\n",
        "print(\n",
        "    'Осталось {0:.0%}'.format(\n",
        "        1 - (1 - (df_query.count()[0] / data.count()[0]))\n",
        "        ), 'данных от исходного df'\n",
        "    )\n"
      ],
      "metadata": {
        "id": "L35iHYickZdP"
      },
      "execution_count": null,
      "outputs": []
    },
    {
      "cell_type": "markdown",
      "source": [
        "### Изучите, зависит ли цена от площади, числа комнат, удалённости от центра"
      ],
      "metadata": {
        "id": "WlTM6knkebnH"
      }
    },
    {
      "cell_type": "code",
      "source": [
        "pd.plotting.scatter_matrix(df_query.loc[:, ['last_price', 'total_area', 'rooms', 'city_centers_nearest']], figsize=(10, 10))"
      ],
      "metadata": {
        "id": "F4ZCY-rLegrY"
      },
      "execution_count": null,
      "outputs": []
    },
    {
      "cell_type": "code",
      "source": [
        "print(df_query.loc[:, ['last_price', 'total_area', 'rooms', 'city_centers_nearest']].corr())"
      ],
      "metadata": {
        "id": "fFWxqaulko4g"
      },
      "execution_count": null,
      "outputs": []
    },
    {
      "cell_type": "markdown",
      "source": [
        "### Выберите 10 населённых пунктов с наибольшим числом объявлений. "
      ],
      "metadata": {
        "id": "IyMUv7fMe3Jw"
      }
    },
    {
      "cell_type": "code",
      "source": [
        "print('Топ 10 городов по количству объявлений:')\n",
        "print()\n",
        "print(df_query['locality_name_unify'].value_counts().sort_values(ascending=False).head(10))"
      ],
      "metadata": {
        "id": "Oxst3777e30V"
      },
      "execution_count": null,
      "outputs": []
    },
    {
      "cell_type": "markdown",
      "source": [
        "### Выделите населённые пункты с самой высокой и низкой стоимостью "
      ],
      "metadata": {
        "id": "FTcHW8bBFTYX"
      }
    },
    {
      "cell_type": "code",
      "source": [
        "top_locality_query = df_query.pivot_table(\n",
        "        index=['locality_name_unify', 'locality_name'],\n",
        "        values='price_square_meter',\n",
        "        aggfunc='mean'\n",
        "        )\n",
        "\n",
        "top_locality_query['price_square_meter'] = top_locality_query['price_square_meter'].round(1)\n",
        "\n",
        "print(top_locality_query.sort_values(by='price_square_meter', ascending=False))"
      ],
      "metadata": {
        "id": "JyD1jYh4fLme"
      },
      "execution_count": null,
      "outputs": []
    },
    {
      "cell_type": "markdown",
      "source": [
        "### Изучите предложения квартир: для каждой квартиры есть информация о расстоянии до центра."
      ],
      "metadata": {
        "id": "P4T39F3PgKsQ"
      }
    },
    {
      "cell_type": "code",
      "source": [
        "df_query['city_centers_nearest_km'] = (df_query['city_centers_nearest'] / 1000).round(0)\n",
        "\n",
        "(\n",
        "    df_query.query('locality_name_unify == \"санкт-петербург\"')\n",
        "    .pivot_table(index='city_centers_nearest_km', values='last_price', aggfunc='mean')\n",
        "    .plot(grid=True, style='o-', xlim=(0,30), figsize=(20, 5))\n",
        ")\n",
        "plt.show()"
      ],
      "metadata": {
        "id": "7LV6MP5GgPLt"
      },
      "execution_count": null,
      "outputs": []
    },
    {
      "cell_type": "markdown",
      "source": [
        "## Выделите сегмент квартир в центре."
      ],
      "metadata": {
        "id": "vu88Dd5Wi-pG"
      }
    },
    {
      "cell_type": "code",
      "source": [
        "piter_centr = df_query.query(('locality_name_unify == \"санкт-петербург\"') and ('city_centers_nearest_km <= 6'))\n",
        "#piter_centr.head(5)"
      ],
      "metadata": {
        "id": "fi24OKzLjFSK"
      },
      "execution_count": null,
      "outputs": []
    },
    {
      "cell_type": "markdown",
      "source": [
        "### Проанализируйте эту территорию и изучите следующие параметры: площадь, цена, число комнат, высота потолков."
      ],
      "metadata": {
        "id": "l2k38YzojIKE"
      }
    },
    {
      "cell_type": "code",
      "source": [
        "piter_centr['total_area'].hist(\n",
        "    range=(piter_centr['total_area'].min(), piter_centr['total_area'].max()),\n",
        "    figsize = (5,5)\n",
        "    )\n",
        "plt.title('Площадь квартир в центре Санкт-Петербурга')\n",
        "plt.xlabel('Площадь')\n",
        "plt.ylabel('Количество квартир')\n",
        "plt.show()\n",
        "print()\n",
        "\n",
        "piter_centr['last_price'].hist(\n",
        "    range=(piter_centr['last_price'].min(), piter_centr['last_price'].max()),\n",
        "    figsize = (5,5)\n",
        "    )\n",
        "plt.title('Цена квартир в центре Санкт-Петербурга')\n",
        "plt.xlabel('Цена')\n",
        "plt.ylabel('Количество квартир')\n",
        "plt.show()\n",
        "print()\n",
        "\n",
        "plt.hist(\n",
        "    piter_centr['rooms'],\n",
        "    range=(piter_centr['rooms'].min(), piter_centr['rooms'].max())\n",
        "    )\n",
        "plt.title('Число комнат в квартирах в центре Санкт-Петербурга')\n",
        "plt.xlabel('Число комнат')\n",
        "plt.ylabel('Количество квартир')\n",
        "plt.show()\n",
        "print()\n",
        "\n",
        "plt.hist(\n",
        "    piter_centr['ceiling_height'],\n",
        "    range=(piter_centr['ceiling_height'].min(), piter_centr['ceiling_height'].max())\n",
        "    )\n",
        "plt.title('Высота потолков в квартирах в центре Санкт-Петербурга')\n",
        "plt.xlabel('Высота')\n",
        "plt.ylabel('Количество квартир')\n",
        "plt.show()\n",
        "print()"
      ],
      "metadata": {
        "id": "7zwDCgnBjLs4"
      },
      "execution_count": null,
      "outputs": []
    },
    {
      "cell_type": "markdown",
      "source": [
        "### Выделите факторы, которые влияют на стоимость квартиры (число комнат, этаж, удалённость от центра, дата размещения объявления)."
      ],
      "metadata": {
        "id": "9Sg-t_ZVjfwj"
      }
    },
    {
      "cell_type": "code",
      "source": [
        "plt.figure(figsize=(27, 10)) \n",
        "\n",
        "mask = np.triu(np.ones_like(piter_centr.corr(), dtype=np.bool)) \n",
        "heatmap = sns.heatmap(piter_centr.corr(), mask=mask, vmin=-1, vmax=1, annot=True, cmap='BrBG') \n",
        "\n",
        "heatmap.set_title('Корреляция зависимости параметров недвижимости\\nCегмент квартир в центре Санкт-Петербурга', fontdict={'fontsize':18}, pad=16)"
      ],
      "metadata": {
        "id": "4TsWyFg1jirs"
      },
      "execution_count": null,
      "outputs": []
    },
    {
      "cell_type": "markdown",
      "source": [
        "### Сделайте выводы. Отличаются ли они от общих выводов по всей базе?"
      ],
      "metadata": {
        "id": "rbfSQqGCkBVL"
      }
    },
    {
      "cell_type": "code",
      "source": [
        "plt.figure(figsize=(27, 10)) \n",
        "\n",
        "mask = np.triu(np.ones_like(df_query.corr(), dtype=np.bool)) \n",
        "heatmap = sns.heatmap(df_query.corr(), mask=mask, vmin=-1, vmax=1, annot=True, cmap='BrBG') \n",
        "heatmap.set_title('Корреляция зависимости параметров недвижимости\\nв Санкт-Петербурге и Ленинградской области', fontdict={'fontsize':18}, pad=16)"
      ],
      "metadata": {
        "id": "LISN9cBlkCSh"
      },
      "execution_count": null,
      "outputs": []
    },
    {
      "cell_type": "markdown",
      "source": [
        "# Общий вывод"
      ],
      "metadata": {
        "id": "LZkxRICskI30"
      }
    },
    {
      "cell_type": "markdown",
      "source": [
        "<div class=\"alert alert-info\">\n",
        "<b>Комментарий:</b>\n",
        "<br>\n",
        "Работа с проектом помогла мне разобраться с многими пробелами в знаниях, чтении графиков и работы разных методов.\n",
        "\n",
        "В части предобработки данных я скорректировал названия столбцов, унифицировал названия населенных пунктов и привел данные к необходимым типам. \n",
        "\n",
        "Мной было принято решение не избавляться от аномальных данных и пропусков на этом этапе.\n",
        "Единственное, я решил заменить на медиану высоту потолков в квартирах опираясь на этажность дома.  Так как большинство домов имеют типовое строение, то можно сказать. \n",
        "\n",
        "При использовании метода query в фильтрации, я принял решение ограничить рамки строго по значениям первой и третьей квантилей.\n",
        "Из-за этого мой датафрейм уменьшился практически в 10 раз, но все вбросы были отфильтрованы и конечные выводы более точно описываю ситуацию на рынке недвижимости Санкт-Петербурга в 2015 - 2019 годах\n",
        "</div>\n"
      ],
      "metadata": {
        "id": "mN4tawe-kMnf"
      }
    },
    {
      "cell_type": "markdown",
      "source": [
        "# интересные решения"
      ],
      "metadata": {
        "id": "pKBrQ2vzSSnu"
      }
    },
    {
      "cell_type": "markdown",
      "source": [
        "### Замена буквы Ё\n"
      ],
      "metadata": {
        "id": "hDX2YKOMnOV4"
      }
    },
    {
      "cell_type": "code",
      "source": [
        "# # Замена буквы Ё на Е в списке\n",
        "\n",
        "# def replacer(a):\n",
        "#     for i in range(len(a)):\n",
        "#         a[i] = a[i].replace('Ё', 'Е').replace('ё', 'е')\n",
        "    \n",
        "# a = ['Ёж', 'зелёный', 'ЕЁ', 'гЁТЬёсЮёёзЪЁЁЙ']\n",
        " \n",
        "# print(a)\n",
        "# replacer(a)\n",
        "# print(a)\n",
        "\n",
        "# # Замена одного слова библиотека re\n",
        "\n",
        "# import re\n",
        "# df_query['locality_name'] = [re.sub(\"посёлок\", \"поселок\", i) for i in df_query['locality_name']] "
      ],
      "metadata": {
        "id": "7QnlH6MCnULb"
      },
      "execution_count": null,
      "outputs": []
    },
    {
      "cell_type": "markdown",
      "source": [
        "### понятный вывод в отображении данных"
      ],
      "metadata": {
        "id": "OT04M5GjipTy"
      }
    },
    {
      "cell_type": "code",
      "source": [
        "# #установим понятный вывод в отображении данных '%.2f' - две точки после запятой\n",
        "# pd.set_option('display.float_format', lambda x: '%.2f' % x) "
      ],
      "metadata": {
        "id": "Ff5AYSjISVFk"
      },
      "execution_count": null,
      "outputs": []
    },
    {
      "cell_type": "markdown",
      "source": [
        "### rooms (число комнат) НЕ РЕШЕНО"
      ],
      "metadata": {
        "id": "544m_TkprnJc"
      }
    },
    {
      "cell_type": "code",
      "source": [
        "# plt.hist(\n",
        "#     rooms_anomaly['total_area'],\n",
        "#     range=(rooms_anomaly['total_area'].min(),\n",
        "#            rooms_anomaly['total_area'].max())\n",
        "#     )\n",
        "# plt.show()\n",
        "# print()\n",
        "# plt.hist(\n",
        "#     rooms_anomaly['total_area'],\n",
        "#     range=(rooms_anomaly['total_area'].min(), 150)\n",
        "#     )\n",
        "# plt.show()\n",
        "# print()\n",
        "# plt.hist(\n",
        "#     df['rooms'],\n",
        "#     range=(rooms_anomaly['total_area'].min(), 40)\n",
        "#     )\n",
        "# plt.title('Количество комнат в квартрах с площадью до 40 кв. метров')\n",
        "# plt.xlabel('Площадь квартиры')\n",
        "# plt.ylabel('Количество комнат')\n",
        "# plt.show()\n",
        "\n",
        "\n",
        "# no_room = 0\n",
        "# rooms_anomaly = df.query('rooms == @no_room')\n",
        "\n",
        "# print('Логично заменить количество комнат в скромных по площади квартиры с 0 на 1')\n",
        "# print('Мин. площадь:', rooms_anomaly['total_area'].min(), '\\nМакс. площадь:',rooms_anomaly['total_area'].max())"
      ],
      "metadata": {
        "id": "pw9RJegayTZv"
      },
      "execution_count": null,
      "outputs": []
    },
    {
      "cell_type": "markdown",
      "source": [
        "Просто заменить количество комнат с 0 на 1 нельзя. Слишком большой разброс по площади"
      ],
      "metadata": {
        "id": "ENi_6ltlyE7U"
      }
    },
    {
      "cell_type": "markdown",
      "source": [
        "Я навел справки: квартиры с площадью до 40 кв. метров обычно имеют 1 комнату.\n",
        "\n",
        "Поэтому смело заменяю количество комнат с 0 на 1 в квартирах с площадью до 40 метров."
      ],
      "metadata": {
        "id": "RybOfCtq3JlY"
      }
    },
    {
      "cell_type": "code",
      "source": [
        "# print(df.loc[:,'rooms'].isna().sum())\n",
        "# print(df.info())\n",
        "# print(df.loc[:,'rooms'].min())"
      ],
      "metadata": {
        "id": "JTMeNQCxVmNA"
      },
      "execution_count": null,
      "outputs": []
    },
    {
      "cell_type": "code",
      "source": [
        "# plt.hist(\n",
        "#     df['rooms'],\n",
        "#     range=(df['total_area'].min(), 40)\n",
        "#     )\n",
        "# plt.title('Количество комнат в квартрах с площадью до 40 кв. метров')\n",
        "# plt.xlabel('Площадь квартиры')\n",
        "# plt.ylabel('Количество комнат')\n",
        "# plt.show()\n",
        "\n",
        "# for i in df['total_area']:\n",
        "#   try:\n",
        "#     if i < 40.0 and df.loc[:,'rooms'] == 0:\n",
        "#       df['rooms'] = df.loc[:,'rooms'].replace(0, 1)\n",
        "#   except:\n",
        "#     print('опять не работает')"
      ],
      "metadata": {
        "id": "BcVzrNcy-kFW"
      },
      "execution_count": null,
      "outputs": []
    },
    {
      "cell_type": "markdown",
      "source": [
        "### total_area (площадь квартиры в квадратных метрах (м²))\n",
        "\n",
        "мне не нравятся пропуски в этих столбцах. поработаю над ними"
      ],
      "metadata": {
        "id": "zrh3dD3uSCO-"
      }
    },
    {
      "cell_type": "code",
      "source": [
        "# # создам таблицу для работы с площадью\n",
        "\n",
        "# total_square = df.loc[:,['total_area', 'living_area', 'kitchen_area']]\n",
        "\n",
        "# # хочу посмотреть заполнить пропуски медианными значениями.\n",
        "# # для начала пойму от какого столбца отталкиваться\n",
        "\n",
        "# total_square['kit_living_area'] = (total_square['kitchen_area'] / total_square['living_area'])\n",
        "\n",
        "# total_square['kit_total_area'] = (total_square['kitchen_area'] / total_square['total_area'])\n",
        "\n",
        "# total_square['living_area_total_area'] = (total_square['living_area'] / total_square['total_area'])\n",
        "\n",
        "# # посмотрю на среднее абсолютное отклонение и стандартное отклонение\n",
        "\n",
        "# total_square[['kit_living_area', 'kit_total_area', 'living_area_total_area']].mad().plot() # отклонение 0.06\n",
        "# total_square[['kit_living_area', 'kit_total_area', 'living_area_total_area']].std().plot() # отклонение 0.08\n",
        "\n",
        "# # в солбце kit_total_area минмальный mad и std\n",
        "# # заполнять медианой площадь кухни опираясь на общую площадь - лучший вариант\n",
        "\n",
        "# print(total_square.isna().sum())\n",
        "# print()\n",
        "# display(total_square.sort_values(by='total_area'))\n",
        "# print()\n",
        "# total_square['kit_total_area'] = total_square['kit_total_area'].fillna(\n",
        "#     total_square.groupby('total_area')\n",
        "#     ['kit_total_area']\n",
        "#     .transform('median')\n",
        "#     )\n",
        "# print(total_square.isna().sum())"
      ],
      "metadata": {
        "id": "M_dhFotx_hu4"
      },
      "execution_count": null,
      "outputs": []
    },
    {
      "cell_type": "markdown",
      "source": [
        "Решил поиграть с медианами - проирал. "
      ],
      "metadata": {
        "id": "Daa0RACPV0zf"
      }
    },
    {
      "cell_type": "markdown",
      "source": [
        "### https://pythobyte.com/introduction-to-data-visualization-in-python-with-pandas-9f8fe4ec/?"
      ],
      "metadata": {
        "id": "k4blivuU98SW"
      }
    },
    {
      "cell_type": "code",
      "source": [
        "import scipy\n",
        "from pandas.plotting import bootstrap_plot\n",
        "bootstrap_plot(df_query['last_price'])\n",
        "plt.show()"
      ],
      "metadata": {
        "id": "eF9RrDOV99Aq"
      },
      "execution_count": null,
      "outputs": []
    },
    {
      "cell_type": "markdown",
      "source": [
        "# Чек-лист готовности проекта"
      ],
      "metadata": {
        "id": "wZeXTi0PlS0F"
      }
    },
    {
      "cell_type": "markdown",
      "source": [
        "- [x]  открыт файл\n",
        "- [x]  файлы изучены (выведены первые строки, метод `info()`)\n",
        "- [x]  определены пропущенные значения\n",
        "- [x]  заполнены пропущенные значения\n",
        "- [x]  есть пояснение, какие пропущенные значения обнаружены\n",
        "- [x]  изменены типы данных\n",
        "- [x]  есть пояснение, в каких столбцах изменены типы и почему\n",
        "- [x]  посчитано и добавлено в таблицу: цена квадратного метра\n",
        "- [x]  посчитано и добавлено в таблицу: день недели, месяц и год публикации объявления\n",
        "- [x]  посчитано и добавлено в таблицу: этаж квартиры; варианты — первый, последний, другой\n",
        "- [x]  посчитано и добавлено в таблицу: соотношение жилой и общей площади, а также отношение площади кухни к общей\n",
        "- [x]  изучены следующие параметры: площадь, цена, число комнат, высота потолков\n",
        "- [x]  построены гистограммы для каждого параметра\n",
        "- [x]  выполнено задание: «Изучите время продажи квартиры. Постройте гистограмму. Посчитайте среднее и медиану. Опишите, сколько обычно занимает продажа. Когда можно считать, что продажи прошли очень быстро, а когда необычно долго?»\n",
        "- [x]  выполнено задание: «Уберите редкие и выбивающиеся значения. Опишите, какие особенности обнаружили».\n",
        "- [x]  выполнено задание: «Какие факторы больше всего влияют на стоимость квартиры? Изучите, зависит ли цена от квадратного метра, числа комнат, этажа (первого или последнего), удалённости от центра. Также изучите зависимость от даты размещения: дня недели, месяца и года». \n",
        "- [x]  выполнено задание: «Выберите 10 населённых пунктов с наибольшим числом объявлений. Посчитайте среднюю цену квадратного метра в этих населённых пунктах. Выделите населённые пункты с самой высокой и низкой стоимостью жилья. Эти данные можно найти по имени в столбце `locality_name`».\n",
        "- [x]  выполнено задание: «Изучите предложения квартир: для каждой квартиры есть информация о расстоянии до центра. Выделите квартиры в Санкт-Петербурге (`locality_name`). Ваша задача — выяснить, какая область входит в центр. Создайте столбец с расстоянием до центра в километрах: округлите до целых значений. После этого посчитайте среднюю цену для каждого километра. Постройте график: он должен показывать, как цена зависит от удалённости от центра. Определите границу, где график сильно меняется — это и будет центральная зона».\n",
        "- [x]  выполнено задание: «Выделите сегмент квартир в центре. Проанализируйте эту территорию и изучите следующие параметры: площадь, цена, число комнат, высота потолков. Также выделите факторы, которые влияют на стоимость квартиры (число комнат, этаж, удалённость от центра, дата размещения объявления). Сделайте выводы. Отличаются ли они от общих выводов по всей базе?»\n",
        "- [x]  в каждом этапе есть выводы\n",
        "- [x]  есть общий вывод"
      ],
      "metadata": {
        "id": "2UjpmAQrkn1a"
      }
    }
  ]
}