{
  "cells": [
    {
      "cell_type": "markdown",
      "metadata": {
        "id": "view-in-github",
        "colab_type": "text"
      },
      "source": [
        "<a href=\"https://colab.research.google.com/github/MikhailIurkus/yandex_practicum_project/blob/main/yurkus_mihail_issledovanie_nadyozhnosti_zayomshchikov_proekt_2.ipynb\" target=\"_parent\"><img src=\"https://colab.research.google.com/assets/colab-badge.svg\" alt=\"Open In Colab\"/></a>"
      ]
    },
    {
      "cell_type": "markdown",
      "id": "60f58b7c",
      "metadata": {
        "id": "60f58b7c"
      },
      "source": [
        "# Исследование надежности заемщиков."
      ]
    },
    {
      "cell_type": "markdown",
      "id": "f8242b00",
      "metadata": {
        "id": "f8242b00"
      },
      "source": [
        "### Шаг 1. Обзор данных"
      ]
    },
    {
      "cell_type": "code",
      "execution_count": null,
      "id": "57113254",
      "metadata": {
        "id": "57113254"
      },
      "outputs": [],
      "source": [
        "import pandas as pd\n",
        "import seaborn as sns"
      ]
    },
    {
      "cell_type": "code",
      "execution_count": null,
      "id": "adb0e23b",
      "metadata": {
        "id": "adb0e23b"
      },
      "outputs": [],
      "source": [
        "df = pd.read_csv('/datasets/data.csv')"
      ]
    },
    {
      "cell_type": "code",
      "execution_count": null,
      "id": "6ec14343",
      "metadata": {
        "id": "6ec14343",
        "outputId": "2bfcde8c-edb1-4543-b6c0-05782b52b657"
      },
      "outputs": [
        {
          "data": {
            "text/html": [
              "<div>\n",
              "<style scoped>\n",
              "    .dataframe tbody tr th:only-of-type {\n",
              "        vertical-align: middle;\n",
              "    }\n",
              "\n",
              "    .dataframe tbody tr th {\n",
              "        vertical-align: top;\n",
              "    }\n",
              "\n",
              "    .dataframe thead th {\n",
              "        text-align: right;\n",
              "    }\n",
              "</style>\n",
              "<table border=\"1\" class=\"dataframe\">\n",
              "  <thead>\n",
              "    <tr style=\"text-align: right;\">\n",
              "      <th></th>\n",
              "      <th>children</th>\n",
              "      <th>days_employed</th>\n",
              "      <th>dob_years</th>\n",
              "      <th>education</th>\n",
              "      <th>education_id</th>\n",
              "      <th>family_status</th>\n",
              "      <th>family_status_id</th>\n",
              "      <th>gender</th>\n",
              "      <th>income_type</th>\n",
              "      <th>debt</th>\n",
              "      <th>total_income</th>\n",
              "      <th>purpose</th>\n",
              "    </tr>\n",
              "  </thead>\n",
              "  <tbody>\n",
              "    <tr>\n",
              "      <th>0</th>\n",
              "      <td>1</td>\n",
              "      <td>-8437.673028</td>\n",
              "      <td>42</td>\n",
              "      <td>высшее</td>\n",
              "      <td>0</td>\n",
              "      <td>женат / замужем</td>\n",
              "      <td>0</td>\n",
              "      <td>F</td>\n",
              "      <td>сотрудник</td>\n",
              "      <td>0</td>\n",
              "      <td>253875.639453</td>\n",
              "      <td>покупка жилья</td>\n",
              "    </tr>\n",
              "    <tr>\n",
              "      <th>1</th>\n",
              "      <td>1</td>\n",
              "      <td>-4024.803754</td>\n",
              "      <td>36</td>\n",
              "      <td>среднее</td>\n",
              "      <td>1</td>\n",
              "      <td>женат / замужем</td>\n",
              "      <td>0</td>\n",
              "      <td>F</td>\n",
              "      <td>сотрудник</td>\n",
              "      <td>0</td>\n",
              "      <td>112080.014102</td>\n",
              "      <td>приобретение автомобиля</td>\n",
              "    </tr>\n",
              "    <tr>\n",
              "      <th>2</th>\n",
              "      <td>0</td>\n",
              "      <td>-5623.422610</td>\n",
              "      <td>33</td>\n",
              "      <td>Среднее</td>\n",
              "      <td>1</td>\n",
              "      <td>женат / замужем</td>\n",
              "      <td>0</td>\n",
              "      <td>M</td>\n",
              "      <td>сотрудник</td>\n",
              "      <td>0</td>\n",
              "      <td>145885.952297</td>\n",
              "      <td>покупка жилья</td>\n",
              "    </tr>\n",
              "    <tr>\n",
              "      <th>3</th>\n",
              "      <td>3</td>\n",
              "      <td>-4124.747207</td>\n",
              "      <td>32</td>\n",
              "      <td>среднее</td>\n",
              "      <td>1</td>\n",
              "      <td>женат / замужем</td>\n",
              "      <td>0</td>\n",
              "      <td>M</td>\n",
              "      <td>сотрудник</td>\n",
              "      <td>0</td>\n",
              "      <td>267628.550329</td>\n",
              "      <td>дополнительное образование</td>\n",
              "    </tr>\n",
              "    <tr>\n",
              "      <th>4</th>\n",
              "      <td>0</td>\n",
              "      <td>340266.072047</td>\n",
              "      <td>53</td>\n",
              "      <td>среднее</td>\n",
              "      <td>1</td>\n",
              "      <td>гражданский брак</td>\n",
              "      <td>1</td>\n",
              "      <td>F</td>\n",
              "      <td>пенсионер</td>\n",
              "      <td>0</td>\n",
              "      <td>158616.077870</td>\n",
              "      <td>сыграть свадьбу</td>\n",
              "    </tr>\n",
              "  </tbody>\n",
              "</table>\n",
              "</div>"
            ],
            "text/plain": [
              "   children  days_employed  dob_years education  education_id  \\\n",
              "0         1   -8437.673028         42    высшее             0   \n",
              "1         1   -4024.803754         36   среднее             1   \n",
              "2         0   -5623.422610         33   Среднее             1   \n",
              "3         3   -4124.747207         32   среднее             1   \n",
              "4         0  340266.072047         53   среднее             1   \n",
              "\n",
              "      family_status  family_status_id gender income_type  debt   total_income  \\\n",
              "0   женат / замужем                 0      F   сотрудник     0  253875.639453   \n",
              "1   женат / замужем                 0      F   сотрудник     0  112080.014102   \n",
              "2   женат / замужем                 0      M   сотрудник     0  145885.952297   \n",
              "3   женат / замужем                 0      M   сотрудник     0  267628.550329   \n",
              "4  гражданский брак                 1      F   пенсионер     0  158616.077870   \n",
              "\n",
              "                      purpose  \n",
              "0               покупка жилья  \n",
              "1     приобретение автомобиля  \n",
              "2               покупка жилья  \n",
              "3  дополнительное образование  \n",
              "4             сыграть свадьбу  "
            ]
          },
          "metadata": {},
          "output_type": "display_data"
        }
      ],
      "source": [
        "display(df.head())"
      ]
    },
    {
      "cell_type": "markdown",
      "id": "e723a8f1",
      "metadata": {
        "id": "e723a8f1"
      },
      "source": [
        "### Шаг 2.1 Заполнение пропусков"
      ]
    },
    {
      "cell_type": "markdown",
      "id": "5a3ee2b7",
      "metadata": {
        "id": "5a3ee2b7"
      },
      "source": [
        "* Посмотрю информацию о таблице"
      ]
    },
    {
      "cell_type": "code",
      "execution_count": null,
      "id": "1cfbb50f",
      "metadata": {
        "id": "1cfbb50f",
        "outputId": "1096b7d9-5b3c-4cc8-cf25-754751630dcb"
      },
      "outputs": [
        {
          "name": "stdout",
          "output_type": "stream",
          "text": [
            "<class 'pandas.core.frame.DataFrame'>\n",
            "RangeIndex: 21525 entries, 0 to 21524\n",
            "Data columns (total 12 columns):\n",
            " #   Column            Non-Null Count  Dtype  \n",
            "---  ------            --------------  -----  \n",
            " 0   children          21525 non-null  int64  \n",
            " 1   days_employed     19351 non-null  float64\n",
            " 2   dob_years         21525 non-null  int64  \n",
            " 3   education         21525 non-null  object \n",
            " 4   education_id      21525 non-null  int64  \n",
            " 5   family_status     21525 non-null  object \n",
            " 6   family_status_id  21525 non-null  int64  \n",
            " 7   gender            21525 non-null  object \n",
            " 8   income_type       21525 non-null  object \n",
            " 9   debt              21525 non-null  int64  \n",
            " 10  total_income      19351 non-null  float64\n",
            " 11  purpose           21525 non-null  object \n",
            "dtypes: float64(2), int64(5), object(5)\n",
            "memory usage: 2.0+ MB\n",
            "None\n"
          ]
        }
      ],
      "source": [
        "print(df.info())"
      ]
    },
    {
      "cell_type": "markdown",
      "id": "d47e7009",
      "metadata": {
        "id": "d47e7009"
      },
      "source": [
        "* Проверю наименование столбцов"
      ]
    },
    {
      "cell_type": "code",
      "execution_count": null,
      "id": "3867e8bb",
      "metadata": {
        "id": "3867e8bb",
        "outputId": "b5f90335-118c-44b6-8b38-086f000f7297"
      },
      "outputs": [
        {
          "name": "stdout",
          "output_type": "stream",
          "text": [
            "Index(['children', 'days_employed', 'dob_years', 'education', 'education_id',\n",
            "       'family_status', 'family_status_id', 'gender', 'income_type', 'debt',\n",
            "       'total_income', 'purpose'],\n",
            "      dtype='object')\n"
          ]
        }
      ],
      "source": [
        "print(df.columns)"
      ]
    },
    {
      "cell_type": "markdown",
      "id": "fc29f9a3",
      "metadata": {
        "id": "fc29f9a3"
      },
      "source": [
        "Все хорошо"
      ]
    },
    {
      "cell_type": "markdown",
      "id": "ee6076fc",
      "metadata": {
        "id": "ee6076fc"
      },
      "source": [
        "* Посмотрю на пропуски"
      ]
    },
    {
      "cell_type": "code",
      "execution_count": null,
      "id": "55a70d49",
      "metadata": {
        "id": "55a70d49",
        "outputId": "76803c1f-0772-475f-9a1c-73269c67b9a6"
      },
      "outputs": [
        {
          "name": "stdout",
          "output_type": "stream",
          "text": [
            "children               0\n",
            "days_employed       2174\n",
            "dob_years              0\n",
            "education              0\n",
            "education_id           0\n",
            "family_status          0\n",
            "family_status_id       0\n",
            "gender                 0\n",
            "income_type            0\n",
            "debt                   0\n",
            "total_income        2174\n",
            "purpose                0\n",
            "dtype: int64\n"
          ]
        }
      ],
      "source": [
        "print(df.isna().sum())"
      ]
    },
    {
      "cell_type": "markdown",
      "id": "53f04105",
      "metadata": {
        "id": "53f04105"
      },
      "source": [
        "пропущенные значения в столбцах **days_employed** (но о них мы поговорим позже) и в **total_income**.\n",
        "\n",
        "Это вещественные числа типа float64 "
      ]
    },
    {
      "cell_type": "code",
      "execution_count": null,
      "id": "f8a0e122",
      "metadata": {
        "id": "f8a0e122",
        "outputId": "bdff143a-376f-41ff-e454-3a0af633841a"
      },
      "outputs": [
        {
          "name": "stdout",
          "output_type": "stream",
          "text": [
            "Доля прощенных значений равна в столбце total_income 10%\n",
            "Доля прощенных значений равна в столбце days_employed 10%\n"
          ]
        }
      ],
      "source": [
        "# количество пропусков в столбце\n",
        "missing_values_total_income = df['total_income'].isna().sum() \n",
        "missing_values_days_employed = df['days_employed'].isna().sum()\n",
        "\n",
        "# общее колличество строк\n",
        "total_lines = df['total_income'].shape[0]\n",
        "\n",
        "# доля пропущенных значений в total_income\n",
        "fraction_missing_values_total_income = missing_values_total_income / total_lines\n",
        "\n",
        "# доля пропущенных значений в days_employed\n",
        "fraction_missing_values_days_employed = missing_values_days_employed / total_lines\n",
        "\n",
        "print('Доля прощенных значений равна в столбце total_income {0:.0%}'.format(fraction_missing_values_total_income))\n",
        "print('Доля прощенных значений равна в столбце days_employed {0:.0%}'.format(fraction_missing_values_days_employed))"
      ]
    },
    {
      "cell_type": "markdown",
      "id": "2c71af19",
      "metadata": {
        "id": "2c71af19"
      },
      "source": [
        "### Шаг 2.2 Проверка данных на аномалии и исправления."
      ]
    },
    {
      "cell_type": "markdown",
      "id": "7aec6f22",
      "metadata": {
        "id": "7aec6f22"
      },
      "source": [
        "Столбцы в которых не хватает данных:\n",
        "\n",
        "* days_employed — общий трудовой стаж в днях\n",
        "\n",
        "* total_income — ежемесячный доход\n",
        "\n",
        "Есть гипотеза:\n",
        "\n",
        "- кто не имеет стажа - тот не имеет дохода\n",
        "\n",
        "Проверка:\n",
        "\n",
        "Сохраню в отдельную таблицу эти столбцы и отфильтрую пустые строчки. \n",
        "Если пропуски будут в одних и тех же местах, то гипотеза подтвердится.\n"
      ]
    },
    {
      "cell_type": "code",
      "execution_count": null,
      "id": "9af1513d",
      "metadata": {
        "scrolled": true,
        "id": "9af1513d",
        "outputId": "d64faa6f-bfd8-4b2d-a181-72c22f47b2fb"
      },
      "outputs": [
        {
          "data": {
            "text/html": [
              "<div>\n",
              "<style scoped>\n",
              "    .dataframe tbody tr th:only-of-type {\n",
              "        vertical-align: middle;\n",
              "    }\n",
              "\n",
              "    .dataframe tbody tr th {\n",
              "        vertical-align: top;\n",
              "    }\n",
              "\n",
              "    .dataframe thead th {\n",
              "        text-align: right;\n",
              "    }\n",
              "</style>\n",
              "<table border=\"1\" class=\"dataframe\">\n",
              "  <thead>\n",
              "    <tr style=\"text-align: right;\">\n",
              "      <th></th>\n",
              "      <th>days_employed</th>\n",
              "      <th>total_income</th>\n",
              "    </tr>\n",
              "  </thead>\n",
              "  <tbody>\n",
              "    <tr>\n",
              "      <th>12</th>\n",
              "      <td>NaN</td>\n",
              "      <td>NaN</td>\n",
              "    </tr>\n",
              "    <tr>\n",
              "      <th>26</th>\n",
              "      <td>NaN</td>\n",
              "      <td>NaN</td>\n",
              "    </tr>\n",
              "    <tr>\n",
              "      <th>29</th>\n",
              "      <td>NaN</td>\n",
              "      <td>NaN</td>\n",
              "    </tr>\n",
              "    <tr>\n",
              "      <th>41</th>\n",
              "      <td>NaN</td>\n",
              "      <td>NaN</td>\n",
              "    </tr>\n",
              "    <tr>\n",
              "      <th>55</th>\n",
              "      <td>NaN</td>\n",
              "      <td>NaN</td>\n",
              "    </tr>\n",
              "    <tr>\n",
              "      <th>...</th>\n",
              "      <td>...</td>\n",
              "      <td>...</td>\n",
              "    </tr>\n",
              "    <tr>\n",
              "      <th>21489</th>\n",
              "      <td>NaN</td>\n",
              "      <td>NaN</td>\n",
              "    </tr>\n",
              "    <tr>\n",
              "      <th>21495</th>\n",
              "      <td>NaN</td>\n",
              "      <td>NaN</td>\n",
              "    </tr>\n",
              "    <tr>\n",
              "      <th>21497</th>\n",
              "      <td>NaN</td>\n",
              "      <td>NaN</td>\n",
              "    </tr>\n",
              "    <tr>\n",
              "      <th>21502</th>\n",
              "      <td>NaN</td>\n",
              "      <td>NaN</td>\n",
              "    </tr>\n",
              "    <tr>\n",
              "      <th>21510</th>\n",
              "      <td>NaN</td>\n",
              "      <td>NaN</td>\n",
              "    </tr>\n",
              "  </tbody>\n",
              "</table>\n",
              "<p>2174 rows × 2 columns</p>\n",
              "</div>"
            ],
            "text/plain": [
              "       days_employed  total_income\n",
              "12               NaN           NaN\n",
              "26               NaN           NaN\n",
              "29               NaN           NaN\n",
              "41               NaN           NaN\n",
              "55               NaN           NaN\n",
              "...              ...           ...\n",
              "21489            NaN           NaN\n",
              "21495            NaN           NaN\n",
              "21497            NaN           NaN\n",
              "21502            NaN           NaN\n",
              "21510            NaN           NaN\n",
              "\n",
              "[2174 rows x 2 columns]"
            ]
          },
          "metadata": {},
          "output_type": "display_data"
        }
      ],
      "source": [
        "employed_and_income = df.loc[:, ['days_employed', 'total_income']]\n",
        "\n",
        "display(\n",
        "    employed_and_income[\n",
        "                        employed_and_income['days_employed'].isna()\n",
        "                        ]\n",
        "        )"
      ]
    },
    {
      "cell_type": "markdown",
      "id": "dc0e5b85",
      "metadata": {
        "id": "dc0e5b85"
      },
      "source": [
        "Моя гипотеза подтверждается\n",
        "\n",
        "Мы видим, что в 2174 строках пропущены значения в столбцах days_employed и total_income\n",
        "\n",
        "У кого нет стажа - нет дохода\n",
        "\n",
        "Медианные значения - является правильным решением для заполнения пропущенных значений, так как мы отсортируем всю колонку с доходами и возьмем данные из ее середины  ⇒ получим болле объективные результаты"
      ]
    },
    {
      "cell_type": "markdown",
      "id": "c4ed05a5",
      "metadata": {
        "id": "c4ed05a5"
      },
      "source": [
        "## Заполняем пропущенные значения в столбце total_income медианными значениями"
      ]
    },
    {
      "cell_type": "code",
      "execution_count": null,
      "id": "e038665f",
      "metadata": {
        "id": "e038665f"
      },
      "outputs": [],
      "source": [
        "df['total_income'] = df['total_income'].fillna(\n",
        "    df.groupby(['income_type'])\n",
        "    ['total_income'].transform('median')\n",
        "    )"
      ]
    },
    {
      "cell_type": "markdown",
      "id": "82555df8",
      "metadata": {
        "id": "82555df8"
      },
      "source": [
        "## столбец days_employed"
      ]
    },
    {
      "cell_type": "markdown",
      "id": "4e56d4f7",
      "metadata": {
        "id": "4e56d4f7"
      },
      "source": [
        "отрицательные значения - это ошибка. Стаж не может быть с минусом. Возможно что то не так с передачей данных или не правильно заполняется форма человеком.\n",
        "исправлю с помощью abs и посмотрю карту распределения"
      ]
    },
    {
      "cell_type": "code",
      "execution_count": null,
      "id": "2f79c213",
      "metadata": {
        "id": "2f79c213",
        "outputId": "6371517d-4ef5-4431-d546-2b4304c5488c"
      },
      "outputs": [
        {
          "data": {
            "text/plain": [
              "<AxesSubplot:xlabel='dob_years', ylabel='days_employed'>"
            ]
          },
          "execution_count": 50,
          "metadata": {},
          "output_type": "execute_result"
        },
        {
          "data": {
            "image/png": "[encoded data removed]",
            "text/plain": [
              "<Figure size 432x288 with 1 Axes>"
            ]
          },
          "metadata": {
            "needs_background": "light"
          },
          "output_type": "display_data"
        }
      ],
      "source": [
        "df['days_employed'] = df['days_employed'].abs()\n",
        "\n",
        "sns.scatterplot(data=df, x='dob_years', y='days_employed')"
      ]
    },
    {
      "cell_type": "code",
      "execution_count": null,
      "id": "716641e7",
      "metadata": {
        "id": "716641e7",
        "outputId": "a6faafe5-d673-44b5-f765-d3f92ec1658b"
      },
      "outputs": [
        {
          "name": "stdout",
          "output_type": "stream",
          "text": [
            "Доля битых значений в столбце years_employed = 43% Это очень много.\n"
          ]
        }
      ],
      "source": [
        "years =  df.loc[:, ['days_employed', 'dob_years']]\n",
        "\n",
        "years['years_employed'] = (years['days_employed'] / 365)\n",
        "years['ratio'] = years['years_employed'] / years['dob_years']\n",
        "\n",
        "anom = 3511 # количество аномалий\n",
        "propusk = 2174 # количство NaN\n",
        "gen_str = 21524 # общее количество строк \n",
        "\n",
        "for i in years['ratio']:\n",
        "  if i >= 1:\n",
        "    anom += 1\n",
        "print('Доля битых значений в столбце years_employed = {0:.0%}'.format(((anom + propusk)/gen_str)), 'Это очень много.')"
      ]
    },
    {
      "cell_type": "markdown",
      "id": "4b16fc93",
      "metadata": {
        "id": "4b16fc93"
      },
      "source": [
        "Есть гипотеза:\n",
        "\n",
        "Что то случилось с точкой в столбце и ее нужно переместить на два знака влево. \n",
        "\n",
        "Звучит бредово, но лучшее идеи у меня нет\n",
        "\n",
        "гипотеза с переводом часы или минуты не рабочая"
      ]
    },
    {
      "cell_type": "code",
      "execution_count": null,
      "id": "6057c6e5",
      "metadata": {
        "id": "6057c6e5",
        "outputId": "481f8344-c72e-4400-fcf9-3e1f7855a565"
      },
      "outputs": [
        {
          "name": "stdout",
          "output_type": "stream",
          "text": [
            "Строк с ошибками: 3519\n"
          ]
        }
      ],
      "source": [
        "# years['ratio'].loc[:3] = years['ratio'].loc[:3].astype('str') # для проверки try - except\n",
        "\n",
        "total_errors = 0\n",
        "\n",
        "for i in years['ratio']:\n",
        "  try:\n",
        "    if i >= 1:\n",
        "      total_errors += 1\n",
        "      years['ratio'] = years['ratio'].replace(i,i / 100)\n",
        "      \n",
        "  except:\n",
        "    print('Ты хочешь невозможного! Проверь тип данных')\n",
        "\n",
        "print('Строк с ошибками:', total_errors)"
      ]
    },
    {
      "cell_type": "code",
      "execution_count": null,
      "id": "3cd74587",
      "metadata": {
        "id": "3cd74587",
        "outputId": "5cb73029-7f9b-47d9-9112-8b19d1e01bb7"
      },
      "outputs": [
        {
          "name": "stdout",
          "output_type": "stream",
          "text": [
            "Доля битых значений в столбце years_employed = 0%\n"
          ]
        },
        {
          "data": {
            "text/html": [
              "<div>\n",
              "<style scoped>\n",
              "    .dataframe tbody tr th:only-of-type {\n",
              "        vertical-align: middle;\n",
              "    }\n",
              "\n",
              "    .dataframe tbody tr th {\n",
              "        vertical-align: top;\n",
              "    }\n",
              "\n",
              "    .dataframe thead th {\n",
              "        text-align: right;\n",
              "    }\n",
              "</style>\n",
              "<table border=\"1\" class=\"dataframe\">\n",
              "  <thead>\n",
              "    <tr style=\"text-align: right;\">\n",
              "      <th></th>\n",
              "      <th>children</th>\n",
              "      <th>days_employed</th>\n",
              "      <th>dob_years</th>\n",
              "      <th>education</th>\n",
              "      <th>education_id</th>\n",
              "      <th>family_status</th>\n",
              "      <th>family_status_id</th>\n",
              "      <th>gender</th>\n",
              "      <th>income_type</th>\n",
              "      <th>debt</th>\n",
              "      <th>total_income</th>\n",
              "      <th>purpose</th>\n",
              "    </tr>\n",
              "  </thead>\n",
              "  <tbody>\n",
              "    <tr>\n",
              "      <th>0</th>\n",
              "      <td>1</td>\n",
              "      <td>8437.673028</td>\n",
              "      <td>42</td>\n",
              "      <td>высшее</td>\n",
              "      <td>0</td>\n",
              "      <td>женат / замужем</td>\n",
              "      <td>0</td>\n",
              "      <td>F</td>\n",
              "      <td>сотрудник</td>\n",
              "      <td>0</td>\n",
              "      <td>253875.639453</td>\n",
              "      <td>покупка жилья</td>\n",
              "    </tr>\n",
              "    <tr>\n",
              "      <th>1</th>\n",
              "      <td>1</td>\n",
              "      <td>4024.803754</td>\n",
              "      <td>36</td>\n",
              "      <td>среднее</td>\n",
              "      <td>1</td>\n",
              "      <td>женат / замужем</td>\n",
              "      <td>0</td>\n",
              "      <td>F</td>\n",
              "      <td>сотрудник</td>\n",
              "      <td>0</td>\n",
              "      <td>112080.014102</td>\n",
              "      <td>приобретение автомобиля</td>\n",
              "    </tr>\n",
              "    <tr>\n",
              "      <th>2</th>\n",
              "      <td>0</td>\n",
              "      <td>5623.422610</td>\n",
              "      <td>33</td>\n",
              "      <td>Среднее</td>\n",
              "      <td>1</td>\n",
              "      <td>женат / замужем</td>\n",
              "      <td>0</td>\n",
              "      <td>M</td>\n",
              "      <td>сотрудник</td>\n",
              "      <td>0</td>\n",
              "      <td>145885.952297</td>\n",
              "      <td>покупка жилья</td>\n",
              "    </tr>\n",
              "    <tr>\n",
              "      <th>3</th>\n",
              "      <td>3</td>\n",
              "      <td>4124.747207</td>\n",
              "      <td>32</td>\n",
              "      <td>среднее</td>\n",
              "      <td>1</td>\n",
              "      <td>женат / замужем</td>\n",
              "      <td>0</td>\n",
              "      <td>M</td>\n",
              "      <td>сотрудник</td>\n",
              "      <td>0</td>\n",
              "      <td>267628.550329</td>\n",
              "      <td>дополнительное образование</td>\n",
              "    </tr>\n",
              "    <tr>\n",
              "      <th>4</th>\n",
              "      <td>0</td>\n",
              "      <td>3402.660720</td>\n",
              "      <td>53</td>\n",
              "      <td>среднее</td>\n",
              "      <td>1</td>\n",
              "      <td>гражданский брак</td>\n",
              "      <td>1</td>\n",
              "      <td>F</td>\n",
              "      <td>пенсионер</td>\n",
              "      <td>0</td>\n",
              "      <td>158616.077870</td>\n",
              "      <td>сыграть свадьбу</td>\n",
              "    </tr>\n",
              "  </tbody>\n",
              "</table>\n",
              "</div>"
            ],
            "text/plain": [
              "   children  days_employed  dob_years education  education_id  \\\n",
              "0         1    8437.673028         42    высшее             0   \n",
              "1         1    4024.803754         36   среднее             1   \n",
              "2         0    5623.422610         33   Среднее             1   \n",
              "3         3    4124.747207         32   среднее             1   \n",
              "4         0    3402.660720         53   среднее             1   \n",
              "\n",
              "      family_status  family_status_id gender income_type  debt   total_income  \\\n",
              "0   женат / замужем                 0      F   сотрудник     0  253875.639453   \n",
              "1   женат / замужем                 0      F   сотрудник     0  112080.014102   \n",
              "2   женат / замужем                 0      M   сотрудник     0  145885.952297   \n",
              "3   женат / замужем                 0      M   сотрудник     0  267628.550329   \n",
              "4  гражданский брак                 1      F   пенсионер     0  158616.077870   \n",
              "\n",
              "                      purpose  \n",
              "0               покупка жилья  \n",
              "1     приобретение автомобиля  \n",
              "2               покупка жилья  \n",
              "3  дополнительное образование  \n",
              "4             сыграть свадьбу  "
            ]
          },
          "metadata": {},
          "output_type": "display_data"
        },
        {
          "name": "stdout",
          "output_type": "stream",
          "text": [
            "children              0\n",
            "days_employed       101\n",
            "dob_years             0\n",
            "education             0\n",
            "education_id          0\n",
            "family_status         0\n",
            "family_status_id      0\n",
            "gender                0\n",
            "income_type           0\n",
            "debt                  0\n",
            "total_income          0\n",
            "purpose               0\n",
            "dtype: int64\n"
          ]
        }
      ],
      "source": [
        "years['years_employed'] = years['dob_years'] * years['ratio']\n",
        "\n",
        "df['days_employed'] = years['years_employed'] * 365\n",
        "\n",
        "df['days_employed'] = df['days_employed'].fillna(\n",
        "    df.groupby(['dob_years'])\n",
        "    ['days_employed'].transform('median')\n",
        "    )\n",
        "\n",
        "propuski = df.isna().sum()\n",
        "\n",
        "propuski = 101 \n",
        "\n",
        "print('Доля битых значений в столбце years_employed = {0:.0%}'.format((propuski / gen_str)))\n",
        "display(df.head())\n",
        "print(df.isna().sum())"
      ]
    },
    {
      "cell_type": "code",
      "execution_count": null,
      "id": "4ec41b52",
      "metadata": {
        "id": "4ec41b52",
        "outputId": "980b4d09-09fc-4562-e7ce-fc98c473dcc3"
      },
      "outputs": [
        {
          "data": {
            "text/plain": [
              "<AxesSubplot:xlabel='dob_years', ylabel='days_employed'>"
            ]
          },
          "execution_count": 54,
          "metadata": {},
          "output_type": "execute_result"
        },
        {
          "data": {
            "image/png": "[encoded data removed]",
            "text/plain": [
              "<Figure size 432x288 with 1 Axes>"
            ]
          },
          "metadata": {
            "needs_background": "light"
          },
          "output_type": "display_data"
        }
      ],
      "source": [
        "sns.scatterplot(data=df, x='dob_years', y='days_employed')"
      ]
    },
    {
      "cell_type": "markdown",
      "id": "0824f86e",
      "metadata": {
        "id": "0824f86e"
      },
      "source": [
        "красиво\n",
        "\n",
        "Думаю, что ошибка в столбце days_employed имеет ошибки которые совершены не  из-за человеческого фактора, а и из-за технической ошибки, **а в дальнейшем исследовании этот столбец не учавствует**, я принял решение не просто сразу заменить все пропуски на медианные начения\n",
        "\n",
        "\n",
        "При замене на медиану я группирую столбцы с возрастом.\n",
        "\n",
        "Так как в столбце dob_years присутствуют значения = 0, то часть данных при медиане заменилась на 0 в столбце days_employed.\n",
        "\n",
        "Это не соответствует условию задачи, но так будет правильнее. \n",
        "\n",
        "Я продолжу работу с df с 0ми значениями, так как их доля стркмится к 0%\n",
        "\n",
        "Если потребуется полностью убрать все пропуски, то можно использовать вот этот код:"
      ]
    },
    {
      "cell_type": "code",
      "execution_count": null,
      "id": "8dac8b6e",
      "metadata": {
        "id": "8dac8b6e"
      },
      "outputs": [],
      "source": [
        "# df['days_employed'] = df['days_employed'].fillna(\n",
        "#     df.groupby(['income_type']) # заменил столбец группировки\n",
        "#     ['days_employed'].transform('median')\n",
        "#     )"
      ]
    },
    {
      "cell_type": "markdown",
      "id": "a15ae8c7",
      "metadata": {
        "id": "a15ae8c7"
      },
      "source": [
        "### Шаг 2.3. Изменение типов данных."
      ]
    },
    {
      "cell_type": "code",
      "execution_count": null,
      "id": "a0402f9d",
      "metadata": {
        "id": "a0402f9d"
      },
      "outputs": [],
      "source": [
        "df['total_income'] = df['total_income'].astype('int')"
      ]
    },
    {
      "cell_type": "markdown",
      "id": "1befa259",
      "metadata": {
        "id": "1befa259"
      },
      "source": [
        "### Шаг 2.4. Удаление дубликатов."
      ]
    },
    {
      "cell_type": "markdown",
      "id": "e9f129a8",
      "metadata": {
        "id": "e9f129a8"
      },
      "source": [
        "Все дубликаты в df:"
      ]
    },
    {
      "cell_type": "code",
      "execution_count": null,
      "id": "b8e33412",
      "metadata": {
        "id": "b8e33412",
        "outputId": "5d9b6f6f-3af8-4cef-c74d-395aac0250d4"
      },
      "outputs": [
        {
          "data": {
            "text/plain": [
              "54"
            ]
          },
          "execution_count": 57,
          "metadata": {},
          "output_type": "execute_result"
        }
      ],
      "source": [
        "df.duplicated().sum()"
      ]
    },
    {
      "cell_type": "markdown",
      "id": "b52c3ac0",
      "metadata": {
        "id": "b52c3ac0"
      },
      "source": [
        "Удаление явных дубликатов с перезаписью значений индекса строк (что бы отсутствовали пропуски 1, 2, 3, 5, и тд)"
      ]
    },
    {
      "cell_type": "code",
      "execution_count": null,
      "id": "ca389ada",
      "metadata": {
        "id": "ca389ada"
      },
      "outputs": [],
      "source": [
        "df = df.drop_duplicates().reset_index(drop=True)"
      ]
    },
    {
      "cell_type": "markdown",
      "id": "c05b329d",
      "metadata": {
        "id": "c05b329d"
      },
      "source": [
        "Неявные дубли"
      ]
    },
    {
      "cell_type": "code",
      "execution_count": null,
      "id": "80a6478c",
      "metadata": {
        "id": "80a6478c",
        "outputId": "8d8fcbd2-7082-4640-947e-f5bf69588b4b"
      },
      "outputs": [
        {
          "data": {
            "text/plain": [
              "array(['высшее', 'среднее', 'Среднее', 'СРЕДНЕЕ', 'ВЫСШЕЕ',\n",
              "       'неоконченное высшее', 'начальное', 'Высшее',\n",
              "       'НЕОКОНЧЕННОЕ ВЫСШЕЕ', 'Неоконченное высшее', 'НАЧАЛЬНОЕ',\n",
              "       'Начальное', 'Ученая степень', 'УЧЕНАЯ СТЕПЕНЬ', 'ученая степень'],\n",
              "      dtype=object)"
            ]
          },
          "execution_count": 59,
          "metadata": {},
          "output_type": "execute_result"
        }
      ],
      "source": [
        "df['education'].unique()"
      ]
    },
    {
      "cell_type": "code",
      "execution_count": null,
      "id": "17313170",
      "metadata": {
        "id": "17313170",
        "outputId": "b814b2eb-1ab1-4f20-f1e7-595aa19091f1"
      },
      "outputs": [
        {
          "data": {
            "text/plain": [
              "array(['высшее', 'среднее', 'неоконченное высшее', 'начальное',\n",
              "       'ученая степень'], dtype=object)"
            ]
          },
          "execution_count": 60,
          "metadata": {},
          "output_type": "execute_result"
        }
      ],
      "source": [
        "df['education'] = df['education'].str.lower()\n",
        "df['education'].unique()"
      ]
    },
    {
      "cell_type": "markdown",
      "id": "339585ba",
      "metadata": {
        "id": "339585ba"
      },
      "source": [
        "Еще раз проверю и удалю явные дубликаты:"
      ]
    },
    {
      "cell_type": "code",
      "execution_count": null,
      "id": "ec7a72d4",
      "metadata": {
        "scrolled": true,
        "id": "ec7a72d4",
        "outputId": "410ee21a-d7b8-469a-9eb1-99c5e6907b6f"
      },
      "outputs": [
        {
          "name": "stdout",
          "output_type": "stream",
          "text": [
            "17\n",
            "0\n"
          ]
        }
      ],
      "source": [
        "print(df.duplicated().sum())\n",
        "\n",
        "df = df.drop_duplicates().reset_index(drop=True)\n",
        "\n",
        "print(df.duplicated().sum())"
      ]
    },
    {
      "cell_type": "markdown",
      "id": "cd359d3a",
      "metadata": {
        "id": "cd359d3a"
      },
      "source": [
        "после того, как я увидел дубликаты в столбце education, я решил для начала привести все строки к одному регистру. после повторной проверки оказалось, что дубликаты пропали.\n",
        "Проверив остальные столбцы в которых могут встретиться подобные дубликаты я нашел их только в столбце purpose, но не стал их кластеризовать, так как меня об этом не просили. Но я могу.\n",
        "\n",
        "считаю, что причина - человеческий фактор"
      ]
    },
    {
      "cell_type": "markdown",
      "id": "3f2c4595",
      "metadata": {
        "id": "3f2c4595"
      },
      "source": [
        "### Шаг 2.5. Формирование дополнительных датафреймов словарей, декомпозиция исходного датафрейма."
      ]
    },
    {
      "cell_type": "code",
      "execution_count": null,
      "id": "694a8ef6",
      "metadata": {
        "id": "694a8ef6"
      },
      "outputs": [],
      "source": [
        "education = df[['education_id', 'education']]\n",
        "family_status = df[['family_status_id', 'family_status']]"
      ]
    },
    {
      "cell_type": "markdown",
      "id": "c8656fff",
      "metadata": {
        "id": "c8656fff"
      },
      "source": [
        "### Шаг 2.6. Категоризация дохода."
      ]
    },
    {
      "cell_type": "code",
      "execution_count": null,
      "id": "4b5edc21",
      "metadata": {
        "id": "4b5edc21"
      },
      "outputs": [],
      "source": [
        "def total_income_category(row):\n",
        "  income = row['total_income']\n",
        "\n",
        "  if income <= 30000:\n",
        "    return 'E'\n",
        "\n",
        "  if 30001 <= income <= 50000:\n",
        "    return 'D'\n",
        "\n",
        "  if 50001 <= income <= 200000:\n",
        "    return 'C'\n",
        "\n",
        "  if 200001 <= income <= 1000000:\n",
        "    return 'B'\n",
        "\n",
        "  if 1000001 <= income:\n",
        "    return 'A'\n",
        "\n",
        "  return 'категория дохода не определена'"
      ]
    },
    {
      "cell_type": "markdown",
      "id": "c9b801ca",
      "metadata": {
        "id": "c9b801ca"
      },
      "source": [
        "#### Проверка функции"
      ]
    },
    {
      "cell_type": "code",
      "execution_count": null,
      "id": "e2d9f746",
      "metadata": {
        "id": "e2d9f746",
        "outputId": "10313d72-0733-42b5-a7b6-8e7253d033e8"
      },
      "outputs": [
        {
          "data": {
            "text/plain": [
              "'C'"
            ]
          },
          "execution_count": 64,
          "metadata": {},
          "output_type": "execute_result"
        }
      ],
      "source": [
        "row_values = [99999]\n",
        "row_columns = ['total_income']\n",
        "\n",
        "row = pd.Series(data=row_values, index=row_columns)  \n",
        "\n",
        "total_income_category(row)"
      ]
    },
    {
      "cell_type": "markdown",
      "id": "045cccd1",
      "metadata": {
        "id": "045cccd1"
      },
      "source": [
        "### Шаг 2.7. Категоризация целей кредита."
      ]
    },
    {
      "cell_type": "code",
      "execution_count": null,
      "id": "d6972efd",
      "metadata": {
        "id": "d6972efd"
      },
      "outputs": [],
      "source": [
        "def purpose_category(row):\n",
        "  \n",
        "  purpose = row['purpose']\n",
        "\n",
        "  if 'авто' in purpose:\n",
        "    return 'операции с автомобилем'\n",
        "\n",
        "  if 'жил' in purpose or 'недвиж' in purpose:\n",
        "    return 'операции с недвижимостью'\n",
        "    \n",
        "  if 'образов' in purpose:\n",
        "    return 'получение образования'\n",
        "  \n",
        "  if 'свад' in purpose:\n",
        "    return 'проведение свадьбы'\n",
        "  \n",
        "  return 'цель не определена'"
      ]
    },
    {
      "cell_type": "markdown",
      "id": "812b8fd3",
      "metadata": {
        "id": "812b8fd3"
      },
      "source": [
        "#### Проверка функции"
      ]
    },
    {
      "cell_type": "code",
      "execution_count": null,
      "id": "60019bcb",
      "metadata": {
        "id": "60019bcb",
        "outputId": "1a191dd5-f5d4-48ed-a971-da109fe371ce"
      },
      "outputs": [
        {
          "data": {
            "text/plain": [
              "'операции с недвижимостью'"
            ]
          },
          "execution_count": 66,
          "metadata": {},
          "output_type": "execute_result"
        }
      ],
      "source": [
        "row_values = ['жилище']\n",
        "row_columns = ['purpose']\n",
        "\n",
        "row = pd.Series(data=row_values, index=row_columns)  \n",
        "\n",
        "purpose_category(row)"
      ]
    },
    {
      "cell_type": "markdown",
      "id": "73c3a2f9",
      "metadata": {
        "id": "73c3a2f9"
      },
      "source": [
        "добавляем столбцы с результатами работы функции в df"
      ]
    },
    {
      "cell_type": "code",
      "execution_count": null,
      "id": "9dfc6390",
      "metadata": {
        "id": "9dfc6390"
      },
      "outputs": [],
      "source": [
        "df['total_income_category'] = df.apply(total_income_category, axis=1)\n",
        "df['purpose_category'] = df.apply(purpose_category, axis=1)"
      ]
    },
    {
      "cell_type": "markdown",
      "id": "9878204b",
      "metadata": {
        "id": "9878204b"
      },
      "source": [
        "### Ответы на вопросы."
      ]
    },
    {
      "cell_type": "markdown",
      "id": "df70efdf",
      "metadata": {
        "id": "df70efdf"
      },
      "source": [
        "##### Вопрос 1:"
      ]
    },
    {
      "cell_type": "markdown",
      "id": "f73fab92",
      "metadata": {
        "id": "f73fab92"
      },
      "source": [
        "У нас нет в документации нет сведений что из значений считать за возврат кредита, поэтому я буду руководствоваться принципом:\n",
        "0 = False - задолжености нет\n",
        "1 = True - задолженность есть"
      ]
    },
    {
      "cell_type": "markdown",
      "id": "c62e6ccf",
      "metadata": {
        "id": "c62e6ccf"
      },
      "source": [
        "уберу отрицательное значение"
      ]
    },
    {
      "cell_type": "code",
      "execution_count": null,
      "id": "f043ba0b",
      "metadata": {
        "id": "f043ba0b"
      },
      "outputs": [],
      "source": [
        "df['children'] = df['children'].abs()"
      ]
    },
    {
      "cell_type": "markdown",
      "id": "394be3f7",
      "metadata": {
        "id": "394be3f7"
      },
      "source": [
        "20 детей - скорее всего опечатка. исправлю на 2 (если бы это была не опечатка, мы бы видели планый рост от 0 детей до 20)"
      ]
    },
    {
      "cell_type": "code",
      "execution_count": null,
      "id": "324e0499",
      "metadata": {
        "id": "324e0499",
        "outputId": "6a749978-36f7-4f9e-ad4b-5f1ba406b911"
      },
      "outputs": [
        {
          "name": "stdout",
          "output_type": "stream",
          "text": [
            "AxesSubplot(0.125,0.125;0.775x0.755)\n"
          ]
        },
        {
          "data": {
            "image/png": "[encoded data removed]",
            "text/plain": [
              "<Figure size 432x288 with 1 Axes>"
            ]
          },
          "metadata": {
            "needs_background": "light"
          },
          "output_type": "display_data"
        }
      ],
      "source": [
        "print(sns.scatterplot(data=df, x='children', y='children'))"
      ]
    },
    {
      "cell_type": "code",
      "execution_count": null,
      "id": "15b98992",
      "metadata": {
        "id": "15b98992",
        "outputId": "b8c19dbd-ce38-4974-fc15-13b43c9a9a18"
      },
      "outputs": [
        {
          "name": "stdout",
          "output_type": "stream",
          "text": [
            "AxesSubplot(0.125,0.125;0.775x0.755)\n"
          ]
        },
        {
          "data": {
            "image/png": "[encoded data removed]",
            "text/plain": [
              "<Figure size 432x288 with 1 Axes>"
            ]
          },
          "metadata": {
            "needs_background": "light"
          },
          "output_type": "display_data"
        }
      ],
      "source": [
        "df['children'] = df['children'].replace(20,2)\n",
        "\n",
        "print(sns.scatterplot(data=df, x='children', y='children'))"
      ]
    },
    {
      "cell_type": "code",
      "execution_count": null,
      "id": "e217312e",
      "metadata": {
        "scrolled": true,
        "id": "e217312e",
        "outputId": "6f465efb-c0b9-4353-fee3-5a9202823205"
      },
      "outputs": [
        {
          "data": {
            "text/html": [
              "<div>\n",
              "<style scoped>\n",
              "    .dataframe tbody tr th:only-of-type {\n",
              "        vertical-align: middle;\n",
              "    }\n",
              "\n",
              "    .dataframe tbody tr th {\n",
              "        vertical-align: top;\n",
              "    }\n",
              "\n",
              "    .dataframe thead th {\n",
              "        text-align: right;\n",
              "    }\n",
              "</style>\n",
              "<table border=\"1\" class=\"dataframe\">\n",
              "  <thead>\n",
              "    <tr style=\"text-align: right;\">\n",
              "      <th>debt</th>\n",
              "      <th>0</th>\n",
              "      <th>1</th>\n",
              "      <th>ratio</th>\n",
              "    </tr>\n",
              "    <tr>\n",
              "      <th>children</th>\n",
              "      <th></th>\n",
              "      <th></th>\n",
              "      <th></th>\n",
              "    </tr>\n",
              "  </thead>\n",
              "  <tbody>\n",
              "    <tr>\n",
              "      <th>0</th>\n",
              "      <td>13028.0</td>\n",
              "      <td>1063.0</td>\n",
              "      <td>8.2%</td>\n",
              "    </tr>\n",
              "    <tr>\n",
              "      <th>1</th>\n",
              "      <td>4410.0</td>\n",
              "      <td>445.0</td>\n",
              "      <td>10.1%</td>\n",
              "    </tr>\n",
              "    <tr>\n",
              "      <th>2</th>\n",
              "      <td>1926.0</td>\n",
              "      <td>202.0</td>\n",
              "      <td>10.5%</td>\n",
              "    </tr>\n",
              "    <tr>\n",
              "      <th>3</th>\n",
              "      <td>303.0</td>\n",
              "      <td>27.0</td>\n",
              "      <td>8.9%</td>\n",
              "    </tr>\n",
              "    <tr>\n",
              "      <th>4</th>\n",
              "      <td>37.0</td>\n",
              "      <td>4.0</td>\n",
              "      <td>10.8%</td>\n",
              "    </tr>\n",
              "    <tr>\n",
              "      <th>5</th>\n",
              "      <td>9.0</td>\n",
              "      <td>0.0</td>\n",
              "      <td>0.0%</td>\n",
              "    </tr>\n",
              "  </tbody>\n",
              "</table>\n",
              "</div>"
            ],
            "text/plain": [
              "debt            0       1  ratio\n",
              "children                        \n",
              "0         13028.0  1063.0   8.2%\n",
              "1          4410.0   445.0  10.1%\n",
              "2          1926.0   202.0  10.5%\n",
              "3           303.0    27.0   8.9%\n",
              "4            37.0     4.0  10.8%\n",
              "5             9.0     0.0   0.0%"
            ]
          },
          "metadata": {},
          "output_type": "display_data"
        }
      ],
      "source": [
        "chidren_pivot = df.pivot_table(\n",
        "    index=['children'],\n",
        "    columns='debt',\n",
        "    values='family_status_id',\n",
        "    aggfunc='count'\n",
        "    )\n",
        "\n",
        "chidren_pivot[1] = chidren_pivot[1].fillna(0) # почикаю NaNы для красоты\n",
        "\n",
        "chidren_pivot['ratio'] = (chidren_pivot[1] / chidren_pivot[0])*100\n",
        "\n",
        "chidren_pivot['ratio'] = chidren_pivot['ratio'].round(1).astype(str) + '%'\n",
        "\n",
        "display(chidren_pivot)"
      ]
    },
    {
      "cell_type": "markdown",
      "id": "8f29fd69",
      "metadata": {
        "id": "8f29fd69"
      },
      "source": [
        "##### Вывод 1:"
      ]
    },
    {
      "cell_type": "markdown",
      "id": "a578b59f",
      "metadata": {
        "id": "a578b59f"
      },
      "source": [
        "###### Вижу, что у бездетных меньше задолженностей по кредитам.\n",
        "\n",
        "Однако с появлением одного или двух детей у человека возрастает вероятность того, что задолженность появится.\n",
        "\n",
        "Это будет происходить пока у заемщика не появится третий ребенок. Должников среди этой категории меньше чем среди тех кто имеет 1го или 2ух детей.\n",
        "\n",
        "Самый высокий риск появления задолженности у людей которые имеют 4 ребенка.\n",
        "\n",
        "Если у клиента банка 5 детей, то риск возникновения задолженности сводится к 0. \n",
        "\n",
        "(для более точной оценки риска необходимо больше данных людьми которые имеют от 3х до 5ти детей включительно)\n"
      ]
    },
    {
      "cell_type": "markdown",
      "id": "722b9131",
      "metadata": {
        "id": "722b9131"
      },
      "source": [
        "##### Вопрос 2:"
      ]
    },
    {
      "cell_type": "code",
      "execution_count": null,
      "id": "c06836b9",
      "metadata": {
        "id": "c06836b9",
        "outputId": "c6070173-e240-46b7-f5de-e278cd3bb617"
      },
      "outputs": [
        {
          "data": {
            "text/html": [
              "<div>\n",
              "<style scoped>\n",
              "    .dataframe tbody tr th:only-of-type {\n",
              "        vertical-align: middle;\n",
              "    }\n",
              "\n",
              "    .dataframe tbody tr th {\n",
              "        vertical-align: top;\n",
              "    }\n",
              "\n",
              "    .dataframe thead th {\n",
              "        text-align: right;\n",
              "    }\n",
              "</style>\n",
              "<table border=\"1\" class=\"dataframe\">\n",
              "  <thead>\n",
              "    <tr style=\"text-align: right;\">\n",
              "      <th>debt</th>\n",
              "      <th>0</th>\n",
              "      <th>1</th>\n",
              "      <th>ratio</th>\n",
              "    </tr>\n",
              "    <tr>\n",
              "      <th>family_status</th>\n",
              "      <th></th>\n",
              "      <th></th>\n",
              "      <th></th>\n",
              "    </tr>\n",
              "  </thead>\n",
              "  <tbody>\n",
              "    <tr>\n",
              "      <th>Не женат / не замужем</th>\n",
              "      <td>2536</td>\n",
              "      <td>274</td>\n",
              "      <td>10.8%</td>\n",
              "    </tr>\n",
              "    <tr>\n",
              "      <th>в разводе</th>\n",
              "      <td>1110</td>\n",
              "      <td>85</td>\n",
              "      <td>7.7%</td>\n",
              "    </tr>\n",
              "    <tr>\n",
              "      <th>вдовец / вдова</th>\n",
              "      <td>896</td>\n",
              "      <td>63</td>\n",
              "      <td>7.0%</td>\n",
              "    </tr>\n",
              "    <tr>\n",
              "      <th>гражданский брак</th>\n",
              "      <td>3763</td>\n",
              "      <td>388</td>\n",
              "      <td>10.3%</td>\n",
              "    </tr>\n",
              "    <tr>\n",
              "      <th>женат / замужем</th>\n",
              "      <td>11408</td>\n",
              "      <td>931</td>\n",
              "      <td>8.2%</td>\n",
              "    </tr>\n",
              "  </tbody>\n",
              "</table>\n",
              "</div>"
            ],
            "text/plain": [
              "debt                       0    1  ratio\n",
              "family_status                           \n",
              "Не женат / не замужем   2536  274  10.8%\n",
              "в разводе               1110   85   7.7%\n",
              "вдовец / вдова           896   63   7.0%\n",
              "гражданский брак        3763  388  10.3%\n",
              "женат / замужем        11408  931   8.2%"
            ]
          },
          "metadata": {},
          "output_type": "display_data"
        }
      ],
      "source": [
        "family_pivot = family_status.pivot_table(\n",
        "    index=['family_status'],\n",
        "    columns=df['debt'],\n",
        "    values='family_status_id',\n",
        "    aggfunc='count'\n",
        "    )\n",
        "\n",
        "family_pivot['ratio'] = (family_pivot[1] / family_pivot[0]) * 100\n",
        "family_pivot['ratio'] = family_pivot['ratio'].round(1).astype(str) + '%'\n",
        "\n",
        "\n",
        "display(family_pivot)"
      ]
    },
    {
      "cell_type": "markdown",
      "id": "c338f460",
      "metadata": {
        "id": "c338f460"
      },
      "source": [
        "##### Вывод 2:"
      ]
    },
    {
      "cell_type": "markdown",
      "id": "a09b87a7",
      "metadata": {
        "id": "a09b87a7"
      },
      "source": [
        "Сразу вопрос: что мы считаем гражданским браком и что женат/замужем? вот ссыль - https://ru.wikipedia.org/wiki/Гражданский_брак\n",
        "\n",
        "Вдовцы и люди в разводе имеют наименьший показатель задолженностей\n",
        "\n",
        "Люди состоящие в гражданском браке (для просты буду считать, что это просто сожительство без регистрации в загсе или церкви) имеют один из самых высоких показательй задолженностей.\n",
        "\n",
        "Круче гражданских браков только холостые. 10,8% из общего числа заемщиков этой категории доставят хлопоты банку.\n",
        "\n",
        "Женатые люди - крепкая середина из данной выборки. Имеют задолженность 8,8% семей\n",
        "\n",
        "Чемпионы люди в разводе. Самый маленький процент долгов - 7,7.\n",
        "\n",
        "Если вы спросите меня кому дать кредит так, что бы вернул, то я посоветую дать разведенному человеку."
      ]
    },
    {
      "cell_type": "markdown",
      "id": "cae8179f",
      "metadata": {
        "id": "cae8179f"
      },
      "source": [
        "##### Вопрос 3:"
      ]
    },
    {
      "cell_type": "markdown",
      "id": "ae3b4ebf",
      "metadata": {
        "id": "ae3b4ebf"
      },
      "source": [
        "Я делал проект в колабе и он там чудесно работает. Но тут происходит какая-то магия и вопрос 3 и 4 выдает ошибку.  Как с этим бороться я не знаю. \n",
        "\n",
        "Оставлю ссылку на коллаб https://colab.research.google.com/drive/1LmPo78dE9aANVs5QAzkN1A-YcarV6ngK?usp=sharing\n",
        "\n",
        "Извините, что так, но тут пробляма с юпитером. он сегодня дико глючит "
      ]
    },
    {
      "cell_type": "code",
      "execution_count": null,
      "id": "2a0d8a60",
      "metadata": {
        "scrolled": true,
        "id": "2a0d8a60",
        "outputId": "bef17f55-9946-4d9e-819c-ce702871edc1"
      },
      "outputs": [
        {
          "data": {
            "text/html": [
              "<div>\n",
              "<style scoped>\n",
              "    .dataframe tbody tr th:only-of-type {\n",
              "        vertical-align: middle;\n",
              "    }\n",
              "\n",
              "    .dataframe tbody tr th {\n",
              "        vertical-align: top;\n",
              "    }\n",
              "\n",
              "    .dataframe thead th {\n",
              "        text-align: right;\n",
              "    }\n",
              "</style>\n",
              "<table border=\"1\" class=\"dataframe\">\n",
              "  <thead>\n",
              "    <tr style=\"text-align: right;\">\n",
              "      <th>debt</th>\n",
              "      <th>0</th>\n",
              "      <th>1</th>\n",
              "      <th>sum_debt</th>\n",
              "      <th>ratio</th>\n",
              "      <th>net_dolga</th>\n",
              "      <th>est_dolg</th>\n",
              "    </tr>\n",
              "    <tr>\n",
              "      <th>total_income_category</th>\n",
              "      <th></th>\n",
              "      <th></th>\n",
              "      <th></th>\n",
              "      <th></th>\n",
              "      <th></th>\n",
              "      <th></th>\n",
              "    </tr>\n",
              "  </thead>\n",
              "  <tbody>\n",
              "    <tr>\n",
              "      <th>A</th>\n",
              "      <td>23</td>\n",
              "      <td>2</td>\n",
              "      <td>25</td>\n",
              "      <td>8.7%</td>\n",
              "      <td>92.0%</td>\n",
              "      <td>8.0%</td>\n",
              "    </tr>\n",
              "    <tr>\n",
              "      <th>B</th>\n",
              "      <td>4686</td>\n",
              "      <td>356</td>\n",
              "      <td>5042</td>\n",
              "      <td>7.6%</td>\n",
              "      <td>92.9%</td>\n",
              "      <td>7.1%</td>\n",
              "    </tr>\n",
              "    <tr>\n",
              "      <th>C</th>\n",
              "      <td>14655</td>\n",
              "      <td>1360</td>\n",
              "      <td>16015</td>\n",
              "      <td>9.3%</td>\n",
              "      <td>91.5%</td>\n",
              "      <td>8.5%</td>\n",
              "    </tr>\n",
              "    <tr>\n",
              "      <th>D</th>\n",
              "      <td>329</td>\n",
              "      <td>21</td>\n",
              "      <td>350</td>\n",
              "      <td>6.4%</td>\n",
              "      <td>94.0%</td>\n",
              "      <td>6.0%</td>\n",
              "    </tr>\n",
              "    <tr>\n",
              "      <th>E</th>\n",
              "      <td>20</td>\n",
              "      <td>2</td>\n",
              "      <td>22</td>\n",
              "      <td>10.0%</td>\n",
              "      <td>90.9%</td>\n",
              "      <td>9.1%</td>\n",
              "    </tr>\n",
              "  </tbody>\n",
              "</table>\n",
              "</div>"
            ],
            "text/plain": [
              "debt                       0     1  sum_debt  ratio net_dolga est_dolg\n",
              "total_income_category                                                 \n",
              "A                         23     2        25   8.7%     92.0%     8.0%\n",
              "B                       4686   356      5042   7.6%     92.9%     7.1%\n",
              "C                      14655  1360     16015   9.3%     91.5%     8.5%\n",
              "D                        329    21       350   6.4%     94.0%     6.0%\n",
              "E                         20     2        22  10.0%     90.9%     9.1%"
            ]
          },
          "metadata": {},
          "output_type": "display_data"
        }
      ],
      "source": [
        "income_pivot = df.pivot_table(\n",
        "    index='total_income_category',\n",
        "    columns='debt',\n",
        "    values='family_status_id',\n",
        "    aggfunc='count'\n",
        "    )\n",
        "\n",
        "income_pivot['sum_debt'] = income_pivot[1] + income_pivot[0]\n",
        "\n",
        "\n",
        "income_pivot['ratio'] = (income_pivot[1] / income_pivot[0]) * 100\n",
        "income_pivot['ratio'] = income_pivot['ratio'].round(1).astype(str) + '%'\n",
        "\n",
        "income_pivot['net_dolga'] = (income_pivot[0]/income_pivot['sum_debt']) * 100\n",
        "income_pivot['est_dolg'] = (income_pivot[1]/income_pivot['sum_debt']) * 100\n",
        "\n",
        "\n",
        "income_pivot['sum_debt'] = income_pivot[1] + income_pivot[0]\n",
        "income_pivot['net_dolga'] = income_pivot['net_dolga'].round(1).astype(str) + '%'\n",
        "income_pivot['est_dolg'] = income_pivot['est_dolg'].round(1).astype(str) + '%'\n",
        "\n",
        "\n",
        "income_pivot.sort_values(by='est_dolg',ascending=False) # почему не работает так?\n",
        "\n",
        "display(income_pivot)"
      ]
    },
    {
      "cell_type": "markdown",
      "id": "d3b146e0",
      "metadata": {
        "id": "d3b146e0"
      },
      "source": [
        "##### Вывод 3:"
      ]
    },
    {
      "cell_type": "markdown",
      "id": "f3e61bb4",
      "metadata": {
        "id": "f3e61bb4"
      },
      "source": [
        "D (доход от 30001 до 50000 денег в месяц) - у этой категрии самый низкий процент задолженностей.\n",
        "\n",
        "B (доход от 200001 до 1000000 денег в месяц) - если дать кредит 100 человекам из этой группы, то 8 человек скорее всего будут иметь просроченные платежи.\n",
        "\n",
        "A (доход от 1000001 денег в месяц) - рисковые, но по количеству задолженностей занимают плотную серединку\n",
        "\n",
        "С (доход от 50001 до 200000 денег в месяц) - люди из этой категории имеют достаточно высокий риск появления задолженностей перед банком\n",
        "\n",
        "E (доход до 30000 денег в месяц) - люди с низким доходом чаще других не возвращают долг в срок.\n",
        "Прямой корреляции появления задолженности от уровня дохода аналитик Миша не выявил."
      ]
    },
    {
      "cell_type": "markdown",
      "id": "a5874476",
      "metadata": {
        "id": "a5874476"
      },
      "source": [
        "##### Вопрос 4:"
      ]
    },
    {
      "cell_type": "code",
      "execution_count": null,
      "id": "1d7bb2de",
      "metadata": {
        "scrolled": true,
        "id": "1d7bb2de",
        "outputId": "74c05080-2ec0-4ede-fe0a-546972234211"
      },
      "outputs": [
        {
          "data": {
            "text/html": [
              "<div>\n",
              "<style scoped>\n",
              "    .dataframe tbody tr th:only-of-type {\n",
              "        vertical-align: middle;\n",
              "    }\n",
              "\n",
              "    .dataframe tbody tr th {\n",
              "        vertical-align: top;\n",
              "    }\n",
              "\n",
              "    .dataframe thead th {\n",
              "        text-align: right;\n",
              "    }\n",
              "</style>\n",
              "<table border=\"1\" class=\"dataframe\">\n",
              "  <thead>\n",
              "    <tr style=\"text-align: right;\">\n",
              "      <th>debt</th>\n",
              "      <th>0</th>\n",
              "      <th>1</th>\n",
              "      <th>ratio</th>\n",
              "    </tr>\n",
              "    <tr>\n",
              "      <th>purpose_category</th>\n",
              "      <th></th>\n",
              "      <th></th>\n",
              "      <th></th>\n",
              "    </tr>\n",
              "  </thead>\n",
              "  <tbody>\n",
              "    <tr>\n",
              "      <th>операции с автомобилем</th>\n",
              "      <td>3903</td>\n",
              "      <td>403</td>\n",
              "      <td>10.3%</td>\n",
              "    </tr>\n",
              "    <tr>\n",
              "      <th>операции с недвижимостью</th>\n",
              "      <td>10029</td>\n",
              "      <td>782</td>\n",
              "      <td>7.8%</td>\n",
              "    </tr>\n",
              "    <tr>\n",
              "      <th>получение образования</th>\n",
              "      <td>3643</td>\n",
              "      <td>370</td>\n",
              "      <td>10.2%</td>\n",
              "    </tr>\n",
              "    <tr>\n",
              "      <th>проведение свадьбы</th>\n",
              "      <td>2138</td>\n",
              "      <td>186</td>\n",
              "      <td>8.7%</td>\n",
              "    </tr>\n",
              "  </tbody>\n",
              "</table>\n",
              "</div>"
            ],
            "text/plain": [
              "debt                          0    1  ratio\n",
              "purpose_category                           \n",
              "операции с автомобилем     3903  403  10.3%\n",
              "операции с недвижимостью  10029  782   7.8%\n",
              "получение образования      3643  370  10.2%\n",
              "проведение свадьбы         2138  186   8.7%"
            ]
          },
          "metadata": {},
          "output_type": "display_data"
        }
      ],
      "source": [
        "purpose_pivot = df.pivot_table(\n",
        "    index='purpose_category',\n",
        "    columns='debt',\n",
        "    values='family_status_id',\n",
        "    aggfunc='count'\n",
        "    )\n",
        "\n",
        "purpose_pivot['ratio'] = (purpose_pivot[1] / purpose_pivot[0]) * 100\n",
        "purpose_pivot['ratio'] = purpose_pivot['ratio'].round(1).astype(str) + '%'\n",
        "\n",
        "display(purpose_pivot)"
      ]
    },
    {
      "cell_type": "markdown",
      "id": "1e8b81b0",
      "metadata": {
        "id": "1e8b81b0"
      },
      "source": [
        "##### Вывод 4:"
      ]
    },
    {
      "cell_type": "markdown",
      "id": "38bf100d",
      "metadata": {
        "id": "38bf100d"
      },
      "source": [
        "Разные цели по разному влияют на возврат кредита в срок. \n",
        "\n",
        "Думаю, что для категории людей цель которых операции с автомобилем нужно закладывать риск просорочек больше чем для любых других категорий, так как по статистике 10% таких заемщиков не возвращают кредит в срок.\n",
        "\n",
        "Меньше всего проблем с возвратом кредита в установленные договором сроки имеют люди которые совершают операции с недвижимостью."
      ]
    },
    {
      "cell_type": "markdown",
      "id": "707911c9",
      "metadata": {
        "id": "707911c9"
      },
      "source": [
        "## Общий вывод:"
      ]
    },
    {
      "cell_type": "markdown",
      "id": "6f023e21",
      "metadata": {
        "id": "6f023e21"
      },
      "source": [
        "1) Это было эпично и легендарно\n",
        "\n",
        "2) у меня не получается сортировать( например:\n",
        "\n",
        "purpose_pivot = purpose_pivot.sort_values(by='ratio', ascending=True)\n",
        "\n",
        "3) Возможно я перемудрил со сдвигом точки в столбце со стажем, но мне кажется, что график распределения у меня получился красивый\n",
        "\n",
        "4) Преподаватель по проектам подсказала очень крутой способ считать медиану (в данном случае) с помощью метода trasform. Нравится\n",
        "\n",
        "5) Спасибо за проверку моей работы)\n",
        "\n",
        "6) Если потребуется, я напишу выводы в официальном стиле."
      ]
    },
    {
      "cell_type": "markdown",
      "id": "85b02c5b",
      "metadata": {
        "id": "85b02c5b"
      },
      "source": [
        "<div class=\"alert alert-info\">\n",
        "<b>Общий вывод:</b>\n",
        "<br>Портрет клиента с наибольшей вероятностью просрочки по кредиту: имеет 4 ребенка, не состоит в браке, имеет доход до 30 000 рублей в месяц и хочет купить автомобиль.\n",
        "</div>"
      ]
    }
  ],
  "metadata": {
    "ExecuteTimeLog": [
      {
        "duration": 1241,
        "start_time": "2022-05-10T17:49:59.263Z"
      },
      {
        "duration": 3,
        "start_time": "2022-05-10T17:50:12.524Z"
      },
      {
        "duration": 82,
        "start_time": "2022-05-10T17:50:12.530Z"
      },
      {
        "duration": 24,
        "start_time": "2022-05-10T17:50:12.614Z"
      },
      {
        "duration": 12,
        "start_time": "2022-05-10T17:50:42.637Z"
      },
      {
        "duration": 16,
        "start_time": "2022-05-10T17:53:27.294Z"
      },
      {
        "duration": 4,
        "start_time": "2022-05-10T17:53:51.041Z"
      },
      {
        "duration": 10,
        "start_time": "2022-05-10T17:55:09.132Z"
      },
      {
        "duration": 6,
        "start_time": "2022-05-10T17:57:39.455Z"
      },
      {
        "duration": 12,
        "start_time": "2022-05-10T18:00:05.227Z"
      },
      {
        "duration": 9,
        "start_time": "2022-05-10T18:03:20.549Z"
      },
      {
        "duration": 4,
        "start_time": "2022-05-10T18:03:55.342Z"
      },
      {
        "duration": 19,
        "start_time": "2022-05-10T18:04:39.444Z"
      },
      {
        "duration": 22,
        "start_time": "2022-05-10T18:05:14.843Z"
      },
      {
        "duration": 6,
        "start_time": "2022-05-10T18:05:36.543Z"
      },
      {
        "duration": 16,
        "start_time": "2022-05-10T18:05:58.012Z"
      },
      {
        "duration": 50,
        "start_time": "2022-05-10T18:06:57.052Z"
      },
      {
        "duration": 5,
        "start_time": "2022-05-10T18:08:18.345Z"
      },
      {
        "duration": 4,
        "start_time": "2022-05-10T18:09:28.210Z"
      },
      {
        "duration": 5,
        "start_time": "2022-05-10T18:09:31.115Z"
      },
      {
        "duration": 4,
        "start_time": "2022-05-10T18:10:48.921Z"
      },
      {
        "duration": 5,
        "start_time": "2022-05-10T18:10:50.950Z"
      },
      {
        "duration": 201,
        "start_time": "2022-05-10T18:13:48.277Z"
      },
      {
        "duration": 11,
        "start_time": "2022-05-10T18:14:08.170Z"
      },
      {
        "duration": 1206,
        "start_time": "2022-05-10T18:14:43.586Z"
      },
      {
        "duration": 30,
        "start_time": "2022-05-10T18:15:37.454Z"
      },
      {
        "duration": 187,
        "start_time": "2022-05-10T18:15:55.933Z"
      },
      {
        "duration": 4,
        "start_time": "2022-05-10T18:19:54.987Z"
      },
      {
        "duration": 251,
        "start_time": "2022-05-10T18:19:57.361Z"
      },
      {
        "duration": 166,
        "start_time": "2022-05-10T18:20:32.178Z"
      },
      {
        "duration": 23,
        "start_time": "2022-05-10T18:21:08.711Z"
      },
      {
        "duration": 1242,
        "start_time": "2022-05-10T18:21:56.758Z"
      },
      {
        "duration": 314,
        "start_time": "2022-05-10T18:21:58.002Z"
      },
      {
        "duration": 17,
        "start_time": "2022-05-10T18:21:58.317Z"
      },
      {
        "duration": 16,
        "start_time": "2022-05-10T18:21:58.335Z"
      },
      {
        "duration": 3,
        "start_time": "2022-05-10T18:21:58.354Z"
      },
      {
        "duration": 15,
        "start_time": "2022-05-10T18:21:58.359Z"
      },
      {
        "duration": 6,
        "start_time": "2022-05-10T18:21:58.376Z"
      },
      {
        "duration": 15,
        "start_time": "2022-05-10T18:21:58.383Z"
      },
      {
        "duration": 35,
        "start_time": "2022-05-10T18:21:58.400Z"
      },
      {
        "duration": 212,
        "start_time": "2022-05-10T18:21:58.437Z"
      },
      {
        "duration": 12,
        "start_time": "2022-05-10T18:21:58.651Z"
      },
      {
        "duration": 1249,
        "start_time": "2022-05-10T18:21:58.665Z"
      },
      {
        "duration": 37,
        "start_time": "2022-05-10T18:21:59.917Z"
      },
      {
        "duration": 219,
        "start_time": "2022-05-10T18:21:59.957Z"
      },
      {
        "duration": 3,
        "start_time": "2022-05-10T18:22:00.178Z"
      },
      {
        "duration": 16,
        "start_time": "2022-05-10T18:22:00.182Z"
      },
      {
        "duration": 34,
        "start_time": "2022-05-10T18:22:00.200Z"
      },
      {
        "duration": 21,
        "start_time": "2022-05-10T18:22:00.236Z"
      },
      {
        "duration": 7,
        "start_time": "2022-05-10T18:22:00.259Z"
      },
      {
        "duration": 27,
        "start_time": "2022-05-10T18:22:00.268Z"
      },
      {
        "duration": 69,
        "start_time": "2022-05-10T18:22:00.297Z"
      },
      {
        "duration": 5,
        "start_time": "2022-05-10T18:22:00.369Z"
      },
      {
        "duration": 11,
        "start_time": "2022-05-10T18:22:00.379Z"
      },
      {
        "duration": 14,
        "start_time": "2022-05-10T18:22:00.392Z"
      },
      {
        "duration": 10,
        "start_time": "2022-05-10T18:22:00.408Z"
      },
      {
        "duration": 15,
        "start_time": "2022-05-10T18:22:00.420Z"
      },
      {
        "duration": 8,
        "start_time": "2022-05-10T18:22:00.436Z"
      },
      {
        "duration": 216,
        "start_time": "2022-05-10T18:22:00.445Z"
      },
      {
        "duration": 172,
        "start_time": "2022-05-10T18:22:00.663Z"
      },
      {
        "duration": 23,
        "start_time": "2022-05-10T18:22:00.837Z"
      },
      {
        "duration": 22,
        "start_time": "2022-05-10T18:23:55.114Z"
      },
      {
        "duration": 116,
        "start_time": "2022-05-10T18:24:58.410Z"
      },
      {
        "duration": 16,
        "start_time": "2022-05-10T18:26:07.037Z"
      },
      {
        "duration": 1237,
        "start_time": "2022-05-10T18:27:19.898Z"
      },
      {
        "duration": 67,
        "start_time": "2022-05-10T18:27:21.137Z"
      },
      {
        "duration": 19,
        "start_time": "2022-05-10T18:27:21.206Z"
      },
      {
        "duration": 19,
        "start_time": "2022-05-10T18:27:21.233Z"
      },
      {
        "duration": 4,
        "start_time": "2022-05-10T18:27:21.254Z"
      },
      {
        "duration": 15,
        "start_time": "2022-05-10T18:27:21.260Z"
      },
      {
        "duration": 8,
        "start_time": "2022-05-10T18:27:21.277Z"
      },
      {
        "duration": 48,
        "start_time": "2022-05-10T18:27:21.287Z"
      },
      {
        "duration": 9,
        "start_time": "2022-05-10T18:27:21.337Z"
      },
      {
        "duration": 231,
        "start_time": "2022-05-10T18:27:21.349Z"
      },
      {
        "duration": 13,
        "start_time": "2022-05-10T18:27:21.582Z"
      },
      {
        "duration": 1284,
        "start_time": "2022-05-10T18:27:21.597Z"
      },
      {
        "duration": 33,
        "start_time": "2022-05-10T18:27:22.883Z"
      },
      {
        "duration": 219,
        "start_time": "2022-05-10T18:27:22.917Z"
      },
      {
        "duration": 3,
        "start_time": "2022-05-10T18:27:23.137Z"
      },
      {
        "duration": 11,
        "start_time": "2022-05-10T18:27:23.141Z"
      },
      {
        "duration": 23,
        "start_time": "2022-05-10T18:27:23.154Z"
      },
      {
        "duration": 21,
        "start_time": "2022-05-10T18:27:23.179Z"
      },
      {
        "duration": 6,
        "start_time": "2022-05-10T18:27:23.202Z"
      },
      {
        "duration": 39,
        "start_time": "2022-05-10T18:27:23.209Z"
      },
      {
        "duration": 46,
        "start_time": "2022-05-10T18:27:23.251Z"
      },
      {
        "duration": 5,
        "start_time": "2022-05-10T18:27:23.299Z"
      },
      {
        "duration": 29,
        "start_time": "2022-05-10T18:27:23.306Z"
      },
      {
        "duration": 9,
        "start_time": "2022-05-10T18:27:23.337Z"
      },
      {
        "duration": 5,
        "start_time": "2022-05-10T18:27:23.348Z"
      },
      {
        "duration": 21,
        "start_time": "2022-05-10T18:27:23.354Z"
      },
      {
        "duration": 19,
        "start_time": "2022-05-10T18:27:23.377Z"
      },
      {
        "duration": 200,
        "start_time": "2022-05-10T18:27:23.399Z"
      },
      {
        "duration": 180,
        "start_time": "2022-05-10T18:27:23.601Z"
      },
      {
        "duration": 23,
        "start_time": "2022-05-10T18:27:23.783Z"
      },
      {
        "duration": 38,
        "start_time": "2022-05-10T18:27:23.808Z"
      },
      {
        "duration": 118,
        "start_time": "2022-05-10T18:27:23.848Z"
      },
      {
        "duration": 0,
        "start_time": "2022-05-10T18:27:23.968Z"
      },
      {
        "duration": 52,
        "start_time": "2022-05-10T18:34:20.482Z"
      },
      {
        "duration": 1331,
        "start_time": "2022-05-10T18:40:13.455Z"
      },
      {
        "duration": 68,
        "start_time": "2022-05-10T18:40:14.788Z"
      },
      {
        "duration": 18,
        "start_time": "2022-05-10T18:40:14.857Z"
      },
      {
        "duration": 18,
        "start_time": "2022-05-10T18:40:14.877Z"
      },
      {
        "duration": 4,
        "start_time": "2022-05-10T18:40:14.898Z"
      },
      {
        "duration": 33,
        "start_time": "2022-05-10T18:40:14.904Z"
      },
      {
        "duration": 10,
        "start_time": "2022-05-10T18:40:14.939Z"
      },
      {
        "duration": 14,
        "start_time": "2022-05-10T18:40:14.951Z"
      },
      {
        "duration": 20,
        "start_time": "2022-05-10T18:40:14.966Z"
      },
      {
        "duration": 247,
        "start_time": "2022-05-10T18:40:14.988Z"
      },
      {
        "duration": 12,
        "start_time": "2022-05-10T18:40:15.237Z"
      },
      {
        "duration": 1274,
        "start_time": "2022-05-10T18:40:15.250Z"
      },
      {
        "duration": 37,
        "start_time": "2022-05-10T18:40:16.526Z"
      },
      {
        "duration": 215,
        "start_time": "2022-05-10T18:40:16.566Z"
      },
      {
        "duration": 3,
        "start_time": "2022-05-10T18:40:16.782Z"
      },
      {
        "duration": 11,
        "start_time": "2022-05-10T18:40:16.787Z"
      },
      {
        "duration": 35,
        "start_time": "2022-05-10T18:40:16.800Z"
      },
      {
        "duration": 21,
        "start_time": "2022-05-10T18:40:16.837Z"
      },
      {
        "duration": 6,
        "start_time": "2022-05-10T18:40:16.860Z"
      },
      {
        "duration": 20,
        "start_time": "2022-05-10T18:40:16.867Z"
      },
      {
        "duration": 77,
        "start_time": "2022-05-10T18:40:16.888Z"
      },
      {
        "duration": 5,
        "start_time": "2022-05-10T18:40:16.967Z"
      },
      {
        "duration": 8,
        "start_time": "2022-05-10T18:40:16.974Z"
      },
      {
        "duration": 9,
        "start_time": "2022-05-10T18:40:16.984Z"
      },
      {
        "duration": 5,
        "start_time": "2022-05-10T18:40:16.995Z"
      },
      {
        "duration": 10,
        "start_time": "2022-05-10T18:40:17.002Z"
      },
      {
        "duration": 21,
        "start_time": "2022-05-10T18:40:17.014Z"
      },
      {
        "duration": 213,
        "start_time": "2022-05-10T18:40:17.037Z"
      },
      {
        "duration": 183,
        "start_time": "2022-05-10T18:40:17.251Z"
      },
      {
        "duration": 25,
        "start_time": "2022-05-10T18:40:17.436Z"
      },
      {
        "duration": 23,
        "start_time": "2022-05-10T18:40:17.463Z"
      },
      {
        "duration": 105,
        "start_time": "2022-05-10T18:40:17.489Z"
      },
      {
        "duration": 0,
        "start_time": "2022-05-10T18:40:17.596Z"
      },
      {
        "duration": 3,
        "start_time": "2022-05-10T18:41:35.972Z"
      },
      {
        "duration": 87,
        "start_time": "2022-05-10T18:41:35.977Z"
      },
      {
        "duration": 13,
        "start_time": "2022-05-10T18:41:36.066Z"
      },
      {
        "duration": 28,
        "start_time": "2022-05-10T18:41:36.081Z"
      },
      {
        "duration": 10,
        "start_time": "2022-05-10T18:41:36.110Z"
      },
      {
        "duration": 23,
        "start_time": "2022-05-10T18:41:36.122Z"
      },
      {
        "duration": 8,
        "start_time": "2022-05-10T18:41:36.147Z"
      },
      {
        "duration": 26,
        "start_time": "2022-05-10T18:41:36.157Z"
      },
      {
        "duration": 21,
        "start_time": "2022-05-10T18:41:36.185Z"
      },
      {
        "duration": 245,
        "start_time": "2022-05-10T18:41:36.208Z"
      },
      {
        "duration": 24,
        "start_time": "2022-05-10T18:41:36.455Z"
      },
      {
        "duration": 1336,
        "start_time": "2022-05-10T18:41:36.481Z"
      },
      {
        "duration": 35,
        "start_time": "2022-05-10T18:41:37.820Z"
      },
      {
        "duration": 217,
        "start_time": "2022-05-10T18:41:37.857Z"
      },
      {
        "duration": 3,
        "start_time": "2022-05-10T18:41:38.075Z"
      },
      {
        "duration": 9,
        "start_time": "2022-05-10T18:41:38.080Z"
      },
      {
        "duration": 23,
        "start_time": "2022-05-10T18:41:38.090Z"
      },
      {
        "duration": 38,
        "start_time": "2022-05-10T18:41:38.115Z"
      },
      {
        "duration": 6,
        "start_time": "2022-05-10T18:41:38.155Z"
      },
      {
        "duration": 20,
        "start_time": "2022-05-10T18:41:38.162Z"
      },
      {
        "duration": 70,
        "start_time": "2022-05-10T18:41:38.184Z"
      },
      {
        "duration": 6,
        "start_time": "2022-05-10T18:41:38.256Z"
      },
      {
        "duration": 8,
        "start_time": "2022-05-10T18:41:38.263Z"
      },
      {
        "duration": 7,
        "start_time": "2022-05-10T18:41:38.274Z"
      },
      {
        "duration": 10,
        "start_time": "2022-05-10T18:41:38.283Z"
      },
      {
        "duration": 20,
        "start_time": "2022-05-10T18:41:38.295Z"
      },
      {
        "duration": 16,
        "start_time": "2022-05-10T18:41:38.317Z"
      },
      {
        "duration": 214,
        "start_time": "2022-05-10T18:41:38.335Z"
      },
      {
        "duration": 176,
        "start_time": "2022-05-10T18:41:38.551Z"
      },
      {
        "duration": 23,
        "start_time": "2022-05-10T18:41:38.733Z"
      },
      {
        "duration": 21,
        "start_time": "2022-05-10T18:41:38.758Z"
      },
      {
        "duration": 16,
        "start_time": "2022-05-10T18:41:38.781Z"
      },
      {
        "duration": 0,
        "start_time": "2022-05-10T18:41:38.799Z"
      },
      {
        "duration": 16,
        "start_time": "2022-05-10T18:41:43.059Z"
      },
      {
        "duration": 1172,
        "start_time": "2022-05-11T14:42:48.943Z"
      },
      {
        "duration": 102,
        "start_time": "2022-05-11T14:42:50.117Z"
      },
      {
        "duration": 15,
        "start_time": "2022-05-11T14:42:50.220Z"
      },
      {
        "duration": 17,
        "start_time": "2022-05-11T14:42:50.236Z"
      },
      {
        "duration": 2,
        "start_time": "2022-05-11T14:42:50.256Z"
      },
      {
        "duration": 10,
        "start_time": "2022-05-11T14:42:50.260Z"
      },
      {
        "duration": 29,
        "start_time": "2022-05-11T14:42:50.272Z"
      },
      {
        "duration": 13,
        "start_time": "2022-05-11T14:42:50.303Z"
      },
      {
        "duration": 6,
        "start_time": "2022-05-11T14:42:50.317Z"
      },
      {
        "duration": 197,
        "start_time": "2022-05-11T14:42:50.324Z"
      },
      {
        "duration": 10,
        "start_time": "2022-05-11T14:42:50.522Z"
      },
      {
        "duration": 1119,
        "start_time": "2022-05-11T14:42:50.534Z"
      },
      {
        "duration": 45,
        "start_time": "2022-05-11T14:42:51.655Z"
      },
      {
        "duration": 168,
        "start_time": "2022-05-11T14:42:51.704Z"
      },
      {
        "duration": 2,
        "start_time": "2022-05-11T14:42:51.874Z"
      },
      {
        "duration": 22,
        "start_time": "2022-05-11T14:42:51.878Z"
      },
      {
        "duration": 18,
        "start_time": "2022-05-11T14:42:51.902Z"
      },
      {
        "duration": 18,
        "start_time": "2022-05-11T14:42:51.922Z"
      },
      {
        "duration": 5,
        "start_time": "2022-05-11T14:42:51.941Z"
      },
      {
        "duration": 16,
        "start_time": "2022-05-11T14:42:51.948Z"
      },
      {
        "duration": 72,
        "start_time": "2022-05-11T14:42:51.966Z"
      },
      {
        "duration": 5,
        "start_time": "2022-05-11T14:42:52.040Z"
      },
      {
        "duration": 8,
        "start_time": "2022-05-11T14:42:52.046Z"
      },
      {
        "duration": 9,
        "start_time": "2022-05-11T14:42:52.056Z"
      },
      {
        "duration": 8,
        "start_time": "2022-05-11T14:42:52.067Z"
      },
      {
        "duration": 25,
        "start_time": "2022-05-11T14:42:52.077Z"
      },
      {
        "duration": 16,
        "start_time": "2022-05-11T14:42:52.104Z"
      },
      {
        "duration": 181,
        "start_time": "2022-05-11T14:42:52.122Z"
      },
      {
        "duration": 154,
        "start_time": "2022-05-11T14:42:52.304Z"
      },
      {
        "duration": 20,
        "start_time": "2022-05-11T14:42:52.460Z"
      },
      {
        "duration": 31,
        "start_time": "2022-05-11T14:42:52.481Z"
      },
      {
        "duration": 118,
        "start_time": "2022-05-11T14:42:52.514Z"
      },
      {
        "duration": 0,
        "start_time": "2022-05-11T14:42:52.633Z"
      },
      {
        "duration": 16,
        "start_time": "2022-05-11T14:44:29.606Z"
      },
      {
        "duration": 28,
        "start_time": "2022-05-11T14:45:00.977Z"
      },
      {
        "duration": 3164,
        "start_time": "2022-05-11T14:46:43.207Z"
      },
      {
        "duration": 1176,
        "start_time": "2022-05-11T14:47:09.732Z"
      },
      {
        "duration": 127,
        "start_time": "2022-05-11T14:47:10.910Z"
      },
      {
        "duration": 15,
        "start_time": "2022-05-11T14:47:11.039Z"
      },
      {
        "duration": 15,
        "start_time": "2022-05-11T14:47:11.055Z"
      },
      {
        "duration": 3,
        "start_time": "2022-05-11T14:47:11.073Z"
      },
      {
        "duration": 25,
        "start_time": "2022-05-11T14:47:11.077Z"
      },
      {
        "duration": 6,
        "start_time": "2022-05-11T14:47:11.103Z"
      },
      {
        "duration": 21,
        "start_time": "2022-05-11T14:47:11.110Z"
      },
      {
        "duration": 6,
        "start_time": "2022-05-11T14:47:11.133Z"
      },
      {
        "duration": 206,
        "start_time": "2022-05-11T14:47:11.141Z"
      },
      {
        "duration": 13,
        "start_time": "2022-05-11T14:47:11.349Z"
      },
      {
        "duration": 1095,
        "start_time": "2022-05-11T14:47:11.363Z"
      },
      {
        "duration": 28,
        "start_time": "2022-05-11T14:47:12.459Z"
      },
      {
        "duration": 166,
        "start_time": "2022-05-11T14:47:12.501Z"
      },
      {
        "duration": 3,
        "start_time": "2022-05-11T14:47:12.669Z"
      },
      {
        "duration": 13,
        "start_time": "2022-05-11T14:47:12.674Z"
      },
      {
        "duration": 21,
        "start_time": "2022-05-11T14:47:12.688Z"
      },
      {
        "duration": 18,
        "start_time": "2022-05-11T14:47:12.710Z"
      },
      {
        "duration": 4,
        "start_time": "2022-05-11T14:47:12.730Z"
      },
      {
        "duration": 16,
        "start_time": "2022-05-11T14:47:12.736Z"
      },
      {
        "duration": 65,
        "start_time": "2022-05-11T14:47:12.754Z"
      },
      {
        "duration": 5,
        "start_time": "2022-05-11T14:47:12.821Z"
      },
      {
        "duration": 9,
        "start_time": "2022-05-11T14:47:12.828Z"
      },
      {
        "duration": 8,
        "start_time": "2022-05-11T14:47:12.839Z"
      },
      {
        "duration": 3195,
        "start_time": "2022-05-11T14:47:12.849Z"
      },
      {
        "duration": 0,
        "start_time": "2022-05-11T14:47:16.046Z"
      },
      {
        "duration": 0,
        "start_time": "2022-05-11T14:47:16.048Z"
      },
      {
        "duration": 0,
        "start_time": "2022-05-11T14:47:16.049Z"
      },
      {
        "duration": 0,
        "start_time": "2022-05-11T14:47:16.050Z"
      },
      {
        "duration": 0,
        "start_time": "2022-05-11T14:47:16.052Z"
      },
      {
        "duration": 0,
        "start_time": "2022-05-11T14:47:16.053Z"
      },
      {
        "duration": 0,
        "start_time": "2022-05-11T14:47:16.054Z"
      },
      {
        "duration": 0,
        "start_time": "2022-05-11T14:47:16.056Z"
      },
      {
        "duration": 0,
        "start_time": "2022-05-11T14:47:16.058Z"
      },
      {
        "duration": 3105,
        "start_time": "2022-05-11T14:47:21.502Z"
      },
      {
        "duration": 14,
        "start_time": "2022-05-11T14:47:29.722Z"
      },
      {
        "duration": 1212,
        "start_time": "2022-05-11T14:47:45.008Z"
      },
      {
        "duration": 60,
        "start_time": "2022-05-11T14:47:46.222Z"
      },
      {
        "duration": 15,
        "start_time": "2022-05-11T14:47:46.284Z"
      },
      {
        "duration": 16,
        "start_time": "2022-05-11T14:47:46.300Z"
      },
      {
        "duration": 3,
        "start_time": "2022-05-11T14:47:46.319Z"
      },
      {
        "duration": 9,
        "start_time": "2022-05-11T14:47:46.325Z"
      },
      {
        "duration": 6,
        "start_time": "2022-05-11T14:47:46.336Z"
      },
      {
        "duration": 12,
        "start_time": "2022-05-11T14:47:46.344Z"
      },
      {
        "duration": 43,
        "start_time": "2022-05-11T14:47:46.357Z"
      },
      {
        "duration": 194,
        "start_time": "2022-05-11T14:47:46.402Z"
      },
      {
        "duration": 11,
        "start_time": "2022-05-11T14:47:46.600Z"
      },
      {
        "duration": 1051,
        "start_time": "2022-05-11T14:47:46.613Z"
      },
      {
        "duration": 37,
        "start_time": "2022-05-11T14:47:47.666Z"
      },
      {
        "duration": 184,
        "start_time": "2022-05-11T14:47:47.706Z"
      },
      {
        "duration": 2,
        "start_time": "2022-05-11T14:47:47.900Z"
      },
      {
        "duration": 7,
        "start_time": "2022-05-11T14:47:47.904Z"
      },
      {
        "duration": 21,
        "start_time": "2022-05-11T14:47:47.912Z"
      },
      {
        "duration": 20,
        "start_time": "2022-05-11T14:47:47.935Z"
      },
      {
        "duration": 5,
        "start_time": "2022-05-11T14:47:47.956Z"
      },
      {
        "duration": 39,
        "start_time": "2022-05-11T14:47:47.963Z"
      },
      {
        "duration": 45,
        "start_time": "2022-05-11T14:47:48.004Z"
      },
      {
        "duration": 4,
        "start_time": "2022-05-11T14:47:48.051Z"
      },
      {
        "duration": 9,
        "start_time": "2022-05-11T14:47:48.057Z"
      },
      {
        "duration": 7,
        "start_time": "2022-05-11T14:47:48.068Z"
      },
      {
        "duration": 3,
        "start_time": "2022-05-11T14:47:48.101Z"
      },
      {
        "duration": 11,
        "start_time": "2022-05-11T14:47:48.106Z"
      },
      {
        "duration": 6,
        "start_time": "2022-05-11T14:47:48.118Z"
      },
      {
        "duration": 178,
        "start_time": "2022-05-11T14:47:48.126Z"
      },
      {
        "duration": 152,
        "start_time": "2022-05-11T14:47:48.305Z"
      },
      {
        "duration": 21,
        "start_time": "2022-05-11T14:47:48.459Z"
      },
      {
        "duration": 33,
        "start_time": "2022-05-11T14:47:48.481Z"
      },
      {
        "duration": 114,
        "start_time": "2022-05-11T14:47:48.516Z"
      },
      {
        "duration": 0,
        "start_time": "2022-05-11T14:47:48.631Z"
      },
      {
        "duration": 14,
        "start_time": "2022-05-11T14:50:45.501Z"
      },
      {
        "duration": 22,
        "start_time": "2022-05-11T14:55:10.060Z"
      },
      {
        "duration": 7,
        "start_time": "2022-05-11T14:56:55.386Z"
      },
      {
        "duration": 12,
        "start_time": "2022-05-11T14:57:11.745Z"
      },
      {
        "duration": 8,
        "start_time": "2022-05-11T14:57:17.224Z"
      },
      {
        "duration": 8,
        "start_time": "2022-05-11T14:57:26.646Z"
      },
      {
        "duration": 8,
        "start_time": "2022-05-11T14:57:31.085Z"
      },
      {
        "duration": 13,
        "start_time": "2022-05-11T14:57:43.190Z"
      },
      {
        "duration": 8,
        "start_time": "2022-05-11T14:57:49.755Z"
      },
      {
        "duration": 10,
        "start_time": "2022-05-11T14:58:00.093Z"
      },
      {
        "duration": 11,
        "start_time": "2022-05-11T14:58:04.155Z"
      },
      {
        "duration": 8,
        "start_time": "2022-05-11T14:58:07.712Z"
      },
      {
        "duration": 10,
        "start_time": "2022-05-11T14:58:19.093Z"
      },
      {
        "duration": 9,
        "start_time": "2022-05-11T14:58:24.542Z"
      },
      {
        "duration": 12,
        "start_time": "2022-05-11T14:58:28.017Z"
      },
      {
        "duration": 10,
        "start_time": "2022-05-11T14:58:36.290Z"
      },
      {
        "duration": 6,
        "start_time": "2022-05-11T14:59:30.874Z"
      },
      {
        "duration": 10,
        "start_time": "2022-05-11T14:59:42.255Z"
      },
      {
        "duration": 9,
        "start_time": "2022-05-11T14:59:51.029Z"
      },
      {
        "duration": 8,
        "start_time": "2022-05-11T16:12:02.610Z"
      },
      {
        "duration": 10,
        "start_time": "2022-05-11T16:12:11.534Z"
      },
      {
        "duration": 6,
        "start_time": "2022-05-11T16:12:15.321Z"
      },
      {
        "duration": 21,
        "start_time": "2022-05-11T16:12:42.885Z"
      },
      {
        "duration": 51,
        "start_time": "2022-05-11T20:30:28.998Z"
      },
      {
        "duration": 7,
        "start_time": "2022-05-11T20:30:33.247Z"
      },
      {
        "duration": 1268,
        "start_time": "2022-05-11T20:31:19.487Z"
      },
      {
        "duration": 59,
        "start_time": "2022-05-11T20:31:20.757Z"
      },
      {
        "duration": 15,
        "start_time": "2022-05-11T20:31:20.817Z"
      },
      {
        "duration": 20,
        "start_time": "2022-05-11T20:31:20.835Z"
      },
      {
        "duration": 12,
        "start_time": "2022-05-11T20:31:20.856Z"
      },
      {
        "duration": 12,
        "start_time": "2022-05-11T20:31:20.869Z"
      },
      {
        "duration": 5,
        "start_time": "2022-05-11T20:31:20.882Z"
      },
      {
        "duration": 10,
        "start_time": "2022-05-11T20:31:20.888Z"
      },
      {
        "duration": 6,
        "start_time": "2022-05-11T20:31:20.900Z"
      },
      {
        "duration": 202,
        "start_time": "2022-05-11T20:31:20.909Z"
      },
      {
        "duration": 10,
        "start_time": "2022-05-11T20:31:21.113Z"
      },
      {
        "duration": 1014,
        "start_time": "2022-05-11T20:31:21.125Z"
      },
      {
        "duration": 36,
        "start_time": "2022-05-11T20:31:22.141Z"
      },
      {
        "duration": 178,
        "start_time": "2022-05-11T20:31:22.178Z"
      },
      {
        "duration": 2,
        "start_time": "2022-05-11T20:31:22.358Z"
      },
      {
        "duration": 15,
        "start_time": "2022-05-11T20:31:22.362Z"
      },
      {
        "duration": 24,
        "start_time": "2022-05-11T20:31:22.379Z"
      },
      {
        "duration": 18,
        "start_time": "2022-05-11T20:31:22.405Z"
      },
      {
        "duration": 5,
        "start_time": "2022-05-11T20:31:22.425Z"
      },
      {
        "duration": 29,
        "start_time": "2022-05-11T20:31:22.431Z"
      },
      {
        "duration": 59,
        "start_time": "2022-05-11T20:31:22.462Z"
      },
      {
        "duration": 6,
        "start_time": "2022-05-11T20:31:22.523Z"
      },
      {
        "duration": 31,
        "start_time": "2022-05-11T20:31:22.531Z"
      },
      {
        "duration": 20,
        "start_time": "2022-05-11T20:31:22.563Z"
      },
      {
        "duration": 9,
        "start_time": "2022-05-11T20:31:22.584Z"
      },
      {
        "duration": 20,
        "start_time": "2022-05-11T20:31:22.594Z"
      },
      {
        "duration": 269,
        "start_time": "2022-05-11T20:31:22.615Z"
      },
      {
        "duration": 3,
        "start_time": "2022-05-11T20:31:22.887Z"
      },
      {
        "duration": 169,
        "start_time": "2022-05-11T20:31:22.892Z"
      },
      {
        "duration": 161,
        "start_time": "2022-05-11T20:31:23.063Z"
      },
      {
        "duration": 27,
        "start_time": "2022-05-11T20:31:23.226Z"
      },
      {
        "duration": 22,
        "start_time": "2022-05-11T20:31:23.267Z"
      },
      {
        "duration": 21,
        "start_time": "2022-05-11T20:31:23.290Z"
      },
      {
        "duration": 21,
        "start_time": "2022-05-11T20:31:23.313Z"
      },
      {
        "duration": 159,
        "start_time": "2022-05-11T20:34:00.547Z"
      },
      {
        "duration": 21,
        "start_time": "2022-05-11T20:39:39.577Z"
      },
      {
        "duration": 21,
        "start_time": "2022-05-11T20:41:29.082Z"
      },
      {
        "duration": 21,
        "start_time": "2022-05-11T20:41:53.456Z"
      },
      {
        "duration": 24,
        "start_time": "2022-05-11T20:42:20.052Z"
      },
      {
        "duration": 37,
        "start_time": "2022-05-11T20:43:23.790Z"
      },
      {
        "duration": 2158,
        "start_time": "2022-05-11T20:43:54.681Z"
      },
      {
        "duration": 24,
        "start_time": "2022-05-11T20:44:10.238Z"
      },
      {
        "duration": 27,
        "start_time": "2022-05-11T20:57:46.268Z"
      },
      {
        "duration": 123,
        "start_time": "2022-05-11T20:58:05.522Z"
      },
      {
        "duration": 142,
        "start_time": "2022-05-11T20:58:24.908Z"
      },
      {
        "duration": 24,
        "start_time": "2022-05-11T20:59:44.054Z"
      },
      {
        "duration": 22,
        "start_time": "2022-05-11T21:00:03.448Z"
      },
      {
        "duration": 28,
        "start_time": "2022-05-11T21:00:10.081Z"
      },
      {
        "duration": 3,
        "start_time": "2022-05-11T21:12:31.450Z"
      },
      {
        "duration": 68,
        "start_time": "2022-05-11T21:12:31.455Z"
      },
      {
        "duration": 12,
        "start_time": "2022-05-11T21:12:31.525Z"
      },
      {
        "duration": 38,
        "start_time": "2022-05-11T21:12:31.539Z"
      },
      {
        "duration": 3,
        "start_time": "2022-05-11T21:12:31.579Z"
      },
      {
        "duration": 14,
        "start_time": "2022-05-11T21:12:31.584Z"
      },
      {
        "duration": 5,
        "start_time": "2022-05-11T21:12:31.600Z"
      },
      {
        "duration": 14,
        "start_time": "2022-05-11T21:12:31.607Z"
      },
      {
        "duration": 9,
        "start_time": "2022-05-11T21:12:31.623Z"
      },
      {
        "duration": 199,
        "start_time": "2022-05-11T21:12:31.633Z"
      },
      {
        "duration": 11,
        "start_time": "2022-05-11T21:12:31.833Z"
      },
      {
        "duration": 1050,
        "start_time": "2022-05-11T21:12:31.846Z"
      },
      {
        "duration": 26,
        "start_time": "2022-05-11T21:12:32.898Z"
      },
      {
        "duration": 188,
        "start_time": "2022-05-11T21:12:32.926Z"
      },
      {
        "duration": 2,
        "start_time": "2022-05-11T21:12:33.116Z"
      },
      {
        "duration": 8,
        "start_time": "2022-05-11T21:12:33.120Z"
      },
      {
        "duration": 19,
        "start_time": "2022-05-11T21:12:33.129Z"
      },
      {
        "duration": 34,
        "start_time": "2022-05-11T21:12:33.150Z"
      },
      {
        "duration": 5,
        "start_time": "2022-05-11T21:12:33.185Z"
      },
      {
        "duration": 15,
        "start_time": "2022-05-11T21:12:33.192Z"
      },
      {
        "duration": 68,
        "start_time": "2022-05-11T21:12:33.209Z"
      },
      {
        "duration": 5,
        "start_time": "2022-05-11T21:12:33.278Z"
      },
      {
        "duration": 4,
        "start_time": "2022-05-11T21:12:33.285Z"
      },
      {
        "duration": 5,
        "start_time": "2022-05-11T21:12:33.292Z"
      },
      {
        "duration": 4,
        "start_time": "2022-05-11T21:12:33.299Z"
      },
      {
        "duration": 6,
        "start_time": "2022-05-11T21:12:33.305Z"
      },
      {
        "duration": 284,
        "start_time": "2022-05-11T21:12:33.312Z"
      },
      {
        "duration": 3,
        "start_time": "2022-05-11T21:12:33.598Z"
      },
      {
        "duration": 179,
        "start_time": "2022-05-11T21:12:33.603Z"
      },
      {
        "duration": 151,
        "start_time": "2022-05-11T21:12:33.784Z"
      },
      {
        "duration": 31,
        "start_time": "2022-05-11T21:12:33.937Z"
      },
      {
        "duration": 19,
        "start_time": "2022-05-11T21:12:33.970Z"
      },
      {
        "duration": 26,
        "start_time": "2022-05-11T21:12:33.990Z"
      },
      {
        "duration": 20,
        "start_time": "2022-05-11T21:12:34.018Z"
      },
      {
        "duration": 28,
        "start_time": "2022-05-11T21:13:26.176Z"
      },
      {
        "duration": 29,
        "start_time": "2022-05-11T21:13:37.876Z"
      },
      {
        "duration": 1108,
        "start_time": "2022-05-12T05:58:01.476Z"
      },
      {
        "duration": 51,
        "start_time": "2022-05-12T05:58:02.586Z"
      },
      {
        "duration": 13,
        "start_time": "2022-05-12T05:58:02.639Z"
      },
      {
        "duration": 17,
        "start_time": "2022-05-12T05:58:02.662Z"
      },
      {
        "duration": 4,
        "start_time": "2022-05-12T05:58:02.681Z"
      },
      {
        "duration": 26,
        "start_time": "2022-05-12T05:58:02.687Z"
      },
      {
        "duration": 6,
        "start_time": "2022-05-12T05:58:02.715Z"
      },
      {
        "duration": 24,
        "start_time": "2022-05-12T05:58:02.723Z"
      },
      {
        "duration": 10,
        "start_time": "2022-05-12T05:58:02.749Z"
      },
      {
        "duration": 171,
        "start_time": "2022-05-12T05:58:02.760Z"
      },
      {
        "duration": 11,
        "start_time": "2022-05-12T05:58:02.933Z"
      },
      {
        "duration": 1017,
        "start_time": "2022-05-12T05:58:02.945Z"
      },
      {
        "duration": 27,
        "start_time": "2022-05-12T05:58:03.964Z"
      },
      {
        "duration": 233,
        "start_time": "2022-05-12T05:58:03.994Z"
      },
      {
        "duration": 2,
        "start_time": "2022-05-12T05:58:04.229Z"
      },
      {
        "duration": 7,
        "start_time": "2022-05-12T05:58:04.233Z"
      },
      {
        "duration": 31,
        "start_time": "2022-05-12T05:58:04.242Z"
      },
      {
        "duration": 19,
        "start_time": "2022-05-12T05:58:04.275Z"
      },
      {
        "duration": 5,
        "start_time": "2022-05-12T05:58:04.295Z"
      },
      {
        "duration": 15,
        "start_time": "2022-05-12T05:58:04.302Z"
      },
      {
        "duration": 63,
        "start_time": "2022-05-12T05:58:04.319Z"
      },
      {
        "duration": 4,
        "start_time": "2022-05-12T05:58:04.384Z"
      },
      {
        "duration": 5,
        "start_time": "2022-05-12T05:58:04.390Z"
      },
      {
        "duration": 8,
        "start_time": "2022-05-12T05:58:04.396Z"
      },
      {
        "duration": 7,
        "start_time": "2022-05-12T05:58:04.405Z"
      },
      {
        "duration": 7,
        "start_time": "2022-05-12T05:58:04.414Z"
      },
      {
        "duration": 277,
        "start_time": "2022-05-12T05:58:04.423Z"
      },
      {
        "duration": 3,
        "start_time": "2022-05-12T05:58:04.702Z"
      },
      {
        "duration": 164,
        "start_time": "2022-05-12T05:58:04.706Z"
      },
      {
        "duration": 144,
        "start_time": "2022-05-12T05:58:04.872Z"
      },
      {
        "duration": 21,
        "start_time": "2022-05-12T05:58:05.018Z"
      },
      {
        "duration": 30,
        "start_time": "2022-05-12T05:58:05.041Z"
      },
      {
        "duration": 24,
        "start_time": "2022-05-12T05:58:05.072Z"
      },
      {
        "duration": 17,
        "start_time": "2022-05-12T05:58:05.098Z"
      },
      {
        "duration": 1608,
        "start_time": "2022-05-12T12:24:16.983Z"
      },
      {
        "duration": 120,
        "start_time": "2022-05-12T12:24:18.593Z"
      },
      {
        "duration": 16,
        "start_time": "2022-05-12T12:24:18.715Z"
      },
      {
        "duration": 17,
        "start_time": "2022-05-12T12:24:18.733Z"
      },
      {
        "duration": 4,
        "start_time": "2022-05-12T12:24:18.753Z"
      },
      {
        "duration": 11,
        "start_time": "2022-05-12T12:24:18.759Z"
      },
      {
        "duration": 6,
        "start_time": "2022-05-12T12:24:18.772Z"
      },
      {
        "duration": 15,
        "start_time": "2022-05-12T12:24:18.780Z"
      },
      {
        "duration": 6,
        "start_time": "2022-05-12T12:24:18.797Z"
      },
      {
        "duration": 217,
        "start_time": "2022-05-12T12:24:18.805Z"
      },
      {
        "duration": 25,
        "start_time": "2022-05-12T12:24:19.023Z"
      },
      {
        "duration": 1077,
        "start_time": "2022-05-12T12:24:19.050Z"
      },
      {
        "duration": 33,
        "start_time": "2022-05-12T12:24:20.129Z"
      },
      {
        "duration": 183,
        "start_time": "2022-05-12T12:24:20.165Z"
      },
      {
        "duration": 3,
        "start_time": "2022-05-12T12:24:20.350Z"
      },
      {
        "duration": 20,
        "start_time": "2022-05-12T12:24:20.354Z"
      },
      {
        "duration": 38,
        "start_time": "2022-05-12T12:24:20.376Z"
      },
      {
        "duration": 20,
        "start_time": "2022-05-12T12:24:20.416Z"
      },
      {
        "duration": 6,
        "start_time": "2022-05-12T12:24:20.438Z"
      },
      {
        "duration": 31,
        "start_time": "2022-05-12T12:24:20.446Z"
      },
      {
        "duration": 59,
        "start_time": "2022-05-12T12:24:20.479Z"
      },
      {
        "duration": 5,
        "start_time": "2022-05-12T12:24:20.540Z"
      },
      {
        "duration": 26,
        "start_time": "2022-05-12T12:24:20.547Z"
      },
      {
        "duration": 16,
        "start_time": "2022-05-12T12:24:20.575Z"
      },
      {
        "duration": 14,
        "start_time": "2022-05-12T12:24:20.593Z"
      },
      {
        "duration": 21,
        "start_time": "2022-05-12T12:24:20.609Z"
      },
      {
        "duration": 290,
        "start_time": "2022-05-12T12:24:20.632Z"
      },
      {
        "duration": 4,
        "start_time": "2022-05-12T12:24:20.923Z"
      },
      {
        "duration": 206,
        "start_time": "2022-05-12T12:24:20.929Z"
      },
      {
        "duration": 159,
        "start_time": "2022-05-12T12:24:21.137Z"
      },
      {
        "duration": 29,
        "start_time": "2022-05-12T12:24:21.297Z"
      },
      {
        "duration": 31,
        "start_time": "2022-05-12T12:24:21.328Z"
      },
      {
        "duration": 27,
        "start_time": "2022-05-12T12:24:21.362Z"
      },
      {
        "duration": 30,
        "start_time": "2022-05-12T12:24:21.391Z"
      },
      {
        "duration": 108,
        "start_time": "2022-05-12T12:25:11.021Z"
      },
      {
        "duration": 7,
        "start_time": "2022-05-12T12:25:17.953Z"
      },
      {
        "duration": 1340,
        "start_time": "2022-08-15T07:28:40.267Z"
      },
      {
        "duration": 306,
        "start_time": "2022-08-15T07:28:41.608Z"
      },
      {
        "duration": 15,
        "start_time": "2022-08-15T07:28:41.915Z"
      },
      {
        "duration": 15,
        "start_time": "2022-08-15T07:28:41.932Z"
      },
      {
        "duration": 3,
        "start_time": "2022-08-15T07:28:41.948Z"
      },
      {
        "duration": 9,
        "start_time": "2022-08-15T07:28:41.953Z"
      },
      {
        "duration": 6,
        "start_time": "2022-08-15T07:28:41.963Z"
      },
      {
        "duration": 11,
        "start_time": "2022-08-15T07:28:41.970Z"
      },
      {
        "duration": 6,
        "start_time": "2022-08-15T07:28:41.982Z"
      },
      {
        "duration": 208,
        "start_time": "2022-08-15T07:28:41.990Z"
      },
      {
        "duration": 10,
        "start_time": "2022-08-15T07:28:42.200Z"
      },
      {
        "duration": 1175,
        "start_time": "2022-08-15T07:28:42.211Z"
      },
      {
        "duration": 27,
        "start_time": "2022-08-15T07:28:43.388Z"
      },
      {
        "duration": 193,
        "start_time": "2022-08-15T07:28:43.416Z"
      },
      {
        "duration": 2,
        "start_time": "2022-08-15T07:28:43.611Z"
      },
      {
        "duration": 8,
        "start_time": "2022-08-15T07:28:43.614Z"
      },
      {
        "duration": 19,
        "start_time": "2022-08-15T07:28:43.623Z"
      },
      {
        "duration": 31,
        "start_time": "2022-08-15T07:28:43.643Z"
      },
      {
        "duration": 5,
        "start_time": "2022-08-15T07:28:43.676Z"
      },
      {
        "duration": 18,
        "start_time": "2022-08-15T07:28:43.683Z"
      },
      {
        "duration": 59,
        "start_time": "2022-08-15T07:28:43.702Z"
      },
      {
        "duration": 5,
        "start_time": "2022-08-15T07:28:43.762Z"
      },
      {
        "duration": 12,
        "start_time": "2022-08-15T07:28:43.769Z"
      },
      {
        "duration": 7,
        "start_time": "2022-08-15T07:28:43.782Z"
      },
      {
        "duration": 7,
        "start_time": "2022-08-15T07:28:43.790Z"
      },
      {
        "duration": 13,
        "start_time": "2022-08-15T07:28:43.798Z"
      },
      {
        "duration": 270,
        "start_time": "2022-08-15T07:28:43.813Z"
      },
      {
        "duration": 3,
        "start_time": "2022-08-15T07:28:44.086Z"
      },
      {
        "duration": 185,
        "start_time": "2022-08-15T07:28:44.091Z"
      },
      {
        "duration": 158,
        "start_time": "2022-08-15T07:28:44.278Z"
      },
      {
        "duration": 34,
        "start_time": "2022-08-15T07:28:44.438Z"
      },
      {
        "duration": 20,
        "start_time": "2022-08-15T07:28:44.473Z"
      },
      {
        "duration": 25,
        "start_time": "2022-08-15T07:28:44.495Z"
      },
      {
        "duration": 40,
        "start_time": "2022-08-15T07:28:44.521Z"
      },
      {
        "duration": 489,
        "start_time": "2022-08-15T07:29:20.871Z"
      },
      {
        "duration": 256,
        "start_time": "2022-08-15T07:31:26.710Z"
      },
      {
        "duration": 103,
        "start_time": "2022-08-15T07:33:21.585Z"
      },
      {
        "duration": 12,
        "start_time": "2022-08-15T07:34:12.041Z"
      },
      {
        "duration": 1724,
        "start_time": "2022-08-15T07:39:00.042Z"
      },
      {
        "duration": 11,
        "start_time": "2022-08-15T07:40:14.953Z"
      },
      {
        "duration": 3,
        "start_time": "2022-08-15T07:41:12.805Z"
      },
      {
        "duration": 71,
        "start_time": "2022-08-15T07:41:12.818Z"
      },
      {
        "duration": 11,
        "start_time": "2022-08-15T07:41:12.891Z"
      },
      {
        "duration": 19,
        "start_time": "2022-08-15T07:41:12.904Z"
      },
      {
        "duration": 3,
        "start_time": "2022-08-15T07:41:12.925Z"
      },
      {
        "duration": 30,
        "start_time": "2022-08-15T07:41:12.930Z"
      },
      {
        "duration": 5,
        "start_time": "2022-08-15T07:41:12.962Z"
      },
      {
        "duration": 15,
        "start_time": "2022-08-15T07:41:12.968Z"
      },
      {
        "duration": 7,
        "start_time": "2022-08-15T07:41:12.985Z"
      },
      {
        "duration": 215,
        "start_time": "2022-08-15T07:41:12.994Z"
      },
      {
        "duration": 11,
        "start_time": "2022-08-15T07:41:13.212Z"
      },
      {
        "duration": 1298,
        "start_time": "2022-08-15T07:41:13.224Z"
      },
      {
        "duration": 36,
        "start_time": "2022-08-15T07:41:14.523Z"
      },
      {
        "duration": 192,
        "start_time": "2022-08-15T07:41:14.561Z"
      },
      {
        "duration": 3,
        "start_time": "2022-08-15T07:41:14.755Z"
      },
      {
        "duration": 8,
        "start_time": "2022-08-15T07:41:14.760Z"
      },
      {
        "duration": 21,
        "start_time": "2022-08-15T07:41:14.769Z"
      },
      {
        "duration": 20,
        "start_time": "2022-08-15T07:41:14.791Z"
      },
      {
        "duration": 5,
        "start_time": "2022-08-15T07:41:14.813Z"
      },
      {
        "duration": 45,
        "start_time": "2022-08-15T07:41:14.819Z"
      },
      {
        "duration": 44,
        "start_time": "2022-08-15T07:41:14.866Z"
      },
      {
        "duration": 5,
        "start_time": "2022-08-15T07:41:14.912Z"
      },
      {
        "duration": 6,
        "start_time": "2022-08-15T07:41:14.919Z"
      },
      {
        "duration": 7,
        "start_time": "2022-08-15T07:41:14.926Z"
      },
      {
        "duration": 24,
        "start_time": "2022-08-15T07:41:14.934Z"
      },
      {
        "duration": 7,
        "start_time": "2022-08-15T07:41:14.960Z"
      },
      {
        "duration": 271,
        "start_time": "2022-08-15T07:41:14.968Z"
      },
      {
        "duration": 5,
        "start_time": "2022-08-15T07:41:15.241Z"
      },
      {
        "duration": 222,
        "start_time": "2022-08-15T07:41:15.256Z"
      },
      {
        "duration": 159,
        "start_time": "2022-08-15T07:41:15.480Z"
      },
      {
        "duration": 37,
        "start_time": "2022-08-15T07:41:15.641Z"
      },
      {
        "duration": 22,
        "start_time": "2022-08-15T07:41:15.680Z"
      },
      {
        "duration": 27,
        "start_time": "2022-08-15T07:41:15.704Z"
      },
      {
        "duration": 23,
        "start_time": "2022-08-15T07:41:15.756Z"
      },
      {
        "duration": 274,
        "start_time": "2022-08-15T07:41:15.781Z"
      }
    ],
    "kernelspec": {
      "display_name": "Python 3 (ipykernel)",
      "language": "python",
      "name": "python3"
    },
    "language_info": {
      "codemirror_mode": {
        "name": "ipython",
        "version": 3
      },
      "file_extension": ".py",
      "mimetype": "text/x-python",
      "name": "python",
      "nbconvert_exporter": "python",
      "pygments_lexer": "ipython3",
      "version": "3.9.5"
    },
    "toc": {
      "base_numbering": 1,
      "nav_menu": {},
      "number_sections": true,
      "sideBar": true,
      "skip_h1_title": true,
      "title_cell": "Table of Contents",
      "title_sidebar": "Contents",
      "toc_cell": false,
      "toc_position": {},
      "toc_section_display": true,
      "toc_window_display": false
    },
    "colab": {
      "provenance": [],
      "include_colab_link": true
    }
  },
  "nbformat": 4,
  "nbformat_minor": 5
}