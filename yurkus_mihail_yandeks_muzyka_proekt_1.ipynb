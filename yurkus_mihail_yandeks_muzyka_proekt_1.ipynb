{
  "cells": [
    {
      "cell_type": "markdown",
      "metadata": {
        "id": "view-in-github",
        "colab_type": "text"
      },
      "source": [
        "<a href=\"https://colab.research.google.com/github/MikhailIurkus/yandex_practicum_project/blob/main/yurkus_mihail_yandeks_muzyka_proekt_1.ipynb\" target=\"_parent\"><img src=\"https://colab.research.google.com/assets/colab-badge.svg\" alt=\"Open In Colab\"/></a>"
      ]
    },
    {
      "cell_type": "markdown",
      "metadata": {
        "id": "E0vqbgi9ay0H"
      },
      "source": [
        "# Яндекс.Музыка"
      ]
    },
    {
      "cell_type": "markdown",
      "metadata": {
        "id": "VUC88oWjTJw2"
      },
      "source": [
        "Сравнение Москвы и Петербурга окружено мифами. Например:\n",
        " * Москва — мегаполис, подчинённый жёсткому ритму рабочей недели;\n",
        " * Петербург — культурная столица, со своими вкусами.\n",
        "\n",
        "На данных Яндекс.Музыки вы сравните поведение пользователей двух столиц.\n",
        "\n",
        "**Цель исследования** — проверьте три гипотезы:\n",
        "1. Активность пользователей зависит от дня недели. Причём в Москве и Петербурге это проявляется по-разному.\n",
        "2. В понедельник утром в Москве преобладают одни жанры, а в Петербурге — другие. Так же и вечером пятницы преобладают разные жанры — в зависимости от города. \n",
        "3. Москва и Петербург предпочитают разные жанры музыки. В Москве чаще слушают поп-музыку, в Петербурге — русский рэп.\n",
        "\n",
        "**Ход исследования**\n",
        "\n",
        "Данные о поведении пользователей вы получите из файла `yandex_music_project.csv`. О качестве данных ничего не известно. Поэтому перед проверкой гипотез понадобится обзор данных. \n",
        "\n",
        "Вы проверите данные на ошибки и оцените их влияние на исследование. Затем, на этапе предобработки вы поищете возможность исправить самые критичные ошибки данных.\n",
        " \n",
        "Таким образом, исследование пройдёт в три этапа:\n",
        " 1. Обзор данных.\n",
        " 2. Предобработка данных.\n",
        " 3. Проверка гипотез.\n",
        "\n"
      ]
    },
    {
      "cell_type": "markdown",
      "metadata": {
        "id": "Ml1hmfXC_Zcs"
      },
      "source": [
        "## Обзор данных\n",
        "\n",
        "Составьте первое представление о данных Яндекс.Музыки.\n",
        "\n",
        "\n"
      ]
    },
    {
      "cell_type": "markdown",
      "metadata": {
        "id": "57eAOGIz_Zcs"
      },
      "source": [
        "Основной инструмент аналитика — `pandas`. Импортируйте эту библиотеку."
      ]
    },
    {
      "cell_type": "code",
      "execution_count": null,
      "metadata": {
        "id": "AXN7PHPN_Zcs"
      },
      "outputs": [],
      "source": [
        "# импорт библиотеки pandas\n",
        "\n",
        "import pandas as pd"
      ]
    },
    {
      "cell_type": "markdown",
      "metadata": {
        "id": "wc03BV5HhBnE"
      },
      "source": [
        "<div class=\"alert alert-success\">\n",
        "<b>✔️ Комментарий ревьюера v1:</b> \n",
        "<br>Очень здорово, что ты используешь сокращение pd для Pandas, это общепринятое сокращение для этой библиотеки для удобной дальнейшей работы.\n",
        "</div>\n",
        "\n"
      ]
    },
    {
      "cell_type": "markdown",
      "metadata": {
        "id": "SG23P8tt_Zcs"
      },
      "source": [
        "Прочитайте файл `yandex_music_project.csv` из папки `/datasets` и сохраните его в переменной `df`:"
      ]
    },
    {
      "cell_type": "code",
      "execution_count": null,
      "metadata": {
        "id": "fFVu7vqh_Zct",
        "scrolled": true
      },
      "outputs": [],
      "source": [
        "# чтение файла с данными и сохранение в df\n",
        "\n",
        "df = pd.read_csv('/datasets/yandex_music_project.csv')"
      ]
    },
    {
      "cell_type": "markdown",
      "metadata": {
        "id": "rDoOMd3uTqnZ"
      },
      "source": [
        "Выведите на экран первые десять строк таблицы:"
      ]
    },
    {
      "cell_type": "code",
      "execution_count": null,
      "metadata": {
        "id": "oWTVX3gW_Zct",
        "outputId": "90dca354-a44a-490d-f8eb-d46ae6cc5290"
      },
      "outputs": [
        {
          "data": {
            "text/html": [
              "<div>\n",
              "<style scoped>\n",
              "    .dataframe tbody tr th:only-of-type {\n",
              "        vertical-align: middle;\n",
              "    }\n",
              "\n",
              "    .dataframe tbody tr th {\n",
              "        vertical-align: top;\n",
              "    }\n",
              "\n",
              "    .dataframe thead th {\n",
              "        text-align: right;\n",
              "    }\n",
              "</style>\n",
              "<table border=\"1\" class=\"dataframe\">\n",
              "  <thead>\n",
              "    <tr style=\"text-align: right;\">\n",
              "      <th></th>\n",
              "      <th>userID</th>\n",
              "      <th>Track</th>\n",
              "      <th>artist</th>\n",
              "      <th>genre</th>\n",
              "      <th>City</th>\n",
              "      <th>time</th>\n",
              "      <th>Day</th>\n",
              "    </tr>\n",
              "  </thead>\n",
              "  <tbody>\n",
              "    <tr>\n",
              "      <th>0</th>\n",
              "      <td>FFB692EC</td>\n",
              "      <td>Kamigata To Boots</td>\n",
              "      <td>The Mass Missile</td>\n",
              "      <td>rock</td>\n",
              "      <td>Saint-Petersburg</td>\n",
              "      <td>20:28:33</td>\n",
              "      <td>Wednesday</td>\n",
              "    </tr>\n",
              "    <tr>\n",
              "      <th>1</th>\n",
              "      <td>55204538</td>\n",
              "      <td>Delayed Because of Accident</td>\n",
              "      <td>Andreas Rönnberg</td>\n",
              "      <td>rock</td>\n",
              "      <td>Moscow</td>\n",
              "      <td>14:07:09</td>\n",
              "      <td>Friday</td>\n",
              "    </tr>\n",
              "    <tr>\n",
              "      <th>2</th>\n",
              "      <td>20EC38</td>\n",
              "      <td>Funiculì funiculà</td>\n",
              "      <td>Mario Lanza</td>\n",
              "      <td>pop</td>\n",
              "      <td>Saint-Petersburg</td>\n",
              "      <td>20:58:07</td>\n",
              "      <td>Wednesday</td>\n",
              "    </tr>\n",
              "    <tr>\n",
              "      <th>3</th>\n",
              "      <td>A3DD03C9</td>\n",
              "      <td>Dragons in the Sunset</td>\n",
              "      <td>Fire + Ice</td>\n",
              "      <td>folk</td>\n",
              "      <td>Saint-Petersburg</td>\n",
              "      <td>08:37:09</td>\n",
              "      <td>Monday</td>\n",
              "    </tr>\n",
              "    <tr>\n",
              "      <th>4</th>\n",
              "      <td>E2DC1FAE</td>\n",
              "      <td>Soul People</td>\n",
              "      <td>Space Echo</td>\n",
              "      <td>dance</td>\n",
              "      <td>Moscow</td>\n",
              "      <td>08:34:34</td>\n",
              "      <td>Monday</td>\n",
              "    </tr>\n",
              "    <tr>\n",
              "      <th>5</th>\n",
              "      <td>842029A1</td>\n",
              "      <td>Преданная</td>\n",
              "      <td>IMPERVTOR</td>\n",
              "      <td>rusrap</td>\n",
              "      <td>Saint-Petersburg</td>\n",
              "      <td>13:09:41</td>\n",
              "      <td>Friday</td>\n",
              "    </tr>\n",
              "    <tr>\n",
              "      <th>6</th>\n",
              "      <td>4CB90AA5</td>\n",
              "      <td>True</td>\n",
              "      <td>Roman Messer</td>\n",
              "      <td>dance</td>\n",
              "      <td>Moscow</td>\n",
              "      <td>13:00:07</td>\n",
              "      <td>Wednesday</td>\n",
              "    </tr>\n",
              "    <tr>\n",
              "      <th>7</th>\n",
              "      <td>F03E1C1F</td>\n",
              "      <td>Feeling This Way</td>\n",
              "      <td>Polina Griffith</td>\n",
              "      <td>dance</td>\n",
              "      <td>Moscow</td>\n",
              "      <td>20:47:49</td>\n",
              "      <td>Wednesday</td>\n",
              "    </tr>\n",
              "    <tr>\n",
              "      <th>8</th>\n",
              "      <td>8FA1D3BE</td>\n",
              "      <td>И вновь продолжается бой</td>\n",
              "      <td>NaN</td>\n",
              "      <td>ruspop</td>\n",
              "      <td>Moscow</td>\n",
              "      <td>09:17:40</td>\n",
              "      <td>Friday</td>\n",
              "    </tr>\n",
              "    <tr>\n",
              "      <th>9</th>\n",
              "      <td>E772D5C0</td>\n",
              "      <td>Pessimist</td>\n",
              "      <td>NaN</td>\n",
              "      <td>dance</td>\n",
              "      <td>Saint-Petersburg</td>\n",
              "      <td>21:20:49</td>\n",
              "      <td>Wednesday</td>\n",
              "    </tr>\n",
              "  </tbody>\n",
              "</table>\n",
              "</div>"
            ],
            "text/plain": [
              "     userID                        Track            artist   genre  \\\n",
              "0  FFB692EC            Kamigata To Boots  The Mass Missile    rock   \n",
              "1  55204538  Delayed Because of Accident  Andreas Rönnberg    rock   \n",
              "2    20EC38            Funiculì funiculà       Mario Lanza     pop   \n",
              "3  A3DD03C9        Dragons in the Sunset        Fire + Ice    folk   \n",
              "4  E2DC1FAE                  Soul People        Space Echo   dance   \n",
              "5  842029A1                    Преданная         IMPERVTOR  rusrap   \n",
              "6  4CB90AA5                         True      Roman Messer   dance   \n",
              "7  F03E1C1F             Feeling This Way   Polina Griffith   dance   \n",
              "8  8FA1D3BE     И вновь продолжается бой               NaN  ruspop   \n",
              "9  E772D5C0                    Pessimist               NaN   dance   \n",
              "\n",
              "             City        time        Day  \n",
              "0  Saint-Petersburg  20:28:33  Wednesday  \n",
              "1            Moscow  14:07:09     Friday  \n",
              "2  Saint-Petersburg  20:58:07  Wednesday  \n",
              "3  Saint-Petersburg  08:37:09     Monday  \n",
              "4            Moscow  08:34:34     Monday  \n",
              "5  Saint-Petersburg  13:09:41     Friday  \n",
              "6            Moscow  13:00:07  Wednesday  \n",
              "7            Moscow  20:47:49  Wednesday  \n",
              "8            Moscow  09:17:40     Friday  \n",
              "9  Saint-Petersburg  21:20:49  Wednesday  "
            ]
          },
          "execution_count": 3,
          "metadata": {},
          "output_type": "execute_result"
        }
      ],
      "source": [
        "# получение первых 10 строк таблицы df\n",
        "\n",
        "df.head(10)"
      ]
    },
    {
      "cell_type": "markdown",
      "metadata": {
        "id": "EO73Kwic_Zct"
      },
      "source": [
        "Одной командой получить общую информацию о таблице:"
      ]
    },
    {
      "cell_type": "code",
      "execution_count": null,
      "metadata": {
        "id": "DSf2kIb-_Zct",
        "outputId": "17a1ca51-05ef-4619-8010-04ad012500d4"
      },
      "outputs": [
        {
          "name": "stdout",
          "output_type": "stream",
          "text": [
            "<class 'pandas.core.frame.DataFrame'>\n",
            "RangeIndex: 65079 entries, 0 to 65078\n",
            "Data columns (total 7 columns):\n",
            " #   Column    Non-Null Count  Dtype \n",
            "---  ------    --------------  ----- \n",
            " 0     userID  65079 non-null  object\n",
            " 1   Track     63848 non-null  object\n",
            " 2   artist    57876 non-null  object\n",
            " 3   genre     63881 non-null  object\n",
            " 4     City    65079 non-null  object\n",
            " 5   time      65079 non-null  object\n",
            " 6   Day       65079 non-null  object\n",
            "dtypes: object(7)\n",
            "memory usage: 3.5+ MB\n"
          ]
        }
      ],
      "source": [
        "# получение общей информации о данных в таблице df\n",
        "\n",
        "df.info()"
      ]
    },
    {
      "cell_type": "markdown",
      "metadata": {
        "id": "TaQ2Iwbr_Zct"
      },
      "source": [
        "Итак, в таблице семь столбцов. Тип данных во всех столбцах — `object`.\n",
        "\n",
        "Согласно документации к данным:\n",
        "* `userID` — идентификатор пользователя;\n",
        "* `Track` — название трека;  \n",
        "* `artist` — имя исполнителя;\n",
        "* `genre` — название жанра;\n",
        "* `City` — город пользователя;\n",
        "* `time` — время начала прослушивания;\n",
        "* `Day` — день недели.\n",
        "\n",
        "В названиях колонок видны три нарушения стиля:\n",
        "1. Строчные буквы сочетаются с прописными.\n",
        "2. Встречаются пробелы.\n",
        "3. Найдите ещё одну проблему в названии колонок и опишите её в этом пункте:\n",
        "- думаю, что все названия столбцов нужно писать с маленькой буквы и разделить user_id\n",
        "\n",
        "\n",
        "\n",
        "\n",
        "Количество значений в столбцах различается. Значит, в данных есть пропущенные значения.\n"
      ]
    },
    {
      "cell_type": "markdown",
      "metadata": {
        "id": "MCB6-dXG_Zct"
      },
      "source": [
        "**Выводы**\n",
        "\n",
        "В каждой строке таблицы — данные о прослушанном треке. Часть колонок описывает саму композицию: название, исполнителя и жанр. Остальные данные рассказывают о пользователе: из какого он города, когда он слушал музыку. \n",
        "\n",
        "Предварительно можно утверждать, что, данных достаточно для проверки гипотез. Но встречаются пропуски в данных, а в названиях колонок — расхождения с хорошим стилем.\n",
        "\n",
        "Чтобы двигаться дальше, нужно устранить проблемы в данных."
      ]
    },
    {
      "cell_type": "markdown",
      "metadata": {
        "id": "SjYF6Ub9_Zct"
      },
      "source": [
        "## Предобработка данных\n",
        "Исправьте стиль в заголовках столбцов, исключите пропуски. Затем проверьте данные на дубликаты."
      ]
    },
    {
      "cell_type": "markdown",
      "metadata": {
        "id": "dIaKXr29_Zct"
      },
      "source": [
        "### Стиль заголовков\n",
        "Выведите на экран названия столбцов:"
      ]
    },
    {
      "cell_type": "code",
      "execution_count": null,
      "metadata": {
        "id": "oKOTdF_Q_Zct",
        "outputId": "7519ff87-c67d-4f28-d883-03d867109a6d"
      },
      "outputs": [
        {
          "data": {
            "text/plain": [
              "Index(['  userID', 'Track', 'artist', 'genre', '  City  ', 'time', 'Day'], dtype='object')"
            ]
          },
          "execution_count": 5,
          "metadata": {},
          "output_type": "execute_result"
        }
      ],
      "source": [
        "# перечень названий столбцов таблицы df\n",
        "\n",
        "df.columns"
      ]
    },
    {
      "cell_type": "markdown",
      "metadata": {
        "id": "zj5534cv_Zct"
      },
      "source": [
        "Приведите названия в соответствие с хорошим стилем:\n",
        "* несколько слов в названии запишите в «змеином_регистре»,\n",
        "* все символы сделайте строчными,\n",
        "* устраните пробелы.\n",
        "\n",
        "Для этого переименуйте колонки так:\n",
        "* `'  userID'` → `'user_id'`;\n",
        "* `'Track'` → `'track'`;\n",
        "* `'  City  '` → `'city'`;\n",
        "* `'Day'` → `'day'`."
      ]
    },
    {
      "cell_type": "code",
      "execution_count": null,
      "metadata": {
        "id": "ISlFqs5y_Zct"
      },
      "outputs": [],
      "source": [
        "# переименование столбцов\n",
        "\n",
        "df = df.rename(\n",
        "    columns={\n",
        "        '  userID': 'user_id',\n",
        "        'Track': 'track',\n",
        "        '  City  ': 'city',\n",
        "        'Day': 'day'\n",
        "    }\n",
        ")"
      ]
    },
    {
      "cell_type": "markdown",
      "metadata": {
        "id": "1dqbh00J_Zct"
      },
      "source": [
        "Проверьте результат. Для этого ещё раз выведите на экран названия столбцов:"
      ]
    },
    {
      "cell_type": "code",
      "execution_count": null,
      "metadata": {
        "id": "d4NOAmTW_Zct",
        "outputId": "2a663c0f-289f-4176-e129-c9a91f9a170f"
      },
      "outputs": [
        {
          "data": {
            "text/plain": [
              "Index(['user_id', 'track', 'artist', 'genre', 'city', 'time', 'day'], dtype='object')"
            ]
          },
          "execution_count": 7,
          "metadata": {},
          "output_type": "execute_result"
        }
      ],
      "source": [
        "# проверка результатов - перечень названий столбцов\n",
        "\n",
        "df.columns"
      ]
    },
    {
      "cell_type": "markdown",
      "metadata": {
        "id": "5ISfbcfY_Zct"
      },
      "source": [
        "### Пропуски значений\n",
        "Сначала посчитайте, сколько в таблице пропущенных значений. Для этого достаточно двух методов `pandas`:"
      ]
    },
    {
      "cell_type": "code",
      "execution_count": null,
      "metadata": {
        "id": "RskX29qr_Zct",
        "outputId": "84287a5f-cda9-437b-d2da-ef89565e8e45"
      },
      "outputs": [
        {
          "data": {
            "text/plain": [
              "user_id       0\n",
              "track      1231\n",
              "artist     7203\n",
              "genre      1198\n",
              "city          0\n",
              "time          0\n",
              "day           0\n",
              "dtype: int64"
            ]
          },
          "execution_count": 8,
          "metadata": {},
          "output_type": "execute_result"
        }
      ],
      "source": [
        "# подсчёт пропусков\n",
        "\n",
        "df.isna().sum()"
      ]
    },
    {
      "cell_type": "markdown",
      "metadata": {
        "id": "qubhgnlO_Zct"
      },
      "source": [
        "Не все пропущенные значения влияют на исследование. Так в `track` и `artist` пропуски не важны для вашей работы. Достаточно заменить их явными обозначениями.\n",
        "\n",
        "Но пропуски в `genre` могут помешать сравнению музыкальных вкусов в Москве и Санкт-Петербурге. На практике было бы правильно установить причину пропусков и восстановить данные. Такой возможности нет в учебном проекте. Придётся:\n",
        "* заполнить и эти пропуски явными обозначениями,\n",
        "* оценить, насколько они повредят расчётам. "
      ]
    },
    {
      "cell_type": "markdown",
      "metadata": {
        "id": "fSv2laPA_Zct"
      },
      "source": [
        "Замените пропущенные значения в столбцах `track`, `artist` и `genre` на строку `'unknown'`. Для этого создайте список `columns_to_replace`, переберите его элементы циклом `for` и для каждого столбца выполните замену пропущенных значений:"
      ]
    },
    {
      "cell_type": "code",
      "execution_count": null,
      "metadata": {
        "id": "KplB5qWs_Zct"
      },
      "outputs": [],
      "source": [
        "# перебор названий столбцов в цикле и замена пропущенных значений на 'unknown'\n",
        "\n",
        "columns_to_replace = ['track', 'artist', 'genre']\n",
        "\n",
        "\n",
        "for column in columns_to_replace:\n",
        "    df[column] = df[column].fillna('unknown')"
      ]
    },
    {
      "cell_type": "markdown",
      "metadata": {
        "id": "Ilsm-MZo_Zct"
      },
      "source": [
        "Убедитесь, что в таблице не осталось пропусков. Для этого ещё раз посчитайте пропущенные значения."
      ]
    },
    {
      "cell_type": "code",
      "execution_count": null,
      "metadata": {
        "id": "Tq4nYRX4_Zct",
        "outputId": "c50f3ac6-0053-484f-d990-9917e9b77c05"
      },
      "outputs": [
        {
          "data": {
            "text/plain": [
              "user_id    0\n",
              "track      0\n",
              "artist     0\n",
              "genre      0\n",
              "city       0\n",
              "time       0\n",
              "day        0\n",
              "dtype: int64"
            ]
          },
          "execution_count": 10,
          "metadata": {},
          "output_type": "execute_result"
        }
      ],
      "source": [
        "# подсчёт пропусков\n",
        "\n",
        "df.isna().sum()"
      ]
    },
    {
      "cell_type": "markdown",
      "metadata": {
        "id": "BWKRtBJ3_Zct"
      },
      "source": [
        "### Дубликаты\n",
        "Посчитайте явные дубликаты в таблице одной командой:"
      ]
    },
    {
      "cell_type": "code",
      "execution_count": null,
      "metadata": {
        "id": "36eES_S0_Zct",
        "outputId": "a85c1b7b-a172-4933-e317-1e5595ed2c94"
      },
      "outputs": [
        {
          "data": {
            "text/plain": [
              "3826"
            ]
          },
          "execution_count": 11,
          "metadata": {},
          "output_type": "execute_result"
        }
      ],
      "source": [
        "# подсчёт явных дубликатов\n",
        "\n",
        "df.duplicated().sum()"
      ]
    },
    {
      "cell_type": "markdown",
      "metadata": {
        "id": "Ot25h6XR_Zct"
      },
      "source": [
        "Вызовите специальный метод `pandas`, чтобы удалить явные дубликаты:"
      ]
    },
    {
      "cell_type": "code",
      "execution_count": null,
      "metadata": {
        "id": "exFHq6tt_Zct"
      },
      "outputs": [],
      "source": [
        "# удаление явных дубликатов (с удалением старых индексов и формированием новых)\n",
        "\n",
        "df = df.drop_duplicates().reset_index(drop=True)"
      ]
    },
    {
      "cell_type": "markdown",
      "metadata": {
        "id": "Im2YwBEG_Zct"
      },
      "source": [
        "Ещё раз посчитайте явные дубликаты в таблице — убедитесь, что полностью от них избавились:"
      ]
    },
    {
      "cell_type": "code",
      "execution_count": null,
      "metadata": {
        "id": "-8PuNWQ0_Zct",
        "outputId": "f99127a6-adb0-46a5-dfad-deb0727987a9"
      },
      "outputs": [
        {
          "data": {
            "text/plain": [
              "0"
            ]
          },
          "execution_count": 13,
          "metadata": {},
          "output_type": "execute_result"
        }
      ],
      "source": [
        "# проверка на отсутствие дубликатов\n",
        "\n",
        "df.duplicated().sum()"
      ]
    },
    {
      "cell_type": "markdown",
      "metadata": {
        "id": "QlFBsxAr_Zct"
      },
      "source": [
        "Теперь избавьтесь от неявных дубликатов в колонке `genre`. Например, название одного и того же жанра может быть записано немного по-разному. Такие ошибки тоже повлияют на результат исследования."
      ]
    },
    {
      "cell_type": "markdown",
      "metadata": {
        "id": "eSjWwsOh_Zct"
      },
      "source": [
        "Выведите на экран список уникальных названий жанров, отсортированный в алфавитном порядке. Для этого:\n",
        "* извлеките нужный столбец датафрейма, \n",
        "* примените к нему метод сортировки,\n",
        "* для отсортированного столбца вызовите метод, который вернёт уникальные значения из столбца."
      ]
    },
    {
      "cell_type": "code",
      "execution_count": null,
      "metadata": {
        "id": "JIUcqzZN_Zct",
        "outputId": "0819394f-d864-4c66-be62-2a33f400be0b"
      },
      "outputs": [
        {
          "data": {
            "text/plain": [
              "array(['acid', 'acoustic', 'action', 'adult', 'africa', 'afrikaans',\n",
              "       'alternative', 'alternativepunk', 'ambient', 'americana',\n",
              "       'animated', 'anime', 'arabesk', 'arabic', 'arena',\n",
              "       'argentinetango', 'art', 'audiobook', 'author', 'avantgarde',\n",
              "       'axé', 'baile', 'balkan', 'beats', 'bigroom', 'black', 'bluegrass',\n",
              "       'blues', 'bollywood', 'bossa', 'brazilian', 'breakbeat', 'breaks',\n",
              "       'broadway', 'cantautori', 'cantopop', 'canzone', 'caribbean',\n",
              "       'caucasian', 'celtic', 'chamber', 'chanson', 'children', 'chill',\n",
              "       'chinese', 'choral', 'christian', 'christmas', 'classical',\n",
              "       'classicmetal', 'club', 'colombian', 'comedy', 'conjazz',\n",
              "       'contemporary', 'country', 'cuban', 'dance', 'dancehall',\n",
              "       'dancepop', 'dark', 'death', 'deep', 'deutschrock', 'deutschspr',\n",
              "       'dirty', 'disco', 'dnb', 'documentary', 'downbeat', 'downtempo',\n",
              "       'drum', 'dub', 'dubstep', 'eastern', 'easy', 'electronic',\n",
              "       'electropop', 'emo', 'entehno', 'epicmetal', 'estrada', 'ethnic',\n",
              "       'eurofolk', 'european', 'experimental', 'extrememetal', 'fado',\n",
              "       'fairytail', 'film', 'fitness', 'flamenco', 'folk', 'folklore',\n",
              "       'folkmetal', 'folkrock', 'folktronica', 'forró', 'frankreich',\n",
              "       'französisch', 'french', 'funk', 'future', 'gangsta', 'garage',\n",
              "       'german', 'ghazal', 'gitarre', 'glitch', 'gospel', 'gothic',\n",
              "       'grime', 'grunge', 'gypsy', 'handsup', \"hard'n'heavy\", 'hardcore',\n",
              "       'hardstyle', 'hardtechno', 'hip', 'hip-hop', 'hiphop',\n",
              "       'historisch', 'holiday', 'hop', 'horror', 'house', 'hymn', 'idm',\n",
              "       'independent', 'indian', 'indie', 'indipop', 'industrial',\n",
              "       'inspirational', 'instrumental', 'international', 'irish', 'jam',\n",
              "       'japanese', 'jazz', 'jewish', 'jpop', 'jungle', 'k-pop',\n",
              "       'karadeniz', 'karaoke', 'kayokyoku', 'korean', 'laiko', 'latin',\n",
              "       'latino', 'leftfield', 'local', 'lounge', 'loungeelectronic',\n",
              "       'lovers', 'malaysian', 'mandopop', 'marschmusik', 'meditative',\n",
              "       'mediterranean', 'melodic', 'metal', 'metalcore', 'mexican',\n",
              "       'middle', 'minimal', 'miscellaneous', 'modern', 'mood', 'mpb',\n",
              "       'muslim', 'native', 'neoklassik', 'neue', 'new', 'newage',\n",
              "       'newwave', 'nu', 'nujazz', 'numetal', 'oceania', 'old', 'opera',\n",
              "       'orchestral', 'other', 'piano', 'podcasts', 'pop', 'popdance',\n",
              "       'popelectronic', 'popeurodance', 'poprussian', 'post',\n",
              "       'posthardcore', 'postrock', 'power', 'progmetal', 'progressive',\n",
              "       'psychedelic', 'punjabi', 'punk', 'quebecois', 'ragga', 'ram',\n",
              "       'rancheras', 'rap', 'rave', 'reggae', 'reggaeton', 'regional',\n",
              "       'relax', 'religious', 'retro', 'rhythm', 'rnb', 'rnr', 'rock',\n",
              "       'rockabilly', 'rockalternative', 'rockindie', 'rockother',\n",
              "       'romance', 'roots', 'ruspop', 'rusrap', 'rusrock', 'russian',\n",
              "       'salsa', 'samba', 'scenic', 'schlager', 'self', 'sertanejo',\n",
              "       'shanson', 'shoegazing', 'showtunes', 'singer', 'ska', 'skarock',\n",
              "       'slow', 'smooth', 'soft', 'soul', 'soulful', 'sound', 'soundtrack',\n",
              "       'southern', 'specialty', 'speech', 'spiritual', 'sport',\n",
              "       'stonerrock', 'surf', 'swing', 'synthpop', 'synthrock',\n",
              "       'sängerportrait', 'tango', 'tanzorchester', 'taraftar', 'tatar',\n",
              "       'tech', 'techno', 'teen', 'thrash', 'top', 'traditional',\n",
              "       'tradjazz', 'trance', 'tribal', 'trip', 'triphop', 'tropical',\n",
              "       'türk', 'türkçe', 'ukrrock', 'unknown', 'urban', 'uzbek',\n",
              "       'variété', 'vi', 'videogame', 'vocal', 'western', 'world',\n",
              "       'worldbeat', 'ïîï', 'электроника'], dtype=object)"
            ]
          },
          "metadata": {},
          "output_type": "display_data"
        }
      ],
      "source": [
        "# Просмотр уникальных названий жанров\n",
        "\n",
        "sort_uniq_genre = df['genre'].sort_values().unique()\n",
        "\n",
        "display(sort_uniq_genre)"
      ]
    },
    {
      "cell_type": "markdown",
      "metadata": {
        "id": "qej-Qmuo_Zct"
      },
      "source": [
        "Просмотрите список и найдите неявные дубликаты названия `hiphop`. Это могут быть названия с ошибками или альтернативные названия того же жанра.\n",
        "\n",
        "Вы увидите следующие неявные дубликаты:\n",
        "* *hip*,\n",
        "* *hop*,\n",
        "* *hip-hop*.\n",
        "\n",
        "Чтобы очистить от них таблицу, напишите функцию `replace_wrong_genres()` с двумя параметрами: \n",
        "* `wrong_genres` — список дубликатов,\n",
        "* `correct_genre` — строка с правильным значением.\n",
        "\n",
        "Функция должна исправить колонку `genre` в таблице `df`: заменить каждое значение из списка `wrong_genres` на значение из `correct_genre`."
      ]
    },
    {
      "cell_type": "code",
      "execution_count": null,
      "metadata": {
        "id": "ErNDkmns_Zct"
      },
      "outputs": [],
      "source": [
        "# Функция для замены неявных дубликатов\n",
        "\n",
        "def replace_wrong_genres(wrong_genres, correct_genre):\n",
        "    for wrong in wrong_genres:\n",
        "        df['genre'] = df['genre'].replace(wrong_genres, correct_genre)"
      ]
    },
    {
      "cell_type": "markdown",
      "metadata": {
        "id": "aDoBJxbA_Zct"
      },
      "source": [
        "Вызовите `replace_wrong_genres()` и передайте ей такие аргументы, чтобы она устранила неявные дубликаты: вместо `hip`, `hop` и `hip-hop` в таблице должно быть значение `hiphop`:"
      ]
    },
    {
      "cell_type": "code",
      "execution_count": null,
      "metadata": {
        "id": "YN5i2hpmSo09"
      },
      "outputs": [],
      "source": [
        "# Устранение неявных дубликатов\n",
        "\n",
        "wrong_genres = ['hip', 'hop', 'hip-hop']\n",
        "correct_genre = 'hiphop'\n",
        "\n",
        "replace_wrong_genres(wrong_genres, correct_genre)"
      ]
    },
    {
      "cell_type": "markdown",
      "metadata": {
        "id": "zQKF16_RG15m"
      },
      "source": [
        "Проверьте, что заменили неправильные названия:\n",
        "\n",
        "*   hip\n",
        "*   hop\n",
        "*   hip-hop\n",
        "\n",
        "Выведите отсортированный список уникальных значений столбца `genre`:"
      ]
    },
    {
      "cell_type": "code",
      "execution_count": null,
      "metadata": {
        "id": "wvixALnFG15m",
        "outputId": "8feb9e17-033d-4998-e23a-9ff576699ac0"
      },
      "outputs": [
        {
          "name": "stdout",
          "output_type": "stream",
          "text": [
            "['acid' 'acoustic' 'action' 'adult' 'africa' 'afrikaans' 'alternative'\n",
            " 'alternativepunk' 'ambient' 'americana' 'animated' 'anime' 'arabesk'\n",
            " 'arabic' 'arena' 'argentinetango' 'art' 'audiobook' 'author' 'avantgarde'\n",
            " 'axé' 'baile' 'balkan' 'beats' 'bigroom' 'black' 'bluegrass' 'blues'\n",
            " 'bollywood' 'bossa' 'brazilian' 'breakbeat' 'breaks' 'broadway'\n",
            " 'cantautori' 'cantopop' 'canzone' 'caribbean' 'caucasian' 'celtic'\n",
            " 'chamber' 'chanson' 'children' 'chill' 'chinese' 'choral' 'christian'\n",
            " 'christmas' 'classical' 'classicmetal' 'club' 'colombian' 'comedy'\n",
            " 'conjazz' 'contemporary' 'country' 'cuban' 'dance' 'dancehall' 'dancepop'\n",
            " 'dark' 'death' 'deep' 'deutschrock' 'deutschspr' 'dirty' 'disco' 'dnb'\n",
            " 'documentary' 'downbeat' 'downtempo' 'drum' 'dub' 'dubstep' 'eastern'\n",
            " 'easy' 'electronic' 'electropop' 'emo' 'entehno' 'epicmetal' 'estrada'\n",
            " 'ethnic' 'eurofolk' 'european' 'experimental' 'extrememetal' 'fado'\n",
            " 'fairytail' 'film' 'fitness' 'flamenco' 'folk' 'folklore' 'folkmetal'\n",
            " 'folkrock' 'folktronica' 'forró' 'frankreich' 'französisch' 'french'\n",
            " 'funk' 'future' 'gangsta' 'garage' 'german' 'ghazal' 'gitarre' 'glitch'\n",
            " 'gospel' 'gothic' 'grime' 'grunge' 'gypsy' 'handsup' \"hard'n'heavy\"\n",
            " 'hardcore' 'hardstyle' 'hardtechno' 'hiphop' 'historisch' 'holiday'\n",
            " 'horror' 'house' 'hymn' 'idm' 'independent' 'indian' 'indie' 'indipop'\n",
            " 'industrial' 'inspirational' 'instrumental' 'international' 'irish' 'jam'\n",
            " 'japanese' 'jazz' 'jewish' 'jpop' 'jungle' 'k-pop' 'karadeniz' 'karaoke'\n",
            " 'kayokyoku' 'korean' 'laiko' 'latin' 'latino' 'leftfield' 'local'\n",
            " 'lounge' 'loungeelectronic' 'lovers' 'malaysian' 'mandopop' 'marschmusik'\n",
            " 'meditative' 'mediterranean' 'melodic' 'metal' 'metalcore' 'mexican'\n",
            " 'middle' 'minimal' 'miscellaneous' 'modern' 'mood' 'mpb' 'muslim'\n",
            " 'native' 'neoklassik' 'neue' 'new' 'newage' 'newwave' 'nu' 'nujazz'\n",
            " 'numetal' 'oceania' 'old' 'opera' 'orchestral' 'other' 'piano' 'podcasts'\n",
            " 'pop' 'popdance' 'popelectronic' 'popeurodance' 'poprussian' 'post'\n",
            " 'posthardcore' 'postrock' 'power' 'progmetal' 'progressive' 'psychedelic'\n",
            " 'punjabi' 'punk' 'quebecois' 'ragga' 'ram' 'rancheras' 'rap' 'rave'\n",
            " 'reggae' 'reggaeton' 'regional' 'relax' 'religious' 'retro' 'rhythm'\n",
            " 'rnb' 'rnr' 'rock' 'rockabilly' 'rockalternative' 'rockindie' 'rockother'\n",
            " 'romance' 'roots' 'ruspop' 'rusrap' 'rusrock' 'russian' 'salsa' 'samba'\n",
            " 'scenic' 'schlager' 'self' 'sertanejo' 'shanson' 'shoegazing' 'showtunes'\n",
            " 'singer' 'ska' 'skarock' 'slow' 'smooth' 'soft' 'soul' 'soulful' 'sound'\n",
            " 'soundtrack' 'southern' 'specialty' 'speech' 'spiritual' 'sport'\n",
            " 'stonerrock' 'surf' 'swing' 'synthpop' 'synthrock' 'sängerportrait'\n",
            " 'tango' 'tanzorchester' 'taraftar' 'tatar' 'tech' 'techno' 'teen'\n",
            " 'thrash' 'top' 'traditional' 'tradjazz' 'trance' 'tribal' 'trip'\n",
            " 'triphop' 'tropical' 'türk' 'türkçe' 'ukrrock' 'unknown' 'urban' 'uzbek'\n",
            " 'variété' 'vi' 'videogame' 'vocal' 'western' 'world' 'worldbeat' 'ïîï'\n",
            " 'электроника']\n"
          ]
        }
      ],
      "source": [
        "# Проверка на неявные дубликаты\n",
        "\n",
        "print(df['genre'].sort_values().unique()) # проверил визуально"
      ]
    },
    {
      "cell_type": "markdown",
      "metadata": {
        "id": "jz6a9-7HQUDd"
      },
      "source": [
        "**Выводы**\n",
        "\n",
        "Предобработка обнаружила три проблемы в данных:\n",
        "\n",
        "- нарушения в стиле заголовков,\n",
        "- пропущенные значения,\n",
        "- дубликаты — явные и неявные.\n",
        "\n",
        "Вы исправили заголовки, чтобы упростить работу с таблицей. Без дубликатов исследование станет более точным.\n",
        "\n",
        "Пропущенные значения вы заменили на `'unknown'`. Ещё предстоит увидеть, не повредят ли исследованию пропуски в колонке `genre`.\n",
        "\n",
        "Теперь можно перейти к проверке гипотез. "
      ]
    },
    {
      "cell_type": "markdown",
      "metadata": {
        "id": "WttZHXH0SqKk"
      },
      "source": [
        "## Проверка гипотез"
      ]
    },
    {
      "cell_type": "markdown",
      "metadata": {
        "id": "Im936VVi_Zcu"
      },
      "source": [
        "### Сравнение поведения пользователей двух столиц"
      ]
    },
    {
      "cell_type": "markdown",
      "metadata": {
        "id": "nwt_MuaL_Zcu"
      },
      "source": [
        "Первая гипотеза утверждает, что пользователи по-разному слушают музыку в Москве и Санкт-Петербурге. Проверьте это предположение по данным о трёх днях недели — понедельнике, среде и пятнице. Для этого:\n",
        "\n",
        "* Разделите пользователей Москвы и Санкт-Петербурга\n",
        "* Сравните, сколько треков послушала каждая группа пользователей в понедельник, среду и пятницу.\n"
      ]
    },
    {
      "cell_type": "markdown",
      "metadata": {
        "id": "8Dw_YMmT_Zcu"
      },
      "source": [
        "Для тренировки сначала выполните каждый из расчётов по отдельности. \n",
        "\n",
        "Оцените активность пользователей в каждом городе. Сгруппируйте данные по городу и посчитайте прослушивания в каждой группе.\n",
        "\n"
      ]
    },
    {
      "cell_type": "code",
      "execution_count": null,
      "metadata": {
        "id": "0_Qs96oh_Zcu",
        "outputId": "f83f82a7-4989-4914-838b-bad8fce13b53"
      },
      "outputs": [
        {
          "name": "stdout",
          "output_type": "stream",
          "text": [
            "В Москве прослушали: 42741 треков\n",
            "В Санкт-Петербурге прослушали: 18512 треков\n"
          ]
        },
        {
          "data": {
            "text/plain": [
              "city\n",
              "Moscow              42741\n",
              "Saint-Petersburg    18512\n",
              "Name: track, dtype: int64"
            ]
          },
          "metadata": {},
          "output_type": "display_data"
        }
      ],
      "source": [
        "# Подсчёт прослушиваний в каждом городе\n",
        "\n",
        "# решение раз\n",
        "\n",
        "msk_users = df[df['city'] == 'Moscow'] # тут сохраню пользователей по городам в отдельные таблицы\n",
        "spb_users = df[df['city'] == 'Saint-Petersburg']\n",
        "\n",
        "\n",
        "print('В Москве прослушали:', msk_users['track'].count(), 'треков') # посчитаю по трекам в принте\n",
        "print('В Санкт-Петербурге прослушали:', spb_users['track'].count(), 'треков')\n",
        "\n",
        "# решение два\n",
        "display(df.groupby('city')['track'].count())"
      ]
    },
    {
      "cell_type": "markdown",
      "metadata": {
        "id": "dzli3w8o_Zcu"
      },
      "source": [
        "В Москве прослушиваний больше, чем в Петербурге. Из этого не следует, что московские пользователи чаще слушают музыку. Просто самих пользователей в Москве больше.\n",
        "\n",
        "Теперь сгруппируйте данные по дню недели и подсчитайте прослушивания в понедельник, среду и пятницу. Учтите, что в данных есть информация о прослушиваниях только за эти дни.\n"
      ]
    },
    {
      "cell_type": "code",
      "execution_count": null,
      "metadata": {
        "id": "uZMKjiJz_Zcu",
        "outputId": "0a9bc8d7-7e6b-4faa-e66c-710a926a0e3d"
      },
      "outputs": [
        {
          "name": "stdout",
          "output_type": "stream",
          "text": [
            "В понедельник: 21354 прослушанных треков в Москве и Питере\n",
            "\n",
            "day\n",
            "Friday       21840\n",
            "Monday       21354\n",
            "Wednesday    18059\n",
            "Name: track, dtype: int64\n",
            "\n",
            "В Москве в среду прослушано 11056\n",
            "В Питере в среду прослушано 7003\n",
            "\n",
            "все првильно. сумма прослушанных треков за среду из двух городов равняется сумме полученной методом groupby\n",
            "\n",
            "кто ж знал, что это будет в следующем задании\n"
          ]
        }
      ],
      "source": [
        "# Подсчёт прослушиваний в каждый из трёх дней\n",
        "\n",
        "# решение раз (пример с понедельником)\n",
        "\n",
        "print('В понедельник:', df[df['day'] == 'Monday']['track'].count(), 'прослушанных треков в Москве и Питере')\n",
        "print()\n",
        "\n",
        "# решение два\n",
        "\n",
        "print(df.groupby('day')['track'].count())\n",
        "print()\n",
        "\n",
        "# я думаю, что эти цифры нам не так важны. Важно смотреть не только по дням недели но и по городам\n",
        "\n",
        "print('В Москве в среду прослушано', msk_users[msk_users['day'] == 'Wednesday']['track'].count())\n",
        "print('В Питере в среду прослушано', spb_users[spb_users['day'] == 'Wednesday']['track'].count())\n",
        "print()\n",
        "\n",
        "# проверка\n",
        "\n",
        "ab = df[df['day'] == 'Wednesday']['track'].count()\n",
        "a = msk_users[msk_users['day'] == 'Wednesday']['track'].count()\n",
        "b = spb_users[spb_users['day'] == 'Wednesday']['track'].count()\n",
        "\n",
        "if ab == a + b:\n",
        "    print('все првильно. сумма прослушанных треков за среду из двух городов равняется сумме полученной методом groupby')\n",
        "else:\n",
        "    print('перемудрил')\n",
        "print()    \n",
        "print('кто ж знал, что это будет в следующем задании')"
      ]
    },
    {
      "cell_type": "markdown",
      "metadata": {
        "id": "cC2tNrlL_Zcu"
      },
      "source": [
        "В среднем пользователи из двух городов менее активны по средам. Но картина может измениться, если рассмотреть каждый город в отдельности."
      ]
    },
    {
      "cell_type": "markdown",
      "metadata": {
        "id": "POzs8bGa_Zcu"
      },
      "source": [
        "Вы видели, как работает группировка по городу и по дням недели. Теперь напишите функцию, которая объединит два эти расчёта.\n",
        "\n",
        "Создайте функцию `number_tracks()`, которая посчитает прослушивания для заданного дня и города. Ей понадобятся два параметра:\n",
        "* день недели,\n",
        "* название города.\n",
        "\n",
        "В функции сохраните в переменную строки исходной таблицы, у которых значение:\n",
        "  * в колонке `day` равно параметру `day`,\n",
        "  * в колонке `city` равно параметру `city`.\n",
        "\n",
        "Для этого примените последовательную фильтрацию с логической индексацией.\n",
        "\n",
        "Затем посчитайте значения в столбце `user_id` получившейся таблицы. Результат сохраните в новую переменную. Верните эту переменную из функции."
      ]
    },
    {
      "cell_type": "code",
      "execution_count": null,
      "metadata": {
        "id": "Nz3GdQB1_Zcu"
      },
      "outputs": [],
      "source": [
        "# <создание функции number_tracks()>\n",
        "# Объявляется функция с двумя параметрами: day, city.\n",
        "# В переменной track_list сохраняются те строки таблицы df, для которых \n",
        "# значение в столбце 'day' равно параметру day и одновременно значение\n",
        "# в столбце 'city' равно параметру city (используйте последовательную фильтрацию\n",
        "# с помощью логической индексации).\n",
        "# В переменной track_list_count сохраняется число значений столбца 'user_id',\n",
        "# рассчитанное методом count() для таблицы track_list.\n",
        "# Функция возвращает число - значение track_list_count.\n",
        "\n",
        "# Функция для подсчёта прослушиваний для конкретного города и дня.\n",
        "# С помощью последовательной фильтрации с логической индексацией она \n",
        "# сначала получит из исходной таблицы строки с нужным днём,\n",
        "# затем из результата отфильтрует строки с нужным городом,\n",
        "# методом count() посчитает количество значений в колонке user_id. \n",
        "# Это количество функция вернёт в качестве результата"
      ]
    },
    {
      "cell_type": "code",
      "execution_count": null,
      "metadata": {
        "id": "vUSqs4BThBnl"
      },
      "outputs": [],
      "source": [
        "def number_tracks(day, city):\n",
        "    track_list = df[\n",
        "        (df['day'] == day) &\n",
        "        (df['city'] == city)\n",
        "    ]\n",
        "    track_list_count = track_list['user_id'].count()\n",
        "    return track_list_count"
      ]
    },
    {
      "cell_type": "markdown",
      "metadata": {
        "id": "ytf7xFrFJQ2r"
      },
      "source": [
        "Вызовите `number_tracks()` шесть раз, меняя значение параметров — так, чтобы получить данные для каждого города в каждый из трёх дней."
      ]
    },
    {
      "cell_type": "code",
      "execution_count": null,
      "metadata": {
        "id": "rJcRATNQ_Zcu",
        "outputId": "9b70c72e-63c0-4219-9825-241a36d09c06"
      },
      "outputs": [
        {
          "data": {
            "text/plain": [
              "15740"
            ]
          },
          "execution_count": 22,
          "metadata": {},
          "output_type": "execute_result"
        }
      ],
      "source": [
        "# количество прослушиваний в Москве по понедельникам\n",
        "\n",
        "number_tracks('Monday', 'Moscow')"
      ]
    },
    {
      "cell_type": "code",
      "execution_count": null,
      "metadata": {
        "id": "hq_ncZ5T_Zcu",
        "outputId": "64bc794e-1dc1-4e97-9605-b0638854636b"
      },
      "outputs": [
        {
          "data": {
            "text/plain": [
              "5614"
            ]
          },
          "execution_count": 23,
          "metadata": {},
          "output_type": "execute_result"
        }
      ],
      "source": [
        "# количество прослушиваний в Санкт-Петербурге по понедельникам\n",
        "\n",
        "number_tracks('Monday', 'Saint-Petersburg')"
      ]
    },
    {
      "cell_type": "code",
      "execution_count": null,
      "metadata": {
        "id": "_NTy2VPU_Zcu",
        "outputId": "b45f902a-d035-411c-f448-9cda14fe396f"
      },
      "outputs": [
        {
          "data": {
            "text/plain": [
              "11056"
            ]
          },
          "execution_count": 24,
          "metadata": {},
          "output_type": "execute_result"
        }
      ],
      "source": [
        "# количество прослушиваний в Москве по средам\n",
        "\n",
        "number_tracks('Wednesday', 'Moscow')"
      ]
    },
    {
      "cell_type": "code",
      "execution_count": null,
      "metadata": {
        "id": "j2y3TAwo_Zcu",
        "outputId": "e6909e1f-ab3f-4221-c83a-a73c74f0dcc6"
      },
      "outputs": [
        {
          "data": {
            "text/plain": [
              "7003"
            ]
          },
          "execution_count": 25,
          "metadata": {},
          "output_type": "execute_result"
        }
      ],
      "source": [
        "# количество прослушиваний в Санкт-Петербурге по средам\n",
        "\n",
        "number_tracks('Wednesday', 'Saint-Petersburg')"
      ]
    },
    {
      "cell_type": "code",
      "execution_count": null,
      "metadata": {
        "id": "vYDw5u_K_Zcu",
        "outputId": "ea2bd616-31f2-4671-cbb9-afef2504c73e"
      },
      "outputs": [
        {
          "data": {
            "text/plain": [
              "15945"
            ]
          },
          "execution_count": 26,
          "metadata": {},
          "output_type": "execute_result"
        }
      ],
      "source": [
        "# количество прослушиваний в Москве по пятницам\n",
        "\n",
        "number_tracks('Friday', 'Moscow')"
      ]
    },
    {
      "cell_type": "code",
      "execution_count": null,
      "metadata": {
        "id": "8_yzFtW3_Zcu",
        "outputId": "4592a52e-c8f2-47d9-e16c-6b9401349176"
      },
      "outputs": [
        {
          "data": {
            "text/plain": [
              "5895"
            ]
          },
          "execution_count": 27,
          "metadata": {},
          "output_type": "execute_result"
        }
      ],
      "source": [
        "# количество прослушиваний в Санкт-Петербурге по пятницам\n",
        "\n",
        "number_tracks('Friday', 'Saint-Petersburg')"
      ]
    },
    {
      "cell_type": "markdown",
      "metadata": {
        "id": "7QXffbO-_Zcu"
      },
      "source": [
        "Создайте c помощью конструктора `pd.DataFrame` таблицу, где\n",
        "* названия колонок — `['city', 'monday', 'wednesday', 'friday']`;\n",
        "* данные — результаты, которые вы получили с помощью `number_tracks`."
      ]
    },
    {
      "cell_type": "code",
      "execution_count": null,
      "metadata": {
        "id": "APAcLpOr_Zcu",
        "outputId": "5ed36499-7ad7-4810-e706-8df5a5f6a2a8"
      },
      "outputs": [
        {
          "data": {
            "text/html": [
              "<div>\n",
              "<style scoped>\n",
              "    .dataframe tbody tr th:only-of-type {\n",
              "        vertical-align: middle;\n",
              "    }\n",
              "\n",
              "    .dataframe tbody tr th {\n",
              "        vertical-align: top;\n",
              "    }\n",
              "\n",
              "    .dataframe thead th {\n",
              "        text-align: right;\n",
              "    }\n",
              "</style>\n",
              "<table border=\"1\" class=\"dataframe\">\n",
              "  <thead>\n",
              "    <tr style=\"text-align: right;\">\n",
              "      <th></th>\n",
              "      <th>city</th>\n",
              "      <th>monday</th>\n",
              "      <th>wednesday</th>\n",
              "      <th>friday</th>\n",
              "    </tr>\n",
              "  </thead>\n",
              "  <tbody>\n",
              "    <tr>\n",
              "      <th>0</th>\n",
              "      <td>Москва</td>\n",
              "      <td>15740</td>\n",
              "      <td>11056</td>\n",
              "      <td>15945</td>\n",
              "    </tr>\n",
              "    <tr>\n",
              "      <th>1</th>\n",
              "      <td>Санкт - Петербург</td>\n",
              "      <td>5614</td>\n",
              "      <td>7003</td>\n",
              "      <td>5895</td>\n",
              "    </tr>\n",
              "  </tbody>\n",
              "</table>\n",
              "</div>"
            ],
            "text/plain": [
              "                city  monday  wednesday  friday\n",
              "0             Москва   15740      11056   15945\n",
              "1  Санкт - Петербург    5614       7003    5895"
            ]
          },
          "metadata": {},
          "output_type": "display_data"
        }
      ],
      "source": [
        "# Таблица с результатами\n",
        "\n",
        "columns = ['city', 'monday', 'wednesday', 'friday']\n",
        "data = [\n",
        "    ['Москва', 15740, 11056, 15945],\n",
        "    ['Санкт - Петербург', 5614, 7003, 5895]\n",
        "]\n",
        "\n",
        "summary_table = pd.DataFrame(data=data, columns=columns)\n",
        "\n",
        "display(summary_table)\n",
        "\n",
        "# надо что-то придумать, что бы не руками формировать data"
      ]
    },
    {
      "cell_type": "markdown",
      "metadata": {
        "id": "-EgPIHYu_Zcu"
      },
      "source": [
        "**Выводы**\n",
        "\n",
        "Данные показывают разницу поведения пользователей:\n",
        "\n",
        "- В Москве пик прослушиваний приходится на понедельник и пятницу, а в среду заметен спад.\n",
        "- В Петербурге, наоборот, больше слушают музыку по средам. Активность в понедельник и пятницу здесь почти в равной мере уступает среде.\n",
        "\n",
        "Значит, данные говорят в пользу первой гипотезы."
      ]
    },
    {
      "cell_type": "markdown",
      "metadata": {
        "id": "atZAxtq4_Zcu"
      },
      "source": [
        "### Музыка в начале и в конце недели"
      ]
    },
    {
      "cell_type": "markdown",
      "metadata": {
        "id": "eXrQqXFH_Zcu"
      },
      "source": [
        "Согласно второй гипотезе, утром в понедельник в Москве преобладают одни жанры, а в Петербурге — другие. Так же и вечером пятницы преобладают разные жанры — в зависимости от города."
      ]
    },
    {
      "cell_type": "markdown",
      "metadata": {
        "id": "S8UcW6Hw_Zcu"
      },
      "source": [
        "Сохраните таблицы с данными в две переменные:\n",
        "* по Москве — в `moscow_general`;\n",
        "* по Санкт-Петербургу — в `spb_general`."
      ]
    },
    {
      "cell_type": "code",
      "execution_count": null,
      "metadata": {
        "id": "qeaFfM_P_Zcu",
        "outputId": "403b88f3-313a-48b4-a10e-e7f103c9abcf"
      },
      "outputs": [
        {
          "data": {
            "text/html": [
              "<div>\n",
              "<style scoped>\n",
              "    .dataframe tbody tr th:only-of-type {\n",
              "        vertical-align: middle;\n",
              "    }\n",
              "\n",
              "    .dataframe tbody tr th {\n",
              "        vertical-align: top;\n",
              "    }\n",
              "\n",
              "    .dataframe thead th {\n",
              "        text-align: right;\n",
              "    }\n",
              "</style>\n",
              "<table border=\"1\" class=\"dataframe\">\n",
              "  <thead>\n",
              "    <tr style=\"text-align: right;\">\n",
              "      <th></th>\n",
              "      <th>user_id</th>\n",
              "      <th>track</th>\n",
              "      <th>artist</th>\n",
              "      <th>genre</th>\n",
              "      <th>city</th>\n",
              "      <th>time</th>\n",
              "      <th>day</th>\n",
              "    </tr>\n",
              "  </thead>\n",
              "  <tbody>\n",
              "    <tr>\n",
              "      <th>1</th>\n",
              "      <td>55204538</td>\n",
              "      <td>Delayed Because of Accident</td>\n",
              "      <td>Andreas Rönnberg</td>\n",
              "      <td>rock</td>\n",
              "      <td>Moscow</td>\n",
              "      <td>14:07:09</td>\n",
              "      <td>Friday</td>\n",
              "    </tr>\n",
              "    <tr>\n",
              "      <th>4</th>\n",
              "      <td>E2DC1FAE</td>\n",
              "      <td>Soul People</td>\n",
              "      <td>Space Echo</td>\n",
              "      <td>dance</td>\n",
              "      <td>Moscow</td>\n",
              "      <td>08:34:34</td>\n",
              "      <td>Monday</td>\n",
              "    </tr>\n",
              "    <tr>\n",
              "      <th>6</th>\n",
              "      <td>4CB90AA5</td>\n",
              "      <td>True</td>\n",
              "      <td>Roman Messer</td>\n",
              "      <td>dance</td>\n",
              "      <td>Moscow</td>\n",
              "      <td>13:00:07</td>\n",
              "      <td>Wednesday</td>\n",
              "    </tr>\n",
              "    <tr>\n",
              "      <th>7</th>\n",
              "      <td>F03E1C1F</td>\n",
              "      <td>Feeling This Way</td>\n",
              "      <td>Polina Griffith</td>\n",
              "      <td>dance</td>\n",
              "      <td>Moscow</td>\n",
              "      <td>20:47:49</td>\n",
              "      <td>Wednesday</td>\n",
              "    </tr>\n",
              "    <tr>\n",
              "      <th>8</th>\n",
              "      <td>8FA1D3BE</td>\n",
              "      <td>И вновь продолжается бой</td>\n",
              "      <td>unknown</td>\n",
              "      <td>ruspop</td>\n",
              "      <td>Moscow</td>\n",
              "      <td>09:17:40</td>\n",
              "      <td>Friday</td>\n",
              "    </tr>\n",
              "    <tr>\n",
              "      <th>...</th>\n",
              "      <td>...</td>\n",
              "      <td>...</td>\n",
              "      <td>...</td>\n",
              "      <td>...</td>\n",
              "      <td>...</td>\n",
              "      <td>...</td>\n",
              "      <td>...</td>\n",
              "    </tr>\n",
              "    <tr>\n",
              "      <th>61247</th>\n",
              "      <td>83A474E7</td>\n",
              "      <td>I Worship Only What You Bleed</td>\n",
              "      <td>The Black Dahlia Murder</td>\n",
              "      <td>extrememetal</td>\n",
              "      <td>Moscow</td>\n",
              "      <td>21:07:12</td>\n",
              "      <td>Monday</td>\n",
              "    </tr>\n",
              "    <tr>\n",
              "      <th>61248</th>\n",
              "      <td>729CBB09</td>\n",
              "      <td>My Name</td>\n",
              "      <td>McLean</td>\n",
              "      <td>rnb</td>\n",
              "      <td>Moscow</td>\n",
              "      <td>13:32:28</td>\n",
              "      <td>Wednesday</td>\n",
              "    </tr>\n",
              "    <tr>\n",
              "      <th>61250</th>\n",
              "      <td>C5E3A0D5</td>\n",
              "      <td>Jalopiina</td>\n",
              "      <td>unknown</td>\n",
              "      <td>industrial</td>\n",
              "      <td>Moscow</td>\n",
              "      <td>20:09:26</td>\n",
              "      <td>Friday</td>\n",
              "    </tr>\n",
              "    <tr>\n",
              "      <th>61251</th>\n",
              "      <td>321D0506</td>\n",
              "      <td>Freight Train</td>\n",
              "      <td>Chas McDevitt</td>\n",
              "      <td>rock</td>\n",
              "      <td>Moscow</td>\n",
              "      <td>21:43:59</td>\n",
              "      <td>Friday</td>\n",
              "    </tr>\n",
              "    <tr>\n",
              "      <th>61252</th>\n",
              "      <td>3A64EF84</td>\n",
              "      <td>Tell Me Sweet Little Lies</td>\n",
              "      <td>Monica Lopez</td>\n",
              "      <td>country</td>\n",
              "      <td>Moscow</td>\n",
              "      <td>21:59:46</td>\n",
              "      <td>Friday</td>\n",
              "    </tr>\n",
              "  </tbody>\n",
              "</table>\n",
              "<p>42741 rows × 7 columns</p>\n",
              "</div>"
            ],
            "text/plain": [
              "        user_id                          track                   artist  \\\n",
              "1      55204538    Delayed Because of Accident         Andreas Rönnberg   \n",
              "4      E2DC1FAE                    Soul People               Space Echo   \n",
              "6      4CB90AA5                           True             Roman Messer   \n",
              "7      F03E1C1F               Feeling This Way          Polina Griffith   \n",
              "8      8FA1D3BE       И вновь продолжается бой                  unknown   \n",
              "...         ...                            ...                      ...   \n",
              "61247  83A474E7  I Worship Only What You Bleed  The Black Dahlia Murder   \n",
              "61248  729CBB09                        My Name                   McLean   \n",
              "61250  C5E3A0D5                      Jalopiina                  unknown   \n",
              "61251  321D0506                  Freight Train            Chas McDevitt   \n",
              "61252  3A64EF84      Tell Me Sweet Little Lies             Monica Lopez   \n",
              "\n",
              "              genre    city      time        day  \n",
              "1              rock  Moscow  14:07:09     Friday  \n",
              "4             dance  Moscow  08:34:34     Monday  \n",
              "6             dance  Moscow  13:00:07  Wednesday  \n",
              "7             dance  Moscow  20:47:49  Wednesday  \n",
              "8            ruspop  Moscow  09:17:40     Friday  \n",
              "...             ...     ...       ...        ...  \n",
              "61247  extrememetal  Moscow  21:07:12     Monday  \n",
              "61248           rnb  Moscow  13:32:28  Wednesday  \n",
              "61250    industrial  Moscow  20:09:26     Friday  \n",
              "61251          rock  Moscow  21:43:59     Friday  \n",
              "61252       country  Moscow  21:59:46     Friday  \n",
              "\n",
              "[42741 rows x 7 columns]"
            ]
          },
          "metadata": {},
          "output_type": "display_data"
        }
      ],
      "source": [
        "# получение таблицы moscow_general из тех строк таблицы df, \n",
        "# для которых значение в столбце 'city' равно 'Moscow'\n",
        "\n",
        "moscow_general = df[df['city'] == 'Moscow']\n",
        "display(moscow_general)\n"
      ]
    },
    {
      "cell_type": "code",
      "execution_count": null,
      "metadata": {
        "id": "ORaVRKto_Zcu"
      },
      "outputs": [],
      "source": [
        "# получение таблицы spb_general из тех строк таблицы df,\n",
        "# для которых значение в столбце 'city' равно 'Saint-Petersburg'\n",
        "\n",
        "spb_general = df[df['city'] == 'Saint-Petersburg']\n"
      ]
    },
    {
      "cell_type": "markdown",
      "metadata": {
        "id": "MEJV-CX2_Zcu"
      },
      "source": [
        "Создайте функцию `genre_weekday()` с четырьмя параметрами:\n",
        "* таблица (датафрейм) с данными,\n",
        "* день недели,\n",
        "* начальная временная метка в формате 'hh:mm', \n",
        "* последняя временная метка в формате 'hh:mm'.\n",
        "\n",
        "Функция должна вернуть информацию о топ-10 жанров тех треков, которые прослушивали в указанный день, в промежутке между двумя отметками времени."
      ]
    },
    {
      "cell_type": "code",
      "execution_count": null,
      "metadata": {
        "id": "laJT9BYl_Zcu"
      },
      "outputs": [],
      "source": [
        "# Объявление функции genre_weekday() с параметрами table, day, time1, time2,\n",
        "# которая возвращает информацию о самых популярных жанрах в указанный день в\n",
        "# заданное время:\n",
        "# 1) в переменную genre_df сохраняются те строки переданного датафрейма table, для\n",
        "#    которых одновременно:\n",
        "#    - значение в столбце day равно значению аргумента day\n",
        "#    - значение в столбце time больше значения аргумента time1\n",
        "#    - значение в столбце time меньше значения аргумента time2\n",
        "#    Используйте последовательную фильтрацию с помощью логической индексации.\n",
        "# 2) сгруппировать датафрейм genre_df по столбцу genre, взять один из его\n",
        "#    столбцов и посчитать методом count() количество записей для каждого из\n",
        "#    присутствующих жанров, получившийся Series записать в переменную\n",
        "#    genre_df_count\n",
        "# 3) отсортировать genre_df_count по убыванию встречаемости и сохранить\n",
        "#    в переменную genre_df_sorted\n",
        "# 4) вернуть Series из 10 первых значений genre_df_sorted, это будут топ-10\n",
        "#    популярных жанров (в указанный день, в заданное время)"
      ]
    },
    {
      "cell_type": "code",
      "execution_count": null,
      "metadata": {
        "id": "rXVIjmUVhBns"
      },
      "outputs": [],
      "source": [
        "def genre_weekday(table, day, time1, time2):\n",
        "    genre_df = table[\n",
        "        (table['day'] == day) &\n",
        "        (table['time'] > time1) &\n",
        "        (table['time'] < time2)\n",
        "    ]\n",
        "    genre_df_count = genre_df.groupby('genre')['day'].count()\n",
        "    genre_df_sorted = genre_df_count.sort_values(ascending = False)\n",
        "    return genre_df_sorted.head(10)"
      ]
    },
    {
      "cell_type": "markdown",
      "metadata": {
        "id": "la2s2_PF_Zcu"
      },
      "source": [
        "Cравните результаты функции `genre_weekday()` для Москвы и Санкт-Петербурга в понедельник утром (с 7:00 до 11:00) и в пятницу вечером (с 17:00 до 23:00):"
      ]
    },
    {
      "cell_type": "code",
      "execution_count": null,
      "metadata": {
        "id": "yz7itPUQ_Zcu"
      },
      "outputs": [],
      "source": [
        "# вызов функции для утра понедельника в Москве (вместо df — таблица moscow_general)\n",
        "# объекты, хранящие время, являются строками и сравниваются как строки\n",
        "# пример вызова: genre_weekday(moscow_general, 'Monday', '07:00', '11:00')"
      ]
    },
    {
      "cell_type": "code",
      "execution_count": null,
      "metadata": {
        "id": "2dayEA_5hBnt",
        "outputId": "a20c9fd7-83df-4cd2-9fae-3767664c38e1"
      },
      "outputs": [
        {
          "data": {
            "text/plain": [
              "genre\n",
              "pop            781\n",
              "dance          549\n",
              "electronic     480\n",
              "rock           474\n",
              "hiphop         286\n",
              "ruspop         186\n",
              "world          181\n",
              "rusrap         175\n",
              "alternative    164\n",
              "unknown        161\n",
              "Name: day, dtype: int64"
            ]
          },
          "execution_count": 34,
          "metadata": {},
          "output_type": "execute_result"
        }
      ],
      "source": [
        "# вызов функции для утра понедельника в Москве (вместо df — таблица moscow_general)\n",
        "\n",
        "genre_weekday(moscow_general, 'Monday', '07:00', '11:00')"
      ]
    },
    {
      "cell_type": "code",
      "execution_count": null,
      "metadata": {
        "id": "kwUcHPdy_Zcu",
        "outputId": "f16ceb83-ac43-42df-e220-8c8033e61103"
      },
      "outputs": [
        {
          "data": {
            "text/plain": [
              "genre\n",
              "pop            218\n",
              "dance          182\n",
              "rock           162\n",
              "electronic     147\n",
              "hiphop          80\n",
              "ruspop          64\n",
              "alternative     58\n",
              "rusrap          55\n",
              "jazz            44\n",
              "classical       40\n",
              "Name: day, dtype: int64"
            ]
          },
          "execution_count": 35,
          "metadata": {},
          "output_type": "execute_result"
        }
      ],
      "source": [
        "# вызов функции для утра понедельника в Петербурге (вместо df — таблица spb_general)\n",
        "\n",
        "genre_weekday(spb_general, 'Monday', '07:00', '11:00')"
      ]
    },
    {
      "cell_type": "code",
      "execution_count": null,
      "metadata": {
        "id": "EzXVRE1o_Zcu",
        "outputId": "c9ce97de-e534-4118-ce93-ade2fa1c686c"
      },
      "outputs": [
        {
          "data": {
            "text/plain": [
              "genre\n",
              "pop            713\n",
              "rock           517\n",
              "dance          495\n",
              "electronic     482\n",
              "hiphop         273\n",
              "world          208\n",
              "ruspop         170\n",
              "alternative    163\n",
              "classical      163\n",
              "rusrap         142\n",
              "Name: day, dtype: int64"
            ]
          },
          "execution_count": 36,
          "metadata": {},
          "output_type": "execute_result"
        }
      ],
      "source": [
        "# вызов функции для вечера пятницы в Москве\n",
        "\n",
        "genre_weekday(moscow_general, 'Friday', '17:00', '23:00')"
      ]
    },
    {
      "cell_type": "code",
      "execution_count": null,
      "metadata": {
        "id": "JZaEKu5v_Zcu",
        "outputId": "328133c8-fc2c-4e8e-b8dc-74bd1c75442a"
      },
      "outputs": [
        {
          "data": {
            "text/plain": [
              "genre\n",
              "pop            256\n",
              "electronic     216\n",
              "rock           216\n",
              "dance          210\n",
              "hiphop          97\n",
              "alternative     63\n",
              "jazz            61\n",
              "classical       60\n",
              "rusrap          59\n",
              "world           54\n",
              "Name: day, dtype: int64"
            ]
          },
          "execution_count": 37,
          "metadata": {},
          "output_type": "execute_result"
        }
      ],
      "source": [
        "# вызов функции для вечера пятницы в Петербурге\n",
        "\n",
        "genre_weekday(spb_general, 'Friday', '17:00', '23:00')"
      ]
    },
    {
      "cell_type": "markdown",
      "metadata": {
        "id": "wrCe4MNX_Zcu"
      },
      "source": [
        "**Выводы**\n",
        "\n",
        "Если сравнить топ-10 жанров в понедельник утром, можно сделать такие выводы:\n",
        "\n",
        "1. В Москве и Петербурге слушают похожую музыку. Единственное отличие — в московский рейтинг вошёл жанр “world”, а в петербургский — джаз и классика.\n",
        "\n",
        "2. В Москве пропущенных значений оказалось так много, что значение `'unknown'` заняло десятое место среди самых популярных жанров. Значит, пропущенные значения занимают существенную долю в данных и угрожают достоверности исследования.\n",
        "\n",
        "Вечер пятницы не меняет эту картину. Некоторые жанры поднимаются немного выше, другие спускаются, но в целом топ-10 остаётся тем же самым.\n",
        "\n",
        "Таким образом, вторая гипотеза подтвердилась лишь частично:\n",
        "* Пользователи слушают похожую музыку в начале недели и в конце.\n",
        "* Разница между Москвой и Петербургом не слишком выражена. В Москве чаще слушают русскую популярную музыку, в Петербурге — джаз.\n",
        "\n",
        "Однако пропуски в данных ставят под сомнение этот результат. В Москве их так много, что рейтинг топ-10 мог бы выглядеть иначе, если бы не утерянные  данные о жанрах."
      ]
    },
    {
      "cell_type": "markdown",
      "metadata": {
        "id": "JolODAqr_Zcu"
      },
      "source": [
        "### Жанровые предпочтения в Москве и Петербурге\n",
        "\n",
        "Гипотеза: Петербург — столица рэпа, музыку этого жанра там слушают чаще, чем в Москве.  А Москва — город контрастов, в котором, тем не менее, преобладает поп-музыка."
      ]
    },
    {
      "cell_type": "markdown",
      "metadata": {
        "id": "DlegSvaT_Zcu"
      },
      "source": [
        "Сгруппируйте таблицу `moscow_general` по жанру и посчитайте прослушивания треков каждого жанра методом `count()`. Затем отсортируйте результат в порядке убывания и сохраните его в таблице `moscow_genres`."
      ]
    },
    {
      "cell_type": "code",
      "execution_count": null,
      "metadata": {
        "id": "r19lIPke_Zcu"
      },
      "outputs": [],
      "source": [
        "# одной строкой: группировка таблицы moscow_general по столбцу 'genre', \n",
        "# подсчёт числа значений 'genre' в этой группировке методом count(), \n",
        "# сортировка получившегося Series в порядке убывания и сохранение в moscow_genres\n",
        "\n",
        "moscow_genres = moscow_general.groupby('genre')['genre'].count().sort_values(ascending = False)"
      ]
    },
    {
      "cell_type": "markdown",
      "metadata": {
        "id": "6kMuomxTiIr8"
      },
      "source": [
        "Выведите на экран первые десять строк `moscow_genres`:"
      ]
    },
    {
      "cell_type": "code",
      "execution_count": null,
      "metadata": {
        "id": "WhCSooF8_Zcv",
        "outputId": "6a14a584-69ca-48f7-e4db-a52c70b78b8e"
      },
      "outputs": [
        {
          "data": {
            "text/plain": [
              "genre\n",
              "pop            5892\n",
              "dance          4435\n",
              "rock           3965\n",
              "electronic     3786\n",
              "hiphop         2096\n",
              "classical      1616\n",
              "world          1432\n",
              "alternative    1379\n",
              "ruspop         1372\n",
              "rusrap         1161\n",
              "Name: genre, dtype: int64"
            ]
          },
          "metadata": {},
          "output_type": "display_data"
        }
      ],
      "source": [
        "# просмотр первых 10 строк moscow_genres\n",
        "\n",
        "display(moscow_genres.head(10))"
      ]
    },
    {
      "cell_type": "markdown",
      "metadata": {
        "id": "cnPG2vnN_Zcv"
      },
      "source": [
        "Теперь повторите то же и для Петербурга.\n",
        "\n",
        "Сгруппируйте таблицу `spb_general` по жанру. Посчитайте прослушивания треков каждого жанра. Результат отсортируйте в порядке убывания и сохраните в таблице `spb_genres`:\n"
      ]
    },
    {
      "cell_type": "code",
      "execution_count": null,
      "metadata": {
        "id": "gluLIpE7_Zcv"
      },
      "outputs": [],
      "source": [
        "# одной строкой: группировка таблицы spb_general по столбцу 'genre', \n",
        "# подсчёт числа значений 'genre' в этой группировке методом count(), \n",
        "# сортировка получившегося Series в порядке убывания и сохранение в spb_genres\n",
        "\n",
        "spb_genres = spb_general.groupby('genre')['genre'].count().sort_values(ascending = False)"
      ]
    },
    {
      "cell_type": "markdown",
      "metadata": {
        "id": "5Doha_ODgyQ8"
      },
      "source": [
        "Выведите на экран первые десять строк `spb_genres`:"
      ]
    },
    {
      "cell_type": "code",
      "execution_count": null,
      "metadata": {
        "id": "uaGJHjVU_Zcv",
        "outputId": "db48ecfd-57b1-4259-953c-ba2cdd158f13"
      },
      "outputs": [
        {
          "data": {
            "text/plain": [
              "genre\n",
              "pop            2431\n",
              "dance          1932\n",
              "rock           1879\n",
              "electronic     1736\n",
              "hiphop          960\n",
              "alternative     649\n",
              "classical       646\n",
              "rusrap          564\n",
              "ruspop          538\n",
              "world           515\n",
              "Name: genre, dtype: int64"
            ]
          },
          "metadata": {},
          "output_type": "display_data"
        }
      ],
      "source": [
        "# просмотр первых 10 строк spb_genres\n",
        "\n",
        "display(spb_genres.head(10))"
      ]
    },
    {
      "cell_type": "markdown",
      "metadata": {
        "id": "RY51YJYu_Zcv"
      },
      "source": [
        "**Выводы**"
      ]
    },
    {
      "cell_type": "markdown",
      "metadata": {
        "id": "nVhnJEm__Zcv"
      },
      "source": [
        "Гипотеза частично подтвердилась:\n",
        "* Поп-музыка — самый популярный жанр в Москве, как и предполагала гипотеза. Более того, в топ-10 жанров встречается близкий жанр — русская популярная музыка.\n",
        "* Вопреки ожиданиям, рэп одинаково популярен в Москве и Петербурге. \n"
      ]
    },
    {
      "cell_type": "markdown",
      "metadata": {
        "id": "ykKQ0N65_Zcv"
      },
      "source": [
        "## Итоги исследования"
      ]
    },
    {
      "cell_type": "markdown",
      "metadata": {
        "id": "tjUwbHb3_Zcv"
      },
      "source": [
        "Вы проверили три гипотезы и установили:\n",
        "\n",
        "1. День недели по-разному влияет на активность пользователей в Москве и Петербурге. \n",
        "\n",
        "Первая гипотеза полностью подтвердилась.\n",
        "\n",
        "2. Музыкальные предпочтения не сильно меняются в течение недели — будь то Москва или Петербург. Небольшие различия заметны в начале недели, по понедельникам:\n",
        "* в Москве слушают музыку жанра “world”,\n",
        "* в Петербурге — джаз и классику.\n",
        "\n",
        "Таким образом, вторая гипотеза подтвердилась лишь отчасти. Этот результат мог оказаться иным, если бы не пропуски в данных.\n",
        "\n",
        "3. Во вкусах пользователей Москвы и Петербурга больше общего чем различий. Вопреки ожиданиям, предпочтения жанров в Петербурге напоминают московские.\n",
        "\n",
        "Третья гипотеза не подтвердилась. Если различия в предпочтениях и существуют, на основной массе пользователей они незаметны.\n",
        "\n",
        "**На практике исследования содержат проверки статистических гипотез.**\n",
        "Из данных одного сервиса не всегда можно сделать вывод о всех жителях города.\n",
        "Проверки статистических гипотез покажут, насколько они достоверны, исходя из имеющихся данных. \n",
        "С методами проверок гипотез вы ещё познакомитесь в следующих темах."
      ]
    }
  ],
  "metadata": {
    "ExecuteTimeLog": [
      {
        "duration": 84,
        "start_time": "2022-04-25T18:02:42.363Z"
      },
      {
        "duration": 692,
        "start_time": "2022-04-25T18:04:02.230Z"
      },
      {
        "duration": 108,
        "start_time": "2022-04-25T18:04:05.300Z"
      },
      {
        "duration": 42,
        "start_time": "2022-04-25T18:04:18.200Z"
      },
      {
        "duration": 82,
        "start_time": "2022-04-25T18:04:58.511Z"
      },
      {
        "duration": 10,
        "start_time": "2022-04-25T18:05:10.743Z"
      },
      {
        "duration": 103,
        "start_time": "2022-04-25T18:05:24.066Z"
      },
      {
        "duration": 10,
        "start_time": "2022-04-25T18:05:30.136Z"
      },
      {
        "duration": 259,
        "start_time": "2022-04-25T18:06:39.509Z"
      },
      {
        "duration": 13,
        "start_time": "2022-04-25T18:06:44.920Z"
      },
      {
        "duration": 78,
        "start_time": "2022-04-25T18:06:59.770Z"
      },
      {
        "duration": 14,
        "start_time": "2022-04-25T18:07:03.696Z"
      },
      {
        "duration": 230,
        "start_time": "2022-04-25T18:07:17.331Z"
      },
      {
        "duration": 66,
        "start_time": "2022-04-25T18:09:02.814Z"
      },
      {
        "duration": 12,
        "start_time": "2022-04-25T18:16:46.896Z"
      },
      {
        "duration": 7,
        "start_time": "2022-04-25T18:20:41.793Z"
      },
      {
        "duration": 16,
        "start_time": "2022-04-25T18:20:46.095Z"
      },
      {
        "duration": 6,
        "start_time": "2022-04-25T18:20:49.241Z"
      },
      {
        "duration": 16,
        "start_time": "2022-04-25T18:26:01.361Z"
      },
      {
        "duration": 6,
        "start_time": "2022-04-25T18:26:04.624Z"
      },
      {
        "duration": 15,
        "start_time": "2022-04-25T18:26:59.677Z"
      },
      {
        "duration": 35,
        "start_time": "2022-04-25T18:27:10.723Z"
      },
      {
        "duration": 53,
        "start_time": "2022-04-25T18:27:22.648Z"
      },
      {
        "duration": 73,
        "start_time": "2022-04-25T18:27:38.074Z"
      },
      {
        "duration": 34,
        "start_time": "2022-04-25T18:27:44.297Z"
      },
      {
        "duration": 1898,
        "start_time": "2022-04-25T18:33:35.846Z"
      },
      {
        "duration": 20,
        "start_time": "2022-04-25T18:35:10.450Z"
      },
      {
        "duration": 15,
        "start_time": "2022-04-25T18:38:39.331Z"
      },
      {
        "duration": 1721,
        "start_time": "2022-04-25T18:39:03.512Z"
      },
      {
        "duration": 38,
        "start_time": "2022-04-25T18:39:18.651Z"
      },
      {
        "duration": 27,
        "start_time": "2022-04-25T18:42:37.208Z"
      },
      {
        "duration": 228,
        "start_time": "2022-04-25T18:45:34.285Z"
      },
      {
        "duration": 1987,
        "start_time": "2022-04-25T18:45:43.230Z"
      },
      {
        "duration": 111,
        "start_time": "2022-04-25T18:50:07.014Z"
      },
      {
        "duration": 105,
        "start_time": "2022-04-25T18:50:15.596Z"
      },
      {
        "duration": 99,
        "start_time": "2022-04-25T18:52:31.876Z"
      },
      {
        "duration": 200,
        "start_time": "2022-04-25T18:52:42.570Z"
      },
      {
        "duration": 101,
        "start_time": "2022-04-25T18:52:52.581Z"
      },
      {
        "duration": 107,
        "start_time": "2022-04-25T18:53:41.814Z"
      },
      {
        "duration": 109,
        "start_time": "2022-04-25T18:53:54.359Z"
      },
      {
        "duration": 16,
        "start_time": "2022-04-25T18:56:33.434Z"
      },
      {
        "duration": 102,
        "start_time": "2022-04-25T18:59:11.950Z"
      },
      {
        "duration": 36,
        "start_time": "2022-04-25T19:00:55.873Z"
      },
      {
        "duration": 1730,
        "start_time": "2022-04-25T19:01:25.361Z"
      },
      {
        "duration": 2102,
        "start_time": "2022-04-25T19:01:45.938Z"
      },
      {
        "duration": 110,
        "start_time": "2022-04-25T19:03:02.107Z"
      },
      {
        "duration": 120,
        "start_time": "2022-04-25T19:03:15.152Z"
      },
      {
        "duration": 97,
        "start_time": "2022-04-25T19:03:35.496Z"
      },
      {
        "duration": 1806,
        "start_time": "2022-04-25T19:04:00.635Z"
      },
      {
        "duration": 26,
        "start_time": "2022-04-25T19:04:11.722Z"
      },
      {
        "duration": 1791,
        "start_time": "2022-04-25T19:07:54.744Z"
      },
      {
        "duration": 1839,
        "start_time": "2022-04-25T19:08:08.576Z"
      },
      {
        "duration": 31,
        "start_time": "2022-04-25T19:10:30.372Z"
      },
      {
        "duration": 2752,
        "start_time": "2022-04-25T19:11:09.435Z"
      },
      {
        "duration": 23,
        "start_time": "2022-04-25T19:11:21.325Z"
      },
      {
        "duration": 33,
        "start_time": "2022-04-25T19:11:52.930Z"
      },
      {
        "duration": 102,
        "start_time": "2022-04-25T19:14:17.275Z"
      },
      {
        "duration": 109,
        "start_time": "2022-04-25T19:14:58.850Z"
      },
      {
        "duration": 144,
        "start_time": "2022-04-25T19:15:31.327Z"
      },
      {
        "duration": 119,
        "start_time": "2022-04-25T19:16:59.200Z"
      },
      {
        "duration": 94,
        "start_time": "2022-04-25T19:17:13.631Z"
      },
      {
        "duration": 95,
        "start_time": "2022-04-25T19:17:21.917Z"
      },
      {
        "duration": 85,
        "start_time": "2022-04-25T19:17:29.295Z"
      },
      {
        "duration": 106,
        "start_time": "2022-04-25T19:17:34.363Z"
      },
      {
        "duration": 95,
        "start_time": "2022-04-25T19:17:43.998Z"
      },
      {
        "duration": 45,
        "start_time": "2022-04-26T08:04:07.580Z"
      },
      {
        "duration": 7,
        "start_time": "2022-04-26T08:04:16.882Z"
      },
      {
        "duration": 395,
        "start_time": "2022-04-26T08:04:36.823Z"
      },
      {
        "duration": 148,
        "start_time": "2022-04-26T08:04:37.223Z"
      },
      {
        "duration": 17,
        "start_time": "2022-04-26T08:04:37.373Z"
      },
      {
        "duration": 36,
        "start_time": "2022-04-26T08:04:37.392Z"
      },
      {
        "duration": 3,
        "start_time": "2022-04-26T08:04:37.430Z"
      },
      {
        "duration": 15,
        "start_time": "2022-04-26T08:04:37.435Z"
      },
      {
        "duration": 7,
        "start_time": "2022-04-26T08:04:37.451Z"
      },
      {
        "duration": 25,
        "start_time": "2022-04-26T08:04:37.460Z"
      },
      {
        "duration": 43,
        "start_time": "2022-04-26T08:04:37.487Z"
      },
      {
        "duration": 22,
        "start_time": "2022-04-26T08:04:37.533Z"
      },
      {
        "duration": 77,
        "start_time": "2022-04-26T08:04:37.556Z"
      },
      {
        "duration": 74,
        "start_time": "2022-04-26T08:04:37.635Z"
      },
      {
        "duration": 66,
        "start_time": "2022-04-26T08:04:37.711Z"
      },
      {
        "duration": 2,
        "start_time": "2022-04-26T08:04:37.780Z"
      },
      {
        "duration": 5,
        "start_time": "2022-04-26T08:04:37.784Z"
      },
      {
        "duration": 6,
        "start_time": "2022-04-26T08:04:37.791Z"
      },
      {
        "duration": 26,
        "start_time": "2022-04-26T08:04:37.798Z"
      },
      {
        "duration": 2,
        "start_time": "2022-04-26T08:04:37.826Z"
      },
      {
        "duration": 5,
        "start_time": "2022-04-26T08:04:37.830Z"
      },
      {
        "duration": 7,
        "start_time": "2022-04-26T08:04:37.837Z"
      },
      {
        "duration": 5,
        "start_time": "2022-04-26T08:04:37.846Z"
      },
      {
        "duration": 4,
        "start_time": "2022-04-26T08:04:37.853Z"
      },
      {
        "duration": 9,
        "start_time": "2022-04-26T08:04:37.858Z"
      },
      {
        "duration": 10,
        "start_time": "2022-04-26T08:04:37.868Z"
      },
      {
        "duration": 8,
        "start_time": "2022-04-26T08:04:37.879Z"
      },
      {
        "duration": 8,
        "start_time": "2022-04-26T08:04:37.888Z"
      },
      {
        "duration": 5,
        "start_time": "2022-04-26T08:04:37.897Z"
      },
      {
        "duration": 2,
        "start_time": "2022-04-26T08:04:37.906Z"
      },
      {
        "duration": 4,
        "start_time": "2022-04-26T08:04:37.910Z"
      },
      {
        "duration": 7,
        "start_time": "2022-04-26T08:04:37.924Z"
      },
      {
        "duration": 7,
        "start_time": "2022-04-26T08:04:37.933Z"
      },
      {
        "duration": 6,
        "start_time": "2022-04-26T08:04:37.941Z"
      },
      {
        "duration": 6,
        "start_time": "2022-04-26T08:04:37.948Z"
      },
      {
        "duration": 4,
        "start_time": "2022-04-26T08:04:37.956Z"
      },
      {
        "duration": 5,
        "start_time": "2022-04-26T08:04:37.962Z"
      },
      {
        "duration": 6,
        "start_time": "2022-04-26T08:04:37.969Z"
      },
      {
        "duration": 8,
        "start_time": "2022-04-26T08:04:37.976Z"
      },
      {
        "duration": 6,
        "start_time": "2022-04-26T08:04:37.985Z"
      },
      {
        "duration": 53,
        "start_time": "2022-04-26T08:04:46.440Z"
      },
      {
        "duration": 6,
        "start_time": "2022-04-26T08:05:46.864Z"
      },
      {
        "duration": 4,
        "start_time": "2022-04-26T08:06:07.666Z"
      },
      {
        "duration": 5,
        "start_time": "2022-04-26T08:06:17.836Z"
      },
      {
        "duration": 28,
        "start_time": "2022-04-26T08:07:49.388Z"
      },
      {
        "duration": 9,
        "start_time": "2022-04-26T08:08:08.346Z"
      },
      {
        "duration": 6,
        "start_time": "2022-04-26T08:08:21.837Z"
      },
      {
        "duration": 8,
        "start_time": "2022-04-26T08:08:27.071Z"
      },
      {
        "duration": 7,
        "start_time": "2022-04-26T08:09:00.570Z"
      },
      {
        "duration": 7,
        "start_time": "2022-04-26T08:09:16.030Z"
      },
      {
        "duration": 10,
        "start_time": "2022-04-26T08:16:34.331Z"
      },
      {
        "duration": 7,
        "start_time": "2022-04-26T08:17:49.113Z"
      },
      {
        "duration": 7,
        "start_time": "2022-04-26T08:18:00.213Z"
      },
      {
        "duration": 6,
        "start_time": "2022-04-26T08:18:05.389Z"
      },
      {
        "duration": 9,
        "start_time": "2022-04-26T08:18:18.867Z"
      },
      {
        "duration": 10,
        "start_time": "2022-04-26T08:19:37.163Z"
      },
      {
        "duration": 11,
        "start_time": "2022-04-26T08:19:45.292Z"
      },
      {
        "duration": 11,
        "start_time": "2022-04-26T08:20:03.765Z"
      },
      {
        "duration": 12,
        "start_time": "2022-04-26T08:20:13.019Z"
      },
      {
        "duration": 7,
        "start_time": "2022-04-26T09:00:11.530Z"
      },
      {
        "duration": 11,
        "start_time": "2022-04-26T09:07:52.951Z"
      },
      {
        "duration": 143,
        "start_time": "2022-04-26T09:08:17.497Z"
      },
      {
        "duration": 7,
        "start_time": "2022-04-26T09:10:41.573Z"
      },
      {
        "duration": 9,
        "start_time": "2022-04-26T09:11:08.455Z"
      },
      {
        "duration": 13,
        "start_time": "2022-04-26T09:11:21.780Z"
      },
      {
        "duration": 11,
        "start_time": "2022-04-26T09:16:42.224Z"
      },
      {
        "duration": 42,
        "start_time": "2022-04-26T09:16:53.392Z"
      },
      {
        "duration": 14,
        "start_time": "2022-04-26T09:20:40.344Z"
      },
      {
        "duration": 15,
        "start_time": "2022-04-26T09:20:45.994Z"
      },
      {
        "duration": 13,
        "start_time": "2022-04-26T09:20:52.886Z"
      },
      {
        "duration": 7,
        "start_time": "2022-04-26T09:21:03.299Z"
      },
      {
        "duration": 139,
        "start_time": "2022-04-26T09:23:39.619Z"
      },
      {
        "duration": 11,
        "start_time": "2022-04-26T09:23:45.505Z"
      },
      {
        "duration": 15,
        "start_time": "2022-04-26T09:27:33.725Z"
      },
      {
        "duration": 10,
        "start_time": "2022-04-26T09:28:11.573Z"
      },
      {
        "duration": 11,
        "start_time": "2022-04-26T09:29:53.749Z"
      },
      {
        "duration": 14,
        "start_time": "2022-04-26T09:30:03.024Z"
      },
      {
        "duration": 7,
        "start_time": "2022-04-26T09:30:13.436Z"
      },
      {
        "duration": 10,
        "start_time": "2022-04-26T09:30:20.492Z"
      },
      {
        "duration": 9,
        "start_time": "2022-04-26T09:30:39.965Z"
      },
      {
        "duration": 11,
        "start_time": "2022-04-26T09:32:02.156Z"
      },
      {
        "duration": 11,
        "start_time": "2022-04-26T09:33:05.878Z"
      },
      {
        "duration": 2,
        "start_time": "2022-04-26T09:33:27.753Z"
      },
      {
        "duration": 156,
        "start_time": "2022-04-26T09:33:29.099Z"
      },
      {
        "duration": 11,
        "start_time": "2022-04-26T09:33:30.737Z"
      },
      {
        "duration": 25,
        "start_time": "2022-04-26T09:33:36.478Z"
      },
      {
        "duration": 4,
        "start_time": "2022-04-26T09:33:42.196Z"
      },
      {
        "duration": 9,
        "start_time": "2022-04-26T09:33:46.315Z"
      },
      {
        "duration": 5,
        "start_time": "2022-04-26T09:33:48.737Z"
      },
      {
        "duration": 22,
        "start_time": "2022-04-26T09:33:56.071Z"
      },
      {
        "duration": 18,
        "start_time": "2022-04-26T09:33:59.957Z"
      },
      {
        "duration": 26,
        "start_time": "2022-04-26T09:34:01.900Z"
      },
      {
        "duration": 71,
        "start_time": "2022-04-26T09:34:04.593Z"
      },
      {
        "duration": 74,
        "start_time": "2022-04-26T09:34:07.120Z"
      },
      {
        "duration": 84,
        "start_time": "2022-04-26T09:34:08.984Z"
      },
      {
        "duration": 10,
        "start_time": "2022-04-26T09:34:12.678Z"
      },
      {
        "duration": 10,
        "start_time": "2022-04-26T09:34:21.570Z"
      },
      {
        "duration": 37,
        "start_time": "2022-04-26T09:40:08.884Z"
      },
      {
        "duration": 36,
        "start_time": "2022-04-26T09:45:31.045Z"
      },
      {
        "duration": 36,
        "start_time": "2022-04-26T09:45:42.661Z"
      },
      {
        "duration": 5,
        "start_time": "2022-04-26T10:06:07.593Z"
      },
      {
        "duration": 151,
        "start_time": "2022-04-26T10:07:00.994Z"
      },
      {
        "duration": 4,
        "start_time": "2022-04-26T10:07:11.017Z"
      },
      {
        "duration": 3,
        "start_time": "2022-04-26T10:13:09.876Z"
      },
      {
        "duration": 35,
        "start_time": "2022-04-26T10:13:43.978Z"
      },
      {
        "duration": 3,
        "start_time": "2022-04-26T10:15:38.715Z"
      },
      {
        "duration": 3,
        "start_time": "2022-04-26T10:22:17.420Z"
      },
      {
        "duration": 3,
        "start_time": "2022-04-26T10:22:18.705Z"
      },
      {
        "duration": 3,
        "start_time": "2022-04-26T10:22:21.730Z"
      },
      {
        "duration": 135,
        "start_time": "2022-04-26T10:22:25.408Z"
      },
      {
        "duration": 129,
        "start_time": "2022-04-26T10:22:38.414Z"
      },
      {
        "duration": 4,
        "start_time": "2022-04-26T10:22:56.001Z"
      },
      {
        "duration": 36,
        "start_time": "2022-04-26T10:23:33.809Z"
      },
      {
        "duration": 4,
        "start_time": "2022-04-26T10:23:51.042Z"
      },
      {
        "duration": 36,
        "start_time": "2022-04-26T10:23:56.138Z"
      },
      {
        "duration": 4,
        "start_time": "2022-04-26T10:25:02.406Z"
      },
      {
        "duration": 36,
        "start_time": "2022-04-26T10:25:05.469Z"
      },
      {
        "duration": 12,
        "start_time": "2022-04-26T10:25:18.336Z"
      },
      {
        "duration": 3,
        "start_time": "2022-04-26T10:25:42.169Z"
      },
      {
        "duration": 11,
        "start_time": "2022-04-26T10:25:44.826Z"
      },
      {
        "duration": 4,
        "start_time": "2022-04-26T10:25:49.135Z"
      },
      {
        "duration": 36,
        "start_time": "2022-04-26T10:25:51.719Z"
      },
      {
        "duration": 3,
        "start_time": "2022-04-26T10:29:37.400Z"
      },
      {
        "duration": 3,
        "start_time": "2022-04-26T10:29:43.685Z"
      },
      {
        "duration": 36,
        "start_time": "2022-04-26T10:29:47.076Z"
      },
      {
        "duration": 2,
        "start_time": "2022-04-26T10:32:58.528Z"
      },
      {
        "duration": 34,
        "start_time": "2022-04-26T10:33:01.476Z"
      },
      {
        "duration": 2,
        "start_time": "2022-04-26T10:35:23.726Z"
      },
      {
        "duration": 36,
        "start_time": "2022-04-26T10:35:28.807Z"
      },
      {
        "duration": 10,
        "start_time": "2022-04-26T10:38:26.791Z"
      },
      {
        "duration": 34,
        "start_time": "2022-04-26T10:38:29.597Z"
      },
      {
        "duration": 11,
        "start_time": "2022-04-26T11:10:26.326Z"
      },
      {
        "duration": 6,
        "start_time": "2022-04-26T11:10:28.475Z"
      },
      {
        "duration": 3,
        "start_time": "2022-04-26T11:17:13.472Z"
      },
      {
        "duration": 14,
        "start_time": "2022-04-26T11:17:17.139Z"
      },
      {
        "duration": 7,
        "start_time": "2022-04-26T11:17:33.012Z"
      },
      {
        "duration": 36,
        "start_time": "2022-04-26T11:17:45.180Z"
      },
      {
        "duration": 12,
        "start_time": "2022-04-26T11:18:27.607Z"
      },
      {
        "duration": 38,
        "start_time": "2022-04-26T11:18:32.831Z"
      },
      {
        "duration": 2,
        "start_time": "2022-04-26T11:19:05.362Z"
      },
      {
        "duration": 9,
        "start_time": "2022-04-26T11:19:11.560Z"
      },
      {
        "duration": 39,
        "start_time": "2022-04-26T11:19:19.789Z"
      },
      {
        "duration": 3,
        "start_time": "2022-04-26T11:19:32.056Z"
      },
      {
        "duration": 3,
        "start_time": "2022-04-26T11:20:58.365Z"
      },
      {
        "duration": 15,
        "start_time": "2022-04-26T11:21:01.759Z"
      },
      {
        "duration": 59,
        "start_time": "2022-04-26T11:21:08.270Z"
      },
      {
        "duration": 3,
        "start_time": "2022-04-26T11:26:00.296Z"
      },
      {
        "duration": 9,
        "start_time": "2022-04-26T11:26:05.627Z"
      },
      {
        "duration": 33,
        "start_time": "2022-04-26T11:26:08.490Z"
      },
      {
        "duration": 131,
        "start_time": "2022-04-26T11:26:22.903Z"
      },
      {
        "duration": 124,
        "start_time": "2022-04-26T11:26:56.731Z"
      },
      {
        "duration": 15,
        "start_time": "2022-04-26T11:27:19.966Z"
      },
      {
        "duration": 59,
        "start_time": "2022-04-26T11:27:22.679Z"
      },
      {
        "duration": 15,
        "start_time": "2022-04-26T11:27:53.638Z"
      },
      {
        "duration": 12,
        "start_time": "2022-04-26T11:28:09.972Z"
      },
      {
        "duration": 57,
        "start_time": "2022-04-26T11:28:13.087Z"
      },
      {
        "duration": 2,
        "start_time": "2022-04-26T11:44:40.005Z"
      },
      {
        "duration": 133,
        "start_time": "2022-04-26T11:44:40.010Z"
      },
      {
        "duration": 11,
        "start_time": "2022-04-26T11:44:40.145Z"
      },
      {
        "duration": 30,
        "start_time": "2022-04-26T11:44:40.157Z"
      },
      {
        "duration": 4,
        "start_time": "2022-04-26T11:44:40.189Z"
      },
      {
        "duration": 32,
        "start_time": "2022-04-26T11:44:40.194Z"
      },
      {
        "duration": 4,
        "start_time": "2022-04-26T11:44:40.227Z"
      },
      {
        "duration": 25,
        "start_time": "2022-04-26T11:44:40.233Z"
      },
      {
        "duration": 18,
        "start_time": "2022-04-26T11:44:40.260Z"
      },
      {
        "duration": 45,
        "start_time": "2022-04-26T11:44:40.280Z"
      },
      {
        "duration": 156,
        "start_time": "2022-04-26T11:44:40.327Z"
      },
      {
        "duration": 0,
        "start_time": "2022-04-26T11:44:40.485Z"
      },
      {
        "duration": 0,
        "start_time": "2022-04-26T11:44:40.486Z"
      },
      {
        "duration": 0,
        "start_time": "2022-04-26T11:44:40.488Z"
      },
      {
        "duration": 0,
        "start_time": "2022-04-26T11:44:40.489Z"
      },
      {
        "duration": 0,
        "start_time": "2022-04-26T11:44:40.490Z"
      },
      {
        "duration": 0,
        "start_time": "2022-04-26T11:44:40.491Z"
      },
      {
        "duration": 0,
        "start_time": "2022-04-26T11:44:40.492Z"
      },
      {
        "duration": 0,
        "start_time": "2022-04-26T11:44:40.493Z"
      },
      {
        "duration": 0,
        "start_time": "2022-04-26T11:44:40.493Z"
      },
      {
        "duration": 0,
        "start_time": "2022-04-26T11:44:40.495Z"
      },
      {
        "duration": 0,
        "start_time": "2022-04-26T11:44:40.496Z"
      },
      {
        "duration": 0,
        "start_time": "2022-04-26T11:44:40.497Z"
      },
      {
        "duration": 0,
        "start_time": "2022-04-26T11:44:40.498Z"
      },
      {
        "duration": 0,
        "start_time": "2022-04-26T11:44:40.499Z"
      },
      {
        "duration": 0,
        "start_time": "2022-04-26T11:44:40.500Z"
      },
      {
        "duration": 0,
        "start_time": "2022-04-26T11:44:40.501Z"
      },
      {
        "duration": 0,
        "start_time": "2022-04-26T11:44:40.502Z"
      },
      {
        "duration": 0,
        "start_time": "2022-04-26T11:44:40.503Z"
      },
      {
        "duration": 0,
        "start_time": "2022-04-26T11:44:40.504Z"
      },
      {
        "duration": 0,
        "start_time": "2022-04-26T11:44:40.505Z"
      },
      {
        "duration": 0,
        "start_time": "2022-04-26T11:44:40.506Z"
      },
      {
        "duration": 0,
        "start_time": "2022-04-26T11:44:40.506Z"
      },
      {
        "duration": 0,
        "start_time": "2022-04-26T11:44:40.507Z"
      },
      {
        "duration": 0,
        "start_time": "2022-04-26T11:44:40.508Z"
      },
      {
        "duration": 0,
        "start_time": "2022-04-26T11:44:40.509Z"
      },
      {
        "duration": 0,
        "start_time": "2022-04-26T11:44:40.511Z"
      },
      {
        "duration": 0,
        "start_time": "2022-04-26T11:44:40.511Z"
      },
      {
        "duration": 0,
        "start_time": "2022-04-26T11:44:40.513Z"
      },
      {
        "duration": 59,
        "start_time": "2022-04-26T11:44:50.037Z"
      },
      {
        "duration": 66,
        "start_time": "2022-04-26T11:45:16.556Z"
      },
      {
        "duration": 143,
        "start_time": "2022-04-27T03:38:43.557Z"
      },
      {
        "duration": 453,
        "start_time": "2022-04-27T03:39:08.095Z"
      },
      {
        "duration": 150,
        "start_time": "2022-04-27T03:39:11.512Z"
      },
      {
        "duration": 154,
        "start_time": "2022-04-27T03:39:13.401Z"
      },
      {
        "duration": 15,
        "start_time": "2022-04-27T03:39:17.254Z"
      },
      {
        "duration": 30,
        "start_time": "2022-04-27T03:39:20.695Z"
      },
      {
        "duration": 4,
        "start_time": "2022-04-27T03:39:26.255Z"
      },
      {
        "duration": 13,
        "start_time": "2022-04-27T03:39:30.750Z"
      },
      {
        "duration": 4,
        "start_time": "2022-04-27T03:39:34.770Z"
      },
      {
        "duration": 22,
        "start_time": "2022-04-27T03:39:37.399Z"
      },
      {
        "duration": 17,
        "start_time": "2022-04-27T03:39:41.123Z"
      },
      {
        "duration": 23,
        "start_time": "2022-04-27T03:39:44.237Z"
      },
      {
        "duration": 61,
        "start_time": "2022-04-27T03:39:46.795Z"
      },
      {
        "duration": 75,
        "start_time": "2022-04-27T03:39:49.132Z"
      },
      {
        "duration": 56,
        "start_time": "2022-04-27T03:39:52.893Z"
      },
      {
        "duration": 36,
        "start_time": "2022-04-27T03:40:03.424Z"
      },
      {
        "duration": 138,
        "start_time": "2022-04-27T03:40:21.736Z"
      },
      {
        "duration": 4,
        "start_time": "2022-04-27T03:40:33.060Z"
      },
      {
        "duration": 64,
        "start_time": "2022-04-27T03:40:38.186Z"
      },
      {
        "duration": 23,
        "start_time": "2022-04-27T03:40:51.639Z"
      },
      {
        "duration": 33,
        "start_time": "2022-04-27T03:40:57.746Z"
      },
      {
        "duration": 138,
        "start_time": "2022-04-27T03:50:46.226Z"
      },
      {
        "duration": 13,
        "start_time": "2022-04-27T03:51:32.839Z"
      },
      {
        "duration": 135,
        "start_time": "2022-04-27T03:53:15.814Z"
      },
      {
        "duration": 52,
        "start_time": "2022-04-27T03:53:45.154Z"
      },
      {
        "duration": 7,
        "start_time": "2022-04-27T04:08:09.737Z"
      },
      {
        "duration": 12,
        "start_time": "2022-04-27T04:08:15.429Z"
      },
      {
        "duration": 2096,
        "start_time": "2022-04-27T04:09:50.341Z"
      },
      {
        "duration": 12,
        "start_time": "2022-04-27T04:10:16.818Z"
      },
      {
        "duration": 11,
        "start_time": "2022-04-27T04:10:31.923Z"
      },
      {
        "duration": 8,
        "start_time": "2022-04-27T04:11:56.546Z"
      },
      {
        "duration": 9,
        "start_time": "2022-04-27T04:19:02.304Z"
      },
      {
        "duration": 10,
        "start_time": "2022-04-27T04:19:25.197Z"
      },
      {
        "duration": 11,
        "start_time": "2022-04-27T04:19:45.972Z"
      },
      {
        "duration": 9,
        "start_time": "2022-04-27T04:23:59.489Z"
      },
      {
        "duration": 10,
        "start_time": "2022-04-27T04:25:10.303Z"
      },
      {
        "duration": 125,
        "start_time": "2022-04-27T04:32:48.312Z"
      },
      {
        "duration": 17,
        "start_time": "2022-04-27T04:32:52.508Z"
      },
      {
        "duration": 29,
        "start_time": "2022-04-27T04:33:11.441Z"
      },
      {
        "duration": 43,
        "start_time": "2022-04-27T04:34:24.706Z"
      },
      {
        "duration": 48,
        "start_time": "2022-04-27T04:36:37.354Z"
      },
      {
        "duration": 36,
        "start_time": "2022-04-27T04:36:49.161Z"
      },
      {
        "duration": 1338,
        "start_time": "2022-04-27T04:43:16.556Z"
      },
      {
        "duration": 50,
        "start_time": "2022-04-27T04:45:29.291Z"
      },
      {
        "duration": 43,
        "start_time": "2022-04-27T04:45:43.405Z"
      },
      {
        "duration": 23,
        "start_time": "2022-04-27T04:50:21.667Z"
      },
      {
        "duration": 13,
        "start_time": "2022-04-27T04:51:19.628Z"
      },
      {
        "duration": 2030,
        "start_time": "2022-04-27T04:54:25.905Z"
      },
      {
        "duration": 1943,
        "start_time": "2022-04-27T04:54:47.438Z"
      },
      {
        "duration": 2106,
        "start_time": "2022-04-27T05:10:27.284Z"
      },
      {
        "duration": 4,
        "start_time": "2022-04-27T05:14:33.714Z"
      },
      {
        "duration": 3,
        "start_time": "2022-04-27T05:17:07.644Z"
      },
      {
        "duration": 2126,
        "start_time": "2022-04-27T05:23:31.409Z"
      },
      {
        "duration": 2121,
        "start_time": "2022-04-27T05:23:48.689Z"
      },
      {
        "duration": 2337,
        "start_time": "2022-04-27T05:25:02.454Z"
      },
      {
        "duration": 24,
        "start_time": "2022-04-27T05:25:11.433Z"
      },
      {
        "duration": 2130,
        "start_time": "2022-04-27T05:25:14.010Z"
      },
      {
        "duration": 8,
        "start_time": "2022-04-27T05:25:32.144Z"
      },
      {
        "duration": 4,
        "start_time": "2022-04-27T05:26:07.163Z"
      },
      {
        "duration": 15,
        "start_time": "2022-04-27T05:26:31.709Z"
      },
      {
        "duration": 2220,
        "start_time": "2022-04-27T05:27:02.347Z"
      },
      {
        "duration": 2011,
        "start_time": "2022-04-27T05:27:10.101Z"
      },
      {
        "duration": 23,
        "start_time": "2022-04-27T05:27:25.710Z"
      },
      {
        "duration": 22,
        "start_time": "2022-04-27T05:28:54.070Z"
      },
      {
        "duration": 156,
        "start_time": "2022-04-27T05:29:40.987Z"
      },
      {
        "duration": 134,
        "start_time": "2022-04-27T05:30:43.234Z"
      },
      {
        "duration": 34,
        "start_time": "2022-04-27T05:31:13.815Z"
      },
      {
        "duration": 22,
        "start_time": "2022-04-27T05:31:41.386Z"
      },
      {
        "duration": 1609,
        "start_time": "2022-04-27T05:32:37.008Z"
      },
      {
        "duration": 5,
        "start_time": "2022-04-27T05:33:04.202Z"
      },
      {
        "duration": 4,
        "start_time": "2022-04-27T05:33:21.687Z"
      },
      {
        "duration": 25,
        "start_time": "2022-04-27T05:34:16.971Z"
      },
      {
        "duration": 66,
        "start_time": "2022-04-27T13:39:23.276Z"
      },
      {
        "duration": 7,
        "start_time": "2022-04-27T13:39:51.436Z"
      },
      {
        "duration": 7,
        "start_time": "2022-04-27T13:41:29.567Z"
      },
      {
        "duration": 7,
        "start_time": "2022-04-27T13:41:47.170Z"
      },
      {
        "duration": 455,
        "start_time": "2022-04-27T13:42:03.858Z"
      },
      {
        "duration": 170,
        "start_time": "2022-04-27T13:42:04.315Z"
      },
      {
        "duration": 30,
        "start_time": "2022-04-27T13:42:04.486Z"
      },
      {
        "duration": 74,
        "start_time": "2022-04-27T13:42:04.519Z"
      },
      {
        "duration": 6,
        "start_time": "2022-04-27T13:42:04.596Z"
      },
      {
        "duration": 21,
        "start_time": "2022-04-27T13:42:04.603Z"
      },
      {
        "duration": 8,
        "start_time": "2022-04-27T13:42:04.626Z"
      },
      {
        "duration": 33,
        "start_time": "2022-04-27T13:42:04.636Z"
      },
      {
        "duration": 38,
        "start_time": "2022-04-27T13:42:04.671Z"
      },
      {
        "duration": 27,
        "start_time": "2022-04-27T13:42:04.711Z"
      },
      {
        "duration": 138,
        "start_time": "2022-04-27T13:42:04.740Z"
      },
      {
        "duration": 0,
        "start_time": "2022-04-27T13:42:04.882Z"
      },
      {
        "duration": 0,
        "start_time": "2022-04-27T13:42:04.883Z"
      },
      {
        "duration": 0,
        "start_time": "2022-04-27T13:42:04.884Z"
      },
      {
        "duration": 0,
        "start_time": "2022-04-27T13:42:04.886Z"
      },
      {
        "duration": 0,
        "start_time": "2022-04-27T13:42:04.887Z"
      },
      {
        "duration": 0,
        "start_time": "2022-04-27T13:42:04.888Z"
      },
      {
        "duration": 0,
        "start_time": "2022-04-27T13:42:04.889Z"
      },
      {
        "duration": 0,
        "start_time": "2022-04-27T13:42:04.890Z"
      },
      {
        "duration": 0,
        "start_time": "2022-04-27T13:42:04.892Z"
      },
      {
        "duration": 0,
        "start_time": "2022-04-27T13:42:04.893Z"
      },
      {
        "duration": 0,
        "start_time": "2022-04-27T13:42:04.895Z"
      },
      {
        "duration": 0,
        "start_time": "2022-04-27T13:42:04.896Z"
      },
      {
        "duration": 0,
        "start_time": "2022-04-27T13:42:04.897Z"
      },
      {
        "duration": 0,
        "start_time": "2022-04-27T13:42:04.898Z"
      },
      {
        "duration": 0,
        "start_time": "2022-04-27T13:42:04.899Z"
      },
      {
        "duration": 0,
        "start_time": "2022-04-27T13:42:04.900Z"
      },
      {
        "duration": 0,
        "start_time": "2022-04-27T13:42:04.901Z"
      },
      {
        "duration": 0,
        "start_time": "2022-04-27T13:42:04.902Z"
      },
      {
        "duration": 0,
        "start_time": "2022-04-27T13:42:04.903Z"
      },
      {
        "duration": 0,
        "start_time": "2022-04-27T13:42:04.904Z"
      },
      {
        "duration": 0,
        "start_time": "2022-04-27T13:42:04.905Z"
      },
      {
        "duration": 0,
        "start_time": "2022-04-27T13:42:04.906Z"
      },
      {
        "duration": 0,
        "start_time": "2022-04-27T13:42:04.908Z"
      },
      {
        "duration": 0,
        "start_time": "2022-04-27T13:42:04.909Z"
      },
      {
        "duration": 0,
        "start_time": "2022-04-27T13:42:04.910Z"
      },
      {
        "duration": 0,
        "start_time": "2022-04-27T13:42:04.911Z"
      },
      {
        "duration": 0,
        "start_time": "2022-04-27T13:42:04.912Z"
      },
      {
        "duration": 0,
        "start_time": "2022-04-27T13:42:04.913Z"
      },
      {
        "duration": 3,
        "start_time": "2022-04-27T13:43:08.021Z"
      },
      {
        "duration": 166,
        "start_time": "2022-04-27T13:43:09.783Z"
      },
      {
        "duration": 11,
        "start_time": "2022-04-27T13:43:11.638Z"
      },
      {
        "duration": 31,
        "start_time": "2022-04-27T13:43:18.028Z"
      },
      {
        "duration": 4,
        "start_time": "2022-04-27T13:43:23.471Z"
      },
      {
        "duration": 9,
        "start_time": "2022-04-27T13:43:26.737Z"
      },
      {
        "duration": 5,
        "start_time": "2022-04-27T13:43:28.804Z"
      },
      {
        "duration": 48,
        "start_time": "2022-04-27T13:43:30.706Z"
      },
      {
        "duration": 32,
        "start_time": "2022-04-27T13:43:33.070Z"
      },
      {
        "duration": 44,
        "start_time": "2022-04-27T13:43:34.698Z"
      },
      {
        "duration": 70,
        "start_time": "2022-04-27T13:43:36.773Z"
      },
      {
        "duration": 74,
        "start_time": "2022-04-27T13:43:41.461Z"
      },
      {
        "duration": 63,
        "start_time": "2022-04-27T13:43:45.241Z"
      },
      {
        "duration": 44,
        "start_time": "2022-04-27T13:43:50.188Z"
      },
      {
        "duration": 4,
        "start_time": "2022-04-27T13:43:52.835Z"
      },
      {
        "duration": 27,
        "start_time": "2022-04-27T13:43:55.413Z"
      },
      {
        "duration": 43,
        "start_time": "2022-04-27T13:43:58.909Z"
      },
      {
        "duration": 27,
        "start_time": "2022-04-27T13:44:10.891Z"
      },
      {
        "duration": 15,
        "start_time": "2022-04-27T13:44:17.285Z"
      },
      {
        "duration": 40,
        "start_time": "2022-04-27T13:46:52.017Z"
      },
      {
        "duration": 22,
        "start_time": "2022-04-27T13:47:09.962Z"
      },
      {
        "duration": 21,
        "start_time": "2022-04-27T13:47:32.397Z"
      },
      {
        "duration": 21,
        "start_time": "2022-04-27T13:47:48.945Z"
      },
      {
        "duration": 24,
        "start_time": "2022-04-27T13:48:36.401Z"
      },
      {
        "duration": 35,
        "start_time": "2022-04-27T13:50:53.799Z"
      },
      {
        "duration": 25,
        "start_time": "2022-04-27T13:54:00.370Z"
      },
      {
        "duration": 33,
        "start_time": "2022-04-27T13:55:04.705Z"
      },
      {
        "duration": 25,
        "start_time": "2022-04-27T13:55:42.184Z"
      },
      {
        "duration": 24,
        "start_time": "2022-04-27T13:56:21.939Z"
      },
      {
        "duration": 9,
        "start_time": "2022-04-27T13:57:06.483Z"
      },
      {
        "duration": 25,
        "start_time": "2022-04-27T14:01:16.624Z"
      },
      {
        "duration": 18,
        "start_time": "2022-04-27T14:01:47.001Z"
      },
      {
        "duration": 671,
        "start_time": "2022-04-27T14:02:03.098Z"
      },
      {
        "duration": 4,
        "start_time": "2022-04-27T14:02:37.485Z"
      },
      {
        "duration": 4,
        "start_time": "2022-04-27T14:02:42.353Z"
      },
      {
        "duration": 1225,
        "start_time": "2022-04-27T14:03:20.597Z"
      },
      {
        "duration": 26,
        "start_time": "2022-04-27T14:03:34.070Z"
      },
      {
        "duration": 24,
        "start_time": "2022-04-27T14:05:17.299Z"
      },
      {
        "duration": 50,
        "start_time": "2022-04-27T14:08:01.944Z"
      },
      {
        "duration": 21,
        "start_time": "2022-04-27T14:08:30.446Z"
      },
      {
        "duration": 58,
        "start_time": "2022-04-27T14:11:07.511Z"
      },
      {
        "duration": 144,
        "start_time": "2022-04-27T14:11:38.414Z"
      },
      {
        "duration": 139,
        "start_time": "2022-04-27T14:11:49.102Z"
      },
      {
        "duration": 53,
        "start_time": "2022-04-27T14:12:13.464Z"
      },
      {
        "duration": 46,
        "start_time": "2022-04-27T14:12:22.712Z"
      },
      {
        "duration": 34,
        "start_time": "2022-04-27T14:14:13.490Z"
      },
      {
        "duration": 41,
        "start_time": "2022-04-27T14:15:50.155Z"
      },
      {
        "duration": 27,
        "start_time": "2022-04-27T14:18:29.025Z"
      },
      {
        "duration": 33,
        "start_time": "2022-04-27T14:22:38.521Z"
      },
      {
        "duration": 38,
        "start_time": "2022-04-27T14:23:55.675Z"
      },
      {
        "duration": 146,
        "start_time": "2022-04-27T14:26:03.524Z"
      },
      {
        "duration": 150,
        "start_time": "2022-04-27T14:26:24.537Z"
      },
      {
        "duration": 2363,
        "start_time": "2022-04-27T14:28:43.336Z"
      },
      {
        "duration": 2670,
        "start_time": "2022-04-27T14:28:58.618Z"
      },
      {
        "duration": 2458,
        "start_time": "2022-04-27T14:29:06.585Z"
      },
      {
        "duration": 2468,
        "start_time": "2022-04-27T14:29:17.264Z"
      },
      {
        "duration": 2359,
        "start_time": "2022-04-27T14:29:26.011Z"
      },
      {
        "duration": 57,
        "start_time": "2022-04-27T14:29:51.581Z"
      },
      {
        "duration": 52,
        "start_time": "2022-04-27T14:30:59.347Z"
      },
      {
        "duration": 60,
        "start_time": "2022-04-27T14:37:30.839Z"
      },
      {
        "duration": 60,
        "start_time": "2022-04-27T14:37:57.795Z"
      },
      {
        "duration": 57,
        "start_time": "2022-04-27T14:38:05.857Z"
      },
      {
        "duration": 91,
        "start_time": "2022-04-27T14:38:45.430Z"
      },
      {
        "duration": 3,
        "start_time": "2022-04-27T14:40:14.109Z"
      },
      {
        "duration": 8,
        "start_time": "2022-04-27T14:47:18.402Z"
      },
      {
        "duration": 5,
        "start_time": "2022-04-27T14:48:30.857Z"
      },
      {
        "duration": 4,
        "start_time": "2022-04-27T14:48:52.435Z"
      },
      {
        "duration": 151,
        "start_time": "2022-04-27T14:50:15.152Z"
      },
      {
        "duration": 161,
        "start_time": "2022-04-27T14:50:32.754Z"
      },
      {
        "duration": 144,
        "start_time": "2022-04-27T14:50:38.828Z"
      },
      {
        "duration": 140,
        "start_time": "2022-04-27T14:50:49.614Z"
      },
      {
        "duration": 176,
        "start_time": "2022-04-27T14:53:31.769Z"
      },
      {
        "duration": 165,
        "start_time": "2022-04-27T14:53:49.674Z"
      },
      {
        "duration": 3,
        "start_time": "2022-04-27T14:58:07.574Z"
      },
      {
        "duration": 592,
        "start_time": "2022-04-27T14:58:10.789Z"
      },
      {
        "duration": 4,
        "start_time": "2022-04-27T14:59:05.232Z"
      },
      {
        "duration": 1356,
        "start_time": "2022-04-27T14:59:11.489Z"
      },
      {
        "duration": 3,
        "start_time": "2022-04-27T15:00:12.432Z"
      },
      {
        "duration": 18,
        "start_time": "2022-04-27T15:00:15.777Z"
      },
      {
        "duration": 4,
        "start_time": "2022-04-27T15:01:12.819Z"
      },
      {
        "duration": 20,
        "start_time": "2022-04-27T15:01:15.426Z"
      },
      {
        "duration": 16,
        "start_time": "2022-04-27T15:02:29.330Z"
      },
      {
        "duration": 24,
        "start_time": "2022-04-27T15:03:06.872Z"
      },
      {
        "duration": 15,
        "start_time": "2022-04-27T15:03:26.281Z"
      },
      {
        "duration": 18,
        "start_time": "2022-04-27T15:04:04.310Z"
      },
      {
        "duration": 16,
        "start_time": "2022-04-27T15:04:22.535Z"
      },
      {
        "duration": 57,
        "start_time": "2022-04-27T15:05:11.568Z"
      },
      {
        "duration": 55,
        "start_time": "2022-04-27T15:05:19.916Z"
      },
      {
        "duration": 81,
        "start_time": "2022-04-27T15:05:47.517Z"
      },
      {
        "duration": 82,
        "start_time": "2022-04-27T15:05:53.547Z"
      },
      {
        "duration": 9,
        "start_time": "2022-04-27T15:07:59.480Z"
      },
      {
        "duration": 13,
        "start_time": "2022-04-27T15:09:16.018Z"
      },
      {
        "duration": 9,
        "start_time": "2022-04-27T15:12:35.964Z"
      },
      {
        "duration": 8,
        "start_time": "2022-04-27T15:13:15.103Z"
      },
      {
        "duration": 156,
        "start_time": "2022-04-27T15:20:22.367Z"
      },
      {
        "duration": 9,
        "start_time": "2022-04-27T15:20:55.521Z"
      },
      {
        "duration": 9,
        "start_time": "2022-04-27T15:23:28.844Z"
      },
      {
        "duration": 24,
        "start_time": "2022-04-27T15:23:40.393Z"
      },
      {
        "duration": 28,
        "start_time": "2022-04-27T15:23:47.424Z"
      },
      {
        "duration": 14,
        "start_time": "2022-04-27T15:23:51.319Z"
      },
      {
        "duration": 9,
        "start_time": "2022-04-27T15:24:29.928Z"
      },
      {
        "duration": 9,
        "start_time": "2022-04-27T15:25:15.684Z"
      },
      {
        "duration": 10,
        "start_time": "2022-04-27T15:25:28.062Z"
      },
      {
        "duration": 17,
        "start_time": "2022-04-27T15:37:27.656Z"
      },
      {
        "duration": 14,
        "start_time": "2022-04-27T15:37:29.837Z"
      },
      {
        "duration": 3,
        "start_time": "2022-04-27T15:37:57.867Z"
      },
      {
        "duration": 4,
        "start_time": "2022-04-27T15:58:51.176Z"
      },
      {
        "duration": 613,
        "start_time": "2022-04-27T15:59:16.546Z"
      },
      {
        "duration": 3,
        "start_time": "2022-04-27T15:59:44.727Z"
      },
      {
        "duration": 658,
        "start_time": "2022-04-27T15:59:47.410Z"
      },
      {
        "duration": 4,
        "start_time": "2022-04-27T16:01:54.908Z"
      },
      {
        "duration": 609,
        "start_time": "2022-04-27T16:01:57.729Z"
      },
      {
        "duration": 5,
        "start_time": "2022-04-27T16:03:56.379Z"
      },
      {
        "duration": 731,
        "start_time": "2022-04-27T16:04:00.573Z"
      },
      {
        "duration": 3,
        "start_time": "2022-04-27T16:04:53.780Z"
      },
      {
        "duration": 756,
        "start_time": "2022-04-27T16:04:56.789Z"
      },
      {
        "duration": 4,
        "start_time": "2022-04-27T16:08:21.378Z"
      },
      {
        "duration": 676,
        "start_time": "2022-04-27T16:08:24.390Z"
      },
      {
        "duration": 14,
        "start_time": "2022-04-27T16:09:09.315Z"
      },
      {
        "duration": 16,
        "start_time": "2022-04-27T16:09:22.475Z"
      },
      {
        "duration": 22,
        "start_time": "2022-04-27T16:09:29.990Z"
      },
      {
        "duration": 26,
        "start_time": "2022-04-27T16:09:54.979Z"
      },
      {
        "duration": 4,
        "start_time": "2022-04-27T16:11:13.692Z"
      },
      {
        "duration": 28,
        "start_time": "2022-04-27T16:11:16.187Z"
      },
      {
        "duration": 19,
        "start_time": "2022-04-27T16:12:45.410Z"
      },
      {
        "duration": 31,
        "start_time": "2022-04-27T16:13:32.159Z"
      },
      {
        "duration": 19,
        "start_time": "2022-04-27T16:13:53.916Z"
      },
      {
        "duration": 28,
        "start_time": "2022-04-27T16:14:15.919Z"
      },
      {
        "duration": 18,
        "start_time": "2022-04-27T16:14:19.341Z"
      },
      {
        "duration": 4,
        "start_time": "2022-04-27T16:15:02.990Z"
      },
      {
        "duration": 27,
        "start_time": "2022-04-27T16:15:07.378Z"
      },
      {
        "duration": 4,
        "start_time": "2022-04-27T16:15:32.915Z"
      },
      {
        "duration": 31,
        "start_time": "2022-04-27T16:15:36.000Z"
      },
      {
        "duration": 18,
        "start_time": "2022-04-27T16:15:41.915Z"
      },
      {
        "duration": 24,
        "start_time": "2022-04-27T16:15:45.393Z"
      },
      {
        "duration": 13,
        "start_time": "2022-04-27T16:15:49.069Z"
      },
      {
        "duration": 4,
        "start_time": "2022-04-27T16:19:32.075Z"
      },
      {
        "duration": 18,
        "start_time": "2022-04-27T16:19:34.807Z"
      },
      {
        "duration": 3,
        "start_time": "2022-04-27T16:19:43.789Z"
      },
      {
        "duration": 17,
        "start_time": "2022-04-27T16:19:46.108Z"
      },
      {
        "duration": 35,
        "start_time": "2022-04-27T16:25:05.908Z"
      },
      {
        "duration": 36,
        "start_time": "2022-04-27T16:27:06.480Z"
      },
      {
        "duration": 10,
        "start_time": "2022-04-27T16:27:38.586Z"
      },
      {
        "duration": 6,
        "start_time": "2022-04-27T16:28:24.732Z"
      },
      {
        "duration": 9,
        "start_time": "2022-04-27T16:30:48.390Z"
      },
      {
        "duration": 14,
        "start_time": "2022-04-27T16:30:58.591Z"
      },
      {
        "duration": 7,
        "start_time": "2022-04-27T16:31:01.363Z"
      },
      {
        "duration": 6,
        "start_time": "2022-04-27T16:31:27.186Z"
      },
      {
        "duration": 6,
        "start_time": "2022-04-27T16:31:30.329Z"
      },
      {
        "duration": 6,
        "start_time": "2022-04-27T16:32:50.028Z"
      },
      {
        "duration": 6,
        "start_time": "2022-04-27T16:32:55.272Z"
      },
      {
        "duration": 826,
        "start_time": "2022-05-01T15:09:12.895Z"
      },
      {
        "duration": 441,
        "start_time": "2022-05-01T15:09:13.792Z"
      },
      {
        "duration": 24,
        "start_time": "2022-05-01T15:09:14.293Z"
      },
      {
        "duration": 91,
        "start_time": "2022-05-01T15:09:14.319Z"
      },
      {
        "duration": 15,
        "start_time": "2022-05-01T15:09:14.413Z"
      },
      {
        "duration": 67,
        "start_time": "2022-05-01T15:09:14.430Z"
      },
      {
        "duration": 5,
        "start_time": "2022-05-01T15:09:14.500Z"
      },
      {
        "duration": 97,
        "start_time": "2022-05-01T15:09:14.507Z"
      },
      {
        "duration": 28,
        "start_time": "2022-05-01T15:09:14.607Z"
      },
      {
        "duration": 99,
        "start_time": "2022-05-01T15:09:14.694Z"
      },
      {
        "duration": 214,
        "start_time": "2022-05-01T15:09:14.796Z"
      },
      {
        "duration": 218,
        "start_time": "2022-05-01T15:09:15.013Z"
      },
      {
        "duration": 177,
        "start_time": "2022-05-01T15:09:15.232Z"
      },
      {
        "duration": 106,
        "start_time": "2022-05-01T15:09:15.417Z"
      },
      {
        "duration": 3,
        "start_time": "2022-05-01T15:09:15.527Z"
      },
      {
        "duration": 108,
        "start_time": "2022-05-01T15:09:15.592Z"
      },
      {
        "duration": 100,
        "start_time": "2022-05-01T15:09:15.701Z"
      },
      {
        "duration": 95,
        "start_time": "2022-05-01T15:09:15.803Z"
      },
      {
        "duration": 199,
        "start_time": "2022-05-01T15:09:15.900Z"
      },
      {
        "duration": 3,
        "start_time": "2022-05-01T15:09:16.101Z"
      },
      {
        "duration": 8,
        "start_time": "2022-05-01T15:09:16.105Z"
      },
      {
        "duration": 92,
        "start_time": "2022-05-01T15:09:16.115Z"
      },
      {
        "duration": 85,
        "start_time": "2022-05-01T15:09:16.209Z"
      },
      {
        "duration": 22,
        "start_time": "2022-05-01T15:09:16.296Z"
      },
      {
        "duration": 15,
        "start_time": "2022-05-01T15:09:16.320Z"
      },
      {
        "duration": 69,
        "start_time": "2022-05-01T15:09:16.336Z"
      },
      {
        "duration": 82,
        "start_time": "2022-05-01T15:09:16.407Z"
      },
      {
        "duration": 13,
        "start_time": "2022-05-01T15:09:16.493Z"
      },
      {
        "duration": 33,
        "start_time": "2022-05-01T15:09:16.508Z"
      },
      {
        "duration": 9,
        "start_time": "2022-05-01T15:09:16.543Z"
      },
      {
        "duration": 10,
        "start_time": "2022-05-01T15:09:16.554Z"
      },
      {
        "duration": 19,
        "start_time": "2022-05-01T15:09:16.565Z"
      },
      {
        "duration": 16,
        "start_time": "2022-05-01T15:09:16.586Z"
      },
      {
        "duration": 28,
        "start_time": "2022-05-01T15:09:16.604Z"
      },
      {
        "duration": 15,
        "start_time": "2022-05-01T15:09:16.635Z"
      },
      {
        "duration": 34,
        "start_time": "2022-05-01T15:09:16.652Z"
      },
      {
        "duration": 26,
        "start_time": "2022-05-01T15:09:16.688Z"
      },
      {
        "duration": 16,
        "start_time": "2022-05-01T15:09:16.716Z"
      },
      {
        "duration": 17,
        "start_time": "2022-05-01T15:09:16.735Z"
      },
      {
        "duration": 23,
        "start_time": "2022-05-01T15:09:16.754Z"
      },
      {
        "duration": 36,
        "start_time": "2022-05-01T15:09:16.779Z"
      },
      {
        "duration": 47,
        "start_time": "2022-05-01T15:18:41.327Z"
      },
      {
        "duration": 406,
        "start_time": "2022-05-01T15:18:54.488Z"
      },
      {
        "duration": 149,
        "start_time": "2022-05-01T15:18:54.896Z"
      },
      {
        "duration": 15,
        "start_time": "2022-05-01T15:18:55.047Z"
      },
      {
        "duration": 26,
        "start_time": "2022-05-01T15:18:55.064Z"
      },
      {
        "duration": 4,
        "start_time": "2022-05-01T15:18:55.091Z"
      },
      {
        "duration": 31,
        "start_time": "2022-05-01T15:18:55.096Z"
      },
      {
        "duration": 17,
        "start_time": "2022-05-01T15:18:55.129Z"
      },
      {
        "duration": 24,
        "start_time": "2022-05-01T15:18:55.147Z"
      },
      {
        "duration": 19,
        "start_time": "2022-05-01T15:18:55.173Z"
      },
      {
        "duration": 31,
        "start_time": "2022-05-01T15:18:55.195Z"
      },
      {
        "duration": 69,
        "start_time": "2022-05-01T15:18:55.228Z"
      },
      {
        "duration": 90,
        "start_time": "2022-05-01T15:18:55.299Z"
      },
      {
        "duration": 71,
        "start_time": "2022-05-01T15:18:55.390Z"
      },
      {
        "duration": 35,
        "start_time": "2022-05-01T15:18:55.463Z"
      },
      {
        "duration": 3,
        "start_time": "2022-05-01T15:18:55.500Z"
      },
      {
        "duration": 27,
        "start_time": "2022-05-01T15:18:55.523Z"
      },
      {
        "duration": 33,
        "start_time": "2022-05-01T15:18:55.552Z"
      },
      {
        "duration": 51,
        "start_time": "2022-05-01T15:18:55.587Z"
      },
      {
        "duration": 44,
        "start_time": "2022-05-01T15:18:55.642Z"
      },
      {
        "duration": 3,
        "start_time": "2022-05-01T15:18:55.688Z"
      },
      {
        "duration": 9,
        "start_time": "2022-05-01T15:18:55.692Z"
      },
      {
        "duration": 39,
        "start_time": "2022-05-01T15:18:55.703Z"
      },
      {
        "duration": 14,
        "start_time": "2022-05-01T15:18:55.744Z"
      },
      {
        "duration": 16,
        "start_time": "2022-05-01T15:18:55.760Z"
      },
      {
        "duration": 12,
        "start_time": "2022-05-01T15:18:55.777Z"
      },
      {
        "duration": 37,
        "start_time": "2022-05-01T15:18:55.791Z"
      },
      {
        "duration": 17,
        "start_time": "2022-05-01T15:18:55.829Z"
      },
      {
        "duration": 8,
        "start_time": "2022-05-01T15:18:55.849Z"
      },
      {
        "duration": 20,
        "start_time": "2022-05-01T15:18:55.859Z"
      },
      {
        "duration": 9,
        "start_time": "2022-05-01T15:18:55.881Z"
      },
      {
        "duration": 31,
        "start_time": "2022-05-01T15:18:55.892Z"
      },
      {
        "duration": 16,
        "start_time": "2022-05-01T15:18:55.925Z"
      },
      {
        "duration": 5,
        "start_time": "2022-05-01T15:18:55.942Z"
      },
      {
        "duration": 24,
        "start_time": "2022-05-01T15:18:55.948Z"
      },
      {
        "duration": 13,
        "start_time": "2022-05-01T15:18:55.974Z"
      },
      {
        "duration": 18,
        "start_time": "2022-05-01T15:18:55.989Z"
      },
      {
        "duration": 26,
        "start_time": "2022-05-01T15:18:56.009Z"
      },
      {
        "duration": 14,
        "start_time": "2022-05-01T15:18:56.037Z"
      },
      {
        "duration": 4,
        "start_time": "2022-05-01T15:18:56.053Z"
      },
      {
        "duration": 6,
        "start_time": "2022-05-01T15:18:56.059Z"
      },
      {
        "duration": 7,
        "start_time": "2022-05-01T15:18:56.067Z"
      },
      {
        "duration": 82,
        "start_time": "2022-05-01T15:29:40.324Z"
      },
      {
        "duration": 6,
        "start_time": "2022-05-01T15:30:02.284Z"
      },
      {
        "duration": 407,
        "start_time": "2022-05-01T15:30:09.211Z"
      },
      {
        "duration": 3,
        "start_time": "2022-05-01T15:30:16.552Z"
      },
      {
        "duration": 244,
        "start_time": "2022-05-01T15:30:16.558Z"
      },
      {
        "duration": 33,
        "start_time": "2022-05-01T15:30:16.804Z"
      },
      {
        "duration": 46,
        "start_time": "2022-05-01T15:30:16.840Z"
      },
      {
        "duration": 6,
        "start_time": "2022-05-01T15:30:16.888Z"
      },
      {
        "duration": 13,
        "start_time": "2022-05-01T15:30:16.895Z"
      },
      {
        "duration": 24,
        "start_time": "2022-05-01T15:30:16.910Z"
      },
      {
        "duration": 43,
        "start_time": "2022-05-01T15:30:16.935Z"
      },
      {
        "duration": 33,
        "start_time": "2022-05-01T15:30:16.979Z"
      },
      {
        "duration": 56,
        "start_time": "2022-05-01T15:30:17.015Z"
      },
      {
        "duration": 119,
        "start_time": "2022-05-01T15:30:17.073Z"
      },
      {
        "duration": 126,
        "start_time": "2022-05-01T15:30:17.194Z"
      },
      {
        "duration": 86,
        "start_time": "2022-05-01T15:30:17.322Z"
      },
      {
        "duration": 65,
        "start_time": "2022-05-01T15:30:17.413Z"
      },
      {
        "duration": 4,
        "start_time": "2022-05-01T15:30:17.480Z"
      },
      {
        "duration": 50,
        "start_time": "2022-05-01T15:30:17.486Z"
      },
      {
        "duration": 166,
        "start_time": "2022-05-01T15:30:17.538Z"
      },
      {
        "duration": 0,
        "start_time": "2022-05-01T15:30:17.706Z"
      },
      {
        "duration": 0,
        "start_time": "2022-05-01T15:30:17.707Z"
      },
      {
        "duration": 0,
        "start_time": "2022-05-01T15:30:17.709Z"
      },
      {
        "duration": 0,
        "start_time": "2022-05-01T15:30:17.710Z"
      },
      {
        "duration": 0,
        "start_time": "2022-05-01T15:30:17.711Z"
      },
      {
        "duration": 0,
        "start_time": "2022-05-01T15:30:17.712Z"
      },
      {
        "duration": 0,
        "start_time": "2022-05-01T15:30:17.713Z"
      },
      {
        "duration": 0,
        "start_time": "2022-05-01T15:30:17.714Z"
      },
      {
        "duration": 0,
        "start_time": "2022-05-01T15:30:17.715Z"
      },
      {
        "duration": 0,
        "start_time": "2022-05-01T15:30:17.717Z"
      },
      {
        "duration": 0,
        "start_time": "2022-05-01T15:30:17.718Z"
      },
      {
        "duration": 0,
        "start_time": "2022-05-01T15:30:17.719Z"
      },
      {
        "duration": 0,
        "start_time": "2022-05-01T15:30:17.721Z"
      },
      {
        "duration": 0,
        "start_time": "2022-05-01T15:30:17.722Z"
      },
      {
        "duration": 0,
        "start_time": "2022-05-01T15:30:17.723Z"
      },
      {
        "duration": 0,
        "start_time": "2022-05-01T15:30:17.727Z"
      },
      {
        "duration": 0,
        "start_time": "2022-05-01T15:30:17.729Z"
      },
      {
        "duration": 0,
        "start_time": "2022-05-01T15:30:17.730Z"
      },
      {
        "duration": 0,
        "start_time": "2022-05-01T15:30:17.732Z"
      },
      {
        "duration": 0,
        "start_time": "2022-05-01T15:30:17.733Z"
      },
      {
        "duration": 0,
        "start_time": "2022-05-01T15:30:17.734Z"
      },
      {
        "duration": 0,
        "start_time": "2022-05-01T15:30:17.736Z"
      },
      {
        "duration": 0,
        "start_time": "2022-05-01T15:30:17.738Z"
      },
      {
        "duration": 0,
        "start_time": "2022-05-01T15:30:17.740Z"
      },
      {
        "duration": 0,
        "start_time": "2022-05-01T15:30:17.741Z"
      },
      {
        "duration": 0,
        "start_time": "2022-05-01T15:30:17.742Z"
      },
      {
        "duration": 0,
        "start_time": "2022-05-01T15:30:17.744Z"
      },
      {
        "duration": 0,
        "start_time": "2022-05-01T15:30:17.748Z"
      },
      {
        "duration": 496,
        "start_time": "2022-05-01T15:31:52.642Z"
      },
      {
        "duration": 149,
        "start_time": "2022-05-01T15:31:53.141Z"
      },
      {
        "duration": 20,
        "start_time": "2022-05-01T15:31:53.293Z"
      },
      {
        "duration": 42,
        "start_time": "2022-05-01T15:31:53.327Z"
      },
      {
        "duration": 4,
        "start_time": "2022-05-01T15:31:53.371Z"
      },
      {
        "duration": 14,
        "start_time": "2022-05-01T15:31:53.377Z"
      },
      {
        "duration": 10,
        "start_time": "2022-05-01T15:31:53.392Z"
      },
      {
        "duration": 36,
        "start_time": "2022-05-01T15:31:53.404Z"
      },
      {
        "duration": 18,
        "start_time": "2022-05-01T15:31:53.443Z"
      },
      {
        "duration": 21,
        "start_time": "2022-05-01T15:31:53.463Z"
      },
      {
        "duration": 80,
        "start_time": "2022-05-01T15:31:53.486Z"
      },
      {
        "duration": 78,
        "start_time": "2022-05-01T15:31:53.568Z"
      },
      {
        "duration": 60,
        "start_time": "2022-05-01T15:31:53.648Z"
      },
      {
        "duration": 44,
        "start_time": "2022-05-01T15:31:53.725Z"
      },
      {
        "duration": 4,
        "start_time": "2022-05-01T15:31:53.771Z"
      },
      {
        "duration": 28,
        "start_time": "2022-05-01T15:31:53.777Z"
      },
      {
        "duration": 62,
        "start_time": "2022-05-01T15:31:53.807Z"
      },
      {
        "duration": 39,
        "start_time": "2022-05-01T15:31:53.870Z"
      },
      {
        "duration": 67,
        "start_time": "2022-05-01T15:31:53.911Z"
      },
      {
        "duration": 3,
        "start_time": "2022-05-01T15:31:53.979Z"
      },
      {
        "duration": 9,
        "start_time": "2022-05-01T15:31:53.984Z"
      },
      {
        "duration": 40,
        "start_time": "2022-05-01T15:31:53.995Z"
      },
      {
        "duration": 19,
        "start_time": "2022-05-01T15:31:54.038Z"
      },
      {
        "duration": 13,
        "start_time": "2022-05-01T15:31:54.060Z"
      },
      {
        "duration": 17,
        "start_time": "2022-05-01T15:31:54.075Z"
      },
      {
        "duration": 40,
        "start_time": "2022-05-01T15:31:54.094Z"
      },
      {
        "duration": 16,
        "start_time": "2022-05-01T15:31:54.135Z"
      },
      {
        "duration": 26,
        "start_time": "2022-05-01T15:31:54.153Z"
      },
      {
        "duration": 32,
        "start_time": "2022-05-01T15:31:54.181Z"
      },
      {
        "duration": 18,
        "start_time": "2022-05-01T15:31:54.227Z"
      },
      {
        "duration": 6,
        "start_time": "2022-05-01T15:31:54.248Z"
      },
      {
        "duration": 6,
        "start_time": "2022-05-01T15:31:54.256Z"
      },
      {
        "duration": 5,
        "start_time": "2022-05-01T15:31:54.264Z"
      },
      {
        "duration": 26,
        "start_time": "2022-05-01T15:31:54.271Z"
      },
      {
        "duration": 40,
        "start_time": "2022-05-01T15:31:54.299Z"
      },
      {
        "duration": 23,
        "start_time": "2022-05-01T15:31:54.342Z"
      },
      {
        "duration": 11,
        "start_time": "2022-05-01T15:31:54.367Z"
      },
      {
        "duration": 9,
        "start_time": "2022-05-01T15:31:54.380Z"
      },
      {
        "duration": 4,
        "start_time": "2022-05-01T15:31:54.391Z"
      },
      {
        "duration": 31,
        "start_time": "2022-05-01T15:31:54.396Z"
      },
      {
        "duration": 9,
        "start_time": "2022-05-01T15:31:54.431Z"
      },
      {
        "duration": 134,
        "start_time": "2022-05-01T15:31:54.441Z"
      },
      {
        "duration": 395,
        "start_time": "2022-09-04T12:31:54.236Z"
      },
      {
        "duration": 209,
        "start_time": "2022-09-04T12:32:00.309Z"
      },
      {
        "duration": 64,
        "start_time": "2022-09-04T12:35:26.325Z"
      },
      {
        "duration": 34,
        "start_time": "2022-09-04T12:35:35.271Z"
      },
      {
        "duration": 33,
        "start_time": "2022-09-04T12:36:02.239Z"
      }
    ],
    "colab": {
      "collapsed_sections": [
        "E0vqbgi9ay0H",
        "VUC88oWjTJw2"
      ],
      "provenance": [],
      "include_colab_link": true
    },
    "kernelspec": {
      "display_name": "Python 3 (ipykernel)",
      "language": "python",
      "name": "python3"
    },
    "language_info": {
      "codemirror_mode": {
        "name": "ipython",
        "version": 3
      },
      "file_extension": ".py",
      "mimetype": "text/x-python",
      "name": "python",
      "nbconvert_exporter": "python",
      "pygments_lexer": "ipython3",
      "version": "3.9.5"
    },
    "toc": {
      "base_numbering": 1,
      "nav_menu": {},
      "number_sections": true,
      "sideBar": true,
      "skip_h1_title": true,
      "title_cell": "Table of Contents",
      "title_sidebar": "Contents",
      "toc_cell": false,
      "toc_position": {},
      "toc_section_display": true,
      "toc_window_display": true
    }
  },
  "nbformat": 4,
  "nbformat_minor": 0
}