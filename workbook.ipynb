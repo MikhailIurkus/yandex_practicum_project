{
  "nbformat": 4,
  "nbformat_minor": 0,
  "metadata": {
    "colab": {
      "name": "workbook.ipynb",
      "provenance": [],
      "authorship_tag": "ABX9TyNDSdu/nhI4bMhlJWdq1hzJ",
      "include_colab_link": true
    },
    "kernelspec": {
      "name": "python3",
      "display_name": "Python 3"
    },
    "language_info": {
      "name": "python"
    }
  },
  "cells": [
    {
      "cell_type": "markdown",
      "metadata": {
        "id": "view-in-github",
        "colab_type": "text"
      },
      "source": [
        "<a href=\"https://colab.research.google.com/github/MikhailIurkus/yandex_practicum_project/blob/main/workbook.ipynb\" target=\"_parent\"><img src=\"https://colab.research.google.com/assets/colab-badge.svg\" alt=\"Open In Colab\"/></a>"
      ]
    },
    {
      "cell_type": "code",
      "execution_count": null,
      "metadata": {
        "colab": {
          "base_uri": "https://localhost:8080/"
        },
        "id": "Z4pwoe8iL1NH",
        "outputId": "02d9f717-bae4-4829-d02f-0e30b253aa8c"
      },
      "outputs": [
        {
          "output_type": "stream",
          "name": "stdout",
          "text": [
            "Мой текст: a или b\n"
          ]
        }
      ],
      "source": [
        "a = 'a'\n",
        "b = 'b'\n",
        "\n",
        "ab = 'Мой текст: {0} или {1}'.format(a, b)\n",
        "\n",
        "print(ab)"
      ]
    },
    {
      "cell_type": "code",
      "source": [
        "# email_visits = 1000 # количество визитов из рассылок\n",
        "# context_visits = 2500 # количество визитов из контекстной рекламы\n",
        "# email_purchases = 50 # количество покупок из рассылок\n",
        "# context_purchases = 100 # количество покупок из контекстной рекламы\n",
        "\n",
        "# email_conversion = (email_purchases / email_visits)\n",
        "# context_conversion = (context_purchases / context_visits)\n",
        "\n",
        "# # format_email = 'Конверсия рассылок: {0:.0%}'.format(email_conversion)\n",
        "# # print(format_email)\n",
        "\n",
        "# print('Конверсия рассылок: {:.0%}'.format(email_conversion))\n",
        "# print('Конверсия контекстной рекламы: {:.0%}'.format(context_conversion))\n",
        "\n",
        "# if email_conversion > context_conversion:\n",
        "#     print('Вывод: рассылки эффективнее')\n",
        "# elif email_conversion == context_conversion:\n",
        "#     print('Конверсии равны, пора смотреть другие метрики')\n",
        "# else:\n",
        "#     print('Вывод: контекстная реклама эффективнее')"
      ],
      "metadata": {
        "id": "OzTU0FybMrXV"
      },
      "execution_count": null,
      "outputs": []
    },
    {
      "cell_type": "code",
      "source": [
        "# first_purchase = 885 # количество пользователей, совершивших 1 покупку\n",
        "# repeated_purchase = 136 # количество пользователей, совершивших 2 и более покупок\n",
        "# total = first_purchase + repeated_purchase # общее количество покупателей\n",
        "\n",
        "# repeated_purchase_part = repeated_purchase / total\n",
        "\n",
        "# #print('Общее количество покупателей: {0}'.format(total))\n",
        "\n",
        "# print('Доля повторных покупок равна {0:.0%}'.format(repeated_purchase_part))"
      ],
      "metadata": {
        "id": "Zhsb9tUNSt9o"
      },
      "execution_count": null,
      "outputs": []
    },
    {
      "cell_type": "markdown",
      "source": [
        "\n",
        "Вам прислали таблицу со статистикой первичных и повторных покупок по источникам трафика.\n",
        "\n",
        "Прочитайте содержимое файла returned.csv и сохраните его в датафрейме purchases.\n",
        "\n",
        "Посчитайте общее число покупок для каждого источника трафика. Результат запишите в столбец 'total'. Выведите весь датафрейм на экран."
      ],
      "metadata": {
        "id": "6c-Wviwdawv5"
      }
    },
    {
      "cell_type": "code",
      "source": [
        "# import pandas as pd\n",
        "\n",
        "# purchases = pd.read_csv('/datasets/returned.csv')\n",
        "\n",
        "# purchases['total'] = purchases['first'] + purchases['repeated'] # добавляем новый столбец total где посчитана сумма первичных и повторных покупок\n",
        "\n",
        "# purchases['repeated_share'] =  purchases['repeated'] / purchases['total'] # добавляем еще один столбец с конверсией\n",
        "\n",
        "# print(purchases.head())\n",
        "\n",
        "# print(purchases.sort_values(by='repeated_share', ascending=False)) # Постройте рейтинг источников трафика по доле повторных покупок. Отсортируйте датафрейм purchases по убыванию значений столбца 'repeated_share'. Выражение напишите в скобках функции print(), чтобы вывести результат на экран."
      ],
      "metadata": {
        "id": "AunQhDCEav87"
      },
      "execution_count": null,
      "outputs": []
    },
    {
      "cell_type": "code",
      "source": [
        "\n",
        "# import pandas as pd\n",
        "# hogwarts_points = pd.read_csv('/datasets/hogwarts_points.csv')\n",
        "\n",
        "# print(hogwarts_points[hogwarts_points['faculty_name'].isna()]) # строки таблицы, у которых есть пропуски в столбце \n",
        "\n",
        "# hogwarts_points['faculty_name'] = hogwarts_points['faculty_name'].fillna('Гриффиндор') # Восстановите справедливость: верните Рону его факультет, заменив значение NaN на 'Гриффиндор' методом fillna(). Выведите на экран таблицу hogwarts_points.\n",
        "\n",
        "# faculty_points = hogwarts_points.groupby('faculty_name')['points'].sum() # Найдите суммарные баллы каждого из факультетов и сохраните результат в переменной faculty_points. Потом используя эту переменную найдите факультет-победитель и сохраните результат в переменной winner. В конце выведите значения обеих переменных на экран (уже в прекоде).\n",
        "\n",
        "# winner = hogwarts_points.groupby('faculty_name')['points'].sum().idxmax()\n",
        "\n",
        "# print(faculty_points)\n",
        "# print(winner)"
      ],
      "metadata": {
        "cellView": "code",
        "id": "O3A6zWoEqMXX"
      },
      "execution_count": null,
      "outputs": []
    },
    {
      "cell_type": "code",
      "source": [
        "# data.loc[data['Эксперимент'] == '+', 'Роль'] = 'экспериментатор'"
      ],
      "metadata": {
        "id": "I_QgvxL1KdgP"
      },
      "execution_count": null,
      "outputs": []
    },
    {
      "cell_type": "code",
      "source": [
        "# rows = (data['Новая функция'] == '+') & (data['Роль'] == 'разработчик')\n",
        "# data.loc[rows, \"Роль\"] = \"улучшатель\""
      ],
      "metadata": {
        "id": "FXnpsRFcZWOQ"
      },
      "execution_count": null,
      "outputs": []
    },
    {
      "cell_type": "code",
      "source": [
        "# rows = (data['Роль'] == 'разработчик') & (data['Новая функция'] == '+')\n",
        "# data.loc[rows, 'Новая функция'] = '-'"
      ],
      "metadata": {
        "id": "ZbIkQ1KSZWHJ"
      },
      "execution_count": null,
      "outputs": []
    },
    {
      "cell_type": "code",
      "source": [
        "# print(\n",
        "#     logs.loc[\n",
        "#         (logs['source'] == 'None') &\n",
        "#         (logs['email'] == '')\n",
        "#     ]\n",
        "# )"
      ],
      "metadata": {
        "id": "yDETt2UQNOkU"
      },
      "execution_count": null,
      "outputs": []
    },
    {
      "cell_type": "code",
      "source": [
        "import random\n",
        "import pandas as pd\n",
        "\n",
        "# Функция, имитирующая один бросок монеты.\n",
        "# От англ. coin - монета, flip - бросок монеты.\n",
        "def coin_flip():\n",
        "    # возможны два варианта:\n",
        "    # - выпала решка, это +0 орлов\n",
        "    # - выпал орёл, это +1 орёл\n",
        "    score = random.randint(0, 1)\n",
        "    return score\n",
        "\n",
        "\n",
        "# Функция для суммирования числа орлов в нескольких бросках.\n",
        "# Орёл и решка переводятся на английский как heads и tails.\n",
        "# Аргумент repeat говорит, сколько раз бросать монету\n",
        "# (от англ. repeat - повторение).\n",
        "def flips_heads(repeat):\n",
        "    total = 0\n",
        "    for i in range(repeat):\n",
        "        flip = coin_flip()\n",
        "        total += flip\n",
        "    return total\n",
        "\n",
        "\n",
        "# Cоздаём пустой список. В него мы\n",
        "# будем складывать результаты экспериментов.\n",
        "experiments = []\n",
        "\n",
        "for i in range(1000):\n",
        "    score = flips_heads(10)\n",
        "\n",
        "    # Напомним: функция append() добавляет новый\n",
        "    # элемент score в конец списка experiments.\n",
        "    experiments.append(score)\n",
        "\n",
        "# превращаем список в DataFrame\n",
        "df_experiments = pd.DataFrame(experiments)\n",
        "\n",
        "\n",
        "# постройте гистограмму для df_experiments\n",
        "df_experiments.hist(bins=11, range=(0,10))"
      ],
      "metadata": {
        "colab": {
          "base_uri": "https://localhost:8080/",
          "height": 315
        },
        "id": "WakF321TH5uY",
        "outputId": "65a9cbd0-6df8-46d0-ae78-34da9fbadec8"
      },
      "execution_count": null,
      "outputs": [
        {
          "output_type": "execute_result",
          "data": {
            "text/plain": [
              "array([[<matplotlib.axes._subplots.AxesSubplot object at 0x7f1fb9429650>]],\n",
              "      dtype=object)"
            ]
          },
          "metadata": {},
          "execution_count": 129
        },
        {
          "output_type": "display_data",
          "data": {
            "text/plain": [
              "<Figure size 432x288 with 1 Axes>"
            ],
            "image/png": "[encoded data removed]"
          },
          "metadata": {
            "needs_background": "light"
          }
        }
      ]
    },
    {
      "cell_type": "markdown",
      "source": [
        "\n",
        "Валерик каждый день едет на работу с тремя пересадками: сперва на автобусе до метро; затем по одной ветке, а потом по другой; и от метро добирается до работы на автобусе.\n",
        "\n",
        "Валерик знает, сколько продолжается поездка на каждом виде транспорта и пересадки, но вечно забывает учесть ожидание автобусов и поездов.\n",
        "\n",
        "Постройте гистограмму опозданий Валерика за 5 лет c параметром bins=10.\n",
        "\n",
        "\n",
        "Будем считать, что автобус прибывает за время от 0 до 10 минут, а поезд — за время от 0 до 5 минут. В прекоде мы уже написали функции, которые это имитируют."
      ],
      "metadata": {
        "id": "5cGrPCCaKkap"
      }
    },
    {
      "cell_type": "code",
      "source": [
        "import random\n",
        "import pandas as pd\n",
        "\n",
        "# Функция, имитирующая время ожидания автобуса.\n",
        "# (от англ. bus - автобус, wait - ждать, time - время)\n",
        "def bus_wait_time():\n",
        "    return random.randint(0, 10)\n",
        "\n",
        "\n",
        "# Функция, имитирующая время ожидания поезда в метро.\n",
        "# (от англ. train - поезд, wait - ждать, time - время)\n",
        "def train_wait_time():\n",
        "    return random.randint(0, 5)\n",
        "\n",
        "\n",
        "# Функция подсчёта полного опоздания за день.\n",
        "# от англ. total - полный, итоговый, delay - задержка, опоздание\n",
        "def total_delay():\n",
        "    # обратите внимание, как в Python переносят длинные строки\n",
        "    return (\n",
        "        bus_wait_time()\n",
        "        + train_wait_time()\n",
        "        + train_wait_time()\n",
        "        + bus_wait_time()\n",
        "    )\n",
        "\n",
        "\n",
        "# создайте пустой список\n",
        "days = []\n",
        "\n",
        "for i in range(365 * 5):\n",
        "    delay = total_delay()\n",
        "    days.append(delay) # добавьте опоздание в список days\n",
        "    \n",
        "\n",
        "# превращаем список в DataFrame\n",
        "df_days = pd.DataFrame(days)\n",
        "\n",
        "# постройте гистограмму для df_days\n",
        "df_days.hist(bins=10)"
      ],
      "metadata": {
        "colab": {
          "base_uri": "https://localhost:8080/",
          "height": 315
        },
        "id": "7R2ENePfIy8g",
        "outputId": "05405d61-1846-4fe6-e201-2986cf76dc3a"
      },
      "execution_count": null,
      "outputs": [
        {
          "output_type": "execute_result",
          "data": {
            "text/plain": [
              "array([[<matplotlib.axes._subplots.AxesSubplot object at 0x7f1fbc3853d0>]],\n",
              "      dtype=object)"
            ]
          },
          "metadata": {},
          "execution_count": 130
        },
        {
          "output_type": "display_data",
          "data": {
            "text/plain": [
              "<Figure size 432x288 with 1 Axes>"
            ],
            "image/png": "[encoded data removed]"
          },
          "metadata": {
            "needs_background": "light"
          }
        }
      ]
    },
    {
      "cell_type": "code",
      "source": [
        "import pandas as pd\n",
        "\n",
        "df = pd.DataFrame(\n",
        "    {\n",
        "        'From': [\n",
        "            'Moscow',\n",
        "            'Moscow',\n",
        "            'St. Petersburg',\n",
        "            'St. Petersburg',\n",
        "            'St. Petersburg',\n",
        "        ],\n",
        "        'To': ['Rome', 'Rome', 'Rome', 'Barcelona', 'Barcelona'],\n",
        "        'Is_Direct': [False, True, False, False, True],\n",
        "        'Has_luggage': [True, False, False, True, False],\n",
        "        'Price': [21032, 19250, 19301, 20168, 31425],\n",
        "        'Date_From': [\n",
        "            '01.07.19',\n",
        "            '01.07.19',\n",
        "            '04.07.2019',\n",
        "            '03.07.2019',\n",
        "            '05.07.2019',\n",
        "        ],\n",
        "        'Date_To': [\n",
        "            '07.07.19',\n",
        "            '07.07.19',\n",
        "            '10.07.2019',\n",
        "            '09.07.2019',\n",
        "            '11.07.2019',\n",
        "        ],\n",
        "        'Airline': ['Belavia', 'S7', 'Finnair', 'Swiss', 'Rossiya'],\n",
        "        'Travel_time_from': [995, 230, 605, 365, 255],\n",
        "        'Travel_time_to': [350, 225, 720, 355, 250],\n",
        "    }\n",
        ")\n",
        "\n",
        "# задача 1\n",
        "\n",
        "# print(\n",
        "#     df[\n",
        "#        1.5 * df['Price'] < df['Price'].max()\n",
        "#        ]\n",
        "#     )\n",
        "\n",
        "# задача 2\n",
        "\n",
        "# print(\n",
        "#     df[\n",
        "#        (df['Travel_time_from'] >= 365) | (df['Travel_time_to'] < 250)\n",
        "#        ]\n",
        "#     )\n",
        "\n",
        "# задача 3\n",
        "\n",
        "print(\n",
        "    df[\n",
        "       ~(df['Is_Direct']) & ~(df['Date_To'].isin(['09.07.2019', '10.07.2019', '11.07.2019']))\n",
        "       ]\n",
        "    )"
      ],
      "metadata": {
        "colab": {
          "base_uri": "https://localhost:8080/"
        },
        "id": "pwCZlj9QiNIT",
        "outputId": "64cc98eb-f7b4-4eaf-992b-e7ecca4fa9fe"
      },
      "execution_count": null,
      "outputs": [
        {
          "output_type": "stream",
          "name": "stdout",
          "text": [
            "     From    To  Is_Direct  Has_luggage  Price Date_From   Date_To  Airline  \\\n",
            "0  Moscow  Rome      False         True  21032  01.07.19  07.07.19  Belavia   \n",
            "\n",
            "   Travel_time_from  Travel_time_to  \n",
            "0               995             350  \n"
          ]
        }
      ]
    },
    {
      "cell_type": "code",
      "source": [
        "import pandas as pd\n",
        "\n",
        "df = pd.DataFrame(\n",
        "    {\n",
        "        'From': [\n",
        "            'Moscow',\n",
        "            'Moscow',\n",
        "            'St. Petersburg',\n",
        "            'St. Petersburg',\n",
        "            'St. Petersburg',\n",
        "        ],\n",
        "        'To': ['Rome', 'Rome', 'Rome', 'Barcelona', 'Barcelona'],\n",
        "        'Is_Direct': [False, True, False, False, True],\n",
        "        'Has_luggage': [True, False, False, True, False],\n",
        "        'Price': [21032, 19250, 19301, 20168, 31425],\n",
        "        'Date_From': [\n",
        "            '01.07.19',\n",
        "            '01.07.19',\n",
        "            '04.07.2019',\n",
        "            '03.07.2019',\n",
        "            '05.07.2019',\n",
        "        ],\n",
        "        'Date_To': [\n",
        "            '07.07.19',\n",
        "            '07.07.19',\n",
        "            '10.07.2019',\n",
        "            '09.07.2019',\n",
        "            '11.07.2019',\n",
        "        ],\n",
        "        'Airline': ['Belavia', 'S7', 'Finnair', 'Swiss', 'Rossiya'],\n",
        "        'Travel_time_from': [995, 230, 605, 365, 255],\n",
        "        'Travel_time_to': [350, 225, 720, 355, 250],\n",
        "    }\n",
        ")\n",
        "\n",
        "# впишите условие создания нужной выборки\n",
        "\n",
        "# Задача 1 \n",
        "\n",
        "# print(\n",
        "#     df.query(\n",
        "#         'Has_luggage == False and Airline not in [\"S7\", \"Rossiya\"]'\n",
        "#         )\n",
        "#     )\n",
        "\n",
        "# Задача 2\n",
        "\n",
        "max_time = 300\n",
        "print(\n",
        "    df.query(\n",
        "        'Airline in [\"Belavia\", \"S7\", \"Rossiya\"] and Travel_time_from < @max_time'\n",
        "        )\n",
        "    )"
      ],
      "metadata": {
        "colab": {
          "base_uri": "https://localhost:8080/"
        },
        "id": "XOu7Z-GuC0YV",
        "outputId": "f09892b7-d5e2-437f-d97a-54596a460f59"
      },
      "execution_count": null,
      "outputs": [
        {
          "output_type": "stream",
          "name": "stdout",
          "text": [
            "             From         To  Is_Direct  Has_luggage  Price   Date_From  \\\n",
            "1          Moscow       Rome       True        False  19250    01.07.19   \n",
            "4  St. Petersburg  Barcelona       True        False  31425  05.07.2019   \n",
            "\n",
            "      Date_To  Airline  Travel_time_from  Travel_time_to  \n",
            "1    07.07.19       S7               230             225  \n",
            "4  11.07.2019  Rossiya               255             250  \n"
          ]
        }
      ]
    },
    {
      "cell_type": "markdown",
      "source": [
        ""
      ],
      "metadata": {
        "id": "JBNVL2W8iM5q"
      }
    },
    {
      "cell_type": "code",
      "source": [
        "import pandas as pd\n",
        "\n",
        "sal = pd.DataFrame(\n",
        "    {\n",
        "        'name':['misha','anna', 'marina'],\n",
        "                  'salary':[55000, 45000, 300000]\n",
        "     }\n",
        "                   )\n",
        "\n",
        "sal['salary'].mean()"
      ],
      "metadata": {
        "colab": {
          "base_uri": "https://localhost:8080/"
        },
        "id": "TG_g6pl6HCRW",
        "outputId": "abb2e2fc-ebe5-4c2e-a7eb-d94ace46b612"
      },
      "execution_count": null,
      "outputs": [
        {
          "output_type": "execute_result",
          "data": {
            "text/plain": [
              "133333.33333333334"
            ]
          },
          "metadata": {},
          "execution_count": 133
        }
      ]
    },
    {
      "cell_type": "code",
      "source": [
        "our_dict = {0: 10, 1: 11, 2: 'X'}\n",
        "df = pd.DataFrame({\n",
        "    'a': [2, 3, 10, 11, 12],\n",
        "    'b': [5, 4, 3, 2, 1],\n",
        "    'c': ['X', 'Y', 'Y', 'Y', 'Z'] \n",
        "})\n",
        "print(df.query('a in @our_dict')) "
      ],
      "metadata": {
        "colab": {
          "base_uri": "https://localhost:8080/"
        },
        "id": "g0ZrmMpFJ_NC",
        "outputId": "cac9e5ea-15ca-4a1e-fdfb-487709838208"
      },
      "execution_count": null,
      "outputs": [
        {
          "output_type": "stream",
          "name": "stdout",
          "text": [
            "   a  b  c\n",
            "0  2  5  X\n"
          ]
        }
      ]
    },
    {
      "cell_type": "code",
      "source": [
        "# import pandas as pd\n",
        "\n",
        "# data = pd.read_csv('/datasets/visits.csv', sep='\\t')\n",
        "\n",
        "# # фильтруем слишком быстрые и медленные заезды и АЗС\n",
        "# data['too_fast'] = data['time_spent'] < 60\n",
        "# data['too_slow'] = data['time_spent'] > 1000\n",
        "# too_fast_stat = data.pivot_table(index='id', values='too_fast')\n",
        "# good_ids = too_fast_stat.query('too_fast < 0.5')\n",
        "# good_data = data.query('id in @good_ids.index')\n",
        "# good_data = good_data.query('60 <= time_spent <= 1000')\n",
        "\n",
        "# # считаем данные по отдельным АЗС и по сетям\n",
        "# station_stat = data.pivot_table(index='id', values='time_spent', aggfunc='median')\n",
        "# good_stations_stat = good_data.pivot_table(index='id', values='time_spent', aggfunc='median')\n",
        "# stat = data.pivot_table(index='name', values='time_spent')\n",
        "# good_stat = good_data.pivot_table(index='name', values='time_spent', aggfunc='median')\n",
        "# stat['good_time_spent'] = good_stat['time_spent']\n",
        "\n",
        "# id_name = good_data.pivot_table(index='id', values='name', aggfunc=['first', 'count'])\n",
        "# id_name.columns = ['name', 'count']\n",
        "# station_stat_full = id_name.join(good_stations_stat)\n",
        "\n",
        "# print(station_stat_full['count'].corr(station_stat_full['time_spent']))"
      ],
      "metadata": {
        "id": "Kj_MYhH3KN95"
      },
      "execution_count": null,
      "outputs": []
    },
    {
      "cell_type": "code",
      "source": [
        "import pandas as pd \n",
        "\n",
        "\n",
        "print('начальная версия:')\n",
        "print()\n",
        "df = pd.DataFrame({\n",
        "    'a': [1, 2, 3, 4, 5, 6, 7, 8, 9, 10],\n",
        "    'b': [5, 4, 3, 2, 1, 4, 6, 7, 2, 53],\n",
        "    'c': ['X', 'Y', 'Y', 'Y', 'Z', 't', 'u', 'w', 'r', 'e'],\n",
        "    'v': [0, 1, 2, 0, 5, 12, 7, 0, 25, 0] \n",
        "})\n",
        "\n",
        "print(df)\n",
        "\n",
        "# задача: изменить значение в самой первой строчке столбца v с 0 на 12345 \n",
        "# при этом значение v в остальных строчках остаться = 0\n",
        "\n",
        "\n",
        "# решение:\n",
        "\n",
        "# for i in df['a']:\n",
        "#   if i < 4:\n",
        "#     for x in df['b']:\n",
        "#       if x == 5:\n",
        "#         try:\n",
        "#           df['v'] = df['v'].replace(0, 12345)\n",
        "#         except:\n",
        "#           print('не получилось')\n",
        "\n",
        "df['v'] = df['v'].apply(lambda x: x = 12345 if x == 0 else x)\n",
        "\n",
        "print()          \n",
        "print('после изменеий:')\n",
        "print()\n",
        "print(df)"
      ],
      "metadata": {
        "colab": {
          "base_uri": "https://localhost:8080/",
          "height": 133
        },
        "id": "jVfhIS-AXraj",
        "outputId": "6dc1d90a-99a6-407c-e02a-ca3773a6d3b6"
      },
      "execution_count": null,
      "outputs": [
        {
          "output_type": "error",
          "ename": "SyntaxError",
          "evalue": "ignored",
          "traceback": [
            "\u001b[0;36m  File \u001b[0;32m\"<ipython-input-136-c4f306096738>\"\u001b[0;36m, line \u001b[0;32m30\u001b[0m\n\u001b[0;31m    df['v'] = df['v'].apply(lambda x: x = 12345 if x == 0 else x)\u001b[0m\n\u001b[0m                           ^\u001b[0m\n\u001b[0;31mSyntaxError\u001b[0m\u001b[0;31m:\u001b[0m lambda cannot contain assignment\n"
          ]
        }
      ]
    },
    {
      "cell_type": "code",
      "source": [
        "print('начальная версия:')\n",
        "print()\n",
        "df = pd.DataFrame({\n",
        "    'a': [1, 2, 3, 4, 5],\n",
        "    'b': [5, 4, 3, 2, 1],\n",
        "    'c': ['X', 'Y', 'Y', 'Y', 'Z'],\n",
        "    'v': [12345, 1, 2, 0, 5] \n",
        "})\n",
        "\n",
        "print(df)"
      ],
      "metadata": {
        "id": "NOWlivZceqh_"
      },
      "execution_count": null,
      "outputs": []
    },
    {
      "cell_type": "code",
      "source": [
        "reposts = 14673 # количество репостов - исходов эксперимента\n",
        "win_probability = 1 / reposts # делим 1 на количество всех исходов\n",
        "print('Вероятность выиграть бесплатные роллы: {:.5%}'.format(win_probability))"
      ],
      "metadata": {
        "id": "fWDDIZ4AIxK0"
      },
      "execution_count": null,
      "outputs": []
    },
    {
      "cell_type": "code",
      "source": [
        "from scipy import stats as st\n",
        "\n",
        "mu = 100500 # вставьте ваш код здесь: чему равно среднее значение распределения\n",
        "sigma = 3500 # вставьте ваш код здесь: чему равно стандартное отклонение распределения\n",
        "\n",
        "bonus_threshold = 111000 # вставьте ваш код здесь: где проходит граница для бонуса\n",
        "penalty_threshold = 92000 # вставьте ваш код здесь: где проходит граница для штрафа\n",
        "\n",
        "p_bonus = 1 - st.norm(mu, sigma).cdf(bonus_threshold) # вставьте ваш код здесь: посчитайте вероятность получить бонус\n",
        "p_penalty = st.norm(mu, sigma).cdf(penalty_threshold) # вставьте ваш код здесь: посчитайте вероятность получить штраф\n",
        "\n",
        "print('Вероятность бонуса:', p_bonus)\n",
        "print('Вероятность штрафа:', p_penalty)"
      ],
      "metadata": {
        "id": "fjgowB5cZAda"
      },
      "execution_count": null,
      "outputs": []
    },
    {
      "cell_type": "code",
      "source": [
        "!pip install gender_guesser\n",
        "\n",
        "import pandas as pd\n",
        "import gender_guesser.detector as gender"
      ],
      "metadata": {
        "colab": {
          "base_uri": "https://localhost:8080/"
        },
        "id": "A_hgtR3XaosC",
        "outputId": "26e9f405-5a3e-4569-bdaa-c3223d935b13"
      },
      "execution_count": null,
      "outputs": [
        {
          "output_type": "stream",
          "name": "stdout",
          "text": [
            "Looking in indexes: https://pypi.org/simple, https://us-python.pkg.dev/colab-wheels/public/simple/\n",
            "Requirement already satisfied: gender_guesser in /usr/local/lib/python3.7/dist-packages (0.4.0)\n"
          ]
        }
      ]
    },
    {
      "cell_type": "code",
      "source": [
        "df = pd.DataFrame({'a': ['Iren', 'Petr', 'Misha', 'Vika']})\n",
        "\n",
        "gd = gender.Detector()\n",
        "df['Gender'] = df['a'].map(gd.get_gender)\n",
        "df['Gender']"
      ],
      "metadata": {
        "colab": {
          "base_uri": "https://localhost:8080/"
        },
        "id": "QwmeQv_Uhsi4",
        "outputId": "ef59e321-1922-46d9-d2eb-1100e639aa11"
      },
      "execution_count": null,
      "outputs": [
        {
          "output_type": "execute_result",
          "data": {
            "text/plain": [
              "0    female\n",
              "1      male\n",
              "2      male\n",
              "3    female\n",
              "Name: Gender, dtype: object"
            ]
          },
          "metadata": {},
          "execution_count": 142
        }
      ]
    },
    {
      "cell_type": "code",
      "source": [
        "from transliterate import get_translit_function\n",
        "translit_ru = get_translit_function('ru')\n",
        "translit_ru('ибрагим', reversed=True)"
      ],
      "metadata": {
        "id": "s4KMZxtxYnpV"
      },
      "execution_count": null,
      "outputs": []
    },
    {
      "cell_type": "code",
      "source": [
        "df = pd.DataFrame({'a': ['Ира', 'Петя', 'Миша', 'Аня']})"
      ],
      "metadata": {
        "id": "0tI0ZOH9ZUk4"
      },
      "execution_count": null,
      "outputs": []
    },
    {
      "cell_type": "code",
      "source": [
        "# for i in df['a']:\n",
        "#   i = translit_ru(i, reversed=True)\n",
        "#   df['trans'] = i"
      ],
      "metadata": {
        "id": "HW2K8vQ0ZdiH"
      },
      "execution_count": null,
      "outputs": []
    },
    {
      "cell_type": "code",
      "source": [
        "def trans(t):\n",
        "  name = t['a']\n",
        "  return translit_ru(name, reversed=True)\n",
        "df['trans'] = df.apply(trans, axis=1)"
      ],
      "metadata": {
        "id": "ZF0GxRLmaC4N"
      },
      "execution_count": null,
      "outputs": []
    },
    {
      "cell_type": "code",
      "source": [
        "df['Gender'] = df['trans'].map(gd.get_gender)\n",
        "df['Gender']"
      ],
      "metadata": {
        "colab": {
          "base_uri": "https://localhost:8080/"
        },
        "id": "gGrL5uDZa4Em",
        "outputId": "62f292d4-3e23-4d81-fca0-6817f72e749f"
      },
      "execution_count": null,
      "outputs": [
        {
          "output_type": "execute_result",
          "data": {
            "text/plain": [
              "0    female\n",
              "1      male\n",
              "2      male\n",
              "3    female\n",
              "Name: Gender, dtype: object"
            ]
          },
          "metadata": {},
          "execution_count": 145
        }
      ]
    },
    {
      "cell_type": "code",
      "source": [
        "!pip install gender_guesser\n",
        "import pandas as pd\n",
        "\n",
        "import gender_guesser.detector as gender"
      ],
      "metadata": {
        "colab": {
          "base_uri": "https://localhost:8080/"
        },
        "id": "cDgBhjeDckrC",
        "outputId": "89e18fd1-167a-4f49-a9ba-79e5476ba0fc"
      },
      "execution_count": null,
      "outputs": [
        {
          "output_type": "stream",
          "name": "stdout",
          "text": [
            "Looking in indexes: https://pypi.org/simple, https://us-python.pkg.dev/colab-wheels/public/simple/\n",
            "Requirement already satisfied: gender_guesser in /usr/local/lib/python3.7/dist-packages (0.4.0)\n"
          ]
        }
      ]
    },
    {
      "cell_type": "code",
      "source": [
        "d = pd.DataFrame({'a': ['Ира', 'Петя', 'Миша', 'Аня']})\n",
        "def trans(t):\n",
        "  name = t['a']\n",
        "  return translit_ru(name, reversed=True)\n",
        "d['trans'] = df.apply(trans, axis=1)\n",
        "\n",
        "d['Gender'] = d['trans'].map(gd.get_gender)\n",
        "d['Gender']"
      ],
      "metadata": {
        "colab": {
          "base_uri": "https://localhost:8080/",
          "height": 378
        },
        "id": "xa702bbFcllY",
        "outputId": "aa9fe3a8-4890-4dca-c01f-09802605bcbf"
      },
      "execution_count": null,
      "outputs": [
        {
          "output_type": "error",
          "ename": "AttributeError",
          "evalue": "ignored",
          "traceback": [
            "\u001b[0;31m---------------------------------------------------------------------------\u001b[0m",
            "\u001b[0;31mAttributeError\u001b[0m                            Traceback (most recent call last)",
            "\u001b[0;32m<ipython-input-140-f3642d23fab3>\u001b[0m in \u001b[0;36m<module>\u001b[0;34m()\u001b[0m\n\u001b[1;32m      3\u001b[0m   \u001b[0mname\u001b[0m \u001b[0;34m=\u001b[0m \u001b[0mt\u001b[0m\u001b[0;34m[\u001b[0m\u001b[0;34m'a'\u001b[0m\u001b[0;34m]\u001b[0m\u001b[0;34m\u001b[0m\u001b[0;34m\u001b[0m\u001b[0m\n\u001b[1;32m      4\u001b[0m   \u001b[0;32mreturn\u001b[0m \u001b[0mtranslit_ru\u001b[0m\u001b[0;34m(\u001b[0m\u001b[0mname\u001b[0m\u001b[0;34m,\u001b[0m \u001b[0mreversed\u001b[0m\u001b[0;34m=\u001b[0m\u001b[0;32mTrue\u001b[0m\u001b[0;34m)\u001b[0m\u001b[0;34m\u001b[0m\u001b[0;34m\u001b[0m\u001b[0m\n\u001b[0;32m----> 5\u001b[0;31m \u001b[0md\u001b[0m\u001b[0;34m[\u001b[0m\u001b[0;34m'trans'\u001b[0m\u001b[0;34m]\u001b[0m \u001b[0;34m=\u001b[0m \u001b[0mdf\u001b[0m\u001b[0;34m.\u001b[0m\u001b[0mapply\u001b[0m\u001b[0;34m(\u001b[0m\u001b[0mtrans\u001b[0m\u001b[0;34m,\u001b[0m \u001b[0maxis\u001b[0m\u001b[0;34m=\u001b[0m\u001b[0;36m1\u001b[0m\u001b[0;34m)\u001b[0m\u001b[0;34m\u001b[0m\u001b[0;34m\u001b[0m\u001b[0m\n\u001b[0m\u001b[1;32m      6\u001b[0m \u001b[0;34m\u001b[0m\u001b[0m\n\u001b[1;32m      7\u001b[0m \u001b[0md\u001b[0m\u001b[0;34m[\u001b[0m\u001b[0;34m'Gender'\u001b[0m\u001b[0;34m]\u001b[0m \u001b[0;34m=\u001b[0m \u001b[0md\u001b[0m\u001b[0;34m[\u001b[0m\u001b[0;34m'trans'\u001b[0m\u001b[0;34m]\u001b[0m\u001b[0;34m.\u001b[0m\u001b[0mmap\u001b[0m\u001b[0;34m(\u001b[0m\u001b[0mgd\u001b[0m\u001b[0;34m.\u001b[0m\u001b[0mget_gender\u001b[0m\u001b[0;34m)\u001b[0m\u001b[0;34m\u001b[0m\u001b[0;34m\u001b[0m\u001b[0m\n",
            "\u001b[0;32m/usr/local/lib/python3.7/dist-packages/pandas/core/frame.py\u001b[0m in \u001b[0;36mapply\u001b[0;34m(self, func, axis, raw, result_type, args, **kwargs)\u001b[0m\n\u001b[1;32m   8738\u001b[0m             \u001b[0mkwargs\u001b[0m\u001b[0;34m=\u001b[0m\u001b[0mkwargs\u001b[0m\u001b[0;34m,\u001b[0m\u001b[0;34m\u001b[0m\u001b[0;34m\u001b[0m\u001b[0m\n\u001b[1;32m   8739\u001b[0m         )\n\u001b[0;32m-> 8740\u001b[0;31m         \u001b[0;32mreturn\u001b[0m \u001b[0mop\u001b[0m\u001b[0;34m.\u001b[0m\u001b[0mapply\u001b[0m\u001b[0;34m(\u001b[0m\u001b[0;34m)\u001b[0m\u001b[0;34m\u001b[0m\u001b[0;34m\u001b[0m\u001b[0m\n\u001b[0m\u001b[1;32m   8741\u001b[0m \u001b[0;34m\u001b[0m\u001b[0m\n\u001b[1;32m   8742\u001b[0m     def applymap(\n",
            "\u001b[0;32m/usr/local/lib/python3.7/dist-packages/pandas/core/apply.py\u001b[0m in \u001b[0;36mapply\u001b[0;34m(self)\u001b[0m\n\u001b[1;32m    686\u001b[0m             \u001b[0;32mreturn\u001b[0m \u001b[0mself\u001b[0m\u001b[0;34m.\u001b[0m\u001b[0mapply_raw\u001b[0m\u001b[0;34m(\u001b[0m\u001b[0;34m)\u001b[0m\u001b[0;34m\u001b[0m\u001b[0;34m\u001b[0m\u001b[0m\n\u001b[1;32m    687\u001b[0m \u001b[0;34m\u001b[0m\u001b[0m\n\u001b[0;32m--> 688\u001b[0;31m         \u001b[0;32mreturn\u001b[0m \u001b[0mself\u001b[0m\u001b[0;34m.\u001b[0m\u001b[0mapply_standard\u001b[0m\u001b[0;34m(\u001b[0m\u001b[0;34m)\u001b[0m\u001b[0;34m\u001b[0m\u001b[0;34m\u001b[0m\u001b[0m\n\u001b[0m\u001b[1;32m    689\u001b[0m \u001b[0;34m\u001b[0m\u001b[0m\n\u001b[1;32m    690\u001b[0m     \u001b[0;32mdef\u001b[0m \u001b[0magg\u001b[0m\u001b[0;34m(\u001b[0m\u001b[0mself\u001b[0m\u001b[0;34m)\u001b[0m\u001b[0;34m:\u001b[0m\u001b[0;34m\u001b[0m\u001b[0;34m\u001b[0m\u001b[0m\n",
            "\u001b[0;32m/usr/local/lib/python3.7/dist-packages/pandas/core/apply.py\u001b[0m in \u001b[0;36mapply_standard\u001b[0;34m(self)\u001b[0m\n\u001b[1;32m    810\u001b[0m \u001b[0;34m\u001b[0m\u001b[0m\n\u001b[1;32m    811\u001b[0m     \u001b[0;32mdef\u001b[0m \u001b[0mapply_standard\u001b[0m\u001b[0;34m(\u001b[0m\u001b[0mself\u001b[0m\u001b[0;34m)\u001b[0m\u001b[0;34m:\u001b[0m\u001b[0;34m\u001b[0m\u001b[0;34m\u001b[0m\u001b[0m\n\u001b[0;32m--> 812\u001b[0;31m         \u001b[0mresults\u001b[0m\u001b[0;34m,\u001b[0m \u001b[0mres_index\u001b[0m \u001b[0;34m=\u001b[0m \u001b[0mself\u001b[0m\u001b[0;34m.\u001b[0m\u001b[0mapply_series_generator\u001b[0m\u001b[0;34m(\u001b[0m\u001b[0;34m)\u001b[0m\u001b[0;34m\u001b[0m\u001b[0;34m\u001b[0m\u001b[0m\n\u001b[0m\u001b[1;32m    813\u001b[0m \u001b[0;34m\u001b[0m\u001b[0m\n\u001b[1;32m    814\u001b[0m         \u001b[0;31m# wrap results\u001b[0m\u001b[0;34m\u001b[0m\u001b[0;34m\u001b[0m\u001b[0;34m\u001b[0m\u001b[0m\n",
            "\u001b[0;32m/usr/local/lib/python3.7/dist-packages/pandas/core/apply.py\u001b[0m in \u001b[0;36mapply_series_generator\u001b[0;34m(self)\u001b[0m\n\u001b[1;32m    826\u001b[0m             \u001b[0;32mfor\u001b[0m \u001b[0mi\u001b[0m\u001b[0;34m,\u001b[0m \u001b[0mv\u001b[0m \u001b[0;32min\u001b[0m \u001b[0menumerate\u001b[0m\u001b[0;34m(\u001b[0m\u001b[0mseries_gen\u001b[0m\u001b[0;34m)\u001b[0m\u001b[0;34m:\u001b[0m\u001b[0;34m\u001b[0m\u001b[0;34m\u001b[0m\u001b[0m\n\u001b[1;32m    827\u001b[0m                 \u001b[0;31m# ignore SettingWithCopy here in case the user mutates\u001b[0m\u001b[0;34m\u001b[0m\u001b[0;34m\u001b[0m\u001b[0;34m\u001b[0m\u001b[0m\n\u001b[0;32m--> 828\u001b[0;31m                 \u001b[0mresults\u001b[0m\u001b[0;34m[\u001b[0m\u001b[0mi\u001b[0m\u001b[0;34m]\u001b[0m \u001b[0;34m=\u001b[0m \u001b[0mself\u001b[0m\u001b[0;34m.\u001b[0m\u001b[0mf\u001b[0m\u001b[0;34m(\u001b[0m\u001b[0mv\u001b[0m\u001b[0;34m)\u001b[0m\u001b[0;34m\u001b[0m\u001b[0;34m\u001b[0m\u001b[0m\n\u001b[0m\u001b[1;32m    829\u001b[0m                 \u001b[0;32mif\u001b[0m \u001b[0misinstance\u001b[0m\u001b[0;34m(\u001b[0m\u001b[0mresults\u001b[0m\u001b[0;34m[\u001b[0m\u001b[0mi\u001b[0m\u001b[0;34m]\u001b[0m\u001b[0;34m,\u001b[0m \u001b[0mABCSeries\u001b[0m\u001b[0;34m)\u001b[0m\u001b[0;34m:\u001b[0m\u001b[0;34m\u001b[0m\u001b[0;34m\u001b[0m\u001b[0m\n\u001b[1;32m    830\u001b[0m                     \u001b[0;31m# If we have a view on v, we need to make a copy because\u001b[0m\u001b[0;34m\u001b[0m\u001b[0;34m\u001b[0m\u001b[0;34m\u001b[0m\u001b[0m\n",
            "\u001b[0;32m<ipython-input-140-f3642d23fab3>\u001b[0m in \u001b[0;36mtrans\u001b[0;34m(t)\u001b[0m\n\u001b[1;32m      2\u001b[0m \u001b[0;32mdef\u001b[0m \u001b[0mtrans\u001b[0m\u001b[0;34m(\u001b[0m\u001b[0mt\u001b[0m\u001b[0;34m)\u001b[0m\u001b[0;34m:\u001b[0m\u001b[0;34m\u001b[0m\u001b[0;34m\u001b[0m\u001b[0m\n\u001b[1;32m      3\u001b[0m   \u001b[0mname\u001b[0m \u001b[0;34m=\u001b[0m \u001b[0mt\u001b[0m\u001b[0;34m[\u001b[0m\u001b[0;34m'a'\u001b[0m\u001b[0;34m]\u001b[0m\u001b[0;34m\u001b[0m\u001b[0;34m\u001b[0m\u001b[0m\n\u001b[0;32m----> 4\u001b[0;31m   \u001b[0;32mreturn\u001b[0m \u001b[0mtranslit_ru\u001b[0m\u001b[0;34m(\u001b[0m\u001b[0mname\u001b[0m\u001b[0;34m,\u001b[0m \u001b[0mreversed\u001b[0m\u001b[0;34m=\u001b[0m\u001b[0;32mTrue\u001b[0m\u001b[0;34m)\u001b[0m\u001b[0;34m\u001b[0m\u001b[0;34m\u001b[0m\u001b[0m\n\u001b[0m\u001b[1;32m      5\u001b[0m \u001b[0md\u001b[0m\u001b[0;34m[\u001b[0m\u001b[0;34m'trans'\u001b[0m\u001b[0;34m]\u001b[0m \u001b[0;34m=\u001b[0m \u001b[0mdf\u001b[0m\u001b[0;34m.\u001b[0m\u001b[0mapply\u001b[0m\u001b[0;34m(\u001b[0m\u001b[0mtrans\u001b[0m\u001b[0;34m,\u001b[0m \u001b[0maxis\u001b[0m\u001b[0;34m=\u001b[0m\u001b[0;36m1\u001b[0m\u001b[0;34m)\u001b[0m\u001b[0;34m\u001b[0m\u001b[0;34m\u001b[0m\u001b[0m\n\u001b[1;32m      6\u001b[0m \u001b[0;34m\u001b[0m\u001b[0m\n",
            "\u001b[0;32m/usr/local/lib/python3.7/dist-packages/transliterate/base.py\u001b[0m in \u001b[0;36mtranslit\u001b[0;34m(self, value, reversed, strict, fail_silently)\u001b[0m\n\u001b[1;32m    195\u001b[0m             \u001b[0;31m# Handling reversed specific translations (one side only).\u001b[0m\u001b[0;34m\u001b[0m\u001b[0;34m\u001b[0m\u001b[0;34m\u001b[0m\u001b[0m\n\u001b[1;32m    196\u001b[0m             \u001b[0;32mif\u001b[0m \u001b[0mself\u001b[0m\u001b[0;34m.\u001b[0m\u001b[0mreversed_specific_mapping\u001b[0m\u001b[0;34m:\u001b[0m\u001b[0;34m\u001b[0m\u001b[0;34m\u001b[0m\u001b[0m\n\u001b[0;32m--> 197\u001b[0;31m                 value = value.translate(\n\u001b[0m\u001b[1;32m    198\u001b[0m                     \u001b[0mself\u001b[0m\u001b[0;34m.\u001b[0m\u001b[0mreversed_specific_translation_table\u001b[0m\u001b[0;34m\u001b[0m\u001b[0;34m\u001b[0m\u001b[0m\n\u001b[1;32m    199\u001b[0m                 )\n",
            "\u001b[0;31mAttributeError\u001b[0m: 'int' object has no attribute 'translate'"
          ]
        }
      ]
    }
  ]
}