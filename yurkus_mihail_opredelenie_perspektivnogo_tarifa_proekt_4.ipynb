{
  "cells": [
    {
      "cell_type": "markdown",
      "metadata": {
        "id": "view-in-github",
        "colab_type": "text"
      },
      "source": [
        "<a href=\"https://colab.research.google.com/github/MikhailIurkus/yandex_practicum_project/blob/main/yurkus_mihail_opredelenie_perspektivnogo_tarifa_proekt_4.ipynb\" target=\"_parent\"><img src=\"https://colab.research.google.com/assets/colab-badge.svg\" alt=\"Open In Colab\"/></a>"
      ]
    },
    {
      "cell_type": "markdown",
      "metadata": {
        "id": "9vufihKDtHRm"
      },
      "source": [
        "# Определение перспективного тарифа для телеком-компании"
      ]
    },
    {
      "cell_type": "markdown",
      "metadata": {
        "id": "w2uTn5EmtPxr"
      },
      "source": [
        "### Описание проекта"
      ]
    },
    {
      "cell_type": "markdown",
      "metadata": {
        "id": "JD70_li1tUZm"
      },
      "source": [
        "Вы аналитик компании «Мегалайн» — федерального оператора сотовой связи. Клиентам предлагают два тарифных плана: «Смарт» и «Ультра». Чтобы скорректировать рекламный бюджет, коммерческий департамент хочет понять, какой тариф приносит больше денег.\n",
        "\n",
        "\n",
        "Вам предстоит сделать предварительный анализ тарифов на небольшой выборке клиентов. В вашем распоряжении данные 500 пользователей «Мегалайна»: кто они, откуда, каким тарифом пользуются, сколько звонков и сообщений каждый отправил за 2018 год. Нужно проанализировать поведение клиентов и сделать вывод — какой тариф лучше."
      ]
    },
    {
      "cell_type": "markdown",
      "metadata": {
        "id": "4KRO6EhatbVB"
      },
      "source": [
        "### Описание тарифов"
      ]
    },
    {
      "cell_type": "markdown",
      "metadata": {
        "id": "Tg91Gd2dtdIY"
      },
      "source": [
        "**Тариф «Смарт»**\n",
        "- Ежемесячная плата: 550 рублей\n",
        "- Включено 500 минут разговора, 50 сообщений и 15 Гб интернет-трафика\n",
        "- Стоимость услуг сверх тарифного пакета:\n",
        "  - минута разговора: 3 рубля\n",
        "  - сообщение: 3 рубля\n",
        "  - 1 Гб интернет-трафика: 200 рублей\n",
        "\n",
        "**Тариф «Ультра»**\n",
        "- Ежемесячная плата: 1950 рублей\n",
        "- Включено 3000 минут разговора, 1000 сообщений и 30 Гб интернет-трафика\n",
        "- Стоимость услуг сверх тарифного пакета:\n",
        "  - минута разговора: 1 рубль\n",
        "  - сообщение: 1 рубль\n",
        "  - 1 Гб интернет-трафика: 150 рублей"
      ]
    },
    {
      "cell_type": "markdown",
      "metadata": {
        "id": "3KAIbJTytzZO"
      },
      "source": [
        "### Примечание"
      ]
    },
    {
      "cell_type": "markdown",
      "metadata": {
        "id": "1jPSUMcBt2Ba"
      },
      "source": [
        "«Мегалайн» всегда округляет секунды до минут, а мегабайты — до гигабайт. Каждый звонок округляется отдельно: даже если он длился всего 1 секунду, будет засчитан как 1 минута.\n",
        "\n",
        "\n",
        "Для веб-трафика отдельные сессии не считаются. Вместо этого общая сумма за месяц округляется в бо́льшую сторону. Если абонент использует 1025 мегабайт в этом месяце, с него возьмут плату за 2 гигабайта. Примите, что неиспользованные за предыдущий месяц звонки, смс, интернет на следующий месяц не переносятся."
      ]
    },
    {
      "cell_type": "markdown",
      "metadata": {
        "id": "2BIOZiV-42mV"
      },
      "source": [
        "### Описание данных"
      ]
    },
    {
      "cell_type": "markdown",
      "metadata": {
        "id": "r2wJvVuI47We"
      },
      "source": [
        "\n",
        "---\n",
        "\n",
        "\n",
        "**Таблица calls (информация о звонках):**\n",
        "- id — уникальный номер звонка\n",
        "- call_date — дата звонка\n",
        "- duration — длительность звонка в минутах\n",
        "- user_id — идентификатор пользователя, сделавшего звонок\n",
        "\n",
        "\n",
        "\n",
        "---\n",
        "\n",
        "**Таблица internet (информация об интернет-сессиях):**\n",
        "- id — уникальный номер сессии\n",
        "- mb_used — объём потраченного за сессию интернет-трафика (в мегабайтах)\n",
        "- session_date — дата интернет-сессии\n",
        "- user_id — идентификатор пользователя\n",
        "\n",
        "\n",
        "\n",
        "---\n",
        "\n",
        "**Таблица messages (информация о сообщениях):**\n",
        "- id — уникальный номер сообщения\n",
        "- message_date — дата сообщения\n",
        "- user_id — идентификатор пользователя, отправившего сообщение\n",
        "\n",
        "\n",
        "\n",
        "---\n",
        "\n",
        "**Таблица tariffs (информация о тарифах):**\n",
        "- tariff_name — название тарифа\n",
        "- rub_monthly_fee — ежемесячная абонентская плата в рублях\n",
        "- minutes_included — количество минут разговора в месяц, включённых в абонентскую плату\n",
        "- messages_included — количество сообщений в месяц, включённых в абонентскую плату\n",
        "- mb_per_month_included — объём интернет-трафика, включённого в абонентскую плату (в мегабайтах)\n",
        "- rub_per_minute — стоимость минуты разговора сверх тарифного пакета (например, если в тарифе 100 минут разговора в месяц, то со 101 минуты будет взиматься плата)\n",
        "- rub_per_message — стоимость отправки сообщения сверх тарифного пакета\n",
        "- rub_per_gb — стоимость дополнительного гигабайта интернет-трафика сверх тарифного пакета (1 гигабайт = 1024 мегабайта)\n",
        "\n",
        "\n",
        "\n",
        "---\n",
        "\n",
        "**Таблица users (информация о пользователях):**\n",
        "- user_id — уникальный идентификатор пользователя\n",
        "- first_name — имя пользователя\n",
        "- last_name — фамилия пользователя\n",
        "- age — возраст пользователя (годы)\n",
        "- reg_date — дата подключения тарифа (день, месяц, год)\n",
        "- churn_date — дата прекращения пользования тарифом (если значение пропущено, то тариф ещё действовал на момент выгрузки данных)\n",
        "- city — город проживания пользователя\n",
        "- tariff — название тарифного плана\n",
        "\n",
        "\n",
        "\n",
        "---"
      ]
    },
    {
      "cell_type": "markdown",
      "metadata": {
        "id": "D6RXdbBNwDhk"
      },
      "source": [
        "# Шаг 1. Откройте файл с данными и изучите общую информацию"
      ]
    },
    {
      "cell_type": "markdown",
      "metadata": {
        "id": "uIwqMuY0VwPH"
      },
      "source": [
        "Я выполнял работу в колабе ([вот она](https://colab.research.google.com/drive/1ZDP5xNxiy4sk84OtOFrcs_fRIUQpQlFC?usp=sharing))\n",
        "\n",
        "Файлы не откроются, но читать будет гораздо удобнее. \n",
        "\n",
        "Я закоментил свой путь к файлам\n",
        "\n"
      ]
    },
    {
      "cell_type": "code",
      "execution_count": null,
      "metadata": {
        "colab": {
          "base_uri": "https://localhost:8080/"
        },
        "id": "axFfP4WO1kuZ",
        "outputId": "79204b18-8b73-438e-9c00-7fd62c91b764"
      },
      "outputs": [
        {
          "name": "stdout",
          "output_type": "stream",
          "text": [
            "Collecting gender_guesser\n",
            "  Downloading gender_guesser-0.4.0-py2.py3-none-any.whl (379 kB)\n",
            "\u001b[K     |████████████████████████████████| 379 kB 1.3 MB/s eta 0:00:01\n",
            "\u001b[?25hInstalling collected packages: gender-guesser\n",
            "Successfully installed gender-guesser-0.4.0\n",
            "Collecting transliterate\n",
            "  Downloading transliterate-1.10.2-py2.py3-none-any.whl (45 kB)\n",
            "\u001b[K     |████████████████████████████████| 45 kB 1.8 MB/s eta 0:00:011\n",
            "\u001b[?25hRequirement already satisfied: six>=1.1.0 in /opt/conda/lib/python3.9/site-packages (from transliterate) (1.16.0)\n",
            "Installing collected packages: transliterate\n",
            "Successfully installed transliterate-1.10.2\n"
          ]
        }
      ],
      "source": [
        "!pip install gender_guesser\n",
        "!pip install transliterate"
      ]
    },
    {
      "cell_type": "code",
      "execution_count": null,
      "metadata": {
        "id": "4wWnb52kwIV6"
      },
      "outputs": [],
      "source": [
        "import os.path\n",
        "import pandas as pd\n",
        "import matplotlib.pyplot as plt\n",
        "import matplotlib.colors\n",
        "import seaborn as sns\n",
        "import numpy as np\n",
        "import gender_guesser.detector as gender\n",
        "import math\n",
        "\n",
        "\n",
        "from scipy import stats as st\n",
        "from transliterate import get_translit_function\n",
        "translit_ru = get_translit_function('ru')\n",
        "gd = gender.Detector()"
      ]
    },
    {
      "cell_type": "code",
      "execution_count": null,
      "metadata": {
        "id": "XUxcRG5gKeEI"
      },
      "outputs": [],
      "source": [
        "# для чтения датасетов с платформы практикума\n",
        "\n",
        "calls = pd.read_csv('/datasets/calls.csv')\n",
        "\n",
        "internet = pd.read_csv('/datasets/internet.csv')\n",
        "\n",
        "messages = pd.read_csv('/datasets/messages.csv')\n",
        "\n",
        "tariffs = pd.read_csv('/datasets/tariffs.csv')\n",
        "\n",
        "users = pd.read_csv('/datasets/users.csv')"
      ]
    },
    {
      "cell_type": "markdown",
      "metadata": {
        "id": "l4yvG3GR3cEN"
      },
      "source": [
        "### calls"
      ]
    },
    {
      "cell_type": "markdown",
      "metadata": {
        "id": "R9vanuck4or4"
      },
      "source": [
        "**Таблица calls (информация о звонках):**\n",
        "- id — уникальный номер звонка\n",
        "- call_date — дата звонка\n",
        "- duration — длительность звонка в минутах\n",
        "- user_id — идентификатор пользователя, сделавшего звонок"
      ]
    },
    {
      "cell_type": "code",
      "execution_count": null,
      "metadata": {
        "colab": {
          "base_uri": "https://localhost:8080/",
          "height": 1000
        },
        "id": "hhuNGbTy3a8W",
        "outputId": "701b1114-7606-4a51-950b-24221c38e203"
      },
      "outputs": [
        {
          "data": {
            "text/html": [
              "<div>\n",
              "<style scoped>\n",
              "    .dataframe tbody tr th:only-of-type {\n",
              "        vertical-align: middle;\n",
              "    }\n",
              "\n",
              "    .dataframe tbody tr th {\n",
              "        vertical-align: top;\n",
              "    }\n",
              "\n",
              "    .dataframe thead th {\n",
              "        text-align: right;\n",
              "    }\n",
              "</style>\n",
              "<table border=\"1\" class=\"dataframe\">\n",
              "  <thead>\n",
              "    <tr style=\"text-align: right;\">\n",
              "      <th></th>\n",
              "      <th>id</th>\n",
              "      <th>call_date</th>\n",
              "      <th>duration</th>\n",
              "      <th>user_id</th>\n",
              "    </tr>\n",
              "  </thead>\n",
              "  <tbody>\n",
              "    <tr>\n",
              "      <th>0</th>\n",
              "      <td>1000_0</td>\n",
              "      <td>2018-07-25</td>\n",
              "      <td>0.00</td>\n",
              "      <td>1000</td>\n",
              "    </tr>\n",
              "    <tr>\n",
              "      <th>1</th>\n",
              "      <td>1000_1</td>\n",
              "      <td>2018-08-17</td>\n",
              "      <td>0.00</td>\n",
              "      <td>1000</td>\n",
              "    </tr>\n",
              "    <tr>\n",
              "      <th>2</th>\n",
              "      <td>1000_2</td>\n",
              "      <td>2018-06-11</td>\n",
              "      <td>2.85</td>\n",
              "      <td>1000</td>\n",
              "    </tr>\n",
              "    <tr>\n",
              "      <th>3</th>\n",
              "      <td>1000_3</td>\n",
              "      <td>2018-09-21</td>\n",
              "      <td>13.80</td>\n",
              "      <td>1000</td>\n",
              "    </tr>\n",
              "    <tr>\n",
              "      <th>4</th>\n",
              "      <td>1000_4</td>\n",
              "      <td>2018-12-15</td>\n",
              "      <td>5.18</td>\n",
              "      <td>1000</td>\n",
              "    </tr>\n",
              "  </tbody>\n",
              "</table>\n",
              "</div>"
            ],
            "text/plain": [
              "       id   call_date  duration  user_id\n",
              "0  1000_0  2018-07-25      0.00     1000\n",
              "1  1000_1  2018-08-17      0.00     1000\n",
              "2  1000_2  2018-06-11      2.85     1000\n",
              "3  1000_3  2018-09-21     13.80     1000\n",
              "4  1000_4  2018-12-15      5.18     1000"
            ]
          },
          "metadata": {},
          "output_type": "display_data"
        },
        {
          "name": "stdout",
          "output_type": "stream",
          "text": [
            "---------------------------------------\n",
            "<class 'pandas.core.frame.DataFrame'>\n",
            "RangeIndex: 202607 entries, 0 to 202606\n",
            "Data columns (total 4 columns):\n",
            " #   Column     Non-Null Count   Dtype  \n",
            "---  ------     --------------   -----  \n",
            " 0   id         202607 non-null  object \n",
            " 1   call_date  202607 non-null  object \n",
            " 2   duration   202607 non-null  float64\n",
            " 3   user_id    202607 non-null  int64  \n",
            "dtypes: float64(1), int64(1), object(2)\n",
            "memory usage: 6.2+ MB\n",
            "None\n",
            "---------------------------------------\n",
            "пропуски:\n",
            "\n",
            " id           0\n",
            "call_date    0\n",
            "duration     0\n",
            "user_id      0\n",
            "dtype: int64\n",
            "---------------------------------------\n",
            "дубликаты:\n",
            "\n",
            " 0\n",
            "---------------------------------------\n",
            "имена столбцов:\n",
            "\n",
            " Index(['id', 'call_date', 'duration', 'user_id'], dtype='object')\n",
            "---------------------------------------\n"
          ]
        },
        {
          "data": {
            "image/png": "[encoded data removed]",
            "text/plain": [
              "<Figure size 432x288 with 1 Axes>"
            ]
          },
          "metadata": {
            "needs_background": "light"
          },
          "output_type": "display_data"
        },
        {
          "name": "stdout",
          "output_type": "stream",
          "text": [
            "---------------------------------------\n",
            "count    202607.000000\n",
            "mean          6.755887\n",
            "std           5.843365\n",
            "min           0.000000\n",
            "25%           1.300000\n",
            "50%           6.000000\n",
            "75%          10.700000\n",
            "max          38.000000\n",
            "Name: duration, dtype: float64\n",
            "---------------------------------------\n",
            "\u001b[31m Обратить внимание:\n",
            "\u001b[43m call_date - datetime\n"
          ]
        }
      ],
      "source": [
        "display(calls.head(5))\n",
        "print('---------------------------------------')\n",
        "print(calls.info())\n",
        "print('---------------------------------------')\n",
        "print('пропуски:\\n\\n', calls.isna().sum())\n",
        "print('---------------------------------------')\n",
        "print('дубликаты:\\n\\n', calls.duplicated().sum())\n",
        "print('---------------------------------------')\n",
        "print('имена столбцов:\\n\\n', calls.columns)\n",
        "print('---------------------------------------')\n",
        "calls.boxplot('duration')\n",
        "plt.title(' длительность звонка в минутах')\n",
        "plt.show()\n",
        "print('---------------------------------------')\n",
        "print(calls['duration'].describe())\n",
        "print('---------------------------------------')\n",
        "print('\\033[31m Обратить внимание:')\n",
        "print('\\033[43m call_date - datetime')"
      ]
    },
    {
      "cell_type": "markdown",
      "metadata": {
        "id": "Qm2KgRqqAvN7"
      },
      "source": [
        "### internet"
      ]
    },
    {
      "cell_type": "markdown",
      "metadata": {
        "id": "GDheuiAJA0o1"
      },
      "source": [
        "**Таблица internet (информация об интернет-сессиях):**\n",
        "- id — уникальный номер сессии\n",
        "- mb_used — объём потраченного за сессию интернет-трафика (в мегабайтах)\n",
        "- session_date — дата интернет-сессии\n",
        "- user_id — идентификатор пользователя"
      ]
    },
    {
      "cell_type": "code",
      "execution_count": null,
      "metadata": {
        "colab": {
          "base_uri": "https://localhost:8080/",
          "height": 1000
        },
        "id": "ttUI8WqWBHnP",
        "outputId": "4817b1a2-aaa8-4066-aa09-58aa2e08b1ea"
      },
      "outputs": [
        {
          "data": {
            "text/html": [
              "<div>\n",
              "<style scoped>\n",
              "    .dataframe tbody tr th:only-of-type {\n",
              "        vertical-align: middle;\n",
              "    }\n",
              "\n",
              "    .dataframe tbody tr th {\n",
              "        vertical-align: top;\n",
              "    }\n",
              "\n",
              "    .dataframe thead th {\n",
              "        text-align: right;\n",
              "    }\n",
              "</style>\n",
              "<table border=\"1\" class=\"dataframe\">\n",
              "  <thead>\n",
              "    <tr style=\"text-align: right;\">\n",
              "      <th></th>\n",
              "      <th>Unnamed: 0</th>\n",
              "      <th>id</th>\n",
              "      <th>mb_used</th>\n",
              "      <th>session_date</th>\n",
              "      <th>user_id</th>\n",
              "    </tr>\n",
              "  </thead>\n",
              "  <tbody>\n",
              "    <tr>\n",
              "      <th>0</th>\n",
              "      <td>0</td>\n",
              "      <td>1000_0</td>\n",
              "      <td>112.95</td>\n",
              "      <td>2018-11-25</td>\n",
              "      <td>1000</td>\n",
              "    </tr>\n",
              "    <tr>\n",
              "      <th>1</th>\n",
              "      <td>1</td>\n",
              "      <td>1000_1</td>\n",
              "      <td>1052.81</td>\n",
              "      <td>2018-09-07</td>\n",
              "      <td>1000</td>\n",
              "    </tr>\n",
              "    <tr>\n",
              "      <th>2</th>\n",
              "      <td>2</td>\n",
              "      <td>1000_2</td>\n",
              "      <td>1197.26</td>\n",
              "      <td>2018-06-25</td>\n",
              "      <td>1000</td>\n",
              "    </tr>\n",
              "    <tr>\n",
              "      <th>3</th>\n",
              "      <td>3</td>\n",
              "      <td>1000_3</td>\n",
              "      <td>550.27</td>\n",
              "      <td>2018-08-22</td>\n",
              "      <td>1000</td>\n",
              "    </tr>\n",
              "    <tr>\n",
              "      <th>4</th>\n",
              "      <td>4</td>\n",
              "      <td>1000_4</td>\n",
              "      <td>302.56</td>\n",
              "      <td>2018-09-24</td>\n",
              "      <td>1000</td>\n",
              "    </tr>\n",
              "  </tbody>\n",
              "</table>\n",
              "</div>"
            ],
            "text/plain": [
              "   Unnamed: 0      id  mb_used session_date  user_id\n",
              "0           0  1000_0   112.95   2018-11-25     1000\n",
              "1           1  1000_1  1052.81   2018-09-07     1000\n",
              "2           2  1000_2  1197.26   2018-06-25     1000\n",
              "3           3  1000_3   550.27   2018-08-22     1000\n",
              "4           4  1000_4   302.56   2018-09-24     1000"
            ]
          },
          "metadata": {},
          "output_type": "display_data"
        },
        {
          "name": "stdout",
          "output_type": "stream",
          "text": [
            "---------------------------------------\n",
            "<class 'pandas.core.frame.DataFrame'>\n",
            "RangeIndex: 149396 entries, 0 to 149395\n",
            "Data columns (total 5 columns):\n",
            " #   Column        Non-Null Count   Dtype  \n",
            "---  ------        --------------   -----  \n",
            " 0   Unnamed: 0    149396 non-null  int64  \n",
            " 1   id            149396 non-null  object \n",
            " 2   mb_used       149396 non-null  float64\n",
            " 3   session_date  149396 non-null  object \n",
            " 4   user_id       149396 non-null  int64  \n",
            "dtypes: float64(1), int64(2), object(2)\n",
            "memory usage: 5.7+ MB\n",
            "None\n",
            "---------------------------------------\n",
            "пропуски:\n",
            "\n",
            " Unnamed: 0      0\n",
            "id              0\n",
            "mb_used         0\n",
            "session_date    0\n",
            "user_id         0\n",
            "dtype: int64\n",
            "---------------------------------------\n",
            "дубликаты:\n",
            "\n",
            " 0\n",
            "---------------------------------------\n",
            "имена столбцов:\n",
            "\n",
            " Index(['Unnamed: 0', 'id', 'mb_used', 'session_date', 'user_id'], dtype='object')\n",
            "---------------------------------------\n"
          ]
        },
        {
          "data": {
            "image/png": "[encoded data removed]",
            "text/plain": [
              "<Figure size 432x288 with 1 Axes>"
            ]
          },
          "metadata": {
            "needs_background": "light"
          },
          "output_type": "display_data"
        },
        {
          "name": "stdout",
          "output_type": "stream",
          "text": [
            "---------------------------------------\n",
            "count    149396.000000\n",
            "mean        370.192426\n",
            "std         278.300951\n",
            "min           0.000000\n",
            "25%         138.187500\n",
            "50%         348.015000\n",
            "75%         559.552500\n",
            "max        1724.830000\n",
            "Name: mb_used, dtype: float64\n",
            "---------------------------------------\n",
            "\u001b[31m Обратить внимание:\n",
            "\u001b[43m Unnamed: 0 - если этот столбец нужен, то исправить имя \n",
            " mb_used - округлить до гб (в большую сторону) и можно в int; есть выбросы \n",
            " session_date - datetime \n",
            " user_id - скорее всего тип данных нужен object\n"
          ]
        }
      ],
      "source": [
        "display(internet.head(5))\n",
        "print('---------------------------------------')\n",
        "print(internet.info())\n",
        "print('---------------------------------------')\n",
        "print('пропуски:\\n\\n', internet.isna().sum())\n",
        "print('---------------------------------------')\n",
        "print('дубликаты:\\n\\n', internet.duplicated().sum())\n",
        "print('---------------------------------------')\n",
        "print('имена столбцов:\\n\\n', internet.columns)\n",
        "print('---------------------------------------')\n",
        "internet.boxplot('mb_used')\n",
        "plt.title('объём потраченного за сессию интернет-трафика (в мегабайтах)')\n",
        "plt.show()\n",
        "print('---------------------------------------')\n",
        "print(internet['mb_used'].describe())\n",
        "print('---------------------------------------')\n",
        "print('\\033[31m Обратить внимание:')\n",
        "print('\\033[43m Unnamed: 0 - если этот столбец нужен, то исправить имя \\n mb_used - округлить до гб (в большую сторону) и можно в int; есть выбросы \\n session_date - datetime \\n user_id - скорее всего тип данных нужен object')"
      ]
    },
    {
      "cell_type": "markdown",
      "metadata": {
        "id": "2uG8Pl_cEJpz"
      },
      "source": [
        "### messages"
      ]
    },
    {
      "cell_type": "markdown",
      "metadata": {
        "id": "HPqoqkg6ENjy"
      },
      "source": [
        "**Таблица messages (информация о сообщениях):**\n",
        "- id — уникальный номер сообщения\n",
        "- message_date — дата сообщения\n",
        "- user_id — идентификатор пользователя, отправившего сообщение"
      ]
    },
    {
      "cell_type": "code",
      "execution_count": null,
      "metadata": {
        "colab": {
          "base_uri": "https://localhost:8080/",
          "height": 795
        },
        "id": "VDB-rsdwEcEE",
        "outputId": "698a9db7-0d22-4777-bbf9-85fbfc3001f8"
      },
      "outputs": [
        {
          "data": {
            "text/html": [
              "<div>\n",
              "<style scoped>\n",
              "    .dataframe tbody tr th:only-of-type {\n",
              "        vertical-align: middle;\n",
              "    }\n",
              "\n",
              "    .dataframe tbody tr th {\n",
              "        vertical-align: top;\n",
              "    }\n",
              "\n",
              "    .dataframe thead th {\n",
              "        text-align: right;\n",
              "    }\n",
              "</style>\n",
              "<table border=\"1\" class=\"dataframe\">\n",
              "  <thead>\n",
              "    <tr style=\"text-align: right;\">\n",
              "      <th></th>\n",
              "      <th>id</th>\n",
              "      <th>message_date</th>\n",
              "      <th>user_id</th>\n",
              "    </tr>\n",
              "  </thead>\n",
              "  <tbody>\n",
              "    <tr>\n",
              "      <th>0</th>\n",
              "      <td>1000_0</td>\n",
              "      <td>2018-06-27</td>\n",
              "      <td>1000</td>\n",
              "    </tr>\n",
              "    <tr>\n",
              "      <th>1</th>\n",
              "      <td>1000_1</td>\n",
              "      <td>2018-10-08</td>\n",
              "      <td>1000</td>\n",
              "    </tr>\n",
              "    <tr>\n",
              "      <th>2</th>\n",
              "      <td>1000_2</td>\n",
              "      <td>2018-08-04</td>\n",
              "      <td>1000</td>\n",
              "    </tr>\n",
              "    <tr>\n",
              "      <th>3</th>\n",
              "      <td>1000_3</td>\n",
              "      <td>2018-06-16</td>\n",
              "      <td>1000</td>\n",
              "    </tr>\n",
              "    <tr>\n",
              "      <th>4</th>\n",
              "      <td>1000_4</td>\n",
              "      <td>2018-12-05</td>\n",
              "      <td>1000</td>\n",
              "    </tr>\n",
              "  </tbody>\n",
              "</table>\n",
              "</div>"
            ],
            "text/plain": [
              "       id message_date  user_id\n",
              "0  1000_0   2018-06-27     1000\n",
              "1  1000_1   2018-10-08     1000\n",
              "2  1000_2   2018-08-04     1000\n",
              "3  1000_3   2018-06-16     1000\n",
              "4  1000_4   2018-12-05     1000"
            ]
          },
          "metadata": {},
          "output_type": "display_data"
        },
        {
          "name": "stdout",
          "output_type": "stream",
          "text": [
            "---------------------------------------\n",
            "<class 'pandas.core.frame.DataFrame'>\n",
            "RangeIndex: 123036 entries, 0 to 123035\n",
            "Data columns (total 3 columns):\n",
            " #   Column        Non-Null Count   Dtype \n",
            "---  ------        --------------   ----- \n",
            " 0   id            123036 non-null  object\n",
            " 1   message_date  123036 non-null  object\n",
            " 2   user_id       123036 non-null  int64 \n",
            "dtypes: int64(1), object(2)\n",
            "memory usage: 2.8+ MB\n",
            "None\n",
            "---------------------------------------\n",
            "пропуски:\n",
            "\n",
            " id              0\n",
            "message_date    0\n",
            "user_id         0\n",
            "dtype: int64\n",
            "---------------------------------------\n",
            "дубликаты:\n",
            "\n",
            " 0\n",
            "---------------------------------------\n",
            "имена столбцов:\n",
            "\n",
            " Index(['id', 'message_date', 'user_id'], dtype='object')\n",
            "---------------------------------------\n",
            "\u001b[31m Обратить внимание:\n",
            "\u001b[43m message_date - datetime \n",
            " user_id - скорее всего тип данных нужен object\n"
          ]
        }
      ],
      "source": [
        "display(messages.head(5))\n",
        "print('---------------------------------------')\n",
        "print(messages.info())\n",
        "print('---------------------------------------')\n",
        "print('пропуски:\\n\\n', messages.isna().sum())\n",
        "print('---------------------------------------')\n",
        "print('дубликаты:\\n\\n', messages.duplicated().sum())\n",
        "print('---------------------------------------')\n",
        "print('имена столбцов:\\n\\n', messages.columns)\n",
        "print('---------------------------------------')\n",
        "print('\\033[31m Обратить внимание:')\n",
        "print('\\033[43m message_date - datetime \\n user_id - скорее всего тип данных нужен object')"
      ]
    },
    {
      "cell_type": "markdown",
      "metadata": {
        "id": "mGoLpSQxHW_I"
      },
      "source": [
        "### tariffs"
      ]
    },
    {
      "cell_type": "markdown",
      "metadata": {
        "id": "V_YwwFkEHcQs"
      },
      "source": [
        "**Таблица tariffs (информация о тарифах):**\n",
        "- tariff_name — название тарифа\n",
        "- rub_monthly_fee — ежемесячная абонентская плата в рублях\n",
        "- minutes_included — количество минут разговора в месяц, включённых в абонентскую плату\n",
        "- messages_included — количество сообщений в месяц, включённых в абонентскую плату\n",
        "- mb_per_month_included — объём интернет-трафика, включённого в абонентскую плату (в мегабайтах)\n",
        "- rub_per_minute — стоимость минуты разговора сверх тарифного пакета (например, если в тарифе 100 минут разговора в месяц, то со 101 минуты будет взиматься плата)\n",
        "- rub_per_message — стоимость отправки сообщения сверх тарифного пакета\n",
        "- rub_per_gb — стоимость дополнительного гигабайта интернет-трафика сверх тарифного пакета (1 гигабайт = 1024 мегабайта)"
      ]
    },
    {
      "cell_type": "code",
      "execution_count": null,
      "metadata": {
        "colab": {
          "base_uri": "https://localhost:8080/",
          "height": 1000
        },
        "id": "TRmWQ9qIIwKd",
        "outputId": "21577aca-23e7-4cf1-dcd5-6a7d1055059c"
      },
      "outputs": [
        {
          "data": {
            "text/html": [
              "<div>\n",
              "<style scoped>\n",
              "    .dataframe tbody tr th:only-of-type {\n",
              "        vertical-align: middle;\n",
              "    }\n",
              "\n",
              "    .dataframe tbody tr th {\n",
              "        vertical-align: top;\n",
              "    }\n",
              "\n",
              "    .dataframe thead th {\n",
              "        text-align: right;\n",
              "    }\n",
              "</style>\n",
              "<table border=\"1\" class=\"dataframe\">\n",
              "  <thead>\n",
              "    <tr style=\"text-align: right;\">\n",
              "      <th></th>\n",
              "      <th>messages_included</th>\n",
              "      <th>mb_per_month_included</th>\n",
              "      <th>minutes_included</th>\n",
              "      <th>rub_monthly_fee</th>\n",
              "      <th>rub_per_gb</th>\n",
              "      <th>rub_per_message</th>\n",
              "      <th>rub_per_minute</th>\n",
              "      <th>tariff_name</th>\n",
              "    </tr>\n",
              "  </thead>\n",
              "  <tbody>\n",
              "    <tr>\n",
              "      <th>0</th>\n",
              "      <td>50</td>\n",
              "      <td>15360</td>\n",
              "      <td>500</td>\n",
              "      <td>550</td>\n",
              "      <td>200</td>\n",
              "      <td>3</td>\n",
              "      <td>3</td>\n",
              "      <td>smart</td>\n",
              "    </tr>\n",
              "    <tr>\n",
              "      <th>1</th>\n",
              "      <td>1000</td>\n",
              "      <td>30720</td>\n",
              "      <td>3000</td>\n",
              "      <td>1950</td>\n",
              "      <td>150</td>\n",
              "      <td>1</td>\n",
              "      <td>1</td>\n",
              "      <td>ultra</td>\n",
              "    </tr>\n",
              "  </tbody>\n",
              "</table>\n",
              "</div>"
            ],
            "text/plain": [
              "   messages_included  mb_per_month_included  minutes_included  \\\n",
              "0                 50                  15360               500   \n",
              "1               1000                  30720              3000   \n",
              "\n",
              "   rub_monthly_fee  rub_per_gb  rub_per_message  rub_per_minute tariff_name  \n",
              "0              550         200                3               3       smart  \n",
              "1             1950         150                1               1       ultra  "
            ]
          },
          "metadata": {},
          "output_type": "display_data"
        },
        {
          "name": "stdout",
          "output_type": "stream",
          "text": [
            "---------------------------------------\n",
            "<class 'pandas.core.frame.DataFrame'>\n",
            "RangeIndex: 2 entries, 0 to 1\n",
            "Data columns (total 8 columns):\n",
            " #   Column                 Non-Null Count  Dtype \n",
            "---  ------                 --------------  ----- \n",
            " 0   messages_included      2 non-null      int64 \n",
            " 1   mb_per_month_included  2 non-null      int64 \n",
            " 2   minutes_included       2 non-null      int64 \n",
            " 3   rub_monthly_fee        2 non-null      int64 \n",
            " 4   rub_per_gb             2 non-null      int64 \n",
            " 5   rub_per_message        2 non-null      int64 \n",
            " 6   rub_per_minute         2 non-null      int64 \n",
            " 7   tariff_name            2 non-null      object\n",
            "dtypes: int64(7), object(1)\n",
            "memory usage: 256.0+ bytes\n",
            "None\n",
            "---------------------------------------\n",
            "пропуски:\n",
            "\n",
            " messages_included        0\n",
            "mb_per_month_included    0\n",
            "minutes_included         0\n",
            "rub_monthly_fee          0\n",
            "rub_per_gb               0\n",
            "rub_per_message          0\n",
            "rub_per_minute           0\n",
            "tariff_name              0\n",
            "dtype: int64\n",
            "---------------------------------------\n",
            "дубликаты:\n",
            "\n",
            " 0\n",
            "---------------------------------------\n",
            "имена столбцов:\n",
            "\n",
            " Index(['messages_included', 'mb_per_month_included', 'minutes_included',\n",
            "       'rub_monthly_fee', 'rub_per_gb', 'rub_per_message', 'rub_per_minute',\n",
            "       'tariff_name'],\n",
            "      dtype='object')\n",
            "---------------------------------------\n",
            "уникальные значения:\n",
            "\n",
            " ['smart' 'ultra']\n",
            "---------------------------------------\n"
          ]
        },
        {
          "data": {
            "image/png": "[encoded data removed]",
            "text/plain": [
              "<Figure size 1440x360 with 1 Axes>"
            ]
          },
          "metadata": {
            "needs_background": "light"
          },
          "output_type": "display_data"
        },
        {
          "name": "stdout",
          "output_type": "stream",
          "text": [
            "---------------------------------------\n",
            "\u001b[31m Обратить внимание:\n",
            "\u001b[43m mb_per_month_included - в гб\n"
          ]
        }
      ],
      "source": [
        "display(tariffs.head(5))\n",
        "print('---------------------------------------')\n",
        "print(tariffs.info())\n",
        "print('---------------------------------------')\n",
        "print('пропуски:\\n\\n', tariffs.isna().sum())\n",
        "print('---------------------------------------')\n",
        "print('дубликаты:\\n\\n', tariffs.duplicated().sum())\n",
        "print('---------------------------------------')\n",
        "print('имена столбцов:\\n\\n', tariffs.columns)\n",
        "print('---------------------------------------')\n",
        "print('уникальные значения:\\n\\n', tariffs['tariff_name'].unique())\n",
        "print('---------------------------------------')\n",
        "tariffs.boxplot(figsize=(20,5))\n",
        "plt.title('общий боксплот')\n",
        "plt.show()\n",
        "print('---------------------------------------')\n",
        "print('\\033[31m Обратить внимание:')\n",
        "print('\\033[43m mb_per_month_included - в гб')"
      ]
    },
    {
      "cell_type": "markdown",
      "metadata": {
        "id": "k_KAb9d0zkL1"
      },
      "source": [
        "### users"
      ]
    },
    {
      "cell_type": "markdown",
      "metadata": {
        "id": "8cirF6CezmgQ"
      },
      "source": [
        "**Таблица users (информация о пользователях):**\n",
        "- user_id — уникальный идентификатор пользователя\n",
        "- first_name — имя пользователя\n",
        "- last_name — фамилия пользователя\n",
        "- age — возраст пользователя (годы)\n",
        "- reg_date — дата подключения тарифа (день, месяц, год)\n",
        "- churn_date — дата прекращения пользования тарифом (если значение пропущено, то тариф ещё действовал на момент выгрузки данных)\n",
        "- city — город проживания пользователя\n",
        "- tariff — название тарифного плана"
      ]
    },
    {
      "cell_type": "code",
      "execution_count": null,
      "metadata": {
        "colab": {
          "base_uri": "https://localhost:8080/",
          "height": 1000
        },
        "id": "LskLEW9uz80E",
        "outputId": "42a9d16e-10cb-4ae2-ded9-f6387354f265"
      },
      "outputs": [
        {
          "data": {
            "text/html": [
              "<div>\n",
              "<style scoped>\n",
              "    .dataframe tbody tr th:only-of-type {\n",
              "        vertical-align: middle;\n",
              "    }\n",
              "\n",
              "    .dataframe tbody tr th {\n",
              "        vertical-align: top;\n",
              "    }\n",
              "\n",
              "    .dataframe thead th {\n",
              "        text-align: right;\n",
              "    }\n",
              "</style>\n",
              "<table border=\"1\" class=\"dataframe\">\n",
              "  <thead>\n",
              "    <tr style=\"text-align: right;\">\n",
              "      <th></th>\n",
              "      <th>user_id</th>\n",
              "      <th>age</th>\n",
              "      <th>churn_date</th>\n",
              "      <th>city</th>\n",
              "      <th>first_name</th>\n",
              "      <th>last_name</th>\n",
              "      <th>reg_date</th>\n",
              "      <th>tariff</th>\n",
              "    </tr>\n",
              "  </thead>\n",
              "  <tbody>\n",
              "    <tr>\n",
              "      <th>0</th>\n",
              "      <td>1000</td>\n",
              "      <td>52</td>\n",
              "      <td>NaN</td>\n",
              "      <td>Краснодар</td>\n",
              "      <td>Рафаил</td>\n",
              "      <td>Верещагин</td>\n",
              "      <td>2018-05-25</td>\n",
              "      <td>ultra</td>\n",
              "    </tr>\n",
              "    <tr>\n",
              "      <th>1</th>\n",
              "      <td>1001</td>\n",
              "      <td>41</td>\n",
              "      <td>NaN</td>\n",
              "      <td>Москва</td>\n",
              "      <td>Иван</td>\n",
              "      <td>Ежов</td>\n",
              "      <td>2018-11-01</td>\n",
              "      <td>smart</td>\n",
              "    </tr>\n",
              "    <tr>\n",
              "      <th>2</th>\n",
              "      <td>1002</td>\n",
              "      <td>59</td>\n",
              "      <td>NaN</td>\n",
              "      <td>Стерлитамак</td>\n",
              "      <td>Евгений</td>\n",
              "      <td>Абрамович</td>\n",
              "      <td>2018-06-17</td>\n",
              "      <td>smart</td>\n",
              "    </tr>\n",
              "    <tr>\n",
              "      <th>3</th>\n",
              "      <td>1003</td>\n",
              "      <td>23</td>\n",
              "      <td>NaN</td>\n",
              "      <td>Москва</td>\n",
              "      <td>Белла</td>\n",
              "      <td>Белякова</td>\n",
              "      <td>2018-08-17</td>\n",
              "      <td>ultra</td>\n",
              "    </tr>\n",
              "    <tr>\n",
              "      <th>4</th>\n",
              "      <td>1004</td>\n",
              "      <td>68</td>\n",
              "      <td>NaN</td>\n",
              "      <td>Новокузнецк</td>\n",
              "      <td>Татьяна</td>\n",
              "      <td>Авдеенко</td>\n",
              "      <td>2018-05-14</td>\n",
              "      <td>ultra</td>\n",
              "    </tr>\n",
              "  </tbody>\n",
              "</table>\n",
              "</div>"
            ],
            "text/plain": [
              "   user_id  age churn_date         city first_name  last_name    reg_date  \\\n",
              "0     1000   52        NaN    Краснодар     Рафаил  Верещагин  2018-05-25   \n",
              "1     1001   41        NaN       Москва       Иван       Ежов  2018-11-01   \n",
              "2     1002   59        NaN  Стерлитамак    Евгений  Абрамович  2018-06-17   \n",
              "3     1003   23        NaN       Москва      Белла   Белякова  2018-08-17   \n",
              "4     1004   68        NaN  Новокузнецк    Татьяна   Авдеенко  2018-05-14   \n",
              "\n",
              "  tariff  \n",
              "0  ultra  \n",
              "1  smart  \n",
              "2  smart  \n",
              "3  ultra  \n",
              "4  ultra  "
            ]
          },
          "metadata": {},
          "output_type": "display_data"
        },
        {
          "name": "stdout",
          "output_type": "stream",
          "text": [
            "---------------------------------------\n",
            "<class 'pandas.core.frame.DataFrame'>\n",
            "RangeIndex: 500 entries, 0 to 499\n",
            "Data columns (total 8 columns):\n",
            " #   Column      Non-Null Count  Dtype \n",
            "---  ------      --------------  ----- \n",
            " 0   user_id     500 non-null    int64 \n",
            " 1   age         500 non-null    int64 \n",
            " 2   churn_date  38 non-null     object\n",
            " 3   city        500 non-null    object\n",
            " 4   first_name  500 non-null    object\n",
            " 5   last_name   500 non-null    object\n",
            " 6   reg_date    500 non-null    object\n",
            " 7   tariff      500 non-null    object\n",
            "dtypes: int64(2), object(6)\n",
            "memory usage: 31.4+ KB\n",
            "None\n",
            "---------------------------------------\n",
            "пропуски:\n",
            "\n",
            " user_id         0\n",
            "age             0\n",
            "churn_date    462\n",
            "city            0\n",
            "first_name      0\n",
            "last_name       0\n",
            "reg_date        0\n",
            "tariff          0\n",
            "dtype: int64\n",
            "---------------------------------------\n",
            "дубликаты:\n",
            "\n",
            " 0\n",
            "---------------------------------------\n",
            "имена столбцов:\n",
            "\n",
            " Index(['user_id', 'age', 'churn_date', 'city', 'first_name', 'last_name',\n",
            "       'reg_date', 'tariff'],\n",
            "      dtype='object')\n",
            "---------------------------------------\n",
            "уникальные значения tariff:\n",
            "\n",
            " ['ultra' 'smart']\n",
            "\n",
            "уникальные значения city:\n",
            "\n",
            " ['Краснодар' 'Москва' 'Стерлитамак' 'Новокузнецк' 'Набережные Челны'\n",
            " 'Ульяновск' 'Челябинск' 'Пермь' 'Тюмень' 'Самара' 'Санкт-Петербург'\n",
            " 'Иваново' 'Чебоксары' 'Омск' 'Уфа' 'Томск' 'Чита' 'Мурманск'\n",
            " 'Петрозаводск' 'Тверь' 'Екатеринбург' 'Махачкала' 'Вологда' 'Череповец'\n",
            " 'Ярославль' 'Сочи' 'Хабаровск' 'Ставрополь' 'Рязань' 'Улан-Удэ' 'Тула'\n",
            " 'Саратов' 'Ростов-на-Дону' 'Казань' 'Иркутск' 'Курск' 'Калуга' 'Якутск'\n",
            " 'Астрахань' 'Химки' 'Владикавказ' 'Волгоград' 'Саранск' 'Ижевск'\n",
            " 'Новосибирск' 'Брянск' 'Тольятти' 'Нижний Тагил' 'Орёл' 'Белгород'\n",
            " 'Воронеж' 'Волжский' 'Курган' 'Барнаул' 'Красноярск' 'Архангельск'\n",
            " 'Липецк' 'Кемерово' 'Киров' 'Сургут' 'Пенза' 'Магнитогорск'\n",
            " 'Нижний Новгород' 'Кострома' 'Владивосток' 'Тамбов' 'Балашиха'\n",
            " 'Севастополь' 'Калининград' 'Оренбург' 'Смоленск' 'Нижневартовск'\n",
            " 'Владимир' 'Новороссийск' 'Грозный' 'Подольск']\n",
            "---------------------------------------\n"
          ]
        },
        {
          "data": {
            "image/png": "[encoded data removed]",
            "text/plain": [
              "<Figure size 432x288 with 1 Axes>"
            ]
          },
          "metadata": {
            "needs_background": "light"
          },
          "output_type": "display_data"
        },
        {
          "name": "stdout",
          "output_type": "stream",
          "text": [
            "---------------------------------------\n",
            "count    500.00000\n",
            "mean      46.58800\n",
            "std       16.66763\n",
            "min       18.00000\n",
            "25%       32.00000\n",
            "50%       46.00000\n",
            "75%       62.00000\n",
            "max       75.00000\n",
            "Name: age, dtype: float64\n",
            "---------------------------------------\n",
            "\u001b[31m Обратить внимание:\n",
            "\u001b[43m user_id - скорее всего тип данных нужен object \n",
            " churn_date & reg_date - datetime \n",
            " first_name & last_name - в один столбец\n"
          ]
        }
      ],
      "source": [
        "display(users.head(5))\n",
        "print('---------------------------------------')\n",
        "print(users.info())\n",
        "print('---------------------------------------')\n",
        "print('пропуски:\\n\\n', users.isna().sum())\n",
        "print('---------------------------------------')\n",
        "print('дубликаты:\\n\\n', users.duplicated().sum())\n",
        "print('---------------------------------------')\n",
        "print('имена столбцов:\\n\\n', users.columns)\n",
        "print('---------------------------------------')\n",
        "print('уникальные значения tariff:\\n\\n', users['tariff'].unique())\n",
        "print()\n",
        "print('уникальные значения city:\\n\\n', users['city'].unique())\n",
        "print('---------------------------------------')\n",
        "users.boxplot('age')\n",
        "plt.title('возраст пользователя (годы)')\n",
        "plt.show()\n",
        "print('---------------------------------------')\n",
        "print(users['age'].describe())\n",
        "print('---------------------------------------')\n",
        "print('\\033[31m Обратить внимание:')\n",
        "print('\\033[43m user_id - скорее всего тип данных нужен object \\n churn_date & reg_date - datetime \\n first_name & last_name - в один столбец')"
      ]
    },
    {
      "cell_type": "markdown",
      "metadata": {
        "id": "MX39rccQLzxE"
      },
      "source": [
        "### Вывод:"
      ]
    },
    {
      "cell_type": "markdown",
      "metadata": {
        "id": "OQtLSs71L6Ni"
      },
      "source": [
        "Данные достаточно чистые.\n",
        "\n",
        "Выбросов не заметил\n",
        "\n",
        "В основном нужно поправить тип данных и округлить значения"
      ]
    },
    {
      "cell_type": "markdown",
      "metadata": {
        "id": "Oxr-ekzd7XK9"
      },
      "source": [
        "# Шаг 2. Подготовьте данные"
      ]
    },
    {
      "cell_type": "markdown",
      "metadata": {
        "id": "GmaMA2tG7YqP"
      },
      "source": [
        "- Приведите данные к нужным типам;\n",
        "- Найдите и исправьте ошибки в данных, если они есть.\n",
        "\n",
        "Поясните, какие ошибки вы нашли и как их исправили. В данных вы найдёте звонки с нулевой продолжительностью. Это не ошибка: нулями обозначены пропущенные звонки, поэтому их не нужно удалять.\n",
        "\n",
        "Посчитайте для каждого пользователя:\n",
        "\n",
        "- количество сделанных звонков и израсходованных минут разговора по месяцам;\n",
        "- количество отправленных сообщений по месяцам;\n",
        "- объем израсходованного интернет-трафика по месяцам;\n",
        "- помесячную выручку с каждого пользователя (вычтите бесплатный лимит из суммарного количества звонков, сообщений и интернет-трафика; остаток умножьте на значение из тарифного плана; прибавьте абонентскую плату, соответствующую тарифному плану)."
      ]
    },
    {
      "cell_type": "markdown",
      "metadata": {
        "id": "449t7Zx18lir"
      },
      "source": [
        "### Приведите данные к нужным типам"
      ]
    },
    {
      "cell_type": "code",
      "execution_count": null,
      "metadata": {
        "id": "ms0_1qN98q8_"
      },
      "outputs": [],
      "source": [
        "# datetime\n",
        "\n",
        "calls['call_date'] = pd.to_datetime(calls['call_date'], format='%Y-%m-%d')\n",
        "\n",
        "internet['session_date'] = pd.to_datetime(internet['session_date'], format='%Y-%m-%d')\n",
        "\n",
        "messages['message_date'] = pd.to_datetime(messages['message_date'], format='%Y-%m-%d')\n",
        "\n",
        "users['reg_date'] = pd.to_datetime(users['reg_date'], format='%Y-%m-%d')\n",
        "\n",
        "users['churn_date'] = pd.to_datetime(users['churn_date'], format='%Y-%m-%d')"
      ]
    },
    {
      "cell_type": "markdown",
      "metadata": {
        "id": "m_ZRqpPAHRKs"
      },
      "source": [
        "### Округление минут и мб"
      ]
    },
    {
      "cell_type": "code",
      "execution_count": null,
      "metadata": {
        "colab": {
          "base_uri": "https://localhost:8080/",
          "height": 268
        },
        "id": "Zdb2_vG8FGIF",
        "outputId": "4dff4297-5d8c-4052-8e98-f1425e3def11"
      },
      "outputs": [
        {
          "data": {
            "text/html": [
              "<div>\n",
              "<style scoped>\n",
              "    .dataframe tbody tr th:only-of-type {\n",
              "        vertical-align: middle;\n",
              "    }\n",
              "\n",
              "    .dataframe tbody tr th {\n",
              "        vertical-align: top;\n",
              "    }\n",
              "\n",
              "    .dataframe thead th {\n",
              "        text-align: right;\n",
              "    }\n",
              "</style>\n",
              "<table border=\"1\" class=\"dataframe\">\n",
              "  <thead>\n",
              "    <tr style=\"text-align: right;\">\n",
              "      <th></th>\n",
              "      <th>id</th>\n",
              "      <th>call_date</th>\n",
              "      <th>duration</th>\n",
              "      <th>user_id</th>\n",
              "      <th>duration_min</th>\n",
              "    </tr>\n",
              "  </thead>\n",
              "  <tbody>\n",
              "    <tr>\n",
              "      <th>0</th>\n",
              "      <td>1000_0</td>\n",
              "      <td>2018-07-25</td>\n",
              "      <td>0.00</td>\n",
              "      <td>1000</td>\n",
              "      <td>0</td>\n",
              "    </tr>\n",
              "    <tr>\n",
              "      <th>1</th>\n",
              "      <td>1000_1</td>\n",
              "      <td>2018-08-17</td>\n",
              "      <td>0.00</td>\n",
              "      <td>1000</td>\n",
              "      <td>0</td>\n",
              "    </tr>\n",
              "    <tr>\n",
              "      <th>2</th>\n",
              "      <td>1000_2</td>\n",
              "      <td>2018-06-11</td>\n",
              "      <td>2.85</td>\n",
              "      <td>1000</td>\n",
              "      <td>3</td>\n",
              "    </tr>\n",
              "    <tr>\n",
              "      <th>3</th>\n",
              "      <td>1000_3</td>\n",
              "      <td>2018-09-21</td>\n",
              "      <td>13.80</td>\n",
              "      <td>1000</td>\n",
              "      <td>14</td>\n",
              "    </tr>\n",
              "    <tr>\n",
              "      <th>4</th>\n",
              "      <td>1000_4</td>\n",
              "      <td>2018-12-15</td>\n",
              "      <td>5.18</td>\n",
              "      <td>1000</td>\n",
              "      <td>6</td>\n",
              "    </tr>\n",
              "  </tbody>\n",
              "</table>\n",
              "</div>"
            ],
            "text/plain": [
              "       id  call_date  duration  user_id  duration_min\n",
              "0  1000_0 2018-07-25      0.00     1000             0\n",
              "1  1000_1 2018-08-17      0.00     1000             0\n",
              "2  1000_2 2018-06-11      2.85     1000             3\n",
              "3  1000_3 2018-09-21     13.80     1000            14\n",
              "4  1000_4 2018-12-15      5.18     1000             6"
            ]
          },
          "execution_count": 12,
          "metadata": {},
          "output_type": "execute_result"
        }
      ],
      "source": [
        "# округлить calls['duration'] до минут в большую сторону\n",
        "\n",
        "calls['duration_min'] = np.ceil(calls['duration']).astype('int')\n",
        "\n",
        "calls.head()"
      ]
    },
    {
      "cell_type": "code",
      "execution_count": null,
      "metadata": {
        "colab": {
          "base_uri": "https://localhost:8080/"
        },
        "id": "w4HVSe7lCwQN",
        "outputId": "81605319-c79e-48ed-97dd-016d540ca1a4"
      },
      "outputs": [
        {
          "data": {
            "text/plain": [
              "Unnamed: 0      0\n",
              "id              0\n",
              "mb_used         0\n",
              "session_date    0\n",
              "user_id         0\n",
              "gb_used         0\n",
              "dtype: int64"
            ]
          },
          "execution_count": 13,
          "metadata": {},
          "output_type": "execute_result"
        }
      ],
      "source": [
        "# округлить internet['mb_used'] до гб в большую сторону\n",
        "\n",
        "internet['gb_used'] = np.ceil(internet['mb_used'] / 1024).astype('int')\n",
        "\n",
        "internet.head(5)\n",
        "internet.isna().sum()"
      ]
    },
    {
      "cell_type": "markdown",
      "metadata": {
        "id": "PKHN7KztEfCQ"
      },
      "source": [
        "### Найдите и исправьте ошибки в данных, если они есть.\n",
        "\n",
        "Поясните, какие ошибки вы нашли и как их исправили. В данных вы найдёте звонки с нулевой продолжительностью. Это не ошибка: нулями обозначены пропущенные звонки, поэтому их не нужно удалять."
      ]
    },
    {
      "cell_type": "code",
      "execution_count": null,
      "metadata": {
        "colab": {
          "base_uri": "https://localhost:8080/",
          "height": 88
        },
        "id": "33Ltx7nJHrw8",
        "outputId": "513ec8d4-349b-4b1b-c3a8-9359ebf019d1"
      },
      "outputs": [
        {
          "data": {
            "image/png": "[encoded data removed]",
            "text/plain": [
              "<Figure size 1440x360 with 1 Axes>"
            ]
          },
          "metadata": {
            "needs_background": "light"
          },
          "output_type": "display_data"
        },
        {
          "name": "stdout",
          "output_type": "stream",
          "text": [
            "\n",
            "Есть выбросы, но это я небуду считать их за ошибки\n"
          ]
        }
      ],
      "source": [
        "calls['duration_min'].plot(\n",
        "    grid=True,\n",
        "    style='o-',\n",
        "    figsize=(20, 5)\n",
        "    )\n",
        "plt.title('длительность звонка')\n",
        "plt.xlabel('звонки')\n",
        "plt.ylabel('длительность')\n",
        "plt.show()\n",
        "print()\n",
        "print('Есть выбросы, но я не буду считать их за ошибки')"
      ]
    },
    {
      "cell_type": "markdown",
      "metadata": {
        "id": "I891sLH_Ety-"
      },
      "source": [
        "4.06.2022 на данном этапе я не вижу ошибок"
      ]
    },
    {
      "cell_type": "markdown",
      "metadata": {
        "id": "r0Yeokk-wLsO"
      },
      "source": [
        "### Определение гендера по имени"
      ]
    },
    {
      "cell_type": "markdown",
      "metadata": {
        "id": "ninhUG4j4B5u"
      },
      "source": [
        "есть несколько сексистких предрассудков котырые нужно проверить"
      ]
    },
    {
      "cell_type": "code",
      "execution_count": null,
      "metadata": {
        "colab": {
          "base_uri": "https://localhost:8080/",
          "height": 746
        },
        "id": "YeJPPCJatC1q",
        "outputId": "2294f507-2853-44b3-8217-008e77babb9b"
      },
      "outputs": [
        {
          "data": {
            "text/html": [
              "<div>\n",
              "<style scoped>\n",
              "    .dataframe tbody tr th:only-of-type {\n",
              "        vertical-align: middle;\n",
              "    }\n",
              "\n",
              "    .dataframe tbody tr th {\n",
              "        vertical-align: top;\n",
              "    }\n",
              "\n",
              "    .dataframe thead th {\n",
              "        text-align: right;\n",
              "    }\n",
              "</style>\n",
              "<table border=\"1\" class=\"dataframe\">\n",
              "  <thead>\n",
              "    <tr style=\"text-align: right;\">\n",
              "      <th></th>\n",
              "      <th>user_id</th>\n",
              "      <th>age</th>\n",
              "      <th>churn_date</th>\n",
              "      <th>city</th>\n",
              "      <th>first_name</th>\n",
              "      <th>last_name</th>\n",
              "      <th>reg_date</th>\n",
              "      <th>tariff</th>\n",
              "      <th>gender</th>\n",
              "    </tr>\n",
              "  </thead>\n",
              "  <tbody>\n",
              "    <tr>\n",
              "      <th>0</th>\n",
              "      <td>1000</td>\n",
              "      <td>52</td>\n",
              "      <td>NaT</td>\n",
              "      <td>Краснодар</td>\n",
              "      <td>Рафаил</td>\n",
              "      <td>Верещагин</td>\n",
              "      <td>2018-05-25</td>\n",
              "      <td>ultra</td>\n",
              "      <td>male</td>\n",
              "    </tr>\n",
              "    <tr>\n",
              "      <th>1</th>\n",
              "      <td>1001</td>\n",
              "      <td>41</td>\n",
              "      <td>NaT</td>\n",
              "      <td>Москва</td>\n",
              "      <td>Иван</td>\n",
              "      <td>Ежов</td>\n",
              "      <td>2018-11-01</td>\n",
              "      <td>smart</td>\n",
              "      <td>male</td>\n",
              "    </tr>\n",
              "    <tr>\n",
              "      <th>2</th>\n",
              "      <td>1002</td>\n",
              "      <td>59</td>\n",
              "      <td>NaT</td>\n",
              "      <td>Стерлитамак</td>\n",
              "      <td>Евгений</td>\n",
              "      <td>Абрамович</td>\n",
              "      <td>2018-06-17</td>\n",
              "      <td>smart</td>\n",
              "      <td>male</td>\n",
              "    </tr>\n",
              "    <tr>\n",
              "      <th>3</th>\n",
              "      <td>1003</td>\n",
              "      <td>23</td>\n",
              "      <td>NaT</td>\n",
              "      <td>Москва</td>\n",
              "      <td>Белла</td>\n",
              "      <td>Белякова</td>\n",
              "      <td>2018-08-17</td>\n",
              "      <td>ultra</td>\n",
              "      <td>female</td>\n",
              "    </tr>\n",
              "    <tr>\n",
              "      <th>4</th>\n",
              "      <td>1004</td>\n",
              "      <td>68</td>\n",
              "      <td>NaT</td>\n",
              "      <td>Новокузнецк</td>\n",
              "      <td>Татьяна</td>\n",
              "      <td>Авдеенко</td>\n",
              "      <td>2018-05-14</td>\n",
              "      <td>ultra</td>\n",
              "      <td>unknown</td>\n",
              "    </tr>\n",
              "    <tr>\n",
              "      <th>5</th>\n",
              "      <td>1005</td>\n",
              "      <td>67</td>\n",
              "      <td>NaT</td>\n",
              "      <td>Набережные Челны</td>\n",
              "      <td>Афанасий</td>\n",
              "      <td>Горлов</td>\n",
              "      <td>2018-01-25</td>\n",
              "      <td>smart</td>\n",
              "      <td>unknown</td>\n",
              "    </tr>\n",
              "    <tr>\n",
              "      <th>6</th>\n",
              "      <td>1006</td>\n",
              "      <td>21</td>\n",
              "      <td>NaT</td>\n",
              "      <td>Ульяновск</td>\n",
              "      <td>Леонид</td>\n",
              "      <td>Ермолаев</td>\n",
              "      <td>2018-02-26</td>\n",
              "      <td>smart</td>\n",
              "      <td>male</td>\n",
              "    </tr>\n",
              "    <tr>\n",
              "      <th>7</th>\n",
              "      <td>1007</td>\n",
              "      <td>65</td>\n",
              "      <td>NaT</td>\n",
              "      <td>Москва</td>\n",
              "      <td>Юна</td>\n",
              "      <td>Березина</td>\n",
              "      <td>2018-04-19</td>\n",
              "      <td>smart</td>\n",
              "      <td>female</td>\n",
              "    </tr>\n",
              "    <tr>\n",
              "      <th>8</th>\n",
              "      <td>1008</td>\n",
              "      <td>63</td>\n",
              "      <td>NaT</td>\n",
              "      <td>Челябинск</td>\n",
              "      <td>Рустэм</td>\n",
              "      <td>Пономарёв</td>\n",
              "      <td>2018-12-19</td>\n",
              "      <td>smart</td>\n",
              "      <td>male</td>\n",
              "    </tr>\n",
              "    <tr>\n",
              "      <th>9</th>\n",
              "      <td>1009</td>\n",
              "      <td>24</td>\n",
              "      <td>NaT</td>\n",
              "      <td>Пермь</td>\n",
              "      <td>Василиса</td>\n",
              "      <td>Блинова</td>\n",
              "      <td>2018-03-22</td>\n",
              "      <td>smart</td>\n",
              "      <td>female</td>\n",
              "    </tr>\n",
              "  </tbody>\n",
              "</table>\n",
              "</div>"
            ],
            "text/plain": [
              "   user_id  age churn_date              city first_name  last_name   reg_date  \\\n",
              "0     1000   52        NaT         Краснодар     Рафаил  Верещагин 2018-05-25   \n",
              "1     1001   41        NaT            Москва       Иван       Ежов 2018-11-01   \n",
              "2     1002   59        NaT       Стерлитамак    Евгений  Абрамович 2018-06-17   \n",
              "3     1003   23        NaT            Москва      Белла   Белякова 2018-08-17   \n",
              "4     1004   68        NaT       Новокузнецк    Татьяна   Авдеенко 2018-05-14   \n",
              "5     1005   67        NaT  Набережные Челны   Афанасий     Горлов 2018-01-25   \n",
              "6     1006   21        NaT         Ульяновск     Леонид   Ермолаев 2018-02-26   \n",
              "7     1007   65        NaT            Москва        Юна   Березина 2018-04-19   \n",
              "8     1008   63        NaT         Челябинск     Рустэм  Пономарёв 2018-12-19   \n",
              "9     1009   24        NaT             Пермь   Василиса    Блинова 2018-03-22   \n",
              "\n",
              "  tariff   gender  \n",
              "0  ultra     male  \n",
              "1  smart     male  \n",
              "2  smart     male  \n",
              "3  ultra   female  \n",
              "4  ultra  unknown  \n",
              "5  smart  unknown  \n",
              "6  smart     male  \n",
              "7  smart   female  \n",
              "8  smart     male  \n",
              "9  smart   female  "
            ]
          },
          "metadata": {},
          "output_type": "display_data"
        },
        {
          "name": "stdout",
          "output_type": "stream",
          "text": [
            "['Татьяна' 'Афанасий' 'Марица' 'Матвей' 'Игнатий' 'Лаврентий' 'Изольда'\n",
            " 'Агнесса' 'Иннокентий' 'Джемма' 'Милица' 'Габриель' 'Ренальд' 'Лукий'\n",
            " 'Таира' 'Гордей' 'Эльза' 'Гектор' 'Рафаэль' 'Еремей' 'Софья' 'Авксентий'\n",
            " 'Ириней' 'Гелена' 'Аюна' 'Эльвира' 'Габриэль' 'Арнольд' 'Альберта'\n",
            " 'Альбин' 'Марьяна' 'Клариса' 'Майя' 'Игорь' 'Эльга' 'Геральд' 'Агафья'\n",
            " 'Наталья' 'Рауль' 'Демьян' 'Евфросинья' 'Гайдар' 'Артемий' 'Ермолай'\n",
            " 'Кузьма' 'Касьян' 'Мальвина' 'Мстислав' 'Аксён' 'Альфред' 'Тихон' 'Илья'\n",
            " 'Рудольф' 'Эсмеральда' 'Дайна' 'Джозефина' 'Фаддей' 'Герасим' 'Геодар'\n",
            " 'Эльмира' 'Джулия']\n"
          ]
        }
      ],
      "source": [
        "def trans(t):\n",
        "  name = t['first_name']\n",
        "  return translit_ru(name, reversed=True)\n",
        "users['trans'] = users.apply(trans, axis=1)\n",
        "\n",
        "users['gender'] = users['trans'].map(gd.get_gender)\n",
        "users = users.drop(\n",
        "    columns=['trans']\n",
        "    )\n",
        "display(users.head(10))\n",
        "\n",
        "# что-то нужно сделать с неопределившимимся\n",
        "\n",
        "test = users.query('gender == \"unknown\"')\n",
        "\n",
        "print(test['first_name'].unique())"
      ]
    },
    {
      "cell_type": "code",
      "execution_count": null,
      "metadata": {
        "id": "ukbPU27bYn0g"
      },
      "outputs": [],
      "source": [
        "names = pd.DataFrame({\n",
        "    'woman': ['Татьяна', 'Марица', 'Изольда', 'Агнесса',\n",
        "              'Джемма', 'Милица', 'Таира',\n",
        "              'Эльза', 'Софья', 'Гелена', 'Аюна', 'Эльвира',\n",
        "              'Габриэль', 'Альберта', 'Альбин', 'Марьяна',\n",
        "              'Клариса', 'Майя', 'Эльга', 'Агафья', 'Наталья',\n",
        "              'Евфросинья', 'Мальвина', 'Эсмеральда', 'Дайна',\n",
        "              'Джозефина', 'Эльмира', 'Джулия', 'x', 'x',\n",
        "              'x', 'x', 'x', 'x', 'x'],\n",
        "    'man': ['Афанасий', 'Матвей', 'Игнатий', 'Лаврентий',\n",
        "            'Иннокентий', 'Ренальд', 'Лукий',\n",
        "            'Гордей', 'Гектор', 'Рафаэль', 'Еремей', 'Авксентий',\n",
        "            'Ириней', 'Габриэль', 'Арнольд', 'Альбин',\n",
        "            'Игорь', 'Геральд', 'Рауль', 'Демьян', 'Гайдар',\n",
        "            'Артемий', 'Ермолай', 'Кузьма', 'Касьян', 'Мстислав',\n",
        "            'Аксён', 'Альфред', 'Тихон', 'Илья', 'Рудольф', 'Фаддей',\n",
        "            'Герасим', 'Геодар', 'Габриель']\n",
        "})\n",
        "\n",
        "for i in users['first_name']:\n",
        "  for x in names['woman']:\n",
        "    if i == x:\n",
        "      users.loc[users[\"first_name\"] == x, \"gender\"] = 'female'\n",
        "\n",
        "for i in users['first_name']:\n",
        "  for x in names['man']:\n",
        "    if i == x:\n",
        "      users.loc[users[\"first_name\"] == x, \"gender\"] = 'male'"
      ]
    },
    {
      "cell_type": "code",
      "execution_count": null,
      "metadata": {
        "colab": {
          "base_uri": "https://localhost:8080/",
          "height": 405
        },
        "id": "Qmlp_WC3688Q",
        "outputId": "def8efcf-f017-4c9a-c38a-eec6392cc3d2"
      },
      "outputs": [
        {
          "name": "stdout",
          "output_type": "stream",
          "text": [
            "['male' 'female' 'mostly_female' 'mostly_male']\n",
            "\n"
          ]
        },
        {
          "data": {
            "text/html": [
              "<div>\n",
              "<style scoped>\n",
              "    .dataframe tbody tr th:only-of-type {\n",
              "        vertical-align: middle;\n",
              "    }\n",
              "\n",
              "    .dataframe tbody tr th {\n",
              "        vertical-align: top;\n",
              "    }\n",
              "\n",
              "    .dataframe thead th {\n",
              "        text-align: right;\n",
              "    }\n",
              "</style>\n",
              "<table border=\"1\" class=\"dataframe\">\n",
              "  <thead>\n",
              "    <tr style=\"text-align: right;\">\n",
              "      <th></th>\n",
              "      <th>user_id</th>\n",
              "      <th>age</th>\n",
              "      <th>churn_date</th>\n",
              "      <th>city</th>\n",
              "      <th>first_name</th>\n",
              "      <th>last_name</th>\n",
              "      <th>reg_date</th>\n",
              "      <th>tariff</th>\n",
              "      <th>gender</th>\n",
              "    </tr>\n",
              "  </thead>\n",
              "  <tbody>\n",
              "    <tr>\n",
              "      <th>68</th>\n",
              "      <td>1068</td>\n",
              "      <td>34</td>\n",
              "      <td>NaT</td>\n",
              "      <td>Москва</td>\n",
              "      <td>Ким</td>\n",
              "      <td>Демьянов</td>\n",
              "      <td>2018-07-16</td>\n",
              "      <td>smart</td>\n",
              "      <td>mostly_female</td>\n",
              "    </tr>\n",
              "    <tr>\n",
              "      <th>137</th>\n",
              "      <td>1137</td>\n",
              "      <td>64</td>\n",
              "      <td>NaT</td>\n",
              "      <td>Кемерово</td>\n",
              "      <td>Ким</td>\n",
              "      <td>Артёшин</td>\n",
              "      <td>2018-12-02</td>\n",
              "      <td>smart</td>\n",
              "      <td>mostly_female</td>\n",
              "    </tr>\n",
              "  </tbody>\n",
              "</table>\n",
              "</div>"
            ],
            "text/plain": [
              "     user_id  age churn_date      city first_name last_name   reg_date tariff  \\\n",
              "68      1068   34        NaT    Москва        Ким  Демьянов 2018-07-16  smart   \n",
              "137     1137   64        NaT  Кемерово        Ким   Артёшин 2018-12-02  smart   \n",
              "\n",
              "            gender  \n",
              "68   mostly_female  \n",
              "137  mostly_female  "
            ]
          },
          "metadata": {},
          "output_type": "display_data"
        },
        {
          "data": {
            "text/html": [
              "<div>\n",
              "<style scoped>\n",
              "    .dataframe tbody tr th:only-of-type {\n",
              "        vertical-align: middle;\n",
              "    }\n",
              "\n",
              "    .dataframe tbody tr th {\n",
              "        vertical-align: top;\n",
              "    }\n",
              "\n",
              "    .dataframe thead th {\n",
              "        text-align: right;\n",
              "    }\n",
              "</style>\n",
              "<table border=\"1\" class=\"dataframe\">\n",
              "  <thead>\n",
              "    <tr style=\"text-align: right;\">\n",
              "      <th></th>\n",
              "      <th>user_id</th>\n",
              "      <th>age</th>\n",
              "      <th>churn_date</th>\n",
              "      <th>city</th>\n",
              "      <th>first_name</th>\n",
              "      <th>last_name</th>\n",
              "      <th>reg_date</th>\n",
              "      <th>tariff</th>\n",
              "      <th>gender</th>\n",
              "    </tr>\n",
              "  </thead>\n",
              "  <tbody>\n",
              "    <tr>\n",
              "      <th>301</th>\n",
              "      <td>1301</td>\n",
              "      <td>26</td>\n",
              "      <td>NaT</td>\n",
              "      <td>Махачкала</td>\n",
              "      <td>Наида</td>\n",
              "      <td>Авраменко</td>\n",
              "      <td>2018-09-27</td>\n",
              "      <td>smart</td>\n",
              "      <td>mostly_male</td>\n",
              "    </tr>\n",
              "    <tr>\n",
              "      <th>472</th>\n",
              "      <td>1472</td>\n",
              "      <td>53</td>\n",
              "      <td>NaT</td>\n",
              "      <td>Ярославль</td>\n",
              "      <td>Наида</td>\n",
              "      <td>Боброва</td>\n",
              "      <td>2018-01-18</td>\n",
              "      <td>smart</td>\n",
              "      <td>mostly_male</td>\n",
              "    </tr>\n",
              "  </tbody>\n",
              "</table>\n",
              "</div>"
            ],
            "text/plain": [
              "     user_id  age churn_date       city first_name  last_name   reg_date  \\\n",
              "301     1301   26        NaT  Махачкала      Наида  Авраменко 2018-09-27   \n",
              "472     1472   53        NaT  Ярославль      Наида    Боброва 2018-01-18   \n",
              "\n",
              "    tariff       gender  \n",
              "301  smart  mostly_male  \n",
              "472  smart  mostly_male  "
            ]
          },
          "metadata": {},
          "output_type": "display_data"
        },
        {
          "name": "stdout",
          "output_type": "stream",
          "text": [
            "\n",
            "['male' 'female']\n"
          ]
        }
      ],
      "source": [
        "print(users['gender'].unique())\n",
        "print()\n",
        "display(users.query('gender == \"mostly_female\"'))\n",
        "display(users.query('gender == \"mostly_male\"'))\n",
        "users = users.replace('mostly_male', 'female')\n",
        "users = users.replace('mostly_female', 'male')\n",
        "print()\n",
        "print(users['gender'].unique())"
      ]
    },
    {
      "cell_type": "markdown",
      "metadata": {
        "id": "VMRrWbdtE__X"
      },
      "source": [
        "### Посчитайте для каждого пользователя:\n"
      ]
    },
    {
      "cell_type": "markdown",
      "metadata": {
        "id": "JteM5iO2FBvl"
      },
      "source": [
        "#### - количество сделанных звонков и израсходованных минут разговора по месяцам;"
      ]
    },
    {
      "cell_type": "code",
      "execution_count": null,
      "metadata": {
        "colab": {
          "base_uri": "https://localhost:8080/",
          "height": 423
        },
        "id": "U6RuzrZSmQ9M",
        "outputId": "d79e7ce9-c3b2-4971-9c62-6841303f5445"
      },
      "outputs": [
        {
          "data": {
            "text/html": [
              "<div>\n",
              "<style scoped>\n",
              "    .dataframe tbody tr th:only-of-type {\n",
              "        vertical-align: middle;\n",
              "    }\n",
              "\n",
              "    .dataframe tbody tr th {\n",
              "        vertical-align: top;\n",
              "    }\n",
              "\n",
              "    .dataframe thead th {\n",
              "        text-align: right;\n",
              "    }\n",
              "</style>\n",
              "<table border=\"1\" class=\"dataframe\">\n",
              "  <thead>\n",
              "    <tr style=\"text-align: right;\">\n",
              "      <th></th>\n",
              "      <th>month</th>\n",
              "      <th>month_name</th>\n",
              "      <th>user_id</th>\n",
              "      <th>quantity_calls</th>\n",
              "      <th>total_duration</th>\n",
              "    </tr>\n",
              "  </thead>\n",
              "  <tbody>\n",
              "    <tr>\n",
              "      <th>0</th>\n",
              "      <td>1</td>\n",
              "      <td>January</td>\n",
              "      <td>1005</td>\n",
              "      <td>15</td>\n",
              "      <td>90.93</td>\n",
              "    </tr>\n",
              "    <tr>\n",
              "      <th>1</th>\n",
              "      <td>1</td>\n",
              "      <td>January</td>\n",
              "      <td>1032</td>\n",
              "      <td>61</td>\n",
              "      <td>359.16</td>\n",
              "    </tr>\n",
              "    <tr>\n",
              "      <th>2</th>\n",
              "      <td>1</td>\n",
              "      <td>January</td>\n",
              "      <td>1045</td>\n",
              "      <td>1</td>\n",
              "      <td>8.33</td>\n",
              "    </tr>\n",
              "    <tr>\n",
              "      <th>3</th>\n",
              "      <td>1</td>\n",
              "      <td>January</td>\n",
              "      <td>1055</td>\n",
              "      <td>64</td>\n",
              "      <td>527.95</td>\n",
              "    </tr>\n",
              "    <tr>\n",
              "      <th>4</th>\n",
              "      <td>1</td>\n",
              "      <td>January</td>\n",
              "      <td>1071</td>\n",
              "      <td>24</td>\n",
              "      <td>183.96</td>\n",
              "    </tr>\n",
              "    <tr>\n",
              "      <th>5</th>\n",
              "      <td>1</td>\n",
              "      <td>January</td>\n",
              "      <td>1113</td>\n",
              "      <td>18</td>\n",
              "      <td>104.60</td>\n",
              "    </tr>\n",
              "    <tr>\n",
              "      <th>6</th>\n",
              "      <td>1</td>\n",
              "      <td>January</td>\n",
              "      <td>1120</td>\n",
              "      <td>5</td>\n",
              "      <td>52.72</td>\n",
              "    </tr>\n",
              "    <tr>\n",
              "      <th>7</th>\n",
              "      <td>1</td>\n",
              "      <td>January</td>\n",
              "      <td>1126</td>\n",
              "      <td>35</td>\n",
              "      <td>258.44</td>\n",
              "    </tr>\n",
              "    <tr>\n",
              "      <th>8</th>\n",
              "      <td>1</td>\n",
              "      <td>January</td>\n",
              "      <td>1134</td>\n",
              "      <td>42</td>\n",
              "      <td>313.81</td>\n",
              "    </tr>\n",
              "    <tr>\n",
              "      <th>9</th>\n",
              "      <td>1</td>\n",
              "      <td>January</td>\n",
              "      <td>1135</td>\n",
              "      <td>9</td>\n",
              "      <td>85.77</td>\n",
              "    </tr>\n",
              "  </tbody>\n",
              "</table>\n",
              "</div>"
            ],
            "text/plain": [
              "   month month_name  user_id  quantity_calls  total_duration\n",
              "0      1    January     1005              15           90.93\n",
              "1      1    January     1032              61          359.16\n",
              "2      1    January     1045               1            8.33\n",
              "3      1    January     1055              64          527.95\n",
              "4      1    January     1071              24          183.96\n",
              "5      1    January     1113              18          104.60\n",
              "6      1    January     1120               5           52.72\n",
              "7      1    January     1126              35          258.44\n",
              "8      1    January     1134              42          313.81\n",
              "9      1    January     1135               9           85.77"
            ]
          },
          "execution_count": 18,
          "metadata": {},
          "output_type": "execute_result"
        }
      ],
      "source": [
        "# добавлю имя месяца\n",
        "\n",
        "calls['month_name'] = calls['call_date'].dt.month_name()\n",
        "calls['month'] = pd.DatetimeIndex(calls['call_date']).month\n",
        "\n",
        "# пивот\n",
        "\n",
        "calls_pivot = calls.pivot_table(\n",
        "    index=['month', 'month_name', 'user_id'],\n",
        "    values='duration',\n",
        "    aggfunc=['count', 'sum']\n",
        "    )\n",
        "\n",
        "calls_pivot.columns = ['quantity_calls', 'total_duration'] \n",
        "\n",
        "# quantity_calls - количество звонков\n",
        "# total_duration - общее время всех звонков\n",
        "\n",
        "calls_pivot = calls_pivot.reset_index() ###\n",
        "\n",
        "calls_pivot.head(10)"
      ]
    },
    {
      "cell_type": "markdown",
      "metadata": {
        "id": "-Bwgm5cwFSsz"
      },
      "source": [
        "#### - количество отправленных сообщений по месяцам;"
      ]
    },
    {
      "cell_type": "code",
      "execution_count": null,
      "metadata": {
        "colab": {
          "base_uri": "https://localhost:8080/",
          "height": 268
        },
        "id": "xrGCjh-rFUtL",
        "outputId": "15dcf8fc-8058-432d-8046-187dd563abaa"
      },
      "outputs": [
        {
          "data": {
            "text/html": [
              "<div>\n",
              "<style scoped>\n",
              "    .dataframe tbody tr th:only-of-type {\n",
              "        vertical-align: middle;\n",
              "    }\n",
              "\n",
              "    .dataframe tbody tr th {\n",
              "        vertical-align: top;\n",
              "    }\n",
              "\n",
              "    .dataframe thead th {\n",
              "        text-align: right;\n",
              "    }\n",
              "</style>\n",
              "<table border=\"1\" class=\"dataframe\">\n",
              "  <thead>\n",
              "    <tr style=\"text-align: right;\">\n",
              "      <th></th>\n",
              "      <th>month</th>\n",
              "      <th>month_name</th>\n",
              "      <th>user_id</th>\n",
              "      <th>quantity_messages</th>\n",
              "    </tr>\n",
              "  </thead>\n",
              "  <tbody>\n",
              "    <tr>\n",
              "      <th>0</th>\n",
              "      <td>1</td>\n",
              "      <td>January</td>\n",
              "      <td>1005</td>\n",
              "      <td>7</td>\n",
              "    </tr>\n",
              "    <tr>\n",
              "      <th>1</th>\n",
              "      <td>1</td>\n",
              "      <td>January</td>\n",
              "      <td>1032</td>\n",
              "      <td>38</td>\n",
              "    </tr>\n",
              "    <tr>\n",
              "      <th>2</th>\n",
              "      <td>1</td>\n",
              "      <td>January</td>\n",
              "      <td>1045</td>\n",
              "      <td>5</td>\n",
              "    </tr>\n",
              "    <tr>\n",
              "      <th>3</th>\n",
              "      <td>1</td>\n",
              "      <td>January</td>\n",
              "      <td>1055</td>\n",
              "      <td>30</td>\n",
              "    </tr>\n",
              "    <tr>\n",
              "      <th>4</th>\n",
              "      <td>1</td>\n",
              "      <td>January</td>\n",
              "      <td>1071</td>\n",
              "      <td>16</td>\n",
              "    </tr>\n",
              "  </tbody>\n",
              "</table>\n",
              "</div>"
            ],
            "text/plain": [
              "   month month_name  user_id  quantity_messages\n",
              "0      1    January     1005                  7\n",
              "1      1    January     1032                 38\n",
              "2      1    January     1045                  5\n",
              "3      1    January     1055                 30\n",
              "4      1    January     1071                 16"
            ]
          },
          "execution_count": 19,
          "metadata": {},
          "output_type": "execute_result"
        }
      ],
      "source": [
        "# добавлю имя месяца\n",
        "\n",
        "messages['month_name'] = messages['message_date'].dt.month_name()\n",
        "messages['month'] = pd.DatetimeIndex(messages['message_date']).month\n",
        "\n",
        "# пивот\n",
        "\n",
        "messages_pivot = messages.pivot_table(\n",
        "    index=['month', 'month_name', 'user_id'],\n",
        "    values='id',\n",
        "    aggfunc=['count']\n",
        "    )\n",
        "\n",
        "messages_pivot.columns = ['quantity_messages'] \n",
        "\n",
        "# quantity_messages - количество сообщений\n",
        "\n",
        "\n",
        "messages_pivot = messages_pivot.reset_index() ###\n",
        "\n",
        "messages_pivot.head(5)"
      ]
    },
    {
      "cell_type": "markdown",
      "metadata": {
        "id": "-J7Hv3eYFY6z"
      },
      "source": [
        "#### - объем израсходованного интернет-трафика по месяцам;"
      ]
    },
    {
      "cell_type": "code",
      "execution_count": null,
      "metadata": {
        "colab": {
          "base_uri": "https://localhost:8080/"
        },
        "id": "DvfXQ6WOFasF",
        "outputId": "d8ea38e0-1150-468a-91b3-ed157d598843"
      },
      "outputs": [
        {
          "data": {
            "text/plain": [
              "month                  0\n",
              "month_name             0\n",
              "user_id                0\n",
              "quantity_traffic_mb    0\n",
              "dtype: int64"
            ]
          },
          "execution_count": 20,
          "metadata": {},
          "output_type": "execute_result"
        }
      ],
      "source": [
        "# добавлю имя месяца\n",
        "\n",
        "internet['month_name'] = internet['session_date'].dt.month_name()\n",
        "internet['month'] = pd.DatetimeIndex(internet['session_date']).month\n",
        "\n",
        "# пивот\n",
        "\n",
        "internet_pivot = internet.pivot_table(\n",
        "    index=['month', 'month_name', 'user_id'],\n",
        "    values='mb_used',\n",
        "    aggfunc=['sum']\n",
        "    )\n",
        "\n",
        "internet_pivot.columns = ['quantity_traffic_mb'] \n",
        "\n",
        "# quantity_messages - количество трафика в мб\n",
        "\n",
        "internet_pivot = internet_pivot.reset_index() ###\n",
        "\n",
        "internet_pivot.head(5)\n",
        "internet_pivot.isna().sum()"
      ]
    },
    {
      "cell_type": "markdown",
      "metadata": {
        "id": "HliU0AQxvrUK"
      },
      "source": [
        "### помесячную выручку с каждого пользователя (вычтите бесплатный лимит из суммарного количества звонков, сообщений и интернет-трафика; остаток умножьте на значение из тарифного плана; прибавьте абонентскую плату, соответствующую тарифному плану)."
      ]
    },
    {
      "cell_type": "markdown",
      "metadata": {
        "id": "sfVonSuon5Nx"
      },
      "source": [
        "#### создание общего df"
      ]
    },
    {
      "cell_type": "code",
      "execution_count": null,
      "metadata": {
        "id": "cl4CVb5pFg7K"
      },
      "outputs": [],
      "source": [
        "# # соберу все пивотики вместе\n",
        "# print()\n",
        "# print('c помощью join')\n",
        "# print()\n",
        "# df_join = calls_pivot.join([messages_pivot, internet_pivot])#.reset_index()\n",
        "\n",
        "# display(df_join.head(5))\n",
        "# print(df_join.info())\n",
        "# print(df_join.isna().sum())"
      ]
    },
    {
      "cell_type": "code",
      "execution_count": null,
      "metadata": {
        "colab": {
          "base_uri": "https://localhost:8080/"
        },
        "id": "s7tWeQcRGFNq",
        "outputId": "cb1f28af-2a5c-49f5-c3ee-044b59ef8f3a"
      },
      "outputs": [
        {
          "name": "stdout",
          "output_type": "stream",
          "text": [
            "c помощью merge\n",
            "\n"
          ]
        },
        {
          "data": {
            "text/plain": [
              "user_id                   0\n",
              "age                       0\n",
              "churn_date             3027\n",
              "city                      0\n",
              "first_name                0\n",
              "last_name                 0\n",
              "reg_date                  0\n",
              "tariff                    0\n",
              "gender                    0\n",
              "month                     2\n",
              "month_name                2\n",
              "quantity_traffic_mb      13\n",
              "quantity_calls           42\n",
              "total_duration           42\n",
              "quantity_messages       499\n",
              "dtype: int64"
            ]
          },
          "execution_count": 22,
          "metadata": {},
          "output_type": "execute_result"
        }
      ],
      "source": [
        "print('c помощью merge')\n",
        "print()\n",
        "df_merge_a = pd.merge(calls_pivot, messages_pivot, how='outer', on=['user_id', 'month', 'month_name']) # звонки + сообщения\n",
        "\n",
        "df_merge_ab = pd.merge(internet_pivot, df_merge_a, how='outer', on=['user_id', 'month', 'month_name']) # .reset_index() # звонки + сообщения + интернет\n",
        "\n",
        "df_merge = pd.merge(users, df_merge_ab, how='outer', on=['user_id'])     # звонки + сообщения + интернет + юзеры\n",
        "\n",
        "#display(df_merge)\n",
        "\n",
        "df_merge.isna().sum()"
      ]
    },
    {
      "cell_type": "code",
      "execution_count": null,
      "metadata": {
        "id": "_gZX9TYojy48"
      },
      "outputs": [],
      "source": [
        "# # версия с df_join (пропадают 8 человек)\n",
        "\n",
        "# df = pd.merge(\n",
        "#     left=users,\n",
        "#     right=df_join,\n",
        "#     on=\"user_id\"\n",
        "#     )\n",
        "\n",
        "# # создам столбец имя + фамилия\n",
        "\n",
        "# df['full_name']=df['first_name']+' '+df['last_name']\n",
        "\n",
        "# df = df.drop(columns=['first_name', 'last_name'])"
      ]
    },
    {
      "cell_type": "code",
      "execution_count": null,
      "metadata": {
        "colab": {
          "base_uri": "https://localhost:8080/",
          "height": 593
        },
        "id": "K20wnlCtQhZ7",
        "outputId": "22a32f88-60fd-4595-a32f-62a5c46f8a75"
      },
      "outputs": [
        {
          "data": {
            "text/html": [
              "<div>\n",
              "<style scoped>\n",
              "    .dataframe tbody tr th:only-of-type {\n",
              "        vertical-align: middle;\n",
              "    }\n",
              "\n",
              "    .dataframe tbody tr th {\n",
              "        vertical-align: top;\n",
              "    }\n",
              "\n",
              "    .dataframe thead th {\n",
              "        text-align: right;\n",
              "    }\n",
              "</style>\n",
              "<table border=\"1\" class=\"dataframe\">\n",
              "  <thead>\n",
              "    <tr style=\"text-align: right;\">\n",
              "      <th></th>\n",
              "      <th>user_id</th>\n",
              "      <th>age</th>\n",
              "      <th>churn_date</th>\n",
              "      <th>city</th>\n",
              "      <th>first_name</th>\n",
              "      <th>last_name</th>\n",
              "      <th>reg_date</th>\n",
              "      <th>tariff</th>\n",
              "      <th>gender</th>\n",
              "      <th>month</th>\n",
              "      <th>month_name</th>\n",
              "      <th>quantity_traffic_mb</th>\n",
              "      <th>quantity_calls</th>\n",
              "      <th>total_duration</th>\n",
              "      <th>quantity_messages</th>\n",
              "    </tr>\n",
              "  </thead>\n",
              "  <tbody>\n",
              "    <tr>\n",
              "      <th>0</th>\n",
              "      <td>1000</td>\n",
              "      <td>52</td>\n",
              "      <td>NaT</td>\n",
              "      <td>Краснодар</td>\n",
              "      <td>Рафаил</td>\n",
              "      <td>Верещагин</td>\n",
              "      <td>2018-05-25</td>\n",
              "      <td>ultra</td>\n",
              "      <td>male</td>\n",
              "      <td>5.0</td>\n",
              "      <td>May</td>\n",
              "      <td>2253.49</td>\n",
              "      <td>22.0</td>\n",
              "      <td>150.06</td>\n",
              "      <td>22.0</td>\n",
              "    </tr>\n",
              "    <tr>\n",
              "      <th>1</th>\n",
              "      <td>1000</td>\n",
              "      <td>52</td>\n",
              "      <td>NaT</td>\n",
              "      <td>Краснодар</td>\n",
              "      <td>Рафаил</td>\n",
              "      <td>Верещагин</td>\n",
              "      <td>2018-05-25</td>\n",
              "      <td>ultra</td>\n",
              "      <td>male</td>\n",
              "      <td>6.0</td>\n",
              "      <td>June</td>\n",
              "      <td>23233.77</td>\n",
              "      <td>43.0</td>\n",
              "      <td>158.90</td>\n",
              "      <td>60.0</td>\n",
              "    </tr>\n",
              "    <tr>\n",
              "      <th>2</th>\n",
              "      <td>1000</td>\n",
              "      <td>52</td>\n",
              "      <td>NaT</td>\n",
              "      <td>Краснодар</td>\n",
              "      <td>Рафаил</td>\n",
              "      <td>Верещагин</td>\n",
              "      <td>2018-05-25</td>\n",
              "      <td>ultra</td>\n",
              "      <td>male</td>\n",
              "      <td>7.0</td>\n",
              "      <td>July</td>\n",
              "      <td>14003.64</td>\n",
              "      <td>47.0</td>\n",
              "      <td>318.80</td>\n",
              "      <td>75.0</td>\n",
              "    </tr>\n",
              "    <tr>\n",
              "      <th>3</th>\n",
              "      <td>1000</td>\n",
              "      <td>52</td>\n",
              "      <td>NaT</td>\n",
              "      <td>Краснодар</td>\n",
              "      <td>Рафаил</td>\n",
              "      <td>Верещагин</td>\n",
              "      <td>2018-05-25</td>\n",
              "      <td>ultra</td>\n",
              "      <td>male</td>\n",
              "      <td>8.0</td>\n",
              "      <td>August</td>\n",
              "      <td>14055.93</td>\n",
              "      <td>52.0</td>\n",
              "      <td>389.87</td>\n",
              "      <td>81.0</td>\n",
              "    </tr>\n",
              "    <tr>\n",
              "      <th>4</th>\n",
              "      <td>1000</td>\n",
              "      <td>52</td>\n",
              "      <td>NaT</td>\n",
              "      <td>Краснодар</td>\n",
              "      <td>Рафаил</td>\n",
              "      <td>Верещагин</td>\n",
              "      <td>2018-05-25</td>\n",
              "      <td>ultra</td>\n",
              "      <td>male</td>\n",
              "      <td>9.0</td>\n",
              "      <td>September</td>\n",
              "      <td>14568.91</td>\n",
              "      <td>58.0</td>\n",
              "      <td>440.14</td>\n",
              "      <td>57.0</td>\n",
              "    </tr>\n",
              "    <tr>\n",
              "      <th>5</th>\n",
              "      <td>1000</td>\n",
              "      <td>52</td>\n",
              "      <td>NaT</td>\n",
              "      <td>Краснодар</td>\n",
              "      <td>Рафаил</td>\n",
              "      <td>Верещагин</td>\n",
              "      <td>2018-05-25</td>\n",
              "      <td>ultra</td>\n",
              "      <td>male</td>\n",
              "      <td>10.0</td>\n",
              "      <td>October</td>\n",
              "      <td>14702.49</td>\n",
              "      <td>57.0</td>\n",
              "      <td>328.45</td>\n",
              "      <td>73.0</td>\n",
              "    </tr>\n",
              "    <tr>\n",
              "      <th>6</th>\n",
              "      <td>1000</td>\n",
              "      <td>52</td>\n",
              "      <td>NaT</td>\n",
              "      <td>Краснодар</td>\n",
              "      <td>Рафаил</td>\n",
              "      <td>Верещагин</td>\n",
              "      <td>2018-05-25</td>\n",
              "      <td>ultra</td>\n",
              "      <td>male</td>\n",
              "      <td>11.0</td>\n",
              "      <td>November</td>\n",
              "      <td>14756.47</td>\n",
              "      <td>43.0</td>\n",
              "      <td>319.04</td>\n",
              "      <td>58.0</td>\n",
              "    </tr>\n",
              "    <tr>\n",
              "      <th>7</th>\n",
              "      <td>1000</td>\n",
              "      <td>52</td>\n",
              "      <td>NaT</td>\n",
              "      <td>Краснодар</td>\n",
              "      <td>Рафаил</td>\n",
              "      <td>Верещагин</td>\n",
              "      <td>2018-05-25</td>\n",
              "      <td>ultra</td>\n",
              "      <td>male</td>\n",
              "      <td>12.0</td>\n",
              "      <td>December</td>\n",
              "      <td>9817.61</td>\n",
              "      <td>46.0</td>\n",
              "      <td>312.98</td>\n",
              "      <td>70.0</td>\n",
              "    </tr>\n",
              "    <tr>\n",
              "      <th>8</th>\n",
              "      <td>1001</td>\n",
              "      <td>41</td>\n",
              "      <td>NaT</td>\n",
              "      <td>Москва</td>\n",
              "      <td>Иван</td>\n",
              "      <td>Ежов</td>\n",
              "      <td>2018-11-01</td>\n",
              "      <td>smart</td>\n",
              "      <td>male</td>\n",
              "      <td>11.0</td>\n",
              "      <td>November</td>\n",
              "      <td>18429.34</td>\n",
              "      <td>59.0</td>\n",
              "      <td>408.12</td>\n",
              "      <td>NaN</td>\n",
              "    </tr>\n",
              "    <tr>\n",
              "      <th>9</th>\n",
              "      <td>1001</td>\n",
              "      <td>41</td>\n",
              "      <td>NaT</td>\n",
              "      <td>Москва</td>\n",
              "      <td>Иван</td>\n",
              "      <td>Ежов</td>\n",
              "      <td>2018-11-01</td>\n",
              "      <td>smart</td>\n",
              "      <td>male</td>\n",
              "      <td>12.0</td>\n",
              "      <td>December</td>\n",
              "      <td>14036.66</td>\n",
              "      <td>63.0</td>\n",
              "      <td>391.34</td>\n",
              "      <td>NaN</td>\n",
              "    </tr>\n",
              "  </tbody>\n",
              "</table>\n",
              "</div>"
            ],
            "text/plain": [
              "   user_id  age churn_date       city first_name  last_name   reg_date tariff  \\\n",
              "0     1000   52        NaT  Краснодар     Рафаил  Верещагин 2018-05-25  ultra   \n",
              "1     1000   52        NaT  Краснодар     Рафаил  Верещагин 2018-05-25  ultra   \n",
              "2     1000   52        NaT  Краснодар     Рафаил  Верещагин 2018-05-25  ultra   \n",
              "3     1000   52        NaT  Краснодар     Рафаил  Верещагин 2018-05-25  ultra   \n",
              "4     1000   52        NaT  Краснодар     Рафаил  Верещагин 2018-05-25  ultra   \n",
              "5     1000   52        NaT  Краснодар     Рафаил  Верещагин 2018-05-25  ultra   \n",
              "6     1000   52        NaT  Краснодар     Рафаил  Верещагин 2018-05-25  ultra   \n",
              "7     1000   52        NaT  Краснодар     Рафаил  Верещагин 2018-05-25  ultra   \n",
              "8     1001   41        NaT     Москва       Иван       Ежов 2018-11-01  smart   \n",
              "9     1001   41        NaT     Москва       Иван       Ежов 2018-11-01  smart   \n",
              "\n",
              "  gender  month month_name  quantity_traffic_mb  quantity_calls  \\\n",
              "0   male    5.0        May              2253.49            22.0   \n",
              "1   male    6.0       June             23233.77            43.0   \n",
              "2   male    7.0       July             14003.64            47.0   \n",
              "3   male    8.0     August             14055.93            52.0   \n",
              "4   male    9.0  September             14568.91            58.0   \n",
              "5   male   10.0    October             14702.49            57.0   \n",
              "6   male   11.0   November             14756.47            43.0   \n",
              "7   male   12.0   December              9817.61            46.0   \n",
              "8   male   11.0   November             18429.34            59.0   \n",
              "9   male   12.0   December             14036.66            63.0   \n",
              "\n",
              "   total_duration  quantity_messages  \n",
              "0          150.06               22.0  \n",
              "1          158.90               60.0  \n",
              "2          318.80               75.0  \n",
              "3          389.87               81.0  \n",
              "4          440.14               57.0  \n",
              "5          328.45               73.0  \n",
              "6          319.04               58.0  \n",
              "7          312.98               70.0  \n",
              "8          408.12                NaN  \n",
              "9          391.34                NaN  "
            ]
          },
          "execution_count": 24,
          "metadata": {},
          "output_type": "execute_result"
        }
      ],
      "source": [
        "# версия с df_merge\n",
        "\n",
        "df = df_merge\n",
        "\n",
        "df.head(10)"
      ]
    },
    {
      "cell_type": "markdown",
      "metadata": {
        "id": "IIAsDjUVrLAZ"
      },
      "source": [
        "#### приведу df в порядок"
      ]
    },
    {
      "cell_type": "code",
      "execution_count": null,
      "metadata": {
        "id": "AMMpT2valbs4"
      },
      "outputs": [],
      "source": [
        "df['quantity_calls'] = df['quantity_calls'].fillna(0).astype('int') # количество звонков в инт\n",
        "\n",
        "df['quantity_messages'] = df['quantity_messages'].fillna(0).astype('int') # количество сообщений в инт\n",
        "\n",
        "df['total_duration'] = np.ceil(df['total_duration'].fillna(0)).astype('int') # округлю общее время разговоров большую сторону\n",
        "\n",
        "df['quantity_traffic_mb'] = df['quantity_traffic_mb'].fillna(0)\n",
        "df['quantity_traffic_gb'] = np.ceil(df['quantity_traffic_mb'] / 1024).astype('int') # переведу трафик в гб и округлю\n",
        "\n",
        "df['full_name']=df['first_name']+' '+df['last_name'] # создам столбец имя + фамилия\n",
        "\n",
        "df = df.rename(columns={'tariff':'tariff_name'}) # для объединения с tariff"
      ]
    },
    {
      "cell_type": "code",
      "execution_count": null,
      "metadata": {
        "id": "fg3fIJi_mrSD"
      },
      "outputs": [],
      "source": [
        "df = df.drop(columns=['quantity_traffic_mb', 'first_name', 'last_name']) # лишнее"
      ]
    },
    {
      "cell_type": "code",
      "execution_count": null,
      "metadata": {
        "colab": {
          "base_uri": "https://localhost:8080/",
          "height": 209
        },
        "id": "SIEZWeiR7Q9l",
        "outputId": "a47cdba0-2b52-4217-9611-201b87b763b6"
      },
      "outputs": [
        {
          "data": {
            "text/html": [
              "<div>\n",
              "<style scoped>\n",
              "    .dataframe tbody tr th:only-of-type {\n",
              "        vertical-align: middle;\n",
              "    }\n",
              "\n",
              "    .dataframe tbody tr th {\n",
              "        vertical-align: top;\n",
              "    }\n",
              "\n",
              "    .dataframe thead th {\n",
              "        text-align: right;\n",
              "    }\n",
              "</style>\n",
              "<table border=\"1\" class=\"dataframe\">\n",
              "  <thead>\n",
              "    <tr style=\"text-align: right;\">\n",
              "      <th></th>\n",
              "      <th>user_id</th>\n",
              "      <th>age</th>\n",
              "      <th>churn_date</th>\n",
              "      <th>city</th>\n",
              "      <th>reg_date</th>\n",
              "      <th>tariff_name</th>\n",
              "      <th>gender</th>\n",
              "      <th>month</th>\n",
              "      <th>month_name</th>\n",
              "      <th>quantity_calls</th>\n",
              "      <th>total_duration</th>\n",
              "      <th>quantity_messages</th>\n",
              "      <th>quantity_traffic_gb</th>\n",
              "      <th>full_name</th>\n",
              "    </tr>\n",
              "  </thead>\n",
              "  <tbody>\n",
              "    <tr>\n",
              "      <th>827</th>\n",
              "      <td>1128</td>\n",
              "      <td>51</td>\n",
              "      <td>2018-12-23</td>\n",
              "      <td>Волжский</td>\n",
              "      <td>2018-12-15</td>\n",
              "      <td>ultra</td>\n",
              "      <td>female</td>\n",
              "      <td>NaN</td>\n",
              "      <td>NaN</td>\n",
              "      <td>0</td>\n",
              "      <td>0</td>\n",
              "      <td>0</td>\n",
              "      <td>0</td>\n",
              "      <td>Ксения Агаева</td>\n",
              "    </tr>\n",
              "    <tr>\n",
              "      <th>2335</th>\n",
              "      <td>1371</td>\n",
              "      <td>50</td>\n",
              "      <td>2018-12-30</td>\n",
              "      <td>Омск</td>\n",
              "      <td>2018-12-25</td>\n",
              "      <td>smart</td>\n",
              "      <td>male</td>\n",
              "      <td>NaN</td>\n",
              "      <td>NaN</td>\n",
              "      <td>0</td>\n",
              "      <td>0</td>\n",
              "      <td>0</td>\n",
              "      <td>0</td>\n",
              "      <td>Ириней Трофимов</td>\n",
              "    </tr>\n",
              "  </tbody>\n",
              "</table>\n",
              "</div>"
            ],
            "text/plain": [
              "      user_id  age churn_date      city   reg_date tariff_name  gender  month  \\\n",
              "827      1128   51 2018-12-23  Волжский 2018-12-15       ultra  female    NaN   \n",
              "2335     1371   50 2018-12-30      Омск 2018-12-25       smart    male    NaN   \n",
              "\n",
              "     month_name  quantity_calls  total_duration  quantity_messages  \\\n",
              "827         NaN               0               0                  0   \n",
              "2335        NaN               0               0                  0   \n",
              "\n",
              "      quantity_traffic_gb        full_name  \n",
              "827                     0    Ксения Агаева  \n",
              "2335                    0  Ириней Трофимов  "
            ]
          },
          "execution_count": 27,
          "metadata": {},
          "output_type": "execute_result"
        }
      ],
      "source": [
        "# я очень зол на этих людей. три дня искал проблему. 2 раза проект переписывал\n",
        "# я их дропну или гендер им удалю\n",
        "\n",
        "df.query('month_name != [\"May\",\"June\", \"July\", \"August\", \"September\", \"October\", \"November\", \"December\", \"April\", \"March\", \"February\", \"January\"]')"
      ]
    },
    {
      "cell_type": "code",
      "execution_count": null,
      "metadata": {
        "colab": {
          "base_uri": "https://localhost:8080/",
          "height": 112
        },
        "id": "hwHclxDD85kb",
        "outputId": "fd5ab49f-d9a4-442e-9632-8fe8b67b333b"
      },
      "outputs": [
        {
          "data": {
            "text/html": [
              "<div>\n",
              "<style scoped>\n",
              "    .dataframe tbody tr th:only-of-type {\n",
              "        vertical-align: middle;\n",
              "    }\n",
              "\n",
              "    .dataframe tbody tr th {\n",
              "        vertical-align: top;\n",
              "    }\n",
              "\n",
              "    .dataframe thead th {\n",
              "        text-align: right;\n",
              "    }\n",
              "</style>\n",
              "<table border=\"1\" class=\"dataframe\">\n",
              "  <thead>\n",
              "    <tr style=\"text-align: right;\">\n",
              "      <th></th>\n",
              "      <th>user_id</th>\n",
              "      <th>age</th>\n",
              "      <th>churn_date</th>\n",
              "      <th>city</th>\n",
              "      <th>reg_date</th>\n",
              "      <th>tariff_name</th>\n",
              "      <th>gender</th>\n",
              "      <th>month</th>\n",
              "      <th>month_name</th>\n",
              "      <th>quantity_calls</th>\n",
              "      <th>total_duration</th>\n",
              "      <th>quantity_messages</th>\n",
              "      <th>quantity_traffic_gb</th>\n",
              "      <th>full_name</th>\n",
              "    </tr>\n",
              "  </thead>\n",
              "  <tbody>\n",
              "  </tbody>\n",
              "</table>\n",
              "</div>"
            ],
            "text/plain": [
              "Empty DataFrame\n",
              "Columns: [user_id, age, churn_date, city, reg_date, tariff_name, gender, month, month_name, quantity_calls, total_duration, quantity_messages, quantity_traffic_gb, full_name]\n",
              "Index: []"
            ]
          },
          "execution_count": 28,
          "metadata": {},
          "output_type": "execute_result"
        }
      ],
      "source": [
        "df = df.drop(labels = [827,2335],axis = 0)\n",
        "df.query('month_name != [\"May\",\"June\", \"July\", \"August\", \"September\", \"October\", \"November\", \"December\", \"April\", \"March\", \"February\", \"January\"]')"
      ]
    },
    {
      "cell_type": "code",
      "execution_count": null,
      "metadata": {
        "colab": {
          "base_uri": "https://localhost:8080/",
          "height": 625
        },
        "id": "2p3KEtwMpSpO",
        "outputId": "a2e49871-c595-4d8e-d247-e2a2a3c1b006"
      },
      "outputs": [
        {
          "name": "stdout",
          "output_type": "stream",
          "text": [
            "['user_id', 'age', 'churn_date', 'city', 'reg_date', 'tariff_name', 'gender', 'month', 'month_name', 'quantity_calls', 'total_duration', 'quantity_messages', 'quantity_traffic_gb', 'full_name']\n"
          ]
        },
        {
          "data": {
            "text/html": [
              "<div>\n",
              "<style scoped>\n",
              "    .dataframe tbody tr th:only-of-type {\n",
              "        vertical-align: middle;\n",
              "    }\n",
              "\n",
              "    .dataframe tbody tr th {\n",
              "        vertical-align: top;\n",
              "    }\n",
              "\n",
              "    .dataframe thead th {\n",
              "        text-align: right;\n",
              "    }\n",
              "</style>\n",
              "<table border=\"1\" class=\"dataframe\">\n",
              "  <thead>\n",
              "    <tr style=\"text-align: right;\">\n",
              "      <th></th>\n",
              "      <th>user_id</th>\n",
              "      <th>full_name</th>\n",
              "      <th>age</th>\n",
              "      <th>gender</th>\n",
              "      <th>city</th>\n",
              "      <th>reg_date</th>\n",
              "      <th>churn_date</th>\n",
              "      <th>tariff_name</th>\n",
              "      <th>month</th>\n",
              "      <th>month_name</th>\n",
              "      <th>quantity_calls</th>\n",
              "      <th>total_duration</th>\n",
              "      <th>quantity_messages</th>\n",
              "      <th>quantity_traffic_gb</th>\n",
              "    </tr>\n",
              "  </thead>\n",
              "  <tbody>\n",
              "    <tr>\n",
              "      <th>0</th>\n",
              "      <td>1000</td>\n",
              "      <td>Рафаил Верещагин</td>\n",
              "      <td>52</td>\n",
              "      <td>male</td>\n",
              "      <td>Краснодар</td>\n",
              "      <td>2018-05-25</td>\n",
              "      <td>NaT</td>\n",
              "      <td>ultra</td>\n",
              "      <td>5.0</td>\n",
              "      <td>May</td>\n",
              "      <td>22</td>\n",
              "      <td>151</td>\n",
              "      <td>22</td>\n",
              "      <td>3</td>\n",
              "    </tr>\n",
              "    <tr>\n",
              "      <th>1</th>\n",
              "      <td>1000</td>\n",
              "      <td>Рафаил Верещагин</td>\n",
              "      <td>52</td>\n",
              "      <td>male</td>\n",
              "      <td>Краснодар</td>\n",
              "      <td>2018-05-25</td>\n",
              "      <td>NaT</td>\n",
              "      <td>ultra</td>\n",
              "      <td>6.0</td>\n",
              "      <td>June</td>\n",
              "      <td>43</td>\n",
              "      <td>159</td>\n",
              "      <td>60</td>\n",
              "      <td>23</td>\n",
              "    </tr>\n",
              "    <tr>\n",
              "      <th>2</th>\n",
              "      <td>1000</td>\n",
              "      <td>Рафаил Верещагин</td>\n",
              "      <td>52</td>\n",
              "      <td>male</td>\n",
              "      <td>Краснодар</td>\n",
              "      <td>2018-05-25</td>\n",
              "      <td>NaT</td>\n",
              "      <td>ultra</td>\n",
              "      <td>7.0</td>\n",
              "      <td>July</td>\n",
              "      <td>47</td>\n",
              "      <td>319</td>\n",
              "      <td>75</td>\n",
              "      <td>14</td>\n",
              "    </tr>\n",
              "    <tr>\n",
              "      <th>3</th>\n",
              "      <td>1000</td>\n",
              "      <td>Рафаил Верещагин</td>\n",
              "      <td>52</td>\n",
              "      <td>male</td>\n",
              "      <td>Краснодар</td>\n",
              "      <td>2018-05-25</td>\n",
              "      <td>NaT</td>\n",
              "      <td>ultra</td>\n",
              "      <td>8.0</td>\n",
              "      <td>August</td>\n",
              "      <td>52</td>\n",
              "      <td>390</td>\n",
              "      <td>81</td>\n",
              "      <td>14</td>\n",
              "    </tr>\n",
              "    <tr>\n",
              "      <th>4</th>\n",
              "      <td>1000</td>\n",
              "      <td>Рафаил Верещагин</td>\n",
              "      <td>52</td>\n",
              "      <td>male</td>\n",
              "      <td>Краснодар</td>\n",
              "      <td>2018-05-25</td>\n",
              "      <td>NaT</td>\n",
              "      <td>ultra</td>\n",
              "      <td>9.0</td>\n",
              "      <td>September</td>\n",
              "      <td>58</td>\n",
              "      <td>441</td>\n",
              "      <td>57</td>\n",
              "      <td>15</td>\n",
              "    </tr>\n",
              "  </tbody>\n",
              "</table>\n",
              "</div>"
            ],
            "text/plain": [
              "   user_id         full_name  age gender       city   reg_date churn_date  \\\n",
              "0     1000  Рафаил Верещагин   52   male  Краснодар 2018-05-25        NaT   \n",
              "1     1000  Рафаил Верещагин   52   male  Краснодар 2018-05-25        NaT   \n",
              "2     1000  Рафаил Верещагин   52   male  Краснодар 2018-05-25        NaT   \n",
              "3     1000  Рафаил Верещагин   52   male  Краснодар 2018-05-25        NaT   \n",
              "4     1000  Рафаил Верещагин   52   male  Краснодар 2018-05-25        NaT   \n",
              "\n",
              "  tariff_name  month month_name  quantity_calls  total_duration  \\\n",
              "0       ultra    5.0        May              22             151   \n",
              "1       ultra    6.0       June              43             159   \n",
              "2       ultra    7.0       July              47             319   \n",
              "3       ultra    8.0     August              52             390   \n",
              "4       ultra    9.0  September              58             441   \n",
              "\n",
              "   quantity_messages  quantity_traffic_gb  \n",
              "0                 22                    3  \n",
              "1                 60                   23  \n",
              "2                 75                   14  \n",
              "3                 81                   14  \n",
              "4                 57                   15  "
            ]
          },
          "metadata": {},
          "output_type": "display_data"
        },
        {
          "data": {
            "text/plain": [
              "user_id                   0\n",
              "full_name                 0\n",
              "age                       0\n",
              "gender                    0\n",
              "city                      0\n",
              "reg_date                  0\n",
              "churn_date             3027\n",
              "tariff_name               0\n",
              "month                     0\n",
              "month_name                0\n",
              "quantity_calls            0\n",
              "total_duration            0\n",
              "quantity_messages         0\n",
              "quantity_traffic_gb       0\n",
              "dtype: int64"
            ]
          },
          "execution_count": 29,
          "metadata": {},
          "output_type": "execute_result"
        }
      ],
      "source": [
        "columns_df = list(df.columns.values)\n",
        "print(columns_df)\n",
        "\n",
        "df = df[['user_id',\n",
        "         'full_name',\n",
        "         'age',\n",
        "         'gender',\n",
        "         'city',\n",
        "         'reg_date',\n",
        "         'churn_date',\n",
        "         'tariff_name',\n",
        "         'month',\n",
        "         'month_name',\n",
        "         'quantity_calls',\n",
        "         'total_duration',\n",
        "         'quantity_messages',\n",
        "         'quantity_traffic_gb'\n",
        "         ]]\n",
        "\n",
        "display(df.head(5))\n",
        "\n",
        "df.isna().sum()"
      ]
    },
    {
      "cell_type": "code",
      "execution_count": null,
      "metadata": {
        "id": "m2TUVVb8vuFL"
      },
      "outputs": [],
      "source": [
        "tariffs['gb_per_month_included'] = (tariffs['mb_per_month_included'] / 1024).astype('int')"
      ]
    },
    {
      "cell_type": "markdown",
      "metadata": {
        "id": "d7H8qLo0ySyY"
      },
      "source": [
        "#### присоединю тарифы"
      ]
    },
    {
      "cell_type": "code",
      "execution_count": null,
      "metadata": {
        "id": "s5FKv06rWR7l"
      },
      "outputs": [],
      "source": [
        "df = pd.merge(\n",
        "    left=df,\n",
        "    right=tariffs,\n",
        "    on=\"tariff_name\",\n",
        "    how='outer' # добавил how='outer'\n",
        "    )"
      ]
    },
    {
      "cell_type": "code",
      "execution_count": null,
      "metadata": {
        "id": "EFt-tOdAySyY",
        "outputId": "d1b51032-e01c-4cad-aa58-2f3946921d75"
      },
      "outputs": [
        {
          "data": {
            "text/html": [
              "<div>\n",
              "<style scoped>\n",
              "    .dataframe tbody tr th:only-of-type {\n",
              "        vertical-align: middle;\n",
              "    }\n",
              "\n",
              "    .dataframe tbody tr th {\n",
              "        vertical-align: top;\n",
              "    }\n",
              "\n",
              "    .dataframe thead th {\n",
              "        text-align: right;\n",
              "    }\n",
              "</style>\n",
              "<table border=\"1\" class=\"dataframe\">\n",
              "  <thead>\n",
              "    <tr style=\"text-align: right;\">\n",
              "      <th></th>\n",
              "      <th>user_id</th>\n",
              "      <th>full_name</th>\n",
              "      <th>age</th>\n",
              "      <th>gender</th>\n",
              "      <th>city</th>\n",
              "      <th>reg_date</th>\n",
              "      <th>churn_date</th>\n",
              "      <th>tariff_name</th>\n",
              "      <th>month</th>\n",
              "      <th>month_name</th>\n",
              "      <th>...</th>\n",
              "      <th>quantity_messages</th>\n",
              "      <th>quantity_traffic_gb</th>\n",
              "      <th>messages_included</th>\n",
              "      <th>mb_per_month_included</th>\n",
              "      <th>minutes_included</th>\n",
              "      <th>rub_monthly_fee</th>\n",
              "      <th>rub_per_gb</th>\n",
              "      <th>rub_per_message</th>\n",
              "      <th>rub_per_minute</th>\n",
              "      <th>gb_per_month_included</th>\n",
              "    </tr>\n",
              "  </thead>\n",
              "  <tbody>\n",
              "    <tr>\n",
              "      <th>0</th>\n",
              "      <td>1000</td>\n",
              "      <td>Рафаил Верещагин</td>\n",
              "      <td>52</td>\n",
              "      <td>male</td>\n",
              "      <td>Краснодар</td>\n",
              "      <td>2018-05-25</td>\n",
              "      <td>NaT</td>\n",
              "      <td>ultra</td>\n",
              "      <td>5.0</td>\n",
              "      <td>May</td>\n",
              "      <td>...</td>\n",
              "      <td>22</td>\n",
              "      <td>3</td>\n",
              "      <td>1000</td>\n",
              "      <td>30720</td>\n",
              "      <td>3000</td>\n",
              "      <td>1950</td>\n",
              "      <td>150</td>\n",
              "      <td>1</td>\n",
              "      <td>1</td>\n",
              "      <td>30</td>\n",
              "    </tr>\n",
              "    <tr>\n",
              "      <th>1</th>\n",
              "      <td>1000</td>\n",
              "      <td>Рафаил Верещагин</td>\n",
              "      <td>52</td>\n",
              "      <td>male</td>\n",
              "      <td>Краснодар</td>\n",
              "      <td>2018-05-25</td>\n",
              "      <td>NaT</td>\n",
              "      <td>ultra</td>\n",
              "      <td>6.0</td>\n",
              "      <td>June</td>\n",
              "      <td>...</td>\n",
              "      <td>60</td>\n",
              "      <td>23</td>\n",
              "      <td>1000</td>\n",
              "      <td>30720</td>\n",
              "      <td>3000</td>\n",
              "      <td>1950</td>\n",
              "      <td>150</td>\n",
              "      <td>1</td>\n",
              "      <td>1</td>\n",
              "      <td>30</td>\n",
              "    </tr>\n",
              "    <tr>\n",
              "      <th>2</th>\n",
              "      <td>1000</td>\n",
              "      <td>Рафаил Верещагин</td>\n",
              "      <td>52</td>\n",
              "      <td>male</td>\n",
              "      <td>Краснодар</td>\n",
              "      <td>2018-05-25</td>\n",
              "      <td>NaT</td>\n",
              "      <td>ultra</td>\n",
              "      <td>7.0</td>\n",
              "      <td>July</td>\n",
              "      <td>...</td>\n",
              "      <td>75</td>\n",
              "      <td>14</td>\n",
              "      <td>1000</td>\n",
              "      <td>30720</td>\n",
              "      <td>3000</td>\n",
              "      <td>1950</td>\n",
              "      <td>150</td>\n",
              "      <td>1</td>\n",
              "      <td>1</td>\n",
              "      <td>30</td>\n",
              "    </tr>\n",
              "    <tr>\n",
              "      <th>3</th>\n",
              "      <td>1000</td>\n",
              "      <td>Рафаил Верещагин</td>\n",
              "      <td>52</td>\n",
              "      <td>male</td>\n",
              "      <td>Краснодар</td>\n",
              "      <td>2018-05-25</td>\n",
              "      <td>NaT</td>\n",
              "      <td>ultra</td>\n",
              "      <td>8.0</td>\n",
              "      <td>August</td>\n",
              "      <td>...</td>\n",
              "      <td>81</td>\n",
              "      <td>14</td>\n",
              "      <td>1000</td>\n",
              "      <td>30720</td>\n",
              "      <td>3000</td>\n",
              "      <td>1950</td>\n",
              "      <td>150</td>\n",
              "      <td>1</td>\n",
              "      <td>1</td>\n",
              "      <td>30</td>\n",
              "    </tr>\n",
              "    <tr>\n",
              "      <th>4</th>\n",
              "      <td>1000</td>\n",
              "      <td>Рафаил Верещагин</td>\n",
              "      <td>52</td>\n",
              "      <td>male</td>\n",
              "      <td>Краснодар</td>\n",
              "      <td>2018-05-25</td>\n",
              "      <td>NaT</td>\n",
              "      <td>ultra</td>\n",
              "      <td>9.0</td>\n",
              "      <td>September</td>\n",
              "      <td>...</td>\n",
              "      <td>57</td>\n",
              "      <td>15</td>\n",
              "      <td>1000</td>\n",
              "      <td>30720</td>\n",
              "      <td>3000</td>\n",
              "      <td>1950</td>\n",
              "      <td>150</td>\n",
              "      <td>1</td>\n",
              "      <td>1</td>\n",
              "      <td>30</td>\n",
              "    </tr>\n",
              "    <tr>\n",
              "      <th>...</th>\n",
              "      <td>...</td>\n",
              "      <td>...</td>\n",
              "      <td>...</td>\n",
              "      <td>...</td>\n",
              "      <td>...</td>\n",
              "      <td>...</td>\n",
              "      <td>...</td>\n",
              "      <td>...</td>\n",
              "      <td>...</td>\n",
              "      <td>...</td>\n",
              "      <td>...</td>\n",
              "      <td>...</td>\n",
              "      <td>...</td>\n",
              "      <td>...</td>\n",
              "      <td>...</td>\n",
              "      <td>...</td>\n",
              "      <td>...</td>\n",
              "      <td>...</td>\n",
              "      <td>...</td>\n",
              "      <td>...</td>\n",
              "      <td>...</td>\n",
              "    </tr>\n",
              "    <tr>\n",
              "      <th>3209</th>\n",
              "      <td>1498</td>\n",
              "      <td>Всеволод Акимчин</td>\n",
              "      <td>68</td>\n",
              "      <td>male</td>\n",
              "      <td>Владикавказ</td>\n",
              "      <td>2018-07-19</td>\n",
              "      <td>2018-10-25</td>\n",
              "      <td>smart</td>\n",
              "      <td>10.0</td>\n",
              "      <td>October</td>\n",
              "      <td>...</td>\n",
              "      <td>42</td>\n",
              "      <td>21</td>\n",
              "      <td>50</td>\n",
              "      <td>15360</td>\n",
              "      <td>500</td>\n",
              "      <td>550</td>\n",
              "      <td>200</td>\n",
              "      <td>3</td>\n",
              "      <td>3</td>\n",
              "      <td>15</td>\n",
              "    </tr>\n",
              "    <tr>\n",
              "      <th>3210</th>\n",
              "      <td>1499</td>\n",
              "      <td>Гектор Корнилов</td>\n",
              "      <td>35</td>\n",
              "      <td>male</td>\n",
              "      <td>Пермь</td>\n",
              "      <td>2018-09-27</td>\n",
              "      <td>NaT</td>\n",
              "      <td>smart</td>\n",
              "      <td>9.0</td>\n",
              "      <td>September</td>\n",
              "      <td>...</td>\n",
              "      <td>11</td>\n",
              "      <td>2</td>\n",
              "      <td>50</td>\n",
              "      <td>15360</td>\n",
              "      <td>500</td>\n",
              "      <td>550</td>\n",
              "      <td>200</td>\n",
              "      <td>3</td>\n",
              "      <td>3</td>\n",
              "      <td>15</td>\n",
              "    </tr>\n",
              "    <tr>\n",
              "      <th>3211</th>\n",
              "      <td>1499</td>\n",
              "      <td>Гектор Корнилов</td>\n",
              "      <td>35</td>\n",
              "      <td>male</td>\n",
              "      <td>Пермь</td>\n",
              "      <td>2018-09-27</td>\n",
              "      <td>NaT</td>\n",
              "      <td>smart</td>\n",
              "      <td>10.0</td>\n",
              "      <td>October</td>\n",
              "      <td>...</td>\n",
              "      <td>48</td>\n",
              "      <td>18</td>\n",
              "      <td>50</td>\n",
              "      <td>15360</td>\n",
              "      <td>500</td>\n",
              "      <td>550</td>\n",
              "      <td>200</td>\n",
              "      <td>3</td>\n",
              "      <td>3</td>\n",
              "      <td>15</td>\n",
              "    </tr>\n",
              "    <tr>\n",
              "      <th>3212</th>\n",
              "      <td>1499</td>\n",
              "      <td>Гектор Корнилов</td>\n",
              "      <td>35</td>\n",
              "      <td>male</td>\n",
              "      <td>Пермь</td>\n",
              "      <td>2018-09-27</td>\n",
              "      <td>NaT</td>\n",
              "      <td>smart</td>\n",
              "      <td>11.0</td>\n",
              "      <td>November</td>\n",
              "      <td>...</td>\n",
              "      <td>59</td>\n",
              "      <td>18</td>\n",
              "      <td>50</td>\n",
              "      <td>15360</td>\n",
              "      <td>500</td>\n",
              "      <td>550</td>\n",
              "      <td>200</td>\n",
              "      <td>3</td>\n",
              "      <td>3</td>\n",
              "      <td>15</td>\n",
              "    </tr>\n",
              "    <tr>\n",
              "      <th>3213</th>\n",
              "      <td>1499</td>\n",
              "      <td>Гектор Корнилов</td>\n",
              "      <td>35</td>\n",
              "      <td>male</td>\n",
              "      <td>Пермь</td>\n",
              "      <td>2018-09-27</td>\n",
              "      <td>NaT</td>\n",
              "      <td>smart</td>\n",
              "      <td>12.0</td>\n",
              "      <td>December</td>\n",
              "      <td>...</td>\n",
              "      <td>66</td>\n",
              "      <td>13</td>\n",
              "      <td>50</td>\n",
              "      <td>15360</td>\n",
              "      <td>500</td>\n",
              "      <td>550</td>\n",
              "      <td>200</td>\n",
              "      <td>3</td>\n",
              "      <td>3</td>\n",
              "      <td>15</td>\n",
              "    </tr>\n",
              "  </tbody>\n",
              "</table>\n",
              "<p>3214 rows × 22 columns</p>\n",
              "</div>"
            ],
            "text/plain": [
              "      user_id         full_name  age gender         city   reg_date  \\\n",
              "0        1000  Рафаил Верещагин   52   male    Краснодар 2018-05-25   \n",
              "1        1000  Рафаил Верещагин   52   male    Краснодар 2018-05-25   \n",
              "2        1000  Рафаил Верещагин   52   male    Краснодар 2018-05-25   \n",
              "3        1000  Рафаил Верещагин   52   male    Краснодар 2018-05-25   \n",
              "4        1000  Рафаил Верещагин   52   male    Краснодар 2018-05-25   \n",
              "...       ...               ...  ...    ...          ...        ...   \n",
              "3209     1498  Всеволод Акимчин   68   male  Владикавказ 2018-07-19   \n",
              "3210     1499   Гектор Корнилов   35   male        Пермь 2018-09-27   \n",
              "3211     1499   Гектор Корнилов   35   male        Пермь 2018-09-27   \n",
              "3212     1499   Гектор Корнилов   35   male        Пермь 2018-09-27   \n",
              "3213     1499   Гектор Корнилов   35   male        Пермь 2018-09-27   \n",
              "\n",
              "     churn_date tariff_name  month month_name  ...  quantity_messages  \\\n",
              "0           NaT       ultra    5.0        May  ...                 22   \n",
              "1           NaT       ultra    6.0       June  ...                 60   \n",
              "2           NaT       ultra    7.0       July  ...                 75   \n",
              "3           NaT       ultra    8.0     August  ...                 81   \n",
              "4           NaT       ultra    9.0  September  ...                 57   \n",
              "...         ...         ...    ...        ...  ...                ...   \n",
              "3209 2018-10-25       smart   10.0    October  ...                 42   \n",
              "3210        NaT       smart    9.0  September  ...                 11   \n",
              "3211        NaT       smart   10.0    October  ...                 48   \n",
              "3212        NaT       smart   11.0   November  ...                 59   \n",
              "3213        NaT       smart   12.0   December  ...                 66   \n",
              "\n",
              "      quantity_traffic_gb  messages_included  mb_per_month_included  \\\n",
              "0                       3               1000                  30720   \n",
              "1                      23               1000                  30720   \n",
              "2                      14               1000                  30720   \n",
              "3                      14               1000                  30720   \n",
              "4                      15               1000                  30720   \n",
              "...                   ...                ...                    ...   \n",
              "3209                   21                 50                  15360   \n",
              "3210                    2                 50                  15360   \n",
              "3211                   18                 50                  15360   \n",
              "3212                   18                 50                  15360   \n",
              "3213                   13                 50                  15360   \n",
              "\n",
              "      minutes_included  rub_monthly_fee  rub_per_gb  rub_per_message  \\\n",
              "0                 3000             1950         150                1   \n",
              "1                 3000             1950         150                1   \n",
              "2                 3000             1950         150                1   \n",
              "3                 3000             1950         150                1   \n",
              "4                 3000             1950         150                1   \n",
              "...                ...              ...         ...              ...   \n",
              "3209               500              550         200                3   \n",
              "3210               500              550         200                3   \n",
              "3211               500              550         200                3   \n",
              "3212               500              550         200                3   \n",
              "3213               500              550         200                3   \n",
              "\n",
              "      rub_per_minute  gb_per_month_included  \n",
              "0                  1                     30  \n",
              "1                  1                     30  \n",
              "2                  1                     30  \n",
              "3                  1                     30  \n",
              "4                  1                     30  \n",
              "...              ...                    ...  \n",
              "3209               3                     15  \n",
              "3210               3                     15  \n",
              "3211               3                     15  \n",
              "3212               3                     15  \n",
              "3213               3                     15  \n",
              "\n",
              "[3214 rows x 22 columns]"
            ]
          },
          "execution_count": 32,
          "metadata": {},
          "output_type": "execute_result"
        }
      ],
      "source": [
        "df"
      ]
    },
    {
      "cell_type": "markdown",
      "metadata": {
        "id": "9dp0v6Zf8qdn"
      },
      "source": [
        "### Расчет для каждого абонента"
      ]
    },
    {
      "cell_type": "markdown",
      "metadata": {
        "id": "eAmHbJ_Z4cnC"
      },
      "source": [
        "я знаю, что переменные нужн прописывать сразу после функции, но из-за того, что их много, код тяжело читать. \n",
        "\n",
        "- Красивое лучше уродливого\n",
        "- Развернутое лучше вложенного\n",
        "- Разреженное лучше плотного\n",
        "- Читаемость имеет значение"
      ]
    },
    {
      "cell_type": "code",
      "execution_count": null,
      "metadata": {
        "id": "K3JWVuIWcVUC"
      },
      "outputs": [],
      "source": [
        "# def need_to_pay(row):\n",
        "#   #минуты\n",
        "#   minute_counter = 0                          #счетчик минут\n",
        "#   total_duration = row['total_duration']      #использованные минуты\n",
        "#   minutes_included = row['minutes_included']  #количество минут в тарифе\n",
        "#   rub_per_minute = row['rub_per_minute']      #стоимость минуты сверх тарифа\n",
        "#   #тариф\n",
        "#   tariff_counter = 0                          #стоимость тарифа\n",
        "#   tariff_name = row['tariff_name']            #имя тарифа\n",
        "#   #интернет\n",
        "#   internet_counter = 0                                  #счетчик трафика\n",
        "#   quantity_traffic_gb = row['quantity_traffic_gb']      #израсходованный трафик\n",
        "#   gb_per_month_included = row['gb_per_month_included']  #трафик в тарифе\n",
        "#   rub_per_gb = row['rub_per_gb']                        #стоимсоть одного гига сверх тарифа\n",
        "#   #сообщения\n",
        "#   message_counter = 0                           #счетчик сообщений\n",
        "#   quantity_messages = row['quantity_messages']  #количество отправленных сообщений\n",
        "#   messages_included = row['messages_included']  #количество сообщений в тарифе\n",
        "#   rub_per_message = row['rub_per_message']      #стоимость сообщений сверх тарифа\n",
        "#   #сообщения\n",
        "#   if quantity_messages > messages_included:\n",
        "#     message_counter += (quantity_messages - messages_included) * rub_per_message\n",
        "\n",
        "#   #переплата за интернет\n",
        "#   if quantity_traffic_gb > gb_per_month_included:\n",
        "#     internet_counter +=  (quantity_traffic_gb - gb_per_month_included) * rub_per_gb\n",
        "\n",
        "#   #оплата тарифа\n",
        "#   if tariff_name == 'ultra':\n",
        "#     tariff_counter = 1950\n",
        "#   if tariff_name == 'smart':\n",
        "#     tariff_counter = 550\n",
        "\n",
        "#   #переплата за минуты\n",
        "#   if total_duration > minutes_included:\n",
        "#     minute_counter += (total_duration - minutes_included) * rub_per_minute\n",
        "#   # if total_duration <= minutes_included:\n",
        "#   #   minute_counter = 0\n",
        "\n",
        "#   return minute_counter + tariff_counter + internet_counter + message_counter\n",
        "\n",
        "# df['need_to_pay'] = df.apply(need_to_pay, axis=1)"
      ]
    },
    {
      "cell_type": "code",
      "execution_count": null,
      "metadata": {
        "id": "Y1MQNb9v1Gz9"
      },
      "outputs": [],
      "source": [
        "# для удобства чтения\n",
        "\n",
        "def need_to_pay(row):\n",
        "  \n",
        "  #тариф\n",
        "  tariff_counter = 0                                    #стоимость тарифа\n",
        "  tariff_name = row['tariff_name']                      #имя тарифа\n",
        "\n",
        "  #оплата тарифа\n",
        "  if tariff_name == 'ultra':\n",
        "    tariff_counter = 1950\n",
        "  if tariff_name == 'smart':\n",
        "    tariff_counter = 550\n",
        "\n",
        "  #минуты\n",
        "  minute_counter = 0                                    #счетчик минут\n",
        "  total_duration = row['total_duration']                #использованные минуты\n",
        "  minutes_included = row['minutes_included']            #количество минут в тарифе\n",
        "  rub_per_minute = row['rub_per_minute']                #стоимость минуты сверх тарифа\n",
        "\n",
        "  #переплптп за минуты\n",
        "  if total_duration > minutes_included:\n",
        "    minute_counter += (total_duration - minutes_included) * rub_per_minute\n",
        "\n",
        "  \n",
        "  #интернет\n",
        "  internet_counter = 0                                  #счетчик трафика\n",
        "  quantity_traffic_gb = row['quantity_traffic_gb']      #израсходованный трафик\n",
        "  gb_per_month_included = row['gb_per_month_included']  #трафик в тарифе\n",
        "  rub_per_gb = row['rub_per_gb']                        #стоимсоть одного гига сверх тарифа\n",
        "\n",
        "  #переплата за интернет\n",
        "  if quantity_traffic_gb > gb_per_month_included:\n",
        "    internet_counter +=  (quantity_traffic_gb - gb_per_month_included) * rub_per_gb\n",
        "\n",
        "  #сообщения\n",
        "  message_counter = 0                                   #счетчик сообщений\n",
        "  quantity_messages = row['quantity_messages']          #количество отправленных сообщений\n",
        "  messages_included = row['messages_included']          #количество сообщений в тарифе\n",
        "  rub_per_message = row['rub_per_message']              #стоимость сообщений сверх тарифа\n",
        "\n",
        "  #сообщения\n",
        "  if quantity_messages > messages_included:\n",
        "    message_counter += (quantity_messages - messages_included) * rub_per_message\n",
        "\n",
        "  return minute_counter + tariff_counter + internet_counter + message_counter\n",
        "\n",
        "df['need_to_pay'] = df.apply(need_to_pay, axis=1)"
      ]
    },
    {
      "cell_type": "code",
      "execution_count": null,
      "metadata": {
        "colab": {
          "base_uri": "https://localhost:8080/",
          "height": 382
        },
        "id": "nWNgp8ok5B7c",
        "outputId": "673a4b41-84a5-449c-eee3-a0314f8836a2"
      },
      "outputs": [
        {
          "data": {
            "text/html": [
              "<div>\n",
              "<style scoped>\n",
              "    .dataframe tbody tr th:only-of-type {\n",
              "        vertical-align: middle;\n",
              "    }\n",
              "\n",
              "    .dataframe tbody tr th {\n",
              "        vertical-align: top;\n",
              "    }\n",
              "\n",
              "    .dataframe thead th {\n",
              "        text-align: right;\n",
              "    }\n",
              "</style>\n",
              "<table border=\"1\" class=\"dataframe\">\n",
              "  <thead>\n",
              "    <tr style=\"text-align: right;\">\n",
              "      <th></th>\n",
              "      <th>user_id</th>\n",
              "      <th>full_name</th>\n",
              "      <th>age</th>\n",
              "      <th>gender</th>\n",
              "      <th>city</th>\n",
              "      <th>reg_date</th>\n",
              "      <th>churn_date</th>\n",
              "      <th>tariff_name</th>\n",
              "      <th>month</th>\n",
              "      <th>month_name</th>\n",
              "      <th>...</th>\n",
              "      <th>quantity_traffic_gb</th>\n",
              "      <th>messages_included</th>\n",
              "      <th>mb_per_month_included</th>\n",
              "      <th>minutes_included</th>\n",
              "      <th>rub_monthly_fee</th>\n",
              "      <th>rub_per_gb</th>\n",
              "      <th>rub_per_message</th>\n",
              "      <th>rub_per_minute</th>\n",
              "      <th>gb_per_month_included</th>\n",
              "      <th>need_to_pay</th>\n",
              "    </tr>\n",
              "  </thead>\n",
              "  <tbody>\n",
              "    <tr>\n",
              "      <th>0</th>\n",
              "      <td>1000</td>\n",
              "      <td>Рафаил Верещагин</td>\n",
              "      <td>52</td>\n",
              "      <td>male</td>\n",
              "      <td>Краснодар</td>\n",
              "      <td>2018-05-25</td>\n",
              "      <td>NaT</td>\n",
              "      <td>ultra</td>\n",
              "      <td>5.0</td>\n",
              "      <td>May</td>\n",
              "      <td>...</td>\n",
              "      <td>3</td>\n",
              "      <td>1000</td>\n",
              "      <td>30720</td>\n",
              "      <td>3000</td>\n",
              "      <td>1950</td>\n",
              "      <td>150</td>\n",
              "      <td>1</td>\n",
              "      <td>1</td>\n",
              "      <td>30</td>\n",
              "      <td>1950</td>\n",
              "    </tr>\n",
              "    <tr>\n",
              "      <th>1</th>\n",
              "      <td>1000</td>\n",
              "      <td>Рафаил Верещагин</td>\n",
              "      <td>52</td>\n",
              "      <td>male</td>\n",
              "      <td>Краснодар</td>\n",
              "      <td>2018-05-25</td>\n",
              "      <td>NaT</td>\n",
              "      <td>ultra</td>\n",
              "      <td>6.0</td>\n",
              "      <td>June</td>\n",
              "      <td>...</td>\n",
              "      <td>23</td>\n",
              "      <td>1000</td>\n",
              "      <td>30720</td>\n",
              "      <td>3000</td>\n",
              "      <td>1950</td>\n",
              "      <td>150</td>\n",
              "      <td>1</td>\n",
              "      <td>1</td>\n",
              "      <td>30</td>\n",
              "      <td>1950</td>\n",
              "    </tr>\n",
              "    <tr>\n",
              "      <th>2</th>\n",
              "      <td>1000</td>\n",
              "      <td>Рафаил Верещагин</td>\n",
              "      <td>52</td>\n",
              "      <td>male</td>\n",
              "      <td>Краснодар</td>\n",
              "      <td>2018-05-25</td>\n",
              "      <td>NaT</td>\n",
              "      <td>ultra</td>\n",
              "      <td>7.0</td>\n",
              "      <td>July</td>\n",
              "      <td>...</td>\n",
              "      <td>14</td>\n",
              "      <td>1000</td>\n",
              "      <td>30720</td>\n",
              "      <td>3000</td>\n",
              "      <td>1950</td>\n",
              "      <td>150</td>\n",
              "      <td>1</td>\n",
              "      <td>1</td>\n",
              "      <td>30</td>\n",
              "      <td>1950</td>\n",
              "    </tr>\n",
              "    <tr>\n",
              "      <th>3</th>\n",
              "      <td>1000</td>\n",
              "      <td>Рафаил Верещагин</td>\n",
              "      <td>52</td>\n",
              "      <td>male</td>\n",
              "      <td>Краснодар</td>\n",
              "      <td>2018-05-25</td>\n",
              "      <td>NaT</td>\n",
              "      <td>ultra</td>\n",
              "      <td>8.0</td>\n",
              "      <td>August</td>\n",
              "      <td>...</td>\n",
              "      <td>14</td>\n",
              "      <td>1000</td>\n",
              "      <td>30720</td>\n",
              "      <td>3000</td>\n",
              "      <td>1950</td>\n",
              "      <td>150</td>\n",
              "      <td>1</td>\n",
              "      <td>1</td>\n",
              "      <td>30</td>\n",
              "      <td>1950</td>\n",
              "    </tr>\n",
              "    <tr>\n",
              "      <th>4</th>\n",
              "      <td>1000</td>\n",
              "      <td>Рафаил Верещагин</td>\n",
              "      <td>52</td>\n",
              "      <td>male</td>\n",
              "      <td>Краснодар</td>\n",
              "      <td>2018-05-25</td>\n",
              "      <td>NaT</td>\n",
              "      <td>ultra</td>\n",
              "      <td>9.0</td>\n",
              "      <td>September</td>\n",
              "      <td>...</td>\n",
              "      <td>15</td>\n",
              "      <td>1000</td>\n",
              "      <td>30720</td>\n",
              "      <td>3000</td>\n",
              "      <td>1950</td>\n",
              "      <td>150</td>\n",
              "      <td>1</td>\n",
              "      <td>1</td>\n",
              "      <td>30</td>\n",
              "      <td>1950</td>\n",
              "    </tr>\n",
              "  </tbody>\n",
              "</table>\n",
              "<p>5 rows × 23 columns</p>\n",
              "</div>"
            ],
            "text/plain": [
              "   user_id         full_name  age gender       city   reg_date churn_date  \\\n",
              "0     1000  Рафаил Верещагин   52   male  Краснодар 2018-05-25        NaT   \n",
              "1     1000  Рафаил Верещагин   52   male  Краснодар 2018-05-25        NaT   \n",
              "2     1000  Рафаил Верещагин   52   male  Краснодар 2018-05-25        NaT   \n",
              "3     1000  Рафаил Верещагин   52   male  Краснодар 2018-05-25        NaT   \n",
              "4     1000  Рафаил Верещагин   52   male  Краснодар 2018-05-25        NaT   \n",
              "\n",
              "  tariff_name  month month_name  ...  quantity_traffic_gb  messages_included  \\\n",
              "0       ultra    5.0        May  ...                    3               1000   \n",
              "1       ultra    6.0       June  ...                   23               1000   \n",
              "2       ultra    7.0       July  ...                   14               1000   \n",
              "3       ultra    8.0     August  ...                   14               1000   \n",
              "4       ultra    9.0  September  ...                   15               1000   \n",
              "\n",
              "   mb_per_month_included  minutes_included  rub_monthly_fee  rub_per_gb  \\\n",
              "0                  30720              3000             1950         150   \n",
              "1                  30720              3000             1950         150   \n",
              "2                  30720              3000             1950         150   \n",
              "3                  30720              3000             1950         150   \n",
              "4                  30720              3000             1950         150   \n",
              "\n",
              "   rub_per_message  rub_per_minute  gb_per_month_included  need_to_pay  \n",
              "0                1               1                     30         1950  \n",
              "1                1               1                     30         1950  \n",
              "2                1               1                     30         1950  \n",
              "3                1               1                     30         1950  \n",
              "4                1               1                     30         1950  \n",
              "\n",
              "[5 rows x 23 columns]"
            ]
          },
          "execution_count": 35,
          "metadata": {},
          "output_type": "execute_result"
        }
      ],
      "source": [
        "df.head(5)"
      ]
    },
    {
      "cell_type": "code",
      "execution_count": null,
      "metadata": {
        "colab": {
          "base_uri": "https://localhost:8080/",
          "height": 700
        },
        "id": "YFh_YWPSww8v",
        "outputId": "de32c5d9-c308-4808-c20e-8d81748c837e"
      },
      "outputs": [
        {
          "data": {
            "text/html": [
              "<div>\n",
              "<style scoped>\n",
              "    .dataframe tbody tr th:only-of-type {\n",
              "        vertical-align: middle;\n",
              "    }\n",
              "\n",
              "    .dataframe tbody tr th {\n",
              "        vertical-align: top;\n",
              "    }\n",
              "\n",
              "    .dataframe thead th {\n",
              "        text-align: right;\n",
              "    }\n",
              "</style>\n",
              "<table border=\"1\" class=\"dataframe\">\n",
              "  <thead>\n",
              "    <tr style=\"text-align: right;\">\n",
              "      <th></th>\n",
              "      <th></th>\n",
              "      <th></th>\n",
              "      <th></th>\n",
              "      <th></th>\n",
              "      <th></th>\n",
              "      <th></th>\n",
              "      <th>need_to_pay</th>\n",
              "      <th>overpayment</th>\n",
              "      <th>quantity_calls</th>\n",
              "      <th>quantity_messages</th>\n",
              "      <th>quantity_traffic_gb</th>\n",
              "      <th>total_duration</th>\n",
              "    </tr>\n",
              "    <tr>\n",
              "      <th>user_id</th>\n",
              "      <th>full_name</th>\n",
              "      <th>age</th>\n",
              "      <th>gender</th>\n",
              "      <th>city</th>\n",
              "      <th>tariff_name</th>\n",
              "      <th>month</th>\n",
              "      <th></th>\n",
              "      <th></th>\n",
              "      <th></th>\n",
              "      <th></th>\n",
              "      <th></th>\n",
              "      <th></th>\n",
              "    </tr>\n",
              "  </thead>\n",
              "  <tbody>\n",
              "    <tr>\n",
              "      <th rowspan=\"8\" valign=\"top\">1000</th>\n",
              "      <th rowspan=\"8\" valign=\"top\">Рафаил Верещагин</th>\n",
              "      <th rowspan=\"8\" valign=\"top\">52</th>\n",
              "      <th rowspan=\"8\" valign=\"top\">male</th>\n",
              "      <th rowspan=\"8\" valign=\"top\">Краснодар</th>\n",
              "      <th rowspan=\"8\" valign=\"top\">ultra</th>\n",
              "      <th>5.0</th>\n",
              "      <td>1950</td>\n",
              "      <td>0</td>\n",
              "      <td>22</td>\n",
              "      <td>22</td>\n",
              "      <td>3</td>\n",
              "      <td>151</td>\n",
              "    </tr>\n",
              "    <tr>\n",
              "      <th>6.0</th>\n",
              "      <td>1950</td>\n",
              "      <td>0</td>\n",
              "      <td>43</td>\n",
              "      <td>60</td>\n",
              "      <td>23</td>\n",
              "      <td>159</td>\n",
              "    </tr>\n",
              "    <tr>\n",
              "      <th>7.0</th>\n",
              "      <td>1950</td>\n",
              "      <td>0</td>\n",
              "      <td>47</td>\n",
              "      <td>75</td>\n",
              "      <td>14</td>\n",
              "      <td>319</td>\n",
              "    </tr>\n",
              "    <tr>\n",
              "      <th>8.0</th>\n",
              "      <td>1950</td>\n",
              "      <td>0</td>\n",
              "      <td>52</td>\n",
              "      <td>81</td>\n",
              "      <td>14</td>\n",
              "      <td>390</td>\n",
              "    </tr>\n",
              "    <tr>\n",
              "      <th>9.0</th>\n",
              "      <td>1950</td>\n",
              "      <td>0</td>\n",
              "      <td>58</td>\n",
              "      <td>57</td>\n",
              "      <td>15</td>\n",
              "      <td>441</td>\n",
              "    </tr>\n",
              "    <tr>\n",
              "      <th>10.0</th>\n",
              "      <td>1950</td>\n",
              "      <td>0</td>\n",
              "      <td>57</td>\n",
              "      <td>73</td>\n",
              "      <td>15</td>\n",
              "      <td>329</td>\n",
              "    </tr>\n",
              "    <tr>\n",
              "      <th>11.0</th>\n",
              "      <td>1950</td>\n",
              "      <td>0</td>\n",
              "      <td>43</td>\n",
              "      <td>58</td>\n",
              "      <td>15</td>\n",
              "      <td>320</td>\n",
              "    </tr>\n",
              "    <tr>\n",
              "      <th>12.0</th>\n",
              "      <td>1950</td>\n",
              "      <td>0</td>\n",
              "      <td>46</td>\n",
              "      <td>70</td>\n",
              "      <td>10</td>\n",
              "      <td>313</td>\n",
              "    </tr>\n",
              "    <tr>\n",
              "      <th rowspan=\"2\" valign=\"top\">1001</th>\n",
              "      <th rowspan=\"2\" valign=\"top\">Иван Ежов</th>\n",
              "      <th rowspan=\"2\" valign=\"top\">41</th>\n",
              "      <th rowspan=\"2\" valign=\"top\">male</th>\n",
              "      <th rowspan=\"2\" valign=\"top\">Москва</th>\n",
              "      <th rowspan=\"2\" valign=\"top\">smart</th>\n",
              "      <th>11.0</th>\n",
              "      <td>1150</td>\n",
              "      <td>600</td>\n",
              "      <td>59</td>\n",
              "      <td>0</td>\n",
              "      <td>18</td>\n",
              "      <td>409</td>\n",
              "    </tr>\n",
              "    <tr>\n",
              "      <th>12.0</th>\n",
              "      <td>550</td>\n",
              "      <td>0</td>\n",
              "      <td>63</td>\n",
              "      <td>0</td>\n",
              "      <td>14</td>\n",
              "      <td>392</td>\n",
              "    </tr>\n",
              "    <tr>\n",
              "      <th rowspan=\"7\" valign=\"top\">1002</th>\n",
              "      <th rowspan=\"7\" valign=\"top\">Евгений Абрамович</th>\n",
              "      <th rowspan=\"7\" valign=\"top\">59</th>\n",
              "      <th rowspan=\"7\" valign=\"top\">male</th>\n",
              "      <th rowspan=\"7\" valign=\"top\">Стерлитамак</th>\n",
              "      <th rowspan=\"7\" valign=\"top\">smart</th>\n",
              "      <th>6.0</th>\n",
              "      <td>550</td>\n",
              "      <td>0</td>\n",
              "      <td>15</td>\n",
              "      <td>4</td>\n",
              "      <td>11</td>\n",
              "      <td>111</td>\n",
              "    </tr>\n",
              "    <tr>\n",
              "      <th>7.0</th>\n",
              "      <td>1150</td>\n",
              "      <td>600</td>\n",
              "      <td>26</td>\n",
              "      <td>11</td>\n",
              "      <td>18</td>\n",
              "      <td>205</td>\n",
              "    </tr>\n",
              "    <tr>\n",
              "      <th>8.0</th>\n",
              "      <td>1550</td>\n",
              "      <td>1000</td>\n",
              "      <td>42</td>\n",
              "      <td>13</td>\n",
              "      <td>20</td>\n",
              "      <td>270</td>\n",
              "    </tr>\n",
              "    <tr>\n",
              "      <th>9.0</th>\n",
              "      <td>950</td>\n",
              "      <td>400</td>\n",
              "      <td>36</td>\n",
              "      <td>4</td>\n",
              "      <td>17</td>\n",
              "      <td>196</td>\n",
              "    </tr>\n",
              "    <tr>\n",
              "      <th>10.0</th>\n",
              "      <td>550</td>\n",
              "      <td>0</td>\n",
              "      <td>33</td>\n",
              "      <td>10</td>\n",
              "      <td>14</td>\n",
              "      <td>200</td>\n",
              "    </tr>\n",
              "    <tr>\n",
              "      <th>11.0</th>\n",
              "      <td>1350</td>\n",
              "      <td>800</td>\n",
              "      <td>32</td>\n",
              "      <td>16</td>\n",
              "      <td>19</td>\n",
              "      <td>229</td>\n",
              "    </tr>\n",
              "    <tr>\n",
              "      <th>12.0</th>\n",
              "      <td>1150</td>\n",
              "      <td>600</td>\n",
              "      <td>33</td>\n",
              "      <td>12</td>\n",
              "      <td>18</td>\n",
              "      <td>223</td>\n",
              "    </tr>\n",
              "    <tr>\n",
              "      <th rowspan=\"3\" valign=\"top\">1003</th>\n",
              "      <th rowspan=\"3\" valign=\"top\">Белла Белякова</th>\n",
              "      <th rowspan=\"3\" valign=\"top\">23</th>\n",
              "      <th rowspan=\"3\" valign=\"top\">female</th>\n",
              "      <th rowspan=\"3\" valign=\"top\">Москва</th>\n",
              "      <th rowspan=\"3\" valign=\"top\">ultra</th>\n",
              "      <th>8.0</th>\n",
              "      <td>1950</td>\n",
              "      <td>0</td>\n",
              "      <td>55</td>\n",
              "      <td>37</td>\n",
              "      <td>9</td>\n",
              "      <td>356</td>\n",
              "    </tr>\n",
              "    <tr>\n",
              "      <th>9.0</th>\n",
              "      <td>1950</td>\n",
              "      <td>0</td>\n",
              "      <td>134</td>\n",
              "      <td>91</td>\n",
              "      <td>13</td>\n",
              "      <td>905</td>\n",
              "    </tr>\n",
              "    <tr>\n",
              "      <th>10.0</th>\n",
              "      <td>1950</td>\n",
              "      <td>0</td>\n",
              "      <td>108</td>\n",
              "      <td>83</td>\n",
              "      <td>15</td>\n",
              "      <td>810</td>\n",
              "    </tr>\n",
              "  </tbody>\n",
              "</table>\n",
              "</div>"
            ],
            "text/plain": [
              "                                                                    need_to_pay  \\\n",
              "user_id full_name         age gender city        tariff_name month                \n",
              "1000    Рафаил Верещагин  52  male   Краснодар   ultra       5.0           1950   \n",
              "                                                             6.0           1950   \n",
              "                                                             7.0           1950   \n",
              "                                                             8.0           1950   \n",
              "                                                             9.0           1950   \n",
              "                                                             10.0          1950   \n",
              "                                                             11.0          1950   \n",
              "                                                             12.0          1950   \n",
              "1001    Иван Ежов         41  male   Москва      smart       11.0          1150   \n",
              "                                                             12.0           550   \n",
              "1002    Евгений Абрамович 59  male   Стерлитамак smart       6.0            550   \n",
              "                                                             7.0           1150   \n",
              "                                                             8.0           1550   \n",
              "                                                             9.0            950   \n",
              "                                                             10.0           550   \n",
              "                                                             11.0          1350   \n",
              "                                                             12.0          1150   \n",
              "1003    Белла Белякова    23  female Москва      ultra       8.0           1950   \n",
              "                                                             9.0           1950   \n",
              "                                                             10.0          1950   \n",
              "\n",
              "                                                                    overpayment  \\\n",
              "user_id full_name         age gender city        tariff_name month                \n",
              "1000    Рафаил Верещагин  52  male   Краснодар   ultra       5.0              0   \n",
              "                                                             6.0              0   \n",
              "                                                             7.0              0   \n",
              "                                                             8.0              0   \n",
              "                                                             9.0              0   \n",
              "                                                             10.0             0   \n",
              "                                                             11.0             0   \n",
              "                                                             12.0             0   \n",
              "1001    Иван Ежов         41  male   Москва      smart       11.0           600   \n",
              "                                                             12.0             0   \n",
              "1002    Евгений Абрамович 59  male   Стерлитамак smart       6.0              0   \n",
              "                                                             7.0            600   \n",
              "                                                             8.0           1000   \n",
              "                                                             9.0            400   \n",
              "                                                             10.0             0   \n",
              "                                                             11.0           800   \n",
              "                                                             12.0           600   \n",
              "1003    Белла Белякова    23  female Москва      ultra       8.0              0   \n",
              "                                                             9.0              0   \n",
              "                                                             10.0             0   \n",
              "\n",
              "                                                                    quantity_calls  \\\n",
              "user_id full_name         age gender city        tariff_name month                   \n",
              "1000    Рафаил Верещагин  52  male   Краснодар   ultra       5.0                22   \n",
              "                                                             6.0                43   \n",
              "                                                             7.0                47   \n",
              "                                                             8.0                52   \n",
              "                                                             9.0                58   \n",
              "                                                             10.0               57   \n",
              "                                                             11.0               43   \n",
              "                                                             12.0               46   \n",
              "1001    Иван Ежов         41  male   Москва      smart       11.0               59   \n",
              "                                                             12.0               63   \n",
              "1002    Евгений Абрамович 59  male   Стерлитамак smart       6.0                15   \n",
              "                                                             7.0                26   \n",
              "                                                             8.0                42   \n",
              "                                                             9.0                36   \n",
              "                                                             10.0               33   \n",
              "                                                             11.0               32   \n",
              "                                                             12.0               33   \n",
              "1003    Белла Белякова    23  female Москва      ultra       8.0                55   \n",
              "                                                             9.0               134   \n",
              "                                                             10.0              108   \n",
              "\n",
              "                                                                    quantity_messages  \\\n",
              "user_id full_name         age gender city        tariff_name month                      \n",
              "1000    Рафаил Верещагин  52  male   Краснодар   ultra       5.0                   22   \n",
              "                                                             6.0                   60   \n",
              "                                                             7.0                   75   \n",
              "                                                             8.0                   81   \n",
              "                                                             9.0                   57   \n",
              "                                                             10.0                  73   \n",
              "                                                             11.0                  58   \n",
              "                                                             12.0                  70   \n",
              "1001    Иван Ежов         41  male   Москва      smart       11.0                   0   \n",
              "                                                             12.0                   0   \n",
              "1002    Евгений Абрамович 59  male   Стерлитамак smart       6.0                    4   \n",
              "                                                             7.0                   11   \n",
              "                                                             8.0                   13   \n",
              "                                                             9.0                    4   \n",
              "                                                             10.0                  10   \n",
              "                                                             11.0                  16   \n",
              "                                                             12.0                  12   \n",
              "1003    Белла Белякова    23  female Москва      ultra       8.0                   37   \n",
              "                                                             9.0                   91   \n",
              "                                                             10.0                  83   \n",
              "\n",
              "                                                                    quantity_traffic_gb  \\\n",
              "user_id full_name         age gender city        tariff_name month                        \n",
              "1000    Рафаил Верещагин  52  male   Краснодар   ultra       5.0                      3   \n",
              "                                                             6.0                     23   \n",
              "                                                             7.0                     14   \n",
              "                                                             8.0                     14   \n",
              "                                                             9.0                     15   \n",
              "                                                             10.0                    15   \n",
              "                                                             11.0                    15   \n",
              "                                                             12.0                    10   \n",
              "1001    Иван Ежов         41  male   Москва      smart       11.0                    18   \n",
              "                                                             12.0                    14   \n",
              "1002    Евгений Абрамович 59  male   Стерлитамак smart       6.0                     11   \n",
              "                                                             7.0                     18   \n",
              "                                                             8.0                     20   \n",
              "                                                             9.0                     17   \n",
              "                                                             10.0                    14   \n",
              "                                                             11.0                    19   \n",
              "                                                             12.0                    18   \n",
              "1003    Белла Белякова    23  female Москва      ultra       8.0                      9   \n",
              "                                                             9.0                     13   \n",
              "                                                             10.0                    15   \n",
              "\n",
              "                                                                    total_duration  \n",
              "user_id full_name         age gender city        tariff_name month                  \n",
              "1000    Рафаил Верещагин  52  male   Краснодар   ultra       5.0               151  \n",
              "                                                             6.0               159  \n",
              "                                                             7.0               319  \n",
              "                                                             8.0               390  \n",
              "                                                             9.0               441  \n",
              "                                                             10.0              329  \n",
              "                                                             11.0              320  \n",
              "                                                             12.0              313  \n",
              "1001    Иван Ежов         41  male   Москва      smart       11.0              409  \n",
              "                                                             12.0              392  \n",
              "1002    Евгений Абрамович 59  male   Стерлитамак smart       6.0               111  \n",
              "                                                             7.0               205  \n",
              "                                                             8.0               270  \n",
              "                                                             9.0               196  \n",
              "                                                             10.0              200  \n",
              "                                                             11.0              229  \n",
              "                                                             12.0              223  \n",
              "1003    Белла Белякова    23  female Москва      ultra       8.0               356  \n",
              "                                                             9.0               905  \n",
              "                                                             10.0              810  "
            ]
          },
          "execution_count": 36,
          "metadata": {},
          "output_type": "execute_result"
        }
      ],
      "source": [
        "#переплата\n",
        "\n",
        "df['overpayment'] = df['need_to_pay'] - df['rub_monthly_fee']\n",
        "\n",
        "#сделаю красиво. нравится.)\n",
        "\n",
        "df = df.drop(\n",
        "    columns=[\n",
        "             'messages_included',\n",
        "             'mb_per_month_included',\n",
        "             'minutes_included',\n",
        "             'rub_monthly_fee',\n",
        "             'rub_per_gb',\n",
        "             'rub_per_message',\n",
        "             'rub_per_minute',\n",
        "             'gb_per_month_included'\n",
        "             ]\n",
        "             ) \n",
        "\n",
        "\n",
        "df = df.pivot_table(\n",
        "    index=['user_id', 'full_name', 'age', 'gender', 'city', 'tariff_name', 'month'] # добавил city\n",
        "    )\n",
        "df.head(20)"
      ]
    },
    {
      "cell_type": "code",
      "execution_count": null,
      "metadata": {
        "id": "m5GQ65n4ySyd",
        "outputId": "8a43400a-868f-4471-c824-c7219da03385"
      },
      "outputs": [
        {
          "data": {
            "text/plain": [
              "user_id                0\n",
              "full_name              0\n",
              "age                    0\n",
              "gender                 0\n",
              "city                   0\n",
              "tariff_name            0\n",
              "month                  0\n",
              "need_to_pay            0\n",
              "overpayment            0\n",
              "quantity_calls         0\n",
              "quantity_messages      0\n",
              "quantity_traffic_gb    0\n",
              "total_duration         0\n",
              "dtype: int64"
            ]
          },
          "execution_count": 37,
          "metadata": {},
          "output_type": "execute_result"
        }
      ],
      "source": [
        "df_test = df\n",
        "\n",
        "df_test = df_test.reset_index()\n",
        "\n",
        "df_test.head(10)\n",
        "\n",
        "df_test.isna().sum() # не вижу nan"
      ]
    },
    {
      "cell_type": "code",
      "execution_count": null,
      "metadata": {
        "id": "P6pZmcrHySyf",
        "outputId": "c40ebe74-9940-44d2-a9cb-97bbb51c759c"
      },
      "outputs": [
        {
          "data": {
            "text/plain": [
              "need_to_pay            0\n",
              "overpayment            0\n",
              "quantity_calls         0\n",
              "quantity_messages      0\n",
              "quantity_traffic_gb    0\n",
              "total_duration         0\n",
              "dtype: int64"
            ]
          },
          "execution_count": 38,
          "metadata": {},
          "output_type": "execute_result"
        }
      ],
      "source": [
        "df.head(10)\n",
        "df.isna().sum()"
      ]
    },
    {
      "cell_type": "markdown",
      "metadata": {
        "id": "HTHD2ILbMv3N"
      },
      "source": [
        "### Вывод"
      ]
    },
    {
      "cell_type": "markdown",
      "metadata": {
        "id": "sIK9iQnDM3hO"
      },
      "source": [
        "после того, как мне взбрела в голову идея, что нужно понять гендер пользователей и я смог!)), писать что-то еще совсем не хочется.\n",
        " \n",
        "но надо\n",
        "\n",
        "Я попробовал разные способы объединения таблиц и написал большую функцию.\n",
        "\n",
        "\n"
      ]
    },
    {
      "cell_type": "markdown",
      "metadata": {
        "id": "PfTLKDVDySyg"
      },
      "source": [
        "<div class=\"alert-warning\"> \n",
        "<b>Комментарий ревьюера 💡</b> \n",
        "    \n",
        "Стоит доработать этот вывод, такое СЕО компании не отнесешь :)"
      ]
    },
    {
      "cell_type": "markdown",
      "metadata": {
        "id": "b-ZOq6PiySyg"
      },
      "source": [
        "<div class=\"alert alert-info\">\n",
        "<b>Комментарий:</b>\n",
        "<br>Данные пришли в хорошем состоянии, они подходят для проведения аналитического анализа. \n",
        "Дополнительно был определен гендер каждого абонента для проверки гипотез\n",
        "</div>"
      ]
    },
    {
      "cell_type": "markdown",
      "metadata": {
        "id": "3v_afdbbZ1qb"
      },
      "source": [
        "# Шаг 3. Проанализируйте данные"
      ]
    },
    {
      "cell_type": "markdown",
      "metadata": {
        "id": "4dyJlxOGZ3Fj"
      },
      "source": [
        "Опишите поведение клиентов оператора, исходя из выборки. \n",
        "\n",
        "Сколько минут разговора, сколько сообщений и какой объём интернет-трафика требуется пользователям каждого тарифа в месяц?\n",
        "\n",
        "Посчитайте среднее количество, дисперсию и стандартное отклонение. Постройте гистограммы.\n",
        "\n",
        "Опишите распределения."
      ]
    },
    {
      "cell_type": "markdown",
      "metadata": {
        "id": "ieiCfjxEWZut"
      },
      "source": [
        "### Тариф UTRA"
      ]
    },
    {
      "cell_type": "code",
      "execution_count": null,
      "metadata": {
        "colab": {
          "base_uri": "https://localhost:8080/",
          "height": 765
        },
        "id": "UeTOmVUUZ8_6",
        "outputId": "2fddec78-ce64-446d-99af-e431a42c017f"
      },
      "outputs": [
        {
          "data": {
            "text/html": [
              "<div>\n",
              "<style scoped>\n",
              "    .dataframe tbody tr th:only-of-type {\n",
              "        vertical-align: middle;\n",
              "    }\n",
              "\n",
              "    .dataframe tbody tr th {\n",
              "        vertical-align: top;\n",
              "    }\n",
              "\n",
              "    .dataframe thead th {\n",
              "        text-align: right;\n",
              "    }\n",
              "</style>\n",
              "<table border=\"1\" class=\"dataframe\">\n",
              "  <thead>\n",
              "    <tr style=\"text-align: right;\">\n",
              "      <th></th>\n",
              "      <th>month</th>\n",
              "      <th>mean_need_to_pay</th>\n",
              "      <th>mean_quantity_messages</th>\n",
              "      <th>mean_quantity_traffic_gb</th>\n",
              "      <th>mean_total_duration</th>\n",
              "      <th>var_need_to_pay</th>\n",
              "      <th>var_quantity_messages</th>\n",
              "      <th>var_quantity_traffic_gb</th>\n",
              "      <th>var_total_duration</th>\n",
              "      <th>std_need_to_pay</th>\n",
              "      <th>std_quantity_messages</th>\n",
              "      <th>std_quantity_traffic_gb</th>\n",
              "      <th>std_total_duration</th>\n",
              "    </tr>\n",
              "  </thead>\n",
              "  <tbody>\n",
              "    <tr>\n",
              "      <th>0</th>\n",
              "      <td>1.0</td>\n",
              "      <td>1950.000000</td>\n",
              "      <td>33.777778</td>\n",
              "      <td>13.222222</td>\n",
              "      <td>405.333333</td>\n",
              "      <td>0.000000</td>\n",
              "      <td>940.694444</td>\n",
              "      <td>44.444444</td>\n",
              "      <td>64885.250000</td>\n",
              "      <td>0.000000</td>\n",
              "      <td>30.670742</td>\n",
              "      <td>6.666667</td>\n",
              "      <td>254.725833</td>\n",
              "    </tr>\n",
              "    <tr>\n",
              "      <th>1</th>\n",
              "      <td>2.0</td>\n",
              "      <td>1975.000000</td>\n",
              "      <td>21.958333</td>\n",
              "      <td>12.000000</td>\n",
              "      <td>281.125000</td>\n",
              "      <td>7173.913043</td>\n",
              "      <td>716.824275</td>\n",
              "      <td>109.130435</td>\n",
              "      <td>79012.635870</td>\n",
              "      <td>84.698955</td>\n",
              "      <td>26.773574</td>\n",
              "      <td>10.446551</td>\n",
              "      <td>281.091864</td>\n",
              "    </tr>\n",
              "    <tr>\n",
              "      <th>2</th>\n",
              "      <td>3.0</td>\n",
              "      <td>2014.864865</td>\n",
              "      <td>32.297297</td>\n",
              "      <td>17.648649</td>\n",
              "      <td>462.972973</td>\n",
              "      <td>43175.675676</td>\n",
              "      <td>1732.381381</td>\n",
              "      <td>114.345345</td>\n",
              "      <td>99636.749249</td>\n",
              "      <td>207.787573</td>\n",
              "      <td>41.621886</td>\n",
              "      <td>10.693238</td>\n",
              "      <td>315.652894</td>\n",
              "    </tr>\n",
              "    <tr>\n",
              "      <th>3</th>\n",
              "      <td>4.0</td>\n",
              "      <td>2001.818182</td>\n",
              "      <td>31.563636</td>\n",
              "      <td>16.963636</td>\n",
              "      <td>432.363636</td>\n",
              "      <td>38515.151515</td>\n",
              "      <td>1407.287542</td>\n",
              "      <td>89.443098</td>\n",
              "      <td>64052.198653</td>\n",
              "      <td>196.252775</td>\n",
              "      <td>37.513831</td>\n",
              "      <td>9.457436</td>\n",
              "      <td>253.085358</td>\n",
              "    </tr>\n",
              "    <tr>\n",
              "      <th>4</th>\n",
              "      <td>5.0</td>\n",
              "      <td>2059.701493</td>\n",
              "      <td>37.850746</td>\n",
              "      <td>19.373134</td>\n",
              "      <td>482.208955</td>\n",
              "      <td>162669.606513</td>\n",
              "      <td>1624.644052</td>\n",
              "      <td>95.631389</td>\n",
              "      <td>74763.834464</td>\n",
              "      <td>403.323204</td>\n",
              "      <td>40.306874</td>\n",
              "      <td>9.779130</td>\n",
              "      <td>273.429761</td>\n",
              "    </tr>\n",
              "    <tr>\n",
              "      <th>5</th>\n",
              "      <td>6.0</td>\n",
              "      <td>2039.285714</td>\n",
              "      <td>41.726190</td>\n",
              "      <td>18.940476</td>\n",
              "      <td>453.452381</td>\n",
              "      <td>99823.580034</td>\n",
              "      <td>1986.297619</td>\n",
              "      <td>82.394005</td>\n",
              "      <td>82065.816982</td>\n",
              "      <td>315.948698</td>\n",
              "      <td>44.567899</td>\n",
              "      <td>9.077114</td>\n",
              "      <td>286.471320</td>\n",
              "    </tr>\n",
              "    <tr>\n",
              "      <th>6</th>\n",
              "      <td>7.0</td>\n",
              "      <td>2118.131868</td>\n",
              "      <td>49.846154</td>\n",
              "      <td>20.505495</td>\n",
              "      <td>515.692308</td>\n",
              "      <td>198917.582418</td>\n",
              "      <td>2372.042735</td>\n",
              "      <td>96.430525</td>\n",
              "      <td>84188.593162</td>\n",
              "      <td>446.001774</td>\n",
              "      <td>48.703621</td>\n",
              "      <td>9.819905</td>\n",
              "      <td>290.152707</td>\n",
              "    </tr>\n",
              "    <tr>\n",
              "      <th>7</th>\n",
              "      <td>8.0</td>\n",
              "      <td>2083.177570</td>\n",
              "      <td>48.439252</td>\n",
              "      <td>19.598131</td>\n",
              "      <td>482.401869</td>\n",
              "      <td>159761.505907</td>\n",
              "      <td>2171.739199</td>\n",
              "      <td>105.148298</td>\n",
              "      <td>87227.525657</td>\n",
              "      <td>399.701771</td>\n",
              "      <td>46.601923</td>\n",
              "      <td>10.254184</td>\n",
              "      <td>295.343064</td>\n",
              "    </tr>\n",
              "    <tr>\n",
              "      <th>8</th>\n",
              "      <td>9.0</td>\n",
              "      <td>2024.347826</td>\n",
              "      <td>52.286957</td>\n",
              "      <td>19.243478</td>\n",
              "      <td>509.600000</td>\n",
              "      <td>60937.070938</td>\n",
              "      <td>2152.855530</td>\n",
              "      <td>86.255988</td>\n",
              "      <td>94090.821053</td>\n",
              "      <td>246.854352</td>\n",
              "      <td>46.398874</td>\n",
              "      <td>9.287410</td>\n",
              "      <td>306.742271</td>\n",
              "    </tr>\n",
              "    <tr>\n",
              "      <th>9</th>\n",
              "      <td>10.0</td>\n",
              "      <td>2065.853659</td>\n",
              "      <td>58.430894</td>\n",
              "      <td>20.065041</td>\n",
              "      <td>527.308943</td>\n",
              "      <td>149685.125950</td>\n",
              "      <td>2697.181661</td>\n",
              "      <td>91.258030</td>\n",
              "      <td>94892.772624</td>\n",
              "      <td>386.891620</td>\n",
              "      <td>51.934398</td>\n",
              "      <td>9.552907</td>\n",
              "      <td>308.046705</td>\n",
              "    </tr>\n",
              "    <tr>\n",
              "      <th>10</th>\n",
              "      <td>11.0</td>\n",
              "      <td>2092.164179</td>\n",
              "      <td>55.791045</td>\n",
              "      <td>19.805970</td>\n",
              "      <td>511.358209</td>\n",
              "      <td>167588.514196</td>\n",
              "      <td>2476.948491</td>\n",
              "      <td>93.796656</td>\n",
              "      <td>86167.720346</td>\n",
              "      <td>409.375762</td>\n",
              "      <td>49.768951</td>\n",
              "      <td>9.684867</td>\n",
              "      <td>293.543388</td>\n",
              "    </tr>\n",
              "    <tr>\n",
              "      <th>11</th>\n",
              "      <td>12.0</td>\n",
              "      <td>2138.848921</td>\n",
              "      <td>60.611511</td>\n",
              "      <td>21.741007</td>\n",
              "      <td>560.079137</td>\n",
              "      <td>232610.259618</td>\n",
              "      <td>2681.978417</td>\n",
              "      <td>103.236784</td>\n",
              "      <td>104324.856011</td>\n",
              "      <td>482.296858</td>\n",
              "      <td>51.787821</td>\n",
              "      <td>10.160550</td>\n",
              "      <td>322.993585</td>\n",
              "    </tr>\n",
              "  </tbody>\n",
              "</table>\n",
              "</div>"
            ],
            "text/plain": [
              "    month  mean_need_to_pay  mean_quantity_messages  mean_quantity_traffic_gb  \\\n",
              "0     1.0       1950.000000               33.777778                 13.222222   \n",
              "1     2.0       1975.000000               21.958333                 12.000000   \n",
              "2     3.0       2014.864865               32.297297                 17.648649   \n",
              "3     4.0       2001.818182               31.563636                 16.963636   \n",
              "4     5.0       2059.701493               37.850746                 19.373134   \n",
              "5     6.0       2039.285714               41.726190                 18.940476   \n",
              "6     7.0       2118.131868               49.846154                 20.505495   \n",
              "7     8.0       2083.177570               48.439252                 19.598131   \n",
              "8     9.0       2024.347826               52.286957                 19.243478   \n",
              "9    10.0       2065.853659               58.430894                 20.065041   \n",
              "10   11.0       2092.164179               55.791045                 19.805970   \n",
              "11   12.0       2138.848921               60.611511                 21.741007   \n",
              "\n",
              "    mean_total_duration  var_need_to_pay  var_quantity_messages  \\\n",
              "0            405.333333         0.000000             940.694444   \n",
              "1            281.125000      7173.913043             716.824275   \n",
              "2            462.972973     43175.675676            1732.381381   \n",
              "3            432.363636     38515.151515            1407.287542   \n",
              "4            482.208955    162669.606513            1624.644052   \n",
              "5            453.452381     99823.580034            1986.297619   \n",
              "6            515.692308    198917.582418            2372.042735   \n",
              "7            482.401869    159761.505907            2171.739199   \n",
              "8            509.600000     60937.070938            2152.855530   \n",
              "9            527.308943    149685.125950            2697.181661   \n",
              "10           511.358209    167588.514196            2476.948491   \n",
              "11           560.079137    232610.259618            2681.978417   \n",
              "\n",
              "    var_quantity_traffic_gb  var_total_duration  std_need_to_pay  \\\n",
              "0                 44.444444        64885.250000         0.000000   \n",
              "1                109.130435        79012.635870        84.698955   \n",
              "2                114.345345        99636.749249       207.787573   \n",
              "3                 89.443098        64052.198653       196.252775   \n",
              "4                 95.631389        74763.834464       403.323204   \n",
              "5                 82.394005        82065.816982       315.948698   \n",
              "6                 96.430525        84188.593162       446.001774   \n",
              "7                105.148298        87227.525657       399.701771   \n",
              "8                 86.255988        94090.821053       246.854352   \n",
              "9                 91.258030        94892.772624       386.891620   \n",
              "10                93.796656        86167.720346       409.375762   \n",
              "11               103.236784       104324.856011       482.296858   \n",
              "\n",
              "    std_quantity_messages  std_quantity_traffic_gb  std_total_duration  \n",
              "0               30.670742                 6.666667          254.725833  \n",
              "1               26.773574                10.446551          281.091864  \n",
              "2               41.621886                10.693238          315.652894  \n",
              "3               37.513831                 9.457436          253.085358  \n",
              "4               40.306874                 9.779130          273.429761  \n",
              "5               44.567899                 9.077114          286.471320  \n",
              "6               48.703621                 9.819905          290.152707  \n",
              "7               46.601923                10.254184          295.343064  \n",
              "8               46.398874                 9.287410          306.742271  \n",
              "9               51.934398                 9.552907          308.046705  \n",
              "10              49.768951                 9.684867          293.543388  \n",
              "11              51.787821                10.160550          322.993585  "
            ]
          },
          "metadata": {},
          "output_type": "display_data"
        },
        {
          "data": {
            "text/html": [
              "<div>\n",
              "<style scoped>\n",
              "    .dataframe tbody tr th:only-of-type {\n",
              "        vertical-align: middle;\n",
              "    }\n",
              "\n",
              "    .dataframe tbody tr th {\n",
              "        vertical-align: top;\n",
              "    }\n",
              "\n",
              "    .dataframe thead th {\n",
              "        text-align: right;\n",
              "    }\n",
              "</style>\n",
              "<table border=\"1\" class=\"dataframe\">\n",
              "  <thead>\n",
              "    <tr style=\"text-align: right;\">\n",
              "      <th></th>\n",
              "      <th>month</th>\n",
              "      <th>mean_need_to_pay</th>\n",
              "      <th>mean_quantity_messages</th>\n",
              "      <th>mean_quantity_traffic_gb</th>\n",
              "      <th>mean_total_duration</th>\n",
              "      <th>var_need_to_pay</th>\n",
              "      <th>var_quantity_messages</th>\n",
              "      <th>var_quantity_traffic_gb</th>\n",
              "      <th>var_total_duration</th>\n",
              "      <th>std_need_to_pay</th>\n",
              "      <th>std_quantity_messages</th>\n",
              "      <th>std_quantity_traffic_gb</th>\n",
              "      <th>std_total_duration</th>\n",
              "    </tr>\n",
              "  </thead>\n",
              "  <tbody>\n",
              "    <tr>\n",
              "      <th>count</th>\n",
              "      <td>12.000000</td>\n",
              "      <td>12.000000</td>\n",
              "      <td>12.000000</td>\n",
              "      <td>12.000000</td>\n",
              "      <td>12.000000</td>\n",
              "      <td>12.000000</td>\n",
              "      <td>12.000000</td>\n",
              "      <td>12.000000</td>\n",
              "      <td>12.000000</td>\n",
              "      <td>12.000000</td>\n",
              "      <td>12.000000</td>\n",
              "      <td>12.000000</td>\n",
              "      <td>12.000000</td>\n",
              "    </tr>\n",
              "    <tr>\n",
              "      <th>mean</th>\n",
              "      <td>6.500000</td>\n",
              "      <td>2046.932856</td>\n",
              "      <td>43.714983</td>\n",
              "      <td>18.258937</td>\n",
              "      <td>468.658062</td>\n",
              "      <td>110071.498817</td>\n",
              "      <td>1913.406279</td>\n",
              "      <td>92.626250</td>\n",
              "      <td>84609.064506</td>\n",
              "      <td>298.261112</td>\n",
              "      <td>43.054200</td>\n",
              "      <td>9.573330</td>\n",
              "      <td>290.106563</td>\n",
              "    </tr>\n",
              "    <tr>\n",
              "      <th>std</th>\n",
              "      <td>3.605551</td>\n",
              "      <td>56.889858</td>\n",
              "      <td>12.320470</td>\n",
              "      <td>2.921533</td>\n",
              "      <td>73.014016</td>\n",
              "      <td>78532.390865</td>\n",
              "      <td>647.555249</td>\n",
              "      <td>17.881264</td>\n",
              "      <td>12670.635037</td>\n",
              "      <td>151.759887</td>\n",
              "      <td>8.072997</td>\n",
              "      <td>1.032702</td>\n",
              "      <td>22.088588</td>\n",
              "    </tr>\n",
              "    <tr>\n",
              "      <th>min</th>\n",
              "      <td>1.000000</td>\n",
              "      <td>1950.000000</td>\n",
              "      <td>21.958333</td>\n",
              "      <td>12.000000</td>\n",
              "      <td>281.125000</td>\n",
              "      <td>0.000000</td>\n",
              "      <td>716.824275</td>\n",
              "      <td>44.444444</td>\n",
              "      <td>64052.198653</td>\n",
              "      <td>0.000000</td>\n",
              "      <td>26.773574</td>\n",
              "      <td>6.666667</td>\n",
              "      <td>253.085358</td>\n",
              "    </tr>\n",
              "    <tr>\n",
              "      <th>25%</th>\n",
              "      <td>3.750000</td>\n",
              "      <td>2011.603194</td>\n",
              "      <td>33.407658</td>\n",
              "      <td>17.477396</td>\n",
              "      <td>448.180195</td>\n",
              "      <td>42010.544636</td>\n",
              "      <td>1570.304925</td>\n",
              "      <td>88.646320</td>\n",
              "      <td>77950.435518</td>\n",
              "      <td>204.903874</td>\n",
              "      <td>39.608613</td>\n",
              "      <td>9.414930</td>\n",
              "      <td>279.176338</td>\n",
              "    </tr>\n",
              "    <tr>\n",
              "      <th>50%</th>\n",
              "      <td>6.500000</td>\n",
              "      <td>2049.493603</td>\n",
              "      <td>45.082721</td>\n",
              "      <td>19.308306</td>\n",
              "      <td>482.305412</td>\n",
              "      <td>124754.352992</td>\n",
              "      <td>2069.576575</td>\n",
              "      <td>94.714022</td>\n",
              "      <td>85178.156754</td>\n",
              "      <td>351.420159</td>\n",
              "      <td>45.483387</td>\n",
              "      <td>9.731999</td>\n",
              "      <td>291.848047</td>\n",
              "    </tr>\n",
              "    <tr>\n",
              "      <th>75%</th>\n",
              "      <td>9.250000</td>\n",
              "      <td>2085.424222</td>\n",
              "      <td>53.162979</td>\n",
              "      <td>19.870738</td>\n",
              "      <td>512.441734</td>\n",
              "      <td>163899.333434</td>\n",
              "      <td>2398.269174</td>\n",
              "      <td>103.714663</td>\n",
              "      <td>94291.308946</td>\n",
              "      <td>404.836343</td>\n",
              "      <td>48.969954</td>\n",
              "      <td>10.183959</td>\n",
              "      <td>307.068380</td>\n",
              "    </tr>\n",
              "    <tr>\n",
              "      <th>max</th>\n",
              "      <td>12.000000</td>\n",
              "      <td>2138.848921</td>\n",
              "      <td>60.611511</td>\n",
              "      <td>21.741007</td>\n",
              "      <td>560.079137</td>\n",
              "      <td>232610.259618</td>\n",
              "      <td>2697.181661</td>\n",
              "      <td>114.345345</td>\n",
              "      <td>104324.856011</td>\n",
              "      <td>482.296858</td>\n",
              "      <td>51.934398</td>\n",
              "      <td>10.693238</td>\n",
              "      <td>322.993585</td>\n",
              "    </tr>\n",
              "  </tbody>\n",
              "</table>\n",
              "</div>"
            ],
            "text/plain": [
              "           month  mean_need_to_pay  mean_quantity_messages  \\\n",
              "count  12.000000         12.000000               12.000000   \n",
              "mean    6.500000       2046.932856               43.714983   \n",
              "std     3.605551         56.889858               12.320470   \n",
              "min     1.000000       1950.000000               21.958333   \n",
              "25%     3.750000       2011.603194               33.407658   \n",
              "50%     6.500000       2049.493603               45.082721   \n",
              "75%     9.250000       2085.424222               53.162979   \n",
              "max    12.000000       2138.848921               60.611511   \n",
              "\n",
              "       mean_quantity_traffic_gb  mean_total_duration  var_need_to_pay  \\\n",
              "count                 12.000000            12.000000        12.000000   \n",
              "mean                  18.258937           468.658062    110071.498817   \n",
              "std                    2.921533            73.014016     78532.390865   \n",
              "min                   12.000000           281.125000         0.000000   \n",
              "25%                   17.477396           448.180195     42010.544636   \n",
              "50%                   19.308306           482.305412    124754.352992   \n",
              "75%                   19.870738           512.441734    163899.333434   \n",
              "max                   21.741007           560.079137    232610.259618   \n",
              "\n",
              "       var_quantity_messages  var_quantity_traffic_gb  var_total_duration  \\\n",
              "count              12.000000                12.000000           12.000000   \n",
              "mean             1913.406279                92.626250        84609.064506   \n",
              "std               647.555249                17.881264        12670.635037   \n",
              "min               716.824275                44.444444        64052.198653   \n",
              "25%              1570.304925                88.646320        77950.435518   \n",
              "50%              2069.576575                94.714022        85178.156754   \n",
              "75%              2398.269174               103.714663        94291.308946   \n",
              "max              2697.181661               114.345345       104324.856011   \n",
              "\n",
              "       std_need_to_pay  std_quantity_messages  std_quantity_traffic_gb  \\\n",
              "count        12.000000              12.000000                12.000000   \n",
              "mean        298.261112              43.054200                 9.573330   \n",
              "std         151.759887               8.072997                 1.032702   \n",
              "min           0.000000              26.773574                 6.666667   \n",
              "25%         204.903874              39.608613                 9.414930   \n",
              "50%         351.420159              45.483387                 9.731999   \n",
              "75%         404.836343              48.969954                10.183959   \n",
              "max         482.296858              51.934398                10.693238   \n",
              "\n",
              "       std_total_duration  \n",
              "count           12.000000  \n",
              "mean           290.106563  \n",
              "std             22.088588  \n",
              "min            253.085358  \n",
              "25%            279.176338  \n",
              "50%            291.848047  \n",
              "75%            307.068380  \n",
              "max            322.993585  "
            ]
          },
          "execution_count": 39,
          "metadata": {},
          "output_type": "execute_result"
        }
      ],
      "source": [
        "df_ultra = df.query('tariff_name == \"ultra\"').pivot_table(\n",
        "    index='month',\n",
        "    values=['total_duration',\n",
        "            'quantity_messages',\n",
        "            'quantity_traffic_gb',\n",
        "            'need_to_pay'],\n",
        "    aggfunc=['mean',\n",
        "             'var',\n",
        "             'std']\n",
        "    ).reset_index()\n",
        "\n",
        "df_ultra = df_ultra.rename(\n",
        "    columns={\n",
        "    'mean': 'mean_',\n",
        "    'var': 'var_',\n",
        "    'std': 'std_',\n",
        "    }\n",
        "    )\n",
        "\n",
        "# уберу мультииндекс\n",
        "df_ultra.columns = df_ultra.columns.map(''.join)\n",
        "\n",
        "display(df_ultra)\n",
        "df_ultra.describe()"
      ]
    },
    {
      "cell_type": "code",
      "execution_count": null,
      "metadata": {
        "colab": {
          "base_uri": "https://localhost:8080/",
          "height": 1000
        },
        "id": "uAzL4WSME-Z6",
        "outputId": "f02ff40f-f88c-4a48-f6ec-621c743de627"
      },
      "outputs": [
        {
          "name": "stdout",
          "output_type": "stream",
          "text": [
            "тариф ULTRA\n",
            "\n",
            "__________________________________________________________________________\n",
            "       mean_quantity_messages  mean_quantity_traffic_gb  mean_total_duration\n",
            "count               12.000000                 12.000000            12.000000\n",
            "mean                43.714983                 18.258937           468.658062\n",
            "std                 12.320470                  2.921533            73.014016\n",
            "min                 21.958333                 12.000000           281.125000\n",
            "25%                 33.407658                 17.477396           448.180195\n",
            "50%                 45.082721                 19.308306           482.305412\n",
            "75%                 53.162979                 19.870738           512.441734\n",
            "max                 60.611511                 21.741007           560.079137\n",
            "\n",
            "Среднее количество сообщений в месяц: 44\n",
            "\n",
            "Среднее объем трафика в месяц: 18 Гб\n",
            "\n",
            "Среднее количество минут разговора в месяц: 469 мин.\n",
            "__________________________________________________________________________\n",
            "       var_quantity_messages  var_quantity_traffic_gb  var_total_duration\n",
            "count              12.000000                12.000000           12.000000\n",
            "mean             1913.406279                92.626250        84609.064506\n",
            "std               647.555249                17.881264        12670.635037\n",
            "min               716.824275                44.444444        64052.198653\n",
            "25%              1570.304925                88.646320        77950.435518\n",
            "50%              2069.576575                94.714022        85178.156754\n",
            "75%              2398.269174               103.714663        94291.308946\n",
            "max              2697.181661               114.345345       104324.856011\n",
            "__________________________________________________________________________\n",
            "       std_quantity_messages  std_quantity_traffic_gb  std_total_duration\n",
            "count              12.000000                12.000000           12.000000\n",
            "mean               43.054200                 9.573330          290.106563\n",
            "std                 8.072997                 1.032702           22.088588\n",
            "min                26.773574                 6.666667          253.085358\n",
            "25%                39.608613                 9.414930          279.176338\n",
            "50%                45.483387                 9.731999          291.848047\n",
            "75%                48.969954                10.183959          307.068380\n",
            "max                51.934398                10.693238          322.993585\n",
            "\n"
          ]
        },
        {
          "data": {
            "text/plain": [
              "array([[<AxesSubplot:xlabel='mean_quantity_messages', ylabel='mean_quantity_messages'>,\n",
              "        <AxesSubplot:xlabel='mean_quantity_traffic_gb', ylabel='mean_quantity_messages'>,\n",
              "        <AxesSubplot:xlabel='mean_total_duration', ylabel='mean_quantity_messages'>],\n",
              "       [<AxesSubplot:xlabel='mean_quantity_messages', ylabel='mean_quantity_traffic_gb'>,\n",
              "        <AxesSubplot:xlabel='mean_quantity_traffic_gb', ylabel='mean_quantity_traffic_gb'>,\n",
              "        <AxesSubplot:xlabel='mean_total_duration', ylabel='mean_quantity_traffic_gb'>],\n",
              "       [<AxesSubplot:xlabel='mean_quantity_messages', ylabel='mean_total_duration'>,\n",
              "        <AxesSubplot:xlabel='mean_quantity_traffic_gb', ylabel='mean_total_duration'>,\n",
              "        <AxesSubplot:xlabel='mean_total_duration', ylabel='mean_total_duration'>]],\n",
              "      dtype=object)"
            ]
          },
          "execution_count": 40,
          "metadata": {},
          "output_type": "execute_result"
        },
        {
          "data": {
            "image/png": "[encoded data removed]",
            "text/plain": [
              "<Figure size 720x720 with 9 Axes>"
            ]
          },
          "metadata": {
            "needs_background": "light"
          },
          "output_type": "display_data"
        }
      ],
      "source": [
        "print('тариф ULTRA')\n",
        "print()\n",
        "print('__________________________________________________________________________')\n",
        "print(df_ultra.loc[:, ['mean_quantity_messages', 'mean_quantity_traffic_gb', 'mean_total_duration']].describe())\n",
        "print()\n",
        "print('Среднее количество сообщений в месяц: {:.0f}'.format(df_ultra['mean_quantity_messages'].mean()))\n",
        "print()\n",
        "print('Среднее объем трафика в месяц: {:.0f}'.format(df_ultra['mean_quantity_traffic_gb'].mean()), 'Гб')\n",
        "print()\n",
        "print('Среднее количество минут разговора в месяц: {:.0f}'.format(df_ultra['mean_total_duration'].mean()), 'мин.')\n",
        "print('__________________________________________________________________________')\n",
        "print(df_ultra.loc[:, ['var_quantity_messages', 'var_quantity_traffic_gb', 'var_total_duration']].describe())\n",
        "print('__________________________________________________________________________')\n",
        "print(df_ultra.loc[:, ['std_quantity_messages', 'std_quantity_traffic_gb', 'std_total_duration']].describe())\n",
        "print()\n",
        "pd.plotting.scatter_matrix(df_ultra[\n",
        "                                    ['mean_quantity_messages',\n",
        "                                     'mean_quantity_traffic_gb',\n",
        "                                     'mean_total_duration']\n",
        "                                    ],\n",
        "                           figsize = (10,10)\n",
        "                           )"
      ]
    },
    {
      "cell_type": "markdown",
      "metadata": {
        "id": "52G735wcWh_t"
      },
      "source": [
        "### Тариф SMART"
      ]
    },
    {
      "cell_type": "code",
      "execution_count": null,
      "metadata": {
        "colab": {
          "base_uri": "https://localhost:8080/",
          "height": 765
        },
        "id": "gD4bvPKscUQq",
        "outputId": "68a18a15-a9ee-486b-cf21-b287b2b07462"
      },
      "outputs": [
        {
          "data": {
            "text/html": [
              "<div>\n",
              "<style scoped>\n",
              "    .dataframe tbody tr th:only-of-type {\n",
              "        vertical-align: middle;\n",
              "    }\n",
              "\n",
              "    .dataframe tbody tr th {\n",
              "        vertical-align: top;\n",
              "    }\n",
              "\n",
              "    .dataframe thead th {\n",
              "        text-align: right;\n",
              "    }\n",
              "</style>\n",
              "<table border=\"1\" class=\"dataframe\">\n",
              "  <thead>\n",
              "    <tr style=\"text-align: right;\">\n",
              "      <th></th>\n",
              "      <th>month</th>\n",
              "      <th>sum_need_to_pay</th>\n",
              "      <th>sum_quantity_messages</th>\n",
              "      <th>sum_quantity_traffic_gb</th>\n",
              "      <th>sum_total_duration</th>\n",
              "      <th>mean_need_to_pay</th>\n",
              "      <th>mean_quantity_messages</th>\n",
              "      <th>mean_quantity_traffic_gb</th>\n",
              "      <th>mean_total_duration</th>\n",
              "      <th>std_need_to_pay</th>\n",
              "      <th>std_quantity_messages</th>\n",
              "      <th>std_quantity_traffic_gb</th>\n",
              "      <th>std_total_duration</th>\n",
              "      <th>var_need_to_pay</th>\n",
              "      <th>var_quantity_messages</th>\n",
              "      <th>var_quantity_traffic_gb</th>\n",
              "      <th>var_total_duration</th>\n",
              "    </tr>\n",
              "  </thead>\n",
              "  <tbody>\n",
              "    <tr>\n",
              "      <th>0</th>\n",
              "      <td>1.0</td>\n",
              "      <td>24456</td>\n",
              "      <td>620</td>\n",
              "      <td>297</td>\n",
              "      <td>6579</td>\n",
              "      <td>719.294118</td>\n",
              "      <td>18.235294</td>\n",
              "      <td>8.735294</td>\n",
              "      <td>193.500000</td>\n",
              "      <td>437.104213</td>\n",
              "      <td>16.197753</td>\n",
              "      <td>6.277950</td>\n",
              "      <td>146.327828</td>\n",
              "      <td>1.910601e+05</td>\n",
              "      <td>262.367201</td>\n",
              "      <td>39.412656</td>\n",
              "      <td>21411.833333</td>\n",
              "    </tr>\n",
              "    <tr>\n",
              "      <th>1</th>\n",
              "      <td>2.0</td>\n",
              "      <td>47053</td>\n",
              "      <td>1397</td>\n",
              "      <td>687</td>\n",
              "      <td>16438</td>\n",
              "      <td>811.258621</td>\n",
              "      <td>24.086207</td>\n",
              "      <td>11.844828</td>\n",
              "      <td>283.413793</td>\n",
              "      <td>525.639112</td>\n",
              "      <td>21.750809</td>\n",
              "      <td>6.095157</td>\n",
              "      <td>180.973783</td>\n",
              "      <td>2.762965e+05</td>\n",
              "      <td>473.097701</td>\n",
              "      <td>37.150938</td>\n",
              "      <td>32751.509982</td>\n",
              "    </tr>\n",
              "    <tr>\n",
              "      <th>2</th>\n",
              "      <td>3.0</td>\n",
              "      <td>87384</td>\n",
              "      <td>2453</td>\n",
              "      <td>1173</td>\n",
              "      <td>28362</td>\n",
              "      <td>1134.857143</td>\n",
              "      <td>31.857143</td>\n",
              "      <td>15.233766</td>\n",
              "      <td>368.337662</td>\n",
              "      <td>678.050819</td>\n",
              "      <td>26.804710</td>\n",
              "      <td>5.705252</td>\n",
              "      <td>181.538137</td>\n",
              "      <td>4.597529e+05</td>\n",
              "      <td>718.492481</td>\n",
              "      <td>32.549897</td>\n",
              "      <td>32956.095010</td>\n",
              "    </tr>\n",
              "    <tr>\n",
              "      <th>3</th>\n",
              "      <td>4.0</td>\n",
              "      <td>105253</td>\n",
              "      <td>3443</td>\n",
              "      <td>1526</td>\n",
              "      <td>38838</td>\n",
              "      <td>939.758929</td>\n",
              "      <td>30.741071</td>\n",
              "      <td>13.625000</td>\n",
              "      <td>346.767857</td>\n",
              "      <td>546.303949</td>\n",
              "      <td>24.538532</td>\n",
              "      <td>5.594600</td>\n",
              "      <td>176.135134</td>\n",
              "      <td>2.984480e+05</td>\n",
              "      <td>602.139559</td>\n",
              "      <td>31.299550</td>\n",
              "      <td>31023.585264</td>\n",
              "    </tr>\n",
              "    <tr>\n",
              "      <th>4</th>\n",
              "      <td>5.0</td>\n",
              "      <td>165339</td>\n",
              "      <td>4762</td>\n",
              "      <td>2243</td>\n",
              "      <td>51565</td>\n",
              "      <td>1172.617021</td>\n",
              "      <td>33.773050</td>\n",
              "      <td>15.907801</td>\n",
              "      <td>365.709220</td>\n",
              "      <td>712.596005</td>\n",
              "      <td>27.036845</td>\n",
              "      <td>5.862594</td>\n",
              "      <td>176.560210</td>\n",
              "      <td>5.077931e+05</td>\n",
              "      <td>730.990983</td>\n",
              "      <td>34.370010</td>\n",
              "      <td>31173.507700</td>\n",
              "    </tr>\n",
              "    <tr>\n",
              "      <th>5</th>\n",
              "      <td>6.0</td>\n",
              "      <td>192950</td>\n",
              "      <td>5478</td>\n",
              "      <td>2616</td>\n",
              "      <td>61283</td>\n",
              "      <td>1176.524390</td>\n",
              "      <td>33.402439</td>\n",
              "      <td>15.951220</td>\n",
              "      <td>373.676829</td>\n",
              "      <td>733.748929</td>\n",
              "      <td>28.404337</td>\n",
              "      <td>5.649046</td>\n",
              "      <td>165.692262</td>\n",
              "      <td>5.383875e+05</td>\n",
              "      <td>806.806374</td>\n",
              "      <td>31.911716</td>\n",
              "      <td>27453.925595</td>\n",
              "    </tr>\n",
              "    <tr>\n",
              "      <th>6</th>\n",
              "      <td>7.0</td>\n",
              "      <td>239765</td>\n",
              "      <td>6784</td>\n",
              "      <td>3191</td>\n",
              "      <td>77587</td>\n",
              "      <td>1192.860697</td>\n",
              "      <td>33.751244</td>\n",
              "      <td>15.875622</td>\n",
              "      <td>386.004975</td>\n",
              "      <td>727.772396</td>\n",
              "      <td>28.282288</td>\n",
              "      <td>5.780956</td>\n",
              "      <td>169.742879</td>\n",
              "      <td>5.296527e+05</td>\n",
              "      <td>799.887811</td>\n",
              "      <td>33.419453</td>\n",
              "      <td>28812.644975</td>\n",
              "    </tr>\n",
              "    <tr>\n",
              "      <th>7</th>\n",
              "      <td>8.0</td>\n",
              "      <td>303017</td>\n",
              "      <td>7905</td>\n",
              "      <td>3933</td>\n",
              "      <td>93616</td>\n",
              "      <td>1289.434043</td>\n",
              "      <td>33.638298</td>\n",
              "      <td>16.736170</td>\n",
              "      <td>398.365957</td>\n",
              "      <td>778.897681</td>\n",
              "      <td>28.952677</td>\n",
              "      <td>5.480986</td>\n",
              "      <td>176.475907</td>\n",
              "      <td>6.066816e+05</td>\n",
              "      <td>838.257501</td>\n",
              "      <td>30.041207</td>\n",
              "      <td>31143.745845</td>\n",
              "    </tr>\n",
              "    <tr>\n",
              "      <th>8</th>\n",
              "      <td>9.0</td>\n",
              "      <td>316187</td>\n",
              "      <td>8746</td>\n",
              "      <td>4262</td>\n",
              "      <td>105303</td>\n",
              "      <td>1216.103846</td>\n",
              "      <td>33.638462</td>\n",
              "      <td>16.392308</td>\n",
              "      <td>405.011538</td>\n",
              "      <td>717.129898</td>\n",
              "      <td>28.117927</td>\n",
              "      <td>5.087643</td>\n",
              "      <td>173.292987</td>\n",
              "      <td>5.142753e+05</td>\n",
              "      <td>790.617820</td>\n",
              "      <td>25.884110</td>\n",
              "      <td>30030.459326</td>\n",
              "    </tr>\n",
              "    <tr>\n",
              "      <th>9</th>\n",
              "      <td>10.0</td>\n",
              "      <td>391409</td>\n",
              "      <td>9927</td>\n",
              "      <td>4963</td>\n",
              "      <td>118412</td>\n",
              "      <td>1331.323129</td>\n",
              "      <td>33.765306</td>\n",
              "      <td>16.880952</td>\n",
              "      <td>402.761905</td>\n",
              "      <td>824.200563</td>\n",
              "      <td>28.567673</td>\n",
              "      <td>5.735594</td>\n",
              "      <td>177.992516</td>\n",
              "      <td>6.793066e+05</td>\n",
              "      <td>816.111966</td>\n",
              "      <td>32.897042</td>\n",
              "      <td>31681.335609</td>\n",
              "    </tr>\n",
              "    <tr>\n",
              "      <th>10</th>\n",
              "      <td>11.0</td>\n",
              "      <td>413474</td>\n",
              "      <td>10768</td>\n",
              "      <td>5372</td>\n",
              "      <td>129908</td>\n",
              "      <td>1308.462025</td>\n",
              "      <td>34.075949</td>\n",
              "      <td>17.000000</td>\n",
              "      <td>411.101266</td>\n",
              "      <td>780.087912</td>\n",
              "      <td>28.389031</td>\n",
              "      <td>5.213535</td>\n",
              "      <td>168.105964</td>\n",
              "      <td>6.085372e+05</td>\n",
              "      <td>805.937071</td>\n",
              "      <td>27.180952</td>\n",
              "      <td>28259.615110</td>\n",
              "    </tr>\n",
              "    <tr>\n",
              "      <th>11</th>\n",
              "      <td>12.0</td>\n",
              "      <td>516878</td>\n",
              "      <td>12130</td>\n",
              "      <td>6134</td>\n",
              "      <td>152391</td>\n",
              "      <td>1533.762611</td>\n",
              "      <td>35.994065</td>\n",
              "      <td>18.201780</td>\n",
              "      <td>452.198813</td>\n",
              "      <td>1010.030237</td>\n",
              "      <td>30.576990</td>\n",
              "      <td>5.457705</td>\n",
              "      <td>188.487713</td>\n",
              "      <td>1.020161e+06</td>\n",
              "      <td>934.952346</td>\n",
              "      <td>29.786544</td>\n",
              "      <td>35527.618094</td>\n",
              "    </tr>\n",
              "  </tbody>\n",
              "</table>\n",
              "</div>"
            ],
            "text/plain": [
              "    month  sum_need_to_pay  sum_quantity_messages  sum_quantity_traffic_gb  \\\n",
              "0     1.0            24456                    620                      297   \n",
              "1     2.0            47053                   1397                      687   \n",
              "2     3.0            87384                   2453                     1173   \n",
              "3     4.0           105253                   3443                     1526   \n",
              "4     5.0           165339                   4762                     2243   \n",
              "5     6.0           192950                   5478                     2616   \n",
              "6     7.0           239765                   6784                     3191   \n",
              "7     8.0           303017                   7905                     3933   \n",
              "8     9.0           316187                   8746                     4262   \n",
              "9    10.0           391409                   9927                     4963   \n",
              "10   11.0           413474                  10768                     5372   \n",
              "11   12.0           516878                  12130                     6134   \n",
              "\n",
              "    sum_total_duration  mean_need_to_pay  mean_quantity_messages  \\\n",
              "0                 6579        719.294118               18.235294   \n",
              "1                16438        811.258621               24.086207   \n",
              "2                28362       1134.857143               31.857143   \n",
              "3                38838        939.758929               30.741071   \n",
              "4                51565       1172.617021               33.773050   \n",
              "5                61283       1176.524390               33.402439   \n",
              "6                77587       1192.860697               33.751244   \n",
              "7                93616       1289.434043               33.638298   \n",
              "8               105303       1216.103846               33.638462   \n",
              "9               118412       1331.323129               33.765306   \n",
              "10              129908       1308.462025               34.075949   \n",
              "11              152391       1533.762611               35.994065   \n",
              "\n",
              "    mean_quantity_traffic_gb  mean_total_duration  std_need_to_pay  \\\n",
              "0                   8.735294           193.500000       437.104213   \n",
              "1                  11.844828           283.413793       525.639112   \n",
              "2                  15.233766           368.337662       678.050819   \n",
              "3                  13.625000           346.767857       546.303949   \n",
              "4                  15.907801           365.709220       712.596005   \n",
              "5                  15.951220           373.676829       733.748929   \n",
              "6                  15.875622           386.004975       727.772396   \n",
              "7                  16.736170           398.365957       778.897681   \n",
              "8                  16.392308           405.011538       717.129898   \n",
              "9                  16.880952           402.761905       824.200563   \n",
              "10                 17.000000           411.101266       780.087912   \n",
              "11                 18.201780           452.198813      1010.030237   \n",
              "\n",
              "    std_quantity_messages  std_quantity_traffic_gb  std_total_duration  \\\n",
              "0               16.197753                 6.277950          146.327828   \n",
              "1               21.750809                 6.095157          180.973783   \n",
              "2               26.804710                 5.705252          181.538137   \n",
              "3               24.538532                 5.594600          176.135134   \n",
              "4               27.036845                 5.862594          176.560210   \n",
              "5               28.404337                 5.649046          165.692262   \n",
              "6               28.282288                 5.780956          169.742879   \n",
              "7               28.952677                 5.480986          176.475907   \n",
              "8               28.117927                 5.087643          173.292987   \n",
              "9               28.567673                 5.735594          177.992516   \n",
              "10              28.389031                 5.213535          168.105964   \n",
              "11              30.576990                 5.457705          188.487713   \n",
              "\n",
              "    var_need_to_pay  var_quantity_messages  var_quantity_traffic_gb  \\\n",
              "0      1.910601e+05             262.367201                39.412656   \n",
              "1      2.762965e+05             473.097701                37.150938   \n",
              "2      4.597529e+05             718.492481                32.549897   \n",
              "3      2.984480e+05             602.139559                31.299550   \n",
              "4      5.077931e+05             730.990983                34.370010   \n",
              "5      5.383875e+05             806.806374                31.911716   \n",
              "6      5.296527e+05             799.887811                33.419453   \n",
              "7      6.066816e+05             838.257501                30.041207   \n",
              "8      5.142753e+05             790.617820                25.884110   \n",
              "9      6.793066e+05             816.111966                32.897042   \n",
              "10     6.085372e+05             805.937071                27.180952   \n",
              "11     1.020161e+06             934.952346                29.786544   \n",
              "\n",
              "    var_total_duration  \n",
              "0         21411.833333  \n",
              "1         32751.509982  \n",
              "2         32956.095010  \n",
              "3         31023.585264  \n",
              "4         31173.507700  \n",
              "5         27453.925595  \n",
              "6         28812.644975  \n",
              "7         31143.745845  \n",
              "8         30030.459326  \n",
              "9         31681.335609  \n",
              "10        28259.615110  \n",
              "11        35527.618094  "
            ]
          },
          "metadata": {},
          "output_type": "display_data"
        },
        {
          "data": {
            "text/html": [
              "<div>\n",
              "<style scoped>\n",
              "    .dataframe tbody tr th:only-of-type {\n",
              "        vertical-align: middle;\n",
              "    }\n",
              "\n",
              "    .dataframe tbody tr th {\n",
              "        vertical-align: top;\n",
              "    }\n",
              "\n",
              "    .dataframe thead th {\n",
              "        text-align: right;\n",
              "    }\n",
              "</style>\n",
              "<table border=\"1\" class=\"dataframe\">\n",
              "  <thead>\n",
              "    <tr style=\"text-align: right;\">\n",
              "      <th></th>\n",
              "      <th>month</th>\n",
              "      <th>sum_need_to_pay</th>\n",
              "      <th>sum_quantity_messages</th>\n",
              "      <th>sum_quantity_traffic_gb</th>\n",
              "      <th>sum_total_duration</th>\n",
              "      <th>mean_need_to_pay</th>\n",
              "      <th>mean_quantity_messages</th>\n",
              "      <th>mean_quantity_traffic_gb</th>\n",
              "      <th>mean_total_duration</th>\n",
              "      <th>std_need_to_pay</th>\n",
              "      <th>std_quantity_messages</th>\n",
              "      <th>std_quantity_traffic_gb</th>\n",
              "      <th>std_total_duration</th>\n",
              "      <th>var_need_to_pay</th>\n",
              "      <th>var_quantity_messages</th>\n",
              "      <th>var_quantity_traffic_gb</th>\n",
              "      <th>var_total_duration</th>\n",
              "    </tr>\n",
              "  </thead>\n",
              "  <tbody>\n",
              "    <tr>\n",
              "      <th>count</th>\n",
              "      <td>12.000000</td>\n",
              "      <td>12.000000</td>\n",
              "      <td>12.000000</td>\n",
              "      <td>12.000000</td>\n",
              "      <td>12.000000</td>\n",
              "      <td>12.000000</td>\n",
              "      <td>12.000000</td>\n",
              "      <td>12.000000</td>\n",
              "      <td>12.000000</td>\n",
              "      <td>12.000000</td>\n",
              "      <td>12.000000</td>\n",
              "      <td>12.000000</td>\n",
              "      <td>12.000000</td>\n",
              "      <td>1.200000e+01</td>\n",
              "      <td>12.000000</td>\n",
              "      <td>12.000000</td>\n",
              "      <td>12.000000</td>\n",
              "    </tr>\n",
              "    <tr>\n",
              "      <th>mean</th>\n",
              "      <td>6.500000</td>\n",
              "      <td>233597.083333</td>\n",
              "      <td>6201.083333</td>\n",
              "      <td>3033.083333</td>\n",
              "      <td>73356.833333</td>\n",
              "      <td>1152.188048</td>\n",
              "      <td>31.413211</td>\n",
              "      <td>15.198728</td>\n",
              "      <td>365.570818</td>\n",
              "      <td>705.963476</td>\n",
              "      <td>26.468298</td>\n",
              "      <td>5.661752</td>\n",
              "      <td>173.443777</td>\n",
              "      <td>5.191960e+05</td>\n",
              "      <td>714.971568</td>\n",
              "      <td>32.158673</td>\n",
              "      <td>30185.489653</td>\n",
              "    </tr>\n",
              "    <tr>\n",
              "      <th>std</th>\n",
              "      <td>3.605551</td>\n",
              "      <td>157216.456128</td>\n",
              "      <td>3790.989687</td>\n",
              "      <td>1922.958821</td>\n",
              "      <td>47154.549236</td>\n",
              "      <td>228.980380</td>\n",
              "      <td>5.103413</td>\n",
              "      <td>2.626973</td>\n",
              "      <td>67.953414</td>\n",
              "      <td>150.677028</td>\n",
              "      <td>3.963577</td>\n",
              "      <td>0.335602</td>\n",
              "      <td>10.587095</td>\n",
              "      <td>2.157029e+05</td>\n",
              "      <td>185.818969</td>\n",
              "      <td>3.811208</td>\n",
              "      <td>3537.971449</td>\n",
              "    </tr>\n",
              "    <tr>\n",
              "      <th>min</th>\n",
              "      <td>1.000000</td>\n",
              "      <td>24456.000000</td>\n",
              "      <td>620.000000</td>\n",
              "      <td>297.000000</td>\n",
              "      <td>6579.000000</td>\n",
              "      <td>719.294118</td>\n",
              "      <td>18.235294</td>\n",
              "      <td>8.735294</td>\n",
              "      <td>193.500000</td>\n",
              "      <td>437.104213</td>\n",
              "      <td>16.197753</td>\n",
              "      <td>5.087643</td>\n",
              "      <td>146.327828</td>\n",
              "      <td>1.910601e+05</td>\n",
              "      <td>262.367201</td>\n",
              "      <td>25.884110</td>\n",
              "      <td>21411.833333</td>\n",
              "    </tr>\n",
              "    <tr>\n",
              "      <th>25%</th>\n",
              "      <td>3.750000</td>\n",
              "      <td>100785.750000</td>\n",
              "      <td>3195.500000</td>\n",
              "      <td>1437.750000</td>\n",
              "      <td>36219.000000</td>\n",
              "      <td>1086.082589</td>\n",
              "      <td>31.578125</td>\n",
              "      <td>14.831575</td>\n",
              "      <td>360.973879</td>\n",
              "      <td>645.114102</td>\n",
              "      <td>26.238166</td>\n",
              "      <td>5.475166</td>\n",
              "      <td>169.333650</td>\n",
              "      <td>4.194267e+05</td>\n",
              "      <td>689.404251</td>\n",
              "      <td>29.977542</td>\n",
              "      <td>28674.387509</td>\n",
              "    </tr>\n",
              "    <tr>\n",
              "      <th>50%</th>\n",
              "      <td>6.500000</td>\n",
              "      <td>216357.500000</td>\n",
              "      <td>6131.000000</td>\n",
              "      <td>2903.500000</td>\n",
              "      <td>69435.000000</td>\n",
              "      <td>1184.692543</td>\n",
              "      <td>33.638380</td>\n",
              "      <td>15.929510</td>\n",
              "      <td>379.840902</td>\n",
              "      <td>722.451147</td>\n",
              "      <td>28.200107</td>\n",
              "      <td>5.677149</td>\n",
              "      <td>176.305520</td>\n",
              "      <td>5.219640e+05</td>\n",
              "      <td>795.252815</td>\n",
              "      <td>32.230807</td>\n",
              "      <td>31083.665554</td>\n",
              "    </tr>\n",
              "    <tr>\n",
              "      <th>75%</th>\n",
              "      <td>9.250000</td>\n",
              "      <td>334992.500000</td>\n",
              "      <td>9041.250000</td>\n",
              "      <td>4437.250000</td>\n",
              "      <td>108580.250000</td>\n",
              "      <td>1294.191038</td>\n",
              "      <td>33.767242</td>\n",
              "      <td>16.772366</td>\n",
              "      <td>403.324313</td>\n",
              "      <td>779.195239</td>\n",
              "      <td>28.445171</td>\n",
              "      <td>5.801366</td>\n",
              "      <td>178.737832</td>\n",
              "      <td>6.071455e+05</td>\n",
              "      <td>809.132772</td>\n",
              "      <td>33.657092</td>\n",
              "      <td>31948.879202</td>\n",
              "    </tr>\n",
              "    <tr>\n",
              "      <th>max</th>\n",
              "      <td>12.000000</td>\n",
              "      <td>516878.000000</td>\n",
              "      <td>12130.000000</td>\n",
              "      <td>6134.000000</td>\n",
              "      <td>152391.000000</td>\n",
              "      <td>1533.762611</td>\n",
              "      <td>35.994065</td>\n",
              "      <td>18.201780</td>\n",
              "      <td>452.198813</td>\n",
              "      <td>1010.030237</td>\n",
              "      <td>30.576990</td>\n",
              "      <td>6.277950</td>\n",
              "      <td>188.487713</td>\n",
              "      <td>1.020161e+06</td>\n",
              "      <td>934.952346</td>\n",
              "      <td>39.412656</td>\n",
              "      <td>35527.618094</td>\n",
              "    </tr>\n",
              "  </tbody>\n",
              "</table>\n",
              "</div>"
            ],
            "text/plain": [
              "           month  sum_need_to_pay  sum_quantity_messages  \\\n",
              "count  12.000000        12.000000              12.000000   \n",
              "mean    6.500000    233597.083333            6201.083333   \n",
              "std     3.605551    157216.456128            3790.989687   \n",
              "min     1.000000     24456.000000             620.000000   \n",
              "25%     3.750000    100785.750000            3195.500000   \n",
              "50%     6.500000    216357.500000            6131.000000   \n",
              "75%     9.250000    334992.500000            9041.250000   \n",
              "max    12.000000    516878.000000           12130.000000   \n",
              "\n",
              "       sum_quantity_traffic_gb  sum_total_duration  mean_need_to_pay  \\\n",
              "count                12.000000           12.000000         12.000000   \n",
              "mean               3033.083333        73356.833333       1152.188048   \n",
              "std                1922.958821        47154.549236        228.980380   \n",
              "min                 297.000000         6579.000000        719.294118   \n",
              "25%                1437.750000        36219.000000       1086.082589   \n",
              "50%                2903.500000        69435.000000       1184.692543   \n",
              "75%                4437.250000       108580.250000       1294.191038   \n",
              "max                6134.000000       152391.000000       1533.762611   \n",
              "\n",
              "       mean_quantity_messages  mean_quantity_traffic_gb  mean_total_duration  \\\n",
              "count               12.000000                 12.000000            12.000000   \n",
              "mean                31.413211                 15.198728           365.570818   \n",
              "std                  5.103413                  2.626973            67.953414   \n",
              "min                 18.235294                  8.735294           193.500000   \n",
              "25%                 31.578125                 14.831575           360.973879   \n",
              "50%                 33.638380                 15.929510           379.840902   \n",
              "75%                 33.767242                 16.772366           403.324313   \n",
              "max                 35.994065                 18.201780           452.198813   \n",
              "\n",
              "       std_need_to_pay  std_quantity_messages  std_quantity_traffic_gb  \\\n",
              "count        12.000000              12.000000                12.000000   \n",
              "mean        705.963476              26.468298                 5.661752   \n",
              "std         150.677028               3.963577                 0.335602   \n",
              "min         437.104213              16.197753                 5.087643   \n",
              "25%         645.114102              26.238166                 5.475166   \n",
              "50%         722.451147              28.200107                 5.677149   \n",
              "75%         779.195239              28.445171                 5.801366   \n",
              "max        1010.030237              30.576990                 6.277950   \n",
              "\n",
              "       std_total_duration  var_need_to_pay  var_quantity_messages  \\\n",
              "count           12.000000     1.200000e+01              12.000000   \n",
              "mean           173.443777     5.191960e+05             714.971568   \n",
              "std             10.587095     2.157029e+05             185.818969   \n",
              "min            146.327828     1.910601e+05             262.367201   \n",
              "25%            169.333650     4.194267e+05             689.404251   \n",
              "50%            176.305520     5.219640e+05             795.252815   \n",
              "75%            178.737832     6.071455e+05             809.132772   \n",
              "max            188.487713     1.020161e+06             934.952346   \n",
              "\n",
              "       var_quantity_traffic_gb  var_total_duration  \n",
              "count                12.000000           12.000000  \n",
              "mean                 32.158673        30185.489653  \n",
              "std                   3.811208         3537.971449  \n",
              "min                  25.884110        21411.833333  \n",
              "25%                  29.977542        28674.387509  \n",
              "50%                  32.230807        31083.665554  \n",
              "75%                  33.657092        31948.879202  \n",
              "max                  39.412656        35527.618094  "
            ]
          },
          "execution_count": 41,
          "metadata": {},
          "output_type": "execute_result"
        }
      ],
      "source": [
        "df_smart = df.query('tariff_name == \"smart\"').pivot_table(\n",
        "    index='month',\n",
        "    values=['total_duration',\n",
        "            'quantity_messages',\n",
        "            'quantity_traffic_gb',\n",
        "            'need_to_pay'],\n",
        "    aggfunc=['sum', 'mean', 'std', 'var']\n",
        "    ).reset_index()\n",
        "    \n",
        "df_smart = df_smart.rename(\n",
        "    columns={\n",
        "    'sum': 'sum_',\n",
        "    'mean': 'mean_',\n",
        "    'var': 'var_',\n",
        "    'std': 'std_',\n",
        "    }\n",
        "    )\n",
        "\n",
        "# уберу мультииндекс\n",
        "df_smart.columns = df_smart.columns.map(''.join)\n",
        "\n",
        "display(df_smart)\n",
        "df_smart.describe()"
      ]
    },
    {
      "cell_type": "code",
      "execution_count": null,
      "metadata": {
        "colab": {
          "base_uri": "https://localhost:8080/"
        },
        "id": "77M8oGEMKZC3",
        "outputId": "470b56b6-b12e-4c69-d46b-5c5ae2471792"
      },
      "outputs": [
        {
          "name": "stdout",
          "output_type": "stream",
          "text": [
            "       sum_quantity_messages  sum_quantity_traffic_gb  sum_total_duration\n",
            "count              12.000000                12.000000           12.000000\n",
            "mean             6201.083333              3033.083333        73356.833333\n",
            "std              3790.989687              1922.958821        47154.549236\n",
            "min               620.000000               297.000000         6579.000000\n",
            "25%              3195.500000              1437.750000        36219.000000\n",
            "50%              6131.000000              2903.500000        69435.000000\n",
            "75%              9041.250000              4437.250000       108580.250000\n",
            "max             12130.000000              6134.000000       152391.000000\n",
            "\n",
            "       mean_quantity_messages  mean_quantity_traffic_gb  mean_total_duration\n",
            "count               12.000000                 12.000000            12.000000\n",
            "mean                31.413211                 15.198728           365.570818\n",
            "std                  5.103413                  2.626973            67.953414\n",
            "min                 18.235294                  8.735294           193.500000\n",
            "25%                 31.578125                 14.831575           360.973879\n",
            "50%                 33.638380                 15.929510           379.840902\n",
            "75%                 33.767242                 16.772366           403.324313\n",
            "max                 35.994065                 18.201780           452.198813\n",
            "\n",
            "       var_quantity_messages  var_quantity_traffic_gb  var_total_duration\n",
            "count              12.000000                12.000000           12.000000\n",
            "mean              714.971568                32.158673        30185.489653\n",
            "std               185.818969                 3.811208         3537.971449\n",
            "min               262.367201                25.884110        21411.833333\n",
            "25%               689.404251                29.977542        28674.387509\n",
            "50%               795.252815                32.230807        31083.665554\n",
            "75%               809.132772                33.657092        31948.879202\n",
            "max               934.952346                39.412656        35527.618094\n",
            "\n",
            "       std_quantity_messages  std_quantity_traffic_gb  std_total_duration\n",
            "count              12.000000                12.000000           12.000000\n",
            "mean               26.468298                 5.661752          173.443777\n",
            "std                 3.963577                 0.335602           10.587095\n",
            "min                16.197753                 5.087643          146.327828\n",
            "25%                26.238166                 5.475166          169.333650\n",
            "50%                28.200107                 5.677149          176.305520\n",
            "75%                28.445171                 5.801366          178.737832\n",
            "max                30.576990                 6.277950          188.487713\n"
          ]
        }
      ],
      "source": [
        "print(df_smart.loc[:, ['sum_quantity_messages', 'sum_quantity_traffic_gb', 'sum_total_duration']].describe())\n",
        "print()\n",
        "print(df_smart.loc[:, ['mean_quantity_messages', 'mean_quantity_traffic_gb', 'mean_total_duration']].describe())\n",
        "print()\n",
        "print(df_smart.loc[:, ['var_quantity_messages', 'var_quantity_traffic_gb', 'var_total_duration']].describe())\n",
        "print()\n",
        "print(df_smart.loc[:, ['std_quantity_messages', 'std_quantity_traffic_gb', 'std_total_duration']].describe())"
      ]
    },
    {
      "cell_type": "code",
      "execution_count": null,
      "metadata": {
        "colab": {
          "base_uri": "https://localhost:8080/",
          "height": 1000
        },
        "id": "pbzIIGPFN7eb",
        "outputId": "20361a44-a716-4734-91d0-9a7659749686"
      },
      "outputs": [
        {
          "name": "stdout",
          "output_type": "stream",
          "text": [
            "тариф SMART\n",
            "\n",
            "__________________________________________________________________________\n",
            "       mean_quantity_messages  mean_quantity_traffic_gb  mean_total_duration\n",
            "count               12.000000                 12.000000            12.000000\n",
            "mean                31.413211                 15.198728           365.570818\n",
            "std                  5.103413                  2.626973            67.953414\n",
            "min                 18.235294                  8.735294           193.500000\n",
            "25%                 31.578125                 14.831575           360.973879\n",
            "50%                 33.638380                 15.929510           379.840902\n",
            "75%                 33.767242                 16.772366           403.324313\n",
            "max                 35.994065                 18.201780           452.198813\n",
            "\n",
            "Среднее количество сообщений в месяц: 31\n",
            "\n",
            "Среднее объем трафика в месяц: 15 Гб\n",
            "\n",
            "Среднее количество минут разговора в месяц: 366 мин.\n",
            "__________________________________________________________________________\n",
            "       var_quantity_messages  var_quantity_traffic_gb  var_total_duration\n",
            "count              12.000000                12.000000           12.000000\n",
            "mean              714.971568                32.158673        30185.489653\n",
            "std               185.818969                 3.811208         3537.971449\n",
            "min               262.367201                25.884110        21411.833333\n",
            "25%               689.404251                29.977542        28674.387509\n",
            "50%               795.252815                32.230807        31083.665554\n",
            "75%               809.132772                33.657092        31948.879202\n",
            "max               934.952346                39.412656        35527.618094\n",
            "__________________________________________________________________________\n",
            "       std_quantity_messages  std_quantity_traffic_gb  std_total_duration\n",
            "count              12.000000                12.000000           12.000000\n",
            "mean               26.468298                 5.661752          173.443777\n",
            "std                 3.963577                 0.335602           10.587095\n",
            "min                16.197753                 5.087643          146.327828\n",
            "25%                26.238166                 5.475166          169.333650\n",
            "50%                28.200107                 5.677149          176.305520\n",
            "75%                28.445171                 5.801366          178.737832\n",
            "max                30.576990                 6.277950          188.487713\n",
            "\n"
          ]
        },
        {
          "data": {
            "text/plain": [
              "array([[<AxesSubplot:xlabel='mean_quantity_messages', ylabel='mean_quantity_messages'>,\n",
              "        <AxesSubplot:xlabel='mean_quantity_traffic_gb', ylabel='mean_quantity_messages'>,\n",
              "        <AxesSubplot:xlabel='mean_total_duration', ylabel='mean_quantity_messages'>],\n",
              "       [<AxesSubplot:xlabel='mean_quantity_messages', ylabel='mean_quantity_traffic_gb'>,\n",
              "        <AxesSubplot:xlabel='mean_quantity_traffic_gb', ylabel='mean_quantity_traffic_gb'>,\n",
              "        <AxesSubplot:xlabel='mean_total_duration', ylabel='mean_quantity_traffic_gb'>],\n",
              "       [<AxesSubplot:xlabel='mean_quantity_messages', ylabel='mean_total_duration'>,\n",
              "        <AxesSubplot:xlabel='mean_quantity_traffic_gb', ylabel='mean_total_duration'>,\n",
              "        <AxesSubplot:xlabel='mean_total_duration', ylabel='mean_total_duration'>]],\n",
              "      dtype=object)"
            ]
          },
          "execution_count": 43,
          "metadata": {},
          "output_type": "execute_result"
        },
        {
          "data": {
            "image/png": "[encoded data removed]",
            "text/plain": [
              "<Figure size 720x720 with 9 Axes>"
            ]
          },
          "metadata": {
            "needs_background": "light"
          },
          "output_type": "display_data"
        }
      ],
      "source": [
        "print('тариф SMART')\n",
        "print()\n",
        "print('__________________________________________________________________________')\n",
        "print(df_smart.loc[:, ['mean_quantity_messages', 'mean_quantity_traffic_gb', 'mean_total_duration']].describe())\n",
        "print()\n",
        "print('Среднее количество сообщений в месяц: {:.0f}'.format(df_smart['mean_quantity_messages'].mean()))\n",
        "print()\n",
        "print('Среднее объем трафика в месяц: {:.0f}'.format(df_smart['mean_quantity_traffic_gb'].mean()), 'Гб')\n",
        "print()\n",
        "print('Среднее количество минут разговора в месяц: {:.0f}'.format(df_smart['mean_total_duration'].mean()), 'мин.')\n",
        "print('__________________________________________________________________________')\n",
        "print(df_smart.loc[:, ['var_quantity_messages', 'var_quantity_traffic_gb', 'var_total_duration']].describe())\n",
        "print('__________________________________________________________________________')\n",
        "print(df_smart.loc[:, ['std_quantity_messages', 'std_quantity_traffic_gb', 'std_total_duration']].describe())\n",
        "print()\n",
        "pd.plotting.scatter_matrix(df_smart[\n",
        "                                    ['mean_quantity_messages',\n",
        "                                     'mean_quantity_traffic_gb',\n",
        "                                     'mean_total_duration']\n",
        "                                    ],\n",
        "                           figsize = (10,10)\n",
        "                           )"
      ]
    },
    {
      "cell_type": "markdown",
      "metadata": {
        "id": "KJsBOJPiD3kg"
      },
      "source": [
        "### Сравнение"
      ]
    },
    {
      "cell_type": "code",
      "execution_count": null,
      "metadata": {
        "colab": {
          "base_uri": "https://localhost:8080/",
          "height": 1000
        },
        "id": "HGhBUHzxw3xP",
        "outputId": "bad457be-73d8-4e57-ae59-fdd5b95eb41e"
      },
      "outputs": [
        {
          "data": {
            "image/png": "[encoded data removed]",
            "text/plain": [
              "<Figure size 720x360 with 1 Axes>"
            ]
          },
          "metadata": {
            "needs_background": "light"
          },
          "output_type": "display_data"
        },
        {
          "name": "stdout",
          "output_type": "stream",
          "text": [
            "\n"
          ]
        },
        {
          "data": {
            "image/png": "[encoded data removed]",
            "text/plain": [
              "<Figure size 720x360 with 1 Axes>"
            ]
          },
          "metadata": {
            "needs_background": "light"
          },
          "output_type": "display_data"
        },
        {
          "name": "stdout",
          "output_type": "stream",
          "text": [
            "\n"
          ]
        },
        {
          "data": {
            "image/png": "[encoded data removed]",
            "text/plain": [
              "<Figure size 720x360 with 1 Axes>"
            ]
          },
          "metadata": {
            "needs_background": "light"
          },
          "output_type": "display_data"
        }
      ],
      "source": [
        "df.query('tariff_name == \"ultra\"')['quantity_messages'].hist(bins=30,\n",
        "                                                             alpha=0.8,\n",
        "                                                             label='ultra',\n",
        "                                                             figsize=(20,10))\n",
        "df.query('tariff_name == \"smart\"')['quantity_messages'].hist(bins=30,\n",
        "                                                             alpha=0.5,\n",
        "                                                             label='smart',\n",
        "                                                             figsize=(10,5))\n",
        "plt.legend(loc='upper right')\n",
        "plt.xlabel('сообщения')\n",
        "plt.ylabel('количество абонентов')\n",
        "plt.show()\n",
        "print()\n",
        "df.query('tariff_name == \"ultra\"')['total_duration'].hist(bins=30,\n",
        "                                                             alpha=0.8,\n",
        "                                                             label='ultra',\n",
        "                                                             figsize=(20,10))\n",
        "df.query('tariff_name == \"smart\"')['total_duration'].hist(bins=30,\n",
        "                                                             alpha=0.5,\n",
        "                                                             label='smart',\n",
        "                                                             figsize=(10,5))\n",
        "plt.legend(loc='upper right')\n",
        "plt.xlabel('минуты')\n",
        "plt.ylabel('количество абонентов')\n",
        "plt.show()\n",
        "print()\n",
        "df.query('tariff_name == \"ultra\"')['quantity_traffic_gb'].hist(bins=30,\n",
        "                                                             alpha=0.8,\n",
        "                                                             label='ultra',\n",
        "                                                             figsize=(20,10))\n",
        "df.query('tariff_name == \"smart\"')['quantity_traffic_gb'].hist(bins=30,\n",
        "                                                             alpha=0.5,\n",
        "                                                             label='smart',\n",
        "                                                             figsize=(10,5))\n",
        "plt.legend(loc='upper right')\n",
        "plt.xlabel('объем трафика')\n",
        "plt.ylabel('количество абонентов')\n",
        "plt.show()"
      ]
    },
    {
      "cell_type": "markdown",
      "metadata": {
        "id": "S34PjTiXO_pe"
      },
      "source": [
        "я не вижу смысл так смотреть на тарифы и польхователей, так как количество людей разное"
      ]
    },
    {
      "cell_type": "code",
      "execution_count": null,
      "metadata": {
        "colab": {
          "base_uri": "https://localhost:8080/"
        },
        "id": "zh168Ckw9o_5",
        "outputId": "d755d6d5-b678-4b2f-af26-fe659a0a898e"
      },
      "outputs": [
        {
          "name": "stdout",
          "output_type": "stream",
          "text": [
            "абонентов всего 500\n",
            "абонентов ultra 148\n",
            "абонентов smart 350\n",
            "не сходится, но\n",
            "больше абонентов smart\n",
            "2х я дропнул\n",
            "--------------------------------\n",
            "В users всего женщин и мужчин 500\n",
            "мужчин 244\n",
            "женщин 256\n",
            "--------------------------------\n",
            "получилось 498\n",
            "а должно быть 500\n",
            "проблема дропнута\n"
          ]
        }
      ],
      "source": [
        "t = len(df.query('tariff_name == \"ultra\"').groupby(level='full_name'))\n",
        "r = len(df.query('tariff_name == \"smart\"').groupby(level='full_name'))\n",
        "e = len(users)\n",
        "print('абонентов всего', e)\n",
        "print('абонентов ultra', t)\n",
        "print('абонентов smart', r)\n",
        "\n",
        "if t + r == e:\n",
        "  print('успех')\n",
        "elif t + r != e:\n",
        "  print('не сходится, но')\n",
        "  if t > r:\n",
        "    print('больше абонентов ultra')\n",
        "  elif t < r:\n",
        "    print('больше абонентов smart')\n",
        "\n",
        "print('2х я дропнул')\n",
        "print('--------------------------------')\n",
        "\n",
        "# s = len(df.groupby(level='full_name'))\n",
        "# m = len(male.groupby(level='full_name'))\n",
        "# f = len(female.groupby(level='full_name'))\n",
        "# print('В df всего женщин и мужчин', s)\n",
        "# print('мужчин', m)\n",
        "# print('женщин', f)\n",
        "# print('--------------------------------')\n",
        "\n",
        "s = len(users)\n",
        "m = len(users.query('gender == \"male\"'))\n",
        "f = len(users.query('gender == \"female\"'))\n",
        "print('В users всего женщин и мужчин', s)\n",
        "print('мужчин', m)\n",
        "print('женщин', f)\n",
        "print('--------------------------------')\n",
        "print('получилось', r + t)\n",
        "print('а должно быть', e)\n",
        "print('проблема дропнута')"
      ]
    },
    {
      "cell_type": "markdown",
      "metadata": {
        "id": "hKVZLUxYBKWl"
      },
      "source": [
        "### Сравним исопльзование тарифов по другому"
      ]
    },
    {
      "cell_type": "code",
      "execution_count": null,
      "metadata": {
        "colab": {
          "base_uri": "https://localhost:8080/",
          "height": 823
        },
        "id": "mj5-5k4aiW-m",
        "outputId": "64fafe59-3ad4-4a95-bde3-e2bae8301849"
      },
      "outputs": [
        {
          "data": {
            "image/png": "[encoded data removed]",
            "text/plain": [
              "<Figure size 432x288 with 1 Axes>"
            ]
          },
          "metadata": {
            "needs_background": "light"
          },
          "output_type": "display_data"
        },
        {
          "name": "stdout",
          "output_type": "stream",
          "text": [
            "\n"
          ]
        },
        {
          "data": {
            "image/png": "[encoded data removed]",
            "text/plain": [
              "<Figure size 432x288 with 1 Axes>"
            ]
          },
          "metadata": {
            "needs_background": "light"
          },
          "output_type": "display_data"
        },
        {
          "name": "stdout",
          "output_type": "stream",
          "text": [
            "\n"
          ]
        },
        {
          "data": {
            "image/png": "[encoded data removed]",
            "text/plain": [
              "<Figure size 432x288 with 1 Axes>"
            ]
          },
          "metadata": {
            "needs_background": "light"
          },
          "output_type": "display_data"
        }
      ],
      "source": [
        "plt.hist(\n",
        "    df_ultra['std_quantity_messages'],\n",
        "    alpha = 0.5,\n",
        "    label='ultra',\n",
        "    )\n",
        "plt.hist(\n",
        "    df_smart['std_quantity_messages'],\n",
        "    alpha = 0.5,\n",
        "    label='smart'\n",
        "    )\n",
        "plt.legend(loc='upper left')\n",
        "plt.show()\n",
        "print()\n",
        "\n",
        "plt.hist(\n",
        "    df_ultra['std_quantity_traffic_gb'],\n",
        "    alpha = 0.5,\n",
        "    label='ultra'\n",
        "    )\n",
        "\n",
        "plt.hist(\n",
        "    df_smart['std_quantity_traffic_gb'],\n",
        "    alpha = 0.5,\n",
        "    label='smart'\n",
        "    )\n",
        "plt.legend(loc='upper left')\n",
        "plt.xlabel('объем трафика')\n",
        "plt.ylabel('количество абонентов')\n",
        "plt.show()\n",
        "print()\n",
        "plt.hist(\n",
        "    df_ultra['std_total_duration'],\n",
        "    alpha = 0.5,\n",
        "    label='ultra'\n",
        "    )\n",
        "\n",
        "plt.hist(\n",
        "    df_smart['std_total_duration'],\n",
        "    alpha = 0.5,\n",
        "    label='smart'\n",
        "    )\n",
        "plt.legend(loc='upper left')\n",
        "plt.xlabel('сумма минут разговоров')\n",
        "plt.ylabel('количество абонентов')\n",
        "plt.show()"
      ]
    },
    {
      "cell_type": "markdown",
      "metadata": {
        "id": "U15rMAOH_LjD"
      },
      "source": [
        "А вот тут мы болле наглядно видим, что дураков нет. Люди по разному используют тарифы)"
      ]
    },
    {
      "cell_type": "markdown",
      "metadata": {
        "id": "PlYIuH2DSJTJ"
      },
      "source": [
        "# Шаг 4. Проверьте гипотезы"
      ]
    },
    {
      "cell_type": "markdown",
      "metadata": {
        "id": "2lrH0DuBSljD"
      },
      "source": [
        "- как вы формулировали нулевую и альтернативную гипотезы;\n",
        "- какой критерий использовали для проверки гипотез и почему."
      ]
    },
    {
      "cell_type": "markdown",
      "metadata": {
        "id": "MakUKdDcSQHN"
      },
      "source": [
        "### средняя выручка пользователей тарифов «Ультра» и «Смарт» различаются"
      ]
    },
    {
      "cell_type": "markdown",
      "metadata": {
        "id": "kvoge_xXAMmt"
      },
      "source": [
        "H0 - средняя выручка пользователей тарифов «Ультра» и «Смарт» не различаются\n",
        "\n",
        "H1 - средняя выручка пользователей тарифов «Ультра» и «Смарт» различаются"
      ]
    },
    {
      "cell_type": "code",
      "execution_count": null,
      "metadata": {
        "colab": {
          "base_uri": "https://localhost:8080/"
        },
        "id": "GeUjkSk7SXUq",
        "outputId": "84747b19-1c10-4b29-8450-104406ce7bdb"
      },
      "outputs": [
        {
          "name": "stdout",
          "output_type": "stream",
          "text": [
            "Средняя выручка ultra в месяц 2070 рублей\n",
            "Средняя выручка smart в месяц 1258 рублей\n",
            "_____________________________________\n",
            "\n",
            "P-value: 6.8601924277839045e-12\n",
            "Не отвергаем нулевую гипотезу\n"
          ]
        }
      ],
      "source": [
        "ultra = df.query('tariff_name == \"ultra\"')\n",
        "smart = df.query('tariff_name == \"smart\"')\n",
        "\n",
        "a = ultra['need_to_pay'].mean()\n",
        "\n",
        "b = smart['need_to_pay'].mean()\n",
        "\n",
        "print('Средняя выручка ultra в месяц', round(a), 'рублей')\n",
        "print('Средняя выручка smart в месяц', round(b), 'рублей')\n",
        "print('_____________________________________')\n",
        "print()\n",
        "\n",
        "alpha = 0.05\n",
        "results = st.ttest_ind(df_ultra['mean_need_to_pay'], df_smart['mean_need_to_pay'])\n",
        "print('P-value:', results.pvalue)\n",
        "\n",
        "if (results.pvalue > alpha):\n",
        "    print(\"Отвергаем нулевую гипотезу\")\n",
        "else:\n",
        "    print(\"Не отвергаем нулевую гипотезу\")"
      ]
    },
    {
      "cell_type": "markdown",
      "metadata": {
        "id": "xkQnkNut_wof"
      },
      "source": [
        "<div class=\"alert alert-info\">\n",
        "<b>вывод:</b>\n",
        "<br>выручка на тарифах различна\n",
        "</div>"
      ]
    },
    {
      "cell_type": "markdown",
      "metadata": {
        "id": "dfNpuxd2ySys"
      },
      "source": [
        "Считаю, что траты на обслуживание абонентов с разными тарифами - различаются. \n",
        "\n",
        "У нас нет нужных метрик (зарплата сотрудников, обслуживание техники и тд)\n",
        "\n",
        "Плюс у нас разное количество людей в каждом из тарифов\n",
        "\n",
        "могу посмотреть суммарную выручку по каждому тарифу"
      ]
    },
    {
      "cell_type": "markdown",
      "metadata": {
        "id": "QHeBcqJqySys"
      },
      "source": [
        "H0: Переплата сверх тарифов равна\n",
        "\n",
        "H1: Переплата сверх тарифов различается"
      ]
    },
    {
      "cell_type": "code",
      "execution_count": null,
      "metadata": {
        "colab": {
          "base_uri": "https://localhost:8080/"
        },
        "id": "aDgSKbOaA-k5",
        "outputId": "50e1fef6-5b7b-4cee-8fa8-12069dda8161"
      },
      "outputs": [
        {
          "name": "stdout",
          "output_type": "stream",
          "text": [
            "Cуммарная выручка ultra 2039100 рублей\n",
            "Суммарная выручка smart 2803165 рублей\n",
            "_____________________________________\n",
            "\n",
            "Cуммарная переплата ultra 118350 рублей\n",
            "Суммарная переплата smart 1577215 рублей\n",
            "_____________________________________\n",
            "\n",
            "P-value: 2.9413519240194293e-157\n",
            "Отвергаем нулевую гипотезу\n"
          ]
        }
      ],
      "source": [
        "print('Cуммарная выручка ultra', sum(ultra['need_to_pay']), 'рублей')\n",
        "print('Суммарная выручка smart', sum(smart['need_to_pay']), 'рублей')\n",
        "print('_____________________________________')\n",
        "print()\n",
        "print('Cуммарная переплата ultra', sum(ultra['overpayment']), 'рублей')\n",
        "print('Суммарная переплата smart', sum(smart['overpayment']), 'рублей')\n",
        "print('_____________________________________')\n",
        "print()\n",
        "\n",
        "alpha = 0.05\n",
        "results = st.ttest_ind(ultra['overpayment'], smart['overpayment'], equal_var = False)\n",
        "print('P-value:', results.pvalue)\n",
        "\n",
        "if (results.pvalue != alpha):\n",
        "    print(\"Отвергаем нулевую гипотезу\")\n",
        "else:\n",
        "    print(\"Не отвергаем нулевую гипотезу\")"
      ]
    },
    {
      "cell_type": "markdown",
      "metadata": {
        "id": "rQZnKaXTySyu"
      },
      "source": [
        "забавно\n",
        "\n",
        "средняя месячная выручка с тарифа ultra больше чем у smart\n",
        "\n",
        "но\n",
        "\n",
        "суммарная выручка у smart практически на 800 тр больше чем у ultra\n",
        "переплата у тарифа smart 1577215 рублей. это гораздо больше чем у тарифа ultra\n",
        "\n",
        "выод\n",
        "\n",
        "более дешевый тариф приносит больше денег компании. Либо маркетологи молодцы, либо люди не заморачиваются с лимитами. \n",
        "\n",
        "тест проводился с параметром equal_var = False, так выборки не равны по размеру и стандартное отклонение различается"
      ]
    },
    {
      "cell_type": "markdown",
      "metadata": {
        "id": "WWfdpPRHSX30"
      },
      "source": [
        "### средняя выручка пользователей из Москвы отличается от выручки пользователей из других регионов"
      ]
    },
    {
      "cell_type": "markdown",
      "metadata": {
        "id": "ElJ0TmhvHInH"
      },
      "source": [
        "H0 - средняя выручка пользователей из Москвы равна средней выручке пользователей из других регионов\n",
        "\n",
        "H1 - они различаются"
      ]
    },
    {
      "cell_type": "code",
      "execution_count": null,
      "metadata": {
        "colab": {
          "base_uri": "https://localhost:8080/"
        },
        "id": "XcfM8LOsSbPK",
        "outputId": "b2203991-7785-401c-a744-aaad1fd3bf69"
      },
      "outputs": [
        {
          "name": "stdout",
          "output_type": "stream",
          "text": [
            "средняя выручка пользователей из Москвы 1527 рублей\n",
            "средняя выручка пользователей из других регионов 1502 рублей\n",
            "_____________________________________\n",
            "\n",
            "P-value: 0.46532858228722906\n",
            "Отвергаем нулевую гипотезу\n"
          ]
        }
      ],
      "source": [
        "moscow = df.query('city == \"Москва\"')\n",
        "other = df.query('city != \"Москва\"')\n",
        "\n",
        "print('средняя выручка пользователей из Москвы', round(moscow['need_to_pay'].mean()), 'рублей')\n",
        "print('средняя выручка пользователей из других регионов', round(other['need_to_pay'].mean()), 'рублей')\n",
        "print('_____________________________________')\n",
        "print()\n",
        "\n",
        "alpha = .05\n",
        "results = st.ttest_ind(moscow['need_to_pay'], other['need_to_pay'], equal_var = False)\n",
        "print('P-value:', results.pvalue)\n",
        "\n",
        "if (results.pvalue > alpha):\n",
        "    print(\"Отвергаем нулевую гипотезу\")\n",
        "else:\n",
        "    print(\"Не отвергаем нулевую гипотезу\")"
      ]
    },
    {
      "cell_type": "markdown",
      "metadata": {
        "id": "F7Wgjlu4Qwav"
      },
      "source": [
        "Средняя выручка пользователей из Москвы отличается от выручки из других регионов"
      ]
    },
    {
      "cell_type": "markdown",
      "metadata": {
        "id": "UoJrN_WlhbiZ"
      },
      "source": [
        "### минутка сексизма"
      ]
    },
    {
      "cell_type": "code",
      "execution_count": null,
      "metadata": {
        "id": "bL1P3tctySyx"
      },
      "outputs": [],
      "source": [
        "df['call_length'] = df['total_duration'] / df['quantity_calls'] # средняя продолжительность звонка в месяц\n",
        "male = df.query('gender == \"male\"')\n",
        "female = df.query('gender == \"female\"')"
      ]
    },
    {
      "cell_type": "markdown",
      "metadata": {
        "id": "8GbU8lN3RR4D"
      },
      "source": [
        "### Минуты"
      ]
    },
    {
      "cell_type": "markdown",
      "metadata": {
        "id": "TYRRrMgdL47y"
      },
      "source": [
        "H0: Женщины и мужчины используют одинаковое количество минут\n",
        "\n",
        "H1: Женщины и мужчины используют разное количество минут"
      ]
    },
    {
      "cell_type": "code",
      "execution_count": null,
      "metadata": {
        "colab": {
          "base_uri": "https://localhost:8080/"
        },
        "id": "w3Tj1NIthhK5",
        "outputId": "3cdff842-6f96-44b9-acef-148e6c9575dc"
      },
      "outputs": [
        {
          "name": "stdout",
          "output_type": "stream",
          "text": [
            "Мужчины проговорили 10654 часов\n",
            "Женщины проговорили 12185 часов\n",
            "_____________________________________\n",
            "P-value: 0.7078158720222949\n",
            "Отвергаем нулевую гипотезу\n"
          ]
        }
      ],
      "source": [
        "print('Мужчины проговорили', round(sum(male['total_duration'] / 60)), 'часов')\n",
        "print('Женщины проговорили', round(sum(female['total_duration'] / 60)), 'часов')\n",
        "print('_____________________________________')\n",
        "\n",
        "alpha = 0.05\n",
        "results = st.ttest_ind(male['total_duration'], female['total_duration'], equal_var = False)\n",
        "print('P-value:', results.pvalue)\n",
        "\n",
        "if (results.pvalue > alpha):\n",
        "    print(\"Отвергаем нулевую гипотезу\")\n",
        "else:\n",
        "    print(\"Не отвергаем нулевую гипотезу\")"
      ]
    },
    {
      "cell_type": "markdown",
      "metadata": {
        "id": "ijC8IM8wQh_N"
      },
      "source": [
        "Женщины и мужчины используют разное количество минут"
      ]
    },
    {
      "cell_type": "markdown",
      "metadata": {
        "id": "wx-sLTt8ySyz"
      },
      "source": [
        "### Количество звонков"
      ]
    },
    {
      "cell_type": "markdown",
      "metadata": {
        "id": "nuQB68iFySyz"
      },
      "source": [
        "H0: Женщины и мужчины делают одинаковое количество звонков\n",
        "\n",
        "H1: Женщины и мужчины делают разное количество звонков"
      ]
    },
    {
      "cell_type": "code",
      "execution_count": null,
      "metadata": {
        "id": "0jGnZSwSySyz",
        "outputId": "c1616dff-48ed-4e23-8d6a-2570b2ff509a"
      },
      "outputs": [
        {
          "name": "stdout",
          "output_type": "stream",
          "text": [
            "Мужчины совершили 94685 звонков\n",
            "Женщины проговорили 107922 звонков\n",
            "_____________________________________\n",
            "P-value: 0.842749408882498\n",
            "Отвергаем нулевую гипотезу\n"
          ]
        }
      ],
      "source": [
        "male = df.query('gender == \"male\"')\n",
        "female = df.query('gender == \"female\"')\n",
        "\n",
        "print('Мужчины совершили', round(sum(male['quantity_calls'])), 'звонков')\n",
        "print('Женщины проговорили', round(sum(female['quantity_calls'])), 'звонков')\n",
        "print('_____________________________________')\n",
        "\n",
        "alpha = 0.05\n",
        "results = st.ttest_ind(male['quantity_calls'], female['quantity_calls'], equal_var = False)\n",
        "print('P-value:', results.pvalue)\n",
        "\n",
        "if (results.pvalue > alpha):\n",
        "    print(\"Отвергаем нулевую гипотезу\")\n",
        "else:\n",
        "    print(\"Не отвергаем нулевую гипотезу\")"
      ]
    },
    {
      "cell_type": "markdown",
      "metadata": {
        "id": "88QVreuqySy0"
      },
      "source": [
        "Женщины и мужчины делают разное количество звонков"
      ]
    },
    {
      "cell_type": "markdown",
      "metadata": {
        "id": "s-APnm79ySy0"
      },
      "source": [
        "### Продолжительность разговора"
      ]
    },
    {
      "cell_type": "markdown",
      "metadata": {
        "id": "zCg_pTTqySy0"
      },
      "source": [
        "H0: Продолжительность разговора у женщин и мужчин равно\n",
        "\n",
        "H1: Продолжительность разговора у женщин и мужчин различается"
      ]
    },
    {
      "cell_type": "code",
      "execution_count": null,
      "metadata": {
        "id": "Eessqm68ySy1",
        "outputId": "e7e29a0b-db80-4652-fde6-d0e4bd7be58d"
      },
      "outputs": [
        {
          "name": "stdout",
          "output_type": "stream",
          "text": [
            "В среднем разговор мужчины длится 7 минут\n",
            "В среднем разговор женщины длится 7 минут\n",
            "_____________________________________\n",
            "P-value: nan\n",
            "Не отвергаем нулевую гипотезу\n",
            "_____________________________________\n",
            "Мужчины\n",
            "count    1475.000000\n",
            "mean        6.729877\n",
            "std         0.999217\n",
            "min         0.000000\n",
            "25%         6.222222\n",
            "50%         6.764706\n",
            "75%         7.260870\n",
            "max        13.666667\n",
            "Name: call_length, dtype: float64\n"
          ]
        },
        {
          "data": {
            "image/png": "[encoded data removed]",
            "text/plain": [
              "<Figure size 432x288 with 1 Axes>"
            ]
          },
          "metadata": {
            "needs_background": "light"
          },
          "output_type": "display_data"
        },
        {
          "name": "stdout",
          "output_type": "stream",
          "text": [
            "_____________________________________\n",
            "\n",
            "Женщины\n",
            "count    1699.000000\n",
            "mean        6.782971\n",
            "std         1.032563\n",
            "min         0.000000\n",
            "25%         6.247951\n",
            "50%         6.773810\n",
            "75%         7.282692\n",
            "max        18.000000\n",
            "Name: call_length, dtype: float64\n"
          ]
        },
        {
          "data": {
            "image/png": "[encoded data removed]",
            "text/plain": [
              "<Figure size 432x288 with 1 Axes>"
            ]
          },
          "metadata": {
            "needs_background": "light"
          },
          "output_type": "display_data"
        }
      ],
      "source": [
        "print('В среднем разговор мужчины длится', round(male['call_length'].mean()), 'минут')\n",
        "print('В среднем разговор женщины длится', round(female['call_length'].mean()), 'минут')\n",
        "print('_____________________________________')\n",
        "\n",
        "alpha = 0.05\n",
        "results = st.ttest_ind(male['call_length'], female['call_length'], equal_var = False)\n",
        "print('P-value:', results.pvalue)\n",
        "\n",
        "if (results.pvalue > alpha):\n",
        "    print(\"Отвергаем нулевую гипотезу\")\n",
        "else:\n",
        "    print(\"Не отвергаем нулевую гипотезу\")\n",
        "\n",
        "print('_____________________________________')\n",
        "\n",
        "print('Мужчины')\n",
        "male.boxplot('call_length')\n",
        "print(male['call_length'].describe())\n",
        "plt.title('Продолжительность разговора мужчин')\n",
        "plt.show()\n",
        "print('_____________________________________')\n",
        "print()\n",
        "print('Женщины')\n",
        "female.boxplot('call_length')\n",
        "print(female['call_length'].describe())\n",
        "plt.title('Продолжительность разговора женщин')\n",
        "plt.show()"
      ]
    },
    {
      "cell_type": "markdown",
      "metadata": {
        "id": "0LPdqJcLySy1"
      },
      "source": [
        "Продолжительность разговора у женщин и мужчин равно"
      ]
    },
    {
      "cell_type": "markdown",
      "metadata": {
        "id": "uQvOTt93RX0r"
      },
      "source": [
        "### ГИГИ"
      ]
    },
    {
      "cell_type": "markdown",
      "metadata": {
        "id": "w9XPbpX_SG0L"
      },
      "source": [
        "H0: Женщины и мужчины используют одинаковое количество трафика\n",
        "H1: Женщины и мужчины используют разное количество трафика"
      ]
    },
    {
      "cell_type": "code",
      "execution_count": null,
      "metadata": {
        "colab": {
          "base_uri": "https://localhost:8080/"
        },
        "id": "07zPGSaDRdbl",
        "outputId": "d4d5bed9-6f96-4ca1-f04d-35b4f1819b7e"
      },
      "outputs": [
        {
          "name": "stdout",
          "output_type": "stream",
          "text": [
            "Мужчины использовали 25804 Гб\n",
            "Женщины использовали 29795 Гб\n",
            "_____________________________________\n",
            "p-значение: 0.2710873135338433\n",
            "Отвергаем нулевую гипотезу\n"
          ]
        }
      ],
      "source": [
        "print('Мужчины использовали', round(sum(male['quantity_traffic_gb'])), 'Гб')\n",
        "print('Женщины использовали', round(sum(female['quantity_traffic_gb'])), 'Гб')\n",
        "print('_____________________________________')\n",
        "\n",
        "\n",
        "alpha = 0.05\n",
        "results = st.ttest_ind(male['quantity_traffic_gb'], female['quantity_traffic_gb'], equal_var = False)\n",
        "print('p-значение:', results.pvalue)\n",
        "if (results.pvalue > alpha):\n",
        "    print(\"Отвергаем нулевую гипотезу\")\n",
        "else:\n",
        "    print(\"Не отвергаем нулевую гипотезу\")"
      ]
    },
    {
      "cell_type": "markdown",
      "metadata": {
        "id": "zCeoZl1gTX4B"
      },
      "source": [
        "Женщины и мужчины используют разное количество трафика"
      ]
    },
    {
      "cell_type": "markdown",
      "metadata": {
        "id": "RoOSoS-6ySy3"
      },
      "source": [
        "### Сообщения"
      ]
    },
    {
      "cell_type": "markdown",
      "metadata": {
        "id": "Tv2lDL2ZySy4"
      },
      "source": [
        "H0: Женщины и мужчины используют одинаковое количество сообщений\n",
        "\n",
        "H1: Женщины и мужчины используют разное количество сообщений"
      ]
    },
    {
      "cell_type": "code",
      "execution_count": null,
      "metadata": {
        "id": "13wWHTX3ySy4",
        "outputId": "be13401c-2022-49ec-9922-66049e152ac4"
      },
      "outputs": [
        {
          "name": "stdout",
          "output_type": "stream",
          "text": [
            "Мужчины написали 58226 сообщений\n",
            "Женщины написали 64810 сообщений\n",
            "_____________________________________\n",
            "p-значение: 0.2710873135338433\n",
            "Отвергаем нулевую гипотезу\n"
          ]
        }
      ],
      "source": [
        "print('Мужчины написали', round(sum(male['quantity_messages'])), 'сообщений')\n",
        "print('Женщины написали', round(sum(female['quantity_messages'])), 'сообщений')\n",
        "print('_____________________________________')\n",
        "\n",
        "\n",
        "alpha = 0.05\n",
        "results = st.ttest_ind(male['quantity_traffic_gb'], female['quantity_traffic_gb'], equal_var = False)\n",
        "print('p-значение:', results.pvalue)\n",
        "if (results.pvalue > alpha):\n",
        "    print(\"Отвергаем нулевую гипотезу\")\n",
        "else:\n",
        "    print(\"Не отвергаем нулевую гипотезу\")"
      ]
    },
    {
      "cell_type": "markdown",
      "metadata": {
        "id": "kUH_Js97ySy5"
      },
      "source": [
        "Женщины и мужчины используют разное количество сообщений"
      ]
    },
    {
      "cell_type": "markdown",
      "metadata": {
        "id": "5eL7aRUHySy5"
      },
      "source": [
        "### Заплатили всего"
      ]
    },
    {
      "cell_type": "markdown",
      "metadata": {
        "id": "pk4qAeclySy6"
      },
      "source": [
        "H0: Траты женщины и мужчины равны\n",
        "\n",
        "H1: Траты женщины и мужчины различаются"
      ]
    },
    {
      "cell_type": "code",
      "execution_count": null,
      "metadata": {
        "id": "ADdwYUmjySy6",
        "outputId": "02e2f088-c612-4757-cd2a-b1a7423bb503"
      },
      "outputs": [
        {
          "name": "stdout",
          "output_type": "stream",
          "text": [
            "Мужчины заплатили всего 2242585 рублей\n",
            "Женщины заплатили всего 2599680 рублей\n",
            "_____________________________________\n",
            "p-значение: 0.26803706156561313\n",
            "Отвергаем нулевую гипотезу\n"
          ]
        }
      ],
      "source": [
        "print('Мужчины заплатили всего', round(sum(male['need_to_pay'])), 'рублей')\n",
        "print('Женщины заплатили всего', round(sum(female['need_to_pay'])), 'рублей')\n",
        "print('_____________________________________')\n",
        "\n",
        "\n",
        "alpha = 0.01\n",
        "results = st.ttest_ind(male['need_to_pay'], female['need_to_pay'], equal_var = False)\n",
        "print('p-значение:', results.pvalue)\n",
        "if (results.pvalue > alpha):\n",
        "    print(\"Отвергаем нулевую гипотезу\")\n",
        "else:\n",
        "    print(\"Не отвергаем нулевую гипотезу\")"
      ]
    },
    {
      "cell_type": "markdown",
      "metadata": {
        "id": "t_-ZIiXrySy6"
      },
      "source": [
        "Траты женщины и мужчины различаются"
      ]
    },
    {
      "cell_type": "markdown",
      "metadata": {
        "id": "JrrOi8nEySy7"
      },
      "source": [
        "### Переплата"
      ]
    },
    {
      "cell_type": "markdown",
      "metadata": {
        "id": "3V6R2aH2ySy7"
      },
      "source": [
        "H0: Переплата за мобильную связь женщин и мужчин равна\n",
        "\n",
        "H1: Переплата за мобильную связь женщин и мужчин различается"
      ]
    },
    {
      "cell_type": "code",
      "execution_count": null,
      "metadata": {
        "id": "-gpTrggZySy8",
        "outputId": "a65bff49-bf65-4059-aa68-87929f67b924"
      },
      "outputs": [
        {
          "name": "stdout",
          "output_type": "stream",
          "text": [
            "Мужчины переплатили 836635 рублей\n",
            "Женщины переплатили 858930 рублей\n",
            "_____________________________________\n",
            "\n",
            "p-значение: 0.04449106161924755\n",
            "Не отвергаем нулевую гипотезу\n"
          ]
        }
      ],
      "source": [
        "print('Мужчины переплатили', round(sum(male['overpayment'])), 'рублей')\n",
        "print('Женщины переплатили', round(sum(female['overpayment'])), 'рублей')\n",
        "print('_____________________________________')\n",
        "print()\n",
        "\n",
        "alpha = 0.05\n",
        "results = st.ttest_ind(male['overpayment'], female['overpayment'], equal_var = False)\n",
        "print('p-значение:', results.pvalue)\n",
        "if (results.pvalue > alpha):\n",
        "    print(\"Отвергаем нулевую гипотезу\")\n",
        "else:\n",
        "    print(\"Не отвергаем нулевую гипотезу\")"
      ]
    },
    {
      "cell_type": "markdown",
      "metadata": {
        "id": "5Ahs46ruySy8"
      },
      "source": [
        "Переплата за мобильную связь женщин и мужчин  не различается"
      ]
    },
    {
      "cell_type": "markdown",
      "metadata": {
        "id": "n-qO2mtKSftz"
      },
      "source": [
        "# Шаг 5. Общий вывод"
      ]
    },
    {
      "cell_type": "markdown",
      "metadata": {
        "id": "wmAPZT5MULJE"
      },
      "source": [
        "Данные были предоставлены в хорошем состоянии. Выбросов и не обнаружил.\n",
        "Были найлены два абонента, которые не пользовались услугами оператора и ущли от оператора очень быстро.\n",
        "Мной было принято решение не использовать данные этих людей для аналитического анализа, так как мы не знаем заплатили они за подключение к тарифу или нет.\n",
        "\n",
        "Для каждого ползователя была расчитана плата за каждый месяц (2018года) пользования тарифами смарт и ультра и посчитана переплата. \n",
        "\n",
        "В ходе проверки гипотез выяснилось, что:\n",
        "\n",
        "- средняя выручка пользователей тарифов «Ультра» и «Смарт» различаются\n",
        "- переплата сверх тарифов различается\n",
        "- средняя выручка пользователей из Москвы не отличается от выручки из других регионов\n",
        "- женщины и мужчины используют разное количество минут\n",
        "- женщины и мужчины делают разное количество звонков\n",
        "- продолжительность разговора у женщин и мужчин равна\n",
        "- женщины и мужчины используют разное количество трафика\n",
        "- женщины и мужчины используют разное количество сообщений\n",
        "- траты женщины и мужчины различаются\n",
        "- переплата за мобильную связь женщин и мужчин различается\n",
        "\n",
        "Если взять за внимание, что обслуживание абонентов с более дешевым тарифом обходится в меньшую сумму оператору связи, то с большой уверенностью можно сказать, что тариф smart приносит больше выгоды компании. За счет маленьких лимитов и более дешевой абонентской платы люди активнее покупают этот тариф, затем вылезают за рамки ограничений и доплачивают за превышение ограничений"
      ]
    }
  ],
  "metadata": {
    "ExecuteTimeLog": [
      {
        "duration": 48,
        "start_time": "2022-06-10T21:01:11.282Z"
      },
      {
        "duration": 4863,
        "start_time": "2022-06-11T03:12:31.365Z"
      },
      {
        "duration": 1432,
        "start_time": "2022-06-11T03:12:36.230Z"
      },
      {
        "duration": 851,
        "start_time": "2022-06-11T03:12:37.664Z"
      },
      {
        "duration": 3,
        "start_time": "2022-06-11T03:12:38.516Z"
      },
      {
        "duration": 380,
        "start_time": "2022-06-11T03:12:38.521Z"
      },
      {
        "duration": 295,
        "start_time": "2022-06-11T03:12:38.903Z"
      },
      {
        "duration": 80,
        "start_time": "2022-06-11T03:12:39.200Z"
      },
      {
        "duration": 215,
        "start_time": "2022-06-11T03:12:39.282Z"
      },
      {
        "duration": 115,
        "start_time": "2022-06-11T03:12:39.498Z"
      },
      {
        "duration": 77,
        "start_time": "2022-06-11T03:12:39.614Z"
      },
      {
        "duration": 10,
        "start_time": "2022-06-11T03:12:39.692Z"
      },
      {
        "duration": 28,
        "start_time": "2022-06-11T03:12:39.703Z"
      },
      {
        "duration": 1313,
        "start_time": "2022-06-11T03:12:39.733Z"
      },
      {
        "duration": 100,
        "start_time": "2022-06-11T03:12:41.049Z"
      },
      {
        "duration": 81,
        "start_time": "2022-06-11T03:12:41.151Z"
      },
      {
        "duration": 29,
        "start_time": "2022-06-11T03:12:41.234Z"
      },
      {
        "duration": 201,
        "start_time": "2022-06-11T03:12:41.265Z"
      },
      {
        "duration": 89,
        "start_time": "2022-06-11T03:12:41.468Z"
      },
      {
        "duration": 108,
        "start_time": "2022-06-11T03:12:41.559Z"
      },
      {
        "duration": 3,
        "start_time": "2022-06-11T03:12:41.668Z"
      },
      {
        "duration": 27,
        "start_time": "2022-06-11T03:12:41.673Z"
      },
      {
        "duration": 2,
        "start_time": "2022-06-11T03:12:41.702Z"
      },
      {
        "duration": 32,
        "start_time": "2022-06-11T03:12:41.706Z"
      },
      {
        "duration": 39,
        "start_time": "2022-06-11T03:12:41.740Z"
      },
      {
        "duration": 19,
        "start_time": "2022-06-11T03:12:41.781Z"
      },
      {
        "duration": 39,
        "start_time": "2022-06-11T03:12:41.801Z"
      },
      {
        "duration": 42,
        "start_time": "2022-06-11T03:12:41.842Z"
      },
      {
        "duration": 29,
        "start_time": "2022-06-11T03:12:41.886Z"
      },
      {
        "duration": 21,
        "start_time": "2022-06-11T03:12:41.916Z"
      },
      {
        "duration": 37,
        "start_time": "2022-06-11T03:12:41.939Z"
      },
      {
        "duration": 21,
        "start_time": "2022-06-11T03:12:41.978Z"
      },
      {
        "duration": 126,
        "start_time": "2022-06-11T03:12:42.001Z"
      },
      {
        "duration": 17,
        "start_time": "2022-06-11T03:12:42.129Z"
      },
      {
        "duration": 51,
        "start_time": "2022-06-11T03:12:42.147Z"
      },
      {
        "duration": 80,
        "start_time": "2022-06-11T03:12:42.199Z"
      },
      {
        "duration": 560,
        "start_time": "2022-06-11T03:12:42.280Z"
      },
      {
        "duration": 93,
        "start_time": "2022-06-11T03:12:42.842Z"
      },
      {
        "duration": 40,
        "start_time": "2022-06-11T03:12:42.937Z"
      },
      {
        "duration": 591,
        "start_time": "2022-06-11T03:12:42.979Z"
      },
      {
        "duration": 697,
        "start_time": "2022-06-11T03:12:43.572Z"
      },
      {
        "duration": 146,
        "start_time": "2022-06-11T03:12:44.272Z"
      },
      {
        "duration": 0,
        "start_time": "2022-06-11T03:12:44.419Z"
      },
      {
        "duration": 0,
        "start_time": "2022-06-11T03:12:44.421Z"
      },
      {
        "duration": 0,
        "start_time": "2022-06-11T03:12:44.427Z"
      },
      {
        "duration": 0,
        "start_time": "2022-06-11T03:12:44.428Z"
      },
      {
        "duration": 0,
        "start_time": "2022-06-11T03:12:44.429Z"
      },
      {
        "duration": 0,
        "start_time": "2022-06-11T03:12:44.430Z"
      },
      {
        "duration": 0,
        "start_time": "2022-06-11T03:12:44.431Z"
      },
      {
        "duration": 0,
        "start_time": "2022-06-11T03:12:44.432Z"
      },
      {
        "duration": 0,
        "start_time": "2022-06-11T03:12:44.434Z"
      },
      {
        "duration": 0,
        "start_time": "2022-06-11T03:12:44.435Z"
      },
      {
        "duration": 19,
        "start_time": "2022-06-11T03:19:19.101Z"
      },
      {
        "duration": 424,
        "start_time": "2022-06-11T03:20:57.969Z"
      },
      {
        "duration": 7,
        "start_time": "2022-06-11T03:21:04.092Z"
      },
      {
        "duration": 15,
        "start_time": "2022-06-11T03:21:14.178Z"
      },
      {
        "duration": 23,
        "start_time": "2022-06-11T03:21:17.620Z"
      },
      {
        "duration": 22,
        "start_time": "2022-06-11T03:22:08.174Z"
      },
      {
        "duration": 11,
        "start_time": "2022-06-11T03:22:25.710Z"
      },
      {
        "duration": 7,
        "start_time": "2022-06-11T03:22:32.659Z"
      },
      {
        "duration": 13,
        "start_time": "2022-06-11T03:23:20.668Z"
      },
      {
        "duration": 14,
        "start_time": "2022-06-11T03:24:16.370Z"
      },
      {
        "duration": 11,
        "start_time": "2022-06-11T03:24:19.628Z"
      },
      {
        "duration": 5,
        "start_time": "2022-06-11T03:24:23.914Z"
      },
      {
        "duration": 4201,
        "start_time": "2022-06-11T04:18:31.621Z"
      },
      {
        "duration": 256,
        "start_time": "2022-06-11T04:18:35.824Z"
      },
      {
        "duration": 512,
        "start_time": "2022-06-11T04:18:36.081Z"
      },
      {
        "duration": 3,
        "start_time": "2022-06-11T04:18:36.594Z"
      },
      {
        "duration": 381,
        "start_time": "2022-06-11T04:18:36.599Z"
      },
      {
        "duration": 431,
        "start_time": "2022-06-11T04:18:36.981Z"
      },
      {
        "duration": 88,
        "start_time": "2022-06-11T04:18:37.414Z"
      },
      {
        "duration": 246,
        "start_time": "2022-06-11T04:18:37.504Z"
      },
      {
        "duration": 157,
        "start_time": "2022-06-11T04:18:37.751Z"
      },
      {
        "duration": 93,
        "start_time": "2022-06-11T04:18:37.910Z"
      },
      {
        "duration": 23,
        "start_time": "2022-06-11T04:18:38.005Z"
      },
      {
        "duration": 20,
        "start_time": "2022-06-11T04:18:38.030Z"
      },
      {
        "duration": 1355,
        "start_time": "2022-06-11T04:18:38.051Z"
      },
      {
        "duration": 40,
        "start_time": "2022-06-11T04:18:39.410Z"
      },
      {
        "duration": 109,
        "start_time": "2022-06-11T04:18:39.452Z"
      },
      {
        "duration": 37,
        "start_time": "2022-06-11T04:18:39.563Z"
      },
      {
        "duration": 223,
        "start_time": "2022-06-11T04:18:39.602Z"
      },
      {
        "duration": 112,
        "start_time": "2022-06-11T04:18:39.828Z"
      },
      {
        "duration": 123,
        "start_time": "2022-06-11T04:18:39.949Z"
      },
      {
        "duration": 2,
        "start_time": "2022-06-11T04:18:40.074Z"
      },
      {
        "duration": 25,
        "start_time": "2022-06-11T04:18:40.078Z"
      },
      {
        "duration": 23,
        "start_time": "2022-06-11T04:18:40.104Z"
      },
      {
        "duration": 35,
        "start_time": "2022-06-11T04:18:40.129Z"
      },
      {
        "duration": 11,
        "start_time": "2022-06-11T04:18:40.165Z"
      },
      {
        "duration": 4,
        "start_time": "2022-06-11T04:18:40.177Z"
      },
      {
        "duration": 14,
        "start_time": "2022-06-11T04:18:40.182Z"
      },
      {
        "duration": 13,
        "start_time": "2022-06-11T04:18:40.198Z"
      },
      {
        "duration": 39,
        "start_time": "2022-06-11T04:18:40.212Z"
      },
      {
        "duration": 3,
        "start_time": "2022-06-11T04:18:40.253Z"
      },
      {
        "duration": 10,
        "start_time": "2022-06-11T04:18:40.257Z"
      },
      {
        "duration": 23,
        "start_time": "2022-06-11T04:18:40.269Z"
      },
      {
        "duration": 33,
        "start_time": "2022-06-11T04:18:40.294Z"
      },
      {
        "duration": 119,
        "start_time": "2022-06-11T04:18:40.329Z"
      },
      {
        "duration": 17,
        "start_time": "2022-06-11T04:18:40.450Z"
      },
      {
        "duration": 30,
        "start_time": "2022-06-11T04:18:40.469Z"
      },
      {
        "duration": 5,
        "start_time": "2022-06-11T04:18:40.500Z"
      },
      {
        "duration": 79,
        "start_time": "2022-06-11T04:18:40.527Z"
      },
      {
        "duration": 642,
        "start_time": "2022-06-11T04:18:40.608Z"
      },
      {
        "duration": 128,
        "start_time": "2022-06-11T04:18:41.253Z"
      },
      {
        "duration": 53,
        "start_time": "2022-06-11T04:18:41.382Z"
      },
      {
        "duration": 711,
        "start_time": "2022-06-11T04:18:41.441Z"
      },
      {
        "duration": 662,
        "start_time": "2022-06-11T04:18:42.154Z"
      },
      {
        "duration": 178,
        "start_time": "2022-06-11T04:18:42.817Z"
      },
      {
        "duration": 0,
        "start_time": "2022-06-11T04:18:42.996Z"
      },
      {
        "duration": 0,
        "start_time": "2022-06-11T04:18:42.998Z"
      },
      {
        "duration": 0,
        "start_time": "2022-06-11T04:18:42.999Z"
      },
      {
        "duration": 0,
        "start_time": "2022-06-11T04:18:43.000Z"
      },
      {
        "duration": 0,
        "start_time": "2022-06-11T04:18:43.002Z"
      },
      {
        "duration": 0,
        "start_time": "2022-06-11T04:18:43.003Z"
      },
      {
        "duration": 0,
        "start_time": "2022-06-11T04:18:43.004Z"
      },
      {
        "duration": 0,
        "start_time": "2022-06-11T04:18:43.005Z"
      },
      {
        "duration": 0,
        "start_time": "2022-06-11T04:18:43.006Z"
      },
      {
        "duration": 0,
        "start_time": "2022-06-11T04:18:43.007Z"
      },
      {
        "duration": 0,
        "start_time": "2022-06-11T04:18:43.028Z"
      },
      {
        "duration": 0,
        "start_time": "2022-06-11T04:18:43.029Z"
      },
      {
        "duration": 19,
        "start_time": "2022-06-11T04:20:00.229Z"
      },
      {
        "duration": 10,
        "start_time": "2022-06-11T04:20:15.087Z"
      },
      {
        "duration": 3965,
        "start_time": "2022-06-11T04:20:24.124Z"
      },
      {
        "duration": 248,
        "start_time": "2022-06-11T04:20:28.092Z"
      },
      {
        "duration": 400,
        "start_time": "2022-06-11T04:20:28.342Z"
      },
      {
        "duration": 2,
        "start_time": "2022-06-11T04:20:28.744Z"
      },
      {
        "duration": 354,
        "start_time": "2022-06-11T04:20:28.748Z"
      },
      {
        "duration": 333,
        "start_time": "2022-06-11T04:20:29.104Z"
      },
      {
        "duration": 68,
        "start_time": "2022-06-11T04:20:29.439Z"
      },
      {
        "duration": 205,
        "start_time": "2022-06-11T04:20:29.508Z"
      },
      {
        "duration": 132,
        "start_time": "2022-06-11T04:20:29.715Z"
      },
      {
        "duration": 68,
        "start_time": "2022-06-11T04:20:29.849Z"
      },
      {
        "duration": 23,
        "start_time": "2022-06-11T04:20:29.919Z"
      },
      {
        "duration": 13,
        "start_time": "2022-06-11T04:20:29.944Z"
      },
      {
        "duration": 1282,
        "start_time": "2022-06-11T04:20:29.959Z"
      },
      {
        "duration": 30,
        "start_time": "2022-06-11T04:20:31.244Z"
      },
      {
        "duration": 93,
        "start_time": "2022-06-11T04:20:31.276Z"
      },
      {
        "duration": 46,
        "start_time": "2022-06-11T04:20:31.371Z"
      },
      {
        "duration": 188,
        "start_time": "2022-06-11T04:20:31.418Z"
      },
      {
        "duration": 98,
        "start_time": "2022-06-11T04:20:31.608Z"
      },
      {
        "duration": 114,
        "start_time": "2022-06-11T04:20:31.707Z"
      },
      {
        "duration": 3,
        "start_time": "2022-06-11T04:20:31.827Z"
      },
      {
        "duration": 55,
        "start_time": "2022-06-11T04:20:31.831Z"
      },
      {
        "duration": 3,
        "start_time": "2022-06-11T04:20:31.888Z"
      },
      {
        "duration": 26,
        "start_time": "2022-06-11T04:20:31.892Z"
      },
      {
        "duration": 31,
        "start_time": "2022-06-11T04:20:31.919Z"
      },
      {
        "duration": 15,
        "start_time": "2022-06-11T04:20:31.951Z"
      },
      {
        "duration": 23,
        "start_time": "2022-06-11T04:20:31.967Z"
      },
      {
        "duration": 22,
        "start_time": "2022-06-11T04:20:31.992Z"
      },
      {
        "duration": 28,
        "start_time": "2022-06-11T04:20:32.016Z"
      },
      {
        "duration": 9,
        "start_time": "2022-06-11T04:20:32.046Z"
      },
      {
        "duration": 17,
        "start_time": "2022-06-11T04:20:32.057Z"
      },
      {
        "duration": 35,
        "start_time": "2022-06-11T04:20:32.076Z"
      },
      {
        "duration": 3,
        "start_time": "2022-06-11T04:20:32.113Z"
      },
      {
        "duration": 133,
        "start_time": "2022-06-11T04:20:32.118Z"
      },
      {
        "duration": 16,
        "start_time": "2022-06-11T04:20:32.253Z"
      },
      {
        "duration": 28,
        "start_time": "2022-06-11T04:20:32.271Z"
      },
      {
        "duration": 9,
        "start_time": "2022-06-11T04:20:32.301Z"
      },
      {
        "duration": 86,
        "start_time": "2022-06-11T04:20:32.312Z"
      },
      {
        "duration": 586,
        "start_time": "2022-06-11T04:20:32.400Z"
      },
      {
        "duration": 101,
        "start_time": "2022-06-11T04:20:32.987Z"
      },
      {
        "duration": 63,
        "start_time": "2022-06-11T04:20:33.090Z"
      },
      {
        "duration": 705,
        "start_time": "2022-06-11T04:20:33.157Z"
      },
      {
        "duration": 631,
        "start_time": "2022-06-11T04:20:33.863Z"
      },
      {
        "duration": 18,
        "start_time": "2022-06-11T04:20:34.496Z"
      },
      {
        "duration": 0,
        "start_time": "2022-06-11T04:20:34.515Z"
      },
      {
        "duration": 0,
        "start_time": "2022-06-11T04:20:34.529Z"
      },
      {
        "duration": 0,
        "start_time": "2022-06-11T04:20:34.530Z"
      },
      {
        "duration": 0,
        "start_time": "2022-06-11T04:20:34.531Z"
      },
      {
        "duration": 0,
        "start_time": "2022-06-11T04:20:34.532Z"
      },
      {
        "duration": 0,
        "start_time": "2022-06-11T04:20:34.533Z"
      },
      {
        "duration": 0,
        "start_time": "2022-06-11T04:20:34.534Z"
      },
      {
        "duration": 0,
        "start_time": "2022-06-11T04:20:34.534Z"
      },
      {
        "duration": 0,
        "start_time": "2022-06-11T04:20:34.538Z"
      },
      {
        "duration": 0,
        "start_time": "2022-06-11T04:20:34.540Z"
      },
      {
        "duration": 0,
        "start_time": "2022-06-11T04:20:34.541Z"
      },
      {
        "duration": 0,
        "start_time": "2022-06-11T04:20:34.543Z"
      },
      {
        "duration": 6,
        "start_time": "2022-06-11T04:21:01.171Z"
      },
      {
        "duration": 13,
        "start_time": "2022-06-11T04:22:05.801Z"
      },
      {
        "duration": 4,
        "start_time": "2022-06-11T04:22:08.627Z"
      },
      {
        "duration": 16,
        "start_time": "2022-06-11T04:22:26.593Z"
      },
      {
        "duration": 3927,
        "start_time": "2022-06-11T04:23:09.043Z"
      },
      {
        "duration": 240,
        "start_time": "2022-06-11T04:23:12.972Z"
      },
      {
        "duration": 414,
        "start_time": "2022-06-11T04:23:13.214Z"
      },
      {
        "duration": 3,
        "start_time": "2022-06-11T04:23:13.629Z"
      },
      {
        "duration": 407,
        "start_time": "2022-06-11T04:23:13.634Z"
      },
      {
        "duration": 306,
        "start_time": "2022-06-11T04:23:14.042Z"
      },
      {
        "duration": 83,
        "start_time": "2022-06-11T04:23:14.350Z"
      },
      {
        "duration": 217,
        "start_time": "2022-06-11T04:23:14.435Z"
      },
      {
        "duration": 127,
        "start_time": "2022-06-11T04:23:14.653Z"
      },
      {
        "duration": 91,
        "start_time": "2022-06-11T04:23:14.781Z"
      },
      {
        "duration": 14,
        "start_time": "2022-06-11T04:23:14.875Z"
      },
      {
        "duration": 14,
        "start_time": "2022-06-11T04:23:14.890Z"
      },
      {
        "duration": 1301,
        "start_time": "2022-06-11T04:23:14.906Z"
      },
      {
        "duration": 48,
        "start_time": "2022-06-11T04:23:16.211Z"
      },
      {
        "duration": 106,
        "start_time": "2022-06-11T04:23:16.261Z"
      },
      {
        "duration": 44,
        "start_time": "2022-06-11T04:23:16.370Z"
      },
      {
        "duration": 217,
        "start_time": "2022-06-11T04:23:16.416Z"
      },
      {
        "duration": 100,
        "start_time": "2022-06-11T04:23:16.634Z"
      },
      {
        "duration": 113,
        "start_time": "2022-06-11T04:23:16.736Z"
      },
      {
        "duration": 3,
        "start_time": "2022-06-11T04:23:16.850Z"
      },
      {
        "duration": 32,
        "start_time": "2022-06-11T04:23:16.854Z"
      },
      {
        "duration": 3,
        "start_time": "2022-06-11T04:23:16.887Z"
      },
      {
        "duration": 21,
        "start_time": "2022-06-11T04:23:16.891Z"
      },
      {
        "duration": 13,
        "start_time": "2022-06-11T04:23:16.927Z"
      },
      {
        "duration": 6,
        "start_time": "2022-06-11T04:23:16.942Z"
      },
      {
        "duration": 20,
        "start_time": "2022-06-11T04:23:16.949Z"
      },
      {
        "duration": 15,
        "start_time": "2022-06-11T04:23:16.970Z"
      },
      {
        "duration": 41,
        "start_time": "2022-06-11T04:23:16.987Z"
      },
      {
        "duration": 4,
        "start_time": "2022-06-11T04:23:17.030Z"
      },
      {
        "duration": 11,
        "start_time": "2022-06-11T04:23:17.035Z"
      },
      {
        "duration": 26,
        "start_time": "2022-06-11T04:23:17.047Z"
      },
      {
        "duration": 4,
        "start_time": "2022-06-11T04:23:17.075Z"
      },
      {
        "duration": 155,
        "start_time": "2022-06-11T04:23:17.081Z"
      },
      {
        "duration": 19,
        "start_time": "2022-06-11T04:23:17.238Z"
      },
      {
        "duration": 36,
        "start_time": "2022-06-11T04:23:17.259Z"
      },
      {
        "duration": 7,
        "start_time": "2022-06-11T04:23:17.297Z"
      },
      {
        "duration": 110,
        "start_time": "2022-06-11T04:23:17.305Z"
      },
      {
        "duration": 763,
        "start_time": "2022-06-11T04:23:17.427Z"
      },
      {
        "duration": 99,
        "start_time": "2022-06-11T04:23:18.191Z"
      },
      {
        "duration": 53,
        "start_time": "2022-06-11T04:23:18.291Z"
      },
      {
        "duration": 589,
        "start_time": "2022-06-11T04:23:18.348Z"
      },
      {
        "duration": 642,
        "start_time": "2022-06-11T04:23:18.939Z"
      },
      {
        "duration": 210,
        "start_time": "2022-06-11T04:23:19.583Z"
      },
      {
        "duration": 0,
        "start_time": "2022-06-11T04:23:19.795Z"
      },
      {
        "duration": 0,
        "start_time": "2022-06-11T04:23:19.797Z"
      },
      {
        "duration": 0,
        "start_time": "2022-06-11T04:23:19.798Z"
      },
      {
        "duration": 0,
        "start_time": "2022-06-11T04:23:19.799Z"
      },
      {
        "duration": 0,
        "start_time": "2022-06-11T04:23:19.801Z"
      },
      {
        "duration": 0,
        "start_time": "2022-06-11T04:23:19.802Z"
      },
      {
        "duration": 1,
        "start_time": "2022-06-11T04:23:19.803Z"
      },
      {
        "duration": 0,
        "start_time": "2022-06-11T04:23:19.805Z"
      },
      {
        "duration": 0,
        "start_time": "2022-06-11T04:23:19.806Z"
      },
      {
        "duration": 0,
        "start_time": "2022-06-11T04:23:19.828Z"
      },
      {
        "duration": 0,
        "start_time": "2022-06-11T04:23:19.829Z"
      },
      {
        "duration": 0,
        "start_time": "2022-06-11T04:23:19.830Z"
      },
      {
        "duration": 3952,
        "start_time": "2022-06-11T04:23:55.521Z"
      },
      {
        "duration": 244,
        "start_time": "2022-06-11T04:23:59.476Z"
      },
      {
        "duration": 389,
        "start_time": "2022-06-11T04:23:59.721Z"
      },
      {
        "duration": 3,
        "start_time": "2022-06-11T04:24:00.112Z"
      },
      {
        "duration": 371,
        "start_time": "2022-06-11T04:24:00.116Z"
      },
      {
        "duration": 318,
        "start_time": "2022-06-11T04:24:00.489Z"
      },
      {
        "duration": 77,
        "start_time": "2022-06-11T04:24:00.809Z"
      },
      {
        "duration": 210,
        "start_time": "2022-06-11T04:24:00.888Z"
      },
      {
        "duration": 128,
        "start_time": "2022-06-11T04:24:01.099Z"
      },
      {
        "duration": 74,
        "start_time": "2022-06-11T04:24:01.229Z"
      },
      {
        "duration": 24,
        "start_time": "2022-06-11T04:24:01.304Z"
      },
      {
        "duration": 15,
        "start_time": "2022-06-11T04:24:01.330Z"
      },
      {
        "duration": 1315,
        "start_time": "2022-06-11T04:24:01.346Z"
      },
      {
        "duration": 32,
        "start_time": "2022-06-11T04:24:02.664Z"
      },
      {
        "duration": 101,
        "start_time": "2022-06-11T04:24:02.698Z"
      },
      {
        "duration": 42,
        "start_time": "2022-06-11T04:24:02.800Z"
      },
      {
        "duration": 186,
        "start_time": "2022-06-11T04:24:02.843Z"
      },
      {
        "duration": 96,
        "start_time": "2022-06-11T04:24:03.031Z"
      },
      {
        "duration": 108,
        "start_time": "2022-06-11T04:24:03.129Z"
      },
      {
        "duration": 2,
        "start_time": "2022-06-11T04:24:03.238Z"
      },
      {
        "duration": 33,
        "start_time": "2022-06-11T04:24:03.244Z"
      },
      {
        "duration": 2,
        "start_time": "2022-06-11T04:24:03.279Z"
      },
      {
        "duration": 22,
        "start_time": "2022-06-11T04:24:03.282Z"
      },
      {
        "duration": 28,
        "start_time": "2022-06-11T04:24:03.306Z"
      },
      {
        "duration": 5,
        "start_time": "2022-06-11T04:24:03.335Z"
      },
      {
        "duration": 14,
        "start_time": "2022-06-11T04:24:03.342Z"
      },
      {
        "duration": 15,
        "start_time": "2022-06-11T04:24:03.357Z"
      },
      {
        "duration": 21,
        "start_time": "2022-06-11T04:24:03.375Z"
      },
      {
        "duration": 4,
        "start_time": "2022-06-11T04:24:03.427Z"
      },
      {
        "duration": 10,
        "start_time": "2022-06-11T04:24:03.433Z"
      },
      {
        "duration": 26,
        "start_time": "2022-06-11T04:24:03.444Z"
      },
      {
        "duration": 3,
        "start_time": "2022-06-11T04:24:03.471Z"
      },
      {
        "duration": 148,
        "start_time": "2022-06-11T04:24:03.475Z"
      },
      {
        "duration": 18,
        "start_time": "2022-06-11T04:24:03.625Z"
      },
      {
        "duration": 31,
        "start_time": "2022-06-11T04:24:03.644Z"
      },
      {
        "duration": 5,
        "start_time": "2022-06-11T04:24:03.677Z"
      },
      {
        "duration": 96,
        "start_time": "2022-06-11T04:24:03.683Z"
      },
      {
        "duration": 594,
        "start_time": "2022-06-11T04:24:03.781Z"
      },
      {
        "duration": 120,
        "start_time": "2022-06-11T04:24:04.377Z"
      },
      {
        "duration": 55,
        "start_time": "2022-06-11T04:24:04.499Z"
      },
      {
        "duration": 600,
        "start_time": "2022-06-11T04:24:04.556Z"
      },
      {
        "duration": 814,
        "start_time": "2022-06-11T04:24:05.157Z"
      },
      {
        "duration": 2,
        "start_time": "2022-06-11T04:24:05.973Z"
      },
      {
        "duration": 529,
        "start_time": "2022-06-11T04:24:05.977Z"
      },
      {
        "duration": 6,
        "start_time": "2022-06-11T04:24:06.508Z"
      },
      {
        "duration": 20,
        "start_time": "2022-06-11T04:24:06.516Z"
      },
      {
        "duration": 5,
        "start_time": "2022-06-11T04:24:06.537Z"
      },
      {
        "duration": 13,
        "start_time": "2022-06-11T04:24:06.543Z"
      },
      {
        "duration": 10,
        "start_time": "2022-06-11T04:24:06.558Z"
      },
      {
        "duration": 12,
        "start_time": "2022-06-11T04:24:06.569Z"
      },
      {
        "duration": 4,
        "start_time": "2022-06-11T04:24:06.582Z"
      },
      {
        "duration": 11,
        "start_time": "2022-06-11T04:24:06.588Z"
      },
      {
        "duration": 5,
        "start_time": "2022-06-11T04:24:06.626Z"
      },
      {
        "duration": 8,
        "start_time": "2022-06-11T04:24:06.633Z"
      },
      {
        "duration": 7,
        "start_time": "2022-06-11T04:24:06.642Z"
      },
      {
        "duration": 5258,
        "start_time": "2022-06-11T11:15:44.291Z"
      },
      {
        "duration": 1545,
        "start_time": "2022-06-11T11:15:49.552Z"
      },
      {
        "duration": 1162,
        "start_time": "2022-06-11T11:15:51.099Z"
      },
      {
        "duration": 3,
        "start_time": "2022-06-11T11:15:52.262Z"
      },
      {
        "duration": 438,
        "start_time": "2022-06-11T11:15:52.267Z"
      },
      {
        "duration": 355,
        "start_time": "2022-06-11T11:15:52.707Z"
      },
      {
        "duration": 100,
        "start_time": "2022-06-11T11:15:53.063Z"
      },
      {
        "duration": 263,
        "start_time": "2022-06-11T11:15:53.164Z"
      },
      {
        "duration": 195,
        "start_time": "2022-06-11T11:15:53.428Z"
      },
      {
        "duration": 94,
        "start_time": "2022-06-11T11:15:53.625Z"
      },
      {
        "duration": 13,
        "start_time": "2022-06-11T11:15:53.722Z"
      },
      {
        "duration": 35,
        "start_time": "2022-06-11T11:15:53.736Z"
      },
      {
        "duration": 1303,
        "start_time": "2022-06-11T11:15:53.772Z"
      },
      {
        "duration": 31,
        "start_time": "2022-06-11T11:15:55.079Z"
      },
      {
        "duration": 98,
        "start_time": "2022-06-11T11:15:55.112Z"
      },
      {
        "duration": 47,
        "start_time": "2022-06-11T11:15:55.211Z"
      },
      {
        "duration": 214,
        "start_time": "2022-06-11T11:15:55.260Z"
      },
      {
        "duration": 108,
        "start_time": "2022-06-11T11:15:55.475Z"
      },
      {
        "duration": 123,
        "start_time": "2022-06-11T11:15:55.584Z"
      },
      {
        "duration": 2,
        "start_time": "2022-06-11T11:15:55.708Z"
      },
      {
        "duration": 29,
        "start_time": "2022-06-11T11:15:55.712Z"
      },
      {
        "duration": 2,
        "start_time": "2022-06-11T11:15:55.743Z"
      },
      {
        "duration": 20,
        "start_time": "2022-06-11T11:15:55.759Z"
      },
      {
        "duration": 12,
        "start_time": "2022-06-11T11:15:55.781Z"
      },
      {
        "duration": 5,
        "start_time": "2022-06-11T11:15:55.794Z"
      },
      {
        "duration": 15,
        "start_time": "2022-06-11T11:15:55.801Z"
      },
      {
        "duration": 43,
        "start_time": "2022-06-11T11:15:55.817Z"
      },
      {
        "duration": 20,
        "start_time": "2022-06-11T11:15:55.861Z"
      },
      {
        "duration": 4,
        "start_time": "2022-06-11T11:15:55.883Z"
      },
      {
        "duration": 21,
        "start_time": "2022-06-11T11:15:55.888Z"
      },
      {
        "duration": 48,
        "start_time": "2022-06-11T11:15:55.911Z"
      },
      {
        "duration": 4,
        "start_time": "2022-06-11T11:15:55.962Z"
      },
      {
        "duration": 125,
        "start_time": "2022-06-11T11:15:55.967Z"
      },
      {
        "duration": 19,
        "start_time": "2022-06-11T11:15:56.094Z"
      },
      {
        "duration": 46,
        "start_time": "2022-06-11T11:15:56.114Z"
      },
      {
        "duration": 11,
        "start_time": "2022-06-11T11:15:56.162Z"
      },
      {
        "duration": 6,
        "start_time": "2022-06-11T11:15:56.175Z"
      },
      {
        "duration": 110,
        "start_time": "2022-06-11T11:15:56.182Z"
      },
      {
        "duration": 663,
        "start_time": "2022-06-11T11:15:56.294Z"
      },
      {
        "duration": 106,
        "start_time": "2022-06-11T11:15:56.959Z"
      },
      {
        "duration": 45,
        "start_time": "2022-06-11T11:15:57.069Z"
      },
      {
        "duration": 665,
        "start_time": "2022-06-11T11:15:57.115Z"
      },
      {
        "duration": 802,
        "start_time": "2022-06-11T11:15:57.781Z"
      },
      {
        "duration": 3,
        "start_time": "2022-06-11T11:15:58.584Z"
      },
      {
        "duration": 525,
        "start_time": "2022-06-11T11:15:58.589Z"
      },
      {
        "duration": 7,
        "start_time": "2022-06-11T11:15:59.116Z"
      },
      {
        "duration": 13,
        "start_time": "2022-06-11T11:15:59.125Z"
      },
      {
        "duration": 22,
        "start_time": "2022-06-11T11:15:59.139Z"
      },
      {
        "duration": 15,
        "start_time": "2022-06-11T11:15:59.163Z"
      },
      {
        "duration": 10,
        "start_time": "2022-06-11T11:15:59.180Z"
      },
      {
        "duration": 10,
        "start_time": "2022-06-11T11:15:59.191Z"
      },
      {
        "duration": 5,
        "start_time": "2022-06-11T11:15:59.203Z"
      },
      {
        "duration": 16,
        "start_time": "2022-06-11T11:15:59.210Z"
      },
      {
        "duration": 33,
        "start_time": "2022-06-11T11:15:59.228Z"
      },
      {
        "duration": 10,
        "start_time": "2022-06-11T11:15:59.263Z"
      },
      {
        "duration": 9,
        "start_time": "2022-06-11T11:15:59.274Z"
      },
      {
        "duration": 56,
        "start_time": "2022-06-11T19:34:41.237Z"
      },
      {
        "duration": 8,
        "start_time": "2022-06-11T19:34:46.850Z"
      },
      {
        "duration": 9,
        "start_time": "2022-06-11T19:34:55.701Z"
      },
      {
        "duration": 6176,
        "start_time": "2022-06-11T19:35:02.129Z"
      },
      {
        "duration": 1518,
        "start_time": "2022-06-11T19:35:08.307Z"
      },
      {
        "duration": 1180,
        "start_time": "2022-06-11T19:35:09.827Z"
      },
      {
        "duration": 3,
        "start_time": "2022-06-11T19:35:11.009Z"
      },
      {
        "duration": 476,
        "start_time": "2022-06-11T19:35:11.014Z"
      },
      {
        "duration": 359,
        "start_time": "2022-06-11T19:35:11.491Z"
      },
      {
        "duration": 118,
        "start_time": "2022-06-11T19:35:11.859Z"
      },
      {
        "duration": 252,
        "start_time": "2022-06-11T19:35:11.979Z"
      },
      {
        "duration": 139,
        "start_time": "2022-06-11T19:35:12.234Z"
      },
      {
        "duration": 88,
        "start_time": "2022-06-11T19:35:12.376Z"
      },
      {
        "duration": 13,
        "start_time": "2022-06-11T19:35:12.466Z"
      },
      {
        "duration": 24,
        "start_time": "2022-06-11T19:35:12.481Z"
      },
      {
        "duration": 1686,
        "start_time": "2022-06-11T19:35:12.507Z"
      },
      {
        "duration": 125,
        "start_time": "2022-06-11T19:35:14.195Z"
      },
      {
        "duration": 102,
        "start_time": "2022-06-11T19:35:14.322Z"
      },
      {
        "duration": 43,
        "start_time": "2022-06-11T19:35:14.425Z"
      },
      {
        "duration": 234,
        "start_time": "2022-06-11T19:35:14.470Z"
      },
      {
        "duration": 125,
        "start_time": "2022-06-11T19:35:14.706Z"
      },
      {
        "duration": 150,
        "start_time": "2022-06-11T19:35:14.833Z"
      },
      {
        "duration": 5,
        "start_time": "2022-06-11T19:35:14.985Z"
      },
      {
        "duration": 36,
        "start_time": "2022-06-11T19:35:14.991Z"
      },
      {
        "duration": 3,
        "start_time": "2022-06-11T19:35:15.029Z"
      },
      {
        "duration": 37,
        "start_time": "2022-06-11T19:35:15.033Z"
      },
      {
        "duration": 15,
        "start_time": "2022-06-11T19:35:15.071Z"
      },
      {
        "duration": 5,
        "start_time": "2022-06-11T19:35:15.087Z"
      },
      {
        "duration": 20,
        "start_time": "2022-06-11T19:35:15.094Z"
      },
      {
        "duration": 18,
        "start_time": "2022-06-11T19:35:15.115Z"
      },
      {
        "duration": 39,
        "start_time": "2022-06-11T19:35:15.137Z"
      },
      {
        "duration": 4,
        "start_time": "2022-06-11T19:35:15.178Z"
      },
      {
        "duration": 12,
        "start_time": "2022-06-11T19:35:15.184Z"
      },
      {
        "duration": 29,
        "start_time": "2022-06-11T19:35:15.198Z"
      },
      {
        "duration": 3,
        "start_time": "2022-06-11T19:35:15.229Z"
      },
      {
        "duration": 146,
        "start_time": "2022-06-11T19:35:15.233Z"
      },
      {
        "duration": 19,
        "start_time": "2022-06-11T19:35:15.381Z"
      },
      {
        "duration": 32,
        "start_time": "2022-06-11T19:35:15.402Z"
      },
      {
        "duration": 30,
        "start_time": "2022-06-11T19:35:15.436Z"
      },
      {
        "duration": 10,
        "start_time": "2022-06-11T19:35:15.467Z"
      },
      {
        "duration": 104,
        "start_time": "2022-06-11T19:35:15.478Z"
      },
      {
        "duration": 690,
        "start_time": "2022-06-11T19:35:15.584Z"
      },
      {
        "duration": 112,
        "start_time": "2022-06-11T19:35:16.276Z"
      },
      {
        "duration": 45,
        "start_time": "2022-06-11T19:35:16.390Z"
      },
      {
        "duration": 677,
        "start_time": "2022-06-11T19:35:16.437Z"
      },
      {
        "duration": 800,
        "start_time": "2022-06-11T19:35:17.116Z"
      },
      {
        "duration": 129,
        "start_time": "2022-06-11T19:35:17.918Z"
      },
      {
        "duration": 0,
        "start_time": "2022-06-11T19:35:18.048Z"
      },
      {
        "duration": 0,
        "start_time": "2022-06-11T19:35:18.049Z"
      },
      {
        "duration": 0,
        "start_time": "2022-06-11T19:35:18.050Z"
      },
      {
        "duration": 0,
        "start_time": "2022-06-11T19:35:18.059Z"
      },
      {
        "duration": 0,
        "start_time": "2022-06-11T19:35:18.060Z"
      },
      {
        "duration": 0,
        "start_time": "2022-06-11T19:35:18.061Z"
      },
      {
        "duration": 0,
        "start_time": "2022-06-11T19:35:18.062Z"
      },
      {
        "duration": 1,
        "start_time": "2022-06-11T19:35:18.063Z"
      },
      {
        "duration": 0,
        "start_time": "2022-06-11T19:35:18.065Z"
      },
      {
        "duration": 0,
        "start_time": "2022-06-11T19:35:18.066Z"
      },
      {
        "duration": 0,
        "start_time": "2022-06-11T19:35:18.067Z"
      },
      {
        "duration": 0,
        "start_time": "2022-06-11T19:35:18.068Z"
      },
      {
        "duration": 44,
        "start_time": "2022-06-11T19:36:08.955Z"
      },
      {
        "duration": 4343,
        "start_time": "2022-06-11T19:36:14.471Z"
      },
      {
        "duration": 268,
        "start_time": "2022-06-11T19:36:18.816Z"
      },
      {
        "duration": 458,
        "start_time": "2022-06-11T19:36:19.086Z"
      },
      {
        "duration": 3,
        "start_time": "2022-06-11T19:36:19.546Z"
      },
      {
        "duration": 420,
        "start_time": "2022-06-11T19:36:19.550Z"
      },
      {
        "duration": 353,
        "start_time": "2022-06-11T19:36:19.972Z"
      },
      {
        "duration": 91,
        "start_time": "2022-06-11T19:36:20.327Z"
      },
      {
        "duration": 240,
        "start_time": "2022-06-11T19:36:20.420Z"
      },
      {
        "duration": 257,
        "start_time": "2022-06-11T19:36:20.662Z"
      },
      {
        "duration": 87,
        "start_time": "2022-06-11T19:36:20.922Z"
      },
      {
        "duration": 12,
        "start_time": "2022-06-11T19:36:21.011Z"
      },
      {
        "duration": 16,
        "start_time": "2022-06-11T19:36:21.025Z"
      },
      {
        "duration": 1657,
        "start_time": "2022-06-11T19:36:21.042Z"
      },
      {
        "duration": 31,
        "start_time": "2022-06-11T19:36:22.700Z"
      },
      {
        "duration": 110,
        "start_time": "2022-06-11T19:36:22.733Z"
      },
      {
        "duration": 39,
        "start_time": "2022-06-11T19:36:22.858Z"
      },
      {
        "duration": 240,
        "start_time": "2022-06-11T19:36:22.899Z"
      },
      {
        "duration": 110,
        "start_time": "2022-06-11T19:36:23.141Z"
      },
      {
        "duration": 127,
        "start_time": "2022-06-11T19:36:23.253Z"
      },
      {
        "duration": 3,
        "start_time": "2022-06-11T19:36:23.382Z"
      },
      {
        "duration": 29,
        "start_time": "2022-06-11T19:36:23.387Z"
      },
      {
        "duration": 3,
        "start_time": "2022-06-11T19:36:23.417Z"
      },
      {
        "duration": 41,
        "start_time": "2022-06-11T19:36:23.421Z"
      },
      {
        "duration": 15,
        "start_time": "2022-06-11T19:36:23.463Z"
      },
      {
        "duration": 4,
        "start_time": "2022-06-11T19:36:23.480Z"
      },
      {
        "duration": 19,
        "start_time": "2022-06-11T19:36:23.486Z"
      },
      {
        "duration": 26,
        "start_time": "2022-06-11T19:36:23.506Z"
      },
      {
        "duration": 30,
        "start_time": "2022-06-11T19:36:23.535Z"
      },
      {
        "duration": 3,
        "start_time": "2022-06-11T19:36:23.567Z"
      },
      {
        "duration": 11,
        "start_time": "2022-06-11T19:36:23.572Z"
      },
      {
        "duration": 29,
        "start_time": "2022-06-11T19:36:23.585Z"
      },
      {
        "duration": 4,
        "start_time": "2022-06-11T19:36:23.616Z"
      },
      {
        "duration": 167,
        "start_time": "2022-06-11T19:36:23.621Z"
      },
      {
        "duration": 21,
        "start_time": "2022-06-11T19:36:23.790Z"
      },
      {
        "duration": 47,
        "start_time": "2022-06-11T19:36:23.813Z"
      },
      {
        "duration": 12,
        "start_time": "2022-06-11T19:36:23.862Z"
      },
      {
        "duration": 6,
        "start_time": "2022-06-11T19:36:23.875Z"
      },
      {
        "duration": 107,
        "start_time": "2022-06-11T19:36:23.882Z"
      },
      {
        "duration": 664,
        "start_time": "2022-06-11T19:36:23.991Z"
      },
      {
        "duration": 107,
        "start_time": "2022-06-11T19:36:24.659Z"
      },
      {
        "duration": 45,
        "start_time": "2022-06-11T19:36:24.768Z"
      },
      {
        "duration": 692,
        "start_time": "2022-06-11T19:36:24.815Z"
      },
      {
        "duration": 843,
        "start_time": "2022-06-11T19:36:25.510Z"
      },
      {
        "duration": 43,
        "start_time": "2022-06-11T19:36:26.358Z"
      },
      {
        "duration": 525,
        "start_time": "2022-06-11T19:36:26.403Z"
      },
      {
        "duration": 14,
        "start_time": "2022-06-11T19:36:26.930Z"
      },
      {
        "duration": 14,
        "start_time": "2022-06-11T19:36:26.957Z"
      },
      {
        "duration": 14,
        "start_time": "2022-06-11T19:36:26.973Z"
      },
      {
        "duration": 14,
        "start_time": "2022-06-11T19:36:26.989Z"
      },
      {
        "duration": 11,
        "start_time": "2022-06-11T19:36:27.005Z"
      },
      {
        "duration": 41,
        "start_time": "2022-06-11T19:36:27.018Z"
      },
      {
        "duration": 5,
        "start_time": "2022-06-11T19:36:27.061Z"
      },
      {
        "duration": 10,
        "start_time": "2022-06-11T19:36:27.068Z"
      },
      {
        "duration": 4,
        "start_time": "2022-06-11T19:36:27.080Z"
      },
      {
        "duration": 6,
        "start_time": "2022-06-11T19:36:27.086Z"
      },
      {
        "duration": 5,
        "start_time": "2022-06-11T19:36:27.093Z"
      },
      {
        "duration": 9,
        "start_time": "2022-06-11T19:41:41.723Z"
      },
      {
        "duration": 12,
        "start_time": "2022-06-11T19:48:30.733Z"
      },
      {
        "duration": 20,
        "start_time": "2022-06-11T19:49:35.531Z"
      },
      {
        "duration": 12,
        "start_time": "2022-06-11T19:51:47.685Z"
      },
      {
        "duration": 8,
        "start_time": "2022-06-11T19:52:11.554Z"
      },
      {
        "duration": 15,
        "start_time": "2022-06-11T19:55:01.568Z"
      },
      {
        "duration": 255,
        "start_time": "2022-06-11T19:56:34.695Z"
      },
      {
        "duration": 7,
        "start_time": "2022-06-11T19:57:24.303Z"
      },
      {
        "duration": 7,
        "start_time": "2022-06-11T19:59:13.930Z"
      },
      {
        "duration": 9,
        "start_time": "2022-06-11T20:00:11.612Z"
      },
      {
        "duration": 8,
        "start_time": "2022-06-11T20:00:20.478Z"
      },
      {
        "duration": 8,
        "start_time": "2022-06-11T20:01:08.889Z"
      },
      {
        "duration": 4641,
        "start_time": "2022-06-11T20:21:06.488Z"
      },
      {
        "duration": 279,
        "start_time": "2022-06-11T20:21:11.132Z"
      },
      {
        "duration": 451,
        "start_time": "2022-06-11T20:21:11.413Z"
      },
      {
        "duration": 3,
        "start_time": "2022-06-11T20:21:11.866Z"
      },
      {
        "duration": 522,
        "start_time": "2022-06-11T20:21:11.872Z"
      },
      {
        "duration": 502,
        "start_time": "2022-06-11T20:21:12.396Z"
      },
      {
        "duration": 98,
        "start_time": "2022-06-11T20:21:12.900Z"
      },
      {
        "duration": 254,
        "start_time": "2022-06-11T20:21:12.999Z"
      },
      {
        "duration": 160,
        "start_time": "2022-06-11T20:21:13.260Z"
      },
      {
        "duration": 88,
        "start_time": "2022-06-11T20:21:13.421Z"
      },
      {
        "duration": 12,
        "start_time": "2022-06-11T20:21:13.510Z"
      },
      {
        "duration": 16,
        "start_time": "2022-06-11T20:21:13.524Z"
      },
      {
        "duration": 1670,
        "start_time": "2022-06-11T20:21:13.559Z"
      },
      {
        "duration": 41,
        "start_time": "2022-06-11T20:21:15.234Z"
      },
      {
        "duration": 116,
        "start_time": "2022-06-11T20:21:15.278Z"
      },
      {
        "duration": 43,
        "start_time": "2022-06-11T20:21:15.397Z"
      },
      {
        "duration": 236,
        "start_time": "2022-06-11T20:21:15.458Z"
      },
      {
        "duration": 117,
        "start_time": "2022-06-11T20:21:15.697Z"
      },
      {
        "duration": 144,
        "start_time": "2022-06-11T20:21:15.816Z"
      },
      {
        "duration": 3,
        "start_time": "2022-06-11T20:21:15.962Z"
      },
      {
        "duration": 29,
        "start_time": "2022-06-11T20:21:15.967Z"
      },
      {
        "duration": 4,
        "start_time": "2022-06-11T20:21:15.997Z"
      },
      {
        "duration": 23,
        "start_time": "2022-06-11T20:21:16.003Z"
      },
      {
        "duration": 37,
        "start_time": "2022-06-11T20:21:16.028Z"
      },
      {
        "duration": 6,
        "start_time": "2022-06-11T20:21:16.067Z"
      },
      {
        "duration": 28,
        "start_time": "2022-06-11T20:21:16.076Z"
      },
      {
        "duration": 13,
        "start_time": "2022-06-11T20:21:16.106Z"
      },
      {
        "duration": 52,
        "start_time": "2022-06-11T20:21:16.121Z"
      },
      {
        "duration": 4,
        "start_time": "2022-06-11T20:21:16.175Z"
      },
      {
        "duration": 11,
        "start_time": "2022-06-11T20:21:16.180Z"
      },
      {
        "duration": 66,
        "start_time": "2022-06-11T20:21:16.192Z"
      },
      {
        "duration": 5,
        "start_time": "2022-06-11T20:21:16.261Z"
      },
      {
        "duration": 167,
        "start_time": "2022-06-11T20:21:16.269Z"
      },
      {
        "duration": 33,
        "start_time": "2022-06-11T20:21:16.438Z"
      },
      {
        "duration": 44,
        "start_time": "2022-06-11T20:21:16.474Z"
      },
      {
        "duration": 14,
        "start_time": "2022-06-11T20:21:16.520Z"
      },
      {
        "duration": 30,
        "start_time": "2022-06-11T20:21:16.535Z"
      },
      {
        "duration": 111,
        "start_time": "2022-06-11T20:21:16.567Z"
      },
      {
        "duration": 686,
        "start_time": "2022-06-11T20:21:16.680Z"
      },
      {
        "duration": 113,
        "start_time": "2022-06-11T20:21:17.368Z"
      },
      {
        "duration": 49,
        "start_time": "2022-06-11T20:21:17.485Z"
      },
      {
        "duration": 816,
        "start_time": "2022-06-11T20:21:17.536Z"
      },
      {
        "duration": 766,
        "start_time": "2022-06-11T20:21:18.355Z"
      },
      {
        "duration": 55,
        "start_time": "2022-06-11T20:21:19.123Z"
      },
      {
        "duration": 538,
        "start_time": "2022-06-11T20:21:19.180Z"
      },
      {
        "duration": 15,
        "start_time": "2022-06-11T20:21:19.720Z"
      },
      {
        "duration": 9,
        "start_time": "2022-06-11T20:21:19.736Z"
      },
      {
        "duration": 16,
        "start_time": "2022-06-11T20:21:19.759Z"
      },
      {
        "duration": 11,
        "start_time": "2022-06-11T20:21:19.777Z"
      },
      {
        "duration": 8,
        "start_time": "2022-06-11T20:21:19.789Z"
      },
      {
        "duration": 16,
        "start_time": "2022-06-11T20:21:19.798Z"
      },
      {
        "duration": 300,
        "start_time": "2022-06-11T20:21:19.816Z"
      },
      {
        "duration": 8,
        "start_time": "2022-06-11T20:21:20.118Z"
      },
      {
        "duration": 8,
        "start_time": "2022-06-11T20:21:20.128Z"
      },
      {
        "duration": 8,
        "start_time": "2022-06-11T20:21:20.158Z"
      },
      {
        "duration": 8,
        "start_time": "2022-06-11T20:21:20.168Z"
      },
      {
        "duration": 5106,
        "start_time": "2022-06-12T09:43:53.976Z"
      },
      {
        "duration": 1475,
        "start_time": "2022-06-12T09:43:59.084Z"
      },
      {
        "duration": 1119,
        "start_time": "2022-06-12T09:44:00.561Z"
      },
      {
        "duration": 2,
        "start_time": "2022-06-12T09:44:01.682Z"
      },
      {
        "duration": 493,
        "start_time": "2022-06-12T09:44:01.687Z"
      },
      {
        "duration": 376,
        "start_time": "2022-06-12T09:44:02.181Z"
      },
      {
        "duration": 128,
        "start_time": "2022-06-12T09:44:02.559Z"
      },
      {
        "duration": 251,
        "start_time": "2022-06-12T09:44:02.689Z"
      },
      {
        "duration": 139,
        "start_time": "2022-06-12T09:44:02.942Z"
      },
      {
        "duration": 94,
        "start_time": "2022-06-12T09:44:03.083Z"
      },
      {
        "duration": 14,
        "start_time": "2022-06-12T09:44:03.179Z"
      },
      {
        "duration": 35,
        "start_time": "2022-06-12T09:44:03.194Z"
      },
      {
        "duration": 1317,
        "start_time": "2022-06-12T09:44:03.231Z"
      },
      {
        "duration": 127,
        "start_time": "2022-06-12T09:44:04.551Z"
      },
      {
        "duration": 95,
        "start_time": "2022-06-12T09:44:04.679Z"
      },
      {
        "duration": 48,
        "start_time": "2022-06-12T09:44:04.777Z"
      },
      {
        "duration": 238,
        "start_time": "2022-06-12T09:44:04.827Z"
      },
      {
        "duration": 123,
        "start_time": "2022-06-12T09:44:05.067Z"
      },
      {
        "duration": 133,
        "start_time": "2022-06-12T09:44:05.191Z"
      },
      {
        "duration": 2,
        "start_time": "2022-06-12T09:44:05.326Z"
      },
      {
        "duration": 35,
        "start_time": "2022-06-12T09:44:05.330Z"
      },
      {
        "duration": 2,
        "start_time": "2022-06-12T09:44:05.367Z"
      },
      {
        "duration": 25,
        "start_time": "2022-06-12T09:44:05.371Z"
      },
      {
        "duration": 34,
        "start_time": "2022-06-12T09:44:05.397Z"
      },
      {
        "duration": 9,
        "start_time": "2022-06-12T09:44:05.433Z"
      },
      {
        "duration": 25,
        "start_time": "2022-06-12T09:44:05.444Z"
      },
      {
        "duration": 28,
        "start_time": "2022-06-12T09:44:05.471Z"
      },
      {
        "duration": 31,
        "start_time": "2022-06-12T09:44:05.501Z"
      },
      {
        "duration": 5,
        "start_time": "2022-06-12T09:44:05.533Z"
      },
      {
        "duration": 12,
        "start_time": "2022-06-12T09:44:05.540Z"
      },
      {
        "duration": 28,
        "start_time": "2022-06-12T09:44:05.554Z"
      },
      {
        "duration": 4,
        "start_time": "2022-06-12T09:44:05.583Z"
      },
      {
        "duration": 154,
        "start_time": "2022-06-12T09:44:05.589Z"
      },
      {
        "duration": 22,
        "start_time": "2022-06-12T09:44:05.745Z"
      },
      {
        "duration": 34,
        "start_time": "2022-06-12T09:44:05.768Z"
      },
      {
        "duration": 28,
        "start_time": "2022-06-12T09:44:05.804Z"
      },
      {
        "duration": 7,
        "start_time": "2022-06-12T09:44:05.834Z"
      },
      {
        "duration": 109,
        "start_time": "2022-06-12T09:44:05.843Z"
      },
      {
        "duration": 677,
        "start_time": "2022-06-12T09:44:05.953Z"
      },
      {
        "duration": 110,
        "start_time": "2022-06-12T09:44:06.632Z"
      },
      {
        "duration": 45,
        "start_time": "2022-06-12T09:44:06.745Z"
      },
      {
        "duration": 716,
        "start_time": "2022-06-12T09:44:06.792Z"
      },
      {
        "duration": 775,
        "start_time": "2022-06-12T09:44:07.510Z"
      },
      {
        "duration": 57,
        "start_time": "2022-06-12T09:44:08.286Z"
      },
      {
        "duration": 506,
        "start_time": "2022-06-12T09:44:08.345Z"
      },
      {
        "duration": 17,
        "start_time": "2022-06-12T09:44:08.853Z"
      },
      {
        "duration": 9,
        "start_time": "2022-06-12T09:44:08.872Z"
      },
      {
        "duration": 41,
        "start_time": "2022-06-12T09:44:08.882Z"
      },
      {
        "duration": 13,
        "start_time": "2022-06-12T09:44:08.925Z"
      },
      {
        "duration": 12,
        "start_time": "2022-06-12T09:44:08.940Z"
      },
      {
        "duration": 20,
        "start_time": "2022-06-12T09:44:08.954Z"
      },
      {
        "duration": 278,
        "start_time": "2022-06-12T09:44:08.976Z"
      },
      {
        "duration": 8,
        "start_time": "2022-06-12T09:44:09.255Z"
      },
      {
        "duration": 17,
        "start_time": "2022-06-12T09:44:09.265Z"
      },
      {
        "duration": 12,
        "start_time": "2022-06-12T09:44:09.285Z"
      },
      {
        "duration": 26,
        "start_time": "2022-06-12T09:44:09.299Z"
      },
      {
        "duration": 13,
        "start_time": "2022-06-12T09:46:22.823Z"
      },
      {
        "duration": 9,
        "start_time": "2022-06-12T09:46:29.022Z"
      },
      {
        "duration": 14,
        "start_time": "2022-06-12T09:46:33.381Z"
      },
      {
        "duration": 7,
        "start_time": "2022-06-12T09:46:40.443Z"
      },
      {
        "duration": 15,
        "start_time": "2022-06-12T09:46:45.008Z"
      },
      {
        "duration": 348,
        "start_time": "2022-06-12T09:46:50.024Z"
      },
      {
        "duration": 7,
        "start_time": "2022-06-12T09:46:58.532Z"
      },
      {
        "duration": 7,
        "start_time": "2022-06-12T09:47:03.504Z"
      },
      {
        "duration": 7,
        "start_time": "2022-06-12T09:47:07.991Z"
      },
      {
        "duration": 8,
        "start_time": "2022-06-12T09:47:15.159Z"
      },
      {
        "duration": 6,
        "start_time": "2022-06-12T09:47:20.489Z"
      },
      {
        "duration": 4052,
        "start_time": "2022-06-12T10:13:06.604Z"
      },
      {
        "duration": 265,
        "start_time": "2022-06-12T10:13:10.659Z"
      },
      {
        "duration": 450,
        "start_time": "2022-06-12T10:13:10.926Z"
      },
      {
        "duration": 3,
        "start_time": "2022-06-12T10:13:11.378Z"
      },
      {
        "duration": 398,
        "start_time": "2022-06-12T10:13:11.382Z"
      },
      {
        "duration": 328,
        "start_time": "2022-06-12T10:13:11.781Z"
      },
      {
        "duration": 86,
        "start_time": "2022-06-12T10:13:12.111Z"
      },
      {
        "duration": 234,
        "start_time": "2022-06-12T10:13:12.198Z"
      },
      {
        "duration": 134,
        "start_time": "2022-06-12T10:13:12.433Z"
      },
      {
        "duration": 99,
        "start_time": "2022-06-12T10:13:12.571Z"
      },
      {
        "duration": 14,
        "start_time": "2022-06-12T10:13:12.672Z"
      },
      {
        "duration": 37,
        "start_time": "2022-06-12T10:13:12.687Z"
      },
      {
        "duration": 1235,
        "start_time": "2022-06-12T10:13:12.725Z"
      },
      {
        "duration": 34,
        "start_time": "2022-06-12T10:13:13.962Z"
      },
      {
        "duration": 89,
        "start_time": "2022-06-12T10:13:13.998Z"
      },
      {
        "duration": 43,
        "start_time": "2022-06-12T10:13:14.089Z"
      },
      {
        "duration": 201,
        "start_time": "2022-06-12T10:13:14.134Z"
      },
      {
        "duration": 98,
        "start_time": "2022-06-12T10:13:14.336Z"
      },
      {
        "duration": 120,
        "start_time": "2022-06-12T10:13:14.436Z"
      },
      {
        "duration": 2,
        "start_time": "2022-06-12T10:13:14.558Z"
      },
      {
        "duration": 31,
        "start_time": "2022-06-12T10:13:14.561Z"
      },
      {
        "duration": 3,
        "start_time": "2022-06-12T10:13:14.593Z"
      },
      {
        "duration": 33,
        "start_time": "2022-06-12T10:13:14.597Z"
      },
      {
        "duration": 11,
        "start_time": "2022-06-12T10:13:14.632Z"
      },
      {
        "duration": 4,
        "start_time": "2022-06-12T10:13:14.645Z"
      },
      {
        "duration": 16,
        "start_time": "2022-06-12T10:13:14.651Z"
      },
      {
        "duration": 15,
        "start_time": "2022-06-12T10:13:14.669Z"
      },
      {
        "duration": 40,
        "start_time": "2022-06-12T10:13:14.688Z"
      },
      {
        "duration": 5,
        "start_time": "2022-06-12T10:13:14.729Z"
      },
      {
        "duration": 10,
        "start_time": "2022-06-12T10:13:14.736Z"
      },
      {
        "duration": 26,
        "start_time": "2022-06-12T10:13:14.748Z"
      },
      {
        "duration": 4,
        "start_time": "2022-06-12T10:13:14.776Z"
      },
      {
        "duration": 136,
        "start_time": "2022-06-12T10:13:14.782Z"
      },
      {
        "duration": 20,
        "start_time": "2022-06-12T10:13:14.919Z"
      },
      {
        "duration": 28,
        "start_time": "2022-06-12T10:13:14.940Z"
      },
      {
        "duration": 11,
        "start_time": "2022-06-12T10:13:14.970Z"
      },
      {
        "duration": 6,
        "start_time": "2022-06-12T10:13:14.982Z"
      },
      {
        "duration": 112,
        "start_time": "2022-06-12T10:13:14.989Z"
      },
      {
        "duration": 738,
        "start_time": "2022-06-12T10:13:15.102Z"
      },
      {
        "duration": 104,
        "start_time": "2022-06-12T10:13:15.842Z"
      },
      {
        "duration": 47,
        "start_time": "2022-06-12T10:13:15.948Z"
      },
      {
        "duration": 605,
        "start_time": "2022-06-12T10:13:15.996Z"
      },
      {
        "duration": 669,
        "start_time": "2022-06-12T10:13:16.603Z"
      },
      {
        "duration": 162,
        "start_time": "2022-06-12T10:13:17.274Z"
      },
      {
        "duration": 487,
        "start_time": "2022-06-12T10:13:17.438Z"
      },
      {
        "duration": 15,
        "start_time": "2022-06-12T10:13:17.926Z"
      },
      {
        "duration": 8,
        "start_time": "2022-06-12T10:13:17.943Z"
      },
      {
        "duration": 22,
        "start_time": "2022-06-12T10:13:17.953Z"
      },
      {
        "duration": 12,
        "start_time": "2022-06-12T10:13:17.976Z"
      },
      {
        "duration": 37,
        "start_time": "2022-06-12T10:13:17.990Z"
      },
      {
        "duration": 17,
        "start_time": "2022-06-12T10:13:18.029Z"
      },
      {
        "duration": 258,
        "start_time": "2022-06-12T10:13:18.048Z"
      },
      {
        "duration": 19,
        "start_time": "2022-06-12T10:13:18.307Z"
      },
      {
        "duration": 9,
        "start_time": "2022-06-12T10:13:18.327Z"
      },
      {
        "duration": 8,
        "start_time": "2022-06-12T10:13:18.338Z"
      },
      {
        "duration": 9,
        "start_time": "2022-06-12T10:13:18.348Z"
      },
      {
        "duration": 6,
        "start_time": "2022-06-12T10:13:56.522Z"
      },
      {
        "duration": 7,
        "start_time": "2022-06-12T10:14:04.266Z"
      },
      {
        "duration": 6,
        "start_time": "2022-06-12T10:14:26.814Z"
      },
      {
        "duration": 6,
        "start_time": "2022-06-12T10:14:35.086Z"
      },
      {
        "duration": 7,
        "start_time": "2022-06-12T10:14:50.629Z"
      },
      {
        "duration": 7,
        "start_time": "2022-06-12T10:15:38.880Z"
      },
      {
        "duration": 9,
        "start_time": "2022-06-12T10:18:29.032Z"
      },
      {
        "duration": 6,
        "start_time": "2022-06-12T10:23:09.668Z"
      },
      {
        "duration": 6,
        "start_time": "2022-06-12T10:23:25.700Z"
      },
      {
        "duration": 7,
        "start_time": "2022-06-12T10:41:18.856Z"
      },
      {
        "duration": 9,
        "start_time": "2022-06-12T10:41:39.266Z"
      },
      {
        "duration": 7,
        "start_time": "2022-06-12T10:41:46.615Z"
      },
      {
        "duration": 8,
        "start_time": "2022-06-12T10:45:06.451Z"
      },
      {
        "duration": 57,
        "start_time": "2022-06-12T22:33:06.997Z"
      },
      {
        "duration": 6570,
        "start_time": "2022-06-12T22:33:13.643Z"
      },
      {
        "duration": 1520,
        "start_time": "2022-06-12T22:33:20.215Z"
      },
      {
        "duration": 1270,
        "start_time": "2022-06-12T22:33:21.736Z"
      },
      {
        "duration": 3,
        "start_time": "2022-06-12T22:33:23.008Z"
      },
      {
        "duration": 472,
        "start_time": "2022-06-12T22:33:23.012Z"
      },
      {
        "duration": 331,
        "start_time": "2022-06-12T22:33:23.486Z"
      },
      {
        "duration": 138,
        "start_time": "2022-06-12T22:33:23.818Z"
      },
      {
        "duration": 225,
        "start_time": "2022-06-12T22:33:23.957Z"
      },
      {
        "duration": 197,
        "start_time": "2022-06-12T22:33:24.184Z"
      },
      {
        "duration": 99,
        "start_time": "2022-06-12T22:33:24.383Z"
      },
      {
        "duration": 11,
        "start_time": "2022-06-12T22:33:24.484Z"
      },
      {
        "duration": 16,
        "start_time": "2022-06-12T22:33:24.496Z"
      },
      {
        "duration": 1486,
        "start_time": "2022-06-12T22:33:24.528Z"
      },
      {
        "duration": 32,
        "start_time": "2022-06-12T22:33:26.028Z"
      },
      {
        "duration": 101,
        "start_time": "2022-06-12T22:33:26.062Z"
      },
      {
        "duration": 79,
        "start_time": "2022-06-12T22:33:26.165Z"
      },
      {
        "duration": 290,
        "start_time": "2022-06-12T22:33:26.251Z"
      },
      {
        "duration": 121,
        "start_time": "2022-06-12T22:33:26.545Z"
      },
      {
        "duration": 143,
        "start_time": "2022-06-12T22:33:26.668Z"
      },
      {
        "duration": 19,
        "start_time": "2022-06-12T22:33:26.813Z"
      },
      {
        "duration": 52,
        "start_time": "2022-06-12T22:33:26.833Z"
      },
      {
        "duration": 22,
        "start_time": "2022-06-12T22:33:26.887Z"
      },
      {
        "duration": 70,
        "start_time": "2022-06-12T22:33:26.912Z"
      },
      {
        "duration": 20,
        "start_time": "2022-06-12T22:33:26.985Z"
      },
      {
        "duration": 38,
        "start_time": "2022-06-12T22:33:27.007Z"
      },
      {
        "duration": 41,
        "start_time": "2022-06-12T22:33:27.048Z"
      },
      {
        "duration": 47,
        "start_time": "2022-06-12T22:33:27.091Z"
      },
      {
        "duration": 45,
        "start_time": "2022-06-12T22:33:27.150Z"
      },
      {
        "duration": 14,
        "start_time": "2022-06-12T22:33:27.196Z"
      },
      {
        "duration": 29,
        "start_time": "2022-06-12T22:33:27.212Z"
      },
      {
        "duration": 102,
        "start_time": "2022-06-12T22:33:27.242Z"
      },
      {
        "duration": 4,
        "start_time": "2022-06-12T22:33:27.346Z"
      },
      {
        "duration": 141,
        "start_time": "2022-06-12T22:33:27.351Z"
      },
      {
        "duration": 21,
        "start_time": "2022-06-12T22:33:27.494Z"
      },
      {
        "duration": 69,
        "start_time": "2022-06-12T22:33:27.516Z"
      },
      {
        "duration": 11,
        "start_time": "2022-06-12T22:33:27.587Z"
      },
      {
        "duration": 23,
        "start_time": "2022-06-12T22:33:27.600Z"
      },
      {
        "duration": 127,
        "start_time": "2022-06-12T22:33:27.624Z"
      },
      {
        "duration": 626,
        "start_time": "2022-06-12T22:33:27.754Z"
      },
      {
        "duration": 107,
        "start_time": "2022-06-12T22:33:28.381Z"
      },
      {
        "duration": 70,
        "start_time": "2022-06-12T22:33:28.492Z"
      },
      {
        "duration": 611,
        "start_time": "2022-06-12T22:33:28.563Z"
      },
      {
        "duration": 769,
        "start_time": "2022-06-12T22:33:29.176Z"
      },
      {
        "duration": 67,
        "start_time": "2022-06-12T22:33:29.946Z"
      },
      {
        "duration": 519,
        "start_time": "2022-06-12T22:33:30.015Z"
      },
      {
        "duration": 15,
        "start_time": "2022-06-12T22:33:30.538Z"
      },
      {
        "duration": 28,
        "start_time": "2022-06-12T22:33:30.556Z"
      },
      {
        "duration": 86,
        "start_time": "2022-06-12T22:33:30.586Z"
      },
      {
        "duration": 35,
        "start_time": "2022-06-12T22:33:30.674Z"
      },
      {
        "duration": 12,
        "start_time": "2022-06-12T22:33:30.711Z"
      },
      {
        "duration": 41,
        "start_time": "2022-06-12T22:33:30.725Z"
      },
      {
        "duration": 333,
        "start_time": "2022-06-12T22:33:30.768Z"
      },
      {
        "duration": 7,
        "start_time": "2022-06-12T22:33:31.103Z"
      },
      {
        "duration": 30,
        "start_time": "2022-06-12T22:33:31.112Z"
      },
      {
        "duration": 18,
        "start_time": "2022-06-12T22:33:31.143Z"
      },
      {
        "duration": 13,
        "start_time": "2022-06-12T22:33:31.163Z"
      }
    ],
    "colab": {
      "collapsed_sections": [
        "KJsBOJPiD3kg"
      ],
      "provenance": [],
      "include_colab_link": true
    },
    "kernelspec": {
      "display_name": "Python 3 (ipykernel)",
      "language": "python",
      "name": "python3"
    },
    "language_info": {
      "codemirror_mode": {
        "name": "ipython",
        "version": 3
      },
      "file_extension": ".py",
      "mimetype": "text/x-python",
      "name": "python",
      "nbconvert_exporter": "python",
      "pygments_lexer": "ipython3",
      "version": "3.9.5"
    },
    "toc": {
      "base_numbering": 1,
      "nav_menu": {},
      "number_sections": true,
      "sideBar": true,
      "skip_h1_title": true,
      "title_cell": "Table of Contents",
      "title_sidebar": "Contents",
      "toc_cell": false,
      "toc_position": {},
      "toc_section_display": true,
      "toc_window_display": false
    }
  },
  "nbformat": 4,
  "nbformat_minor": 0
}